{
 "cells": [
  {
   "cell_type": "code",
   "execution_count": 29,
   "metadata": {
    "collapsed": false
   },
   "outputs": [],
   "source": [
    "import pandas as pd\n",
    "import numpy as np\n",
    "import cPickle\n",
    "import plotly.graph_objs as go\n",
    "import plotly.plotly as py\n",
    "fom plotly.offline import init_notebook_mode, iplot\n",
    "sign_in('johnnysand7', 'jfb78m4uw3')\n",
    "init_notebook_mode()"
   ]
  },
  {
   "cell_type": "code",
   "execution_count": 42,
   "metadata": {
    "collapsed": false
   },
   "outputs": [],
   "source": [
    "import matplotlib.pyplot as plt\n",
    "%matplotlib inline"
   ]
  },
  {
   "cell_type": "markdown",
   "metadata": {},
   "source": [
    "# `item_data` "
   ]
  },
  {
   "cell_type": "code",
   "execution_count": 3,
   "metadata": {
    "collapsed": true
   },
   "outputs": [],
   "source": [
    "item_data = pd.read_csv(\"/home/ubuntu/game_data.csv\")"
   ]
  },
  {
   "cell_type": "code",
   "execution_count": 4,
   "metadata": {
    "collapsed": false
   },
   "outputs": [],
   "source": [
    "item_data[\"price_int\"] = item_data[\"price\"].round().astype(int)"
   ]
  },
  {
   "cell_type": "code",
   "execution_count": 5,
   "metadata": {
    "collapsed": false
   },
   "outputs": [],
   "source": [
    "with open(\"game_reviews.json\") as f:\n",
    "    game_reviews = f.readlines()\n",
    "game_reviews = map(lambda x: x.strip(), game_reviews)\n",
    "game_reviews = \"[\" + ','.join(game_reviews) + \"]\"\n",
    "reviews_df = pd.read_json(game_reviews)\n",
    "del reviews_df[\"_id\"]\n",
    "reviews_df.rename(columns={\"review\":\"community_review\"}, inplace=True)\n",
    "reviews_add = pd.merge(item_data, reviews_df, on=\"appid\")"
   ]
  },
  {
   "cell_type": "code",
   "execution_count": 6,
   "metadata": {
    "collapsed": false
   },
   "outputs": [
    {
     "data": {
      "text/html": [
       "<div>\n",
       "<table border=\"1\" class=\"dataframe\">\n",
       "  <thead>\n",
       "    <tr style=\"text-align: right;\">\n",
       "      <th></th>\n",
       "      <th>appid</th>\n",
       "      <th>community_review</th>\n",
       "    </tr>\n",
       "  </thead>\n",
       "  <tbody>\n",
       "    <tr>\n",
       "      <th>0</th>\n",
       "      <td>200710</td>\n",
       "      <td>95</td>\n",
       "    </tr>\n",
       "    <tr>\n",
       "      <th>1</th>\n",
       "      <td>71340</td>\n",
       "      <td>93</td>\n",
       "    </tr>\n",
       "    <tr>\n",
       "      <th>2</th>\n",
       "      <td>10</td>\n",
       "      <td>97</td>\n",
       "    </tr>\n",
       "    <tr>\n",
       "      <th>3</th>\n",
       "      <td>219150</td>\n",
       "      <td>97</td>\n",
       "    </tr>\n",
       "    <tr>\n",
       "      <th>4</th>\n",
       "      <td>20</td>\n",
       "      <td>84</td>\n",
       "    </tr>\n",
       "  </tbody>\n",
       "</table>\n",
       "</div>"
      ],
      "text/plain": [
       "    appid  community_review\n",
       "0  200710                95\n",
       "1   71340                93\n",
       "2      10                97\n",
       "3  219150                97\n",
       "4      20                84"
      ]
     },
     "execution_count": 6,
     "metadata": {},
     "output_type": "execute_result"
    }
   ],
   "source": [
    "reviews_df.head()"
   ]
  },
  {
   "cell_type": "code",
   "execution_count": 40,
   "metadata": {
    "collapsed": false
   },
   "outputs": [],
   "source": [
    "with open(\"meta_reviews.json\") as f:\n",
    "    meta_reviews = f.readlines()\n",
    "meta_reviews = map(lambda x: x.strip(), meta_reviews)\n",
    "meta_reviews = \"[\" + ','.join(meta_reviews) + \"]\"\n",
    "meta_df = pd.read_json(meta_reviews)\n",
    "del meta_df[\"_id\"]\n",
    "meta_df.rename(columns={\"review\":\"meta_review\"}, inplace=True)\n",
    "reviews_add = reviews_add.merge(meta_df, on=\"appid\")\n",
    "del reviews_add[\"Unnamed: 0\"]"
   ]
  },
  {
   "cell_type": "code",
   "execution_count": 8,
   "metadata": {
    "collapsed": false
   },
   "outputs": [],
   "source": [
    "reviews_add.to_csv(\"item_data_community_meta_reviews\")"
   ]
  },
  {
   "cell_type": "markdown",
   "metadata": {},
   "source": [
    "Example of some of the scraped review data looks like"
   ]
  },
  {
   "cell_type": "code",
   "execution_count": 41,
   "metadata": {
    "collapsed": false
   },
   "outputs": [
    {
     "data": {
      "text/html": [
       "<div>\n",
       "<table border=\"1\" class=\"dataframe\">\n",
       "  <thead>\n",
       "    <tr style=\"text-align: right;\">\n",
       "      <th></th>\n",
       "      <th>appid</th>\n",
       "      <th>genre</th>\n",
       "      <th>price</th>\n",
       "      <th>release_year</th>\n",
       "      <th>reviews</th>\n",
       "      <th>game_age</th>\n",
       "      <th>review_nums</th>\n",
       "      <th>price_int</th>\n",
       "      <th>item_id</th>\n",
       "      <th>community_review</th>\n",
       "      <th>meta_review_x</th>\n",
       "      <th>meta_review_y</th>\n",
       "      <th>meta_review</th>\n",
       "    </tr>\n",
       "  </thead>\n",
       "  <tbody>\n",
       "    <tr>\n",
       "      <th>0</th>\n",
       "      <td>7830</td>\n",
       "      <td>Strategy</td>\n",
       "      <td>4.99</td>\n",
       "      <td>2009</td>\n",
       "      <td>Very Positive</td>\n",
       "      <td>7</td>\n",
       "      <td>7</td>\n",
       "      <td>5</td>\n",
       "      <td>7830</td>\n",
       "      <td>87</td>\n",
       "      <td>80</td>\n",
       "      <td>80</td>\n",
       "      <td>80</td>\n",
       "    </tr>\n",
       "    <tr>\n",
       "      <th>1</th>\n",
       "      <td>97330</td>\n",
       "      <td>Strategy</td>\n",
       "      <td>9.99</td>\n",
       "      <td>2012</td>\n",
       "      <td>Very Positive</td>\n",
       "      <td>4</td>\n",
       "      <td>7</td>\n",
       "      <td>10</td>\n",
       "      <td>97330</td>\n",
       "      <td>89</td>\n",
       "      <td>77</td>\n",
       "      <td>77</td>\n",
       "      <td>77</td>\n",
       "    </tr>\n",
       "    <tr>\n",
       "      <th>2</th>\n",
       "      <td>108710</td>\n",
       "      <td>Action</td>\n",
       "      <td>29.99</td>\n",
       "      <td>2012</td>\n",
       "      <td>Very Positive</td>\n",
       "      <td>4</td>\n",
       "      <td>7</td>\n",
       "      <td>30</td>\n",
       "      <td>108710</td>\n",
       "      <td>91</td>\n",
       "      <td>83</td>\n",
       "      <td>83</td>\n",
       "      <td>83</td>\n",
       "    </tr>\n",
       "    <tr>\n",
       "      <th>3</th>\n",
       "      <td>209000</td>\n",
       "      <td>Action</td>\n",
       "      <td>19.99</td>\n",
       "      <td>2013</td>\n",
       "      <td>Very Positive</td>\n",
       "      <td>3</td>\n",
       "      <td>7</td>\n",
       "      <td>20</td>\n",
       "      <td>209000</td>\n",
       "      <td>85</td>\n",
       "      <td>74</td>\n",
       "      <td>74</td>\n",
       "      <td>74</td>\n",
       "    </tr>\n",
       "    <tr>\n",
       "      <th>4</th>\n",
       "      <td>72850</td>\n",
       "      <td>RPG</td>\n",
       "      <td>19.99</td>\n",
       "      <td>2011</td>\n",
       "      <td>Very Positive</td>\n",
       "      <td>5</td>\n",
       "      <td>7</td>\n",
       "      <td>20</td>\n",
       "      <td>72850</td>\n",
       "      <td>92</td>\n",
       "      <td>94</td>\n",
       "      <td>94</td>\n",
       "      <td>94</td>\n",
       "    </tr>\n",
       "  </tbody>\n",
       "</table>\n",
       "</div>"
      ],
      "text/plain": [
       "    appid     genre  price  release_year        reviews  game_age  \\\n",
       "0    7830  Strategy   4.99          2009  Very Positive         7   \n",
       "1   97330  Strategy   9.99          2012  Very Positive         4   \n",
       "2  108710    Action  29.99          2012  Very Positive         4   \n",
       "3  209000    Action  19.99          2013  Very Positive         3   \n",
       "4   72850       RPG  19.99          2011  Very Positive         5   \n",
       "\n",
       "   review_nums  price_int  item_id  community_review  meta_review_x  \\\n",
       "0            7          5     7830                87             80   \n",
       "1            7         10    97330                89             77   \n",
       "2            7         30   108710                91             83   \n",
       "3            7         20   209000                85             74   \n",
       "4            7         20    72850                92             94   \n",
       "\n",
       "   meta_review_y  meta_review  \n",
       "0             80           80  \n",
       "1             77           77  \n",
       "2             83           83  \n",
       "3             74           74  \n",
       "4             94           94  "
      ]
     },
     "execution_count": 41,
     "metadata": {},
     "output_type": "execute_result"
    }
   ],
   "source": [
    "reviews_add.head()"
   ]
  },
  {
   "cell_type": "markdown",
   "metadata": {},
   "source": [
    "# user-item pairs"
   ]
  },
  {
   "cell_type": "code",
   "execution_count": 10,
   "metadata": {
    "collapsed": true
   },
   "outputs": [],
   "source": [
    "user_items = pd.read_csv(\"/home/ubuntu/final_sf.csv\")"
   ]
  },
  {
   "cell_type": "markdown",
   "metadata": {},
   "source": [
    "Bin playtime to get an explicit rating"
   ]
  },
  {
   "cell_type": "code",
   "execution_count": 11,
   "metadata": {
    "collapsed": true
   },
   "outputs": [],
   "source": [
    "user_items[\"rating\"] = pd.cut(user_items[\"playtime_forever\"],\\\n",
    "                                          bins=[-1, 60, 120, 180, 240, 300, 10e10], \\\n",
    "                                          labels=[0,1,2,3,4,5])"
   ]
  },
  {
   "cell_type": "code",
   "execution_count": 12,
   "metadata": {
    "collapsed": true
   },
   "outputs": [],
   "source": [
    "user_items[\"rating\"] = user_items[\"rating\"].astype(int)"
   ]
  },
  {
   "cell_type": "code",
   "execution_count": 13,
   "metadata": {
    "collapsed": true
   },
   "outputs": [],
   "source": [
    "def check_reviews(df, apps):\n",
    "    game_dict = {\"appid\":[], \"review\":[]}\n",
    "    for app in apps:\n",
    "        summed_reviews = df[df[\"appid\"]==app][\"rating\"].sum()\n",
    "        number_played = float((df[df[\"appid\"]==app][\"rating\"]!=0).sum())\n",
    "        out_of_10 = (summed_reviews / number_played) / 5\n",
    "        game_dict[\"appid\"].append(app)\n",
    "        game_dict[\"review\"].append(out_of_10)\n",
    "    output_df = pd.DataFrame(game_dict)\n",
    "    return  output_df"
   ]
  },
  {
   "cell_type": "code",
   "execution_count": 14,
   "metadata": {
    "collapsed": false
   },
   "outputs": [],
   "source": [
    "my_reviews = check_reviews(user_items, item_data.appid.tolist())"
   ]
  },
  {
   "cell_type": "code",
   "execution_count": 17,
   "metadata": {
    "collapsed": false
   },
   "outputs": [],
   "source": [
    "my_reviews = my_reviews.sort_values(by=\"appid\")\n",
    "my_reviews.reset_index(inplace=True, drop=True)\n",
    "my_reviews.review = my_reviews.review * 100"
   ]
  },
  {
   "cell_type": "code",
   "execution_count": 20,
   "metadata": {
    "collapsed": false
   },
   "outputs": [],
   "source": [
    "review_data = pd.read_csv(\"item_data_community_meta_reviews\")\n",
    "del review_data[\"Unnamed: 0\"]\n",
    "del review_data[\"Unnamed: 0.1\"]"
   ]
  },
  {
   "cell_type": "code",
   "execution_count": 21,
   "metadata": {
    "collapsed": true
   },
   "outputs": [],
   "source": [
    "review_data = review_data.sort_values(by=\"appid\")\n",
    "review_data.reset_index(drop=True, inplace=True)\n",
    "review_data = review_data.merge(my_reviews, on=\"appid\")"
   ]
  },
  {
   "cell_type": "markdown",
   "metadata": {},
   "source": [
    "See how the playtime rating fairs when compared to the community reviews and metacritic reviews"
   ]
  },
  {
   "cell_type": "code",
   "execution_count": 34,
   "metadata": {
    "collapsed": false
   },
   "outputs": [],
   "source": [
    "review_data.sort_values(by=\"review\", inplace=True)\n",
    "review_data.reset_index(drop=True, inplace=True)"
   ]
  },
  {
   "cell_type": "code",
   "execution_count": 35,
   "metadata": {
    "collapsed": false,
    "scrolled": true
   },
   "outputs": [
    {
     "data": {
      "text/html": [
       "<iframe id=\"igraph\" scrolling=\"no\" style=\"border:none;\" seamless=\"seamless\" src=\"https://plot.ly/~johnnysand7/44.embed\" height=\"525px\" width=\"100%\"></iframe>"
      ],
      "text/plain": [
       "<plotly.tools.PlotlyDisplay object>"
      ]
     },
     "execution_count": 35,
     "metadata": {},
     "output_type": "execute_result"
    }
   ],
   "source": [
    "trace0 = go.Scatter(\n",
    "    x = review_data.index,\n",
    "    y = review_data.community_review,\n",
    "    mode = 'lines',\n",
    "    name = 'Community',\n",
    "    line = dict(\n",
    "    #    color = ('rgb(45, 142, 207, 0.4)'),\n",
    "        width = 2),\n",
    "    opacity=0.7\n",
    ")\n",
    "trace2 = go.Scatter(\n",
    "    x = review_data.index,\n",
    "    y = review_data.meta_review,\n",
    "    mode = 'lines',\n",
    "    name = 'Metacritic',\n",
    "    line = dict(\n",
    "    #    color = ('rgb(10, 173, 32, 0.4)'),\n",
    "        width = 2),\n",
    "    opacity=0.7\n",
    ")\n",
    "trace1 = go.Scatter(\n",
    "    x = review_data.index,\n",
    "    y = review_data.review,\n",
    "    mode = 'lines',\n",
    "    name = 'Playtime',\n",
    "    line = dict(\n",
    "    #    color = ('rgb(194, 176, 39, 0.4)'),\n",
    "        width = 2),\n",
    "    opacity=0.7\n",
    ")\n",
    "data = [trace0, trace1, trace2]\n",
    "\n",
    "# Plot and embed in ipython notebook!\n",
    "py.iplot(data)"
   ]
  },
  {
   "cell_type": "code",
   "execution_count": 42,
   "metadata": {
    "collapsed": true
   },
   "outputs": [],
   "source": [
    "community_reviews = reviews_add[[\"appid\", \"community_review\", \"meta_review\"]]"
   ]
  },
  {
   "cell_type": "code",
   "execution_count": 43,
   "metadata": {
    "collapsed": false
   },
   "outputs": [
    {
     "data": {
      "text/html": [
       "<div>\n",
       "<table border=\"1\" class=\"dataframe\">\n",
       "  <thead>\n",
       "    <tr style=\"text-align: right;\">\n",
       "      <th></th>\n",
       "      <th>appid</th>\n",
       "      <th>community_review</th>\n",
       "      <th>meta_review</th>\n",
       "    </tr>\n",
       "  </thead>\n",
       "  <tbody>\n",
       "    <tr>\n",
       "      <th>0</th>\n",
       "      <td>7830</td>\n",
       "      <td>87</td>\n",
       "      <td>80</td>\n",
       "    </tr>\n",
       "    <tr>\n",
       "      <th>1</th>\n",
       "      <td>97330</td>\n",
       "      <td>89</td>\n",
       "      <td>77</td>\n",
       "    </tr>\n",
       "    <tr>\n",
       "      <th>2</th>\n",
       "      <td>108710</td>\n",
       "      <td>91</td>\n",
       "      <td>83</td>\n",
       "    </tr>\n",
       "    <tr>\n",
       "      <th>3</th>\n",
       "      <td>209000</td>\n",
       "      <td>85</td>\n",
       "      <td>74</td>\n",
       "    </tr>\n",
       "    <tr>\n",
       "      <th>4</th>\n",
       "      <td>72850</td>\n",
       "      <td>92</td>\n",
       "      <td>94</td>\n",
       "    </tr>\n",
       "  </tbody>\n",
       "</table>\n",
       "</div>"
      ],
      "text/plain": [
       "    appid  community_review  meta_review\n",
       "0    7830                87           80\n",
       "1   97330                89           77\n",
       "2  108710                91           83\n",
       "3  209000                85           74\n",
       "4   72850                92           94"
      ]
     },
     "execution_count": 43,
     "metadata": {},
     "output_type": "execute_result"
    }
   ],
   "source": [
    "community_reviews.head()"
   ]
  },
  {
   "cell_type": "code",
   "execution_count": 44,
   "metadata": {
    "collapsed": false
   },
   "outputs": [],
   "source": [
    "sorted_community = community_reviews.sort_values(by=\"appid\")#.reset_index(inplace=True, drop=True)\n",
    "sorted_community.reset_index(inplace=True, drop=True)"
   ]
  },
  {
   "cell_type": "code",
   "execution_count": 45,
   "metadata": {
    "collapsed": false
   },
   "outputs": [],
   "source": [
    "my_review_community_review = pd.merge(reviews_add, my_reviews, on=\"appid\")"
   ]
  },
  {
   "cell_type": "code",
   "execution_count": 61,
   "metadata": {
    "collapsed": false
   },
   "outputs": [
    {
     "data": {
      "text/plain": [
       "15"
      ]
     },
     "execution_count": 61,
     "metadata": {},
     "output_type": "execute_result"
    }
   ],
   "source": [
    "by_genre = my_review_community_review.groupby(\"genre\").mean()\n",
    "len(by_genre)"
   ]
  },
  {
   "cell_type": "code",
   "execution_count": 48,
   "metadata": {
    "collapsed": false
   },
   "outputs": [
    {
     "data": {
      "text/plain": [
       "Index([u'Accounting', u'Action', u'Adventure', u'Animation', u'Casual',\n",
       "       u'Design', u'Free', u'Indie', u'Massively', u'RPG', u'Racing',\n",
       "       u'Simulation', u'Sports', u'Strategy', u'Utilities'],\n",
       "      dtype='object', name=u'genre')"
      ]
     },
     "execution_count": 48,
     "metadata": {},
     "output_type": "execute_result"
    }
   ],
   "source": [
    "by_genre.index"
   ]
  },
  {
   "cell_type": "code",
   "execution_count": 66,
   "metadata": {
    "collapsed": false
   },
   "outputs": [
    {
     "data": {
      "text/plain": [
       "genre\n",
       "Action        78.352891\n",
       "Adventure     77.031587\n",
       "Casual        73.985498\n",
       "Free          77.366046\n",
       "Indie         79.443063\n",
       "Massively     91.617987\n",
       "RPG           82.802510\n",
       "Racing        74.101745\n",
       "Simulation    81.443826\n",
       "Sports        86.357967\n",
       "Strategy      81.648482\n",
       "Name: review, dtype: float64"
      ]
     },
     "execution_count": 66,
     "metadata": {},
     "output_type": "execute_result"
    }
   ],
   "source": [
    "by_genre[by_genre.index.isin(genres)].review"
   ]
  },
  {
   "cell_type": "code",
   "execution_count": 62,
   "metadata": {
    "collapsed": false
   },
   "outputs": [],
   "source": [
    "genres = set(by_genre.index.tolist()) - set([\"Accounting\", \"Design\", \"Utilities\", \"Animation\"])"
   ]
  },
  {
   "cell_type": "code",
   "execution_count": 67,
   "metadata": {
    "collapsed": false
   },
   "outputs": [
    {
     "data": {
      "text/html": [
       "<iframe id=\"igraph\" scrolling=\"no\" style=\"border:none;\" seamless=\"seamless\" src=\"https://plot.ly/~johnnysand7/52.embed\" height=\"525px\" width=\"100%\"></iframe>"
      ],
      "text/plain": [
       "<plotly.tools.PlotlyDisplay object>"
      ]
     },
     "execution_count": 67,
     "metadata": {},
     "output_type": "execute_result"
    }
   ],
   "source": [
    "trace1 = go.Bar(\n",
    "    x=by_genre[by_genre.index.isin(genres)].index,\n",
    "    y=by_genre[by_genre.index.isin(genres)].community_review,\n",
    "    name=\"Community\"\n",
    ")\n",
    "trace2 = go.Bar(\n",
    "    x=by_genre[by_genre.index.isin(genres)].index,\n",
    "    y=by_genre[by_genre.index.isin(genres)].review,\n",
    "    name=\"Playtime\"\n",
    ")\n",
    "trace3 = go.Bar(\n",
    "    x=by_genre[by_genre.index.isin(genres)].index,\n",
    "    y=by_genre[by_genre.index.isin(genres)].meta_review,\n",
    "    name=\"Metacritic\"\n",
    ")\n",
    "data = [trace1, trace2, trace3]\n",
    "layout = go.Layout(\n",
    "    barmode='group'\n",
    ")\n",
    "fig = go.Figure(data=data, layout=layout)\n",
    "py.iplot(fig)#, filename = 'Ratings') # will plot inline\n",
    "#plot_url = py.plot(fig, filename='grouped-bar')"
   ]
  },
  {
   "cell_type": "markdown",
   "metadata": {},
   "source": [
    "# Genres by Country?"
   ]
  },
  {
   "cell_type": "markdown",
   "metadata": {},
   "source": [
    "Top countries: US, CA, GB, UA, DE"
   ]
  },
  {
   "cell_type": "code",
   "execution_count": null,
   "metadata": {
    "collapsed": true
   },
   "outputs": [],
   "source": [
    "with open(\"user_df.p\", \"rb\") as f:\n",
    "    user_data_df = cPickle.load(f)"
   ]
  },
  {
   "cell_type": "code",
   "execution_count": 79,
   "metadata": {
    "collapsed": false
   },
   "outputs": [],
   "source": [
    "countries = user_data_df[user_data_df[\"loccountrycode\"].isin([\"US\",\"CA\",\"GB\",\"AU\",\"DE\"])]\n",
    "country_ids = countries.steamid.unique()\n",
    "country_user_items = user_items[user_items[\"steamid\"].isin(country_ids)]\n",
    "country_user_items = country_user_items.merge(countries[[\"steamid\", \"loccountrycode\"]], on=\"steamid\")\n",
    "country_user_items = country_user_items.merge(item_data[[\"appid\",\"genre\"]], on=\"appid\")"
   ]
  },
  {
   "cell_type": "code",
   "execution_count": 84,
   "metadata": {
    "collapsed": false
   },
   "outputs": [
    {
     "data": {
      "text/plain": [
       "Action        1983659\n",
       "Strategy       192073\n",
       "Indie          144213\n",
       "RPG            142660\n",
       "Adventure      124047\n",
       "Casual          67327\n",
       "Free            42607\n",
       "Simulation      34379\n",
       "Racing          24277\n",
       "Massively        5833\n",
       "Animation        5067\n",
       "Sports           4275\n",
       "Design           2410\n",
       "Utilities        1921\n",
       "Accounting       1251\n",
       "Name: genre, dtype: int64"
      ]
     },
     "execution_count": 84,
     "metadata": {},
     "output_type": "execute_result"
    }
   ],
   "source": [
    "country_user_items.genre.value_counts()"
   ]
  },
  {
   "cell_type": "markdown",
   "metadata": {},
   "source": [
    "top genres: Action, Strategy, Indie, RPG, Adventure"
   ]
  },
  {
   "cell_type": "code",
   "execution_count": 85,
   "metadata": {
    "collapsed": false
   },
   "outputs": [],
   "source": [
    "country_user_items = country_user_items[country_user_items[\"genre\"].isin([\"Action\", \"Strategy\",\"Indie\",\"RPG\",\"Adventure\"])]"
   ]
  },
  {
   "cell_type": "code",
   "execution_count": 86,
   "metadata": {
    "collapsed": false
   },
   "outputs": [
    {
     "data": {
      "text/plain": [
       "loccountrycode  genre    \n",
       "AU              Action        2476474\n",
       "                Adventure       49305\n",
       "                Indie          248945\n",
       "                RPG            101076\n",
       "                Strategy        92322\n",
       "CA              Action        6824567\n",
       "                Adventure      145445\n",
       "                Indie          453509\n",
       "                RPG            292676\n",
       "                Strategy       268900\n",
       "DE              Action        1622854\n",
       "                Adventure       14343\n",
       "                Indie          101094\n",
       "                RPG             50252\n",
       "                Strategy        34148\n",
       "GB              Action        3490895\n",
       "                Adventure       90473\n",
       "                Indie          260732\n",
       "                RPG            212926\n",
       "                Strategy       202000\n",
       "US              Action       33771906\n",
       "                Adventure      733657\n",
       "                Indie         2830545\n",
       "                RPG           1714682\n",
       "                Strategy      1416267\n",
       "Name: playtime_2weeks, dtype: float64"
      ]
     },
     "execution_count": 86,
     "metadata": {},
     "output_type": "execute_result"
    }
   ],
   "source": [
    "country_user_items.groupby([\"loccountrycode\", \"genre\"]).sum()[\"playtime_2weeks\"]"
   ]
  },
  {
   "cell_type": "code",
   "execution_count": 104,
   "metadata": {
    "collapsed": false
   },
   "outputs": [
    {
     "data": {
      "text/html": [
       "<div>\n",
       "<table border=\"1\" class=\"dataframe\">\n",
       "  <thead>\n",
       "    <tr style=\"text-align: right;\">\n",
       "      <th></th>\n",
       "      <th>appid</th>\n",
       "      <th>playtime_2weeks</th>\n",
       "      <th>playtime_forever</th>\n",
       "      <th>steamid</th>\n",
       "      <th>rating</th>\n",
       "    </tr>\n",
       "    <tr>\n",
       "      <th>loccountrycode</th>\n",
       "      <th></th>\n",
       "      <th></th>\n",
       "      <th></th>\n",
       "      <th></th>\n",
       "      <th></th>\n",
       "    </tr>\n",
       "  </thead>\n",
       "  <tbody>\n",
       "    <tr>\n",
       "      <th>AU</th>\n",
       "      <td>2.040566e+10</td>\n",
       "      <td>4218704</td>\n",
       "      <td>417915674</td>\n",
       "      <td>1.274798e+22</td>\n",
       "      <td>407642</td>\n",
       "    </tr>\n",
       "    <tr>\n",
       "      <th>CA</th>\n",
       "      <td>5.620635e+10</td>\n",
       "      <td>11617192</td>\n",
       "      <td>1238122597</td>\n",
       "      <td>3.586839e+22</td>\n",
       "      <td>1159313</td>\n",
       "    </tr>\n",
       "    <tr>\n",
       "      <th>DE</th>\n",
       "      <td>1.142330e+10</td>\n",
       "      <td>2644792</td>\n",
       "      <td>253277564</td>\n",
       "      <td>7.019513e+21</td>\n",
       "      <td>230962</td>\n",
       "    </tr>\n",
       "    <tr>\n",
       "      <th>GB</th>\n",
       "      <td>3.571059e+10</td>\n",
       "      <td>6095185</td>\n",
       "      <td>615617301</td>\n",
       "      <td>2.302425e+22</td>\n",
       "      <td>732901</td>\n",
       "    </tr>\n",
       "    <tr>\n",
       "      <th>US</th>\n",
       "      <td>3.266756e+11</td>\n",
       "      <td>59022497</td>\n",
       "      <td>6814759325</td>\n",
       "      <td>2.115281e+23</td>\n",
       "      <td>6779071</td>\n",
       "    </tr>\n",
       "  </tbody>\n",
       "</table>\n",
       "</div>"
      ],
      "text/plain": [
       "                       appid  playtime_2weeks  playtime_forever       steamid  \\\n",
       "loccountrycode                                                                  \n",
       "AU              2.040566e+10          4218704         417915674  1.274798e+22   \n",
       "CA              5.620635e+10         11617192        1238122597  3.586839e+22   \n",
       "DE              1.142330e+10          2644792         253277564  7.019513e+21   \n",
       "GB              3.571059e+10          6095185         615617301  2.302425e+22   \n",
       "US              3.266756e+11         59022497        6814759325  2.115281e+23   \n",
       "\n",
       "                 rating  \n",
       "loccountrycode           \n",
       "AU               407642  \n",
       "CA              1159313  \n",
       "DE               230962  \n",
       "GB               732901  \n",
       "US              6779071  "
      ]
     },
     "execution_count": 104,
     "metadata": {},
     "output_type": "execute_result"
    }
   ],
   "source": [
    "country_user_items.groupby([\"loccountrycode\"]).sum()"
   ]
  },
  {
   "cell_type": "markdown",
   "metadata": {
    "collapsed": false
   },
   "source": [
    "Look at these top five countries and the top five genre playtime, creating:"
   ]
  },
  {
   "cell_type": "code",
   "execution_count": 87,
   "metadata": {
    "collapsed": false
   },
   "outputs": [
    {
     "data": {
      "text/html": [
       "<iframe id=\"igraph\" scrolling=\"no\" style=\"border:none;\" seamless=\"seamless\" src=\"https://plot.ly/~johnnysand7/18.embed\" height=\"600px\" width=\"600px\"></iframe>"
      ],
      "text/plain": [
       "<plotly.tools.PlotlyDisplay object>"
      ]
     },
     "execution_count": 87,
     "metadata": {},
     "output_type": "execute_result"
    }
   ],
   "source": [
    "top_labels = [\"Action\", \"Adventure\", \"Indie\", \"RPG\",\n",
    "              \"Strategy\"]\n",
    "\n",
    "colors = ['rgba(178, 25, 45, .9)',\n",
    "          'rgba(25, 122, 178, .9)', \n",
    "          'rgba(56, 200, 37, .9)',\n",
    "          'rgba(113, 37, 200, .9)',\n",
    "          'rgba(93, 32, 20, .9)']\n",
    "\n",
    "x_data = [[83, 2, 7, 4, 4],\n",
    "          [86, 2, 6, 3, 3],\n",
    "          [82, 2, 6, 5, 5],\n",
    "          [83, 2, 8, 3, 4],\n",
    "          [89, 1, 6, 2, 2]]\n",
    "\n",
    "y_data = ['United states',\n",
    "          'Canada',\n",
    "          'Great Britain',\n",
    "          'Australia',\n",
    "          'Germany']\n",
    "\n",
    "\n",
    "traces = []\n",
    "\n",
    "for i in range(0, len(x_data[0])):\n",
    "    for xd, yd in zip(x_data, y_data):\n",
    "        traces.append(go.Bar(\n",
    "            x=xd[i],\n",
    "            y=yd,\n",
    "            orientation='h',\n",
    "            marker=dict(\n",
    "                color=colors[i],\n",
    "                line=dict(\n",
    "                        color='rgb(248, 248, 249)',\n",
    "                        width=1,\n",
    "                )\n",
    "            )\n",
    "        ))\n",
    "\n",
    "layout = go.Layout(\n",
    "    xaxis=dict(\n",
    "        showgrid=False,\n",
    "        showline=False,\n",
    "        showticklabels=False,\n",
    "        zeroline=False,\n",
    "        domain=[0.15, 1]\n",
    "    ),\n",
    "    yaxis=dict(\n",
    "        showgrid=False,\n",
    "        showline=False,\n",
    "        showticklabels=False,\n",
    "        zeroline=False,\n",
    "    ),\n",
    "    barmode='stack',\n",
    "    height=600,\n",
    "    width=600,\n",
    "    paper_bgcolor='rgb(248, 248, 255)',\n",
    "    plot_bgcolor='rgb(248, 248, 255)',\n",
    "    margin=dict(\n",
    "        l=120,\n",
    "        r=10,\n",
    "        t=140,\n",
    "        b=80\n",
    "    ),\n",
    "    showlegend=False,\n",
    ")\n",
    "\n",
    "annotations = []\n",
    "\n",
    "for yd, xd in zip(y_data, x_data):\n",
    "    # labeling the y-axis\n",
    "    annotations.append(dict(xref='paper', yref='y', x=0.14, y=yd,\n",
    "                                  xanchor='right', text=str(yd),\n",
    "                                  font=dict(family='Arial', size=14,\n",
    "                                            color='rgb(67, 67, 67)'),\n",
    "                                  showarrow=False, align='right'))\n",
    "    # labeling the first percentage of each bar (x_axis)\n",
    "    annotations.append(dict(xref='x', yref='y', x=(xd[0] / 2), y=yd,\n",
    "                                  text=str(xd[0]) + '%',\n",
    "                                  font=dict(family='Arial', size=14,\n",
    "                                            color='rgb(248, 248, 255)'),\n",
    "                                  showarrow=False))\n",
    "    # labeling the first Likert scale (on the top)\n",
    "    if yd == y_data[-1]:\n",
    "        annotations.append(dict(xref='x', yref='paper', x=(xd[0] / 2),\n",
    "                                      y=1.1, text=top_labels[0],\n",
    "                                      font=dict(family='Arial', size=14,\n",
    "                                      color='rgb(67, 67, 67)'),\n",
    "                                      showarrow=False))\n",
    "    space = xd[0]\n",
    "    for i in range(1, len(xd)):\n",
    "            # labeling the rest of percentages for each bar (x_axis)\n",
    "            annotations.append(dict(xref='x', yref='y', x=space\n",
    "                                          + (xd[i] / 2), y=yd,\n",
    "                                          text=str(xd[i]) + '%',\n",
    "                                          font=dict(family='Arial', size=14,\n",
    "                                                    color='rgb(248, 248, 255)'),\n",
    "                                          showarrow=False))\n",
    "            # labeling the Likert scale\n",
    "            if yd == y_data[-1]:\n",
    "                annotations.append(dict(xref='x', yref='paper', x=space +\n",
    "                                              (xd[i] / 2), y=1.1,\n",
    "                                              text=top_labels[i],\n",
    "                                              font=dict(family='Arial', size=14,\n",
    "                                                        color='rgb(67, 67, 67)'),\n",
    "                                              showarrow=False))\n",
    "            space += xd[i]\n",
    "\n",
    "layout['annotations'] = annotations\n",
    "\n",
    "fig = go.Figure(data=traces, layout=layout)\n",
    "\n",
    "#plot_url = py.plot(fig, filename='bar-colorscale')\n",
    "#fig = go.Figure(data=data, layout=layout)\n",
    "py.iplot(fig, filename = 'PlaytimeCountries') # will plot inline\n",
    "#plot_url = py.plot(fig, filename='grouped-bar')"
   ]
  },
  {
   "cell_type": "markdown",
   "metadata": {},
   "source": [
    "# `user_data`"
   ]
  },
  {
   "cell_type": "code",
   "execution_count": 93,
   "metadata": {
    "collapsed": true
   },
   "outputs": [],
   "source": [
    "with open(\"/home/ubuntu/banned_df.p\", \"rb\") as f:\n",
    "    banned_users_df = cPickle.load(f)\n",
    "del banned_users_df[\"ban_status\"]\n",
    "del banned_users_df[\"user_info\"]"
   ]
  },
  {
   "cell_type": "code",
   "execution_count": 94,
   "metadata": {
    "collapsed": true
   },
   "outputs": [],
   "source": [
    "with open(\"/home/ubuntu/user_df.p\", \"rb\") as f:\n",
    "    users_info_df = cPickle.load(f)"
   ]
  },
  {
   "cell_type": "code",
   "execution_count": 95,
   "metadata": {
    "collapsed": false
   },
   "outputs": [],
   "source": [
    "users_info_df = users_info_df[[\"lastlogoff\", \"loccountrycode\", \"locstatecode\",\\\n",
    "                               \"personaname\", \"personastate\", \"profilestate\",\\\n",
    "                              \"timecreated\"]]\n",
    "users_info_df.reset_index(inplace=True)\n",
    "users_info_df.rename(columns={\"index\":\"steamid\"}, inplace=True)\n",
    "user_data_df = pd.merge(banned_users_df, users_info_df, on=\"steamid\")"
   ]
  },
  {
   "cell_type": "code",
   "execution_count": null,
   "metadata": {
    "collapsed": false
   },
   "outputs": [],
   "source": [
    "user_data_df.head(1)"
   ]
  },
  {
   "cell_type": "code",
   "execution_count": null,
   "metadata": {
    "collapsed": true
   },
   "outputs": [],
   "source": [
    "import time"
   ]
  },
  {
   "cell_type": "code",
   "execution_count": null,
   "metadata": {
    "collapsed": false
   },
   "outputs": [],
   "source": [
    "user_data_df[\"timecreated\"] = ((time.time() - user_data_df[\"timecreated\"]) / (3600 * 24)).round().astype(int)"
   ]
  },
  {
   "cell_type": "code",
   "execution_count": null,
   "metadata": {
    "collapsed": false
   },
   "outputs": [],
   "source": [
    "num_friends = []\n",
    "for friend in user_data_df[\"friends\"]:\n",
    "    num_friends.append(len(friend))\n",
    "user_data_df[\"num_friends\"] = num_friends"
   ]
  },
  {
   "cell_type": "code",
   "execution_count": null,
   "metadata": {
    "collapsed": false
   },
   "outputs": [],
   "source": [
    "game_sample = user_data_df.game_info[:10]"
   ]
  },
  {
   "cell_type": "code",
   "execution_count": null,
   "metadata": {
    "collapsed": false
   },
   "outputs": [],
   "source": [
    "game_dict = {}\n",
    "game_dict.values()"
   ]
  },
  {
   "cell_type": "code",
   "execution_count": null,
   "metadata": {
    "collapsed": false
   },
   "outputs": [],
   "source": [
    "num_games = []\n",
    "num_played_total = []\n",
    "for games in user_data_df[\"game_info\"]:\n",
    "    num_played = 0\n",
    "    num_games.append(len(games))\n",
    "    for game in games:\n",
    "        if game[\"playtime_forever\"] > 0:\n",
    "            num_played += 1\n",
    "    num_played_total.append(num_played)\n",
    "user_data_df[\"num_games\"] = num_games\n",
    "user_data_df[\"num_played\"] = num_played_total"
   ]
  },
  {
   "cell_type": "code",
   "execution_count": null,
   "metadata": {
    "collapsed": false
   },
   "outputs": [],
   "source": [
    "user_data_final = user_data_df[[\"steamid\", \"CommunityBanned\", \"VACBanned\",\n",
    "                               \"personastate\", \"timecreated\", \"num_friends\", \"num_games\",\n",
    "                               \"num_played\"]]"
   ]
  },
  {
   "cell_type": "markdown",
   "metadata": {},
   "source": [
    "# Combine Into Model\n",
    "### as SFrames"
   ]
  },
  {
   "cell_type": "code",
   "execution_count": null,
   "metadata": {
    "collapsed": false
   },
   "outputs": [],
   "source": [
    "user_data_final.rename(columns={\"steamid\":\"user_id\"}, inplace=True)"
   ]
  },
  {
   "cell_type": "code",
   "execution_count": null,
   "metadata": {
    "collapsed": false
   },
   "outputs": [],
   "source": [
    "user_data_sf = gl.SFrame(user_data_final)\n",
    "item_data_sf = gl.SFrame(item_data[[\"item_id\",\"price_int\",\"game_age\", \"review_nums\",\"genre\"]])"
   ]
  },
  {
   "cell_type": "code",
   "execution_count": null,
   "metadata": {
    "collapsed": true
   },
   "outputs": [],
   "source": [
    "user_item_sf = gl.SFrame({'user_id': user_items[\"steamid\"],\n",
    "                          'item_id': user_items[\"appid\"],\n",
    "                          'rating': user_items[\"rating\"]})"
   ]
  },
  {
   "cell_type": "code",
   "execution_count": null,
   "metadata": {
    "collapsed": true
   },
   "outputs": [],
   "source": [
    "user_data_sf.save(\"/home/ubuntu/final_data_sets/user_data.csv\", format=\"csv\")\n",
    "item_data_sf.save(\"/home/ubuntu/final_data_sets/item_data.csv\", format=\"csv\")\n",
    "user_item_sf.save(\"/home/ubuntu/final_data_sets/user_item.csv\", format=\"csv\")"
   ]
  },
  {
   "cell_type": "code",
   "execution_count": null,
   "metadata": {
    "collapsed": true
   },
   "outputs": [],
   "source": []
  },
  {
   "cell_type": "code",
   "execution_count": null,
   "metadata": {
    "collapsed": true
   },
   "outputs": [],
   "source": []
  },
  {
   "cell_type": "code",
   "execution_count": null,
   "metadata": {
    "collapsed": true
   },
   "outputs": [],
   "source": [
    "model = gl.factorization_recommender.create(user_data_sf,\n",
    "                                            target='rating',\n",
    "                                            item_data=item_data_sf,\n",
    "                                            user_data=user_data_sf)"
   ]
  },
  {
   "cell_type": "code",
   "execution_count": null,
   "metadata": {
    "collapsed": false
   },
   "outputs": [],
   "source": [
    "model = gl.factorization_recommender.create(user_item_sf,\n",
    "                                            user_id='user_id',\n",
    "                                            item_id='item_id',\n",
    "                                            target='rating',\n",
    "                                            user_data=user_data_sf,\n",
    "                                            item_data=item_data_sf)"
   ]
  },
  {
   "cell_type": "code",
   "execution_count": null,
   "metadata": {
    "collapsed": true
   },
   "outputs": [],
   "source": [
    "folds = gl.cross_validation.KFold(sf, 5)\n",
    "params = dict([('target', 'Y'),\n",
    "               ('step_size', [0.01, 0.1]),\n",
    "               ('max_depth', [5, 7])])\n",
    "job = gl.grid_search.create(folds,\n",
    "                            gl.boosted_trees_classifier.create,\n",
    "                            params)\n",
    "job.get_results()"
   ]
  },
  {
   "cell_type": "code",
   "execution_count": null,
   "metadata": {
    "collapsed": true
   },
   "outputs": [],
   "source": []
  },
  {
   "cell_type": "code",
   "execution_count": null,
   "metadata": {
    "collapsed": false
   },
   "outputs": [],
   "source": [
    "user_data_df[user_data_df[\"steamid\"]==76561198151270288]"
   ]
  },
  {
   "cell_type": "code",
   "execution_count": null,
   "metadata": {
    "collapsed": false
   },
   "outputs": [],
   "source": [
    "user_data_df[user_data_df.NumberOfVACBans==6]"
   ]
  },
  {
   "cell_type": "code",
   "execution_count": null,
   "metadata": {
    "collapsed": true
   },
   "outputs": [],
   "source": []
  },
  {
   "cell_type": "code",
   "execution_count": null,
   "metadata": {
    "collapsed": false
   },
   "outputs": [],
   "source": [
    "similar_users = model.get_similar_users([76561198062169232], k=10)"
   ]
  },
  {
   "cell_type": "code",
   "execution_count": null,
   "metadata": {
    "collapsed": false
   },
   "outputs": [],
   "source": [
    "similar_users"
   ]
  },
  {
   "cell_type": "code",
   "execution_count": null,
   "metadata": {
    "collapsed": false
   },
   "outputs": [],
   "source": [
    "model.get_similar_items([72850])"
   ]
  },
  {
   "cell_type": "code",
   "execution_count": null,
   "metadata": {
    "collapsed": false
   },
   "outputs": [],
   "source": [
    "train, test = gl.recommender.util.random_split_by_user(user_item_sf)\n",
    "m = gl.recommender.create(train, target='rating')\n",
    "eval = m.evaluate(test)"
   ]
  },
  {
   "cell_type": "code",
   "execution_count": null,
   "metadata": {
    "collapsed": false
   },
   "outputs": [],
   "source": [
    "eval"
   ]
  },
  {
   "cell_type": "code",
   "execution_count": null,
   "metadata": {
    "collapsed": false
   },
   "outputs": [],
   "source": [
    "user_items[user_items[\"playtime_2weeks\"]!=0].groupby(\"appid\").count().sort_values(by=\"steamid\", ascending=False)"
   ]
  },
  {
   "cell_type": "code",
   "execution_count": null,
   "metadata": {
    "collapsed": true
   },
   "outputs": [],
   "source": []
  },
  {
   "cell_type": "code",
   "execution_count": null,
   "metadata": {
    "collapsed": true
   },
   "outputs": [],
   "source": []
  },
  {
   "cell_type": "code",
   "execution_count": null,
   "metadata": {
    "collapsed": true
   },
   "outputs": [],
   "source": []
  },
  {
   "cell_type": "code",
   "execution_count": null,
   "metadata": {
    "collapsed": false
   },
   "outputs": [],
   "source": [
    "model.recommend(users=[76561198095427520])"
   ]
  },
  {
   "cell_type": "code",
   "execution_count": null,
   "metadata": {
    "collapsed": false
   },
   "outputs": [],
   "source": [
    "for dct in user_data_df[user_data_df.steamid==76561198095427520][\"game_info\"]:\n",
    "    for game in dct:\n",
    "        print str(game[\"name\"]) + \" : \" + str(game[\"playtime_forever\"])"
   ]
  },
  {
   "cell_type": "code",
   "execution_count": null,
   "metadata": {
    "collapsed": false
   },
   "outputs": [],
   "source": [
    "user_data_df[user_data_df.steamid==76561198096081584]"
   ]
  },
  {
   "cell_type": "code",
   "execution_count": null,
   "metadata": {
    "collapsed": false
   },
   "outputs": [],
   "source": [
    "user_data_df[user_data_df.steamid==76561198062748448]"
   ]
  },
  {
   "cell_type": "code",
   "execution_count": null,
   "metadata": {
    "collapsed": true
   },
   "outputs": [],
   "source": []
  },
  {
   "cell_type": "code",
   "execution_count": null,
   "metadata": {
    "collapsed": true
   },
   "outputs": [],
   "source": []
  },
  {
   "cell_type": "code",
   "execution_count": null,
   "metadata": {
    "collapsed": true
   },
   "outputs": [],
   "source": []
  },
  {
   "cell_type": "code",
   "execution_count": null,
   "metadata": {
    "collapsed": true
   },
   "outputs": [],
   "source": []
  },
  {
   "cell_type": "code",
   "execution_count": null,
   "metadata": {
    "collapsed": true
   },
   "outputs": [],
   "source": []
  },
  {
   "cell_type": "code",
   "execution_count": null,
   "metadata": {
    "collapsed": false
   },
   "outputs": [],
   "source": [
    "plt.figure(figsize=(9,7))\n",
    "plt.hist(user_data_df.num_played / user_data_df.num_games, bins=20, normed=True)\n",
    "plt.show()"
   ]
  },
  {
   "cell_type": "code",
   "execution_count": null,
   "metadata": {
    "collapsed": false
   },
   "outputs": [],
   "source": [
    "friends_sets = []\n",
    "for user in user_data_df.friends:\n",
    "    friend_set = set()\n",
    "    for friend in user:\n",
    "        friend_set.add(int(friend[\"steamid\"]))\n",
    "    friends_sets.append(friend_set)"
   ]
  },
  {
   "cell_type": "code",
   "execution_count": null,
   "metadata": {
    "collapsed": false
   },
   "outputs": [],
   "source": [
    "user_data_df[\"friend_sets\"] = friends_sets"
   ]
  },
  {
   "cell_type": "code",
   "execution_count": null,
   "metadata": {
    "collapsed": false
   },
   "outputs": [],
   "source": [
    "similar_users = model.get_similar_users([76561198096081584], k=1172)"
   ]
  },
  {
   "cell_type": "code",
   "execution_count": null,
   "metadata": {
    "collapsed": false
   },
   "outputs": [],
   "source": [
    "similar_set = set(similar_users[\"similar\"])"
   ]
  },
  {
   "cell_type": "code",
   "execution_count": null,
   "metadata": {
    "collapsed": false
   },
   "outputs": [],
   "source": [
    "len(similar_set)"
   ]
  },
  {
   "cell_type": "code",
   "execution_count": null,
   "metadata": {
    "collapsed": false
   },
   "outputs": [],
   "source": [
    "friends = user_data_df[user_data_df[\"steamid\"]==76561198096081584][\"friend_sets\"].tolist()[0]"
   ]
  },
  {
   "cell_type": "code",
   "execution_count": null,
   "metadata": {
    "collapsed": false
   },
   "outputs": [],
   "source": [
    "num_in = 0 \n",
    "for user in similar_set:\n",
    "    if user in friends:\n",
    "        num_in += 1"
   ]
  },
  {
   "cell_type": "code",
   "execution_count": null,
   "metadata": {
    "collapsed": false
   },
   "outputs": [],
   "source": [
    "num_in"
   ]
  },
  {
   "cell_type": "code",
   "execution_count": 133,
   "metadata": {
    "collapsed": true
   },
   "outputs": [],
   "source": [
    "with open(\"final_data_sets/full_games.json\") as f:\n",
    "    game_reviews = f.readlines()\n",
    "game_reviews = map(lambda x: x.strip(), game_reviews)\n",
    "game_reviews = \"[\" + ','.join(game_reviews) + \"]\"\n",
    "full_games_df = pd.read_json(game_reviews)"
   ]
  },
  {
   "cell_type": "code",
   "execution_count": 135,
   "metadata": {
    "collapsed": false
   },
   "outputs": [
    {
     "data": {
      "text/html": [
       "<div>\n",
       "<table border=\"1\" class=\"dataframe\">\n",
       "  <thead>\n",
       "    <tr style=\"text-align: right;\">\n",
       "      <th></th>\n",
       "      <th>appid</th>\n",
       "      <th>genre</th>\n",
       "      <th>price</th>\n",
       "      <th>release_year</th>\n",
       "      <th>reviews</th>\n",
       "    </tr>\n",
       "  </thead>\n",
       "  <tbody>\n",
       "    <tr>\n",
       "      <th>0</th>\n",
       "      <td>221540</td>\n",
       "      <td>[Tower Defense, Strategy, Indie, Sci-fi, Co-op...</td>\n",
       "      <td>14.99</td>\n",
       "      <td>Sep 23, 2014</td>\n",
       "      <td>Very Positive</td>\n",
       "    </tr>\n",
       "    <tr>\n",
       "      <th>1</th>\n",
       "      <td>287140</td>\n",
       "      <td>[Indie, Simulation, Massively Multiplayer, Cas...</td>\n",
       "      <td>4.99</td>\n",
       "      <td>May 8, 2015</td>\n",
       "      <td>Mixed</td>\n",
       "    </tr>\n",
       "    <tr>\n",
       "      <th>2</th>\n",
       "      <td>370920</td>\n",
       "      <td>[Action, Indie, Music, Fast-Paced, Difficult]</td>\n",
       "      <td>4.99</td>\n",
       "      <td>Jul 9, 2015</td>\n",
       "      <td>Very Positive</td>\n",
       "    </tr>\n",
       "    <tr>\n",
       "      <th>3</th>\n",
       "      <td>330100</td>\n",
       "      <td>[Early Access, Action, RPG, Indie, Simulation,...</td>\n",
       "      <td>14.99</td>\n",
       "      <td>Nov 4, 2014</td>\n",
       "      <td>Very Positive</td>\n",
       "    </tr>\n",
       "    <tr>\n",
       "      <th>4</th>\n",
       "      <td>425870</td>\n",
       "      <td>[Early Access, Sports, Action, Indie]</td>\n",
       "      <td>12.99</td>\n",
       "      <td>Mar 4, 2016</td>\n",
       "      <td>Positive</td>\n",
       "    </tr>\n",
       "  </tbody>\n",
       "</table>\n",
       "</div>"
      ],
      "text/plain": [
       "    appid                                              genre  price  \\\n",
       "0  221540  [Tower Defense, Strategy, Indie, Sci-fi, Co-op...  14.99   \n",
       "1  287140  [Indie, Simulation, Massively Multiplayer, Cas...   4.99   \n",
       "2  370920      [Action, Indie, Music, Fast-Paced, Difficult]   4.99   \n",
       "3  330100  [Early Access, Action, RPG, Indie, Simulation,...  14.99   \n",
       "4  425870              [Early Access, Sports, Action, Indie]  12.99   \n",
       "\n",
       "   release_year        reviews  \n",
       "0  Sep 23, 2014  Very Positive  \n",
       "1   May 8, 2015          Mixed  \n",
       "2   Jul 9, 2015  Very Positive  \n",
       "3   Nov 4, 2014  Very Positive  \n",
       "4   Mar 4, 2016       Positive  "
      ]
     },
     "execution_count": 135,
     "metadata": {},
     "output_type": "execute_result"
    }
   ],
   "source": [
    "del full_games_df[\"_id\"]\n",
    "full_games_df.head()"
   ]
  },
  {
   "cell_type": "code",
   "execution_count": 161,
   "metadata": {
    "collapsed": false
   },
   "outputs": [
    {
     "data": {
      "text/html": [
       "<div id=\"83d58a32-fdb1-41ba-a222-9cb2ec3434b2\" style=\"height: 525; width: 100%;\" class=\"plotly-graph-div\"></div><script type=\"text/javascript\">require([\"plotly\"], function(Plotly) { window.PLOTLYENV=window.PLOTLYENV || {};window.PLOTLYENV.BASE_URL=\"https://plot.ly\";Plotly.newPlot(\"83d58a32-fdb1-41ba-a222-9cb2ec3434b2\", [{\"x\": [20, 20, 20, 20, 20, 20, 7, 20, 20, 20, 20, 20, 17, 20, 20, 20, 20, 20, 20, 20, 20, 20, 20, 18, 20, 20, 20, 20, 20, 20, 20, 18, 20, 20, 20, 20, 20, 20, 20, 20, 20, 20, 20, 18, 20, 20, 17, 20, 20, 20, 16, 20, 20, 20, 20, 20, 20, 20, 20, 20, 20, 17, 20, 20, 20, 20, 20, 9, 20, 20, 20, 20, 20, 20, 20, 20, 20, 20, 17, 20, 20, 20, 16, 20, 18, 20, 20, 10, 20, 10, 20, 20, 20, 20, 20, 20, 20, 20, 20, 11, 20, 20, 20, 20, 15, 20, 20, 20, 20, 19, 20, 20, 20, 18, 15, 20, 15, 13, 20, 20, 20, 20, 20, 20, 17, 20, 20, 20, 20, 20, 20, 10, 20, 20, 20, 20, 20, 20, 17, 20, 20, 20, 20, 20, 20, 20, 18, 20, 20, 20, 20, 20, 19, 20, 12, 20, 20, 20, 20, 20, 20, 20, 20, 20, 20, 20, 20, 20, 20, 20, 20, 20, 20, 20, 20, 20, 20, 20, 20, 20, 20, 20, 20, 20, 20, 20, 20, 20, 18, 20, 9, 20, 20, 20, 16, 20, 20, 20, 20, 20, 20, 20, 20, 20, 20, 20, 20, 20, 20, 20, 20, 20, 17, 13, 20, 20, 10, 20, 20, 20, 20, 20, 20, 20, 20, 10, 20, 20, 20, 20, 20, 20, 20, 15, 20, 20, 20, 20, 20, 13, 20, 9, 20, 20, 20, 20, 20, 19, 20, 20, 12, 20, 13, 14, 20, 20, 20, 20, 20, 20, 20, 15, 15, 20, 20, 20, 20, 20, 20, 20, 20, 20, 14, 20, 20, 20, 19, 20, 20, 6, 20, 20, 20, 20, 20, 20, 20, 20, 18, 20, 20, 20, 20, 20, 20, 20, 20, 20, 20, 20, 20, 20, 20, 20, 20, 20, 20, 20, 20, 14, 13, 20, 20, 20, 20, 20], \"type\": \"histogram\"}], {}, {\"linkText\": \"Export to plot.ly\", \"showLink\": true})});</script>"
      ],
      "text/plain": [
       "<IPython.core.display.HTML object>"
      ]
     },
     "metadata": {},
     "output_type": "display_data"
    }
   ],
   "source": [
    "data=[go.Histogram(x=map(lambda x: len(x), full_games_df[full_games_df[\"appid\"].isin(action_games)][\"genre\"]))]\n",
    "iplot(data)"
   ]
  },
  {
   "cell_type": "code",
   "execution_count": null,
   "metadata": {
    "collapsed": false
   },
   "outputs": [],
   "source": [
    "user_data_df[user_data_df[\"steamid\"]==76561198020536208]"
   ]
  },
  {
   "cell_type": "code",
   "execution_count": null,
   "metadata": {
    "collapsed": false
   },
   "outputs": [],
   "source": [
    "76561197987075344 in user_data_df[user_data_df[\"steamid\"]==76561198020536208].friend_sets.tolist()[0]"
   ]
  },
  {
   "cell_type": "markdown",
   "metadata": {
    "collapsed": true
   },
   "source": [
    "# Class to fit a newly looked up user"
   ]
  },
  {
   "cell_type": "code",
   "execution_count": 138,
   "metadata": {
    "collapsed": false
   },
   "outputs": [],
   "source": [
    "games = set(item_data.appid)"
   ]
  },
  {
   "cell_type": "code",
   "execution_count": 144,
   "metadata": {
    "collapsed": false
   },
   "outputs": [],
   "source": [
    "action_games = item_data[(item_data.appid.isin(games)) & (item_data.genre==\"Action\")][\"appid\"]"
   ]
  },
  {
   "cell_type": "code",
   "execution_count": 149,
   "metadata": {
    "collapsed": false
   },
   "outputs": [
    {
     "data": {
      "text/html": [
       "<div>\n",
       "<table border=\"1\" class=\"dataframe\">\n",
       "  <thead>\n",
       "    <tr style=\"text-align: right;\">\n",
       "      <th></th>\n",
       "      <th>appid</th>\n",
       "      <th>genre</th>\n",
       "      <th>price</th>\n",
       "      <th>release_year</th>\n",
       "      <th>reviews</th>\n",
       "      <th>game_age</th>\n",
       "      <th>review_nums</th>\n",
       "      <th>price_int</th>\n",
       "      <th>item_id</th>\n",
       "      <th>community_review</th>\n",
       "      <th>meta_review</th>\n",
       "    </tr>\n",
       "  </thead>\n",
       "  <tbody>\n",
       "    <tr>\n",
       "      <th>0</th>\n",
       "      <td>10</td>\n",
       "      <td>Action</td>\n",
       "      <td>9.99</td>\n",
       "      <td>2000</td>\n",
       "      <td>Overwhelmingly Positive</td>\n",
       "      <td>16</td>\n",
       "      <td>8</td>\n",
       "      <td>10</td>\n",
       "      <td>10</td>\n",
       "      <td>97</td>\n",
       "      <td>88</td>\n",
       "    </tr>\n",
       "    <tr>\n",
       "      <th>1</th>\n",
       "      <td>20</td>\n",
       "      <td>Action</td>\n",
       "      <td>4.99</td>\n",
       "      <td>1999</td>\n",
       "      <td>Very Positive</td>\n",
       "      <td>17</td>\n",
       "      <td>7</td>\n",
       "      <td>5</td>\n",
       "      <td>20</td>\n",
       "      <td>84</td>\n",
       "      <td>84</td>\n",
       "    </tr>\n",
       "    <tr>\n",
       "      <th>2</th>\n",
       "      <td>30</td>\n",
       "      <td>Action</td>\n",
       "      <td>4.99</td>\n",
       "      <td>2003</td>\n",
       "      <td>Very Positive</td>\n",
       "      <td>13</td>\n",
       "      <td>7</td>\n",
       "      <td>5</td>\n",
       "      <td>30</td>\n",
       "      <td>90</td>\n",
       "      <td>79</td>\n",
       "    </tr>\n",
       "    <tr>\n",
       "      <th>3</th>\n",
       "      <td>50</td>\n",
       "      <td>Action</td>\n",
       "      <td>4.99</td>\n",
       "      <td>1999</td>\n",
       "      <td>Overwhelmingly Positive</td>\n",
       "      <td>17</td>\n",
       "      <td>8</td>\n",
       "      <td>5</td>\n",
       "      <td>50</td>\n",
       "      <td>95</td>\n",
       "      <td>95</td>\n",
       "    </tr>\n",
       "    <tr>\n",
       "      <th>4</th>\n",
       "      <td>70</td>\n",
       "      <td>Action</td>\n",
       "      <td>9.99</td>\n",
       "      <td>1998</td>\n",
       "      <td>Overwhelmingly Positive</td>\n",
       "      <td>18</td>\n",
       "      <td>8</td>\n",
       "      <td>10</td>\n",
       "      <td>70</td>\n",
       "      <td>96</td>\n",
       "      <td>96</td>\n",
       "    </tr>\n",
       "  </tbody>\n",
       "</table>\n",
       "</div>"
      ],
      "text/plain": [
       "   appid   genre  price  release_year                  reviews  game_age  \\\n",
       "0     10  Action   9.99          2000  Overwhelmingly Positive        16   \n",
       "1     20  Action   4.99          1999            Very Positive        17   \n",
       "2     30  Action   4.99          2003            Very Positive        13   \n",
       "3     50  Action   4.99          1999  Overwhelmingly Positive        17   \n",
       "4     70  Action   9.99          1998  Overwhelmingly Positive        18   \n",
       "\n",
       "   review_nums  price_int  item_id  community_review  meta_review  \n",
       "0            8         10       10                97           88  \n",
       "1            7          5       20                84           84  \n",
       "2            7          5       30                90           79  \n",
       "3            8          5       50                95           95  \n",
       "4            8         10       70                96           96  "
      ]
     },
     "execution_count": 149,
     "metadata": {},
     "output_type": "execute_result"
    }
   ],
   "source": []
  },
  {
   "cell_type": "code",
   "execution_count": 165,
   "metadata": {
    "collapsed": false
   },
   "outputs": [
    {
     "data": {
      "text/html": [
       "<div>\n",
       "<table border=\"1\" class=\"dataframe\">\n",
       "  <thead>\n",
       "    <tr style=\"text-align: right;\">\n",
       "      <th></th>\n",
       "      <th>appid</th>\n",
       "      <th>meta_review</th>\n",
       "    </tr>\n",
       "  </thead>\n",
       "  <tbody>\n",
       "    <tr>\n",
       "      <th>310</th>\n",
       "      <td>221020</td>\n",
       "      <td>26</td>\n",
       "    </tr>\n",
       "  </tbody>\n",
       "</table>\n",
       "</div>"
      ],
      "text/plain": [
       "      appid  meta_review\n",
       "310  221020           26"
      ]
     },
     "execution_count": 165,
     "metadata": {},
     "output_type": "execute_result"
    }
   ],
   "source": [
    "meta_df[meta_df.meta_review==26]"
   ]
  },
  {
   "cell_type": "code",
   "execution_count": null,
   "metadata": {
    "collapsed": true
   },
   "outputs": [],
   "source": []
  }
 ],
 "metadata": {
  "kernelspec": {
   "display_name": "Python 2",
   "language": "python",
   "name": "python2"
  },
  "language_info": {
   "codemirror_mode": {
    "name": "ipython",
    "version": 2
   },
   "file_extension": ".py",
   "mimetype": "text/x-python",
   "name": "python",
   "nbconvert_exporter": "python",
   "pygments_lexer": "ipython2",
   "version": "2.7.11"
  }
 },
 "nbformat": 4,
 "nbformat_minor": 0
}
