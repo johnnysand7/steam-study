{
 "cells": [
  {
   "cell_type": "code",
   "execution_count": 1,
   "metadata": {
    "collapsed": false
   },
   "outputs": [],
   "source": [
    "import urllib2\n",
    "import time\n",
    "from datetime import datetime\n",
    "from bs4 import BeautifulSoup\n",
    "import re, os\n",
    "import json\n",
    "from lxml import etree, html\n",
    "import requests\n",
    "import pandas as pd\n",
    "import numpy as np\n",
    "#from lxml import html"
   ]
  },
  {
   "cell_type": "markdown",
   "metadata": {},
   "source": [
    "# Steam API\n",
    "## Friends From Friends\n",
    "```\n",
    "http://api.steampowered.com/ISteamUser/GetFriendList/v0001/?key=XXXX&steamid=XXXX&relationship=all\n",
    "```"
   ]
  },
  {
   "cell_type": "code",
   "execution_count": 32,
   "metadata": {
    "collapsed": false
   },
   "outputs": [],
   "source": [
    "def get_friends(id):\n",
    "    '''\n",
    "    Starting with a single user ID, return their friends\n",
    "    '''\n",
    "    key = os.environ['ACCESS_STEAM']\n",
    "    url = 'http://api.steampowered.com/ISteamUser/GetFriendList/v0001/?key='+key+'&steamid='+id+'&relationship=all'\n",
    "    return json.loads(urllib2.urlopen(url).read())['friendslist']['friends']"
   ]
  },
  {
   "cell_type": "markdown",
   "metadata": {},
   "source": [
    "## Basic User Info\n",
    "```\n",
    "http://api.steampowered.com/ISteamUser/GetPlayerSummaries/v0002/?key=XXXX&steamids=XXXX,YYYY\n",
    "```\n",
    "* Comma-delimited list of 64 bit Steam IDs to return profile information for. Up to 100 Steam IDs can be requested."
   ]
  },
  {
   "cell_type": "code",
   "execution_count": 30,
   "metadata": {
    "collapsed": true
   },
   "outputs": [],
   "source": [
    "def get_user_info(ids):\n",
    "    '''\n",
    "    For a user or users (up to 100 comma-delimited),\n",
    "    return some basic user information\n",
    "    '''\n",
    "    key = os.environ['ACCESS_STEAM']\n",
    "    url = 'http://api.steampowered.com/ISteamUser/GetPlayerSummaries/v0002/?key='+key+'&steamids='+ids\n",
    "    return json.loads(urllib2.urlopen(url).read())['response']['players'][0]"
   ]
  },
  {
   "cell_type": "markdown",
   "metadata": {},
   "source": [
    "## Player Bans\n",
    "```\n",
    "http://api.steampowered.com/ISteamUser/GetPlayerBans/v1/?key=XXXX&steamids=XXXX,YYYY\n",
    "```\n"
   ]
  },
  {
   "cell_type": "code",
   "execution_count": 13,
   "metadata": {
    "collapsed": true
   },
   "outputs": [],
   "source": [
    "def get_bans(ids):\n",
    "    '''\n",
    "    Looks at the IDS ban history\n",
    "    '''\n",
    "    key = os.environ['ACCESS_STEAM']\n",
    "    url = 'http://api.steampowered.com/ISteamUser/GetPlayerBans/v1/?key='+key+'&steamids='+ids\n",
    "    return json.loads(urllib2.urlopen(url).read())['players']"
   ]
  },
  {
   "cell_type": "markdown",
   "metadata": {},
   "source": [
    "# API Class Helper"
   ]
  },
  {
   "cell_type": "code",
   "execution_count": 146,
   "metadata": {
    "collapsed": true
   },
   "outputs": [],
   "source": [
    "class SteamStuff(object):\n",
    "    \"\"\"\n",
    "    Class to keep track of Steam APIs.\n",
    "    Ideally will return usful info.\n",
    "    Pass in the Steam API key to get going!\n",
    "    \"\"\"\n",
    "    \n",
    "    def __init__(self, key, gameid=None):\n",
    "        \"\"\"\n",
    "        Initialize with the Steam API key and Game ID (if needed)\n",
    "        \"\"\"\n",
    "        self.key = key\n",
    "        self.gameid = gameid\n",
    "        self.player_dict = {}\n",
    "    \n",
    "    def get_bans(self, ids):\n",
    "        \"\"\"\n",
    "        Looks at the 17-digit ID's ban history (up to 100 comma-delimited IDs)\n",
    "        \"\"\"\n",
    "        url = 'http://api.steampowered.com/ISteamUser/GetPlayerBans/v1/?key='+self.key+'&steamids='+ids\n",
    "        return json.loads(urllib2.urlopen(url).read())['players']\n",
    "    \n",
    "    def get_user_info(self, ids):\n",
    "        \"\"\"\n",
    "        For a user or users (up to 100 comma-delimited),\n",
    "        return some basic user information\n",
    "        \"\"\"\n",
    "        url = 'http://api.steampowered.com/ISteamUser/GetPlayerSummaries/v0002/?key='+self.key+'&steamids='+ids\n",
    "        return json.loads(urllib2.urlopen(url).read())['response']['players'][0]\n",
    "    \n",
    "    def get_friends(self, id, public=False):\n",
    "        \"\"\"\n",
    "        Starting with a single user ID, return their friends\n",
    "        If public, only return users who have public profiles\n",
    "        \"\"\"\n",
    "        url = 'http://api.steampowered.com/ISteamUser/GetFriendList/v0001/?key='+self.key+'&steamid='+id+'&relationship=all'\n",
    "        return json.loads(urllib2.urlopen(url).read())['friendslist']['friends']\n",
    "    \n",
    "    def get_game_info(self, id):\n",
    "        \"\"\"\n",
    "        Get owned game information for a give user\n",
    "        Returns a dictionary\n",
    "        \"\"\"\n",
    "        url =  \"http://api.steampowered.com/IPlayerService/GetOwnedGames/v0001/?key=\"+self.key+\"&steamid=\"+id+\"&format=json\"+\"&include_appinfo\"\n",
    "        return json.loads(urllib2.urlopen(url).read())[\"response\"]\n",
    "    \n",
    "    def get_player_achievments(self, id, appid):\n",
    "        \"\"\"\n",
    "        Given a player ID and appid, return a list of achievments\n",
    "        \"\"\"\n",
    "        url = \"http://api.steampowered.com/ISteamUserStats/GetPlayerAchievements/v0001/?appid=\"+appid+\"&key=\"+self.key+\"&steamid=\"+id\n",
    "        return json.loads(urllib2.urlopen(url).read())\n",
    "    \n",
    "    def scrape_profile(self, id):\n",
    "        \"\"\"\n",
    "        Look at a user's community profile\n",
    "        Maybe include '?xml=1' at the end of the url?\n",
    "        \"\"\"\n",
    "        url = \"http://steamcommunity.com/profiles/\"+id\n",
    "        pass\n",
    "    \n",
    "    def game_info(self, appid):\n",
    "        \"\"\"\n",
    "        Get the information for a given game / appid\n",
    "        \"\"\"\n",
    "        url = \"\"\n",
    "        pass\n",
    "        \n",
    "        \n",
    "    def get_global_achievements(self, appid):\n",
    "        \"\"\"\n",
    "        Get the global achievement stats, kinda intersting\n",
    "        Currently returns a LIST of achievement name / global completion percentages; maybe average one number?\n",
    "        \"\"\"\n",
    "        url = \"http://api.steampowered.com/ISteamUserStats/GetGlobalAchievementPercentagesForApp/v0002/?gameid=\"+appid+\"&format=json\"\n",
    "        return json.loads(urllib2.urlopen(url).read())[\"achievementpercentages\"][\"achievements\"]\n",
    "    \n",
    "    \n",
    "    def build_dict(self, id):\n",
    "        \"\"\"\n",
    "        Reference above functions to build a player info dictionary\n",
    "        Eventually do a self.id kinda thang, naw mean?\n",
    "        \"\"\"\n",
    "        self.player_dict[\"ban_status\"] = self.get_bans(id)\n",
    "        self.player_dict[\"friends\"] = self.get_friends(id)\n",
    "        self.player_dict[\"game_info\"] = self.get_game_info(id)\n",
    "        self.player_dict[\"user_info\"] = self.get_user_info(id)\n",
    "    \n",
    "    def check_out(self):\n",
    "        \"\"\"\n",
    "        Returns a built-up dictionary\n",
    "        \"\"\"\n",
    "        return self.player_dict"
   ]
  },
  {
   "cell_type": "code",
   "execution_count": 147,
   "metadata": {
    "collapsed": true
   },
   "outputs": [],
   "source": [
    "user_info = SteamStuff(os.environ[\"ACCESS_STEAM\"])"
   ]
  },
  {
   "cell_type": "code",
   "execution_count": 149,
   "metadata": {
    "collapsed": false
   },
   "outputs": [],
   "source": [
    "my_id = \"76561197967398882\"\n",
    "csid = \"730\""
   ]
  },
  {
   "cell_type": "code",
   "execution_count": 160,
   "metadata": {
    "collapsed": true
   },
   "outputs": [],
   "source": [
    "player_ach = user_info.get_player_achievments(\"76561198092689293\", csid)[\"playerstats\"]"
   ]
  },
  {
   "cell_type": "code",
   "execution_count": 161,
   "metadata": {
    "collapsed": false
   },
   "outputs": [
    {
     "data": {
      "text/plain": [
       "{'achievements': [{u'achieved': 1, u'apiname': u'WIN_BOMB_PLANT'},\n",
       "  {u'achieved': 1, u'apiname': u'BOMB_PLANT_LOW'},\n",
       "  {u'achieved': 1, u'apiname': u'BOMB_DEFUSE_LOW'},\n",
       "  {u'achieved': 1, u'apiname': u'KILL_ENEMY_LOW'},\n",
       "  {u'achieved': 1, u'apiname': u'KILL_ENEMY_MED'},\n",
       "  {u'achieved': 1, u'apiname': u'KILL_ENEMY_HIGH'},\n",
       "  {u'achieved': 1, u'apiname': u'BOMB_DEFUSE_CLOSE_CALL'},\n",
       "  {u'achieved': 1, u'apiname': u'KILL_BOMB_DEFUSER'},\n",
       "  {u'achieved': 1, u'apiname': u'WIN_BOMB_DEFUSE'},\n",
       "  {u'achieved': 1, u'apiname': u'BOMB_PLANT_IN_25_SECONDS'},\n",
       "  {u'achieved': 1, u'apiname': u'WIN_ROUNDS_LOW'},\n",
       "  {u'achieved': 1, u'apiname': u'WIN_ROUNDS_MED'},\n",
       "  {u'achieved': 1, u'apiname': u'WIN_ROUNDS_HIGH'},\n",
       "  {u'achieved': 1, u'apiname': u'GIVE_DAMAGE_LOW'},\n",
       "  {u'achieved': 1, u'apiname': u'GIVE_DAMAGE_MED'},\n",
       "  {u'achieved': 1, u'apiname': u'GIVE_DAMAGE_HIGH'},\n",
       "  {u'achieved': 1, u'apiname': u'KILLING_SPREE'},\n",
       "  {u'achieved': 1, u'apiname': u'KILL_WITH_OWN_GUN'},\n",
       "  {u'achieved': 0, u'apiname': u'RESCUE_HOSTAGES_LOW'},\n",
       "  {u'achieved': 0, u'apiname': u'RESCUE_HOSTAGES_MED'},\n",
       "  {u'achieved': 0, u'apiname': u'RESCUE_ALL_HOSTAGES'},\n",
       "  {u'achieved': 0, u'apiname': u'FAST_HOSTAGE_RESCUE'},\n",
       "  {u'achieved': 1, u'apiname': u'KILL_TWO_WITH_ONE_SHOT'},\n",
       "  {u'achieved': 1, u'apiname': u'EARN_MONEY_LOW'},\n",
       "  {u'achieved': 1, u'apiname': u'EARN_MONEY_MED'},\n",
       "  {u'achieved': 0, u'apiname': u'EARN_MONEY_HIGH'},\n",
       "  {u'achieved': 1, u'apiname': u'DEAD_GRENADE_KILL'},\n",
       "  {u'achieved': 1, u'apiname': u'KILL_ENEMY_DEAGLE'},\n",
       "  {u'achieved': 1, u'apiname': u'KILL_ENEMY_GLOCK'},\n",
       "  {u'achieved': 1, u'apiname': u'KILL_ENEMY_ELITE'},\n",
       "  {u'achieved': 1, u'apiname': u'KILL_ENEMY_FIVESEVEN'},\n",
       "  {u'achieved': 1, u'apiname': u'META_PISTOL'},\n",
       "  {u'achieved': 1, u'apiname': u'KILL_ENEMY_AWP'},\n",
       "  {u'achieved': 1, u'apiname': u'KILL_ENEMY_AK47'},\n",
       "  {u'achieved': 1, u'apiname': u'KILL_ENEMY_M4A1'},\n",
       "  {u'achieved': 0, u'apiname': u'KILL_ENEMY_AUG'},\n",
       "  {u'achieved': 1, u'apiname': u'KILL_ENEMY_FAMAS'},\n",
       "  {u'achieved': 1, u'apiname': u'KILL_ENEMY_G3SG1'},\n",
       "  {u'achieved': 0, u'apiname': u'META_RIFLE'},\n",
       "  {u'achieved': 0, u'apiname': u'KILL_ENEMY_P90'},\n",
       "  {u'achieved': 1, u'apiname': u'KILL_ENEMY_MAC10'},\n",
       "  {u'achieved': 0, u'apiname': u'KILL_ENEMY_UMP45'},\n",
       "  {u'achieved': 0, u'apiname': u'META_SMG'},\n",
       "  {u'achieved': 0, u'apiname': u'KILL_ENEMY_XM1014'},\n",
       "  {u'achieved': 0, u'apiname': u'META_SHOTGUN'},\n",
       "  {u'achieved': 0, u'apiname': u'KILL_ENEMY_HEGRENADE'},\n",
       "  {u'achieved': 0, u'apiname': u'KILL_ENEMY_KNIFE'},\n",
       "  {u'achieved': 0, u'apiname': u'KILL_ENEMY_M249'},\n",
       "  {u'achieved': 0, u'apiname': u'META_WEAPONMASTER'},\n",
       "  {u'achieved': 1, u'apiname': u'KILL_ENEMY_TEAM'},\n",
       "  {u'achieved': 1, u'apiname': u'KILLS_WITH_MULTIPLE_GUNS'},\n",
       "  {u'achieved': 1, u'apiname': u'KILL_HOSTAGE_RESCUER'},\n",
       "  {u'achieved': 1, u'apiname': u'LAST_PLAYER_ALIVE'},\n",
       "  {u'achieved': 1, u'apiname': u'KILL_ENEMY_LAST_BULLET'},\n",
       "  {u'achieved': 1, u'apiname': u'KILLING_SPREE_ENDER'},\n",
       "  {u'achieved': 0, u'apiname': u'BREAK_WINDOWS'},\n",
       "  {u'achieved': 1, u'apiname': u'HEADSHOTS'},\n",
       "  {u'achieved': 1, u'apiname': u'DAMAGE_NO_KILL'},\n",
       "  {u'achieved': 1, u'apiname': u'KILL_LOW_DAMAGE'},\n",
       "  {u'achieved': 1, u'apiname': u'KILL_ENEMY_RELOADING'},\n",
       "  {u'achieved': 1, u'apiname': u'KILL_ENEMY_BLINDED'},\n",
       "  {u'achieved': 1, u'apiname': u'KILL_ENEMIES_WHILE_BLIND'},\n",
       "  {u'achieved': 1, u'apiname': u'KILLS_ENEMY_WEAPON'},\n",
       "  {u'achieved': 1, u'apiname': u'KILL_WITH_EVERY_WEAPON'},\n",
       "  {u'achieved': 1, u'apiname': u'SURVIVE_GRENADE'},\n",
       "  {u'achieved': 1, u'apiname': u'WIN_KNIFE_FIGHTS_LOW'},\n",
       "  {u'achieved': 0, u'apiname': u'WIN_KNIFE_FIGHTS_HIGH'},\n",
       "  {u'achieved': 0, u'apiname': u'KILLED_DEFUSER_WITH_GRENADE'},\n",
       "  {u'achieved': 1, u'apiname': u'HIP_SHOT'},\n",
       "  {u'achieved': 1, u'apiname': u'KILL_SNIPER_WITH_SNIPER'},\n",
       "  {u'achieved': 1, u'apiname': u'KILL_SNIPER_WITH_KNIFE'},\n",
       "  {u'achieved': 1, u'apiname': u'KILL_SNIPERS'},\n",
       "  {u'achieved': 1, u'apiname': u'KILL_WHEN_AT_LOW_HEALTH'},\n",
       "  {u'achieved': 0, u'apiname': u'GRENADE_MULTIKILL'},\n",
       "  {u'achieved': 1, u'apiname': u'PISTOL_ROUND_KNIFE_KILL'},\n",
       "  {u'achieved': 1, u'apiname': u'FAST_ROUND_WIN'},\n",
       "  {u'achieved': 1, u'apiname': u'WIN_PISTOLROUNDS_LOW'},\n",
       "  {u'achieved': 1, u'apiname': u'WIN_PISTOLROUNDS_MED'},\n",
       "  {u'achieved': 1, u'apiname': u'WIN_PISTOLROUNDS_HIGH'},\n",
       "  {u'achieved': 0, u'apiname': u'BOMB_MULTIKILL'},\n",
       "  {u'achieved': 0, u'apiname': u'GOOSE_CHASE'},\n",
       "  {u'achieved': 1, u'apiname': u'WIN_BOMB_PLANT_AFTER_RECOVERY'},\n",
       "  {u'achieved': 0, u'apiname': u'SURVIVE_MANY_ATTACKS'},\n",
       "  {u'achieved': 1, u'apiname': u'LOSSLESS_EXTERMINATION'},\n",
       "  {u'achieved': 1, u'apiname': u'FLAWLESS_VICTORY'},\n",
       "  {u'achieved': 1, u'apiname': u'WIN_DUAL_DUEL'},\n",
       "  {u'achieved': 1, u'apiname': u'UNSTOPPABLE_FORCE'},\n",
       "  {u'achieved': 1, u'apiname': u'IMMOVABLE_OBJECT'},\n",
       "  {u'achieved': 1, u'apiname': u'HEADSHOTS_IN_ROUND'},\n",
       "  {u'achieved': 0, u'apiname': u'WIN_MAP_CS_ITALY'},\n",
       "  {u'achieved': 0, u'apiname': u'WIN_MAP_CS_OFFICE'},\n",
       "  {u'achieved': 0, u'apiname': u'WIN_MAP_DE_AZTEC'},\n",
       "  {u'achieved': 0, u'apiname': u'WIN_MAP_DE_DUST'},\n",
       "  {u'achieved': 1, u'apiname': u'WIN_MAP_DE_DUST2'},\n",
       "  {u'achieved': 1, u'apiname': u'WIN_MAP_DE_INFERNO'},\n",
       "  {u'achieved': 1, u'apiname': u'WIN_MAP_DE_NUKE'},\n",
       "  {u'achieved': 0, u'apiname': u'WIN_MAP_DE_SHORTTRAIN'},\n",
       "  {u'achieved': 1, u'apiname': u'KILL_WHILE_IN_AIR'},\n",
       "  {u'achieved': 1, u'apiname': u'KILL_ENEMY_IN_AIR'},\n",
       "  {u'achieved': 0, u'apiname': u'KILLER_AND_ENEMY_IN_AIR'},\n",
       "  {u'achieved': 1, u'apiname': u'SILENT_WIN'},\n",
       "  {u'achieved': 1, u'apiname': u'BLOODLESS_VICTORY'},\n",
       "  {u'achieved': 1, u'apiname': u'DONATE_WEAPONS'},\n",
       "  {u'achieved': 1, u'apiname': u'WIN_ROUNDS_WITHOUT_BUYING'},\n",
       "  {u'achieved': 1, u'apiname': u'DEFUSE_DEFENSE'},\n",
       "  {u'achieved': 1, u'apiname': u'KILL_BOMB_PICKUP'},\n",
       "  {u'achieved': 1, u'apiname': u'DOMINATIONS_LOW'},\n",
       "  {u'achieved': 1, u'apiname': u'DOMINATIONS_HIGH'},\n",
       "  {u'achieved': 1, u'apiname': u'DOMINATION_OVERKILLS_LOW'},\n",
       "  {u'achieved': 1, u'apiname': u'DOMINATION_OVERKILLS_HIGH'},\n",
       "  {u'achieved': 1, u'apiname': u'REVENGES_LOW'},\n",
       "  {u'achieved': 1, u'apiname': u'REVENGES_HIGH'},\n",
       "  {u'achieved': 1, u'apiname': u'CONCURRENT_DOMINATIONS'},\n",
       "  {u'achieved': 1, u'apiname': u'DOMINATION_OVERKILLS_MATCH'},\n",
       "  {u'achieved': 1, u'apiname': u'EXTENDED_DOMINATION'},\n",
       "  {u'achieved': 0, u'apiname': u'KILL_ENEMIES_WHILE_BLIND_HARD'},\n",
       "  {u'achieved': 1, u'apiname': u'CAUSE_FRIENDLY_FIRE_WITH_FLASHBANG'},\n",
       "  {u'achieved': 1, u'apiname': u'AVENGE_FRIEND'},\n",
       "  {u'achieved': 1, u'apiname': u'GUN_GAME_KILL_KNIFER'},\n",
       "  {u'achieved': 0, u'apiname': u'WIN_EVERY_GUNGAME_MAP'},\n",
       "  {u'achieved': 1, u'apiname': u'WIN_MAP_AR_SHOOTS'},\n",
       "  {u'achieved': 1, u'apiname': u'TR_BOMB_PLANT_LOW'},\n",
       "  {u'achieved': 0, u'apiname': u'TR_BOMB_DEFUSE_LOW'},\n",
       "  {u'achieved': 1, u'apiname': u'WIN_MAP_DE_LAKE'},\n",
       "  {u'achieved': 1, u'apiname': u'WIN_MAP_DE_SAFEHOUSE'},\n",
       "  {u'achieved': 0, u'apiname': u'WIN_MAP_DE_SUGARCANE'},\n",
       "  {u'achieved': 0, u'apiname': u'WIN_MAP_DE_STMARC'},\n",
       "  {u'achieved': 1, u'apiname': u'GUN_GAME_KNIFE_KILL_KNIFER'},\n",
       "  {u'achieved': 1, u'apiname': u'GUN_GAME_SMG_KILL_KNIFER'},\n",
       "  {u'achieved': 1, u'apiname': u'GUN_GAME_ROUNDS_LOW'},\n",
       "  {u'achieved': 0, u'apiname': u'GUN_GAME_ROUNDS_MED'},\n",
       "  {u'achieved': 0, u'apiname': u'GUN_GAME_ROUNDS_HIGH'},\n",
       "  {u'achieved': 1, u'apiname': u'WIN_GUN_GAME_ROUNDS_LOW'},\n",
       "  {u'achieved': 0, u'apiname': u'WIN_GUN_GAME_ROUNDS_MED'},\n",
       "  {u'achieved': 0, u'apiname': u'WIN_GUN_GAME_ROUNDS_HIGH'},\n",
       "  {u'achieved': 0, u'apiname': u'WIN_GUN_GAME_ROUNDS_EXTREME'},\n",
       "  {u'achieved': 0, u'apiname': u'WIN_GUN_GAME_ROUNDS_ULTIMATE'},\n",
       "  {u'achieved': 0, u'apiname': u'PLAY_EVERY_GUNGAME_MAP'},\n",
       "  {u'achieved': 0, u'apiname': u'GUN_GAME_RAMPAGE'},\n",
       "  {u'achieved': 1, u'apiname': u'GUN_GAME_FIRST_KILL'},\n",
       "  {u'achieved': 0, u'apiname': u'GUN_GAME_FIRST_THING_FIRST'},\n",
       "  {u'achieved': 0, u'apiname': u'GUN_GAME_TARGET_SECURED'},\n",
       "  {u'achieved': 1, u'apiname': u'ONE_SHOT_ONE_KILL'},\n",
       "  {u'achieved': 1, u'apiname': u'GUN_GAME_CONSERVATIONIST'},\n",
       "  {u'achieved': 1, u'apiname': u'BASE_SCAMPER'},\n",
       "  {u'achieved': 1, u'apiname': u'BORN_READY'},\n",
       "  {u'achieved': 1, u'apiname': u'STILL_ALIVE'},\n",
       "  {u'achieved': 1, u'apiname': u'MEDALIST'},\n",
       "  {u'achieved': 1, u'apiname': u'WIN_MAP_DE_BANK'},\n",
       "  {u'achieved': 1, u'apiname': u'WIN_MAP_AR_BAGGAGE'},\n",
       "  {u'achieved': 0, u'apiname': u'KILL_ENEMY_BIZON'},\n",
       "  {u'achieved': 1, u'apiname': u'KILL_ENEMY_TEC9'},\n",
       "  {u'achieved': 0, u'apiname': u'KILL_ENEMY_TASER'},\n",
       "  {u'achieved': 1, u'apiname': u'KILL_ENEMY_HKP2000'},\n",
       "  {u'achieved': 1, u'apiname': u'KILL_ENEMY_P250'},\n",
       "  {u'achieved': 1, u'apiname': u'KILL_ENEMY_SCAR20'},\n",
       "  {u'achieved': 1, u'apiname': u'KILL_ENEMY_SG556'},\n",
       "  {u'achieved': 1, u'apiname': u'KILL_ENEMY_SSG08'},\n",
       "  {u'achieved': 1, u'apiname': u'KILL_ENEMY_MP7'},\n",
       "  {u'achieved': 0, u'apiname': u'KILL_ENEMY_MP9'},\n",
       "  {u'achieved': 1, u'apiname': u'KILL_ENEMY_MAG7'},\n",
       "  {u'achieved': 1, u'apiname': u'KILL_ENEMY_SAWEDOFF'},\n",
       "  {u'achieved': 1, u'apiname': u'KILL_ENEMY_NOVA'},\n",
       "  {u'achieved': 1, u'apiname': u'KILL_ENEMY_NEGEV'},\n",
       "  {u'achieved': 0, u'apiname': u'KILL_ENEMY_MOLOTOV'},\n",
       "  {u'achieved': 1, u'apiname': u'WIN_MAP_DE_TRAIN'},\n",
       "  {u'achieved': 0, u'apiname': u'KILL_ENEMY_GALILAR'}],\n",
       " 'gameName': u'Counter-Strike: Global Offensive'}"
      ]
     },
     "execution_count": 161,
     "metadata": {},
     "output_type": "execute_result"
    }
   ],
   "source": [
    "{k: player_ach[k] for k in (\"achievements\", \"gameName\")}"
   ]
  },
  {
   "cell_type": "code",
   "execution_count": 114,
   "metadata": {
    "collapsed": false
   },
   "outputs": [],
   "source": [
    "user_info.build_dict(my_id)"
   ]
  },
  {
   "cell_type": "code",
   "execution_count": 115,
   "metadata": {
    "collapsed": false
   },
   "outputs": [
    {
     "data": {
      "text/plain": [
       "{'ban_status': [{u'CommunityBanned': False,\n",
       "   u'DaysSinceLastBan': 0,\n",
       "   u'EconomyBan': u'none',\n",
       "   u'NumberOfGameBans': 0,\n",
       "   u'NumberOfVACBans': 0,\n",
       "   u'SteamId': u'76561197967398882',\n",
       "   u'VACBanned': False}],\n",
       " 'friends': [{u'friend_since': 0,\n",
       "   u'relationship': u'friend',\n",
       "   u'steamid': u'76561197960559382'},\n",
       "  {u'friend_since': 0,\n",
       "   u'relationship': u'friend',\n",
       "   u'steamid': u'76561197965632101'},\n",
       "  {u'friend_since': 1439867952,\n",
       "   u'relationship': u'friend',\n",
       "   u'steamid': u'76561197982823731'},\n",
       "  {u'friend_since': 1404070051,\n",
       "   u'relationship': u'friend',\n",
       "   u'steamid': u'76561197999882487'},\n",
       "  {u'friend_since': 1235243760,\n",
       "   u'relationship': u'friend',\n",
       "   u'steamid': u'76561198001133491'},\n",
       "  {u'friend_since': 1323645317,\n",
       "   u'relationship': u'friend',\n",
       "   u'steamid': u'76561198040942123'},\n",
       "  {u'friend_since': 1436489293,\n",
       "   u'relationship': u'friend',\n",
       "   u'steamid': u'76561198086767969'}],\n",
       " 'game_info': {u'game_count': 57,\n",
       "  u'games': [{u'appid': 10, u'playtime_forever': 0},\n",
       "   {u'appid': 20, u'playtime_forever': 0},\n",
       "   {u'appid': 30, u'playtime_forever': 0},\n",
       "   {u'appid': 40, u'playtime_forever': 0},\n",
       "   {u'appid': 50, u'playtime_forever': 248},\n",
       "   {u'appid': 60, u'playtime_forever': 0},\n",
       "   {u'appid': 70, u'playtime_forever': 2},\n",
       "   {u'appid': 130, u'playtime_forever': 0},\n",
       "   {u'appid': 80, u'playtime_forever': 0},\n",
       "   {u'appid': 100, u'playtime_forever': 0},\n",
       "   {u'appid': 220, u'playtime_forever': 367},\n",
       "   {u'appid': 240, u'playtime_forever': 711},\n",
       "   {u'appid': 280, u'playtime_forever': 23},\n",
       "   {u'appid': 300, u'playtime_forever': 0},\n",
       "   {u'appid': 320, u'playtime_forever': 0},\n",
       "   {u'appid': 340, u'playtime_forever': 0},\n",
       "   {u'appid': 360, u'playtime_forever': 0},\n",
       "   {u'appid': 1200, u'playtime_forever': 0},\n",
       "   {u'appid': 1230, u'playtime_forever': 0},\n",
       "   {u'appid': 1280, u'playtime_forever': 0},\n",
       "   {u'appid': 1300, u'playtime_forever': 0},\n",
       "   {u'appid': 1309, u'playtime_forever': 0},\n",
       "   {u'appid': 1313, u'playtime_forever': 0},\n",
       "   {u'appid': 380, u'playtime_forever': 22},\n",
       "   {u'appid': 2100, u'playtime_forever': 2},\n",
       "   {u'appid': 2130, u'playtime_forever': 0},\n",
       "   {u'appid': 4000, u'playtime_forever': 1139},\n",
       "   {u'appid': 400, u'playtime_forever': 35},\n",
       "   {u'appid': 420, u'playtime_forever': 3},\n",
       "   {u'appid': 12900, u'playtime_forever': 6},\n",
       "   {u'appid': 17300, u'playtime_forever': 187},\n",
       "   {u'appid': 20900, u'playtime_forever': 2310},\n",
       "   {u'appid': 500, u'playtime_forever': 286},\n",
       "   {u'appid': 22300, u'playtime_forever': 66},\n",
       "   {u'appid': 22200, u'playtime_forever': 0},\n",
       "   {u'appid': 10180, u'playtime_forever': 0},\n",
       "   {u'appid': 10190, u'playtime_forever': 343},\n",
       "   {u'appid': 550, u'playtime_forever': 130},\n",
       "   {u'appid': 223530, u'playtime_forever': 0},\n",
       "   {u'appid': 48900, u'playtime_forever': 390},\n",
       "   {u'appid': 47810, u'playtime_forever': 0},\n",
       "   {u'appid': 99700, u'playtime_forever': 105},\n",
       "   {u'appid': 620, u'playtime_forever': 318},\n",
       "   {u'appid': 105600, u'playtime_forever': 645},\n",
       "   {u'appid': 20920, u'playtime_forever': 31},\n",
       "   {u'appid': 43110, u'playtime_forever': 48},\n",
       "   {u'appid': 72850, u'playtime_forever': 1890},\n",
       "   {u'appid': 42910, u'playtime_forever': 81},\n",
       "   {u'appid': 261570, u'playtime_forever': 42},\n",
       "   {u'appid': 268850, u'playtime_forever': 3590},\n",
       "   {u'appid': 290930, u'playtime_forever': 117},\n",
       "   {u'appid': 238460, u'playtime_forever': 226},\n",
       "   {u'appid': 304930, u'playtime_forever': 1},\n",
       "   {u'appid': 63380, u'playtime_forever': 0},\n",
       "   {u'appid': 365720, u'playtime_forever': 0},\n",
       "   {u'appid': 295790, u'playtime_forever': 74},\n",
       "   {u'appid': 244930, u'playtime_2weeks': 3, u'playtime_forever': 63}]},\n",
       " 'user_info': {u'avatar': u'https://steamcdn-a.akamaihd.net/steamcommunity/public/images/avatars/3b/3b295d3493a5505e438851fefb55995776ad0f0b.jpg',\n",
       "  u'avatarfull': u'https://steamcdn-a.akamaihd.net/steamcommunity/public/images/avatars/3b/3b295d3493a5505e438851fefb55995776ad0f0b_full.jpg',\n",
       "  u'avatarmedium': u'https://steamcdn-a.akamaihd.net/steamcommunity/public/images/avatars/3b/3b295d3493a5505e438851fefb55995776ad0f0b_medium.jpg',\n",
       "  u'communityvisibilitystate': 3,\n",
       "  u'lastlogoff': 1460189153,\n",
       "  u'loccountrycode': u'VA',\n",
       "  u'personaname': u'Deck Gumby',\n",
       "  u'personastate': 0,\n",
       "  u'personastateflags': 0,\n",
       "  u'primaryclanid': u'103582791432291036',\n",
       "  u'profilestate': 1,\n",
       "  u'profileurl': u'http://steamcommunity.com/id/deckgumby/',\n",
       "  u'realname': u'Ken Tucky',\n",
       "  u'steamid': u'76561197967398882',\n",
       "  u'timecreated': 1089486992}}"
      ]
     },
     "execution_count": 115,
     "metadata": {},
     "output_type": "execute_result"
    }
   ],
   "source": [
    "user_info.check_out()"
   ]
  },
  {
   "cell_type": "code",
   "execution_count": null,
   "metadata": {
    "collapsed": true
   },
   "outputs": [],
   "source": []
  },
  {
   "cell_type": "code",
   "execution_count": null,
   "metadata": {
    "collapsed": true
   },
   "outputs": [],
   "source": []
  },
  {
   "cell_type": "code",
   "execution_count": 137,
   "metadata": {
    "collapsed": true
   },
   "outputs": [],
   "source": [
    "url = \"http://api.steampowered.com/ISteamUserStats/GetGlobalAchievementPercentagesForApp/v0002/?gameid=730&format=json\""
   ]
  },
  {
   "cell_type": "code",
   "execution_count": 145,
   "metadata": {
    "collapsed": false
   },
   "outputs": [
    {
     "data": {
      "text/plain": [
       "[{u'name': u'GIVE_DAMAGE_LOW', u'percent': 74.2235336303711},\n",
       " {u'name': u'KILL_ENEMY_RELOADING', u'percent': 74.18785858154297},\n",
       " {u'name': u'KILL_ENEMY_LOW', u'percent': 73.23528289794922},\n",
       " {u'name': u'UNSTOPPABLE_FORCE', u'percent': 72.9666976928711},\n",
       " {u'name': u'WIN_ROUNDS_LOW', u'percent': 72.44751739501953},\n",
       " {u'name': u'KILL_LOW_DAMAGE', u'percent': 71.71922302246094},\n",
       " {u'name': u'IMMOVABLE_OBJECT', u'percent': 70.33322143554688},\n",
       " {u'name': u'EARN_MONEY_LOW', u'percent': 70.28016662597656},\n",
       " {u'name': u'KILL_ENEMY_LAST_BULLET', u'percent': 69.19438934326172},\n",
       " {u'name': u'DAMAGE_NO_KILL', u'percent': 68.28483581542969},\n",
       " {u'name': u'LOSSLESS_EXTERMINATION', u'percent': 67.70512390136719},\n",
       " {u'name': u'KILL_SNIPER_WITH_SNIPER', u'percent': 66.7147216796875},\n",
       " {u'name': u'DOMINATIONS_LOW', u'percent': 62.81280517578125},\n",
       " {u'name': u'HIP_SHOT', u'percent': 62.802940368652344},\n",
       " {u'name': u'HEADSHOTS_IN_ROUND', u'percent': 62.2357177734375},\n",
       " {u'name': u'FAST_ROUND_WIN', u'percent': 62.127315521240234},\n",
       " {u'name': u'REVENGES_LOW', u'percent': 61.73365020751953},\n",
       " {u'name': u'LAST_PLAYER_ALIVE', u'percent': 61.732337951660156},\n",
       " {u'name': u'KILL_WHEN_AT_LOW_HEALTH', u'percent': 60.85796356201172},\n",
       " {u'name': u'WIN_BOMB_DEFUSE', u'percent': 60.07807922363281},\n",
       " {u'name': u'KILLS_WITH_MULTIPLE_GUNS', u'percent': 59.58783721923828},\n",
       " {u'name': u'WIN_BOMB_PLANT', u'percent': 59.58704376220703},\n",
       " {u'name': u'AVENGE_FRIEND', u'percent': 59.498756408691406},\n",
       " {u'name': u'DOMINATION_OVERKILLS_LOW', u'percent': 59.32796096801758},\n",
       " {u'name': u'KILLING_SPREE', u'percent': 58.051544189453125},\n",
       " {u'name': u'GIVE_DAMAGE_MED', u'percent': 57.40060043334961},\n",
       " {u'name': u'KILL_ENEMIES_WHILE_BLIND', u'percent': 56.711971282958984},\n",
       " {u'name': u'KILL_ENEMY_TEAM', u'percent': 56.26226043701172},\n",
       " {u'name': u'KILL_ENEMY_MED', u'percent': 54.6351432800293},\n",
       " {u'name': u'KILL_ENEMY_IN_AIR', u'percent': 54.47035598754883},\n",
       " {u'name': u'KILL_BOMB_PICKUP', u'percent': 54.20528793334961},\n",
       " {u'name': u'KILLING_SPREE_ENDER', u'percent': 53.993553161621094},\n",
       " {u'name': u'KILL_TWO_WITH_ONE_SHOT', u'percent': 53.40387725830078},\n",
       " {u'name': u'STILL_ALIVE', u'percent': 51.4307746887207},\n",
       " {u'name': u'HEADSHOTS', u'percent': 50.844669342041016},\n",
       " {u'name': u'WIN_KNIFE_FIGHTS_LOW', u'percent': 50.46361541748047},\n",
       " {u'name': u'WIN_ROUNDS_MED', u'percent': 50.427215576171875},\n",
       " {u'name': u'DOMINATIONS_HIGH', u'percent': 49.57007598876953},\n",
       " {u'name': u'KILL_WHILE_IN_AIR', u'percent': 47.87201690673828},\n",
       " {u'name': u'BORN_READY', u'percent': 47.640296936035156},\n",
       " {u'name': u'WIN_PISTOLROUNDS_LOW', u'percent': 47.407745361328125},\n",
       " {u'name': u'BASE_SCAMPER', u'percent': 47.37761306762695},\n",
       " {u'name': u'WIN_MAP_DE_DUST2', u'percent': 45.93055725097656},\n",
       " {u'name': u'FLAWLESS_VICTORY', u'percent': 45.669960021972656},\n",
       " {u'name': u'KILL_WITH_OWN_GUN', u'percent': 45.06197738647461},\n",
       " {u'name': u'KILL_BOMB_DEFUSER', u'percent': 45.054359436035156},\n",
       " {u'name': u'KILL_SNIPERS', u'percent': 44.57997512817383},\n",
       " {u'name': u'WIN_GUN_GAME_ROUNDS_LOW', u'percent': 44.533267974853516},\n",
       " {u'name': u'EXTENDED_DOMINATION', u'percent': 42.46076202392578},\n",
       " {u'name': u'GUN_GAME_FIRST_KILL', u'percent': 42.31044387817383},\n",
       " {u'name': u'BOMB_PLANT_IN_25_SECONDS', u'percent': 42.22205352783203},\n",
       " {u'name': u'WIN_BOMB_PLANT_AFTER_RECOVERY', u'percent': 41.665069580078125},\n",
       " {u'name': u'GUN_GAME_KILL_KNIFER', u'percent': 41.20381164550781},\n",
       " {u'name': u'EARN_MONEY_MED', u'percent': 40.924800872802734},\n",
       " {u'name': u'KILL_ENEMY_P250', u'percent': 40.49890899658203},\n",
       " {u'name': u'CONCURRENT_DOMINATIONS', u'percent': 40.23515319824219},\n",
       " {u'name': u'WIN_PISTOLROUNDS_MED', u'percent': 37.99229049682617},\n",
       " {u'name': u'KILL_ENEMY_BLINDED', u'percent': 37.95185852050781},\n",
       " {u'name': u'KILL_ENEMY_FIVESEVEN', u'percent': 37.757266998291016},\n",
       " {u'name': u'BLOODLESS_VICTORY', u'percent': 37.43387985229492},\n",
       " {u'name': u'KILL_SNIPER_WITH_KNIFE', u'percent': 37.385276794433594},\n",
       " {u'name': u'KILLS_ENEMY_WEAPON', u'percent': 37.27756881713867},\n",
       " {u'name': u'PISTOL_ROUND_KNIFE_KILL', u'percent': 36.15018844604492},\n",
       " {u'name': u'KILL_ENEMY_HKP2000', u'percent': 35.55414962768555},\n",
       " {u'name': u'REVENGES_HIGH', u'percent': 35.131649017333984},\n",
       " {u'name': u'DONATE_WEAPONS', u'percent': 34.19318389892578},\n",
       " {u'name': u'KILL_WITH_EVERY_WEAPON', u'percent': 32.89623260498047},\n",
       " {u'name': u'BOMB_PLANT_LOW', u'percent': 31.87212371826172},\n",
       " {u'name': u'DEFUSE_DEFENSE', u'percent': 31.847301483154297},\n",
       " {u'name': u'WIN_DUAL_DUEL', u'percent': 31.698814392089844},\n",
       " {u'name': u'KILL_ENEMY_AWP', u'percent': 31.62517547607422},\n",
       " {u'name': u'KILL_HOSTAGE_RESCUER', u'percent': 31.50269317626953},\n",
       " {u'name': u'KILL_ENEMY_GLOCK', u'percent': 30.94920539855957},\n",
       " {u'name': u'WIN_MAP_DE_LAKE', u'percent': 30.295076370239258},\n",
       " {u'name': u'KILL_ENEMY_ELITE', u'percent': 30.26506233215332},\n",
       " {u'name': u'ONE_SHOT_ONE_KILL', u'percent': 30.240503311157227},\n",
       " {u'name': u'BOMB_DEFUSE_CLOSE_CALL', u'percent': 29.322141647338867},\n",
       " {u'name': u'SURVIVE_GRENADE', u'percent': 28.781646728515625},\n",
       " {u'name': u'WIN_MAP_DE_INFERNO', u'percent': 28.672563552856445},\n",
       " {u'name': u'KILL_ENEMY_SG556', u'percent': 28.245729446411133},\n",
       " {u'name': u'DEAD_GRENADE_KILL', u'percent': 27.754371643066406},\n",
       " {u'name': u'KILL_ENEMIES_WHILE_BLIND_HARD', u'percent': 26.967674255371094},\n",
       " {u'name': u'KILL_ENEMY_FAMAS', u'percent': 26.7275447845459},\n",
       " {u'name': u'WIN_MAP_DE_BANK', u'percent': 26.651256561279297},\n",
       " {u'name': u'KILL_ENEMY_DEAGLE', u'percent': 25.939956665039062},\n",
       " {u'name': u'KILL_ENEMY_TEC9', u'percent': 25.92298126220703},\n",
       " {u'name': u'GUN_GAME_ROUNDS_LOW', u'percent': 25.59373664855957},\n",
       " {u'name': u'KILL_ENEMY_AK47', u'percent': 24.632568359375},\n",
       " {u'name': u'GIVE_DAMAGE_HIGH', u'percent': 23.838714599609375},\n",
       " {u'name': u'SILENT_WIN', u'percent': 23.498117446899414},\n",
       " {u'name': u'KILL_ENEMY_MAG7', u'percent': 22.82740592956543},\n",
       " {u'name': u'DOMINATION_OVERKILLS_MATCH', u'percent': 22.694795608520508},\n",
       " {u'name': u'KILL_ENEMY_M4A1', u'percent': 22.614768981933594},\n",
       " {u'name': u'KILL_ENEMY_SCAR20', u'percent': 22.10782241821289},\n",
       " {u'name': u'KILL_ENEMY_KNIFE', u'percent': 21.867525100708008},\n",
       " {u'name': u'KILL_ENEMY_SSG08', u'percent': 21.78719139099121},\n",
       " {u'name': u'WIN_MAP_DE_NUKE', u'percent': 20.527982711791992},\n",
       " {u'name': u'GUN_GAME_CONSERVATIONIST', u'percent': 20.320146560668945},\n",
       " {u'name': u'KILL_ENEMY_NEGEV', u'percent': 20.227767944335938},\n",
       " {u'name': u'DOMINATION_OVERKILLS_HIGH', u'percent': 19.918867111206055},\n",
       " {u'name': u'KILL_ENEMY_SAWEDOFF', u'percent': 19.67275619506836},\n",
       " {u'name': u'KILL_ENEMY_G3SG1', u'percent': 19.52524757385254},\n",
       " {u'name': u'GUN_GAME_KNIFE_KILL_KNIFER', u'percent': 19.459815979003906},\n",
       " {u'name': u'WIN_MAP_AR_SHOOTS', u'percent': 19.218814849853516},\n",
       " {u'name': u'WIN_MAP_DE_SAFEHOUSE', u'percent': 19.16562843322754},\n",
       " {u'name': u'KILL_ENEMY_NOVA', u'percent': 18.962631225585938},\n",
       " {u'name': u'KILL_ENEMY_HIGH', u'percent': 18.82109260559082},\n",
       " {u'name': u'KILL_ENEMY_P90', u'percent': 18.365455627441406},\n",
       " {u'name': u'MEDALIST', u'percent': 18.317066192626953},\n",
       " {u'name': u'META_PISTOL', u'percent': 18.219533920288086},\n",
       " {u'name': u'WIN_MAP_DE_STMARC', u'percent': 17.812450408935547},\n",
       " {u'name': u'WIN_PISTOLROUNDS_HIGH', u'percent': 17.63738250732422},\n",
       " {u'name': u'KILL_ENEMY_TASER', u'percent': 17.49146270751953},\n",
       " {u'name': u'KILL_ENEMY_MAC10', u'percent': 17.324039459228516},\n",
       " {u'name': u'KILL_ENEMY_MP9', u'percent': 16.721635818481445},\n",
       " {u'name': u'TR_BOMB_PLANT_LOW', u'percent': 16.41474723815918},\n",
       " {u'name': u'KILL_ENEMY_AUG', u'percent': 16.320886611938477},\n",
       " {u'name': u'WIN_ROUNDS_WITHOUT_BUYING', u'percent': 16.17955207824707},\n",
       " {u'name': u'CAUSE_FRIENDLY_FIRE_WITH_FLASHBANG',\n",
       "  u'percent': 15.615036010742188},\n",
       " {u'name': u'GUN_GAME_SMG_KILL_KNIFER', u'percent': 15.423466682434082},\n",
       " {u'name': u'WIN_ROUNDS_HIGH', u'percent': 15.343414306640625},\n",
       " {u'name': u'BOMB_DEFUSE_LOW', u'percent': 15.138873100280762},\n",
       " {u'name': u'WIN_MAP_DE_SUGARCANE', u'percent': 14.797757148742676},\n",
       " {u'name': u'RESCUE_ALL_HOSTAGES', u'percent': 14.019515991210938},\n",
       " {u'name': u'KILL_ENEMY_GALILAR', u'percent': 13.675106048583984},\n",
       " {u'name': u'KILL_ENEMY_MP7', u'percent': 13.359249114990234},\n",
       " {u'name': u'WIN_MAP_AR_BAGGAGE', u'percent': 13.309749603271484},\n",
       " {u'name': u'KILL_ENEMY_M249', u'percent': 13.237833976745605},\n",
       " {u'name': u'WIN_MAP_DE_SHORTTRAIN', u'percent': 13.168448448181152},\n",
       " {u'name': u'KILL_ENEMY_BIZON', u'percent': 12.889962196350098},\n",
       " {u'name': u'KILL_ENEMY_UMP45', u'percent': 12.7684965133667},\n",
       " {u'name': u'GOOSE_CHASE', u'percent': 10.879073143005371},\n",
       " {u'name': u'KILL_ENEMY_XM1014', u'percent': 10.724143981933594},\n",
       " {u'name': u'PLAY_EVERY_GUNGAME_MAP', u'percent': 10.600651741027832},\n",
       " {u'name': u'FAST_HOSTAGE_RESCUE', u'percent': 10.125537872314453},\n",
       " {u'name': u'KILL_ENEMY_HEGRENADE', u'percent': 9.787565231323242},\n",
       " {u'name': u'META_SHOTGUN', u'percent': 9.553956985473633},\n",
       " {u'name': u'KILLER_AND_ENEMY_IN_AIR', u'percent': 9.448638916015625},\n",
       " {u'name': u'SURVIVE_MANY_ATTACKS', u'percent': 9.155620574951172},\n",
       " {u'name': u'WIN_MAP_DE_TRAIN', u'percent': 8.989356994628906},\n",
       " {u'name': u'META_RIFLE', u'percent': 8.6748046875},\n",
       " {u'name': u'WIN_KNIFE_FIGHTS_HIGH', u'percent': 8.637120246887207},\n",
       " {u'name': u'TR_BOMB_DEFUSE_LOW', u'percent': 8.512175559997559},\n",
       " {u'name': u'GUN_GAME_FIRST_THING_FIRST', u'percent': 8.365819931030273},\n",
       " {u'name': u'META_SMG', u'percent': 8.317076683044434},\n",
       " {u'name': u'GRENADE_MULTIKILL', u'percent': 8.202313423156738},\n",
       " {u'name': u'WIN_GUN_GAME_ROUNDS_MED', u'percent': 8.137255668640137},\n",
       " {u'name': u'GUN_GAME_TARGET_SECURED', u'percent': 8.109764099121094},\n",
       " {u'name': u'WIN_MAP_CS_OFFICE', u'percent': 8.030529022216797},\n",
       " {u'name': u'EARN_MONEY_HIGH', u'percent': 7.998809814453125},\n",
       " {u'name': u'BREAK_WINDOWS', u'percent': 7.550638198852539},\n",
       " {u'name': u'KILL_ENEMY_MOLOTOV', u'percent': 6.237809658050537},\n",
       " {u'name': u'KILLED_DEFUSER_WITH_GRENADE', u'percent': 5.902352333068848},\n",
       " {u'name': u'WIN_MAP_DE_DUST', u'percent': 5.684349060058594},\n",
       " {u'name': u'GUN_GAME_ROUNDS_MED', u'percent': 5.377470970153809},\n",
       " {u'name': u'WIN_MAP_CS_ITALY', u'percent': 5.07251501083374},\n",
       " {u'name': u'WIN_EVERY_GUNGAME_MAP', u'percent': 4.929728984832764},\n",
       " {u'name': u'META_WEAPONMASTER', u'percent': 4.885551929473877},\n",
       " {u'name': u'WIN_MAP_DE_AZTEC', u'percent': 4.738780975341797},\n",
       " {u'name': u'BOMB_MULTIKILL', u'percent': 3.993425130844116},\n",
       " {u'name': u'GUN_GAME_RAMPAGE', u'percent': 3.6780383586883545},\n",
       " {u'name': u'RESCUE_HOSTAGES_LOW', u'percent': 3.267193555831909},\n",
       " {u'name': u'WIN_GUN_GAME_ROUNDS_HIGH', u'percent': 3.0279200077056885},\n",
       " {u'name': u'RESCUE_HOSTAGES_MED', u'percent': 2.8111164569854736},\n",
       " {u'name': u'WIN_GUN_GAME_ROUNDS_EXTREME', u'percent': 2.469379186630249},\n",
       " {u'name': u'WIN_GUN_GAME_ROUNDS_ULTIMATE', u'percent': 2.4046542644500732},\n",
       " {u'name': u'GUN_GAME_ROUNDS_HIGH', u'percent': 2.348156213760376},\n",
       " {u'name': u'SURVIVED_HEADSHOT_DUE_TO_HELMET',\n",
       "  u'percent': 0.01584702543914318},\n",
       " {u'name': u'BOMB_DEFUSE_NEEDED_KIT', u'percent': 0.012974617071449757},\n",
       " {u'name': u'BREAK_PROPS', u'percent': 0.010564683936536312},\n",
       " {u'name': u'GUN_GAME_SELECT_SUICIDE_WITH_KNIFE',\n",
       "  u'percent': 0.008089715614914894},\n",
       " {u'name': u'KILL_ENEMY_USP', u'percent': 0.00020955938089173287},\n",
       " {u'name': u'WIN_MAP_CS_ASSAULT', u'percent': 0.00020955938089173287},\n",
       " {u'name': u'WIN_MAP_DE_PORT', u'percent': 0.0002059463004115969},\n",
       " {u'name': u'KILL_ENEMY_SCAR17', u'percent': 0.0002059463004115969},\n",
       " {u'name': u'KILL_ENEMY_SG552', u'percent': 0.0002059463004115969},\n",
       " {u'name': u'KILL_ENEMY_SCOUT', u'percent': 0.0002059463004115969},\n",
       " {u'name': u'WIN_MAP_CS_MILITIA', u'percent': 0.0002059463004115969},\n",
       " {u'name': u'KILL_ENEMY_MP5NAVY', u'percent': 0.0002059463004115969},\n",
       " {u'name': u'KILL_ENEMY_GALIL', u'percent': 0.0002059463004115969},\n",
       " {u'name': u'WIN_MAP_DE_EMBASSY', u'percent': 0.0002059463004115969},\n",
       " {u'name': u'KILL_ENEMY_P228', u'percent': 0.0002059463004115969},\n",
       " {u'name': u'KILL_ENEMY_TMP', u'percent': 0.0002059463004115969},\n",
       " {u'name': u'WIN_MAP_DE_TIDES', u'percent': 0.00020233319082763046},\n",
       " {u'name': u'KILL_ENEMY_M3', u'percent': 0.00020233319082763046},\n",
       " {u'name': u'KILL_ENEMY_SG550', u'percent': 0.00020233319082763046},\n",
       " {u'name': u'WIN_MAP_DE_PRODIGY', u'percent': 0.00020233319082763046},\n",
       " {u'name': u'WIN_MAP_DE_PIRANESI', u'percent': 0.00020233319082763046},\n",
       " {u'name': u'WIN_MAP_CS_HAVANA', u'percent': 0.00020233319082763046},\n",
       " {u'name': u'WIN_MAP_DE_DEPOT', u'percent': 0.00020233319082763046},\n",
       " {u'name': u'WIN_MAP_DE_CHATEAU', u'percent': 0.00020233319082763046},\n",
       " {u'name': u'WIN_MAP_CS_COMPOUND', u'percent': 0.00020233319082763046},\n",
       " {u'name': u'WIN_MAP_DE_CBBLE', u'percent': 0.00020233319082763046},\n",
       " {u'name': u'', u'percent': 0}]"
      ]
     },
     "execution_count": 145,
     "metadata": {},
     "output_type": "execute_result"
    }
   ],
   "source": [
    "json.loads(urllib2.urlopen(url).read())[\"achievementpercentages\"][\"achievements\"]"
   ]
  },
  {
   "cell_type": "code",
   "execution_count": 140,
   "metadata": {
    "collapsed": false
   },
   "outputs": [
    {
     "data": {
      "text/plain": [
       "u'{\\n\\t\"achievementpercentages\": {\\n\\t\\t\"achievements\": [\\n\\t\\t\\t{\\n\\t\\t\\t\\t\"name\": \"GIVE_DAMAGE_LOW\",\\n\\t\\t\\t\\t\"percent\": 74.223533630371094\\n\\t\\t\\t},\\n\\t\\t\\t{\\n\\t\\t\\t\\t\"name\": \"KILL_ENEMY_RELOADING\",\\n\\t\\t\\t\\t\"percent\": 74.187858581542969\\n\\t\\t\\t},\\n\\t\\t\\t{\\n\\t\\t\\t\\t\"name\": \"KILL_ENEMY_LOW\",\\n\\t\\t\\t\\t\"percent\": 73.235282897949219\\n\\t\\t\\t},\\n\\t\\t\\t{\\n\\t\\t\\t\\t\"name\": \"UNSTOPPABLE_FORCE\",\\n\\t\\t\\t\\t\"percent\": 72.966697692871094\\n\\t\\t\\t},\\n\\t\\t\\t{\\n\\t\\t\\t\\t\"name\": \"WIN_ROUNDS_LOW\",\\n\\t\\t\\t\\t\"percent\": 72.447517395019531\\n\\t\\t\\t},\\n\\t\\t\\t{\\n\\t\\t\\t\\t\"name\": \"KILL_LOW_DAMAGE\",\\n\\t\\t\\t\\t\"percent\": 71.719223022460938\\n\\t\\t\\t},\\n\\t\\t\\t{\\n\\t\\t\\t\\t\"name\": \"IMMOVABLE_OBJECT\",\\n\\t\\t\\t\\t\"percent\": 70.333221435546875\\n\\t\\t\\t},\\n\\t\\t\\t{\\n\\t\\t\\t\\t\"name\": \"EARN_MONEY_LOW\",\\n\\t\\t\\t\\t\"percent\": 70.280166625976563\\n\\t\\t\\t},\\n\\t\\t\\t{\\n\\t\\t\\t\\t\"name\": \"KILL_ENEMY_LAST_BULLET\",\\n\\t\\t\\t\\t\"percent\": 69.194389343261719\\n\\t\\t\\t},\\n\\t\\t\\t{\\n\\t\\t\\t\\t\"name\": \"DAMAGE_NO_KILL\",\\n\\t\\t\\t\\t\"percent\": 68.284835815429687\\n\\t\\t\\t},\\n\\t\\t\\t{\\n\\t\\t\\t\\t\"name\": \"LOSSLESS_EXTERMINATION\",\\n\\t\\t\\t\\t\"percent\": 67.705123901367188\\n\\t\\t\\t},\\n\\t\\t\\t{\\n\\t\\t\\t\\t\"name\": \"KILL_SNIPER_WITH_SNIPER\",\\n\\t\\t\\t\\t\"percent\": 66.7147216796875\\n\\t\\t\\t},\\n\\t\\t\\t{\\n\\t\\t\\t\\t\"name\": \"DOMINATIONS_LOW\",\\n\\t\\t\\t\\t\"percent\": 62.81280517578125\\n\\t\\t\\t},\\n\\t\\t\\t{\\n\\t\\t\\t\\t\"name\": \"HIP_SHOT\",\\n\\t\\t\\t\\t\"percent\": 62.802940368652344\\n\\t\\t\\t},\\n\\t\\t\\t{\\n\\t\\t\\t\\t\"name\": \"HEADSHOTS_IN_ROUND\",\\n\\t\\t\\t\\t\"percent\": 62.2357177734375\\n\\t\\t\\t},\\n\\t\\t\\t{\\n\\t\\t\\t\\t\"name\": \"FAST_ROUND_WIN\",\\n\\t\\t\\t\\t\"percent\": 62.127315521240234\\n\\t\\t\\t},\\n\\t\\t\\t{\\n\\t\\t\\t\\t\"name\": \"REVENGES_LOW\",\\n\\t\\t\\t\\t\"percent\": 61.733650207519531\\n\\t\\t\\t},\\n\\t\\t\\t{\\n\\t\\t\\t\\t\"name\": \"LAST_PLAYER_ALIVE\",\\n\\t\\t\\t\\t\"percent\": 61.732337951660156\\n\\t\\t\\t},\\n\\t\\t\\t{\\n\\t\\t\\t\\t\"name\": \"KILL_WHEN_AT_LOW_HEALTH\",\\n\\t\\t\\t\\t\"percent\": 60.857963562011719\\n\\t\\t\\t},\\n\\t\\t\\t{\\n\\t\\t\\t\\t\"name\": \"WIN_BOMB_DEFUSE\",\\n\\t\\t\\t\\t\"percent\": 60.078079223632812\\n\\t\\t\\t},\\n\\t\\t\\t{\\n\\t\\t\\t\\t\"name\": \"KILLS_WITH_MULTIPLE_GUNS\",\\n\\t\\t\\t\\t\"percent\": 59.587837219238281\\n\\t\\t\\t},\\n\\t\\t\\t{\\n\\t\\t\\t\\t\"name\": \"WIN_BOMB_PLANT\",\\n\\t\\t\\t\\t\"percent\": 59.587043762207031\\n\\t\\t\\t},\\n\\t\\t\\t{\\n\\t\\t\\t\\t\"name\": \"AVENGE_FRIEND\",\\n\\t\\t\\t\\t\"percent\": 59.498756408691406\\n\\t\\t\\t},\\n\\t\\t\\t{\\n\\t\\t\\t\\t\"name\": \"DOMINATION_OVERKILLS_LOW\",\\n\\t\\t\\t\\t\"percent\": 59.327960968017578\\n\\t\\t\\t},\\n\\t\\t\\t{\\n\\t\\t\\t\\t\"name\": \"KILLING_SPREE\",\\n\\t\\t\\t\\t\"percent\": 58.051544189453125\\n\\t\\t\\t},\\n\\t\\t\\t{\\n\\t\\t\\t\\t\"name\": \"GIVE_DAMAGE_MED\",\\n\\t\\t\\t\\t\"percent\": 57.400600433349609\\n\\t\\t\\t},\\n\\t\\t\\t{\\n\\t\\t\\t\\t\"name\": \"KILL_ENEMIES_WHILE_BLIND\",\\n\\t\\t\\t\\t\"percent\": 56.711971282958984\\n\\t\\t\\t},\\n\\t\\t\\t{\\n\\t\\t\\t\\t\"name\": \"KILL_ENEMY_TEAM\",\\n\\t\\t\\t\\t\"percent\": 56.262260437011719\\n\\t\\t\\t},\\n\\t\\t\\t{\\n\\t\\t\\t\\t\"name\": \"KILL_ENEMY_MED\",\\n\\t\\t\\t\\t\"percent\": 54.635143280029297\\n\\t\\t\\t},\\n\\t\\t\\t{\\n\\t\\t\\t\\t\"name\": \"KILL_ENEMY_IN_AIR\",\\n\\t\\t\\t\\t\"percent\": 54.470355987548828\\n\\t\\t\\t},\\n\\t\\t\\t{\\n\\t\\t\\t\\t\"name\": \"KILL_BOMB_PICKUP\",\\n\\t\\t\\t\\t\"percent\": 54.205287933349609\\n\\t\\t\\t},\\n\\t\\t\\t{\\n\\t\\t\\t\\t\"name\": \"KILLING_SPREE_ENDER\",\\n\\t\\t\\t\\t\"percent\": 53.993553161621094\\n\\t\\t\\t},\\n\\t\\t\\t{\\n\\t\\t\\t\\t\"name\": \"KILL_TWO_WITH_ONE_SHOT\",\\n\\t\\t\\t\\t\"percent\": 53.403877258300781\\n\\t\\t\\t},\\n\\t\\t\\t{\\n\\t\\t\\t\\t\"name\": \"STILL_ALIVE\",\\n\\t\\t\\t\\t\"percent\": 51.430774688720703\\n\\t\\t\\t},\\n\\t\\t\\t{\\n\\t\\t\\t\\t\"name\": \"HEADSHOTS\",\\n\\t\\t\\t\\t\"percent\": 50.844669342041016\\n\\t\\t\\t},\\n\\t\\t\\t{\\n\\t\\t\\t\\t\"name\": \"WIN_KNIFE_FIGHTS_LOW\",\\n\\t\\t\\t\\t\"percent\": 50.463615417480469\\n\\t\\t\\t},\\n\\t\\t\\t{\\n\\t\\t\\t\\t\"name\": \"WIN_ROUNDS_MED\",\\n\\t\\t\\t\\t\"percent\": 50.427215576171875\\n\\t\\t\\t},\\n\\t\\t\\t{\\n\\t\\t\\t\\t\"name\": \"DOMINATIONS_HIGH\",\\n\\t\\t\\t\\t\"percent\": 49.570075988769531\\n\\t\\t\\t},\\n\\t\\t\\t{\\n\\t\\t\\t\\t\"name\": \"KILL_WHILE_IN_AIR\",\\n\\t\\t\\t\\t\"percent\": 47.872016906738281\\n\\t\\t\\t},\\n\\t\\t\\t{\\n\\t\\t\\t\\t\"name\": \"BORN_READY\",\\n\\t\\t\\t\\t\"percent\": 47.640296936035156\\n\\t\\t\\t},\\n\\t\\t\\t{\\n\\t\\t\\t\\t\"name\": \"WIN_PISTOLROUNDS_LOW\",\\n\\t\\t\\t\\t\"percent\": 47.407745361328125\\n\\t\\t\\t},\\n\\t\\t\\t{\\n\\t\\t\\t\\t\"name\": \"BASE_SCAMPER\",\\n\\t\\t\\t\\t\"percent\": 47.377613067626953\\n\\t\\t\\t},\\n\\t\\t\\t{\\n\\t\\t\\t\\t\"name\": \"WIN_MAP_DE_DUST2\",\\n\\t\\t\\t\\t\"percent\": 45.930557250976563\\n\\t\\t\\t},\\n\\t\\t\\t{\\n\\t\\t\\t\\t\"name\": \"FLAWLESS_VICTORY\",\\n\\t\\t\\t\\t\"percent\": 45.669960021972656\\n\\t\\t\\t},\\n\\t\\t\\t{\\n\\t\\t\\t\\t\"name\": \"KILL_WITH_OWN_GUN\",\\n\\t\\t\\t\\t\"percent\": 45.061977386474609\\n\\t\\t\\t},\\n\\t\\t\\t{\\n\\t\\t\\t\\t\"name\": \"KILL_BOMB_DEFUSER\",\\n\\t\\t\\t\\t\"percent\": 45.054359436035156\\n\\t\\t\\t},\\n\\t\\t\\t{\\n\\t\\t\\t\\t\"name\": \"KILL_SNIPERS\",\\n\\t\\t\\t\\t\"percent\": 44.579975128173828\\n\\t\\t\\t},\\n\\t\\t\\t{\\n\\t\\t\\t\\t\"name\": \"WIN_GUN_GAME_ROUNDS_LOW\",\\n\\t\\t\\t\\t\"percent\": 44.533267974853516\\n\\t\\t\\t},\\n\\t\\t\\t{\\n\\t\\t\\t\\t\"name\": \"EXTENDED_DOMINATION\",\\n\\t\\t\\t\\t\"percent\": 42.460762023925781\\n\\t\\t\\t},\\n\\t\\t\\t{\\n\\t\\t\\t\\t\"name\": \"GUN_GAME_FIRST_KILL\",\\n\\t\\t\\t\\t\"percent\": 42.310443878173828\\n\\t\\t\\t},\\n\\t\\t\\t{\\n\\t\\t\\t\\t\"name\": \"BOMB_PLANT_IN_25_SECONDS\",\\n\\t\\t\\t\\t\"percent\": 42.222053527832031\\n\\t\\t\\t},\\n\\t\\t\\t{\\n\\t\\t\\t\\t\"name\": \"WIN_BOMB_PLANT_AFTER_RECOVERY\",\\n\\t\\t\\t\\t\"percent\": 41.665069580078125\\n\\t\\t\\t},\\n\\t\\t\\t{\\n\\t\\t\\t\\t\"name\": \"GUN_GAME_KILL_KNIFER\",\\n\\t\\t\\t\\t\"percent\": 41.203811645507813\\n\\t\\t\\t},\\n\\t\\t\\t{\\n\\t\\t\\t\\t\"name\": \"EARN_MONEY_MED\",\\n\\t\\t\\t\\t\"percent\": 40.924800872802734\\n\\t\\t\\t},\\n\\t\\t\\t{\\n\\t\\t\\t\\t\"name\": \"KILL_ENEMY_P250\",\\n\\t\\t\\t\\t\"percent\": 40.498908996582031\\n\\t\\t\\t},\\n\\t\\t\\t{\\n\\t\\t\\t\\t\"name\": \"CONCURRENT_DOMINATIONS\",\\n\\t\\t\\t\\t\"percent\": 40.235153198242187\\n\\t\\t\\t},\\n\\t\\t\\t{\\n\\t\\t\\t\\t\"name\": \"WIN_PISTOLROUNDS_MED\",\\n\\t\\t\\t\\t\"percent\": 37.992290496826172\\n\\t\\t\\t},\\n\\t\\t\\t{\\n\\t\\t\\t\\t\"name\": \"KILL_ENEMY_BLINDED\",\\n\\t\\t\\t\\t\"percent\": 37.951858520507812\\n\\t\\t\\t},\\n\\t\\t\\t{\\n\\t\\t\\t\\t\"name\": \"KILL_ENEMY_FIVESEVEN\",\\n\\t\\t\\t\\t\"percent\": 37.757266998291016\\n\\t\\t\\t},\\n\\t\\t\\t{\\n\\t\\t\\t\\t\"name\": \"BLOODLESS_VICTORY\",\\n\\t\\t\\t\\t\"percent\": 37.433879852294922\\n\\t\\t\\t},\\n\\t\\t\\t{\\n\\t\\t\\t\\t\"name\": \"KILL_SNIPER_WITH_KNIFE\",\\n\\t\\t\\t\\t\"percent\": 37.385276794433594\\n\\t\\t\\t},\\n\\t\\t\\t{\\n\\t\\t\\t\\t\"name\": \"KILLS_ENEMY_WEAPON\",\\n\\t\\t\\t\\t\"percent\": 37.277568817138672\\n\\t\\t\\t},\\n\\t\\t\\t{\\n\\t\\t\\t\\t\"name\": \"PISTOL_ROUND_KNIFE_KILL\",\\n\\t\\t\\t\\t\"percent\": 36.150188446044922\\n\\t\\t\\t},\\n\\t\\t\\t{\\n\\t\\t\\t\\t\"name\": \"KILL_ENEMY_HKP2000\",\\n\\t\\t\\t\\t\"percent\": 35.554149627685547\\n\\t\\t\\t},\\n\\t\\t\\t{\\n\\t\\t\\t\\t\"name\": \"REVENGES_HIGH\",\\n\\t\\t\\t\\t\"percent\": 35.131649017333984\\n\\t\\t\\t},\\n\\t\\t\\t{\\n\\t\\t\\t\\t\"name\": \"DONATE_WEAPONS\",\\n\\t\\t\\t\\t\"percent\": 34.193183898925781\\n\\t\\t\\t},\\n\\t\\t\\t{\\n\\t\\t\\t\\t\"name\": \"KILL_WITH_EVERY_WEAPON\",\\n\\t\\t\\t\\t\"percent\": 32.896232604980469\\n\\t\\t\\t},\\n\\t\\t\\t{\\n\\t\\t\\t\\t\"name\": \"BOMB_PLANT_LOW\",\\n\\t\\t\\t\\t\"percent\": 31.872123718261719\\n\\t\\t\\t},\\n\\t\\t\\t{\\n\\t\\t\\t\\t\"name\": \"DEFUSE_DEFENSE\",\\n\\t\\t\\t\\t\"percent\": 31.847301483154297\\n\\t\\t\\t},\\n\\t\\t\\t{\\n\\t\\t\\t\\t\"name\": \"WIN_DUAL_DUEL\",\\n\\t\\t\\t\\t\"percent\": 31.698814392089844\\n\\t\\t\\t},\\n\\t\\t\\t{\\n\\t\\t\\t\\t\"name\": \"KILL_ENEMY_AWP\",\\n\\t\\t\\t\\t\"percent\": 31.625175476074219\\n\\t\\t\\t},\\n\\t\\t\\t{\\n\\t\\t\\t\\t\"name\": \"KILL_HOSTAGE_RESCUER\",\\n\\t\\t\\t\\t\"percent\": 31.502693176269531\\n\\t\\t\\t},\\n\\t\\t\\t{\\n\\t\\t\\t\\t\"name\": \"KILL_ENEMY_GLOCK\",\\n\\t\\t\\t\\t\"percent\": 30.94920539855957\\n\\t\\t\\t},\\n\\t\\t\\t{\\n\\t\\t\\t\\t\"name\": \"WIN_MAP_DE_LAKE\",\\n\\t\\t\\t\\t\"percent\": 30.295076370239258\\n\\t\\t\\t},\\n\\t\\t\\t{\\n\\t\\t\\t\\t\"name\": \"KILL_ENEMY_ELITE\",\\n\\t\\t\\t\\t\"percent\": 30.26506233215332\\n\\t\\t\\t},\\n\\t\\t\\t{\\n\\t\\t\\t\\t\"name\": \"ONE_SHOT_ONE_KILL\",\\n\\t\\t\\t\\t\"percent\": 30.240503311157227\\n\\t\\t\\t},\\n\\t\\t\\t{\\n\\t\\t\\t\\t\"name\": \"BOMB_DEFUSE_CLOSE_CALL\",\\n\\t\\t\\t\\t\"percent\": 29.322141647338867\\n\\t\\t\\t},\\n\\t\\t\\t{\\n\\t\\t\\t\\t\"name\": \"SURVIVE_GRENADE\",\\n\\t\\t\\t\\t\"percent\": 28.781646728515625\\n\\t\\t\\t},\\n\\t\\t\\t{\\n\\t\\t\\t\\t\"name\": \"WIN_MAP_DE_INFERNO\",\\n\\t\\t\\t\\t\"percent\": 28.672563552856445\\n\\t\\t\\t},\\n\\t\\t\\t{\\n\\t\\t\\t\\t\"name\": \"KILL_ENEMY_SG556\",\\n\\t\\t\\t\\t\"percent\": 28.245729446411133\\n\\t\\t\\t},\\n\\t\\t\\t{\\n\\t\\t\\t\\t\"name\": \"DEAD_GRENADE_KILL\",\\n\\t\\t\\t\\t\"percent\": 27.754371643066406\\n\\t\\t\\t},\\n\\t\\t\\t{\\n\\t\\t\\t\\t\"name\": \"KILL_ENEMIES_WHILE_BLIND_HARD\",\\n\\t\\t\\t\\t\"percent\": 26.967674255371094\\n\\t\\t\\t},\\n\\t\\t\\t{\\n\\t\\t\\t\\t\"name\": \"KILL_ENEMY_FAMAS\",\\n\\t\\t\\t\\t\"percent\": 26.727544784545898\\n\\t\\t\\t},\\n\\t\\t\\t{\\n\\t\\t\\t\\t\"name\": \"WIN_MAP_DE_BANK\",\\n\\t\\t\\t\\t\"percent\": 26.651256561279297\\n\\t\\t\\t},\\n\\t\\t\\t{\\n\\t\\t\\t\\t\"name\": \"KILL_ENEMY_DEAGLE\",\\n\\t\\t\\t\\t\"percent\": 25.939956665039063\\n\\t\\t\\t},\\n\\t\\t\\t{\\n\\t\\t\\t\\t\"name\": \"KILL_ENEMY_TEC9\",\\n\\t\\t\\t\\t\"percent\": 25.922981262207031\\n\\t\\t\\t},\\n\\t\\t\\t{\\n\\t\\t\\t\\t\"name\": \"GUN_GAME_ROUNDS_LOW\",\\n\\t\\t\\t\\t\"percent\": 25.59373664855957\\n\\t\\t\\t},\\n\\t\\t\\t{\\n\\t\\t\\t\\t\"name\": \"KILL_ENEMY_AK47\",\\n\\t\\t\\t\\t\"percent\": 24.632568359375\\n\\t\\t\\t},\\n\\t\\t\\t{\\n\\t\\t\\t\\t\"name\": \"GIVE_DAMAGE_HIGH\",\\n\\t\\t\\t\\t\"percent\": 23.838714599609375\\n\\t\\t\\t},\\n\\t\\t\\t{\\n\\t\\t\\t\\t\"name\": \"SILENT_WIN\",\\n\\t\\t\\t\\t\"percent\": 23.498117446899414\\n\\t\\t\\t},\\n\\t\\t\\t{\\n\\t\\t\\t\\t\"name\": \"KILL_ENEMY_MAG7\",\\n\\t\\t\\t\\t\"percent\": 22.82740592956543\\n\\t\\t\\t},\\n\\t\\t\\t{\\n\\t\\t\\t\\t\"name\": \"DOMINATION_OVERKILLS_MATCH\",\\n\\t\\t\\t\\t\"percent\": 22.694795608520508\\n\\t\\t\\t},\\n\\t\\t\\t{\\n\\t\\t\\t\\t\"name\": \"KILL_ENEMY_M4A1\",\\n\\t\\t\\t\\t\"percent\": 22.614768981933594\\n\\t\\t\\t},\\n\\t\\t\\t{\\n\\t\\t\\t\\t\"name\": \"KILL_ENEMY_SCAR20\",\\n\\t\\t\\t\\t\"percent\": 22.107822418212891\\n\\t\\t\\t},\\n\\t\\t\\t{\\n\\t\\t\\t\\t\"name\": \"KILL_ENEMY_KNIFE\",\\n\\t\\t\\t\\t\"percent\": 21.867525100708008\\n\\t\\t\\t},\\n\\t\\t\\t{\\n\\t\\t\\t\\t\"name\": \"KILL_ENEMY_SSG08\",\\n\\t\\t\\t\\t\"percent\": 21.787191390991211\\n\\t\\t\\t},\\n\\t\\t\\t{\\n\\t\\t\\t\\t\"name\": \"WIN_MAP_DE_NUKE\",\\n\\t\\t\\t\\t\"percent\": 20.527982711791992\\n\\t\\t\\t},\\n\\t\\t\\t{\\n\\t\\t\\t\\t\"name\": \"GUN_GAME_CONSERVATIONIST\",\\n\\t\\t\\t\\t\"percent\": 20.320146560668945\\n\\t\\t\\t},\\n\\t\\t\\t{\\n\\t\\t\\t\\t\"name\": \"KILL_ENEMY_NEGEV\",\\n\\t\\t\\t\\t\"percent\": 20.227767944335937\\n\\t\\t\\t},\\n\\t\\t\\t{\\n\\t\\t\\t\\t\"name\": \"DOMINATION_OVERKILLS_HIGH\",\\n\\t\\t\\t\\t\"percent\": 19.918867111206055\\n\\t\\t\\t},\\n\\t\\t\\t{\\n\\t\\t\\t\\t\"name\": \"KILL_ENEMY_SAWEDOFF\",\\n\\t\\t\\t\\t\"percent\": 19.672756195068359\\n\\t\\t\\t},\\n\\t\\t\\t{\\n\\t\\t\\t\\t\"name\": \"KILL_ENEMY_G3SG1\",\\n\\t\\t\\t\\t\"percent\": 19.525247573852539\\n\\t\\t\\t},\\n\\t\\t\\t{\\n\\t\\t\\t\\t\"name\": \"GUN_GAME_KNIFE_KILL_KNIFER\",\\n\\t\\t\\t\\t\"percent\": 19.459815979003906\\n\\t\\t\\t},\\n\\t\\t\\t{\\n\\t\\t\\t\\t\"name\": \"WIN_MAP_AR_SHOOTS\",\\n\\t\\t\\t\\t\"percent\": 19.218814849853516\\n\\t\\t\\t},\\n\\t\\t\\t{\\n\\t\\t\\t\\t\"name\": \"WIN_MAP_DE_SAFEHOUSE\",\\n\\t\\t\\t\\t\"percent\": 19.165628433227539\\n\\t\\t\\t},\\n\\t\\t\\t{\\n\\t\\t\\t\\t\"name\": \"KILL_ENEMY_NOVA\",\\n\\t\\t\\t\\t\"percent\": 18.962631225585938\\n\\t\\t\\t},\\n\\t\\t\\t{\\n\\t\\t\\t\\t\"name\": \"KILL_ENEMY_HIGH\",\\n\\t\\t\\t\\t\"percent\": 18.82109260559082\\n\\t\\t\\t},\\n\\t\\t\\t{\\n\\t\\t\\t\\t\"name\": \"KILL_ENEMY_P90\",\\n\\t\\t\\t\\t\"percent\": 18.365455627441406\\n\\t\\t\\t},\\n\\t\\t\\t{\\n\\t\\t\\t\\t\"name\": \"MEDALIST\",\\n\\t\\t\\t\\t\"percent\": 18.317066192626953\\n\\t\\t\\t},\\n\\t\\t\\t{\\n\\t\\t\\t\\t\"name\": \"META_PISTOL\",\\n\\t\\t\\t\\t\"percent\": 18.219533920288086\\n\\t\\t\\t},\\n\\t\\t\\t{\\n\\t\\t\\t\\t\"name\": \"WIN_MAP_DE_STMARC\",\\n\\t\\t\\t\\t\"percent\": 17.812450408935547\\n\\t\\t\\t},\\n\\t\\t\\t{\\n\\t\\t\\t\\t\"name\": \"WIN_PISTOLROUNDS_HIGH\",\\n\\t\\t\\t\\t\"percent\": 17.637382507324219\\n\\t\\t\\t},\\n\\t\\t\\t{\\n\\t\\t\\t\\t\"name\": \"KILL_ENEMY_TASER\",\\n\\t\\t\\t\\t\"percent\": 17.491462707519531\\n\\t\\t\\t},\\n\\t\\t\\t{\\n\\t\\t\\t\\t\"name\": \"KILL_ENEMY_MAC10\",\\n\\t\\t\\t\\t\"percent\": 17.324039459228516\\n\\t\\t\\t},\\n\\t\\t\\t{\\n\\t\\t\\t\\t\"name\": \"KILL_ENEMY_MP9\",\\n\\t\\t\\t\\t\"percent\": 16.721635818481445\\n\\t\\t\\t},\\n\\t\\t\\t{\\n\\t\\t\\t\\t\"name\": \"TR_BOMB_PLANT_LOW\",\\n\\t\\t\\t\\t\"percent\": 16.41474723815918\\n\\t\\t\\t},\\n\\t\\t\\t{\\n\\t\\t\\t\\t\"name\": \"KILL_ENEMY_AUG\",\\n\\t\\t\\t\\t\"percent\": 16.320886611938477\\n\\t\\t\\t},\\n\\t\\t\\t{\\n\\t\\t\\t\\t\"name\": \"WIN_ROUNDS_WITHOUT_BUYING\",\\n\\t\\t\\t\\t\"percent\": 16.17955207824707\\n\\t\\t\\t},\\n\\t\\t\\t{\\n\\t\\t\\t\\t\"name\": \"CAUSE_FRIENDLY_FIRE_WITH_FLASHBANG\",\\n\\t\\t\\t\\t\"percent\": 15.615036010742187\\n\\t\\t\\t},\\n\\t\\t\\t{\\n\\t\\t\\t\\t\"name\": \"GUN_GAME_SMG_KILL_KNIFER\",\\n\\t\\t\\t\\t\"percent\": 15.423466682434082\\n\\t\\t\\t},\\n\\t\\t\\t{\\n\\t\\t\\t\\t\"name\": \"WIN_ROUNDS_HIGH\",\\n\\t\\t\\t\\t\"percent\": 15.343414306640625\\n\\t\\t\\t},\\n\\t\\t\\t{\\n\\t\\t\\t\\t\"name\": \"BOMB_DEFUSE_LOW\",\\n\\t\\t\\t\\t\"percent\": 15.138873100280762\\n\\t\\t\\t},\\n\\t\\t\\t{\\n\\t\\t\\t\\t\"name\": \"WIN_MAP_DE_SUGARCANE\",\\n\\t\\t\\t\\t\"percent\": 14.797757148742676\\n\\t\\t\\t},\\n\\t\\t\\t{\\n\\t\\t\\t\\t\"name\": \"RESCUE_ALL_HOSTAGES\",\\n\\t\\t\\t\\t\"percent\": 14.019515991210937\\n\\t\\t\\t},\\n\\t\\t\\t{\\n\\t\\t\\t\\t\"name\": \"KILL_ENEMY_GALILAR\",\\n\\t\\t\\t\\t\"percent\": 13.675106048583984\\n\\t\\t\\t},\\n\\t\\t\\t{\\n\\t\\t\\t\\t\"name\": \"KILL_ENEMY_MP7\",\\n\\t\\t\\t\\t\"percent\": 13.359249114990234\\n\\t\\t\\t},\\n\\t\\t\\t{\\n\\t\\t\\t\\t\"name\": \"WIN_MAP_AR_BAGGAGE\",\\n\\t\\t\\t\\t\"percent\": 13.309749603271484\\n\\t\\t\\t},\\n\\t\\t\\t{\\n\\t\\t\\t\\t\"name\": \"KILL_ENEMY_M249\",\\n\\t\\t\\t\\t\"percent\": 13.237833976745605\\n\\t\\t\\t},\\n\\t\\t\\t{\\n\\t\\t\\t\\t\"name\": \"WIN_MAP_DE_SHORTTRAIN\",\\n\\t\\t\\t\\t\"percent\": 13.168448448181152\\n\\t\\t\\t},\\n\\t\\t\\t{\\n\\t\\t\\t\\t\"name\": \"KILL_ENEMY_BIZON\",\\n\\t\\t\\t\\t\"percent\": 12.889962196350098\\n\\t\\t\\t},\\n\\t\\t\\t{\\n\\t\\t\\t\\t\"name\": \"KILL_ENEMY_UMP45\",\\n\\t\\t\\t\\t\"percent\": 12.768496513366699\\n\\t\\t\\t},\\n\\t\\t\\t{\\n\\t\\t\\t\\t\"name\": \"GOOSE_CHASE\",\\n\\t\\t\\t\\t\"percent\": 10.879073143005371\\n\\t\\t\\t},\\n\\t\\t\\t{\\n\\t\\t\\t\\t\"name\": \"KILL_ENEMY_XM1014\",\\n\\t\\t\\t\\t\"percent\": 10.724143981933594\\n\\t\\t\\t},\\n\\t\\t\\t{\\n\\t\\t\\t\\t\"name\": \"PLAY_EVERY_GUNGAME_MAP\",\\n\\t\\t\\t\\t\"percent\": 10.600651741027832\\n\\t\\t\\t},\\n\\t\\t\\t{\\n\\t\\t\\t\\t\"name\": \"FAST_HOSTAGE_RESCUE\",\\n\\t\\t\\t\\t\"percent\": 10.125537872314453\\n\\t\\t\\t},\\n\\t\\t\\t{\\n\\t\\t\\t\\t\"name\": \"KILL_ENEMY_HEGRENADE\",\\n\\t\\t\\t\\t\"percent\": 9.7875652313232422\\n\\t\\t\\t},\\n\\t\\t\\t{\\n\\t\\t\\t\\t\"name\": \"META_SHOTGUN\",\\n\\t\\t\\t\\t\"percent\": 9.5539569854736328\\n\\t\\t\\t},\\n\\t\\t\\t{\\n\\t\\t\\t\\t\"name\": \"KILLER_AND_ENEMY_IN_AIR\",\\n\\t\\t\\t\\t\"percent\": 9.448638916015625\\n\\t\\t\\t},\\n\\t\\t\\t{\\n\\t\\t\\t\\t\"name\": \"SURVIVE_MANY_ATTACKS\",\\n\\t\\t\\t\\t\"percent\": 9.1556205749511719\\n\\t\\t\\t},\\n\\t\\t\\t{\\n\\t\\t\\t\\t\"name\": \"WIN_MAP_DE_TRAIN\",\\n\\t\\t\\t\\t\"percent\": 8.9893569946289062\\n\\t\\t\\t},\\n\\t\\t\\t{\\n\\t\\t\\t\\t\"name\": \"META_RIFLE\",\\n\\t\\t\\t\\t\"percent\": 8.6748046875\\n\\t\\t\\t},\\n\\t\\t\\t{\\n\\t\\t\\t\\t\"name\": \"WIN_KNIFE_FIGHTS_HIGH\",\\n\\t\\t\\t\\t\"percent\": 8.637120246887207\\n\\t\\t\\t},\\n\\t\\t\\t{\\n\\t\\t\\t\\t\"name\": \"TR_BOMB_DEFUSE_LOW\",\\n\\t\\t\\t\\t\"percent\": 8.5121755599975586\\n\\t\\t\\t},\\n\\t\\t\\t{\\n\\t\\t\\t\\t\"name\": \"GUN_GAME_FIRST_THING_FIRST\",\\n\\t\\t\\t\\t\"percent\": 8.3658199310302734\\n\\t\\t\\t},\\n\\t\\t\\t{\\n\\t\\t\\t\\t\"name\": \"META_SMG\",\\n\\t\\t\\t\\t\"percent\": 8.3170766830444336\\n\\t\\t\\t},\\n\\t\\t\\t{\\n\\t\\t\\t\\t\"name\": \"GRENADE_MULTIKILL\",\\n\\t\\t\\t\\t\"percent\": 8.2023134231567383\\n\\t\\t\\t},\\n\\t\\t\\t{\\n\\t\\t\\t\\t\"name\": \"WIN_GUN_GAME_ROUNDS_MED\",\\n\\t\\t\\t\\t\"percent\": 8.1372556686401367\\n\\t\\t\\t},\\n\\t\\t\\t{\\n\\t\\t\\t\\t\"name\": \"GUN_GAME_TARGET_SECURED\",\\n\\t\\t\\t\\t\"percent\": 8.1097640991210937\\n\\t\\t\\t},\\n\\t\\t\\t{\\n\\t\\t\\t\\t\"name\": \"WIN_MAP_CS_OFFICE\",\\n\\t\\t\\t\\t\"percent\": 8.0305290222167969\\n\\t\\t\\t},\\n\\t\\t\\t{\\n\\t\\t\\t\\t\"name\": \"EARN_MONEY_HIGH\",\\n\\t\\t\\t\\t\"percent\": 7.998809814453125\\n\\t\\t\\t},\\n\\t\\t\\t{\\n\\t\\t\\t\\t\"name\": \"BREAK_WINDOWS\",\\n\\t\\t\\t\\t\"percent\": 7.5506381988525391\\n\\t\\t\\t},\\n\\t\\t\\t{\\n\\t\\t\\t\\t\"name\": \"KILL_ENEMY_MOLOTOV\",\\n\\t\\t\\t\\t\"percent\": 6.2378096580505371\\n\\t\\t\\t},\\n\\t\\t\\t{\\n\\t\\t\\t\\t\"name\": \"KILLED_DEFUSER_WITH_GRENADE\",\\n\\t\\t\\t\\t\"percent\": 5.9023523330688477\\n\\t\\t\\t},\\n\\t\\t\\t{\\n\\t\\t\\t\\t\"name\": \"WIN_MAP_DE_DUST\",\\n\\t\\t\\t\\t\"percent\": 5.6843490600585937\\n\\t\\t\\t},\\n\\t\\t\\t{\\n\\t\\t\\t\\t\"name\": \"GUN_GAME_ROUNDS_MED\",\\n\\t\\t\\t\\t\"percent\": 5.3774709701538086\\n\\t\\t\\t},\\n\\t\\t\\t{\\n\\t\\t\\t\\t\"name\": \"WIN_MAP_CS_ITALY\",\\n\\t\\t\\t\\t\"percent\": 5.0725150108337402\\n\\t\\t\\t},\\n\\t\\t\\t{\\n\\t\\t\\t\\t\"name\": \"WIN_EVERY_GUNGAME_MAP\",\\n\\t\\t\\t\\t\"percent\": 4.9297289848327637\\n\\t\\t\\t},\\n\\t\\t\\t{\\n\\t\\t\\t\\t\"name\": \"META_WEAPONMASTER\",\\n\\t\\t\\t\\t\"percent\": 4.885551929473877\\n\\t\\t\\t},\\n\\t\\t\\t{\\n\\t\\t\\t\\t\"name\": \"WIN_MAP_DE_AZTEC\",\\n\\t\\t\\t\\t\"percent\": 4.7387809753417969\\n\\t\\t\\t},\\n\\t\\t\\t{\\n\\t\\t\\t\\t\"name\": \"BOMB_MULTIKILL\",\\n\\t\\t\\t\\t\"percent\": 3.9934251308441162\\n\\t\\t\\t},\\n\\t\\t\\t{\\n\\t\\t\\t\\t\"name\": \"GUN_GAME_RAMPAGE\",\\n\\t\\t\\t\\t\"percent\": 3.6780383586883545\\n\\t\\t\\t},\\n\\t\\t\\t{\\n\\t\\t\\t\\t\"name\": \"RESCUE_HOSTAGES_LOW\",\\n\\t\\t\\t\\t\"percent\": 3.2671935558319092\\n\\t\\t\\t},\\n\\t\\t\\t{\\n\\t\\t\\t\\t\"name\": \"WIN_GUN_GAME_ROUNDS_HIGH\",\\n\\t\\t\\t\\t\"percent\": 3.0279200077056885\\n\\t\\t\\t},\\n\\t\\t\\t{\\n\\t\\t\\t\\t\"name\": \"RESCUE_HOSTAGES_MED\",\\n\\t\\t\\t\\t\"percent\": 2.8111164569854736\\n\\t\\t\\t},\\n\\t\\t\\t{\\n\\t\\t\\t\\t\"name\": \"WIN_GUN_GAME_ROUNDS_EXTREME\",\\n\\t\\t\\t\\t\"percent\": 2.469379186630249\\n\\t\\t\\t},\\n\\t\\t\\t{\\n\\t\\t\\t\\t\"name\": \"WIN_GUN_GAME_ROUNDS_ULTIMATE\",\\n\\t\\t\\t\\t\"percent\": 2.4046542644500732\\n\\t\\t\\t},\\n\\t\\t\\t{\\n\\t\\t\\t\\t\"name\": \"GUN_GAME_ROUNDS_HIGH\",\\n\\t\\t\\t\\t\"percent\": 2.348156213760376\\n\\t\\t\\t},\\n\\t\\t\\t{\\n\\t\\t\\t\\t\"name\": \"SURVIVED_HEADSHOT_DUE_TO_HELMET\",\\n\\t\\t\\t\\t\"percent\": 0.015847025439143181\\n\\t\\t\\t},\\n\\t\\t\\t{\\n\\t\\t\\t\\t\"name\": \"BOMB_DEFUSE_NEEDED_KIT\",\\n\\t\\t\\t\\t\"percent\": 0.012974617071449757\\n\\t\\t\\t},\\n\\t\\t\\t{\\n\\t\\t\\t\\t\"name\": \"BREAK_PROPS\",\\n\\t\\t\\t\\t\"percent\": 0.010564683936536312\\n\\t\\t\\t},\\n\\t\\t\\t{\\n\\t\\t\\t\\t\"name\": \"GUN_GAME_SELECT_SUICIDE_WITH_KNIFE\",\\n\\t\\t\\t\\t\"percent\": 0.0080897156149148941\\n\\t\\t\\t},\\n\\t\\t\\t{\\n\\t\\t\\t\\t\"name\": \"KILL_ENEMY_USP\",\\n\\t\\t\\t\\t\"percent\": 0.00020955938089173287\\n\\t\\t\\t},\\n\\t\\t\\t{\\n\\t\\t\\t\\t\"name\": \"WIN_MAP_CS_ASSAULT\",\\n\\t\\t\\t\\t\"percent\": 0.00020955938089173287\\n\\t\\t\\t},\\n\\t\\t\\t{\\n\\t\\t\\t\\t\"name\": \"WIN_MAP_DE_PORT\",\\n\\t\\t\\t\\t\"percent\": 0.00020594630041159689\\n\\t\\t\\t},\\n\\t\\t\\t{\\n\\t\\t\\t\\t\"name\": \"KILL_ENEMY_SCAR17\",\\n\\t\\t\\t\\t\"percent\": 0.00020594630041159689\\n\\t\\t\\t},\\n\\t\\t\\t{\\n\\t\\t\\t\\t\"name\": \"KILL_ENEMY_SG552\",\\n\\t\\t\\t\\t\"percent\": 0.00020594630041159689\\n\\t\\t\\t},\\n\\t\\t\\t{\\n\\t\\t\\t\\t\"name\": \"KILL_ENEMY_SCOUT\",\\n\\t\\t\\t\\t\"percent\": 0.00020594630041159689\\n\\t\\t\\t},\\n\\t\\t\\t{\\n\\t\\t\\t\\t\"name\": \"WIN_MAP_CS_MILITIA\",\\n\\t\\t\\t\\t\"percent\": 0.00020594630041159689\\n\\t\\t\\t},\\n\\t\\t\\t{\\n\\t\\t\\t\\t\"name\": \"KILL_ENEMY_MP5NAVY\",\\n\\t\\t\\t\\t\"percent\": 0.00020594630041159689\\n\\t\\t\\t},\\n\\t\\t\\t{\\n\\t\\t\\t\\t\"name\": \"KILL_ENEMY_GALIL\",\\n\\t\\t\\t\\t\"percent\": 0.00020594630041159689\\n\\t\\t\\t},\\n\\t\\t\\t{\\n\\t\\t\\t\\t\"name\": \"WIN_MAP_DE_EMBASSY\",\\n\\t\\t\\t\\t\"percent\": 0.00020594630041159689\\n\\t\\t\\t},\\n\\t\\t\\t{\\n\\t\\t\\t\\t\"name\": \"KILL_ENEMY_P228\",\\n\\t\\t\\t\\t\"percent\": 0.00020594630041159689\\n\\t\\t\\t},\\n\\t\\t\\t{\\n\\t\\t\\t\\t\"name\": \"KILL_ENEMY_TMP\",\\n\\t\\t\\t\\t\"percent\": 0.00020594630041159689\\n\\t\\t\\t},\\n\\t\\t\\t{\\n\\t\\t\\t\\t\"name\": \"WIN_MAP_DE_TIDES\",\\n\\t\\t\\t\\t\"percent\": 0.00020233319082763046\\n\\t\\t\\t},\\n\\t\\t\\t{\\n\\t\\t\\t\\t\"name\": \"KILL_ENEMY_M3\",\\n\\t\\t\\t\\t\"percent\": 0.00020233319082763046\\n\\t\\t\\t},\\n\\t\\t\\t{\\n\\t\\t\\t\\t\"name\": \"KILL_ENEMY_SG550\",\\n\\t\\t\\t\\t\"percent\": 0.00020233319082763046\\n\\t\\t\\t},\\n\\t\\t\\t{\\n\\t\\t\\t\\t\"name\": \"WIN_MAP_DE_PRODIGY\",\\n\\t\\t\\t\\t\"percent\": 0.00020233319082763046\\n\\t\\t\\t},\\n\\t\\t\\t{\\n\\t\\t\\t\\t\"name\": \"WIN_MAP_DE_PIRANESI\",\\n\\t\\t\\t\\t\"percent\": 0.00020233319082763046\\n\\t\\t\\t},\\n\\t\\t\\t{\\n\\t\\t\\t\\t\"name\": \"WIN_MAP_CS_HAVANA\",\\n\\t\\t\\t\\t\"percent\": 0.00020233319082763046\\n\\t\\t\\t},\\n\\t\\t\\t{\\n\\t\\t\\t\\t\"name\": \"WIN_MAP_DE_DEPOT\",\\n\\t\\t\\t\\t\"percent\": 0.00020233319082763046\\n\\t\\t\\t},\\n\\t\\t\\t{\\n\\t\\t\\t\\t\"name\": \"WIN_MAP_DE_CHATEAU\",\\n\\t\\t\\t\\t\"percent\": 0.00020233319082763046\\n\\t\\t\\t},\\n\\t\\t\\t{\\n\\t\\t\\t\\t\"name\": \"WIN_MAP_CS_COMPOUND\",\\n\\t\\t\\t\\t\"percent\": 0.00020233319082763046\\n\\t\\t\\t},\\n\\t\\t\\t{\\n\\t\\t\\t\\t\"name\": \"WIN_MAP_DE_CBBLE\",\\n\\t\\t\\t\\t\"percent\": 0.00020233319082763046\\n\\t\\t\\t},\\n\\t\\t\\t{\\n\\t\\t\\t\\t\"name\": \"\",\\n\\t\\t\\t\\t\"percent\": 0\\n\\t\\t\\t}\\n\\t\\t]\\n\\t\\t\\n\\t}\\n}'"
      ]
     },
     "execution_count": 140,
     "metadata": {},
     "output_type": "execute_result"
    }
   ],
   "source": []
  },
  {
   "cell_type": "code",
   "execution_count": null,
   "metadata": {
    "collapsed": true
   },
   "outputs": [],
   "source": []
  },
  {
   "cell_type": "code",
   "execution_count": null,
   "metadata": {
    "collapsed": true
   },
   "outputs": [],
   "source": []
  },
  {
   "cell_type": "code",
   "execution_count": null,
   "metadata": {
    "collapsed": true
   },
   "outputs": [],
   "source": []
  },
  {
   "cell_type": "code",
   "execution_count": null,
   "metadata": {
    "collapsed": true
   },
   "outputs": [],
   "source": []
  },
  {
   "cell_type": "code",
   "execution_count": 3,
   "metadata": {
    "collapsed": true
   },
   "outputs": [],
   "source": [
    "id1 = \"76561198092689293\"\n",
    "url = \"http://steamcommunity.com/profiles/\"+id1"
   ]
  },
  {
   "cell_type": "code",
   "execution_count": 12,
   "metadata": {
    "collapsed": false
   },
   "outputs": [
    {
     "data": {
      "text/plain": [
       "'http://steamcommunity.com/profiles/76561198092689293'"
      ]
     },
     "execution_count": 12,
     "metadata": {},
     "output_type": "execute_result"
    }
   ],
   "source": [
    "url"
   ]
  },
  {
   "cell_type": "code",
   "execution_count": 8,
   "metadata": {
    "collapsed": false
   },
   "outputs": [],
   "source": [
    "text = requests.get(url).text"
   ]
  },
  {
   "cell_type": "code",
   "execution_count": 9,
   "metadata": {
    "collapsed": false
   },
   "outputs": [],
   "source": [
    "rm_delims = re.sub(r\"[\\t\\r\\n]+\", r\" \", text)\n",
    "rm_breaks = re.sub(r\"\\<br\\>+\", r\" \", rm_delims).strip()"
   ]
  },
  {
   "cell_type": "code",
   "execution_count": 10,
   "metadata": {
    "collapsed": false
   },
   "outputs": [],
   "source": [
    "soup = BeautifulSoup(rm_breaks, \"lxml\")"
   ]
  },
  {
   "cell_type": "markdown",
   "metadata": {},
   "source": [
    "# Get some profile Info"
   ]
  },
  {
   "cell_type": "markdown",
   "metadata": {},
   "source": [
    "`soup.find_all(\"div\", \"profile_count_link\")`"
   ]
  },
  {
   "cell_type": "markdown",
   "metadata": {},
   "source": [
    "Using index of -1 below prevents an error for \"inventory\", which only had one index, where others had 2"
   ]
  },
  {
   "cell_type": "code",
   "execution_count": 48,
   "metadata": {
    "collapsed": false
   },
   "outputs": [
    {
     "data": {
      "text/plain": [
       "{'stuff': [{u'Badges': u'5'},\n",
       "  {u'Games': u'32'},\n",
       "  {u'Inventory': u'Inventory'},\n",
       "  {u'Screenshots': u'145'},\n",
       "  {u'Reviews': u'3'},\n",
       "  {u'Groups': u'26'},\n",
       "  {u'Friends': u'83'}]}"
      ]
     },
     "execution_count": 48,
     "metadata": {},
     "output_type": "execute_result"
    }
   ],
   "source": [
    "profile_dict = {}\n",
    "profile_dict[\"stuff\"] = [{list(link.stripped_strings)[0]:list(link.stripped_strings)[-1]} for link in profile_links]\n",
    "profile_dict"
   ]
  },
  {
   "cell_type": "markdown",
   "metadata": {},
   "source": [
    "`soup.find_all(\"div\", \"profile_count_link\")`"
   ]
  },
  {
   "cell_type": "code",
   "execution_count": 56,
   "metadata": {
    "collapsed": false
   },
   "outputs": [],
   "source": [
    "profile_dict[\"online_status\"] = [list(link.stripped_strings) for link in soup.find_all(\"div\", \"responsive_status_info\")]"
   ]
  },
  {
   "cell_type": "code",
   "execution_count": 57,
   "metadata": {
    "collapsed": false
   },
   "outputs": [
    {
     "data": {
      "text/plain": [
       "{'online_status': [[u'Currently In-Game',\n",
       "   u\"Sid Meier's Civilization V\",\n",
       "   u'Join Game']],\n",
       " 'stuff': [{u'Badges': u'5'},\n",
       "  {u'Games': u'32'},\n",
       "  {u'Inventory': u'Inventory'},\n",
       "  {u'Screenshots': u'145'},\n",
       "  {u'Reviews': u'3'},\n",
       "  {u'Groups': u'26'},\n",
       "  {u'Friends': u'83'}]}"
      ]
     },
     "execution_count": 57,
     "metadata": {},
     "output_type": "execute_result"
    }
   ],
   "source": [
    "profile_dict"
   ]
  },
  {
   "cell_type": "code",
   "execution_count": 72,
   "metadata": {
    "collapsed": false
   },
   "outputs": [
    {
     "data": {
      "text/plain": [
       "'659 achievements in 16 different games.'"
      ]
     },
     "execution_count": 72,
     "metadata": {},
     "output_type": "execute_result"
    }
   ],
   "source": [
    "soup.find_all(\"div\", \"showcase_stat\")[0].attrs['data-community-tooltip']"
   ]
  },
  {
   "cell_type": "code",
   "execution_count": 64,
   "metadata": {
    "collapsed": false
   },
   "outputs": [
    {
     "data": {
      "text/plain": [
       "[u' 659 Achievements ', u' 23% Avg. Game Completion Rate ']"
      ]
     },
     "execution_count": 64,
     "metadata": {},
     "output_type": "execute_result"
    }
   ],
   "source": [
    "[''.join(link.text) for link in soup.find_all(\"div\", \"showcase_stat\")]"
   ]
  },
  {
   "cell_type": "code",
   "execution_count": 79,
   "metadata": {
    "collapsed": false
   },
   "outputs": [],
   "source": [
    "recent_3_games = soup.find_all(\"div\", \"game_info\")"
   ]
  },
  {
   "cell_type": "code",
   "execution_count": 80,
   "metadata": {
    "collapsed": false
   },
   "outputs": [
    {
     "data": {
      "text/plain": [
       "[[u'222 hrs on record  Currently In-Game', u\"Sid Meier's Civilization V\"],\n",
       " [u'847 hrs on record  last played on Apr 8', u'Team Fortress 2'],\n",
       " [u'3.6 hrs on record  last played on Apr 7', u'Dino D-Day']]"
      ]
     },
     "execution_count": 80,
     "metadata": {},
     "output_type": "execute_result"
    }
   ],
   "source": [
    "[list(game.stripped_strings) for game in recent_3_games]"
   ]
  },
  {
   "cell_type": "code",
   "execution_count": 82,
   "metadata": {
    "collapsed": false
   },
   "outputs": [],
   "source": [
    "other_stuff = soup.find_all(\"div\", \"profile_customization_area\")"
   ]
  },
  {
   "cell_type": "code",
   "execution_count": 88,
   "metadata": {
    "collapsed": false
   },
   "outputs": [
    {
     "data": {
      "text/plain": [
       "[[u'Achievement Showcase',\n",
       "  u'+653',\n",
       "  u'659',\n",
       "  u'Achievements',\n",
       "  u'23%',\n",
       "  u'Avg. Game Completion Rate']]"
      ]
     },
     "execution_count": 88,
     "metadata": {},
     "output_type": "execute_result"
    }
   ],
   "source": [
    "[list(thing.stripped_strings) for thing in other_stuff]"
   ]
  },
  {
   "cell_type": "code",
   "execution_count": 107,
   "metadata": {
    "collapsed": false
   },
   "outputs": [
    {
     "data": {
      "text/plain": [
       "[u'FeeDee', u'United Kingdom (Great Britain)']"
      ]
     },
     "execution_count": 107,
     "metadata": {},
     "output_type": "execute_result"
    }
   ],
   "source": [
    "list(soup.find_all(\"div\", \"header_real_name\")[0].stripped_strings)"
   ]
  },
  {
   "cell_type": "code",
   "execution_count": null,
   "metadata": {
    "collapsed": true
   },
   "outputs": [],
   "source": []
  },
  {
   "cell_type": "code",
   "execution_count": null,
   "metadata": {
    "collapsed": true
   },
   "outputs": [],
   "source": []
  },
  {
   "cell_type": "code",
   "execution_count": null,
   "metadata": {
    "collapsed": true
   },
   "outputs": [],
   "source": []
  },
  {
   "cell_type": "code",
   "execution_count": null,
   "metadata": {
    "collapsed": true
   },
   "outputs": [],
   "source": []
  },
  {
   "cell_type": "code",
   "execution_count": null,
   "metadata": {
    "collapsed": true
   },
   "outputs": [],
   "source": []
  },
  {
   "cell_type": "code",
   "execution_count": null,
   "metadata": {
    "collapsed": true
   },
   "outputs": [],
   "source": []
  },
  {
   "cell_type": "code",
   "execution_count": null,
   "metadata": {
    "collapsed": true
   },
   "outputs": [],
   "source": []
  },
  {
   "cell_type": "code",
   "execution_count": 18,
   "metadata": {
    "collapsed": true
   },
   "outputs": [],
   "source": [
    "import pandas as pd"
   ]
  },
  {
   "cell_type": "code",
   "execution_count": 47,
   "metadata": {
    "collapsed": false
   },
   "outputs": [],
   "source": [
    "banned_df = pd.DataFrame(banned_list)"
   ]
  },
  {
   "cell_type": "code",
   "execution_count": 76,
   "metadata": {
    "collapsed": true
   },
   "outputs": [],
   "source": [
    "another = 'http://steamcommunity.com/profiles/76561198092689293/?xml=1'"
   ]
  },
  {
   "cell_type": "code",
   "execution_count": 77,
   "metadata": {
    "collapsed": false
   },
   "outputs": [],
   "source": [
    "page = requests.get(another)"
   ]
  },
  {
   "cell_type": "code",
   "execution_count": 78,
   "metadata": {
    "collapsed": true
   },
   "outputs": [],
   "source": [
    "text = page.text"
   ]
  },
  {
   "cell_type": "code",
   "execution_count": 138,
   "metadata": {
    "collapsed": false
   },
   "outputs": [],
   "source": [
    "with open(\"/Users/johnnysand/Downloads/Counter_Strike_Global_Offensive.jsonlines\") as f:\n",
    "    CSGO = [json.loads(review) for review in f]"
   ]
  },
  {
   "cell_type": "code",
   "execution_count": 140,
   "metadata": {
    "collapsed": true
   },
   "outputs": [],
   "source": [
    "csdf = pd.DataFrame(CSGO)"
   ]
  },
  {
   "cell_type": "code",
   "execution_count": 147,
   "metadata": {
    "collapsed": false
   },
   "outputs": [
    {
     "data": {
      "text/plain": [
       "[]"
      ]
     },
     "execution_count": 147,
     "metadata": {},
     "output_type": "execute_result"
    }
   ],
   "source": [
    "get_bans('54432109565543')"
   ]
  },
  {
   "cell_type": "code",
   "execution_count": 151,
   "metadata": {
    "collapsed": false
   },
   "outputs": [
    {
     "data": {
      "text/plain": [
       "Index([u'achievement_progress', u'date_posted', u'date_updated',\n",
       "       u'found_helpful_percentage', u'friend_player_level', u'num_badges',\n",
       "       u'num_comments', u'num_found_funny', u'num_found_helpful',\n",
       "       u'num_found_unhelpful', u'num_friends', u'num_games_owned',\n",
       "       u'num_groups', u'num_guides', u'num_reviews', u'num_screenshots',\n",
       "       u'num_voted_helpfulness', u'num_workshop_items', u'orig_url',\n",
       "       u'profile_url', u'rating', u'review', u'review_url', u'steam_id_number',\n",
       "       u'total_game_hours', u'total_game_hours_last_two_weeks', u'username'],\n",
       "      dtype='object')"
      ]
     },
     "execution_count": 151,
     "metadata": {},
     "output_type": "execute_result"
    }
   ],
   "source": [
    "csdf.columns"
   ]
  },
  {
   "cell_type": "code",
   "execution_count": 153,
   "metadata": {
    "collapsed": false
   },
   "outputs": [
    {
     "data": {
      "text/plain": [
       "1680"
      ]
     },
     "execution_count": 153,
     "metadata": {},
     "output_type": "execute_result"
    }
   ],
   "source": [
    "csdf[np.array(map(lambda x: len(x), csdf['steam_id_number']))==17]['steam_id_number'].count()"
   ]
  },
  {
   "cell_type": "code",
   "execution_count": null,
   "metadata": {
    "collapsed": true
   },
   "outputs": [],
   "source": []
  },
  {
   "cell_type": "code",
   "execution_count": 145,
   "metadata": {
    "collapsed": false
   },
   "outputs": [
    {
     "data": {
      "text/plain": [
       "0       76561198092689293\n",
       "1                 Delta3D\n",
       "2                   kadiv\n",
       "3                    knal\n",
       "4       76561198003457024\n",
       "5           hiaympalliman\n",
       "6                 ZoomaAP\n",
       "7           RevanDaDragon\n",
       "8           greybutnotgey\n",
       "9               End3rb0rn\n",
       "10              broilertm\n",
       "11      76561198078752967\n",
       "12             TURBOSKILL\n",
       "13      76561198028703104\n",
       "14      76561198066593729\n",
       "15                 w0lks4\n",
       "16             seeneesini\n",
       "17      76561198072154474\n",
       "18                 eys912\n",
       "19      76561198092689293\n",
       "20                Delta3D\n",
       "21                  kadiv\n",
       "22                   knal\n",
       "23      76561198003457024\n",
       "24          hiaympalliman\n",
       "25                ZoomaAP\n",
       "26          RevanDaDragon\n",
       "27          greybutnotgey\n",
       "28              End3rb0rn\n",
       "29                 Erincl\n",
       "              ...        \n",
       "7043           PePeIsGOD2\n",
       "7044    76561198093345061\n",
       "7045              fili716\n",
       "7046    76561198043999022\n",
       "7047      stealth_assasin\n",
       "7048          Trident3553\n",
       "7049            Holtimsky\n",
       "7050              Happsen\n",
       "7051               Dirkjr\n",
       "7052    76561198062924990\n",
       "7053      StonedHillbilly\n",
       "7054            hoyamuncs\n",
       "7055              topolop\n",
       "7056                pasq_\n",
       "7057    76561198067775381\n",
       "7058            fagmilker\n",
       "7059            ultrawubs\n",
       "7060          TheFearless\n",
       "7061     whothehellcaress\n",
       "7062           Monster-64\n",
       "7063    76561198013324669\n",
       "7064        JOHNCOOKSEYJC\n",
       "7065          redman1111x\n",
       "7066           weedtanzer\n",
       "7067                Refya\n",
       "7068       54432109565543\n",
       "7069         abyssaltyler\n",
       "7070    76561198132809342\n",
       "7071    76561198021148856\n",
       "7072    76561198063510198\n",
       "Name: steam_id_number, dtype: object"
      ]
     },
     "execution_count": 145,
     "metadata": {},
     "output_type": "execute_result"
    }
   ],
   "source": [
    "csdf['steam_id_number']"
   ]
  },
  {
   "cell_type": "code",
   "execution_count": null,
   "metadata": {
    "collapsed": true
   },
   "outputs": [],
   "source": []
  },
  {
   "cell_type": "code",
   "execution_count": null,
   "metadata": {
    "collapsed": true
   },
   "outputs": [],
   "source": []
  },
  {
   "cell_type": "code",
   "execution_count": null,
   "metadata": {
    "collapsed": true
   },
   "outputs": [],
   "source": []
  },
  {
   "cell_type": "code",
   "execution_count": 80,
   "metadata": {
    "collapsed": true
   },
   "outputs": [],
   "source": [
    "text = re.sub(r'\\<br\\>', r' ', text) # Looks for the string \"<br>\"\n",
    "    # and replaces it with a space\n",
    "text = re.sub(r'[\\n\\t\\r ]+', r' ', text) # Looks for any sequence\n",
    "    # of carriage returns or whitespace characters and replaces\n",
    "    # them with a single space\n",
    "text = text.strip()"
   ]
  },
  {
   "cell_type": "code",
   "execution_count": 93,
   "metadata": {
    "collapsed": false
   },
   "outputs": [],
   "source": [
    "soup = BeautifulSoup(text, 'lxml')"
   ]
  },
  {
   "cell_type": "code",
   "execution_count": null,
   "metadata": {
    "collapsed": true
   },
   "outputs": [],
   "source": []
  },
  {
   "cell_type": "code",
   "execution_count": null,
   "metadata": {
    "collapsed": true
   },
   "outputs": [],
   "source": []
  },
  {
   "cell_type": "code",
   "execution_count": null,
   "metadata": {
    "collapsed": true
   },
   "outputs": [],
   "source": []
  },
  {
   "cell_type": "code",
   "execution_count": null,
   "metadata": {
    "collapsed": true
   },
   "outputs": [],
   "source": []
  },
  {
   "cell_type": "code",
   "execution_count": null,
   "metadata": {
    "collapsed": true
   },
   "outputs": [],
   "source": []
  },
  {
   "cell_type": "code",
   "execution_count": null,
   "metadata": {
    "collapsed": true
   },
   "outputs": [],
   "source": []
  },
  {
   "cell_type": "code",
   "execution_count": 62,
   "metadata": {
    "collapsed": false
   },
   "outputs": [],
   "source": [
    "friend_list = list(friend_set)"
   ]
  },
  {
   "cell_type": "code",
   "execution_count": 122,
   "metadata": {
    "collapsed": false
   },
   "outputs": [],
   "source": [
    "def hundreds_of_friends(friends):\n",
    "    index100 = 100\n",
    "    hundred_list = []\n",
    "    bans = []\n",
    "    while index100 <= 22000:\n",
    "        hundred_friends = ','.join(friends[index100-100:index100])\n",
    "        hundred_list.append(hundred_friends)\n",
    "        index100 += 100\n",
    "        bans.append(get_bans(hundred_friends))\n",
    "    return hundred_list, [ban for subbans in bans for ban in subbans]"
   ]
  },
  {
   "cell_type": "code",
   "execution_count": null,
   "metadata": {
    "collapsed": true
   },
   "outputs": [],
   "source": []
  },
  {
   "cell_type": "code",
   "execution_count": null,
   "metadata": {
    "collapsed": true
   },
   "outputs": [],
   "source": []
  },
  {
   "cell_type": "code",
   "execution_count": null,
   "metadata": {
    "collapsed": true
   },
   "outputs": [],
   "source": []
  },
  {
   "cell_type": "code",
   "execution_count": null,
   "metadata": {
    "collapsed": true
   },
   "outputs": [],
   "source": []
  },
  {
   "cell_type": "code",
   "execution_count": null,
   "metadata": {
    "collapsed": true
   },
   "outputs": [],
   "source": []
  },
  {
   "cell_type": "code",
   "execution_count": null,
   "metadata": {
    "collapsed": true
   },
   "outputs": [],
   "source": []
  },
  {
   "cell_type": "code",
   "execution_count": null,
   "metadata": {
    "collapsed": true
   },
   "outputs": [],
   "source": []
  },
  {
   "cell_type": "code",
   "execution_count": 82,
   "metadata": {
    "collapsed": false
   },
   "outputs": [],
   "source": [
    "def get_bans(ids):\n",
    "    '''\n",
    "    Looks at the IDS ban history\n",
    "    '''\n",
    "    key = os.environ['ACCESS_STEAM']\n",
    "    url = 'http://api.steampowered.com/ISteamUser/GetPlayerBans/v1/?key='+key+'&steamids='+ids\n",
    "    return json.loads(urllib2.urlopen(url).read())['players']"
   ]
  },
  {
   "cell_type": "code",
   "execution_count": 85,
   "metadata": {
    "collapsed": false
   },
   "outputs": [
    {
     "data": {
      "text/plain": [
       "[{u'CommunityBanned': False,\n",
       "  u'DaysSinceLastBan': 0,\n",
       "  u'EconomyBan': u'none',\n",
       "  u'NumberOfGameBans': 0,\n",
       "  u'NumberOfVACBans': 0,\n",
       "  u'SteamId': u'76561198049211725',\n",
       "  u'VACBanned': False},\n",
       " {u'CommunityBanned': True,\n",
       "  u'DaysSinceLastBan': 353,\n",
       "  u'EconomyBan': u'none',\n",
       "  u'NumberOfGameBans': 0,\n",
       "  u'NumberOfVACBans': 1,\n",
       "  u'SteamId': u'76561198083499079',\n",
       "  u'VACBanned': True}]"
      ]
     },
     "execution_count": 85,
     "metadata": {},
     "output_type": "execute_result"
    }
   ],
   "source": [
    "get_bans(','.join(friend_list[:2]))"
   ]
  },
  {
   "cell_type": "code",
   "execution_count": null,
   "metadata": {
    "collapsed": true
   },
   "outputs": [],
   "source": []
  },
  {
   "cell_type": "code",
   "execution_count": null,
   "metadata": {
    "collapsed": true
   },
   "outputs": [],
   "source": []
  },
  {
   "cell_type": "code",
   "execution_count": 27,
   "metadata": {
    "collapsed": true
   },
   "outputs": [],
   "source": [
    "import time\n",
    "#start_time = time.time()\n",
    "#main()\n",
    "#print(\"--- %s seconds ---\" % (time.time() - start_time))"
   ]
  },
  {
   "cell_type": "code",
   "execution_count": 57,
   "metadata": {
    "collapsed": false
   },
   "outputs": [
    {
     "name": "stdout",
     "output_type": "stream",
     "text": [
      "60.8479239941 seconds\n"
     ]
    }
   ],
   "source": [
    "mythat = '9BD62BA0CD75599091D3C1257782D97D'\n",
    "summaries = 'http://api.steampowered.com/ISteamUser/GetPlayerSummaries/v0002/?key=9BD62BA0CD75599091D3C1257782D97D&steamids='\n",
    "friend_set = []\n",
    "start_time = time.time()\n",
    "for id in ids:\n",
    "    state = json.loads(urllib2.urlopen(summaries + id).read())\n",
    "    if state['response']['players'][0][u'communityvisibilitystate'] != 3:\n",
    "        continue\n",
    "    else:\n",
    "        new_friends = get_friends(id)\n",
    "        for friend in new_friends:\n",
    "            friend_set.add(friend['steamid'])\n",
    "print '%s seconds' % (time.time() - start_time)"
   ]
  },
  {
   "cell_type": "code",
   "execution_count": 28,
   "metadata": {
    "collapsed": false
   },
   "outputs": [
    {
     "ename": "NameError",
     "evalue": "name 'steamids_new' is not defined",
     "output_type": "error",
     "traceback": [
      "\u001b[0;31m---------------------------------------------------------------------------\u001b[0m",
      "\u001b[0;31mNameError\u001b[0m                                 Traceback (most recent call last)",
      "\u001b[0;32m<ipython-input-28-dc92f459b34a>\u001b[0m in \u001b[0;36m<module>\u001b[0;34m()\u001b[0m\n\u001b[1;32m     11\u001b[0m         \u001b[0mmore_friends\u001b[0m \u001b[0;34m=\u001b[0m \u001b[0mjson\u001b[0m\u001b[0;34m.\u001b[0m\u001b[0mloads\u001b[0m\u001b[0;34m(\u001b[0m\u001b[0murllib2\u001b[0m\u001b[0;34m.\u001b[0m\u001b[0murlopen\u001b[0m\u001b[0;34m(\u001b[0m\u001b[0mfriends\u001b[0m\u001b[0;34m)\u001b[0m\u001b[0;34m.\u001b[0m\u001b[0mread\u001b[0m\u001b[0;34m(\u001b[0m\u001b[0;34m)\u001b[0m\u001b[0;34m)\u001b[0m\u001b[0;34m\u001b[0m\u001b[0m\n\u001b[1;32m     12\u001b[0m         \u001b[0;32mfor\u001b[0m \u001b[0mfriend\u001b[0m \u001b[0;32min\u001b[0m \u001b[0mmore_friends\u001b[0m\u001b[0;34m[\u001b[0m\u001b[0;34m'friendslist'\u001b[0m\u001b[0;34m]\u001b[0m\u001b[0;34m[\u001b[0m\u001b[0;34m'friends'\u001b[0m\u001b[0;34m]\u001b[0m\u001b[0;34m:\u001b[0m\u001b[0;34m\u001b[0m\u001b[0m\n\u001b[0;32m---> 13\u001b[0;31m             \u001b[0msteamids_new\u001b[0m\u001b[0;34m.\u001b[0m\u001b[0madd\u001b[0m\u001b[0;34m(\u001b[0m\u001b[0mstr\u001b[0m\u001b[0;34m(\u001b[0m\u001b[0mfriend\u001b[0m\u001b[0;34m[\u001b[0m\u001b[0;34m'steamid'\u001b[0m\u001b[0;34m]\u001b[0m\u001b[0;34m)\u001b[0m\u001b[0;34m)\u001b[0m\u001b[0;34m\u001b[0m\u001b[0m\n\u001b[0m\u001b[1;32m     14\u001b[0m \u001b[0;32mprint\u001b[0m \u001b[0;34m'%s seconds'\u001b[0m \u001b[0;34m%\u001b[0m \u001b[0;34m(\u001b[0m\u001b[0mtime\u001b[0m\u001b[0;34m.\u001b[0m\u001b[0mtime\u001b[0m\u001b[0;34m(\u001b[0m\u001b[0;34m)\u001b[0m \u001b[0;34m-\u001b[0m \u001b[0mstart_time\u001b[0m\u001b[0;34m)\u001b[0m\u001b[0;34m\u001b[0m\u001b[0m\n",
      "\u001b[0;31mNameError\u001b[0m: name 'steamids_new' is not defined"
     ]
    }
   ],
   "source": [
    "mythat = '9BD62BA0CD75599091D3C1257782D97D'\n",
    "summaries = 'http://api.steampowered.com/ISteamUser/GetPlayerSummaries/v0002/?key=9BD62BA0CD75599091D3C1257782D97D&steamids='\n",
    "steamids = set()\n",
    "start_time = time.time()\n",
    "banned_set = set()\n",
    "for id in ids:\n",
    "    state = json.loads(urllib2.urlopen(summaries + id).read())\n",
    "    if state['response']['players'][0][u'communityvisibilitystate'] != 3:\n",
    "        continue\n",
    "    else:\n",
    "        bans = get_bans(id)\n",
    "        friends = get_friends(id)\n",
    "        for friend in more_friends['friendslist']['friends']:\n",
    "            steamids.add(str(friend['steamid']))\n",
    "        steamids.add(friends)\n",
    "print '%s seconds' % (time.time() - start_time)"
   ]
  },
  {
   "cell_type": "code",
   "execution_count": null,
   "metadata": {
    "collapsed": true
   },
   "outputs": [],
   "source": [
    "mythat = '9BD62BA0CD75599091D3C1257782D97D'\n",
    "summaries = 'http://api.steampowered.com/ISteamUser/GetPlayerSummaries/v0002/?key=9BD62BA0CD75599091D3C1257782D97D&steamids='\n",
    "steamids = set()\n",
    "start_time = time.time()\n",
    "banned_set = set()\n",
    "for id in ids:\n",
    "    state = json.loads(urllib2.urlopen(summaries + id).read())\n",
    "    if state['response']['players'][0][u'communityvisibilitystate'] != 3:\n",
    "        continue\n",
    "    else:\n",
    "        bans = get_bans(id)\n",
    "        friends = 'http://api.steampowered.com/ISteamUser/GetFriendList/v0001/?key='+mythat+'&steamid='+id+'&relationship=all'\n",
    "        more_friends = json.loads(urllib2.urlopen(friends).read())\n",
    "        for friend in more_friends['friendslist']['friends']:\n",
    "            steamids.add(str(friend['steamid']))\n",
    "print '%s seconds' % (time.time() - start_time)"
   ]
  },
  {
   "cell_type": "code",
   "execution_count": 155,
   "metadata": {
    "collapsed": false
   },
   "outputs": [
    {
     "data": {
      "text/plain": [
       "129.93333333333334"
      ]
     },
     "execution_count": 155,
     "metadata": {},
     "output_type": "execute_result"
    }
   ],
   "source": [
    "7796 / 60."
   ]
  },
  {
   "cell_type": "code",
   "execution_count": 154,
   "metadata": {
    "collapsed": false
   },
   "outputs": [
    {
     "data": {
      "text/plain": [
       "1627893"
      ]
     },
     "execution_count": 154,
     "metadata": {},
     "output_type": "execute_result"
    }
   ],
   "source": [
    "len(steamids_new)"
   ]
  },
  {
   "cell_type": "code",
   "execution_count": 108,
   "metadata": {
    "collapsed": false
   },
   "outputs": [
    {
     "data": {
      "text/plain": [
       "<Response [401]>"
      ]
     },
     "execution_count": 108,
     "metadata": {},
     "output_type": "execute_result"
    }
   ],
   "source": [
    "requests.get(urlfriend)"
   ]
  },
  {
   "cell_type": "code",
   "execution_count": 112,
   "metadata": {
    "collapsed": true
   },
   "outputs": [],
   "source": [
    "myurl = 'http://api.steampowered.com/ISteamUser/GetPlayerSummaries/v0002/?key='+mythat+'&steamids='+my64"
   ]
  },
  {
   "cell_type": "code",
   "execution_count": 113,
   "metadata": {
    "collapsed": false
   },
   "outputs": [
    {
     "data": {
      "text/plain": [
       "'http://api.steampowered.com/ISteamUser/GetPlayerSummaries/v0002/?key=9BD62BA0CD75599091D3C1257782D97D&steamids=76561197967398882'"
      ]
     },
     "execution_count": 113,
     "metadata": {},
     "output_type": "execute_result"
    }
   ],
   "source": [
    "myurl"
   ]
  },
  {
   "cell_type": "code",
   "execution_count": 114,
   "metadata": {
    "collapsed": true
   },
   "outputs": [],
   "source": [
    "another_test = 'http://api.steampowered.com/ISteamUser/GetPlayerSummaries/v0002/?key=9BD62BA0CD75599091D3C1257782D97D&steamids=76561197982823731'"
   ]
  },
  {
   "cell_type": "code",
   "execution_count": 116,
   "metadata": {
    "collapsed": true
   },
   "outputs": [],
   "source": [
    "dude = json.loads(urllib2.urlopen(another_test).read())"
   ]
  },
  {
   "cell_type": "code",
   "execution_count": 138,
   "metadata": {
    "collapsed": false
   },
   "outputs": [
    {
     "data": {
      "text/plain": [
       "int"
      ]
     },
     "execution_count": 138,
     "metadata": {},
     "output_type": "execute_result"
    }
   ],
   "source": [
    "type(dude['response']['players'][0][u'communityvisibilitystate'])"
   ]
  },
  {
   "cell_type": "code",
   "execution_count": 129,
   "metadata": {
    "collapsed": false
   },
   "outputs": [
    {
     "data": {
      "text/plain": [
       "'{\\n\\t\"response\": {\\n\\t\\t\"players\": [\\n\\t\\t\\t{\\n\\t\\t\\t\\t\"steamid\": \"76561197982823731\",\\n\\t\\t\\t\\t\"communityvisibilitystate\": 1,\\n\\t\\t\\t\\t\"profilestate\": 1,\\n\\t\\t\\t\\t\"personaname\": \"Warden\",\\n\\t\\t\\t\\t\"lastlogoff\": 1459618089,\\n\\t\\t\\t\\t\"profileurl\": \"http://steamcommunity.com/profiles/76561197982823731/\",\\n\\t\\t\\t\\t\"avatar\": \"https://steamcdn-a.akamaihd.net/steamcommunity/public/images/avatars/ef/efd4c085347b13ac7201328c783529a11a5d33a1.jpg\",\\n\\t\\t\\t\\t\"avatarmedium\": \"https://steamcdn-a.akamaihd.net/steamcommunity/public/images/avatars/ef/efd4c085347b13ac7201328c783529a11a5d33a1_medium.jpg\",\\n\\t\\t\\t\\t\"avatarfull\": \"https://steamcdn-a.akamaihd.net/steamcommunity/public/images/avatars/ef/efd4c085347b13ac7201328c783529a11a5d33a1_full.jpg\",\\n\\t\\t\\t\\t\"personastate\": 0\\n\\t\\t\\t}\\n\\t\\t]\\n\\t\\t\\n\\t}\\n}'"
      ]
     },
     "execution_count": 129,
     "metadata": {},
     "output_type": "execute_result"
    }
   ],
   "source": []
  },
  {
   "cell_type": "code",
   "execution_count": 132,
   "metadata": {
    "collapsed": false
   },
   "outputs": [
    {
     "name": "stdout",
     "output_type": "stream",
     "text": [
      "http://api.steampowered.com/ISteamUser/GetPlayerSummaries/v0002/?key=9BD62BA0CD75599091D3C1257782D97D&steamids=7656119798282373176561197965632101\n"
     ]
    }
   ],
   "source": []
  },
  {
   "cell_type": "code",
   "execution_count": 156,
   "metadata": {
    "collapsed": false
   },
   "outputs": [
    {
     "data": {
      "text/plain": [
       "146.66666666666666"
      ]
     },
     "execution_count": 156,
     "metadata": {},
     "output_type": "execute_result"
    }
   ],
   "source": [
    "22000 / 150."
   ]
  },
  {
   "cell_type": "code",
   "execution_count": 157,
   "metadata": {
    "collapsed": false
   },
   "outputs": [
    {
     "data": {
      "text/plain": [
       "739.5454545454545"
      ]
     },
     "execution_count": 157,
     "metadata": {},
     "output_type": "execute_result"
    }
   ],
   "source": [
    "1627000 / 2200."
   ]
  },
  {
   "cell_type": "code",
   "execution_count": 158,
   "metadata": {
    "collapsed": false
   },
   "outputs": [
    {
     "data": {
      "text/plain": [
       "1630000000"
      ]
     },
     "execution_count": 158,
     "metadata": {},
     "output_type": "execute_result"
    }
   ],
   "source": [
    "1630000 * 1000"
   ]
  },
  {
   "cell_type": "code",
   "execution_count": 159,
   "metadata": {
    "collapsed": false
   },
   "outputs": [
    {
     "data": {
      "text/plain": [
       "True"
      ]
     },
     "execution_count": 159,
     "metadata": {},
     "output_type": "execute_result"
    }
   ],
   "source": [
    "'76561197967398882' in steamids_new"
   ]
  },
  {
   "cell_type": "code",
   "execution_count": 160,
   "metadata": {
    "collapsed": false
   },
   "outputs": [
    {
     "data": {
      "text/plain": [
       "False"
      ]
     },
     "execution_count": 160,
     "metadata": {},
     "output_type": "execute_result"
    }
   ],
   "source": [
    "'76561197967398882' in steamids_new_new"
   ]
  },
  {
   "cell_type": "markdown",
   "metadata": {},
   "source": [
    "# Another try"
   ]
  },
  {
   "cell_type": "code",
   "execution_count": 20,
   "metadata": {
    "collapsed": false
   },
   "outputs": [
    {
     "name": "stdout",
     "output_type": "stream",
     "text": [
      "http://steamcommunity.com/app/730/homecontent/?userreviewsoffset=0&p=1&itemspage=1&screenshotspage=1&videospage=1&artpage=1&allguidepage=1&webguidepage=1&integratedguidepage=1&discussionspage=1&appid=730&appHubSubSection=10&appHubSubSection=10&l=english&browsefilter=toprated&filterLanguage=default&searchText=&forceanon=1\n"
     ]
    }
   ],
   "source": [
    "appid = '730'\n",
    "range_begin = '0'\n",
    "i = '1'\n",
    "url = 'http://steamcommunity.com/app/{0}/homecontent/?userreviewsoffset={1}&p=1&itemspage={2}&screenshotspage={2}&videospage={2}&artpage={2}&allguidepage={2}&webguidepage={2}&integratedguidepage={2}&discussionspage={2}&appid={0}&appHubSubSection=10&appHubSubSection=10&l=english&browsefilter=toprated&filterLanguage=default&searchText=&forceanon=1'.format(appid, range_begin, i)\n",
    "print(url)"
   ]
  },
  {
   "cell_type": "code",
   "execution_count": 21,
   "metadata": {
    "collapsed": true
   },
   "outputs": [],
   "source": [
    "# We can read, parse, and then extract the content at the URL using\n",
    "# requests and bs4 (and lxml) modules\n",
    "from bs4 import BeautifulSoup\n",
    "from lxml import html\n",
    "import requests"
   ]
  },
  {
   "cell_type": "code",
   "execution_count": 22,
   "metadata": {
    "collapsed": true
   },
   "outputs": [],
   "source": [
    "# Let's use requests.get() to get the page\n",
    "page = requests.get(url)"
   ]
  },
  {
   "cell_type": "code",
   "execution_count": 23,
   "metadata": {
    "collapsed": false
   },
   "outputs": [
    {
     "data": {
      "text/plain": [
       "['apparent_encoding',\n",
       " 'close',\n",
       " 'connection',\n",
       " 'content',\n",
       " 'cookies',\n",
       " 'elapsed',\n",
       " 'encoding',\n",
       " 'headers',\n",
       " 'history',\n",
       " 'is_permanent_redirect',\n",
       " 'is_redirect',\n",
       " 'iter_content',\n",
       " 'iter_lines',\n",
       " 'json',\n",
       " 'links',\n",
       " 'ok',\n",
       " 'raise_for_status',\n",
       " 'raw',\n",
       " 'reason',\n",
       " 'request',\n",
       " 'status_code',\n",
       " 'text',\n",
       " 'url']"
      ]
     },
     "execution_count": 23,
     "metadata": {},
     "output_type": "execute_result"
    }
   ],
   "source": [
    "# Let's take a look at the attributes of the page object\n",
    "[a for a in dir(page) if not a.startswith('_') and not a.endswith('_')]\n",
    "# Don't worry about the code here, it's just a trick to see public\n",
    "# methods for a requests object"
   ]
  },
  {
   "cell_type": "code",
   "execution_count": 24,
   "metadata": {
    "collapsed": false
   },
   "outputs": [
    {
     "data": {
      "text/plain": [
       "u'\\t\\t<div id=\"page1\">\\r\\n\\t\\t<div class=\"apphub_Card modalContentLink interactable\" style=\"display: none\" data-modal-content-url=\"http://steamcommunity.com/profiles/76561198092689293/recommended/730/\" data-modal-content-sizetofit=\"false\">\\r\\n\\t<div class=\"apphub_CardContentMain\">\\r\\n\\t\\t<div class=\"apphub_UserReviewCardContent\">\\r\\n\\t\\t\\t<div class=\"found_helpful\">\\r\\n\\t\\t\\t\\t9,379 of 10,082 people (93%) found this review helpful<br>12,757 people found this review funny\\t\\t\\t</div>\\r\\n\\r\\n\\t\\t\\t<div class=\"vote_header\">\\r\\n\\t\\t\\t\\t\\t\\t\\t\\t<div class=\"reviewInfo\">\\r\\n\\t\\t\\t\\t\\t<div class=\"thumb\">\\r\\n\\t\\t\\t\\t\\t\\t<img src=\"http://steamcommunity-a.akamaihd.net/public/shared/images/userreviews/icon_thumbsUp.png?v=1\" width=\"44\" height=\"44\">\\r\\n\\t\\t\\t\\t\\t</div>\\r\\n\\r\\n\\t\\t\\t\\t\\t\\t\\t\\t\\t\\t<div class=\"title\">Recommended</div>\\r\\n\\t\\t\\t\\t\\t\\t\\t\\t\\t\\t\\t\\t\\t\\t\\t<div class=\"hours\">453.5 hrs on record</div>\\r\\n\\t\\t\\t\\t\\t\\t\\t\\t\\t</div>\\r\\n\\t\\t\\t\\t<div style=\"clear: left\"></div>\\r\\n\\t\\t\\t</div>\\r\\n\\r\\n\\t\\t\\t<div class=\"apphub_CardTextContent\">\\r\\n\\t\\t\\t\\t<div class=\"date_posted\">Posted: February 13, 2015</div>\\r\\n\\t\\t\\t\\t\\t\\t\\t\\tIf i had a d'"
      ]
     },
     "execution_count": 24,
     "metadata": {},
     "output_type": "execute_result"
    }
   ],
   "source": [
    "# We see that there are attributes for the text, json, lines, etc.,\n",
    "# so let's take a look at some of this stuff\n",
    "page.text[:1000] # Here's the raw HTML"
   ]
  },
  {
   "cell_type": "code",
   "execution_count": 25,
   "metadata": {
    "collapsed": true
   },
   "outputs": [],
   "source": [
    "# After looking at some of the other attributes, I've determined\n",
    "# that the text attribute is probably the only thing that\n",
    "# concerns us, so let's use it\n",
    "text = page.text"
   ]
  },
  {
   "cell_type": "code",
   "execution_count": 26,
   "metadata": {
    "collapsed": true
   },
   "outputs": [],
   "source": [
    "# The text, as you can see from the view above, has lots of \\r,\n",
    "# \\n, \\t characters in it, which might not be good for HTML\n",
    "# parsing in our case (I won't get into why, partly because I'm\n",
    "# not completely sure I get why), so let's get rid of all such\n",
    "# characters, replacing them with spaces instead\n",
    "# To do this we will use the re module, which allows us to use\n",
    "# regular expressions\n",
    "import re\n",
    "# While we're at it, it's best to get rid of all \"<br>\" tags since\n",
    "# they could also present problems during parsing\n",
    "# We can use the re.sub() method to find one regular expression and\n",
    "# replace it with another in a given text\n",
    "text = re.sub(r'\\<br\\>', r' ', text) # Looks for the string \"<br>\"\n",
    "    # and replaces it with a space\n",
    "text = re.sub(r'[\\n\\t\\r ]+', r' ', text) # Looks for any sequence\n",
    "    # of carriage returns or whitespace characters and replaces\n",
    "    # them with a single space\n",
    "text = text.strip() # Get rid of spaces at either end"
   ]
  },
  {
   "cell_type": "code",
   "execution_count": 27,
   "metadata": {
    "collapsed": false
   },
   "outputs": [
    {
     "data": {
      "text/plain": [
       "u'<div id=\"page1\"> <div class=\"apphub_Card modalContentLink interactable\" style=\"display: none\" data-modal-content-url=\"http://steamcommunity.com/profiles/76561198092689293/recommended/730/\" data-modal-content-sizetofit=\"false\"> <div class=\"apphub_CardContentMain\"> <div class=\"apphub_UserReviewCardContent\"> <div class=\"found_helpful\"> 9,379 of 10,082 people (93%) found this review helpful 12,757 people found this review funny </div> <div class=\"vote_header\"> <div class=\"reviewInfo\"> <div class=\"thumb\"> <img src=\"http://steamcommunity-a.akamaihd.net/public/shared/images/userreviews/icon_thumbsUp.png?v=1\" width=\"44\" height=\"44\"> </div> <div class=\"title\">Recommended</div> <div class=\"hours\">453.5 hrs on record</div> </div> <div style=\"clear: left\"></div> </div> <div class=\"apphub_CardTextContent\"> <div class=\"date_posted\">Posted: February 13, 2015</div> If i had a dollar for each time someone screamed at me in another language, i\\'d still have no money because i spent it on skins </div> </d'"
      ]
     },
     "execution_count": 27,
     "metadata": {},
     "output_type": "execute_result"
    }
   ],
   "source": [
    "# Let's take a look at the cleaned-up version of the source HTML\n",
    "text[:1000]"
   ]
  },
  {
   "cell_type": "code",
   "execution_count": 28,
   "metadata": {
    "collapsed": true
   },
   "outputs": [],
   "source": [
    "soup = BeautifulSoup(text, \"lxml\")"
   ]
  },
  {
   "cell_type": "code",
   "execution_count": 31,
   "metadata": {
    "collapsed": false
   },
   "outputs": [
    {
     "data": {
      "text/plain": [
       "<html><body><div id=\"page1\"> <div class=\"apphub_Card modalContentLink interactable\" data-modal-content-sizetofit=\"false\" data-modal-content-url=\"http://steamcommunity.com/profiles/76561198092689293/recommended/730/\" style=\"display: none\"> <div class=\"apphub_CardContentMain\"> <div class=\"apphub_UserReviewCardContent\"> <div class=\"found_helpful\"> 9,379 of 10,082 people (93%) found this review helpful 12,757 people found this review funny </div> <div class=\"vote_header\"> <div class=\"reviewInfo\"> <div class=\"thumb\"> <img height=\"44\" src=\"http://steamcommunity-a.akamaihd.net/public/shared/images/userreviews/icon_thumbsUp.png?v=1\" width=\"44\"/> </div> <div class=\"title\">Recommended</div> <div class=\"hours\">453.5 hrs on record</div> </div> <div style=\"clear: left\"></div> </div> <div class=\"apphub_CardTextContent\"> <div class=\"date_posted\">Posted: February 13, 2015</div> If i had a dollar for each time someone screamed at me in another language, i'd still have no money because i spent it on skins </div> </div> <div class=\"UserReviewCardContent_Footer\"> <div class=\"gradient\">\\xa0</div> </div> </div> <div class=\"apphub_CardContentAuthorBlock tall\"> <div class=\"apphub_friend_block_container\"> <a href=\"http://steamcommunity.com/profiles/76561198092689293/\"> <div class=\"apphub_friend_block\" data-miniprofile=\"132423565\"> <div class=\"appHubIconHolder online\"><img src=\"http://cdn.akamai.steamstatic.com/steamcommunity/public/images/avatars/94/94ac4b0f44edaff38e71002df1fe5cfc122dcbfe.jpg\"/></div> <div class=\"appHubIconHolder greyOverlay\"></div> <div class=\"apphub_CardContentAuthorName online ellipsis\"><a href=\"http://steamcommunity.com/profiles/76561198092689293/\">BakeACake</a></div> <div class=\"apphub_CardContentMoreLink ellipsis\">32 products in account</div> </div> </a> </div> <div class=\"apphub_UserReviewCardStats\"> <div class=\"apphub_CardCommentCount alignNews\">67</div> </div> <div style=\"clear: left\"></div> </div> </div><div class=\"apphub_Card modalContentLink interactable\" data-modal-content-sizetofit=\"false\" data-modal-content-url=\"http://steamcommunity.com/id/modz1lla/recommended/730/\" style=\"display: none\"> <div class=\"apphub_CardContentMain\"> <div class=\"apphub_UserReviewCardContent\"> <div class=\"found_helpful\"> 14,937 of 16,114 people (93%) found this review helpful 17,453 people found this review funny </div> <div class=\"vote_header\"> <div class=\"reviewInfo\"> <div class=\"thumb\"> <img height=\"44\" src=\"http://steamcommunity-a.akamaihd.net/public/shared/images/userreviews/icon_thumbsUp.png?v=1\" width=\"44\"/> </div> <div class=\"title\">Recommended</div> <div class=\"hours\">2,030.2 hrs on record</div> </div> <div style=\"clear: left\"></div> </div> <div class=\"apphub_CardTextContent\"> <div class=\"date_posted\">Posted: July 10, 2015</div> Things I gave to Counter-Strike: 1. Money 2. Time 3. Love Things Counter-Strike gave me: 1. Arthritis 2. Rage 3, Hatred of Russians,Spanish, and Russians 4. Broken keyboard 5. Broken mouse 6. 9/10 ready 7. Server crashes 8. \\u2665\\u2665\\u2665\\u2665\\u2665\\u2665 teammates 9. Competitive matches 10. \"Ez Pz\" spam 11. Multilingual cursing - I guess this is a good thing? 12. Lag 13. Cheaters 14- 64 tick servers Essentially - CS is a greedy woman, but I love her all the time. 11 / 10 would play again </div> </div> <div class=\"UserReviewCardContent_Footer\"> <div class=\"gradient\">\\xa0</div> </div> </div> <div class=\"apphub_CardContentAuthorBlock tall\"> <div class=\"apphub_friend_block_container\"> <a href=\"http://steamcommunity.com/id/modz1lla/\"> <div class=\"apphub_friend_block\" data-miniprofile=\"69716043\"> <div class=\"appHubIconHolder offline\"><img src=\"http://cdn.akamai.steamstatic.com/steamcommunity/public/images/avatars/a7/a7f102a9399a64c368d8d961085b51bcbc103957.jpg\"/></div> <div class=\"appHubIconHolder greyOverlay\"></div> <div class=\"apphub_CardContentAuthorName offline ellipsis\"><a href=\"http://steamcommunity.com/id/modz1lla/\">MODZILLA</a></div> <div class=\"apphub_CardContentMoreLink ellipsis\">47 products in account</div> </div> </a> </div> <div class=\"apphub_UserReviewCardStats\"> <div class=\"apphub_CardCommentCount alignNews\">211</div> </div> <div style=\"clear: left\"></div> </div> </div><div class=\"apphub_Card modalContentLink interactable\" data-modal-content-sizetofit=\"false\" data-modal-content-url=\"http://steamcommunity.com/id/bob-ross/recommended/730/\" style=\"display: none\"> <div class=\"apphub_CardContentMain\"> <div class=\"apphub_UserReviewCardContent\"> <div class=\"found_helpful\"> 5,491 of 5,913 people (93%) found this review helpful 6,247 people found this review funny </div> <div class=\"vote_header\"> <div class=\"reviewInfo\"> <div class=\"thumb\"> <img height=\"44\" src=\"http://steamcommunity-a.akamaihd.net/public/shared/images/userreviews/icon_thumbsUp.png?v=1\" width=\"44\"/> </div> <div class=\"title\">Recommended</div> <div class=\"hours\">311.9 hrs on record</div> </div> <div style=\"clear: left\"></div> </div> <div class=\"apphub_CardTextContent\"> <div class=\"date_posted\">Posted: May 2, 2015</div> Real \"Huntsman\" Survival Knife: $29 Virtual \"Huntsman\" Survival Knife: $299 </div> </div> <div class=\"UserReviewCardContent_Footer\"> <div class=\"gradient\">\\xa0</div> </div> </div> <div class=\"apphub_CardContentAuthorBlock tall\"> <div class=\"apphub_friend_block_container\"> <a href=\"http://steamcommunity.com/id/bob-ross/\"> <div class=\"apphub_friend_block\" data-miniprofile=\"81522974\"> <div class=\"appHubIconHolder offline\"><img src=\"http://cdn.akamai.steamstatic.com/steamcommunity/public/images/avatars/bd/bd403cfa8af48e1c355e14ab358ec900684aff72.jpg\"/></div> <div class=\"appHubIconHolder greyOverlay\"></div> <div class=\"apphub_CardContentAuthorName offline ellipsis\"><a href=\"http://steamcommunity.com/id/bob-ross/\">Bob Ross o \\u035c\\u0296 o</a></div> <div class=\"apphub_CardContentMoreLink ellipsis\">157 products in account</div> </div> </a> </div> <div class=\"apphub_UserReviewCardStats\"> <div class=\"apphub_CardCommentCount alignNews\">46</div> </div> <div style=\"clear: left\"></div> </div> </div><div class=\"apphub_Card modalContentLink interactable\" data-modal-content-sizetofit=\"false\" data-modal-content-url=\"http://steamcommunity.com/id/Delta3D/recommended/730/\" style=\"display: none\"> <div class=\"apphub_CardContentMain\"> <div class=\"apphub_UserReviewCardContent\"> <div class=\"found_helpful\"> 11,996 of 13,027 people (92%) found this review helpful 13,833 people found this review funny </div> <div class=\"vote_header\"> <div class=\"reviewInfo\"> <div class=\"thumb\"> <img height=\"44\" src=\"http://steamcommunity-a.akamaihd.net/public/shared/images/userreviews/icon_thumbsUp.png?v=1\" width=\"44\"/> </div> <div class=\"title\">Recommended</div> <div class=\"hours\">596.3 hrs on record</div> </div> <div style=\"clear: left\"></div> </div> <div class=\"apphub_CardTextContent\"> <div class=\"date_posted\">Posted: February 1, 2015</div> It's like roulette; fun until it turns into Russian. </div> </div> <div class=\"UserReviewCardContent_Footer\"> <div class=\"gradient\">\\xa0</div> </div> </div> <div class=\"apphub_CardContentAuthorBlock tall\"> <div class=\"apphub_friend_block_container\"> <a href=\"http://steamcommunity.com/id/Delta3D/\"> <div class=\"apphub_friend_block\" data-miniprofile=\"63720612\"> <div class=\"appHubIconHolder offline\"><img src=\"http://cdn.akamai.steamstatic.com/steamcommunity/public/images/avatars/a8/a8e866b864cc1364deba8ceac16d67354d730f40.jpg\"/></div> <div class=\"appHubIconHolder greyOverlay\"></div> <div class=\"apphub_CardContentAuthorName offline ellipsis\"><a href=\"http://steamcommunity.com/id/Delta3D/\">Delta</a></div> <div class=\"apphub_CardContentMoreLink ellipsis\">154 products in account</div> </div> </a> </div> <div class=\"apphub_UserReviewCardStats\"> <div class=\"apphub_CardCommentCount alignNews\">85</div> </div> <div style=\"clear: left\"></div> </div> </div><div class=\"apphub_Card modalContentLink interactable\" data-modal-content-sizetofit=\"false\" data-modal-content-url=\"http://steamcommunity.com/id/GlobalDoge/recommended/730/\" style=\"display: none\"> <div class=\"apphub_CardContentMain\"> <div class=\"apphub_UserReviewCardContent\"> <div class=\"found_helpful\"> 11,151 of 12,108 people (92%) found this review helpful 8,339 people found this review funny </div> <div class=\"vote_header\"> <div class=\"reviewInfo\"> <div class=\"thumb\"> <img height=\"44\" src=\"http://steamcommunity-a.akamaihd.net/public/shared/images/userreviews/icon_thumbsUp.png?v=1\" width=\"44\"/> </div> <div class=\"title\">Recommended</div> <div class=\"hours\">1,315.2 hrs on record</div> </div> <div style=\"clear: left\"></div> </div> <div class=\"apphub_CardTextContent\"> <div class=\"date_posted\">Posted: August 1, 2015</div> IQ tests should be mandatory before being able to play matchmaking </div> </div> <div class=\"UserReviewCardContent_Footer\"> <div class=\"gradient\">\\xa0</div> </div> </div> <div class=\"apphub_CardContentAuthorBlock tall\"> <div class=\"apphub_friend_block_container\"> <a href=\"http://steamcommunity.com/id/GlobalDoge/\"> <div class=\"apphub_friend_block\" data-miniprofile=\"113973189\"> <div class=\"appHubIconHolder in-game\"><img src=\"http://cdn.akamai.steamstatic.com/steamcommunity/public/images/avatars/c0/c0d4bd2cf7a5ad77096e920d2d7fba9da5d9c3f1.jpg\"/></div> <div class=\"appHubIconHolder greyOverlay\"></div> <div class=\"apphub_CardContentAuthorName in-game ellipsis\"><a href=\"http://steamcommunity.com/id/GlobalDoge/\">dlareg</a></div> <div class=\"apphub_CardContentMoreLink ellipsis\">11 products in account</div> </div> </a> </div> <div class=\"apphub_UserReviewCardStats\"> <div class=\"apphub_CardCommentCount alignNews\">89</div> </div> <div style=\"clear: left\"></div> </div> </div><div class=\"apphub_Card modalContentLink interactable\" data-modal-content-sizetofit=\"false\" data-modal-content-url=\"http://steamcommunity.com/id/DraganMKD87/recommended/730/\" style=\"display: none\"> <div class=\"apphub_CardContentMain\"> <div class=\"apphub_UserReviewCardContent\"> <div class=\"found_helpful\"> 11,320 of 12,327 people (92%) found this review helpful 13,940 people found this review funny </div> <div class=\"vote_header\"> <div class=\"reviewInfo\"> <div class=\"thumb\"> <img height=\"44\" src=\"http://steamcommunity-a.akamaihd.net/public/shared/images/userreviews/icon_thumbsUp.png?v=1\" width=\"44\"/> </div> <div class=\"title\">Recommended</div> <div class=\"hours\">287.4 hrs on record</div> </div> <div style=\"clear: left\"></div> </div> <div class=\"apphub_CardTextContent\"> <div class=\"date_posted\">Posted: November 1, 2015</div> Every team consists of 5 people: 1.You 2.Russian Guy 3.Another Russian Guy 4.Russian Guy who speaks English 5. A 6 year old kid who slept with your mother 11/10 Too much Salt and \\u0421*\\u043a\\u0430 \\u0411\\u043b\\u0438@\\u0442,not enough \\u2665\\u2665\\u2665\\u2665\\u2665 Would love to take another dose of salt and punch my little brother </div> </div> <div class=\"UserReviewCardContent_Footer\"> <div class=\"gradient\">\\xa0</div> </div> </div> <div class=\"apphub_CardContentAuthorBlock tall\"> <div class=\"apphub_friend_block_container\"> <a href=\"http://steamcommunity.com/id/DraganMKD87/\"> <div class=\"apphub_friend_block\" data-miniprofile=\"150882166\"> <div class=\"appHubIconHolder offline\"><img src=\"http://cdn.akamai.steamstatic.com/steamcommunity/public/images/avatars/c9/c98b64f921b810f752578e075dd4434861a9be09.jpg\"/></div> <div class=\"appHubIconHolder greyOverlay\"></div> <div class=\"apphub_CardContentAuthorName offline ellipsis\"><a href=\"http://steamcommunity.com/id/DraganMKD87/\">Forsaken Legendary Dan</a></div> <div class=\"apphub_CardContentMoreLink ellipsis\">91 products in account</div> </div> </a> </div> <div class=\"apphub_UserReviewCardStats\"> <div class=\"apphub_CardCommentCount alignNews\">218</div> </div> <div style=\"clear: left\"></div> </div> </div><div class=\"apphub_Card modalContentLink interactable\" data-modal-content-sizetofit=\"false\" data-modal-content-url=\"http://steamcommunity.com/id/Erincl/recommended/730/\" style=\"display: none\"> <div class=\"apphub_CardContentMain\"> <div class=\"apphub_UserReviewCardContent\"> <div class=\"found_helpful\"> 3,352 of 3,641 people (92%) found this review helpful 3,300 people found this review funny </div> <div class=\"vote_header\"> <div class=\"reviewInfo\"> <div class=\"thumb\"> <img height=\"44\" src=\"http://steamcommunity-a.akamaihd.net/public/shared/images/userreviews/icon_thumbsUp.png?v=1\" width=\"44\"/> </div> <div class=\"title\">Recommended</div> <div class=\"hours\">562.9 hrs on record</div> </div> <div style=\"clear: left\"></div> </div> <div class=\"apphub_CardTextContent\"> <div class=\"date_posted\">Posted: April 17, 2015</div> Counter Strike: Global Offensive <b>Counterstrike is a game that slowly ravages and pulverizes your soul each and every time you play it.</b> Everyone starts with the same thoughts when they play CS:GO: 1) 'Pfft. I'm never going to spend money in game buying skins and keys, that's stupid' 2) I'm never going to get that angry, it's only a game. 3) 'Meh, doesn't look that hard' <span class=\"bb_strike\">Within a month -</span> Within a week - 1) You\\u2019ve already have bought a P90 module skin because \"Oh, It's only 30p\" and you begin your slow downward spiral into the CS:GO marketplace, saving up for a knife and opening crates, in hopes of getting a knife which (deep on the inside, deep deep down) you know you're never going to get, and end up spending \\xa310 opening crates, and getting back 50p worth of skins back. 2) You\\u2019ve probably already threatened a handful of people with their lives; it\\u2019s a game that can turn any lovely human being into a <b>soul eating behemoth</b> within minutes of a match starting. Get used to wanting to assassinate everyone in your near vicinity. 3) You'll already gave uninstalled the game at <u>least</u> twice, in utter exasperation and in utter hope of cleansing your life from this game. <u>But you can't,</u> you'll always go back. The community is <b>utterly merciless and beastly,</b> with over half the people being angry 12 year old Russians. The betting will completely waste you and rip you of all of your favourite 50p worth of skins. And the trading is completely unreliable, leaving you to deal with steam support, which is 10x more brutal than the game itself. But of course you\\u2019ll go back, it\\u2019s CS:GO, it\\u2019s a drug. A soul destroying, mind numbing, murder spree inducing drug. <b>EDIT:</b> HA. Oops. </div> </div> <div class=\"UserReviewCardContent_Footer\"> <div class=\"gradient\">\\xa0</div> </div> </div> <div class=\"apphub_CardContentAuthorBlock tall\"> <div class=\"apphub_friend_block_container\"> <a href=\"http://steamcommunity.com/id/Erincl/\"> <div class=\"apphub_friend_block\" data-miniprofile=\"159061538\"> <div class=\"appHubIconHolder offline\"><img src=\"http://cdn.akamai.steamstatic.com/steamcommunity/public/images/avatars/8d/8d4348cab456f19695d247c50de072895edbfe97.jpg\"/></div> <div class=\"appHubIconHolder greyOverlay\"></div> <div class=\"apphub_CardContentAuthorName offline ellipsis\"><a href=\"http://steamcommunity.com/id/Erincl/\">.Erin.</a></div> <div class=\"apphub_CardContentMoreLink ellipsis\">54 products in account</div> </div> </a> </div> <div class=\"apphub_UserReviewCardStats\"> <div class=\"apphub_CardCommentCount alignNews\">101</div> </div> <div style=\"clear: left\"></div> </div> </div><div class=\"apphub_Card modalContentLink interactable\" data-modal-content-sizetofit=\"false\" data-modal-content-url=\"http://steamcommunity.com/id/CapitolKun/recommended/730/\" style=\"display: none\"> <div class=\"apphub_CardContentMain\"> <div class=\"apphub_UserReviewCardContent\"> <div class=\"found_helpful\"> 9,472 of 10,379 people (91%) found this review helpful 11,089 people found this review funny </div> <div class=\"vote_header\"> <div class=\"reviewInfo\"> <div class=\"thumb\"> <img height=\"44\" src=\"http://steamcommunity-a.akamaihd.net/public/shared/images/userreviews/icon_thumbsUp.png?v=1\" width=\"44\"/> </div> <div class=\"title\">Recommended</div> <div class=\"hours\">1,813.6 hrs on record</div> </div> <div style=\"clear: left\"></div> </div> <div class=\"apphub_CardTextContent\"> <div class=\"date_posted\">Posted: June 5, 2015</div> It's like Dota 2 but with less wizards and more Russians. </div> </div> <div class=\"UserReviewCardContent_Footer\"> <div class=\"gradient\">\\xa0</div> </div> </div> <div class=\"apphub_CardContentAuthorBlock tall\"> <div class=\"apphub_friend_block_container\"> <a href=\"http://steamcommunity.com/id/CapitolKun/\"> <div class=\"apphub_friend_block\" data-miniprofile=\"123785969\"> <div class=\"appHubIconHolder online\"><img src=\"http://cdn.akamai.steamstatic.com/steamcommunity/public/images/avatars/e1/e15d612a55b21c9728be9637364313550b7546a3.jpg\"/></div> <div class=\"appHubIconHolder greyOverlay\"></div> <div class=\"apphub_CardContentAuthorName online ellipsis\"><a href=\"http://steamcommunity.com/id/CapitolKun/\">\\u2606 cAPITou \\u2606</a></div> <div class=\"apphub_CardContentMoreLink ellipsis\">633 products in account</div> </div> </a> </div> <div class=\"apphub_UserReviewCardStats\"> <div class=\"apphub_CardCommentCount alignNews\">75</div> </div> <div style=\"clear: left\"></div> </div> </div><div class=\"apphub_Card modalContentLink interactable\" data-modal-content-sizetofit=\"false\" data-modal-content-url=\"http://steamcommunity.com/id/IsabellaDs/recommended/730/\" style=\"display: none\"> <div class=\"apphub_CardContentMain\"> <div class=\"apphub_UserReviewCardContent\"> <div class=\"found_helpful\"> 6,536 of 7,165 people (91%) found this review helpful 5,919 people found this review funny </div> <div class=\"vote_header\"> <div class=\"reviewInfo\"> <div class=\"thumb\"> <img height=\"44\" src=\"http://steamcommunity-a.akamaihd.net/public/shared/images/userreviews/icon_thumbsUp.png?v=1\" width=\"44\"/> </div> <div class=\"title\">Recommended</div> <div class=\"hours\">157.8 hrs on record</div> </div> <div style=\"clear: left\"></div> </div> <div class=\"apphub_CardTextContent\"> <div class=\"date_posted\">Posted: October 3, 2015</div> In this guide I will teach you how to play with russians , so here we go!!! 1) If your teammate did something wrong say -Ty dolbaeb? 2) If your teammate did something good say - Krasava! 3) If you won clutch round -sosat suka sosat 4) Lets rush b - idem rush b nahui (same for A/mid) 5) If something went wrong - pizdec 6) Give drop (politely) - dai drop pliz 7) Give drop (rude) - dai drop ili dam pizdi 8) I'm going to save - ja seivit' 9) If someone in other team plays good -pizdec cheater 10) Go eco guys, lets win next round with gun -eco odin raund a potom pizdi dadim s devaisami 11) When you win - gg izi 12) I'm from Russian - ja iz Rossii 13) American - pendosi 14) If you want to kick someone - kick etogo pidara 15) If teammates are thinking that you are bad -blyat pacani lagaet sorry 16) Polish - Kur.a You can add \"nahui\" to every phrase. Now you can play with russians and understand them </div> </div> <div class=\"UserReviewCardContent_Footer\"> <div class=\"gradient\">\\xa0</div> </div> </div> <div class=\"apphub_CardContentAuthorBlock tall\"> <div class=\"apphub_friend_block_container\"> <a href=\"http://steamcommunity.com/id/IsabellaDs/\"> <div class=\"apphub_friend_block\" data-miniprofile=\"154577418\"> <div class=\"appHubIconHolder offline\"><img src=\"http://cdn.akamai.steamstatic.com/steamcommunity/public/images/avatars/a7/a70681948259075d192ef77f6b46856dc12bf6b4.jpg\"/></div> <div class=\"appHubIconHolder greyOverlay\"></div> <div class=\"apphub_CardContentAuthorName offline ellipsis\"><a href=\"http://steamcommunity.com/id/IsabellaDs/\">Cecilia(away surf comp)</a></div> <div class=\"apphub_CardContentMoreLink ellipsis\">129 products in account</div> </div> </a> </div> <div class=\"apphub_UserReviewCardStats\"> <div class=\"apphub_CardCommentCount alignNews\">120</div> </div> <div style=\"clear: left\"></div> </div> </div><div class=\"apphub_Card modalContentLink interactable\" data-modal-content-sizetofit=\"false\" data-modal-content-url=\"http://steamcommunity.com/id/CrypterNOR/recommended/730/\" style=\"display: none\"> <div class=\"apphub_CardContentMain\"> <div class=\"apphub_UserReviewCardContent\"> <div class=\"found_helpful\"> 9,532 of 10,529 people (91%) found this review helpful 12,930 people found this review funny </div> <div class=\"vote_header\"> <div class=\"reviewInfo\"> <div class=\"thumb\"> <img height=\"44\" src=\"http://steamcommunity-a.akamaihd.net/public/shared/images/userreviews/icon_thumbsUp.png?v=1\" width=\"44\"/> </div> <div class=\"title\">Recommended</div> <div class=\"hours\">1,452.7 hrs on record</div> </div> <div style=\"clear: left\"></div> </div> <div class=\"apphub_CardTextContent\"> <div class=\"date_posted\">Posted: September 11, 2015</div> Where can i get the English version? </div> </div> <div class=\"UserReviewCardContent_Footer\"> <div class=\"gradient\">\\xa0</div> </div> </div> <div class=\"apphub_CardContentAuthorBlock tall\"> <div class=\"apphub_friend_block_container\"> <a href=\"http://steamcommunity.com/id/CrypterNOR/\"> <div class=\"apphub_friend_block\" data-miniprofile=\"45125793\"> <div class=\"appHubIconHolder online\"><img src=\"http://cdn.akamai.steamstatic.com/steamcommunity/public/images/avatars/e9/e942d8faff55f94e1c03bd737741d76e678c2fc7.jpg\"/></div> <div class=\"appHubIconHolder greyOverlay\"></div> <div class=\"apphub_CardContentAuthorName online ellipsis\"><a href=\"http://steamcommunity.com/id/CrypterNOR/\">Crypter</a></div> <div class=\"apphub_CardContentMoreLink ellipsis\">1,718 products in account</div> </div> </a> </div> <div class=\"apphub_UserReviewCardStats\"> <div class=\"apphub_CardCommentCount alignNews\">115</div> </div> <div style=\"clear: left\"></div> </div> </div> <script> $J(function() { RequestCurrentUserRecommendationVotes( [\"14446233\",\"16985058\",\"15656492\",\"14283984\",\"17331260\",\"18827070\",\"15419703\",\"16209388\",\"18303275\",\"17987914\"] ); } ); </script> </div> <form action=\"http://steamcommunity.com/app/730/homecontent/\" id=\"MoreContentForm1\" method=\"GET\" name=\"MoreContentForm1\"> <input name=\"userreviewsoffset\" type=\"hidden\" value=\"10\"/><input name=\"p\" type=\"hidden\" value=\"2\"/><input name=\"itemspage\" type=\"hidden\" value=\"2\"/><input name=\"screenshotspage\" type=\"hidden\" value=\"2\"/><input name=\"videospage\" type=\"hidden\" value=\"2\"/><input name=\"artpage\" type=\"hidden\" value=\"2\"/><input name=\"allguidepage\" type=\"hidden\" value=\"2\"/><input name=\"webguidepage\" type=\"hidden\" value=\"2\"/><input name=\"integratedguidepage\" type=\"hidden\" value=\"2\"/><input name=\"discussionspage\" type=\"hidden\" value=\"2\"/><input name=\"appid\" type=\"hidden\" value=\"730\"/><input name=\"appHubSubSection\" type=\"hidden\" value=\"10\"/> <input name=\"l\" type=\"hidden\" value=\"english\"/> <input name=\"appHubSubSection\" type=\"hidden\" value=\"10\"/> <input name=\"browsefilter\" type=\"hidden\" value=\"toprated\"/> <input name=\"filterLanguage\" type=\"hidden\" value=\"default\"/> <input name=\"searchText\" type=\"hidden\" value=\"\"/> <input name=\"forceanon\" type=\"hidden\" value=\"1\"/> </form></body></html>"
      ]
     },
     "execution_count": 31,
     "metadata": {},
     "output_type": "execute_result"
    }
   ],
   "source": [
    "soup.contents[0]"
   ]
  },
  {
   "cell_type": "code",
   "execution_count": 40,
   "metadata": {
    "collapsed": false
   },
   "outputs": [],
   "source": [
    "review_sections = soup.find_all(\"div\", \"apphub_CardContentMain\")\n",
    "review = review_sections[5]"
   ]
  },
  {
   "cell_type": "code",
   "execution_count": 41,
   "metadata": {
    "collapsed": false
   },
   "outputs": [
    {
     "data": {
      "text/plain": [
       "u'   11,320 of 12,327 people (92%) found this review helpful 13,940 people found this review funny       Recommended 287.4 hrs on record     Posted: November 1, 2015 Every team consists of 5 people: 1.You 2.Russian Guy 3.Another Russian Guy 4.Russian Guy who speaks English 5. A 6 year old kid who slept with your mother 11/10 Too much Salt and \\u0421*\\u043a\\u0430 \\u0411\\u043b\\u0438@\\u0442,not enough \\u2665\\u2665\\u2665\\u2665\\u2665 Would love to take another dose of salt and punch my little brother    \\xa0  '"
      ]
     },
     "execution_count": 41,
     "metadata": {},
     "output_type": "execute_result"
    }
   ],
   "source": [
    "review.text"
   ]
  },
  {
   "cell_type": "code",
   "execution_count": 42,
   "metadata": {
    "collapsed": false
   },
   "outputs": [],
   "source": [
    "link_blocks = list(soup.findAll('div',\n",
    "                                'apphub_Card modalContentLink interactable'))\n",
    "link_block = link_blocks[0]"
   ]
  },
  {
   "cell_type": "code",
   "execution_count": 43,
   "metadata": {
    "collapsed": false
   },
   "outputs": [
    {
     "data": {
      "text/plain": [
       "'http://steamcommunity.com/profiles/76561198092689293/recommended/730/'"
      ]
     },
     "execution_count": 43,
     "metadata": {},
     "output_type": "execute_result"
    }
   ],
   "source": [
    "review_url = link_block.attrs['data-modal-content-url']\n",
    "review_url_split = review_url.split('/')\n",
    "review_url"
   ]
  },
  {
   "cell_type": "code",
   "execution_count": 44,
   "metadata": {
    "collapsed": false
   },
   "outputs": [
    {
     "data": {
      "text/plain": [
       "'http://steamcommunity.com/profiles/76561198092689293'"
      ]
     },
     "execution_count": 44,
     "metadata": {},
     "output_type": "execute_result"
    }
   ],
   "source": [
    "profile_url = '/'.join(review_url_split[:5])\n",
    "profile_url"
   ]
  },
  {
   "cell_type": "code",
   "execution_count": 45,
   "metadata": {
    "collapsed": false
   },
   "outputs": [
    {
     "data": {
      "text/plain": [
       "[u' ',\n",
       " <div class=\"apphub_UserReviewCardContent\"> <div class=\"found_helpful\"> 11,320 of 12,327 people (92%) found this review helpful 13,940 people found this review funny </div> <div class=\"vote_header\"> <div class=\"reviewInfo\"> <div class=\"thumb\"> <img height=\"44\" src=\"http://steamcommunity-a.akamaihd.net/public/shared/images/userreviews/icon_thumbsUp.png?v=1\" width=\"44\"/> </div> <div class=\"title\">Recommended</div> <div class=\"hours\">287.4 hrs on record</div> </div> <div style=\"clear: left\"></div> </div> <div class=\"apphub_CardTextContent\"> <div class=\"date_posted\">Posted: November 1, 2015</div> Every team consists of 5 people: 1.You 2.Russian Guy 3.Another Russian Guy 4.Russian Guy who speaks English 5. A 6 year old kid who slept with your mother 11/10 Too much Salt and \\u0421*\\u043a\\u0430 \\u0411\\u043b\\u0438@\\u0442,not enough \\u2665\\u2665\\u2665\\u2665\\u2665 Would love to take another dose of salt and punch my little brother </div> </div>,\n",
       " u' ',\n",
       " <div class=\"UserReviewCardContent_Footer\"> <div class=\"gradient\">\\xa0</div> </div>,\n",
       " u' ']"
      ]
     },
     "execution_count": 45,
     "metadata": {},
     "output_type": "execute_result"
    }
   ],
   "source": [
    "list(review.children)"
   ]
  },
  {
   "cell_type": "code",
   "execution_count": 46,
   "metadata": {
    "collapsed": false
   },
   "outputs": [
    {
     "data": {
      "text/plain": [
       "[u' ',\n",
       " <div class=\"apphub_UserReviewCardContent\"> <div class=\"found_helpful\"> 11,320 of 12,327 people (92%) found this review helpful 13,940 people found this review funny </div> <div class=\"vote_header\"> <div class=\"reviewInfo\"> <div class=\"thumb\"> <img height=\"44\" src=\"http://steamcommunity-a.akamaihd.net/public/shared/images/userreviews/icon_thumbsUp.png?v=1\" width=\"44\"/> </div> <div class=\"title\">Recommended</div> <div class=\"hours\">287.4 hrs on record</div> </div> <div style=\"clear: left\"></div> </div> <div class=\"apphub_CardTextContent\"> <div class=\"date_posted\">Posted: November 1, 2015</div> Every team consists of 5 people: 1.You 2.Russian Guy 3.Another Russian Guy 4.Russian Guy who speaks English 5. A 6 year old kid who slept with your mother 11/10 Too much Salt and \\u0421*\\u043a\\u0430 \\u0411\\u043b\\u0438@\\u0442,not enough \\u2665\\u2665\\u2665\\u2665\\u2665 Would love to take another dose of salt and punch my little brother </div> </div>,\n",
       " u' ',\n",
       " <div class=\"found_helpful\"> 11,320 of 12,327 people (92%) found this review helpful 13,940 people found this review funny </div>,\n",
       " u' 11,320 of 12,327 people (92%) found this review helpful 13,940 people found this review funny ',\n",
       " u' ',\n",
       " <div class=\"vote_header\"> <div class=\"reviewInfo\"> <div class=\"thumb\"> <img height=\"44\" src=\"http://steamcommunity-a.akamaihd.net/public/shared/images/userreviews/icon_thumbsUp.png?v=1\" width=\"44\"/> </div> <div class=\"title\">Recommended</div> <div class=\"hours\">287.4 hrs on record</div> </div> <div style=\"clear: left\"></div> </div>,\n",
       " u' ',\n",
       " <div class=\"reviewInfo\"> <div class=\"thumb\"> <img height=\"44\" src=\"http://steamcommunity-a.akamaihd.net/public/shared/images/userreviews/icon_thumbsUp.png?v=1\" width=\"44\"/> </div> <div class=\"title\">Recommended</div> <div class=\"hours\">287.4 hrs on record</div> </div>,\n",
       " u' ',\n",
       " <div class=\"thumb\"> <img height=\"44\" src=\"http://steamcommunity-a.akamaihd.net/public/shared/images/userreviews/icon_thumbsUp.png?v=1\" width=\"44\"/> </div>,\n",
       " u' ',\n",
       " <img height=\"44\" src=\"http://steamcommunity-a.akamaihd.net/public/shared/images/userreviews/icon_thumbsUp.png?v=1\" width=\"44\"/>,\n",
       " u' ',\n",
       " u' ',\n",
       " <div class=\"title\">Recommended</div>,\n",
       " u'Recommended',\n",
       " u' ',\n",
       " <div class=\"hours\">287.4 hrs on record</div>,\n",
       " u'287.4 hrs on record',\n",
       " u' ',\n",
       " u' ',\n",
       " <div style=\"clear: left\"></div>,\n",
       " u' ',\n",
       " u' ',\n",
       " <div class=\"apphub_CardTextContent\"> <div class=\"date_posted\">Posted: November 1, 2015</div> Every team consists of 5 people: 1.You 2.Russian Guy 3.Another Russian Guy 4.Russian Guy who speaks English 5. A 6 year old kid who slept with your mother 11/10 Too much Salt and \\u0421*\\u043a\\u0430 \\u0411\\u043b\\u0438@\\u0442,not enough \\u2665\\u2665\\u2665\\u2665\\u2665 Would love to take another dose of salt and punch my little brother </div>,\n",
       " u' ',\n",
       " <div class=\"date_posted\">Posted: November 1, 2015</div>,\n",
       " u'Posted: November 1, 2015',\n",
       " u' Every team consists of 5 people: 1.You 2.Russian Guy 3.Another Russian Guy 4.Russian Guy who speaks English 5. A 6 year old kid who slept with your mother 11/10 Too much Salt and \\u0421*\\u043a\\u0430 \\u0411\\u043b\\u0438@\\u0442,not enough \\u2665\\u2665\\u2665\\u2665\\u2665 Would love to take another dose of salt and punch my little brother ',\n",
       " u' ',\n",
       " u' ',\n",
       " <div class=\"UserReviewCardContent_Footer\"> <div class=\"gradient\">\\xa0</div> </div>,\n",
       " u' ',\n",
       " <div class=\"gradient\">\\xa0</div>,\n",
       " u'\\xa0',\n",
       " u' ',\n",
       " u' ']"
      ]
     },
     "execution_count": 46,
     "metadata": {},
     "output_type": "execute_result"
    }
   ],
   "source": [
    "list(review.descendants)"
   ]
  },
  {
   "cell_type": "code",
   "execution_count": 47,
   "metadata": {
    "collapsed": false
   },
   "outputs": [
    {
     "data": {
      "text/plain": [
       "u' ,,, ,,, 11,320 of 12,327 people (92%) found this review helpful 13,940 people found this review funny ,,, ,,, ,,, ,,, ,,, ,,, ,,,Recommended,,, ,,,287.4 hrs on record,,, ,,, ,,, ,,, ,,, ,,,Posted: November 1, 2015,,, Every team consists of 5 people: 1.You 2.Russian Guy 3.Another Russian Guy 4.Russian Guy who speaks English 5. A 6 year old kid who slept with your mother 11/10 Too much Salt and \\u0421*\\u043a\\u0430 \\u0411\\u043b\\u0438@\\u0442,not enough \\u2665\\u2665\\u2665\\u2665\\u2665 Would love to take another dose of salt and punch my little brother ,,, ,,, ,,, ,,,\\xa0,,, ,,, '"
      ]
     },
     "execution_count": 47,
     "metadata": {},
     "output_type": "execute_result"
    }
   ],
   "source": [
    "review.getText(separator=\",,,\")"
   ]
  },
  {
   "cell_type": "code",
   "execution_count": 48,
   "metadata": {
    "collapsed": false,
    "scrolled": true
   },
   "outputs": [
    {
     "data": {
      "text/plain": [
       "[u'11,320 of 12,327 people (92%) found this review helpful 13,940 people found this review funny',\n",
       " u'Recommended',\n",
       " u'287.4 hrs on record',\n",
       " u'Posted: November 1, 2015',\n",
       " u'Every team consists of 5 people: 1.You 2.Russian Guy 3.Another Russian Guy 4.Russian Guy who speaks English 5. A 6 year old kid who slept with your mother 11/10 Too much Salt and \\u0421*\\u043a\\u0430 \\u0411\\u043b\\u0438@\\u0442,not enough \\u2665\\u2665\\u2665\\u2665\\u2665 Would love to take another dose of salt and punch my little brother']"
      ]
     },
     "execution_count": 48,
     "metadata": {},
     "output_type": "execute_result"
    }
   ],
   "source": [
    "stripped_strings = list(review.stripped_strings)\n",
    "stripped_strings"
   ]
  },
  {
   "cell_type": "code",
   "execution_count": 49,
   "metadata": {
    "collapsed": false
   },
   "outputs": [
    {
     "data": {
      "text/plain": [
       "[5, 5, 5, 5, 5, 5, 19, 5, 5, 5]"
      ]
     },
     "execution_count": 49,
     "metadata": {},
     "output_type": "execute_result"
    }
   ],
   "source": [
    "[len(list(review_sections[i].stripped_strings)) for i in range(10)]"
   ]
  },
  {
   "cell_type": "code",
   "execution_count": 50,
   "metadata": {
    "collapsed": false
   },
   "outputs": [
    {
     "data": {
      "text/plain": [
       "[u'9,472 of 10,379 people (91%) found this review helpful 11,089 people found this review funny',\n",
       " u'Recommended',\n",
       " u'1,813.6 hrs on record',\n",
       " u'Posted: June 5, 2015',\n",
       " u\"It's like Dota 2 but with less wizards and more Russians.\"]"
      ]
     },
     "execution_count": 50,
     "metadata": {},
     "output_type": "execute_result"
    }
   ],
   "source": [
    "list(review_sections[-3].stripped_strings)"
   ]
  },
  {
   "cell_type": "code",
   "execution_count": 51,
   "metadata": {
    "collapsed": false
   },
   "outputs": [
    {
     "data": {
      "text/plain": [
       "['1,703 of 1,977 people (86%) found this review helpful 1 person found this review funny',\n",
       " 'Recommended',\n",
       " '598.1 hrs on record',\n",
       " 'Posted: January 17, 2014',\n",
       " \"I've tried Rosetta Stone, duolingo, and even college classes, but nothing has taught me Russian or Brazilian better than this! And it's free!\",\n",
       " '76 products in account',\n",
       " '21']"
      ]
     },
     "execution_count": 51,
     "metadata": {},
     "output_type": "execute_result"
    }
   ],
   "source": [
    "stripped_strings2 = ['1,703 of 1,977 people (86%) found this review helpful 1 person found this review funny', 'Recommended', '598.1 hrs on record', 'Posted: January 17, 2014', \"I've tried Rosetta Stone, duolingo, and even college classes, but nothing has taught me Russian or Brazilian better than this! And it's free!\", '76 products in account', '21']\n",
    "stripped_strings2"
   ]
  },
  {
   "cell_type": "code",
   "execution_count": 52,
   "metadata": {
    "collapsed": false
   },
   "outputs": [
    {
     "data": {
      "text/plain": [
       "<_sre.SRE_Match at 0x103aa8648>"
      ]
     },
     "execution_count": 52,
     "metadata": {},
     "output_type": "execute_result"
    }
   ],
   "source": [
    "re.search(r', \\d{4}$', 'January 17, 2014')"
   ]
  },
  {
   "cell_type": "code",
   "execution_count": 53,
   "metadata": {
    "collapsed": false
   },
   "outputs": [
    {
     "data": {
      "text/plain": [
       "17"
      ]
     },
     "execution_count": 53,
     "metadata": {},
     "output_type": "execute_result"
    }
   ],
   "source": [
    "from dateutil import parser\n",
    "date = parser.parse('January 17, 2014')\n",
    "date.day"
   ]
  },
  {
   "cell_type": "code",
   "execution_count": 54,
   "metadata": {
    "collapsed": false
   },
   "outputs": [
    {
     "data": {
      "text/plain": [
       "['805 of 962 people (84%) found this review helpful',\n",
       " 'Recommended',\n",
       " '682.5 hrs on record',\n",
       " 'Posted: January 22, 2014',\n",
       " 'K I N T E R',\n",
       " '77 products in account',\n",
       " '1']"
      ]
     },
     "execution_count": 54,
     "metadata": {},
     "output_type": "execute_result"
    }
   ],
   "source": [
    "stripped_strings3 = ['805 of 962 people (84%) found this review helpful', 'Recommended', '682.5 hrs on record', 'Posted: January 22, 2014', 'K I N T E R', '77 products in account', '1']\n",
    "stripped_strings3"
   ]
  },
  {
   "cell_type": "code",
   "execution_count": 55,
   "metadata": {
    "collapsed": true
   },
   "outputs": [],
   "source": [
    "# Given the stripped_strings attribute, the relevant information can be extracted\n",
    "# exceedingly easily\n",
    "helpful_funny = stripped_strings[0]\n",
    "recommended = stripped_strings[1]\n",
    "hours = re.sub(r',',\n",
    "               r'',\n",
    "               stripped_strings[2].split()[0])\n",
    "date_posted = stripped_strings[3][8:]\n",
    "review = stripped_strings[4]\n",
    "#products_in_account = stripped_strings[6].split()[0]"
   ]
  },
  {
   "cell_type": "code",
   "execution_count": 56,
   "metadata": {
    "collapsed": false
   },
   "outputs": [
    {
     "data": {
      "text/plain": [
       "u'Recommended'"
      ]
     },
     "execution_count": 56,
     "metadata": {},
     "output_type": "execute_result"
    }
   ],
   "source": [
    "recommended"
   ]
  },
  {
   "cell_type": "code",
   "execution_count": 57,
   "metadata": {
    "collapsed": false
   },
   "outputs": [
    {
     "name": "stdout",
     "output_type": "stream",
     "text": [
      "found helpful: 11320\n",
      "total people that could have found it helpful: 12327\n",
      "percentage of people who found the review helpful: 0.918309402125%\n",
      "found review funny: 13,940\n"
     ]
    }
   ],
   "source": [
    "helpful = helpful_funny.split()[:9]\n",
    "funny = helpful_funny.split()[9:]\n",
    "found_helpful = re.sub(r',',\n",
    "                       r'',\n",
    "                       helpful[0])\n",
    "total_helpful_candidates = re.sub(r',',\n",
    "                                  r'',\n",
    "                                  helpful[2])\n",
    "helpful_percentage = float(found_helpful)/float(total_helpful_candidates)\n",
    "print(\"found helpful: {}\\ntotal people that could have found it helpful: {}\"\n",
    "      \"\\npercentage of people who found the review helpful: \"\n",
    "      \"{}%\".format(found_helpful,\n",
    "                   total_helpful_candidates,\n",
    "                   helpful_percentage))\n",
    "\n",
    "found_funny = funny[0]\n",
    "print(\"found review funny: {}\".format(found_funny))"
   ]
  },
  {
   "cell_type": "code",
   "execution_count": 198,
   "metadata": {
    "collapsed": false
   },
   "outputs": [],
   "source": [
    "date_posted += ', 2015'"
   ]
  },
  {
   "cell_type": "code",
   "execution_count": 58,
   "metadata": {
    "collapsed": false
   },
   "outputs": [
    {
     "data": {
      "text/plain": [
       "u'November 1, 2015'"
      ]
     },
     "execution_count": 58,
     "metadata": {},
     "output_type": "execute_result"
    }
   ],
   "source": [
    "date_posted"
   ]
  },
  {
   "cell_type": "code",
   "execution_count": 59,
   "metadata": {
    "collapsed": false
   },
   "outputs": [
    {
     "data": {
      "text/plain": [
       "{'date_posted': u'November 1, 2015',\n",
       " 'found_funny': u'13,940',\n",
       " 'found_helpful': u'11320',\n",
       " 'found_helpful_percentage': 0.9183094021254158,\n",
       " 'hours': u'287.4',\n",
       " 'profile_url': 'http://steamcommunity.com/profiles/76561198092689293',\n",
       " 'recommended': u'Recommended',\n",
       " 'review': u'Every team consists of 5 people: 1.You 2.Russian Guy 3.Another Russian Guy 4.Russian Guy who speaks English 5. A 6 year old kid who slept with your mother 11/10 Too much Salt and \\u0421*\\u043a\\u0430 \\u0411\\u043b\\u0438@\\u0442,not enough \\u2665\\u2665\\u2665\\u2665\\u2665 Would love to take another dose of salt and punch my little brother',\n",
       " 'review_url': 'http://steamcommunity.com/profiles/76561198092689293/recommended/730/',\n",
       " 'total_found_helpful_candidates': u'12327'}"
      ]
     },
     "execution_count": 59,
     "metadata": {},
     "output_type": "execute_result"
    }
   ],
   "source": [
    "# Let's define a dictionary with all of the stuff that's being collected\n",
    "review_dict = dict(review_url=review_url,\n",
    "                   profile_url=profile_url,\n",
    "                   recommended=recommended,\n",
    "                   hours=hours,\n",
    "                   date_posted=date_posted,\n",
    "                   review=review,\n",
    "                   #products_in_account=products_in_account,\n",
    "                   found_helpful=found_helpful,\n",
    "                   total_found_helpful_candidates=total_helpful_candidates,\n",
    "                   found_helpful_percentage=helpful_percentage,\n",
    "                   found_funny=found_funny)\n",
    "review_dict"
   ]
  },
  {
   "cell_type": "code",
   "execution_count": null,
   "metadata": {
    "collapsed": true
   },
   "outputs": [],
   "source": []
  }
 ],
 "metadata": {
  "kernelspec": {
   "display_name": "Python 2",
   "language": "python",
   "name": "python2"
  },
  "language_info": {
   "codemirror_mode": {
    "name": "ipython",
    "version": 2
   },
   "file_extension": ".py",
   "mimetype": "text/x-python",
   "name": "python",
   "nbconvert_exporter": "python",
   "pygments_lexer": "ipython2",
   "version": "2.7.11"
  }
 },
 "nbformat": 4,
 "nbformat_minor": 0
}
