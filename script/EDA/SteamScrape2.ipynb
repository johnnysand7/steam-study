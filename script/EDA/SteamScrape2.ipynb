{
 "cells": [
  {
   "cell_type": "code",
   "execution_count": 3,
   "metadata": {
    "collapsed": true
   },
   "outputs": [],
   "source": [
    "import urllib2\n",
    "import time\n",
    "from datetime import datetime\n",
    "from bs4 import BeautifulSoup\n",
    "import re, os\n",
    "import json\n",
    "from lxml import etree, html\n",
    "import requests\n",
    "import pandas as pd\n",
    "import numpy as np\n",
    "import cPickle\n",
    "from pymongo import MongoClient\n",
    "#from lxml import html"
   ]
  },
  {
   "cell_type": "code",
   "execution_count": 2,
   "metadata": {
    "collapsed": true
   },
   "outputs": [],
   "source": [
    "import matplotlib.pyplot as plt\n",
    "%matplotlib inline"
   ]
  },
  {
   "cell_type": "markdown",
   "metadata": {},
   "source": [
    "# Some MongoDB Notes\n",
    "Find all distinct user names:  \n",
    "```\n",
    "db.users.distinct(\"user_info.personaname\")\n",
    "```"
   ]
  },
  {
   "cell_type": "markdown",
   "metadata": {},
   "source": [
    "# Steam API\n",
    "## Friends From Friends\n",
    "```\n",
    "http://api.steampowered.com/ISteamUser/GetFriendList/v0001/?key=XXXX&steamid=XXXX&relationship=all\n",
    "```"
   ]
  },
  {
   "cell_type": "code",
   "execution_count": 32,
   "metadata": {
    "collapsed": false
   },
   "outputs": [],
   "source": [
    "def get_friends(id):\n",
    "    '''\n",
    "    Starting with a single user ID, return their friends\n",
    "    '''\n",
    "    key = os.environ['ACCESS_STEAM']\n",
    "    url = 'http://api.steampowered.com/ISteamUser/GetFriendList/v0001/?key='+key+'&steamid='+id+'&relationship=all'\n",
    "    return json.loads(urllib2.urlopen(url).read())['friendslist']['friends']"
   ]
  },
  {
   "cell_type": "markdown",
   "metadata": {},
   "source": [
    "## Basic User Info\n",
    "```\n",
    "http://api.steampowered.com/ISteamUser/GetPlayerSummaries/v0002/?key=XXXX&steamids=XXXX,YYYY\n",
    "```\n",
    "* Comma-delimited list of 64 bit Steam IDs to return profile information for. Up to 100 Steam IDs can be requested."
   ]
  },
  {
   "cell_type": "code",
   "execution_count": 30,
   "metadata": {
    "collapsed": true
   },
   "outputs": [],
   "source": [
    "def get_user_info(ids):\n",
    "    '''\n",
    "    For a user or users (up to 100 comma-delimited),\n",
    "    return some basic user information\n",
    "    '''\n",
    "    key = os.environ['ACCESS_STEAM']\n",
    "    url = 'http://api.steampowered.com/ISteamUser/GetPlayerSummaries/v0002/?key='+key+'&steamids='+ids\n",
    "    return json.loads(urllib2.urlopen(url).read())['response']['players'][0]"
   ]
  },
  {
   "cell_type": "markdown",
   "metadata": {},
   "source": [
    "## Player Bans\n",
    "```\n",
    "http://api.steampowered.com/ISteamUser/GetPlayerBans/v1/?key=XXXX&steamids=XXXX,YYYY\n",
    "```\n"
   ]
  },
  {
   "cell_type": "code",
   "execution_count": 13,
   "metadata": {
    "collapsed": true
   },
   "outputs": [],
   "source": [
    "def get_bans(ids):\n",
    "    '''\n",
    "    Looks at the IDS ban history\n",
    "    '''\n",
    "    key = os.environ['ACCESS_STEAM']\n",
    "    url = 'http://api.steampowered.com/ISteamUser/GetPlayerBans/v1/?key='+key+'&steamids='+ids\n",
    "    return json.loads(urllib2.urlopen(url).read())['players']"
   ]
  },
  {
   "cell_type": "code",
   "execution_count": 224,
   "metadata": {
    "collapsed": true
   },
   "outputs": [],
   "source": [
    "test_list = list(public)[:200]"
   ]
  },
  {
   "cell_type": "code",
   "execution_count": 99,
   "metadata": {
    "collapsed": true
   },
   "outputs": [],
   "source": [
    "begin = SteamStuff()\n",
    "begin.mongodb_connection()"
   ]
  },
  {
   "cell_type": "code",
   "execution_count": 201,
   "metadata": {
    "collapsed": true
   },
   "outputs": [],
   "source": [
    "begin.user_id(\"76561198000127691\")"
   ]
  },
  {
   "cell_type": "code",
   "execution_count": 206,
   "metadata": {
    "collapsed": false
   },
   "outputs": [
    {
     "data": {
      "text/plain": [
       "''"
      ]
     },
     "execution_count": 206,
     "metadata": {},
     "output_type": "execute_result"
    }
   ],
   "source": [
    "begin.scrape_profile()"
   ]
  },
  {
   "cell_type": "code",
   "execution_count": 102,
   "metadata": {
    "collapsed": false
   },
   "outputs": [
    {
     "data": {
      "text/plain": [
       "[u'76561197971340950',\n",
       " u'76561197988952025',\n",
       " u'76561198169761153',\n",
       " u'76561198002922051',\n",
       " u'76561198109725137',\n",
       " u'76561198085049223',\n",
       " u'76561198000127691',\n",
       " u'76561198094890595',\n",
       " u'76561198094033169',\n",
       " u'76561197998907707']"
      ]
     },
     "execution_count": 102,
     "metadata": {},
     "output_type": "execute_result"
    }
   ],
   "source": []
  },
  {
   "cell_type": "code",
   "execution_count": 133,
   "metadata": {
    "collapsed": false
   },
   "outputs": [
    {
     "data": {
      "text/plain": [
       "[{u'friend_since': 0, u'steamid': u'76561197960559382'},\n",
       " {u'friend_since': 0, u'steamid': u'76561197965632101'},\n",
       " {u'friend_since': 1439867952, u'steamid': u'76561197982823731'},\n",
       " {u'friend_since': 1404070051, u'steamid': u'76561197999882487'},\n",
       " {u'friend_since': 1235243760, u'steamid': u'76561198001133491'},\n",
       " {u'friend_since': 1323645317, u'steamid': u'76561198040942123'},\n",
       " {u'friend_since': 1436489293, u'steamid': u'76561198086767969'}]"
      ]
     },
     "execution_count": 133,
     "metadata": {},
     "output_type": "execute_result"
    }
   ],
   "source": [
    "begin.get_friends()"
   ]
  },
  {
   "cell_type": "code",
   "execution_count": 144,
   "metadata": {
    "collapsed": false
   },
   "outputs": [
    {
     "name": "stdout",
     "output_type": "stream",
     "text": [
      "private\n"
     ]
    }
   ],
   "source": [
    "begin.user_id(\"76561197982823731\")\n",
    "try:\n",
    "    begin.get_friends()\n",
    "except:\n",
    "    print \"private\""
   ]
  },
  {
   "cell_type": "code",
   "execution_count": 231,
   "metadata": {
    "collapsed": true
   },
   "outputs": [],
   "source": [
    "begin.user_id(my_id)"
   ]
  },
  {
   "cell_type": "code",
   "execution_count": 232,
   "metadata": {
    "collapsed": false
   },
   "outputs": [
    {
     "data": {
      "text/plain": [
       "[{u'friend_since': 0, u'steamid': u'76561197960559382'},\n",
       " {u'friend_since': 0, u'steamid': u'76561197965632101'},\n",
       " {u'friend_since': 1439867952, u'steamid': u'76561197982823731'},\n",
       " {u'friend_since': 1404070051, u'steamid': u'76561197999882487'},\n",
       " {u'friend_since': 1235243760, u'steamid': u'76561198001133491'},\n",
       " {u'friend_since': 1323645317, u'steamid': u'76561198040942123'},\n",
       " {u'friend_since': 1436489293, u'steamid': u'76561198086767969'}]"
      ]
     },
     "execution_count": 232,
     "metadata": {},
     "output_type": "execute_result"
    }
   ],
   "source": [
    "begin.get_friends()"
   ]
  },
  {
   "cell_type": "code",
   "execution_count": 229,
   "metadata": {
    "collapsed": false
   },
   "outputs": [
    {
     "data": {
      "text/plain": [
       "False"
      ]
     },
     "execution_count": 229,
     "metadata": {},
     "output_type": "execute_result"
    }
   ],
   "source": [
    "begin.s_code"
   ]
  },
  {
   "cell_type": "code",
   "execution_count": 226,
   "metadata": {
    "collapsed": true
   },
   "outputs": [],
   "source": [
    "begin = SteamStuff()\n",
    "begin.mongodb_connection()"
   ]
  },
  {
   "cell_type": "code",
   "execution_count": 227,
   "metadata": {
    "collapsed": false
   },
   "outputs": [
    {
     "name": "stdout",
     "output_type": "stream",
     "text": [
      "We don't even like 76561198000127691\n",
      "We don't even like 76561198023956576\n",
      "We don't even like 76561197993262226\n",
      "We don't even like 76561197971433883\n",
      "We don't even like 76561197985709312\n",
      "We don't even like 76561197963926152\n",
      "We don't even like 76561198164638152\n",
      "We don't even like 76561198082344211\n",
      "We don't even like 76561198055761502\n",
      "We don't even like 76561198092725189\n",
      "We don't even like 76561197963328643\n",
      "We don't even like 76561198009469261\n",
      "We don't even like 76561197970914857\n",
      "We don't even like 76561198016945492\n",
      "We don't even like 76561197972492038\n",
      "We don't even like 76561197961558433\n",
      "We don't even like 76561197991874591\n",
      "We don't even like 76561197969633521\n",
      "We don't even like 76561197999256936\n",
      "We don't even like 76561198009477939\n",
      "We don't even like 76561197972346185\n",
      "We don't even like 76561197983722049\n",
      "We don't even like 76561198010349881\n",
      "We don't even like 76561197982157782\n",
      "We don't even like 76561197998459878\n"
     ]
    }
   ],
   "source": [
    "t0 = time.time()\n",
    "for uid in test_list:\n",
    "    begin.user_id(uid)\n",
    "    if begin.s_code:\n",
    "        begin.build_dict()\n",
    "        begin.insert_document()\n",
    "    else:\n",
    "        print \"We don't even like {}\".format(uid)\n",
    "print \"took {0} seconds to collect and insert data for {1}\".format((time.time()-t0), len(test_list))"
   ]
  },
  {
   "cell_type": "markdown",
   "metadata": {},
   "source": [
    "# API Class Helper"
   ]
  },
  {
   "cell_type": "code",
   "execution_count": 207,
   "metadata": {
    "collapsed": false
   },
   "outputs": [],
   "source": [
    "class SteamStuff(object):\n",
    "    \"\"\"\n",
    "    Class to keep track of Steam APIs.\n",
    "    Ideally will return usful info.\n",
    "    Pass in the Steam API key to get going!\n",
    "    \"\"\"\n",
    "    \n",
    "    def __init__(self):\n",
    "        \"\"\"\n",
    "        Initialize with the Steam API key and Game ID (if needed)\n",
    "        \"\"\"\n",
    "        self.key = os.environ[\"ACCESS_STEAM\"]\n",
    "        self.uid = None\n",
    "        self.player_dict = {}\n",
    "        self.db = None\n",
    "        self.s_code = None\n",
    "        self.friend_response = None\n",
    "        \n",
    "    \n",
    "    def user_id(self, uid):\n",
    "        \"\"\"\n",
    "        Resets self.uid to a new 17-digit user ID\n",
    "        Also checks the GetFriendList API for a status code of 200 (public user)\n",
    "        or 401 (private user)\n",
    "        \"\"\"\n",
    "        self.uid = uid\n",
    "        url = 'http://api.steampowered.com/ISteamUser/GetFriendList/v0001/?key='\\\n",
    "               +self.key+'&steamid='+self.uid+'&relationship=all'\n",
    "        #friends = json.loads(urllib2.urlopen(url).read())['friendslist']['friends']\n",
    "        response = requests.get(url)\n",
    "        self.s_code = str(response.status_code).startswith(\"2\")\n",
    "        self.friend_response = response\n",
    "    \n",
    "    \n",
    "    def mongodb_connection(self):\n",
    "        \"\"\"\n",
    "        Connect to MongoDB 'steam'\n",
    "        \"\"\"\n",
    "        client = MongoClient()\n",
    "        self.db = client.steam\n",
    "        \n",
    "        \n",
    "    def insert_document(self, collection_name=\"users\"):\n",
    "        \"\"\"\n",
    "        Insert a player dictionary document in db_name of MongoDB\n",
    "        \"\"\"\n",
    "        #name = collection_name\n",
    "        self.db.users.insert_one(self.player_dict)\n",
    "        \n",
    "        \n",
    "    def get_bans(self):\n",
    "        \"\"\"\n",
    "        INPUTS:\n",
    "          self - .key: API key\n",
    "                 .uid: 17-digit Steam ID string, up to 100 comma-delimited\n",
    "        OUTPUTS:\n",
    "          Dictionary:\n",
    "            {u'CommunityBanned': False,\n",
    "             u'DaysSinceLastBan': 0,\n",
    "             u'EconomyBan': u'none',\n",
    "             u'NumberOfGameBans': 0, \n",
    "             u'NumberOfVACBans': 0,\n",
    "             u'SteamId': u'76561197967398882', UPDATE - removed\n",
    "             u'VACBanned': False} VAC is for online gaming\n",
    "             \n",
    "        Looks at the 17-digit ID's ban history (up to 100 comma-delimited IDs)\n",
    "        \"\"\"\n",
    "        url = 'http://api.steampowered.com/ISteamUser/GetPlayerBans/v1/?key='+self.key+'&steamids='+self.uid\n",
    "        #ban = json.loads(urllib2.urlopen(url).read())['players'][0]\n",
    "        response = requests.get(url)\n",
    "        self.s_code = str(response.status_code).startswith(\"2\")\n",
    "        ban = response.json()[\"players\"][0]\n",
    "        desired_keys = set(ban.keys()) - set([\"SteamId\"])\n",
    "        return {k: ban[k] for k in desired_keys}\n",
    "    \n",
    "    \n",
    "    def get_user_info(self):\n",
    "        \"\"\"\n",
    "        INPUTS:\n",
    "          self - .key: API key\n",
    "                 .uid: 17-digit Steam ID string, up to 100 comma-delimited \n",
    "        OUTPUTS:\n",
    "          Dictionary:\n",
    "          {u'avatar': u'https://steamcdn-a.akamaihd.net/.../jpg', # REMOVED\n",
    "           u'avatarfull': u'https://steamcdn-a.akamaihd.net/.../full.jpg',\n",
    "           u'avatarmedium': u'https://steamcdn-a.akamaihd.net/.../medium.jpg', # REMOVED\n",
    "           u'communityvisibilitystate': 3,   # 1 - private profile, 3 - public profile\n",
    "           u'lastlogoff': 1460189153,  # epoch time\n",
    "           u'loccountrycode': u'VA',    # May need to look into how to pull that out. Some also have \"locstatecode\"\n",
    "           u'personaname': u'Deck Gumby',\n",
    "           u'personastate': 0,      # 0 - Offline, 1 - Online, 2 - Busy, 3 - Away, 4 - Snooze, 5 - looking to trade, 6 - looking to play.\n",
    "           u'personastateflags': 0, #\n",
    "           u'primaryclanid': u'103582791432291036',\n",
    "           u'profilestate': 1,      # If set, indicates the user has a community profile configured (will be set to '1')\n",
    "           u'profileurl': u'http://steamcommunity.com/id/deckgumby/',\n",
    "           u'realname': u'Ken Tucky',\n",
    "           u'steamid': u'76561197967398882',\n",
    "           u'timecreated': 1089486992}    # epoch time\n",
    "        For a user or users (up to 100 comma-delimited),\n",
    "        return some basic user information\n",
    "        \"\"\"\n",
    "        url = 'http://api.steampowered.com/ISteamUser/GetPlayerSummaries/v0002/?key='\\\n",
    "               +self.key+'&steamids='+self.uid\n",
    "        #user = json.loads(urllib2.urlopen(url).read())['response']['players'][0]\n",
    "        user = requests.get(url).json()[\"response\"][\"players\"][0]\n",
    "        desired_keys = set(user.keys()) - set([\"steamid\", \"profileurl\", \"personastateflags\", \"avatar\", \"avatarmedium\", \"steamid\"])\n",
    "        return {k: user[k] for k in desired_keys}\n",
    "    \n",
    "    \n",
    "    def get_friends(self):\n",
    "        \"\"\"\n",
    "        INPUTS:\n",
    "          self - .key: API key\n",
    "                 .uid: 17-digit Steam ID\n",
    "        OUTPUT:\n",
    "          List of dictionaries, e.g.,\n",
    "            {u'friend_since': 0,\n",
    "             u'relationship': u'friend', UPDATE - now removes this field\n",
    "             u'steamid': u'76561197960559382'}\n",
    "        Starting with a single user ID, return their friends\n",
    "        If public, only return users who have public profiles\n",
    "        \"\"\"\n",
    "        #url = 'http://api.steampowered.com/ISteamUser/GetFriendList/v0001/?key='\\\n",
    "        #       +self.key+'&steamid='+self.uid+'&relationship=all'\n",
    "        #friends = json.loads(urllib2.urlopen(url).read())['friendslist']['friends']\n",
    "        #response = requests.get(url)\n",
    "        #self.s_code = str(response.status_code).startswith(\"2\")\n",
    "        friends = self.friend_response.json()[\"friendslist\"][\"friends\"]\n",
    "        excluding = set([\"relationship\"])\n",
    "        return [{k: friend[k] for k in (set(friend.keys()) - excluding)} for friend in friends]\n",
    "    \n",
    "    \n",
    "    def get_game_info(self):\n",
    "        \"\"\"\n",
    "        INPUTS:\n",
    "          self - .key: API key\n",
    "                 .uid: 17-digit Steam ID\n",
    "        OUTPUT:\n",
    "          List of dictionaries, e.g.,\n",
    "            {u'appid': 10,\n",
    "             u'has_community_visible_stats': True,\n",
    "             u'img_icon_url': u'6b0312cda02f5f777efa2f3318c307ff9acafbb5', UPDATE - removed\n",
    "             u'img_logo_url': u'af890f848dd606ac2fd4415de3c3f5e7a66fcb9f', UPDATE - removed\n",
    "             u'name': u'Counter-Strike',\n",
    "             u'playtime_forever': 0, in minutes\n",
    "             u'playtime_2weeks': 0} in minutes UPDATE - added whether played in two weeks or not\n",
    "             \n",
    "        Get owned game information for a give user\n",
    "        Returns a list of dictionaries\n",
    "        \"\"\"\n",
    "        url =  \"http://api.steampowered.com/IPlayerService/GetOwnedGames/v0001/?key=\"\\\n",
    "                +self.key+\"&steamid=\"+self.uid+\"&include_appinfo=1\\\n",
    "                &include_played_free_games=1&format=json\"\n",
    "        #games = json.loads(urllib2.urlopen(url).read())[\"response\"][\"games\"]\n",
    "        games = requests.get(url).json()[\"response\"][\"games\"]\n",
    "        for i, game in enumerate(games):\n",
    "            desired_keys = set(game.keys()) - set([\"has_community_visible_stats\", \"img_icon_url\", \"img_logo_url\"])\n",
    "            if \"playtime_2weeks\" in desired_keys:\n",
    "                game = {k: game[k] for k in desired_keys}\n",
    "                games[i] = game\n",
    "            else:\n",
    "                game = {k: game[k] for k in desired_keys}\n",
    "                game[u\"playtime_2weeks\"] = 0\n",
    "                games[i] = game\n",
    "        return games\n",
    "    \n",
    "    \n",
    "    def get_player_achievments(self, appid):\n",
    "        \"\"\"\n",
    "        Given a player ID and appid, return a list of achievments\n",
    "        \"\"\"\n",
    "        url = \"http://api.steampowered.com/ISteamUserStats/GetPlayerAchievements/v0001/?appid=\"+appid+\"&key=\"+self.key+\"&steamid=\"+self.uid\n",
    "        playerstats = json.loads(urllib2.urlopen(url).read())[\"playerstats\"]\n",
    "        return {k: playerstats[k] for k in (\"achievements\", \"gameName\")}\n",
    "    \n",
    "    \n",
    "    def scrape_profile(self):\n",
    "        \"\"\"\n",
    "        Look at a user's community profile\n",
    "        Maybe include '?xml=1' at the end of the url?\n",
    "        \"\"\"\n",
    "        url = \"http://steamcommunity.com/profiles/\"+self.uid\n",
    "        text = requests.get(url).text\n",
    "        rm_delims = re.sub(r\"[\\t\\r\\n]+\", r\" \", text)\n",
    "        rm_breaks = re.sub(r\"\\<br\\>+\", r\" \", rm_delims).strip()\n",
    "        soup = BeautifulSoup(rm_breaks, \"lxml\")\n",
    "        ### profile summary statement\n",
    "        profile_summary = \" \".join(re.findall(r\"[0-9a-zA-Z\\.\\,\\!\\?\\'\\\"\\$]+\", \" \".join(\\\n",
    "                                              [list(link.stripped_strings) for link in soup.find_all(\\\n",
    "                                              \"div\", \"profile_header_summary\")][0][:-2])))\n",
    "        \n",
    "        \n",
    "        profile_items = soup.find_all(\"div\", \"profile_count_link\")\n",
    "        profile_items = [{list(link.stripped_strings)[0]:list(link.stripped_strings)[-1]} for link in profile_items]\n",
    "        profile_items = dict(i.items()[0] for i in profile_dict)\n",
    "        \n",
    "        \n",
    "        \n",
    "        return profile_summary, profile_items\n",
    "        \n",
    "        \n",
    "        \n",
    "        #pass\n",
    "    \n",
    "    \n",
    "    def game_info(self, appid):\n",
    "        \"\"\"\n",
    "        Get the information for a given game / appid\n",
    "        \"\"\"\n",
    "        url = \"\"\n",
    "        pass\n",
    "        \n",
    "        \n",
    "    def get_global_achievements(self, appid):\n",
    "        \"\"\"\n",
    "        Get the global achievement stats, kinda intersting\n",
    "        Currently returns a LIST of achievement name / global completion percentages; maybe average one number?\n",
    "        \"\"\"\n",
    "        url = \"http://api.steampowered.com/ISteamUserStats/GetGlobalAchievementPercentagesForApp/v0002/?gameid=\"+appid+\"&format=json\"\n",
    "        return json.loads(urllib2.urlopen(url).read())[\"achievementpercentages\"][\"achievements\"]\n",
    "    \n",
    "    \n",
    "    def build_dict(self):\n",
    "        \"\"\"\n",
    "        Reference above functions to build a player info dictionary\n",
    "        Eventually do a self.id kinda thang, naw mean?\n",
    "        \"\"\"\n",
    "        \n",
    "        self.player_dict = None\n",
    "        self.player_dict = {}\n",
    "        self.player_dict[\"ban_status\"] = self.get_bans()\n",
    "        self.player_dict[\"friends\"] = self.get_friends()\n",
    "        self.player_dict[\"game_info\"] = self.get_game_info()\n",
    "        self.player_dict[\"user_info\"] = self.get_user_info()\n",
    "        self.player_dict[\"profile_summary\"] = self.scrape_profile()\n",
    "        self.player_dict[\"steamid\"] = self.uid\n",
    "        #self.player_dict[\"achievments\"] = self.get_player_achievments() needs a specific game\n",
    "    \n",
    "    \n",
    "    def check_out(self):\n",
    "        \"\"\"\n",
    "        Returns a built-up dictionary\n",
    "        \"\"\"\n",
    "        return self.player_dict"
   ]
  },
  {
   "cell_type": "code",
   "execution_count": 233,
   "metadata": {
    "collapsed": false
   },
   "outputs": [
    {
     "data": {
      "text/plain": [
       "'http://steamcommunity.com/profiles/76561198050495772'"
      ]
     },
     "execution_count": 233,
     "metadata": {},
     "output_type": "execute_result"
    }
   ],
   "source": [
    "url = url = \"http://steamcommunity.com/profiles/\"+os.environ[\"STEAM_ID\"]\n",
    "url"
   ]
  },
  {
   "cell_type": "code",
   "execution_count": 254,
   "metadata": {
    "collapsed": true
   },
   "outputs": [],
   "source": [
    "url = \"http://steamcommunity.com/profiles/\"+os.environ[\"STEAM_ID\"]\n",
    "text = requests.get(url).text\n",
    "rm_delims = re.sub(r\"[\\t\\r\\n]+\", r\" \", text)\n",
    "rm_breaks = re.sub(r\"\\<br\\>+\", r\" \", rm_delims).strip()\n",
    "soup = BeautifulSoup(rm_breaks, \"lxml\")"
   ]
  },
  {
   "cell_type": "code",
   "execution_count": 264,
   "metadata": {
    "collapsed": false
   },
   "outputs": [
    {
     "data": {
      "text/plain": [
       "[{u'448': u'Featured Games'}]"
      ]
     },
     "execution_count": 264,
     "metadata": {},
     "output_type": "execute_result"
    }
   ],
   "source": [
    "profile_links = soup.find_all(\"div\", \"gamecollector_showcase\")\n",
    "[{list(link.stripped_strings)[0]:list(link.stripped_strings)[-1]} for link in profile_links]"
   ]
  },
  {
   "cell_type": "code",
   "execution_count": 265,
   "metadata": {
    "collapsed": false
   },
   "outputs": [],
   "source": [
    "soup = BeautifulSoup(requests.get(url).content, \"lxml\")\n",
    "#location_html = stadium_soup.select_one(\"span.geo-dec\")"
   ]
  },
  {
   "cell_type": "code",
   "execution_count": 267,
   "metadata": {
    "collapsed": false
   },
   "outputs": [
    {
     "data": {
      "text/plain": [
       "u'\\n\\n\\n448\\nGames Owned\\n\\n\\n185\\nDLC Owned\\n\\n\\n16\\nReviews\\n\\n\\n203\\nWishlisted\\n\\n\\n\\n\\r\\n\\t\\t\\t\\t\\tFeatured Games\\t\\t\\t\\t\\n\\n\\n\\n\\n\\n\\n\\n\\n\\n\\n\\n\\n\\n\\n\\n\\n\\n\\n\\n\\n\\n\\n\\n'"
      ]
     },
     "execution_count": 267,
     "metadata": {},
     "output_type": "execute_result"
    }
   ],
   "source": [
    "soup.select_one(\"div.gamecollector_showcase\").text"
   ]
  },
  {
   "cell_type": "code",
   "execution_count": 255,
   "metadata": {
    "collapsed": false
   },
   "outputs": [
    {
     "data": {
      "text/plain": [
       "{u'Artwork': u'5',\n",
       " u'Badges': u'41',\n",
       " u'Friends': u'159',\n",
       " u'Games': u'448',\n",
       " u'Groups': u'17',\n",
       " u'Guides': u'4',\n",
       " u'Inventory': u'Inventory',\n",
       " u'Reviews': u'16',\n",
       " u'Screenshots': u'99',\n",
       " u'Videos': u'6'}"
      ]
     },
     "execution_count": 255,
     "metadata": {},
     "output_type": "execute_result"
    }
   ],
   "source": [
    "\n",
    "#profile_dict = {}\n",
    "profile_links = soup.find_all(\"div\", \"profile_count_link\")\n",
    "profile_dict = [{list(link.stripped_strings)[0]:list(link.stripped_strings)[-1]} for link in profile_links]\n",
    "dict(i.items()[0] for i in profile_dict)"
   ]
  },
  {
   "cell_type": "code",
   "execution_count": 268,
   "metadata": {
    "collapsed": false
   },
   "outputs": [
    {
     "name": "stderr",
     "output_type": "stream",
     "text": [
      "/Users/johnnysand/anaconda/lib/python2.7/site-packages/ipykernel/__main__.py:1: UnicodeWarning: Unicode equal comparison failed to convert both arguments to Unicode - interpreting them as being unequal\n",
      "  if __name__ == '__main__':\n"
     ]
    },
    {
     "data": {
      "text/plain": [
       "False"
      ]
     },
     "execution_count": 268,
     "metadata": {},
     "output_type": "execute_result"
    }
   ],
   "source": [
    "requests.get(url).text == requests.get(url).content"
   ]
  },
  {
   "cell_type": "code",
   "execution_count": 199,
   "metadata": {
    "collapsed": false
   },
   "outputs": [
    {
     "data": {
      "text/plain": [
       "[{u'friend_since': 0, u'steamid': u'76561197960559382'},\n",
       " {u'friend_since': 0, u'steamid': u'76561197965632101'},\n",
       " {u'friend_since': 1439867952, u'steamid': u'76561197982823731'},\n",
       " {u'friend_since': 1404070051, u'steamid': u'76561197999882487'},\n",
       " {u'friend_since': 1235243760, u'steamid': u'76561198001133491'},\n",
       " {u'friend_since': 1323645317, u'steamid': u'76561198040942123'},\n",
       " {u'friend_since': 1436489293, u'steamid': u'76561198086767969'}]"
      ]
     },
     "execution_count": 199,
     "metadata": {},
     "output_type": "execute_result"
    }
   ],
   "source": [
    "users.get_friends()"
   ]
  },
  {
   "cell_type": "code",
   "execution_count": 275,
   "metadata": {
    "collapsed": false
   },
   "outputs": [
    {
     "data": {
      "text/plain": [
       "{'a': 2, 'b': 3, 'd': 5}"
      ]
     },
     "execution_count": 275,
     "metadata": {},
     "output_type": "execute_result"
    }
   ],
   "source": [
    "final_dict = {}\n",
    "final_dict.update({\"a\":2, \"b\":3})\n",
    "final_dict.update({\"d\":5})\n",
    "final_dict"
   ]
  },
  {
   "cell_type": "code",
   "execution_count": null,
   "metadata": {
    "collapsed": true
   },
   "outputs": [],
   "source": []
  },
  {
   "cell_type": "markdown",
   "metadata": {},
   "source": [
    "brian = SteamStuff()"
   ]
  },
  {
   "cell_type": "code",
   "execution_count": 272,
   "metadata": {
    "collapsed": true
   },
   "outputs": [],
   "source": [
    "brian.user_id(\"76561197999882487\")"
   ]
  },
  {
   "cell_type": "code",
   "execution_count": 273,
   "metadata": {
    "collapsed": false
   },
   "outputs": [
    {
     "data": {
      "text/plain": [
       "{u'avatarfull': u'https://steamcdn-a.akamaihd.net/steamcommunity/public/images/avatars/be/be2e1575d5ca6a6cbdc7b96f01f617297e177741_full.jpg',\n",
       " u'communityvisibilitystate': 3,\n",
       " u'gameextrainfo': u'Battleborn Open Beta',\n",
       " u'gameid': u'451070',\n",
       " u'lastlogoff': 1460407579,\n",
       " u'personaname': u'BriBri',\n",
       " u'personastate': 1,\n",
       " u'primaryclanid': u'103582791439817145',\n",
       " u'profilestate': 1,\n",
       " u'realname': u'Brian McAdams',\n",
       " u'timecreated': 1216015854}"
      ]
     },
     "execution_count": 273,
     "metadata": {},
     "output_type": "execute_result"
    }
   ],
   "source": [
    "brian.get_user_info()"
   ]
  },
  {
   "cell_type": "code",
   "execution_count": null,
   "metadata": {
    "collapsed": true
   },
   "outputs": [],
   "source": []
  },
  {
   "cell_type": "code",
   "execution_count": 192,
   "metadata": {
    "collapsed": false
   },
   "outputs": [],
   "source": [
    "users.build_dict()"
   ]
  },
  {
   "cell_type": "code",
   "execution_count": 193,
   "metadata": {
    "collapsed": false
   },
   "outputs": [
    {
     "data": {
      "text/plain": [
       "{'ban_status': {u'CommunityBanned': False,\n",
       "  u'DaysSinceLastBan': 0,\n",
       "  u'EconomyBan': u'none',\n",
       "  u'NumberOfGameBans': 0,\n",
       "  u'NumberOfVACBans': 0,\n",
       "  u'VACBanned': False},\n",
       " 'friends': [{u'friend_since': 0, u'steamid': u'76561197960559382'},\n",
       "  {u'friend_since': 0, u'steamid': u'76561197965632101'},\n",
       "  {u'friend_since': 1439867952, u'steamid': u'76561197982823731'},\n",
       "  {u'friend_since': 1404070051, u'steamid': u'76561197999882487'},\n",
       "  {u'friend_since': 1235243760, u'steamid': u'76561198001133491'},\n",
       "  {u'friend_since': 1323645317, u'steamid': u'76561198040942123'},\n",
       "  {u'friend_since': 1436489293, u'steamid': u'76561198086767969'}],\n",
       " 'game_info': [{u'appid': 10,\n",
       "   u'name': u'Counter-Strike',\n",
       "   u'playtime_2weeks': 0,\n",
       "   u'playtime_forever': 0},\n",
       "  {u'appid': 20,\n",
       "   u'name': u'Team Fortress Classic',\n",
       "   u'playtime_2weeks': 0,\n",
       "   u'playtime_forever': 0},\n",
       "  {u'appid': 30,\n",
       "   u'name': u'Day of Defeat',\n",
       "   u'playtime_2weeks': 0,\n",
       "   u'playtime_forever': 0},\n",
       "  {u'appid': 40,\n",
       "   u'name': u'Deathmatch Classic',\n",
       "   u'playtime_2weeks': 0,\n",
       "   u'playtime_forever': 0},\n",
       "  {u'appid': 50,\n",
       "   u'name': u'Half-Life: Opposing Force',\n",
       "   u'playtime_2weeks': 0,\n",
       "   u'playtime_forever': 248},\n",
       "  {u'appid': 60,\n",
       "   u'name': u'Ricochet',\n",
       "   u'playtime_2weeks': 0,\n",
       "   u'playtime_forever': 0},\n",
       "  {u'appid': 70,\n",
       "   u'name': u'Half-Life',\n",
       "   u'playtime_2weeks': 0,\n",
       "   u'playtime_forever': 2},\n",
       "  {u'appid': 130,\n",
       "   u'name': u'Half-Life: Blue Shift',\n",
       "   u'playtime_2weeks': 0,\n",
       "   u'playtime_forever': 0},\n",
       "  {u'appid': 80,\n",
       "   u'name': u'Counter-Strike: Condition Zero',\n",
       "   u'playtime_2weeks': 0,\n",
       "   u'playtime_forever': 0},\n",
       "  {u'appid': 100,\n",
       "   u'name': u'Counter-Strike: Condition Zero Deleted Scenes',\n",
       "   u'playtime_2weeks': 0,\n",
       "   u'playtime_forever': 0},\n",
       "  {u'appid': 220,\n",
       "   u'name': u'Half-Life 2',\n",
       "   u'playtime_2weeks': 0,\n",
       "   u'playtime_forever': 367},\n",
       "  {u'appid': 240,\n",
       "   u'name': u'Counter-Strike: Source',\n",
       "   u'playtime_2weeks': 0,\n",
       "   u'playtime_forever': 711},\n",
       "  {u'appid': 280,\n",
       "   u'name': u'Half-Life: Source',\n",
       "   u'playtime_2weeks': 0,\n",
       "   u'playtime_forever': 23},\n",
       "  {u'appid': 300,\n",
       "   u'name': u'Day of Defeat: Source',\n",
       "   u'playtime_2weeks': 0,\n",
       "   u'playtime_forever': 0},\n",
       "  {u'appid': 320,\n",
       "   u'name': u'Half-Life 2: Deathmatch',\n",
       "   u'playtime_2weeks': 0,\n",
       "   u'playtime_forever': 0},\n",
       "  {u'appid': 340,\n",
       "   u'name': u'Half-Life 2: Lost Coast',\n",
       "   u'playtime_2weeks': 0,\n",
       "   u'playtime_forever': 0},\n",
       "  {u'appid': 360,\n",
       "   u'name': u'Half-Life Deathmatch: Source',\n",
       "   u'playtime_2weeks': 0,\n",
       "   u'playtime_forever': 0},\n",
       "  {u'appid': 1200,\n",
       "   u'name': u'Red Orchestra: Ostfront 41-45',\n",
       "   u'playtime_2weeks': 0,\n",
       "   u'playtime_forever': 0},\n",
       "  {u'appid': 1230,\n",
       "   u'name': u'Mare Nostrum',\n",
       "   u'playtime_2weeks': 0,\n",
       "   u'playtime_forever': 0},\n",
       "  {u'appid': 1280,\n",
       "   u'name': u\"Darkest Hour: Europe '44-'45\",\n",
       "   u'playtime_2weeks': 0,\n",
       "   u'playtime_forever': 0},\n",
       "  {u'appid': 1300,\n",
       "   u'name': u'SiN Episodes: Emergence',\n",
       "   u'playtime_2weeks': 0,\n",
       "   u'playtime_forever': 0},\n",
       "  {u'appid': 1309,\n",
       "   u'name': u'SiN Multiplayer',\n",
       "   u'playtime_2weeks': 0,\n",
       "   u'playtime_forever': 0},\n",
       "  {u'appid': 1313,\n",
       "   u'name': u'SiN',\n",
       "   u'playtime_2weeks': 0,\n",
       "   u'playtime_forever': 0},\n",
       "  {u'appid': 380,\n",
       "   u'name': u'Half-Life 2: Episode One',\n",
       "   u'playtime_2weeks': 0,\n",
       "   u'playtime_forever': 22},\n",
       "  {u'appid': 2100,\n",
       "   u'name': u'Dark Messiah of Might & Magic Single Player',\n",
       "   u'playtime_2weeks': 0,\n",
       "   u'playtime_forever': 2},\n",
       "  {u'appid': 2130,\n",
       "   u'name': u'Dark Messiah of Might & Magic Multi-Player',\n",
       "   u'playtime_2weeks': 0,\n",
       "   u'playtime_forever': 0},\n",
       "  {u'appid': 4000,\n",
       "   u'name': u\"Garry's Mod\",\n",
       "   u'playtime_2weeks': 0,\n",
       "   u'playtime_forever': 1139},\n",
       "  {u'appid': 400,\n",
       "   u'name': u'Portal',\n",
       "   u'playtime_2weeks': 0,\n",
       "   u'playtime_forever': 35},\n",
       "  {u'appid': 420,\n",
       "   u'name': u'Half-Life 2: Episode Two',\n",
       "   u'playtime_2weeks': 0,\n",
       "   u'playtime_forever': 3},\n",
       "  {u'appid': 12900,\n",
       "   u'name': u'Audiosurf',\n",
       "   u'playtime_2weeks': 0,\n",
       "   u'playtime_forever': 6},\n",
       "  {u'appid': 17300,\n",
       "   u'name': u'Crysis',\n",
       "   u'playtime_2weeks': 0,\n",
       "   u'playtime_forever': 187},\n",
       "  {u'appid': 20900,\n",
       "   u'name': u'The Witcher: Enhanced Edition',\n",
       "   u'playtime_2weeks': 0,\n",
       "   u'playtime_forever': 2310},\n",
       "  {u'appid': 500,\n",
       "   u'name': u'Left 4 Dead',\n",
       "   u'playtime_2weeks': 0,\n",
       "   u'playtime_forever': 286},\n",
       "  {u'appid': 22300,\n",
       "   u'name': u'Fallout 3',\n",
       "   u'playtime_2weeks': 0,\n",
       "   u'playtime_forever': 66},\n",
       "  {u'appid': 22200,\n",
       "   u'name': u'Zeno Clash',\n",
       "   u'playtime_2weeks': 0,\n",
       "   u'playtime_forever': 0},\n",
       "  {u'appid': 10180,\n",
       "   u'name': u'Call of Duty: Modern Warfare 2',\n",
       "   u'playtime_2weeks': 0,\n",
       "   u'playtime_forever': 0},\n",
       "  {u'appid': 10190,\n",
       "   u'name': u'Call of Duty: Modern Warfare 2 - Multiplayer',\n",
       "   u'playtime_2weeks': 0,\n",
       "   u'playtime_forever': 343},\n",
       "  {u'appid': 550,\n",
       "   u'name': u'Left 4 Dead 2',\n",
       "   u'playtime_2weeks': 0,\n",
       "   u'playtime_forever': 130},\n",
       "  {u'appid': 223530,\n",
       "   u'name': u'Left 4 Dead 2 Beta',\n",
       "   u'playtime_2weeks': 0,\n",
       "   u'playtime_forever': 0},\n",
       "  {u'appid': 48900,\n",
       "   u'name': u'Saira',\n",
       "   u'playtime_2weeks': 0,\n",
       "   u'playtime_forever': 390},\n",
       "  {u'appid': 47810,\n",
       "   u'name': u'Dragon Age: Origins - Ultimate Edition',\n",
       "   u'playtime_2weeks': 0,\n",
       "   u'playtime_forever': 0},\n",
       "  {u'appid': 99700,\n",
       "   u'name': u'NightSky',\n",
       "   u'playtime_2weeks': 0,\n",
       "   u'playtime_forever': 105},\n",
       "  {u'appid': 620,\n",
       "   u'name': u'Portal 2',\n",
       "   u'playtime_2weeks': 0,\n",
       "   u'playtime_forever': 318},\n",
       "  {u'appid': 105600,\n",
       "   u'name': u'Terraria',\n",
       "   u'playtime_2weeks': 0,\n",
       "   u'playtime_forever': 645},\n",
       "  {u'appid': 20920,\n",
       "   u'name': u'The Witcher 2: Assassins of Kings Enhanced Edition',\n",
       "   u'playtime_2weeks': 0,\n",
       "   u'playtime_forever': 31},\n",
       "  {u'appid': 43110,\n",
       "   u'name': u'Metro 2033',\n",
       "   u'playtime_2weeks': 0,\n",
       "   u'playtime_forever': 48},\n",
       "  {u'appid': 72850,\n",
       "   u'name': u'The Elder Scrolls V: Skyrim',\n",
       "   u'playtime_2weeks': 0,\n",
       "   u'playtime_forever': 1890},\n",
       "  {u'appid': 42910,\n",
       "   u'name': u'Magicka',\n",
       "   u'playtime_2weeks': 0,\n",
       "   u'playtime_forever': 81},\n",
       "  {u'appid': 261570,\n",
       "   u'name': u'Ori and the Blind Forest',\n",
       "   u'playtime_2weeks': 0,\n",
       "   u'playtime_forever': 42},\n",
       "  {u'appid': 268850,\n",
       "   u'name': u'EVGA PrecisionX 16',\n",
       "   u'playtime_2weeks': 0,\n",
       "   u'playtime_forever': 3590},\n",
       "  {u'appid': 290930,\n",
       "   u'name': u'Half-Life 2: Update',\n",
       "   u'playtime_2weeks': 0,\n",
       "   u'playtime_forever': 117},\n",
       "  {u'appid': 238460,\n",
       "   u'name': u'BattleBlock Theater',\n",
       "   u'playtime_2weeks': 0,\n",
       "   u'playtime_forever': 226},\n",
       "  {u'appid': 304930,\n",
       "   u'name': u'Unturned',\n",
       "   u'playtime_2weeks': 0,\n",
       "   u'playtime_forever': 1},\n",
       "  {u'appid': 63380,\n",
       "   u'name': u'Sniper Elite V2',\n",
       "   u'playtime_2weeks': 0,\n",
       "   u'playtime_forever': 0},\n",
       "  {u'appid': 365720,\n",
       "   u'name': u'Skyrim Script Extender (SKSE)',\n",
       "   u'playtime_2weeks': 0,\n",
       "   u'playtime_forever': 0},\n",
       "  {u'appid': 295790,\n",
       "   u'name': u'Never Alone (Kisima Ingitchuna)',\n",
       "   u'playtime_2weeks': 0,\n",
       "   u'playtime_forever': 74},\n",
       "  {u'appid': 244930,\n",
       "   u'name': u'SNOW',\n",
       "   u'playtime_2weeks': 3,\n",
       "   u'playtime_forever': 63},\n",
       "  {u'appid': 211,\n",
       "   u'name': u'Source SDK',\n",
       "   u'playtime_2weeks': 0,\n",
       "   u'playtime_forever': 9},\n",
       "  {u'appid': 440,\n",
       "   u'name': u'Team Fortress 2',\n",
       "   u'playtime_2weeks': 0,\n",
       "   u'playtime_forever': 505}],\n",
       " 'profile_summary': u'I chase chickens',\n",
       " 'steamid': '76561197967398882',\n",
       " 'user_info': {u'avatarfull': u'https://steamcdn-a.akamaihd.net/steamcommunity/public/images/avatars/3b/3b295d3493a5505e438851fefb55995776ad0f0b_full.jpg',\n",
       "  u'communityvisibilitystate': 3,\n",
       "  u'lastlogoff': 1460189153,\n",
       "  u'loccountrycode': u'VA',\n",
       "  u'personaname': u'Deck Gumby',\n",
       "  u'personastate': 0,\n",
       "  u'primaryclanid': u'103582791432291036',\n",
       "  u'profilestate': 1,\n",
       "  u'realname': u'Ken Tucky',\n",
       "  u'timecreated': 1089486992}}"
      ]
     },
     "execution_count": 193,
     "metadata": {},
     "output_type": "execute_result"
    }
   ],
   "source": [
    "users.player_dict"
   ]
  },
  {
   "cell_type": "code",
   "execution_count": 173,
   "metadata": {
    "collapsed": false
   },
   "outputs": [
    {
     "data": {
      "text/plain": [
       "'http://api.steampowered.com/ISteamUser/GetPlayerBans/v1/?key=9BD62BA0CD75599091D3C1257782D97D&steamids=76561197967398882'"
      ]
     },
     "execution_count": 173,
     "metadata": {},
     "output_type": "execute_result"
    }
   ],
   "source": [
    "url = 'http://api.steampowered.com/ISteamUser/GetPlayerBans/v1/?key='+os.environ[\"ACCESS_STEAM\"]+'&steamids='+my_id\n",
    "  \n",
    "url"
   ]
  },
  {
   "cell_type": "markdown",
   "metadata": {},
   "source": [
    "### Replacing urllib with requests.get() -- seems a little simpler\n",
    "Before: &nbsp;`user = json.loads(urllib2.urlopen(url).read())['response']['players'][0]`   \n",
    "After: &nbsp;&nbsp;&nbsp;&nbsp;`user = requests.get(url).json()[\"response\"][\"players\"][0]`    \n",
    "\n",
    "`friends = json.loads(urllib2.urlopen(url).read())['friendslist']['friends']`  \n",
    "`games = json.loads(urllib2.urlopen(url).read())[\"response\"][\"games\"]`  \n",
    "`ban = json.loads(urllib2.urlopen(url).read())['players'][0]`"
   ]
  },
  {
   "cell_type": "code",
   "execution_count": 178,
   "metadata": {
    "collapsed": false
   },
   "outputs": [
    {
     "data": {
      "text/plain": [
       "200"
      ]
     },
     "execution_count": 178,
     "metadata": {},
     "output_type": "execute_result"
    }
   ],
   "source": [
    "response = requests.get(url)\n",
    "response.status_code"
   ]
  },
  {
   "cell_type": "code",
   "execution_count": 177,
   "metadata": {
    "collapsed": false
   },
   "outputs": [
    {
     "data": {
      "text/plain": [
       "{u'CommunityBanned': False,\n",
       " u'DaysSinceLastBan': 0,\n",
       " u'EconomyBan': u'none',\n",
       " u'NumberOfGameBans': 0,\n",
       " u'NumberOfVACBans': 0,\n",
       " u'SteamId': u'76561197967398882',\n",
       " u'VACBanned': False}"
      ]
     },
     "execution_count": 177,
     "metadata": {},
     "output_type": "execute_result"
    }
   ],
   "source": [
    "response.json()[\"players\"][0]"
   ]
  },
  {
   "cell_type": "code",
   "execution_count": 160,
   "metadata": {
    "collapsed": false
   },
   "outputs": [
    {
     "data": {
      "text/plain": [
       "False"
      ]
     },
     "execution_count": 160,
     "metadata": {},
     "output_type": "execute_result"
    }
   ],
   "source": [
    "str(response.status_code).startswith(\"2\")"
   ]
  },
  {
   "cell_type": "code",
   "execution_count": 131,
   "metadata": {
    "collapsed": false
   },
   "outputs": [
    {
     "data": {
      "text/plain": [
       "[{u'appid': 10,\n",
       "  u'name': u'Counter-Strike',\n",
       "  u'playtime_2weeks': 0,\n",
       "  u'playtime_forever': 0},\n",
       " {u'appid': 20,\n",
       "  u'name': u'Team Fortress Classic',\n",
       "  u'playtime_2weeks': 0,\n",
       "  u'playtime_forever': 0},\n",
       " {u'appid': 30,\n",
       "  u'name': u'Day of Defeat',\n",
       "  u'playtime_2weeks': 0,\n",
       "  u'playtime_forever': 0},\n",
       " {u'appid': 40,\n",
       "  u'name': u'Deathmatch Classic',\n",
       "  u'playtime_2weeks': 0,\n",
       "  u'playtime_forever': 0},\n",
       " {u'appid': 50,\n",
       "  u'name': u'Half-Life: Opposing Force',\n",
       "  u'playtime_2weeks': 0,\n",
       "  u'playtime_forever': 248},\n",
       " {u'appid': 60,\n",
       "  u'name': u'Ricochet',\n",
       "  u'playtime_2weeks': 0,\n",
       "  u'playtime_forever': 0},\n",
       " {u'appid': 70,\n",
       "  u'name': u'Half-Life',\n",
       "  u'playtime_2weeks': 0,\n",
       "  u'playtime_forever': 2},\n",
       " {u'appid': 130,\n",
       "  u'name': u'Half-Life: Blue Shift',\n",
       "  u'playtime_2weeks': 0,\n",
       "  u'playtime_forever': 0},\n",
       " {u'appid': 80,\n",
       "  u'name': u'Counter-Strike: Condition Zero',\n",
       "  u'playtime_2weeks': 0,\n",
       "  u'playtime_forever': 0},\n",
       " {u'appid': 100,\n",
       "  u'name': u'Counter-Strike: Condition Zero Deleted Scenes',\n",
       "  u'playtime_2weeks': 0,\n",
       "  u'playtime_forever': 0},\n",
       " {u'appid': 220,\n",
       "  u'name': u'Half-Life 2',\n",
       "  u'playtime_2weeks': 0,\n",
       "  u'playtime_forever': 367},\n",
       " {u'appid': 240,\n",
       "  u'name': u'Counter-Strike: Source',\n",
       "  u'playtime_2weeks': 0,\n",
       "  u'playtime_forever': 711},\n",
       " {u'appid': 280,\n",
       "  u'name': u'Half-Life: Source',\n",
       "  u'playtime_2weeks': 0,\n",
       "  u'playtime_forever': 23},\n",
       " {u'appid': 300,\n",
       "  u'name': u'Day of Defeat: Source',\n",
       "  u'playtime_2weeks': 0,\n",
       "  u'playtime_forever': 0},\n",
       " {u'appid': 320,\n",
       "  u'name': u'Half-Life 2: Deathmatch',\n",
       "  u'playtime_2weeks': 0,\n",
       "  u'playtime_forever': 0},\n",
       " {u'appid': 340,\n",
       "  u'name': u'Half-Life 2: Lost Coast',\n",
       "  u'playtime_2weeks': 0,\n",
       "  u'playtime_forever': 0},\n",
       " {u'appid': 360,\n",
       "  u'name': u'Half-Life Deathmatch: Source',\n",
       "  u'playtime_2weeks': 0,\n",
       "  u'playtime_forever': 0},\n",
       " {u'appid': 1200,\n",
       "  u'name': u'Red Orchestra: Ostfront 41-45',\n",
       "  u'playtime_2weeks': 0,\n",
       "  u'playtime_forever': 0},\n",
       " {u'appid': 1230,\n",
       "  u'name': u'Mare Nostrum',\n",
       "  u'playtime_2weeks': 0,\n",
       "  u'playtime_forever': 0},\n",
       " {u'appid': 1280,\n",
       "  u'name': u\"Darkest Hour: Europe '44-'45\",\n",
       "  u'playtime_2weeks': 0,\n",
       "  u'playtime_forever': 0},\n",
       " {u'appid': 1300,\n",
       "  u'name': u'SiN Episodes: Emergence',\n",
       "  u'playtime_2weeks': 0,\n",
       "  u'playtime_forever': 0},\n",
       " {u'appid': 1309,\n",
       "  u'name': u'SiN Multiplayer',\n",
       "  u'playtime_2weeks': 0,\n",
       "  u'playtime_forever': 0},\n",
       " {u'appid': 1313,\n",
       "  u'name': u'SiN',\n",
       "  u'playtime_2weeks': 0,\n",
       "  u'playtime_forever': 0},\n",
       " {u'appid': 380,\n",
       "  u'name': u'Half-Life 2: Episode One',\n",
       "  u'playtime_2weeks': 0,\n",
       "  u'playtime_forever': 22},\n",
       " {u'appid': 2100,\n",
       "  u'name': u'Dark Messiah of Might & Magic Single Player',\n",
       "  u'playtime_2weeks': 0,\n",
       "  u'playtime_forever': 2},\n",
       " {u'appid': 2130,\n",
       "  u'name': u'Dark Messiah of Might & Magic Multi-Player',\n",
       "  u'playtime_2weeks': 0,\n",
       "  u'playtime_forever': 0},\n",
       " {u'appid': 4000,\n",
       "  u'name': u\"Garry's Mod\",\n",
       "  u'playtime_2weeks': 0,\n",
       "  u'playtime_forever': 1139},\n",
       " {u'appid': 400,\n",
       "  u'name': u'Portal',\n",
       "  u'playtime_2weeks': 0,\n",
       "  u'playtime_forever': 35},\n",
       " {u'appid': 420,\n",
       "  u'name': u'Half-Life 2: Episode Two',\n",
       "  u'playtime_2weeks': 0,\n",
       "  u'playtime_forever': 3},\n",
       " {u'appid': 12900,\n",
       "  u'name': u'Audiosurf',\n",
       "  u'playtime_2weeks': 0,\n",
       "  u'playtime_forever': 6},\n",
       " {u'appid': 17300,\n",
       "  u'name': u'Crysis',\n",
       "  u'playtime_2weeks': 0,\n",
       "  u'playtime_forever': 187},\n",
       " {u'appid': 20900,\n",
       "  u'name': u'The Witcher: Enhanced Edition',\n",
       "  u'playtime_2weeks': 0,\n",
       "  u'playtime_forever': 2310},\n",
       " {u'appid': 500,\n",
       "  u'name': u'Left 4 Dead',\n",
       "  u'playtime_2weeks': 0,\n",
       "  u'playtime_forever': 286},\n",
       " {u'appid': 22300,\n",
       "  u'name': u'Fallout 3',\n",
       "  u'playtime_2weeks': 0,\n",
       "  u'playtime_forever': 66},\n",
       " {u'appid': 22200,\n",
       "  u'name': u'Zeno Clash',\n",
       "  u'playtime_2weeks': 0,\n",
       "  u'playtime_forever': 0},\n",
       " {u'appid': 10180,\n",
       "  u'name': u'Call of Duty: Modern Warfare 2',\n",
       "  u'playtime_2weeks': 0,\n",
       "  u'playtime_forever': 0},\n",
       " {u'appid': 10190,\n",
       "  u'name': u'Call of Duty: Modern Warfare 2 - Multiplayer',\n",
       "  u'playtime_2weeks': 0,\n",
       "  u'playtime_forever': 343},\n",
       " {u'appid': 550,\n",
       "  u'name': u'Left 4 Dead 2',\n",
       "  u'playtime_2weeks': 0,\n",
       "  u'playtime_forever': 130},\n",
       " {u'appid': 223530,\n",
       "  u'name': u'Left 4 Dead 2 Beta',\n",
       "  u'playtime_2weeks': 0,\n",
       "  u'playtime_forever': 0},\n",
       " {u'appid': 48900,\n",
       "  u'name': u'Saira',\n",
       "  u'playtime_2weeks': 0,\n",
       "  u'playtime_forever': 390},\n",
       " {u'appid': 47810,\n",
       "  u'name': u'Dragon Age: Origins - Ultimate Edition',\n",
       "  u'playtime_2weeks': 0,\n",
       "  u'playtime_forever': 0},\n",
       " {u'appid': 99700,\n",
       "  u'name': u'NightSky',\n",
       "  u'playtime_2weeks': 0,\n",
       "  u'playtime_forever': 105},\n",
       " {u'appid': 620,\n",
       "  u'name': u'Portal 2',\n",
       "  u'playtime_2weeks': 0,\n",
       "  u'playtime_forever': 318},\n",
       " {u'appid': 105600,\n",
       "  u'name': u'Terraria',\n",
       "  u'playtime_2weeks': 0,\n",
       "  u'playtime_forever': 645},\n",
       " {u'appid': 20920,\n",
       "  u'name': u'The Witcher 2: Assassins of Kings Enhanced Edition',\n",
       "  u'playtime_2weeks': 0,\n",
       "  u'playtime_forever': 31},\n",
       " {u'appid': 43110,\n",
       "  u'name': u'Metro 2033',\n",
       "  u'playtime_2weeks': 0,\n",
       "  u'playtime_forever': 48},\n",
       " {u'appid': 72850,\n",
       "  u'name': u'The Elder Scrolls V: Skyrim',\n",
       "  u'playtime_2weeks': 0,\n",
       "  u'playtime_forever': 1890},\n",
       " {u'appid': 42910,\n",
       "  u'name': u'Magicka',\n",
       "  u'playtime_2weeks': 0,\n",
       "  u'playtime_forever': 81},\n",
       " {u'appid': 261570,\n",
       "  u'name': u'Ori and the Blind Forest',\n",
       "  u'playtime_2weeks': 0,\n",
       "  u'playtime_forever': 42},\n",
       " {u'appid': 268850,\n",
       "  u'name': u'EVGA PrecisionX 16',\n",
       "  u'playtime_2weeks': 0,\n",
       "  u'playtime_forever': 3590},\n",
       " {u'appid': 290930,\n",
       "  u'name': u'Half-Life 2: Update',\n",
       "  u'playtime_2weeks': 0,\n",
       "  u'playtime_forever': 117},\n",
       " {u'appid': 238460,\n",
       "  u'name': u'BattleBlock Theater',\n",
       "  u'playtime_2weeks': 0,\n",
       "  u'playtime_forever': 226},\n",
       " {u'appid': 304930,\n",
       "  u'name': u'Unturned',\n",
       "  u'playtime_2weeks': 0,\n",
       "  u'playtime_forever': 1},\n",
       " {u'appid': 63380,\n",
       "  u'name': u'Sniper Elite V2',\n",
       "  u'playtime_2weeks': 0,\n",
       "  u'playtime_forever': 0},\n",
       " {u'appid': 365720,\n",
       "  u'name': u'Skyrim Script Extender (SKSE)',\n",
       "  u'playtime_2weeks': 0,\n",
       "  u'playtime_forever': 0},\n",
       " {u'appid': 295790,\n",
       "  u'name': u'Never Alone (Kisima Ingitchuna)',\n",
       "  u'playtime_2weeks': 0,\n",
       "  u'playtime_forever': 74},\n",
       " {u'appid': 244930,\n",
       "  u'name': u'SNOW',\n",
       "  u'playtime_2weeks': 3,\n",
       "  u'playtime_forever': 63},\n",
       " {u'appid': 211,\n",
       "  u'name': u'Source SDK',\n",
       "  u'playtime_2weeks': 0,\n",
       "  u'playtime_forever': 9},\n",
       " {u'appid': 440,\n",
       "  u'name': u'Team Fortress 2',\n",
       "  u'playtime_2weeks': 0,\n",
       "  u'playtime_forever': 505}]"
      ]
     },
     "execution_count": 131,
     "metadata": {},
     "output_type": "execute_result"
    }
   ],
   "source": [
    "begin.user_id(my_id)\n",
    "begin.get_game_info()"
   ]
  },
  {
   "cell_type": "code",
   "execution_count": 46,
   "metadata": {
    "collapsed": false
   },
   "outputs": [],
   "source": [
    "user_info = SteamStuff()\n",
    "#my_id = os.environ[\"MY_STEAM\"]"
   ]
  },
  {
   "cell_type": "code",
   "execution_count": 48,
   "metadata": {
    "collapsed": true
   },
   "outputs": [],
   "source": [
    "user_info.mongodb_connection()"
   ]
  },
  {
   "cell_type": "code",
   "execution_count": 47,
   "metadata": {
    "collapsed": false
   },
   "outputs": [],
   "source": [
    "user_info.user_id(os.environ[\"MY_STEAM\"])"
   ]
  },
  {
   "cell_type": "code",
   "execution_count": 49,
   "metadata": {
    "collapsed": true
   },
   "outputs": [],
   "source": [
    "user_info.build_dict()"
   ]
  },
  {
   "cell_type": "code",
   "execution_count": 50,
   "metadata": {
    "collapsed": false
   },
   "outputs": [],
   "source": [
    "user_info.insert_document()"
   ]
  },
  {
   "cell_type": "code",
   "execution_count": 32,
   "metadata": {
    "collapsed": false
   },
   "outputs": [
    {
     "data": {
      "text/plain": [
       "{'_id': ObjectId('570e649163210f01baa27d38'),\n",
       " 'ban_status': {u'CommunityBanned': False,\n",
       "  u'DaysSinceLastBan': 0,\n",
       "  u'EconomyBan': u'none',\n",
       "  u'NumberOfGameBans': 0,\n",
       "  u'NumberOfVACBans': 0,\n",
       "  u'VACBanned': False},\n",
       " 'friends': [{u'friend_since': 0, u'steamid': u'76561197960559382'},\n",
       "  {u'friend_since': 0, u'steamid': u'76561197965632101'},\n",
       "  {u'friend_since': 1439867952, u'steamid': u'76561197982823731'},\n",
       "  {u'friend_since': 1404070051, u'steamid': u'76561197999882487'},\n",
       "  {u'friend_since': 1235243760, u'steamid': u'76561198001133491'},\n",
       "  {u'friend_since': 1323645317, u'steamid': u'76561198040942123'},\n",
       "  {u'friend_since': 1436489293, u'steamid': u'76561198086767969'}],\n",
       " 'game_info': [{u'appid': 10,\n",
       "   u'name': u'Counter-Strike',\n",
       "   u'playtime_2weeks': 0,\n",
       "   u'playtime_forever': 0},\n",
       "  {u'appid': 20,\n",
       "   u'name': u'Team Fortress Classic',\n",
       "   u'playtime_2weeks': 0,\n",
       "   u'playtime_forever': 0},\n",
       "  {u'appid': 30,\n",
       "   u'name': u'Day of Defeat',\n",
       "   u'playtime_2weeks': 0,\n",
       "   u'playtime_forever': 0},\n",
       "  {u'appid': 40,\n",
       "   u'name': u'Deathmatch Classic',\n",
       "   u'playtime_2weeks': 0,\n",
       "   u'playtime_forever': 0},\n",
       "  {u'appid': 50,\n",
       "   u'name': u'Half-Life: Opposing Force',\n",
       "   u'playtime_2weeks': 0,\n",
       "   u'playtime_forever': 248},\n",
       "  {u'appid': 60,\n",
       "   u'name': u'Ricochet',\n",
       "   u'playtime_2weeks': 0,\n",
       "   u'playtime_forever': 0},\n",
       "  {u'appid': 70,\n",
       "   u'name': u'Half-Life',\n",
       "   u'playtime_2weeks': 0,\n",
       "   u'playtime_forever': 2},\n",
       "  {u'appid': 130,\n",
       "   u'name': u'Half-Life: Blue Shift',\n",
       "   u'playtime_2weeks': 0,\n",
       "   u'playtime_forever': 0},\n",
       "  {u'appid': 80,\n",
       "   u'name': u'Counter-Strike: Condition Zero',\n",
       "   u'playtime_2weeks': 0,\n",
       "   u'playtime_forever': 0},\n",
       "  {u'appid': 100,\n",
       "   u'name': u'Counter-Strike: Condition Zero Deleted Scenes',\n",
       "   u'playtime_2weeks': 0,\n",
       "   u'playtime_forever': 0},\n",
       "  {u'appid': 220,\n",
       "   u'name': u'Half-Life 2',\n",
       "   u'playtime_2weeks': 0,\n",
       "   u'playtime_forever': 367},\n",
       "  {u'appid': 240,\n",
       "   u'name': u'Counter-Strike: Source',\n",
       "   u'playtime_2weeks': 0,\n",
       "   u'playtime_forever': 711},\n",
       "  {u'appid': 280,\n",
       "   u'name': u'Half-Life: Source',\n",
       "   u'playtime_2weeks': 0,\n",
       "   u'playtime_forever': 23},\n",
       "  {u'appid': 300,\n",
       "   u'name': u'Day of Defeat: Source',\n",
       "   u'playtime_2weeks': 0,\n",
       "   u'playtime_forever': 0},\n",
       "  {u'appid': 320,\n",
       "   u'name': u'Half-Life 2: Deathmatch',\n",
       "   u'playtime_2weeks': 0,\n",
       "   u'playtime_forever': 0},\n",
       "  {u'appid': 340,\n",
       "   u'name': u'Half-Life 2: Lost Coast',\n",
       "   u'playtime_2weeks': 0,\n",
       "   u'playtime_forever': 0},\n",
       "  {u'appid': 360,\n",
       "   u'name': u'Half-Life Deathmatch: Source',\n",
       "   u'playtime_2weeks': 0,\n",
       "   u'playtime_forever': 0},\n",
       "  {u'appid': 1200,\n",
       "   u'name': u'Red Orchestra: Ostfront 41-45',\n",
       "   u'playtime_2weeks': 0,\n",
       "   u'playtime_forever': 0},\n",
       "  {u'appid': 1230,\n",
       "   u'name': u'Mare Nostrum',\n",
       "   u'playtime_2weeks': 0,\n",
       "   u'playtime_forever': 0},\n",
       "  {u'appid': 1280,\n",
       "   u'name': u\"Darkest Hour: Europe '44-'45\",\n",
       "   u'playtime_2weeks': 0,\n",
       "   u'playtime_forever': 0},\n",
       "  {u'appid': 1300,\n",
       "   u'name': u'SiN Episodes: Emergence',\n",
       "   u'playtime_2weeks': 0,\n",
       "   u'playtime_forever': 0},\n",
       "  {u'appid': 1309,\n",
       "   u'name': u'SiN Multiplayer',\n",
       "   u'playtime_2weeks': 0,\n",
       "   u'playtime_forever': 0},\n",
       "  {u'appid': 1313,\n",
       "   u'name': u'SiN',\n",
       "   u'playtime_2weeks': 0,\n",
       "   u'playtime_forever': 0},\n",
       "  {u'appid': 380,\n",
       "   u'name': u'Half-Life 2: Episode One',\n",
       "   u'playtime_2weeks': 0,\n",
       "   u'playtime_forever': 22},\n",
       "  {u'appid': 2100,\n",
       "   u'name': u'Dark Messiah of Might & Magic Single Player',\n",
       "   u'playtime_2weeks': 0,\n",
       "   u'playtime_forever': 2},\n",
       "  {u'appid': 2130,\n",
       "   u'name': u'Dark Messiah of Might & Magic Multi-Player',\n",
       "   u'playtime_2weeks': 0,\n",
       "   u'playtime_forever': 0},\n",
       "  {u'appid': 4000,\n",
       "   u'name': u\"Garry's Mod\",\n",
       "   u'playtime_2weeks': 0,\n",
       "   u'playtime_forever': 1139},\n",
       "  {u'appid': 400,\n",
       "   u'name': u'Portal',\n",
       "   u'playtime_2weeks': 0,\n",
       "   u'playtime_forever': 35},\n",
       "  {u'appid': 420,\n",
       "   u'name': u'Half-Life 2: Episode Two',\n",
       "   u'playtime_2weeks': 0,\n",
       "   u'playtime_forever': 3},\n",
       "  {u'appid': 12900,\n",
       "   u'name': u'Audiosurf',\n",
       "   u'playtime_2weeks': 0,\n",
       "   u'playtime_forever': 6},\n",
       "  {u'appid': 17300,\n",
       "   u'name': u'Crysis',\n",
       "   u'playtime_2weeks': 0,\n",
       "   u'playtime_forever': 187},\n",
       "  {u'appid': 20900,\n",
       "   u'name': u'The Witcher: Enhanced Edition',\n",
       "   u'playtime_2weeks': 0,\n",
       "   u'playtime_forever': 2310},\n",
       "  {u'appid': 500,\n",
       "   u'name': u'Left 4 Dead',\n",
       "   u'playtime_2weeks': 0,\n",
       "   u'playtime_forever': 286},\n",
       "  {u'appid': 22300,\n",
       "   u'name': u'Fallout 3',\n",
       "   u'playtime_2weeks': 0,\n",
       "   u'playtime_forever': 66},\n",
       "  {u'appid': 22200,\n",
       "   u'name': u'Zeno Clash',\n",
       "   u'playtime_2weeks': 0,\n",
       "   u'playtime_forever': 0},\n",
       "  {u'appid': 10180,\n",
       "   u'name': u'Call of Duty: Modern Warfare 2',\n",
       "   u'playtime_2weeks': 0,\n",
       "   u'playtime_forever': 0},\n",
       "  {u'appid': 10190,\n",
       "   u'name': u'Call of Duty: Modern Warfare 2 - Multiplayer',\n",
       "   u'playtime_2weeks': 0,\n",
       "   u'playtime_forever': 343},\n",
       "  {u'appid': 550,\n",
       "   u'name': u'Left 4 Dead 2',\n",
       "   u'playtime_2weeks': 0,\n",
       "   u'playtime_forever': 130},\n",
       "  {u'appid': 223530,\n",
       "   u'name': u'Left 4 Dead 2 Beta',\n",
       "   u'playtime_2weeks': 0,\n",
       "   u'playtime_forever': 0},\n",
       "  {u'appid': 48900,\n",
       "   u'name': u'Saira',\n",
       "   u'playtime_2weeks': 0,\n",
       "   u'playtime_forever': 390},\n",
       "  {u'appid': 47810,\n",
       "   u'name': u'Dragon Age: Origins - Ultimate Edition',\n",
       "   u'playtime_2weeks': 0,\n",
       "   u'playtime_forever': 0},\n",
       "  {u'appid': 99700,\n",
       "   u'name': u'NightSky',\n",
       "   u'playtime_2weeks': 0,\n",
       "   u'playtime_forever': 105},\n",
       "  {u'appid': 620,\n",
       "   u'name': u'Portal 2',\n",
       "   u'playtime_2weeks': 0,\n",
       "   u'playtime_forever': 318},\n",
       "  {u'appid': 105600,\n",
       "   u'name': u'Terraria',\n",
       "   u'playtime_2weeks': 0,\n",
       "   u'playtime_forever': 645},\n",
       "  {u'appid': 20920,\n",
       "   u'name': u'The Witcher 2: Assassins of Kings Enhanced Edition',\n",
       "   u'playtime_2weeks': 0,\n",
       "   u'playtime_forever': 31},\n",
       "  {u'appid': 43110,\n",
       "   u'name': u'Metro 2033',\n",
       "   u'playtime_2weeks': 0,\n",
       "   u'playtime_forever': 48},\n",
       "  {u'appid': 72850,\n",
       "   u'name': u'The Elder Scrolls V: Skyrim',\n",
       "   u'playtime_2weeks': 0,\n",
       "   u'playtime_forever': 1890},\n",
       "  {u'appid': 42910,\n",
       "   u'name': u'Magicka',\n",
       "   u'playtime_2weeks': 0,\n",
       "   u'playtime_forever': 81},\n",
       "  {u'appid': 261570,\n",
       "   u'name': u'Ori and the Blind Forest',\n",
       "   u'playtime_2weeks': 0,\n",
       "   u'playtime_forever': 42},\n",
       "  {u'appid': 268850,\n",
       "   u'name': u'EVGA PrecisionX 16',\n",
       "   u'playtime_2weeks': 0,\n",
       "   u'playtime_forever': 3590},\n",
       "  {u'appid': 290930,\n",
       "   u'name': u'Half-Life 2: Update',\n",
       "   u'playtime_2weeks': 0,\n",
       "   u'playtime_forever': 117},\n",
       "  {u'appid': 238460,\n",
       "   u'name': u'BattleBlock Theater',\n",
       "   u'playtime_2weeks': 0,\n",
       "   u'playtime_forever': 226},\n",
       "  {u'appid': 304930,\n",
       "   u'name': u'Unturned',\n",
       "   u'playtime_2weeks': 0,\n",
       "   u'playtime_forever': 1},\n",
       "  {u'appid': 63380,\n",
       "   u'name': u'Sniper Elite V2',\n",
       "   u'playtime_2weeks': 0,\n",
       "   u'playtime_forever': 0},\n",
       "  {u'appid': 365720,\n",
       "   u'name': u'Skyrim Script Extender (SKSE)',\n",
       "   u'playtime_2weeks': 0,\n",
       "   u'playtime_forever': 0},\n",
       "  {u'appid': 295790,\n",
       "   u'name': u'Never Alone (Kisima Ingitchuna)',\n",
       "   u'playtime_2weeks': 0,\n",
       "   u'playtime_forever': 74},\n",
       "  {u'appid': 244930,\n",
       "   u'name': u'SNOW',\n",
       "   u'playtime_2weeks': 3,\n",
       "   u'playtime_forever': 63},\n",
       "  {u'appid': 211,\n",
       "   u'name': u'Source SDK',\n",
       "   u'playtime_2weeks': 0,\n",
       "   u'playtime_forever': 9},\n",
       "  {u'appid': 440,\n",
       "   u'name': u'Team Fortress 2',\n",
       "   u'playtime_2weeks': 0,\n",
       "   u'playtime_forever': 505}],\n",
       " 'profile_summary': u'I chase chickens',\n",
       " 'steamid': '76561197967398882',\n",
       " 'user_info': {u'avatarfull': u'https://steamcdn-a.akamaihd.net/steamcommunity/public/images/avatars/3b/3b295d3493a5505e438851fefb55995776ad0f0b_full.jpg',\n",
       "  u'communityvisibilitystate': 3,\n",
       "  u'lastlogoff': 1460189153,\n",
       "  u'loccountrycode': u'VA',\n",
       "  u'personaname': u'Deck Gumby',\n",
       "  u'personastate': 0,\n",
       "  u'primaryclanid': u'103582791432291036',\n",
       "  u'profilestate': 1,\n",
       "  u'realname': u'Ken Tucky',\n",
       "  u'timecreated': 1089486992}}"
      ]
     },
     "execution_count": 32,
     "metadata": {},
     "output_type": "execute_result"
    }
   ],
   "source": [
    "user_info.player_dict"
   ]
  },
  {
   "cell_type": "code",
   "execution_count": 648,
   "metadata": {
    "collapsed": false
   },
   "outputs": [],
   "source": [
    "user_info.build_dict()"
   ]
  },
  {
   "cell_type": "code",
   "execution_count": 637,
   "metadata": {
    "collapsed": false
   },
   "outputs": [],
   "source": [
    "user_info.build_dict()"
   ]
  },
  {
   "cell_type": "markdown",
   "metadata": {
    "collapsed": false
   },
   "source": [
    "```python\n",
    "user_stuff = list()\n",
    "get_stuff = SteamStuff()\n",
    "for user in list10:\n",
    "    print user\n",
    "    get_stuff.user_id(user)\n",
    "    get_stuff.build_dict()\n",
    "    user_stuff.append(get_stuff.player_dict)\n",
    "    # Failed due to PRIVATE user\n",
    "```"
   ]
  },
  {
   "cell_type": "code",
   "execution_count": null,
   "metadata": {
    "collapsed": true
   },
   "outputs": [],
   "source": [
    "user_stuff"
   ]
  },
  {
   "cell_type": "code",
   "execution_count": null,
   "metadata": {
    "collapsed": true
   },
   "outputs": [],
   "source": []
  },
  {
   "cell_type": "code",
   "execution_count": null,
   "metadata": {
    "collapsed": true
   },
   "outputs": [],
   "source": []
  },
  {
   "cell_type": "code",
   "execution_count": null,
   "metadata": {
    "collapsed": true
   },
   "outputs": [],
   "source": []
  },
  {
   "cell_type": "code",
   "execution_count": null,
   "metadata": {
    "collapsed": true
   },
   "outputs": [],
   "source": []
  },
  {
   "cell_type": "code",
   "execution_count": null,
   "metadata": {
    "collapsed": true
   },
   "outputs": [],
   "source": []
  },
  {
   "cell_type": "code",
   "execution_count": null,
   "metadata": {
    "collapsed": true
   },
   "outputs": [],
   "source": []
  },
  {
   "cell_type": "code",
   "execution_count": null,
   "metadata": {
    "collapsed": true
   },
   "outputs": [],
   "source": []
  },
  {
   "cell_type": "code",
   "execution_count": 167,
   "metadata": {
    "collapsed": false
   },
   "outputs": [],
   "source": [
    "my_games = user_info.get_game_info(os.environ[\"STEAM_ID\"])"
   ]
  },
  {
   "cell_type": "code",
   "execution_count": null,
   "metadata": {
    "collapsed": true
   },
   "outputs": [],
   "source": [
    "game_traits = (\"appid\", \"name\", \"playtime_forever\", \"playtime_2weeks\")"
   ]
  },
  {
   "cell_type": "markdown",
   "metadata": {},
   "source": [
    "### Looking at indexing with lists versus sets in the `get_bans` function"
   ]
  },
  {
   "cell_type": "code",
   "execution_count": 156,
   "metadata": {
    "collapsed": false
   },
   "outputs": [
    {
     "name": "stdout",
     "output_type": "stream",
     "text": [
      "0.152573342323\n"
     ]
    }
   ],
   "source": [
    "t_time_list = []\n",
    "for t in xrange(100):\n",
    "    t0 = time.time()\n",
    "    bans = user_info.get_bans(os.environ[\"STEAM_ID\"])\n",
    "    t_time_list.append(time.time() - t0)\n",
    "print sum(t_time_list) / float(len(t_time))"
   ]
  },
  {
   "cell_type": "code",
   "execution_count": 152,
   "metadata": {
    "collapsed": false
   },
   "outputs": [
    {
     "name": "stdout",
     "output_type": "stream",
     "text": [
      "0.152361869812\n"
     ]
    }
   ],
   "source": [
    "t_time_set = []\n",
    "for t in xrange(100):\n",
    "    t0 = time.time()\n",
    "    bans = user_info.get_bans(os.environ[\"STEAM_ID\"])\n",
    "    t_time_set.append(time.time() - t0)\n",
    "print sum(t_time_set) / float(len(t_time))"
   ]
  },
  {
   "cell_type": "code",
   "execution_count": 163,
   "metadata": {
    "collapsed": false
   },
   "outputs": [
    {
     "data": {
      "image/png": "[encoded data removed]",
      "text/plain": [
       "<matplotlib.figure.Figure at 0x1157abc90>"
      ]
     },
     "metadata": {},
     "output_type": "display_data"
    }
   ],
   "source": [
    "plt.figure(figsize=(9,7))\n",
    "plt.hist(t_time_list, bins=20, alpha=0.5, label=\"List average time: {}s\".format(sum(t_time_list) / float(len(t_time_list))))\n",
    "plt.hist(t_time_set, bins=20, alpha=0.5, label=\"Set average time: {}s\".format(sum(t_time_set) / float(len(t_time_set))))\n",
    "plt.legend()\n",
    "plt.xlabel(\"Computation time [seconds]\", fontsize=15)\n",
    "plt.ylabel(\"Frequency\", fontsize=15)\n",
    "plt.title(\"Comparing List Versus Set Referencing\", fontsize=20)\n",
    "plt.show()"
   ]
  },
  {
   "cell_type": "code",
   "execution_count": null,
   "metadata": {
    "collapsed": true
   },
   "outputs": [],
   "source": []
  },
  {
   "cell_type": "code",
   "execution_count": null,
   "metadata": {
    "collapsed": true
   },
   "outputs": [],
   "source": []
  },
  {
   "cell_type": "code",
   "execution_count": 111,
   "metadata": {
    "collapsed": false
   },
   "outputs": [
    {
     "data": {
      "text/plain": [
       "{u'CommunityBanned': False,\n",
       " u'DaysSinceLastBan': 0,\n",
       " u'EconomyBan': u'none',\n",
       " u'NumberOfGameBans': 0,\n",
       " u'NumberOfVACBans': 0,\n",
       " u'SteamId': u'76561197967398882',\n",
       " u'VACBanned': False}"
      ]
     },
     "execution_count": 111,
     "metadata": {},
     "output_type": "execute_result"
    }
   ],
   "source": [
    "my_ban = user_info.get_bans(my_id)[0]\n",
    "my_ban"
   ]
  },
  {
   "cell_type": "code",
   "execution_count": 123,
   "metadata": {
    "collapsed": false
   },
   "outputs": [
    {
     "data": {
      "text/plain": [
       "[u'SteamId',\n",
       " u'NumberOfGameBans',\n",
       " u'NumberOfVACBans',\n",
       " u'DaysSinceLastBan',\n",
       " u'EconomyBan',\n",
       " u'VACBanned',\n",
       " u'CommunityBanned']"
      ]
     },
     "execution_count": 123,
     "metadata": {},
     "output_type": "execute_result"
    }
   ],
   "source": [
    "my_ban.keys()"
   ]
  },
  {
   "cell_type": "code",
   "execution_count": 124,
   "metadata": {
    "collapsed": false
   },
   "outputs": [
    {
     "data": {
      "text/plain": [
       "{u'CommunityBanned': False,\n",
       " u'DaysSinceLastBan': 0,\n",
       " u'EconomyBan': u'none',\n",
       " u'NumberOfGameBans': 0,\n",
       " u'NumberOfVACBans': 0,\n",
       " u'VACBanned': False}"
      ]
     },
     "execution_count": 124,
     "metadata": {},
     "output_type": "execute_result"
    }
   ],
   "source": [
    "{k: my_ban[k] for k in my_ban.keys() if k != \"SteamId\"}"
   ]
  },
  {
   "cell_type": "code",
   "execution_count": null,
   "metadata": {
    "collapsed": true
   },
   "outputs": [],
   "source": []
  },
  {
   "cell_type": "code",
   "execution_count": null,
   "metadata": {
    "collapsed": true
   },
   "outputs": [],
   "source": []
  },
  {
   "cell_type": "code",
   "execution_count": null,
   "metadata": {
    "collapsed": true
   },
   "outputs": [],
   "source": []
  },
  {
   "cell_type": "code",
   "execution_count": null,
   "metadata": {
    "collapsed": true
   },
   "outputs": [],
   "source": []
  },
  {
   "cell_type": "code",
   "execution_count": 62,
   "metadata": {
    "collapsed": false
   },
   "outputs": [
    {
     "data": {
      "text/plain": [
       "[{'friend_since': 0, 'steamid': u'76561197960559382'},\n",
       " {'friend_since': 0, 'steamid': u'76561197965632101'},\n",
       " {'friend_since': 1439867952, 'steamid': u'76561197982823731'},\n",
       " {'friend_since': 1404070051, 'steamid': u'76561197999882487'},\n",
       " {'friend_since': 1235243760, 'steamid': u'76561198001133491'},\n",
       " {'friend_since': 1323645317, 'steamid': u'76561198040942123'},\n",
       " {'friend_since': 1436489293, 'steamid': u'76561198086767969'}]"
      ]
     },
     "execution_count": 62,
     "metadata": {},
     "output_type": "execute_result"
    }
   ],
   "source": [
    "my_friends"
   ]
  },
  {
   "cell_type": "code",
   "execution_count": null,
   "metadata": {
    "collapsed": true
   },
   "outputs": [],
   "source": []
  },
  {
   "cell_type": "code",
   "execution_count": null,
   "metadata": {
    "collapsed": true
   },
   "outputs": [],
   "source": []
  },
  {
   "cell_type": "code",
   "execution_count": 95,
   "metadata": {
    "collapsed": false
   },
   "outputs": [],
   "source": [
    "user_info.build_dict(\"76561197960559382\")"
   ]
  },
  {
   "cell_type": "code",
   "execution_count": null,
   "metadata": {
    "collapsed": true
   },
   "outputs": [],
   "source": []
  },
  {
   "cell_type": "code",
   "execution_count": null,
   "metadata": {
    "collapsed": true
   },
   "outputs": [],
   "source": []
  },
  {
   "cell_type": "code",
   "execution_count": null,
   "metadata": {
    "collapsed": true
   },
   "outputs": [],
   "source": []
  },
  {
   "cell_type": "code",
   "execution_count": null,
   "metadata": {
    "collapsed": true
   },
   "outputs": [],
   "source": []
  },
  {
   "cell_type": "code",
   "execution_count": 32,
   "metadata": {
    "collapsed": false
   },
   "outputs": [
    {
     "data": {
      "text/plain": [
       "1063508781"
      ]
     },
     "execution_count": 32,
     "metadata": {},
     "output_type": "execute_result"
    }
   ],
   "source": [
    "user_things = (\"avatarmedium\", \"communityvisibilitystate\", \"lastlogoff\", \"loccountrycode\", \"locstatecode\", )"
   ]
  },
  {
   "cell_type": "code",
   "execution_count": 33,
   "metadata": {
    "collapsed": true
   },
   "outputs": [],
   "source": [
    "me = user_info.get_user_info(my_id)[\"timecreated\"]"
   ]
  },
  {
   "cell_type": "code",
   "execution_count": null,
   "metadata": {
    "collapsed": true
   },
   "outputs": [],
   "source": []
  },
  {
   "cell_type": "code",
   "execution_count": 242,
   "metadata": {
    "collapsed": false
   },
   "outputs": [],
   "source": [
    "minuser = user_info.get_user_info(\"76561198055995417\")"
   ]
  },
  {
   "cell_type": "code",
   "execution_count": 271,
   "metadata": {
    "collapsed": false
   },
   "outputs": [],
   "source": [
    "mytime = user_info.get_game_info(\"76561198080951917\")"
   ]
  },
  {
   "cell_type": "code",
   "execution_count": 272,
   "metadata": {
    "collapsed": false
   },
   "outputs": [],
   "source": [
    "timesum = 0\n",
    "for game in mytime:\n",
    "    timesum += game[\"playtime_forever\"]"
   ]
  },
  {
   "cell_type": "code",
   "execution_count": 260,
   "metadata": {
    "collapsed": true
   },
   "outputs": [],
   "source": [
    "me = user_info.get_user_info(my_id)"
   ]
  },
  {
   "cell_type": "code",
   "execution_count": 277,
   "metadata": {
    "collapsed": false
   },
   "outputs": [
    {
     "data": {
      "text/plain": [
       "time.struct_time(tm_year=2013, tm_mon=11, tm_mday=22, tm_hour=22, tm_min=47, tm_sec=4, tm_wday=4, tm_yday=326, tm_isdst=0)"
      ]
     },
     "execution_count": 277,
     "metadata": {},
     "output_type": "execute_result"
    }
   ],
   "source": [
    "time.gmtime(1385160424)"
   ]
  },
  {
   "cell_type": "code",
   "execution_count": null,
   "metadata": {
    "collapsed": true
   },
   "outputs": [],
   "source": []
  },
  {
   "cell_type": "code",
   "execution_count": null,
   "metadata": {
    "collapsed": true
   },
   "outputs": [],
   "source": []
  },
  {
   "cell_type": "code",
   "execution_count": null,
   "metadata": {
    "collapsed": true
   },
   "outputs": [],
   "source": []
  },
  {
   "cell_type": "code",
   "execution_count": 266,
   "metadata": {
    "collapsed": false
   },
   "outputs": [
    {
     "data": {
      "text/plain": [
       "[u'steamid',\n",
       " u'primaryclanid',\n",
       " u'realname',\n",
       " u'personaname',\n",
       " u'personastate',\n",
       " u'personastateflags',\n",
       " u'communityvisibilitystate',\n",
       " u'loccountrycode',\n",
       " u'profilestate',\n",
       " u'profileurl',\n",
       " u'loccityid',\n",
       " u'timecreated',\n",
       " u'avatar',\n",
       " u'locstatecode',\n",
       " u'commentpermission',\n",
       " u'avatarfull',\n",
       " u'avatarmedium',\n",
       " u'lastlogoff']"
      ]
     },
     "execution_count": 266,
     "metadata": {},
     "output_type": "execute_result"
    }
   ],
   "source": [
    "maxuser"
   ]
  },
  {
   "cell_type": "code",
   "execution_count": 268,
   "metadata": {
    "collapsed": false
   },
   "outputs": [
    {
     "data": {
      "text/plain": [
       "True"
      ]
     },
     "execution_count": 268,
     "metadata": {},
     "output_type": "execute_result"
    }
   ],
   "source": [
    "\"timecreated\" "
   ]
  },
  {
   "cell_type": "code",
   "execution_count": 270,
   "metadata": {
    "collapsed": false
   },
   "outputs": [
    {
     "data": {
      "text/plain": [
       "{u'avatar': u'https://steamcdn-a.akamaihd.net/steamcommunity/public/images/avatars/00/00a40297103baaf965c72cff9505517e82d1e6e6.jpg',\n",
       " u'avatarfull': u'https://steamcdn-a.akamaihd.net/steamcommunity/public/images/avatars/00/00a40297103baaf965c72cff9505517e82d1e6e6_full.jpg',\n",
       " u'avatarmedium': u'https://steamcdn-a.akamaihd.net/steamcommunity/public/images/avatars/00/00a40297103baaf965c72cff9505517e82d1e6e6_medium.jpg',\n",
       " u'communityvisibilitystate': 3,\n",
       " u'lastlogoff': 1460403784,\n",
       " u'personaname': u'Saqphire',\n",
       " u'personastate': 0,\n",
       " u'personastateflags': 0,\n",
       " u'primaryclanid': u'103582791435567598',\n",
       " u'profilestate': 1,\n",
       " u'profileurl': u'http://steamcommunity.com/id/stoppy250/',\n",
       " u'steamid': u'76561197982503327',\n",
       " u'timecreated': 1147247124}"
      ]
     },
     "execution_count": 270,
     "metadata": {},
     "output_type": "execute_result"
    }
   ],
   "source": [
    "user_info.get_user_info(\"76561197982503327\")"
   ]
  },
  {
   "cell_type": "code",
   "execution_count": null,
   "metadata": {
    "collapsed": true
   },
   "outputs": [],
   "source": []
  },
  {
   "cell_type": "code",
   "execution_count": null,
   "metadata": {
    "collapsed": true
   },
   "outputs": [],
   "source": []
  },
  {
   "cell_type": "code",
   "execution_count": 357,
   "metadata": {
    "collapsed": false
   },
   "outputs": [
    {
     "data": {
      "text/plain": [
       "u'Problem officer? I will ignore private profiles. Do NOT add me without a comment. H a l f L i f e 3 My SteamRep steamrep.com My Trade Link .......... ......... ........ ....... ...... ..... .... ... .. . A man saw a lady with big breasts. He asked, \"Excuse me, can I bite your breasts for $1000?\" She agrees, so they go to a secluded corner. She opens her blouse and the man puts his face in her breasts for 10 minutes.\" Eventually the lady asks, \"Aren\\'t you gonna bite them?\" He replies, \"No, it\\'s too expensive.\" c 3 hi stalker L'"
      ]
     },
     "execution_count": 357,
     "metadata": {},
     "output_type": "execute_result"
    }
   ],
   "source": [
    "user_info.scrape_profile(os.environ[\"STEAM_ID\"])"
   ]
  },
  {
   "cell_type": "code",
   "execution_count": null,
   "metadata": {
    "collapsed": true
   },
   "outputs": [],
   "source": []
  },
  {
   "cell_type": "code",
   "execution_count": 4,
   "metadata": {
    "collapsed": false
   },
   "outputs": [],
   "source": [
    "my_id = \"76561197967398882\"\n",
    "csid = \"730\""
   ]
  },
  {
   "cell_type": "code",
   "execution_count": null,
   "metadata": {
    "collapsed": true
   },
   "outputs": [],
   "source": []
  },
  {
   "cell_type": "code",
   "execution_count": 355,
   "metadata": {
    "collapsed": false
   },
   "outputs": [
    {
     "data": {
      "text/plain": [
       "''"
      ]
     },
     "execution_count": 355,
     "metadata": {},
     "output_type": "execute_result"
    }
   ],
   "source": [
    "user_info.scrape_profile(\"76561198061166639\")"
   ]
  },
  {
   "cell_type": "markdown",
   "metadata": {},
   "source": [
    "## Game Schema; not sure if worth looking into"
   ]
  },
  {
   "cell_type": "code",
   "execution_count": 166,
   "metadata": {
    "collapsed": false
   },
   "outputs": [],
   "source": [
    "url = \"http://api.steampowered.com/ISteamUserStats/GetSchemaForGame/v2/?key=\"+os.environ[\"ACCESS_STEAM\"]+\"&appid=730\""
   ]
  },
  {
   "cell_type": "code",
   "execution_count": 176,
   "metadata": {
    "collapsed": false
   },
   "outputs": [],
   "source": [
    "gamestuff = json.loads(urllib2.urlopen(url).read())"
   ]
  },
  {
   "cell_type": "code",
   "execution_count": 180,
   "metadata": {
    "collapsed": false
   },
   "outputs": [
    {
     "data": {
      "text/plain": [
       "[u'gameVersion', u'availableGameStats', u'gameName']"
      ]
     },
     "execution_count": 180,
     "metadata": {},
     "output_type": "execute_result"
    }
   ],
   "source": [
    "gamestuff[\"game\"].keys()"
   ]
  },
  {
   "cell_type": "markdown",
   "metadata": {
    "collapsed": true
   },
   "source": [
    "# Get an ID Set"
   ]
  },
  {
   "cell_type": "code",
   "execution_count": 1,
   "metadata": {
    "collapsed": false
   },
   "outputs": [],
   "source": [
    "class GenerateSteamIds(object):\n",
    "    \"\"\"\n",
    "    Get IDS starting from a single friend or set/list of friends\n",
    "    \"\"\"\n",
    "    def __init__(self):\n",
    "        self.key = os.environ[\"ACCESS_STEAM\"]\n",
    "        self.uid = None\n",
    "        #if type(ids) == str:\n",
    "        #    self.friends = set([ids])\n",
    "        #else:\n",
    "        #    self.friends = ids\n",
    "        self.public = set()\n",
    "        self.private = set()\n",
    "        #self.ids = ids\n",
    "    \n",
    "    def generate_steam_ids(self):\n",
    "        \"\"\"\n",
    "        INPUTS:\n",
    "          ids - single 17-digit Steam ID or list or set of ID strings\n",
    "        OUTPUTS:\n",
    "          set - set of PUBLIC 17-digt Steam IDs, at least as many as min_friends\n",
    "        Generate a bunch of Steam IDs from their friends\n",
    "        \"\"\"\n",
    "        t0 = time.time()\n",
    "        #key = os.environ[\"ACCESS_STEAM\"]\n",
    "        friend_set = set()\n",
    "        #private_users = set()\n",
    "        #if type(ids) == str:\n",
    "            #ids = set([ids])# just make sure it's a set if a single ID string is passed in\n",
    "        \n",
    "        for uid in self.public:\n",
    "            url = 'http://api.steampowered.com/ISteamUser/GetFriendList/v0001/?key='+self.key+'&steamid='+uid+'&relationship=all'\n",
    "            response = requests.get(url)\n",
    "            if str(response.status_code).startswith(\"2\"):\n",
    "                friends = requests.get(url).json()[\"friendslist\"][\"friends\"]\n",
    "                for friend in friends:\n",
    "                    friend_set.add(friend[\"steamid\"])\n",
    "            else:\n",
    "                #url = 'http://api.steampowered.com/ISteamUser/GetFriendList/v0001/?key='+self.key+'&steamid='+id+'&relationship=all'\n",
    "                #friends = json.loads(urllib2.urlopen(url).read())[\"friendslist\"][\"friends\"]\n",
    "                #for friend in friends:\n",
    "                #    friend_set.add(friend[\"steamid\"])\n",
    "                self.private.add(uid)\n",
    "        print \"Friend group size: {0}, in {1} seconds\".format(len(friend_set), time.time()-t0)\n",
    "        #print \"hello\"\n",
    "        return friend_set\n",
    "    \n",
    "    \n",
    "    def generate_minimum_ids(self, uid, num_iters=2):\n",
    "        \"\"\"\n",
    "        INPUTS:\n",
    "          self - .friends: build a list of user ids\n",
    "               - .generate_steam_ids(): call function num_iters of times,\n",
    "                 building public and private ID sets\n",
    "        OUTPUTS:\n",
    "          self - .friends: set of PUBLIC user IDs\n",
    "               - .private: set of PRIVATE user IDs\n",
    "        Hop through a user (num_iter=0), then their friends (num_iters=1), and so on.\n",
    "        WARNINGS: with my own ID, the set goes 1 -> 7 -> 1562 -> 60797 unique IDs\n",
    "                  num_iters=1 will NOT catch private users!\n",
    "        \"\"\"\n",
    "        self.public = [uid]\n",
    "        for _ in xrange(num_iters):\n",
    "            self.public = self.generate_steam_ids()\n",
    "        return self.public, self.private"
   ]
  },
  {
   "cell_type": "code",
   "execution_count": 4,
   "metadata": {
    "collapsed": false
   },
   "outputs": [],
   "source": [
    "my_id = os.environ[\"MY_STEAM\"]"
   ]
  },
  {
   "cell_type": "code",
   "execution_count": 5,
   "metadata": {
    "collapsed": false
   },
   "outputs": [],
   "source": [
    "friend_list = GenerateSteamIds()"
   ]
  },
  {
   "cell_type": "code",
   "execution_count": 6,
   "metadata": {
    "collapsed": false
   },
   "outputs": [
    {
     "name": "stdout",
     "output_type": "stream",
     "text": [
      "Friend group size: 7, in 1.00813889503 seconds\n",
      "Friend group size: 76, in 8.0868999958 seconds\n"
     ]
    },
    {
     "data": {
      "text/plain": [
       "({u'76561197960414216',\n",
       "  u'76561197960559382',\n",
       "  u'76561197960683957',\n",
       "  u'76561197960785451',\n",
       "  u'76561197961249867',\n",
       "  u'76561197962239913',\n",
       "  u'76561197962935145',\n",
       "  u'76561197963197529',\n",
       "  u'76561197964738445',\n",
       "  u'76561197965354025',\n",
       "  u'76561197965632101',\n",
       "  u'76561197965657570',\n",
       "  u'76561197967398882',\n",
       "  u'76561197968519508',\n",
       "  u'76561197969540747',\n",
       "  u'76561197970322760',\n",
       "  u'76561197972263138',\n",
       "  u'76561197974981757',\n",
       "  u'76561197976134580',\n",
       "  u'76561197980499694',\n",
       "  u'76561197980577280',\n",
       "  u'76561197981953516',\n",
       "  u'76561197982823731',\n",
       "  u'76561197983532440',\n",
       "  u'76561197984344221',\n",
       "  u'76561197984369949',\n",
       "  u'76561197985552996',\n",
       "  u'76561197987784615',\n",
       "  u'76561197989360743',\n",
       "  u'76561197992684905',\n",
       "  u'76561197992906884',\n",
       "  u'76561197993370564',\n",
       "  u'76561197995295208',\n",
       "  u'76561197996025006',\n",
       "  u'76561197998697448',\n",
       "  u'76561197999568364',\n",
       "  u'76561197999882487',\n",
       "  u'76561198000565925',\n",
       "  u'76561198001133491',\n",
       "  u'76561198001744164',\n",
       "  u'76561198005776488',\n",
       "  u'76561198008337180',\n",
       "  u'76561198011965138',\n",
       "  u'76561198012511661',\n",
       "  u'76561198012715654',\n",
       "  u'76561198019108597',\n",
       "  u'76561198023004830',\n",
       "  u'76561198031937610',\n",
       "  u'76561198033061449',\n",
       "  u'76561198035400405',\n",
       "  u'76561198038557138',\n",
       "  u'76561198040170738',\n",
       "  u'76561198040942123',\n",
       "  u'76561198043288673',\n",
       "  u'76561198043341565',\n",
       "  u'76561198043989757',\n",
       "  u'76561198044012154',\n",
       "  u'76561198046447891',\n",
       "  u'76561198051566617',\n",
       "  u'76561198065225523',\n",
       "  u'76561198067306298',\n",
       "  u'76561198067490530',\n",
       "  u'76561198068456702',\n",
       "  u'76561198086200645',\n",
       "  u'76561198086308894',\n",
       "  u'76561198086606361',\n",
       "  u'76561198086767969',\n",
       "  u'76561198089853824',\n",
       "  u'76561198094100568',\n",
       "  u'76561198094311760',\n",
       "  u'76561198098308228',\n",
       "  u'76561198107669438',\n",
       "  u'76561198115593892',\n",
       "  u'76561198151979372',\n",
       "  u'76561198152154395',\n",
       "  u'76561198158516892'},\n",
       " {u'76561197982823731'})"
      ]
     },
     "execution_count": 6,
     "metadata": {},
     "output_type": "execute_result"
    }
   ],
   "source": [
    "friend_list.generate_minimum_ids(my_id)"
   ]
  },
  {
   "cell_type": "code",
   "execution_count": 64,
   "metadata": {
    "collapsed": false
   },
   "outputs": [
    {
     "name": "stdout",
     "output_type": "stream",
     "text": [
      "Friend group size: 7, in 0.351522922516 seconds\n",
      "Friend group size: 76, in 3.07414197922 seconds\n",
      "Friend group size: 1562, in 30.2881140709 seconds\n",
      "Friend group size: 60797, in 714.899770975 seconds\n"
     ]
    }
   ],
   "source": [
    "#public, private = friend_list.generate_minimum_ids(num_iters=4)"
   ]
  },
  {
   "cell_type": "code",
   "execution_count": 65,
   "metadata": {
    "collapsed": false
   },
   "outputs": [],
   "source": [
    "#cPickle.dump(public, open('public.p', 'wb')) currently ~60k users\n",
    "#cPickle.dump(private, open('private.p', 'wb')) currently 214 users"
   ]
  },
  {
   "cell_type": "code",
   "execution_count": 172,
   "metadata": {
    "collapsed": false
   },
   "outputs": [
    {
     "name": "stdout",
     "output_type": "stream",
     "text": [
      "Friend group size: 7, in 0.353104114532 seconds\n",
      "Friend group size: 76, in 2.77219295502 seconds\n",
      "Friend group size: 1562, in 29.1683790684 seconds\n"
     ]
    }
   ],
   "source": [
    "friend_list = GenerateSteamIds(my_id)\n",
    "pub, priv = friend_list.generate_minimum_ids(3)"
   ]
  },
  {
   "cell_type": "code",
   "execution_count": 168,
   "metadata": {
    "collapsed": false
   },
   "outputs": [
    {
     "data": {
      "text/plain": [
       "False"
      ]
     },
     "execution_count": 168,
     "metadata": {},
     "output_type": "execute_result"
    }
   ],
   "source": [
    "cPickle.load(60782ids.p, \"\")"
   ]
  },
  {
   "cell_type": "code",
   "execution_count": 38,
   "metadata": {
    "collapsed": false
   },
   "outputs": [],
   "source": [
    "# my_profile\n",
    "#my_id = os.environ[\"MY_STEAM\"]\n",
    "#url = 'http://api.steampowered.com/ISteamUser/GetPlayerSummaries/v0002/?key='+os.environ[\"ACCESS_STEAM\"]+'&steamids='+my_id"
   ]
  },
  {
   "cell_type": "code",
   "execution_count": 39,
   "metadata": {
    "collapsed": false
   },
   "outputs": [
    {
     "data": {
      "text/plain": [
       "'http://api.steampowered.com/ISteamUser/GetPlayerSummaries/v0002/?key=9BD62BA0CD75599091D3C1257782D97D&steamids=76561197967398882'"
      ]
     },
     "execution_count": 39,
     "metadata": {},
     "output_type": "execute_result"
    }
   ],
   "source": [
    "url"
   ]
  },
  {
   "cell_type": "code",
   "execution_count": 43,
   "metadata": {
    "collapsed": false
   },
   "outputs": [],
   "source": [
    "response = requests.get(url)"
   ]
  },
  {
   "cell_type": "code",
   "execution_count": 68,
   "metadata": {
    "collapsed": false
   },
   "outputs": [
    {
     "data": {
      "text/plain": [
       "3"
      ]
     },
     "execution_count": 68,
     "metadata": {},
     "output_type": "execute_result"
    }
   ],
   "source": [
    "response.json()[\"response\"][\"players\"][0][\"communityvisibilitystate\"]"
   ]
  },
  {
   "cell_type": "code",
   "execution_count": null,
   "metadata": {
    "collapsed": true
   },
   "outputs": [],
   "source": [
    "(r'\"communityvisibilitystate\": ([0-9]+)')"
   ]
  },
  {
   "cell_type": "code",
   "execution_count": null,
   "metadata": {
    "collapsed": true
   },
   "outputs": [],
   "source": []
  },
  {
   "cell_type": "markdown",
   "metadata": {},
   "source": [
    "# PyMongo Testing!"
   ]
  },
  {
   "cell_type": "code",
   "execution_count": 3,
   "metadata": {
    "collapsed": true
   },
   "outputs": [],
   "source": [
    "from pymongo import MongoClient\n",
    "\n",
    "client = MongoClient()\n",
    "db = client.test\n",
    "result = db.restaurants.insert_one("
   ]
  },
  {
   "cell_type": "code",
   "execution_count": 4,
   "metadata": {
    "collapsed": false
   },
   "outputs": [],
   "source": [
    "from datetime import datetime\n",
    "result = db.restaurants.insert_one(\n",
    "    {\n",
    "        \"address\": {\n",
    "            \"street\": \"2 Avenue\",\n",
    "            \"zipcode\": \"10075\",\n",
    "            \"building\": \"1480\",\n",
    "            \"coord\": [-73.9557413, 40.7720266]\n",
    "        },\n",
    "        \"borough\": \"Manhattan\",\n",
    "        \"cuisine\": \"Italian\",\n",
    "        \"grades\": [\n",
    "            {\n",
    "                \"date\": datetime.strptime(\"2014-10-01\", \"%Y-%m-%d\"),\n",
    "                \"grade\": \"A\",\n",
    "                \"score\": 11\n",
    "            },\n",
    "            {\n",
    "                \"date\": datetime.strptime(\"2014-01-16\", \"%Y-%m-%d\"),\n",
    "                \"grade\": \"B\",\n",
    "                \"score\": 17\n",
    "            }\n",
    "        ],\n",
    "        \"name\": \"Vella\",\n",
    "        \"restaurant_id\": \"41704620\"\n",
    "    }\n",
    ")"
   ]
  },
  {
   "cell_type": "code",
   "execution_count": 6,
   "metadata": {
    "collapsed": true
   },
   "outputs": [],
   "source": [
    "test_dict = {\n",
    "        \"address\": {\n",
    "            \"street\": \"2 Avenue\",\n",
    "            \"zipcode\": \"10075\",\n",
    "            \"building\": \"1480\",\n",
    "            \"coord\": [-73.9557413, 40.7720266]\n",
    "        },\n",
    "        \"borough\": \"Manhattan\",\n",
    "        \"cuisine\": \"Italian\",\n",
    "        \"grades\": [\n",
    "            {\n",
    "                \"date\": datetime.strptime(\"2014-10-01\", \"%Y-%m-%d\"),\n",
    "                \"grade\": \"A\",\n",
    "                \"score\": 11\n",
    "            },\n",
    "            {\n",
    "                \"date\": datetime.strptime(\"2014-01-16\", \"%Y-%m-%d\"),\n",
    "                \"grade\": \"B\",\n",
    "                \"score\": 17\n",
    "            }\n",
    "        ],\n",
    "        \"name\": \"Vella\",\n",
    "        \"restaurant_id\": \"41704620\"\n",
    "    }"
   ]
  },
  {
   "cell_type": "code",
   "execution_count": null,
   "metadata": {
    "collapsed": true
   },
   "outputs": [],
   "source": []
  },
  {
   "cell_type": "code",
   "execution_count": null,
   "metadata": {
    "collapsed": true
   },
   "outputs": [],
   "source": []
  },
  {
   "cell_type": "code",
   "execution_count": null,
   "metadata": {
    "collapsed": true
   },
   "outputs": [],
   "source": []
  },
  {
   "cell_type": "code",
   "execution_count": null,
   "metadata": {
    "collapsed": true
   },
   "outputs": [],
   "source": []
  },
  {
   "cell_type": "code",
   "execution_count": 28,
   "metadata": {
    "collapsed": false
   },
   "outputs": [],
   "source": [
    "person = SteamStuff()\n",
    "person.user_id(\"76561197982823731\")"
   ]
  },
  {
   "cell_type": "code",
   "execution_count": 29,
   "metadata": {
    "collapsed": false
   },
   "outputs": [
    {
     "data": {
      "text/plain": [
       "{u'avatarfull': u'https://steamcdn-a.akamaihd.net/steamcommunity/public/images/avatars/ef/efd4c085347b13ac7201328c783529a11a5d33a1_full.jpg',\n",
       " u'communityvisibilitystate': 1,\n",
       " u'lastlogoff': 1460442322,\n",
       " u'personaname': u'Warden',\n",
       " u'personastate': 0,\n",
       " u'profilestate': 1}"
      ]
     },
     "execution_count": 29,
     "metadata": {},
     "output_type": "execute_result"
    }
   ],
   "source": [
    "person.get_user_info()"
   ]
  },
  {
   "cell_type": "code",
   "execution_count": 600,
   "metadata": {
    "collapsed": false
   },
   "outputs": [],
   "source": [
    "listfriends = list(get10000friends)"
   ]
  },
  {
   "cell_type": "code",
   "execution_count": 601,
   "metadata": {
    "collapsed": false
   },
   "outputs": [
    {
     "data": {
      "text/plain": [
       "[u'76561197971340950',\n",
       " u'76561197988952025',\n",
       " u'76561198169761153',\n",
       " u'76561198002922051',\n",
       " u'76561198109725137',\n",
       " u'76561198085049223',\n",
       " u'76561198000127691',\n",
       " u'76561198094890595',\n",
       " u'76561198094033169',\n",
       " u'76561197998907707']"
      ]
     },
     "execution_count": 601,
     "metadata": {},
     "output_type": "execute_result"
    }
   ],
   "source": [
    "listfriends[:10]"
   ]
  },
  {
   "cell_type": "markdown",
   "metadata": {},
   "source": [
    "# Save some ID bidness to file with cPickle"
   ]
  },
  {
   "cell_type": "code",
   "execution_count": 606,
   "metadata": {
    "collapsed": false
   },
   "outputs": [],
   "source": [
    "cPickle.dump(listfriends, open('60782ids.p', 'wb')) "
   ]
  },
  {
   "cell_type": "code",
   "execution_count": 527,
   "metadata": {
    "collapsed": false,
    "scrolled": true
   },
   "outputs": [
    {
     "name": "stdout",
     "output_type": "stream",
     "text": [
      "Friend group 1 size: 7, in 0.293199777603 seconds\n",
      "Friend group 2 size: 76, in 2.01625990868 seconds\n",
      "hello\n",
      "updated\n",
      "hello\n",
      "updated\n",
      "hello\n"
     ]
    }
   ],
   "source": [
    "atleast10 = generate_steam_ids(my_id, min_friends=10)"
   ]
  },
  {
   "cell_type": "code",
   "execution_count": 607,
   "metadata": {
    "collapsed": false
   },
   "outputs": [],
   "source": [
    "obj = cPickle.load(open('60782ids.p', 'rb'))"
   ]
  },
  {
   "cell_type": "code",
   "execution_count": 609,
   "metadata": {
    "collapsed": false
   },
   "outputs": [
    {
     "data": {
      "text/plain": [
       "[u'76561197971340950',\n",
       " u'76561197988952025',\n",
       " u'76561198169761153',\n",
       " u'76561198002922051',\n",
       " u'76561198109725137',\n",
       " u'76561198085049223',\n",
       " u'76561198000127691',\n",
       " u'76561198094890595',\n",
       " u'76561198094033169',\n",
       " u'76561197998907707']"
      ]
     },
     "execution_count": 609,
     "metadata": {},
     "output_type": "execute_result"
    }
   ],
   "source": [
    "obj[:10]"
   ]
  },
  {
   "cell_type": "code",
   "execution_count": null,
   "metadata": {
    "collapsed": true
   },
   "outputs": [],
   "source": []
  },
  {
   "cell_type": "code",
   "execution_count": null,
   "metadata": {
    "collapsed": true
   },
   "outputs": [],
   "source": []
  },
  {
   "cell_type": "code",
   "execution_count": null,
   "metadata": {
    "collapsed": true
   },
   "outputs": [],
   "source": []
  },
  {
   "cell_type": "code",
   "execution_count": null,
   "metadata": {
    "collapsed": true
   },
   "outputs": [],
   "source": []
  },
  {
   "cell_type": "code",
   "execution_count": null,
   "metadata": {
    "collapsed": true
   },
   "outputs": [],
   "source": []
  },
  {
   "cell_type": "markdown",
   "metadata": {},
   "source": [
    "# Scraping some profile info"
   ]
  },
  {
   "cell_type": "markdown",
   "metadata": {},
   "source": [
    "`soup.find_all(\"div\", \"profile_count_link\")`"
   ]
  },
  {
   "cell_type": "markdown",
   "metadata": {},
   "source": [
    "Using index of -1 below prevents an error for \"inventory\", which only had one index, where others had 2"
   ]
  },
  {
   "cell_type": "code",
   "execution_count": 378,
   "metadata": {
    "collapsed": true
   },
   "outputs": [],
   "source": []
  },
  {
   "cell_type": "code",
   "execution_count": 273,
   "metadata": {
    "collapsed": false
   },
   "outputs": [
    {
     "data": {
      "text/plain": [
       "{'profile': [{u'Badges': u'41'},\n",
       "  {u'Games': u'448'},\n",
       "  {u'Inventory': u'Inventory'},\n",
       "  {u'Screenshots': u'99'},\n",
       "  {u'Videos': u'6'},\n",
       "  {u'Reviews': u'16'},\n",
       "  {u'Guides': u'4'},\n",
       "  {u'Artwork': u'5'},\n",
       "  {u'Groups': u'17'},\n",
       "  {u'Friends': u'159'}]}"
      ]
     },
     "execution_count": 273,
     "metadata": {},
     "output_type": "execute_result"
    }
   ],
   "source": []
  },
  {
   "cell_type": "code",
   "execution_count": 379,
   "metadata": {
    "collapsed": false
   },
   "outputs": [
    {
     "data": {
      "text/plain": [
       "'http://steamcommunity.com/profiles/76561198027662714'"
      ]
     },
     "execution_count": 379,
     "metadata": {},
     "output_type": "execute_result"
    }
   ],
   "source": [
    "url"
   ]
  },
  {
   "cell_type": "code",
   "execution_count": 274,
   "metadata": {
    "collapsed": false
   },
   "outputs": [],
   "source": [
    "profile_dict[\"online_status\"] = [list(link.stripped_strings) for link in soup.find_all(\"div\", \"responsive_status_info\")]"
   ]
  },
  {
   "cell_type": "code",
   "execution_count": 348,
   "metadata": {
    "collapsed": false
   },
   "outputs": [],
   "source": [
    "profile_summary = \" \".join(re.findall(r\"[0-9a-zA-Z\\.\\,\\!\\?\\'\\\"]+\", \" \".join(\\\n",
    "                                              [list(link.stripped_strings) for link in soup.find_all(\\\n",
    "                                              \"div\", \"profile_header_summary\")][0][:-2])))"
   ]
  },
  {
   "cell_type": "code",
   "execution_count": 349,
   "metadata": {
    "collapsed": false
   },
   "outputs": [
    {
     "data": {
      "text/plain": [
       "''"
      ]
     },
     "execution_count": 349,
     "metadata": {},
     "output_type": "execute_result"
    }
   ],
   "source": [
    "profile_summary"
   ]
  },
  {
   "cell_type": "code",
   "execution_count": 317,
   "metadata": {
    "collapsed": false
   },
   "outputs": [
    {
     "data": {
      "text/plain": [
       "{u'avatarfull': u'https://steamcdn-a.akamaihd.net/steamcommunity/public/images/avatars/4f/4f78f1aa2f86f3c80fa9ec3ed3c51dedb49a839a_full.jpg',\n",
       " u'commentpermission': 1,\n",
       " u'communityvisibilitystate': 3,\n",
       " u'gameextrainfo': u\"Garry's Mod\",\n",
       " u'gameid': u'4000',\n",
       " u'gameserverip': u'185.38.148.159:27055',\n",
       " u'gameserversteamid': u'90100687685614601',\n",
       " u'lastlogoff': 1460475417,\n",
       " u'loccountrycode': u'GB',\n",
       " u'locstatecode': u'C6',\n",
       " u'personaname': u'\\u2605 Timmo #PapaBless',\n",
       " u'personastate': 1,\n",
       " u'primaryclanid': u'103582791443498610',\n",
       " u'profilestate': 1,\n",
       " u'realname': u'Alex',\n",
       " u'timecreated': 1266074212}"
      ]
     },
     "execution_count": 317,
     "metadata": {},
     "output_type": "execute_result"
    }
   ],
   "source": [
    "user_info.get_user_info(\"76561198021157234\")"
   ]
  },
  {
   "cell_type": "code",
   "execution_count": null,
   "metadata": {
    "collapsed": true
   },
   "outputs": [],
   "source": []
  },
  {
   "cell_type": "code",
   "execution_count": 298,
   "metadata": {
    "collapsed": false
   },
   "outputs": [
    {
     "data": {
      "text/plain": [
       "u'Problem officer I will ignore private profiles Do NOT add me without a comment H a l f L i f e 3 My SteamRep steamrep com My Trade Link A man saw a lady with big breasts He asked Excuse me can I bite your breasts for 1000 She agrees so they go to a secluded corner She opens her blouse and the man puts his face in her breasts for 10 minutes Eventually the lady asks Aren t you gonna bite them He replies No it s too expensive c 3 hi stalker L View more info J function InitProfileSummary g rgProfileData summary'"
      ]
     },
     "execution_count": 298,
     "metadata": {},
     "output_type": "execute_result"
    }
   ],
   "source": [
    "' '.join(re.findall(r\"[0-9a-zA-Z]+\", soup.find_all(\"div\", \"profile_header_summary\")[0].text))"
   ]
  },
  {
   "cell_type": "code",
   "execution_count": null,
   "metadata": {
    "collapsed": true
   },
   "outputs": [],
   "source": []
  },
  {
   "cell_type": "code",
   "execution_count": 72,
   "metadata": {
    "collapsed": false
   },
   "outputs": [
    {
     "data": {
      "text/plain": [
       "'659 achievements in 16 different games.'"
      ]
     },
     "execution_count": 72,
     "metadata": {},
     "output_type": "execute_result"
    }
   ],
   "source": [
    "soup.find_all(\"div\", \"showcase_stat\")[0].attrs['data-community-tooltip']"
   ]
  },
  {
   "cell_type": "code",
   "execution_count": 64,
   "metadata": {
    "collapsed": false
   },
   "outputs": [
    {
     "data": {
      "text/plain": [
       "[u' 659 Achievements ', u' 23% Avg. Game Completion Rate ']"
      ]
     },
     "execution_count": 64,
     "metadata": {},
     "output_type": "execute_result"
    }
   ],
   "source": [
    "[''.join(link.text) for link in soup.find_all(\"div\", \"showcase_stat\")]"
   ]
  },
  {
   "cell_type": "code",
   "execution_count": 339,
   "metadata": {
    "collapsed": false
   },
   "outputs": [],
   "source": [
    "recent_3_games = soup.find_all(\"div\", \"game_info\")"
   ]
  },
  {
   "cell_type": "code",
   "execution_count": 346,
   "metadata": {
    "collapsed": false
   },
   "outputs": [
    {
     "data": {
      "text/plain": [
       "u\"Garry's Mod\""
      ]
     },
     "execution_count": 346,
     "metadata": {},
     "output_type": "execute_result"
    }
   ],
   "source": [
    "[list(game.stripped_strings) for game in recent_3_games][0][-1]"
   ]
  },
  {
   "cell_type": "code",
   "execution_count": 82,
   "metadata": {
    "collapsed": false
   },
   "outputs": [],
   "source": [
    "other_stuff = soup.find_all(\"div\", \"profile_customization_area\")"
   ]
  },
  {
   "cell_type": "code",
   "execution_count": 88,
   "metadata": {
    "collapsed": false
   },
   "outputs": [
    {
     "data": {
      "text/plain": [
       "[[u'Achievement Showcase',\n",
       "  u'+653',\n",
       "  u'659',\n",
       "  u'Achievements',\n",
       "  u'23%',\n",
       "  u'Avg. Game Completion Rate']]"
      ]
     },
     "execution_count": 88,
     "metadata": {},
     "output_type": "execute_result"
    }
   ],
   "source": [
    "[list(thing.stripped_strings) for thing in other_stuff]"
   ]
  },
  {
   "cell_type": "code",
   "execution_count": 175,
   "metadata": {
    "collapsed": false
   },
   "outputs": [
    {
     "data": {
      "text/plain": [
       "u'Level 10'"
      ]
     },
     "execution_count": 175,
     "metadata": {},
     "output_type": "execute_result"
    }
   ],
   "source": [
    "soup.find_all(\"div\", \"persona_name persona_level\")[0].text"
   ]
  },
  {
   "cell_type": "code",
   "execution_count": null,
   "metadata": {
    "collapsed": true
   },
   "outputs": [],
   "source": []
  },
  {
   "cell_type": "code",
   "execution_count": null,
   "metadata": {
    "collapsed": true
   },
   "outputs": [],
   "source": []
  },
  {
   "cell_type": "code",
   "execution_count": null,
   "metadata": {
    "collapsed": true
   },
   "outputs": [],
   "source": []
  },
  {
   "cell_type": "code",
   "execution_count": null,
   "metadata": {
    "collapsed": true
   },
   "outputs": [],
   "source": []
  },
  {
   "cell_type": "code",
   "execution_count": null,
   "metadata": {
    "collapsed": true
   },
   "outputs": [],
   "source": []
  },
  {
   "cell_type": "code",
   "execution_count": null,
   "metadata": {
    "collapsed": true
   },
   "outputs": [],
   "source": []
  },
  {
   "cell_type": "code",
   "execution_count": null,
   "metadata": {
    "collapsed": true
   },
   "outputs": [],
   "source": []
  },
  {
   "cell_type": "code",
   "execution_count": 18,
   "metadata": {
    "collapsed": true
   },
   "outputs": [],
   "source": [
    "import pandas as pd"
   ]
  },
  {
   "cell_type": "code",
   "execution_count": 47,
   "metadata": {
    "collapsed": false
   },
   "outputs": [],
   "source": [
    "banned_df = pd.DataFrame(banned_list)"
   ]
  },
  {
   "cell_type": "code",
   "execution_count": 76,
   "metadata": {
    "collapsed": true
   },
   "outputs": [],
   "source": [
    "another = 'http://steamcommunity.com/profiles/76561198092689293/?xml=1'"
   ]
  },
  {
   "cell_type": "code",
   "execution_count": 77,
   "metadata": {
    "collapsed": false
   },
   "outputs": [],
   "source": [
    "page = requests.get(another)"
   ]
  },
  {
   "cell_type": "code",
   "execution_count": 78,
   "metadata": {
    "collapsed": true
   },
   "outputs": [],
   "source": [
    "text = page.text"
   ]
  },
  {
   "cell_type": "code",
   "execution_count": 138,
   "metadata": {
    "collapsed": false
   },
   "outputs": [],
   "source": [
    "with open(\"/Users/johnnysand/Downloads/Counter_Strike_Global_Offensive.jsonlines\") as f:\n",
    "    CSGO = [json.loads(review) for review in f]"
   ]
  },
  {
   "cell_type": "code",
   "execution_count": 140,
   "metadata": {
    "collapsed": true
   },
   "outputs": [],
   "source": [
    "csdf = pd.DataFrame(CSGO)"
   ]
  },
  {
   "cell_type": "code",
   "execution_count": 147,
   "metadata": {
    "collapsed": false
   },
   "outputs": [
    {
     "data": {
      "text/plain": [
       "[]"
      ]
     },
     "execution_count": 147,
     "metadata": {},
     "output_type": "execute_result"
    }
   ],
   "source": [
    "get_bans('54432109565543')"
   ]
  },
  {
   "cell_type": "code",
   "execution_count": 151,
   "metadata": {
    "collapsed": false
   },
   "outputs": [
    {
     "data": {
      "text/plain": [
       "Index([u'achievement_progress', u'date_posted', u'date_updated',\n",
       "       u'found_helpful_percentage', u'friend_player_level', u'num_badges',\n",
       "       u'num_comments', u'num_found_funny', u'num_found_helpful',\n",
       "       u'num_found_unhelpful', u'num_friends', u'num_games_owned',\n",
       "       u'num_groups', u'num_guides', u'num_reviews', u'num_screenshots',\n",
       "       u'num_voted_helpfulness', u'num_workshop_items', u'orig_url',\n",
       "       u'profile_url', u'rating', u'review', u'review_url', u'steam_id_number',\n",
       "       u'total_game_hours', u'total_game_hours_last_two_weeks', u'username'],\n",
       "      dtype='object')"
      ]
     },
     "execution_count": 151,
     "metadata": {},
     "output_type": "execute_result"
    }
   ],
   "source": [
    "csdf.columns"
   ]
  },
  {
   "cell_type": "code",
   "execution_count": 153,
   "metadata": {
    "collapsed": false
   },
   "outputs": [
    {
     "data": {
      "text/plain": [
       "1680"
      ]
     },
     "execution_count": 153,
     "metadata": {},
     "output_type": "execute_result"
    }
   ],
   "source": [
    "csdf[np.array(map(lambda x: len(x), csdf['steam_id_number']))==17]['steam_id_number'].count()"
   ]
  },
  {
   "cell_type": "code",
   "execution_count": null,
   "metadata": {
    "collapsed": true
   },
   "outputs": [],
   "source": []
  },
  {
   "cell_type": "code",
   "execution_count": 145,
   "metadata": {
    "collapsed": false
   },
   "outputs": [
    {
     "data": {
      "text/plain": [
       "0       76561198092689293\n",
       "1                 Delta3D\n",
       "2                   kadiv\n",
       "3                    knal\n",
       "4       76561198003457024\n",
       "5           hiaympalliman\n",
       "6                 ZoomaAP\n",
       "7           RevanDaDragon\n",
       "8           greybutnotgey\n",
       "9               End3rb0rn\n",
       "10              broilertm\n",
       "11      76561198078752967\n",
       "12             TURBOSKILL\n",
       "13      76561198028703104\n",
       "14      76561198066593729\n",
       "15                 w0lks4\n",
       "16             seeneesini\n",
       "17      76561198072154474\n",
       "18                 eys912\n",
       "19      76561198092689293\n",
       "20                Delta3D\n",
       "21                  kadiv\n",
       "22                   knal\n",
       "23      76561198003457024\n",
       "24          hiaympalliman\n",
       "25                ZoomaAP\n",
       "26          RevanDaDragon\n",
       "27          greybutnotgey\n",
       "28              End3rb0rn\n",
       "29                 Erincl\n",
       "              ...        \n",
       "7043           PePeIsGOD2\n",
       "7044    76561198093345061\n",
       "7045              fili716\n",
       "7046    76561198043999022\n",
       "7047      stealth_assasin\n",
       "7048          Trident3553\n",
       "7049            Holtimsky\n",
       "7050              Happsen\n",
       "7051               Dirkjr\n",
       "7052    76561198062924990\n",
       "7053      StonedHillbilly\n",
       "7054            hoyamuncs\n",
       "7055              topolop\n",
       "7056                pasq_\n",
       "7057    76561198067775381\n",
       "7058            fagmilker\n",
       "7059            ultrawubs\n",
       "7060          TheFearless\n",
       "7061     whothehellcaress\n",
       "7062           Monster-64\n",
       "7063    76561198013324669\n",
       "7064        JOHNCOOKSEYJC\n",
       "7065          redman1111x\n",
       "7066           weedtanzer\n",
       "7067                Refya\n",
       "7068       54432109565543\n",
       "7069         abyssaltyler\n",
       "7070    76561198132809342\n",
       "7071    76561198021148856\n",
       "7072    76561198063510198\n",
       "Name: steam_id_number, dtype: object"
      ]
     },
     "execution_count": 145,
     "metadata": {},
     "output_type": "execute_result"
    }
   ],
   "source": [
    "csdf['steam_id_number']"
   ]
  },
  {
   "cell_type": "code",
   "execution_count": null,
   "metadata": {
    "collapsed": true
   },
   "outputs": [],
   "source": []
  },
  {
   "cell_type": "code",
   "execution_count": null,
   "metadata": {
    "collapsed": true
   },
   "outputs": [],
   "source": []
  },
  {
   "cell_type": "code",
   "execution_count": null,
   "metadata": {
    "collapsed": true
   },
   "outputs": [],
   "source": []
  },
  {
   "cell_type": "code",
   "execution_count": 80,
   "metadata": {
    "collapsed": true
   },
   "outputs": [],
   "source": [
    "text = re.sub(r'\\<br\\>', r' ', text) # Looks for the string \"<br>\"\n",
    "    # and replaces it with a space\n",
    "text = re.sub(r'[\\n\\t\\r ]+', r' ', text) # Looks for any sequence\n",
    "    # of carriage returns or whitespace characters and replaces\n",
    "    # them with a single space\n",
    "text = text.strip()"
   ]
  },
  {
   "cell_type": "code",
   "execution_count": 93,
   "metadata": {
    "collapsed": false
   },
   "outputs": [],
   "source": [
    "soup = BeautifulSoup(text, 'lxml')"
   ]
  },
  {
   "cell_type": "code",
   "execution_count": null,
   "metadata": {
    "collapsed": true
   },
   "outputs": [],
   "source": []
  },
  {
   "cell_type": "code",
   "execution_count": null,
   "metadata": {
    "collapsed": true
   },
   "outputs": [],
   "source": []
  },
  {
   "cell_type": "code",
   "execution_count": null,
   "metadata": {
    "collapsed": true
   },
   "outputs": [],
   "source": []
  },
  {
   "cell_type": "code",
   "execution_count": null,
   "metadata": {
    "collapsed": true
   },
   "outputs": [],
   "source": []
  },
  {
   "cell_type": "code",
   "execution_count": null,
   "metadata": {
    "collapsed": true
   },
   "outputs": [],
   "source": []
  },
  {
   "cell_type": "code",
   "execution_count": null,
   "metadata": {
    "collapsed": true
   },
   "outputs": [],
   "source": []
  },
  {
   "cell_type": "code",
   "execution_count": 62,
   "metadata": {
    "collapsed": false
   },
   "outputs": [],
   "source": [
    "friend_list = list(friend_set)"
   ]
  },
  {
   "cell_type": "code",
   "execution_count": 122,
   "metadata": {
    "collapsed": false
   },
   "outputs": [],
   "source": [
    "def hundreds_of_friends(friends):\n",
    "    index100 = 100\n",
    "    hundred_list = []\n",
    "    bans = []\n",
    "    while index100 <= 22000:\n",
    "        hundred_friends = ','.join(friends[index100-100:index100])\n",
    "        hundred_list.append(hundred_friends)\n",
    "        index100 += 100\n",
    "        bans.append(get_bans(hundred_friends))\n",
    "    return hundred_list, [ban for subbans in bans for ban in subbans]"
   ]
  },
  {
   "cell_type": "code",
   "execution_count": null,
   "metadata": {
    "collapsed": true
   },
   "outputs": [],
   "source": []
  },
  {
   "cell_type": "code",
   "execution_count": null,
   "metadata": {
    "collapsed": true
   },
   "outputs": [],
   "source": []
  },
  {
   "cell_type": "code",
   "execution_count": null,
   "metadata": {
    "collapsed": true
   },
   "outputs": [],
   "source": []
  },
  {
   "cell_type": "code",
   "execution_count": null,
   "metadata": {
    "collapsed": true
   },
   "outputs": [],
   "source": []
  },
  {
   "cell_type": "code",
   "execution_count": null,
   "metadata": {
    "collapsed": true
   },
   "outputs": [],
   "source": []
  },
  {
   "cell_type": "code",
   "execution_count": null,
   "metadata": {
    "collapsed": true
   },
   "outputs": [],
   "source": []
  },
  {
   "cell_type": "code",
   "execution_count": null,
   "metadata": {
    "collapsed": true
   },
   "outputs": [],
   "source": []
  },
  {
   "cell_type": "code",
   "execution_count": 82,
   "metadata": {
    "collapsed": false
   },
   "outputs": [],
   "source": [
    "def get_bans(ids):\n",
    "    '''\n",
    "    Looks at the IDS ban history\n",
    "    '''\n",
    "    key = os.environ['ACCESS_STEAM']\n",
    "    url = 'http://api.steampowered.com/ISteamUser/GetPlayerBans/v1/?key='+key+'&steamids='+ids\n",
    "    return json.loads(urllib2.urlopen(url).read())['players']"
   ]
  },
  {
   "cell_type": "code",
   "execution_count": 85,
   "metadata": {
    "collapsed": false
   },
   "outputs": [
    {
     "data": {
      "text/plain": [
       "[{u'CommunityBanned': False,\n",
       "  u'DaysSinceLastBan': 0,\n",
       "  u'EconomyBan': u'none',\n",
       "  u'NumberOfGameBans': 0,\n",
       "  u'NumberOfVACBans': 0,\n",
       "  u'SteamId': u'76561198049211725',\n",
       "  u'VACBanned': False},\n",
       " {u'CommunityBanned': True,\n",
       "  u'DaysSinceLastBan': 353,\n",
       "  u'EconomyBan': u'none',\n",
       "  u'NumberOfGameBans': 0,\n",
       "  u'NumberOfVACBans': 1,\n",
       "  u'SteamId': u'76561198083499079',\n",
       "  u'VACBanned': True}]"
      ]
     },
     "execution_count": 85,
     "metadata": {},
     "output_type": "execute_result"
    }
   ],
   "source": [
    "get_bans(','.join(friend_list[:2]))"
   ]
  },
  {
   "cell_type": "code",
   "execution_count": null,
   "metadata": {
    "collapsed": true
   },
   "outputs": [],
   "source": []
  },
  {
   "cell_type": "code",
   "execution_count": null,
   "metadata": {
    "collapsed": true
   },
   "outputs": [],
   "source": []
  },
  {
   "cell_type": "code",
   "execution_count": 27,
   "metadata": {
    "collapsed": true
   },
   "outputs": [],
   "source": [
    "import time\n",
    "#start_time = time.time()\n",
    "#main()\n",
    "#print(\"--- %s seconds ---\" % (time.time() - start_time))"
   ]
  },
  {
   "cell_type": "code",
   "execution_count": 57,
   "metadata": {
    "collapsed": false
   },
   "outputs": [
    {
     "name": "stdout",
     "output_type": "stream",
     "text": [
      "60.8479239941 seconds\n"
     ]
    }
   ],
   "source": [
    "\n",
    "\n",
    "friend_set = []\n",
    "start_time = time.time()\n",
    "for id in ids:\n",
    "    state = json.loads(urllib2.urlopen(summaries + id).read())\n",
    "    if state['response']['players'][0][u'communityvisibilitystate'] != 3:\n",
    "        continue\n",
    "    else:\n",
    "        new_friends = get_friends(id)\n",
    "        for friend in new_friends:\n",
    "            friend_set.add(friend['steamid'])\n",
    "print '%s seconds' % (time.time() - start_time)"
   ]
  },
  {
   "cell_type": "code",
   "execution_count": 28,
   "metadata": {
    "collapsed": false
   },
   "outputs": [
    {
     "ename": "NameError",
     "evalue": "name 'steamids_new' is not defined",
     "output_type": "error",
     "traceback": [
      "\u001b[0;31m---------------------------------------------------------------------------\u001b[0m",
      "\u001b[0;31mNameError\u001b[0m                                 Traceback (most recent call last)",
      "\u001b[0;32m<ipython-input-28-dc92f459b34a>\u001b[0m in \u001b[0;36m<module>\u001b[0;34m()\u001b[0m\n\u001b[1;32m     11\u001b[0m         \u001b[0mmore_friends\u001b[0m \u001b[0;34m=\u001b[0m \u001b[0mjson\u001b[0m\u001b[0;34m.\u001b[0m\u001b[0mloads\u001b[0m\u001b[0;34m(\u001b[0m\u001b[0murllib2\u001b[0m\u001b[0;34m.\u001b[0m\u001b[0murlopen\u001b[0m\u001b[0;34m(\u001b[0m\u001b[0mfriends\u001b[0m\u001b[0;34m)\u001b[0m\u001b[0;34m.\u001b[0m\u001b[0mread\u001b[0m\u001b[0;34m(\u001b[0m\u001b[0;34m)\u001b[0m\u001b[0;34m)\u001b[0m\u001b[0;34m\u001b[0m\u001b[0m\n\u001b[1;32m     12\u001b[0m         \u001b[0;32mfor\u001b[0m \u001b[0mfriend\u001b[0m \u001b[0;32min\u001b[0m \u001b[0mmore_friends\u001b[0m\u001b[0;34m[\u001b[0m\u001b[0;34m'friendslist'\u001b[0m\u001b[0;34m]\u001b[0m\u001b[0;34m[\u001b[0m\u001b[0;34m'friends'\u001b[0m\u001b[0;34m]\u001b[0m\u001b[0;34m:\u001b[0m\u001b[0;34m\u001b[0m\u001b[0m\n\u001b[0;32m---> 13\u001b[0;31m             \u001b[0msteamids_new\u001b[0m\u001b[0;34m.\u001b[0m\u001b[0madd\u001b[0m\u001b[0;34m(\u001b[0m\u001b[0mstr\u001b[0m\u001b[0;34m(\u001b[0m\u001b[0mfriend\u001b[0m\u001b[0;34m[\u001b[0m\u001b[0;34m'steamid'\u001b[0m\u001b[0;34m]\u001b[0m\u001b[0;34m)\u001b[0m\u001b[0;34m)\u001b[0m\u001b[0;34m\u001b[0m\u001b[0m\n\u001b[0m\u001b[1;32m     14\u001b[0m \u001b[0;32mprint\u001b[0m \u001b[0;34m'%s seconds'\u001b[0m \u001b[0;34m%\u001b[0m \u001b[0;34m(\u001b[0m\u001b[0mtime\u001b[0m\u001b[0;34m.\u001b[0m\u001b[0mtime\u001b[0m\u001b[0;34m(\u001b[0m\u001b[0;34m)\u001b[0m \u001b[0;34m-\u001b[0m \u001b[0mstart_time\u001b[0m\u001b[0;34m)\u001b[0m\u001b[0;34m\u001b[0m\u001b[0m\n",
      "\u001b[0;31mNameError\u001b[0m: name 'steamids_new' is not defined"
     ]
    }
   ],
   "source": [
    "\n",
    "\n",
    "steamids = set()\n",
    "start_time = time.time()\n",
    "banned_set = set()\n",
    "for id in ids:\n",
    "    state = json.loads(urllib2.urlopen(summaries + id).read())\n",
    "    if state['response']['players'][0][u'communityvisibilitystate'] != 3:\n",
    "        continue\n",
    "    else:\n",
    "        bans = get_bans(id)\n",
    "        friends = get_friends(id)\n",
    "        for friend in more_friends['friendslist']['friends']:\n",
    "            steamids.add(str(friend['steamid']))\n",
    "        steamids.add(friends)\n",
    "print '%s seconds' % (time.time() - start_time)"
   ]
  },
  {
   "cell_type": "code",
   "execution_count": null,
   "metadata": {
    "collapsed": true
   },
   "outputs": [],
   "source": [
    "\n",
    "\n",
    "steamids = set()\n",
    "start_time = time.time()\n",
    "banned_set = set()\n",
    "for id in ids:\n",
    "    state = json.loads(urllib2.urlopen(summaries + id).read())\n",
    "    if state['response']['players'][0][u'communityvisibilitystate'] != 3:\n",
    "        continue\n",
    "    else:\n",
    "        bans = get_bans(id)\n",
    "        friends = 'http://api.steampowered.com/ISteamUser/GetFriendList/v0001/?key='+mythat+'&steamid='+id+'&relationship=all'\n",
    "        more_friends = json.loads(urllib2.urlopen(friends).read())\n",
    "        for friend in more_friends['friendslist']['friends']:\n",
    "            steamids.add(str(friend['steamid']))\n",
    "print '%s seconds' % (time.time() - start_time)"
   ]
  },
  {
   "cell_type": "code",
   "execution_count": 155,
   "metadata": {
    "collapsed": false
   },
   "outputs": [
    {
     "data": {
      "text/plain": [
       "129.93333333333334"
      ]
     },
     "execution_count": 155,
     "metadata": {},
     "output_type": "execute_result"
    }
   ],
   "source": [
    "7796 / 60."
   ]
  },
  {
   "cell_type": "code",
   "execution_count": 154,
   "metadata": {
    "collapsed": false
   },
   "outputs": [
    {
     "data": {
      "text/plain": [
       "1627893"
      ]
     },
     "execution_count": 154,
     "metadata": {},
     "output_type": "execute_result"
    }
   ],
   "source": [
    "len(steamids_new)"
   ]
  },
  {
   "cell_type": "code",
   "execution_count": 108,
   "metadata": {
    "collapsed": false
   },
   "outputs": [
    {
     "data": {
      "text/plain": [
       "<Response [401]>"
      ]
     },
     "execution_count": 108,
     "metadata": {},
     "output_type": "execute_result"
    }
   ],
   "source": [
    "requests.get(urlfriend)"
   ]
  },
  {
   "cell_type": "code",
   "execution_count": 112,
   "metadata": {
    "collapsed": true
   },
   "outputs": [],
   "source": [
    "myurl = 'http://api.steampowered.com/ISteamUser/GetPlayerSummaries/v0002/?key='+mythat+'&steamids='+my64"
   ]
  },
  {
   "cell_type": "code",
   "execution_count": 116,
   "metadata": {
    "collapsed": true
   },
   "outputs": [],
   "source": [
    "dude = json.loads(urllib2.urlopen(another_test).read())"
   ]
  },
  {
   "cell_type": "code",
   "execution_count": 138,
   "metadata": {
    "collapsed": false
   },
   "outputs": [
    {
     "data": {
      "text/plain": [
       "int"
      ]
     },
     "execution_count": 138,
     "metadata": {},
     "output_type": "execute_result"
    }
   ],
   "source": [
    "type(dude['response']['players'][0][u'communityvisibilitystate'])"
   ]
  },
  {
   "cell_type": "code",
   "execution_count": 129,
   "metadata": {
    "collapsed": false
   },
   "outputs": [
    {
     "data": {
      "text/plain": [
       "'{\\n\\t\"response\": {\\n\\t\\t\"players\": [\\n\\t\\t\\t{\\n\\t\\t\\t\\t\"steamid\": \"76561197982823731\",\\n\\t\\t\\t\\t\"communityvisibilitystate\": 1,\\n\\t\\t\\t\\t\"profilestate\": 1,\\n\\t\\t\\t\\t\"personaname\": \"Warden\",\\n\\t\\t\\t\\t\"lastlogoff\": 1459618089,\\n\\t\\t\\t\\t\"profileurl\": \"http://steamcommunity.com/profiles/76561197982823731/\",\\n\\t\\t\\t\\t\"avatar\": \"https://steamcdn-a.akamaihd.net/steamcommunity/public/images/avatars/ef/efd4c085347b13ac7201328c783529a11a5d33a1.jpg\",\\n\\t\\t\\t\\t\"avatarmedium\": \"https://steamcdn-a.akamaihd.net/steamcommunity/public/images/avatars/ef/efd4c085347b13ac7201328c783529a11a5d33a1_medium.jpg\",\\n\\t\\t\\t\\t\"avatarfull\": \"https://steamcdn-a.akamaihd.net/steamcommunity/public/images/avatars/ef/efd4c085347b13ac7201328c783529a11a5d33a1_full.jpg\",\\n\\t\\t\\t\\t\"personastate\": 0\\n\\t\\t\\t}\\n\\t\\t]\\n\\t\\t\\n\\t}\\n}'"
      ]
     },
     "execution_count": 129,
     "metadata": {},
     "output_type": "execute_result"
    }
   ],
   "source": []
  },
  {
   "cell_type": "code",
   "execution_count": 156,
   "metadata": {
    "collapsed": false
   },
   "outputs": [
    {
     "data": {
      "text/plain": [
       "146.66666666666666"
      ]
     },
     "execution_count": 156,
     "metadata": {},
     "output_type": "execute_result"
    }
   ],
   "source": [
    "22000 / 150."
   ]
  },
  {
   "cell_type": "code",
   "execution_count": 157,
   "metadata": {
    "collapsed": false
   },
   "outputs": [
    {
     "data": {
      "text/plain": [
       "739.5454545454545"
      ]
     },
     "execution_count": 157,
     "metadata": {},
     "output_type": "execute_result"
    }
   ],
   "source": [
    "1627000 / 2200."
   ]
  },
  {
   "cell_type": "code",
   "execution_count": 158,
   "metadata": {
    "collapsed": false
   },
   "outputs": [
    {
     "data": {
      "text/plain": [
       "1630000000"
      ]
     },
     "execution_count": 158,
     "metadata": {},
     "output_type": "execute_result"
    }
   ],
   "source": [
    "1630000 * 1000"
   ]
  },
  {
   "cell_type": "code",
   "execution_count": 159,
   "metadata": {
    "collapsed": false
   },
   "outputs": [
    {
     "data": {
      "text/plain": [
       "True"
      ]
     },
     "execution_count": 159,
     "metadata": {},
     "output_type": "execute_result"
    }
   ],
   "source": [
    "'76561197967398882' in steamids_new"
   ]
  },
  {
   "cell_type": "code",
   "execution_count": 160,
   "metadata": {
    "collapsed": false
   },
   "outputs": [
    {
     "data": {
      "text/plain": [
       "False"
      ]
     },
     "execution_count": 160,
     "metadata": {},
     "output_type": "execute_result"
    }
   ],
   "source": [
    "'76561197967398882' in steamids_new_new"
   ]
  },
  {
   "cell_type": "markdown",
   "metadata": {},
   "source": [
    "# Another try"
   ]
  },
  {
   "cell_type": "code",
   "execution_count": 20,
   "metadata": {
    "collapsed": false
   },
   "outputs": [
    {
     "name": "stdout",
     "output_type": "stream",
     "text": [
      "http://steamcommunity.com/app/730/homecontent/?userreviewsoffset=0&p=1&itemspage=1&screenshotspage=1&videospage=1&artpage=1&allguidepage=1&webguidepage=1&integratedguidepage=1&discussionspage=1&appid=730&appHubSubSection=10&appHubSubSection=10&l=english&browsefilter=toprated&filterLanguage=default&searchText=&forceanon=1\n"
     ]
    }
   ],
   "source": [
    "appid = '730'\n",
    "range_begin = '0'\n",
    "i = '1'\n",
    "url = 'http://steamcommunity.com/app/{0}/homecontent/?userreviewsoffset={1}&p=1&itemspage={2}&screenshotspage={2}&videospage={2}&artpage={2}&allguidepage={2}&webguidepage={2}&integratedguidepage={2}&discussionspage={2}&appid={0}&appHubSubSection=10&appHubSubSection=10&l=english&browsefilter=toprated&filterLanguage=default&searchText=&forceanon=1'.format(appid, range_begin, i)\n",
    "print(url)"
   ]
  },
  {
   "cell_type": "code",
   "execution_count": 21,
   "metadata": {
    "collapsed": true
   },
   "outputs": [],
   "source": [
    "# We can read, parse, and then extract the content at the URL using\n",
    "# requests and bs4 (and lxml) modules\n",
    "from bs4 import BeautifulSoup\n",
    "from lxml import html\n",
    "import requests"
   ]
  },
  {
   "cell_type": "code",
   "execution_count": 22,
   "metadata": {
    "collapsed": true
   },
   "outputs": [],
   "source": [
    "# Let's use requests.get() to get the page\n",
    "page = requests.get(url)"
   ]
  },
  {
   "cell_type": "code",
   "execution_count": 23,
   "metadata": {
    "collapsed": false
   },
   "outputs": [
    {
     "data": {
      "text/plain": [
       "['apparent_encoding',\n",
       " 'close',\n",
       " 'connection',\n",
       " 'content',\n",
       " 'cookies',\n",
       " 'elapsed',\n",
       " 'encoding',\n",
       " 'headers',\n",
       " 'history',\n",
       " 'is_permanent_redirect',\n",
       " 'is_redirect',\n",
       " 'iter_content',\n",
       " 'iter_lines',\n",
       " 'json',\n",
       " 'links',\n",
       " 'ok',\n",
       " 'raise_for_status',\n",
       " 'raw',\n",
       " 'reason',\n",
       " 'request',\n",
       " 'status_code',\n",
       " 'text',\n",
       " 'url']"
      ]
     },
     "execution_count": 23,
     "metadata": {},
     "output_type": "execute_result"
    }
   ],
   "source": [
    "# Let's take a look at the attributes of the page object\n",
    "[a for a in dir(page) if not a.startswith('_') and not a.endswith('_')]\n",
    "# Don't worry about the code here, it's just a trick to see public\n",
    "# methods for a requests object"
   ]
  },
  {
   "cell_type": "code",
   "execution_count": 24,
   "metadata": {
    "collapsed": false
   },
   "outputs": [
    {
     "data": {
      "text/plain": [
       "u'\\t\\t<div id=\"page1\">\\r\\n\\t\\t<div class=\"apphub_Card modalContentLink interactable\" style=\"display: none\" data-modal-content-url=\"http://steamcommunity.com/profiles/76561198092689293/recommended/730/\" data-modal-content-sizetofit=\"false\">\\r\\n\\t<div class=\"apphub_CardContentMain\">\\r\\n\\t\\t<div class=\"apphub_UserReviewCardContent\">\\r\\n\\t\\t\\t<div class=\"found_helpful\">\\r\\n\\t\\t\\t\\t9,379 of 10,082 people (93%) found this review helpful<br>12,757 people found this review funny\\t\\t\\t</div>\\r\\n\\r\\n\\t\\t\\t<div class=\"vote_header\">\\r\\n\\t\\t\\t\\t\\t\\t\\t\\t<div class=\"reviewInfo\">\\r\\n\\t\\t\\t\\t\\t<div class=\"thumb\">\\r\\n\\t\\t\\t\\t\\t\\t<img src=\"http://steamcommunity-a.akamaihd.net/public/shared/images/userreviews/icon_thumbsUp.png?v=1\" width=\"44\" height=\"44\">\\r\\n\\t\\t\\t\\t\\t</div>\\r\\n\\r\\n\\t\\t\\t\\t\\t\\t\\t\\t\\t\\t<div class=\"title\">Recommended</div>\\r\\n\\t\\t\\t\\t\\t\\t\\t\\t\\t\\t\\t\\t\\t\\t\\t<div class=\"hours\">453.5 hrs on record</div>\\r\\n\\t\\t\\t\\t\\t\\t\\t\\t\\t</div>\\r\\n\\t\\t\\t\\t<div style=\"clear: left\"></div>\\r\\n\\t\\t\\t</div>\\r\\n\\r\\n\\t\\t\\t<div class=\"apphub_CardTextContent\">\\r\\n\\t\\t\\t\\t<div class=\"date_posted\">Posted: February 13, 2015</div>\\r\\n\\t\\t\\t\\t\\t\\t\\t\\tIf i had a d'"
      ]
     },
     "execution_count": 24,
     "metadata": {},
     "output_type": "execute_result"
    }
   ],
   "source": [
    "# We see that there are attributes for the text, json, lines, etc.,\n",
    "# so let's take a look at some of this stuff\n",
    "page.text[:1000] # Here's the raw HTML"
   ]
  },
  {
   "cell_type": "code",
   "execution_count": 25,
   "metadata": {
    "collapsed": true
   },
   "outputs": [],
   "source": [
    "# After looking at some of the other attributes, I've determined\n",
    "# that the text attribute is probably the only thing that\n",
    "# concerns us, so let's use it\n",
    "text = page.text"
   ]
  },
  {
   "cell_type": "code",
   "execution_count": 26,
   "metadata": {
    "collapsed": true
   },
   "outputs": [],
   "source": [
    "# The text, as you can see from the view above, has lots of \\r,\n",
    "# \\n, \\t characters in it, which might not be good for HTML\n",
    "# parsing in our case (I won't get into why, partly because I'm\n",
    "# not completely sure I get why), so let's get rid of all such\n",
    "# characters, replacing them with spaces instead\n",
    "# To do this we will use the re module, which allows us to use\n",
    "# regular expressions\n",
    "import re\n",
    "# While we're at it, it's best to get rid of all \"<br>\" tags since\n",
    "# they could also present problems during parsing\n",
    "# We can use the re.sub() method to find one regular expression and\n",
    "# replace it with another in a given text\n",
    "text = re.sub(r'\\<br\\>', r' ', text) # Looks for the string \"<br>\"\n",
    "    # and replaces it with a space\n",
    "text = re.sub(r'[\\n\\t\\r ]+', r' ', text) # Looks for any sequence\n",
    "    # of carriage returns or whitespace characters and replaces\n",
    "    # them with a single space\n",
    "text = text.strip() # Get rid of spaces at either end"
   ]
  },
  {
   "cell_type": "code",
   "execution_count": 27,
   "metadata": {
    "collapsed": false
   },
   "outputs": [
    {
     "data": {
      "text/plain": [
       "u'<div id=\"page1\"> <div class=\"apphub_Card modalContentLink interactable\" style=\"display: none\" data-modal-content-url=\"http://steamcommunity.com/profiles/76561198092689293/recommended/730/\" data-modal-content-sizetofit=\"false\"> <div class=\"apphub_CardContentMain\"> <div class=\"apphub_UserReviewCardContent\"> <div class=\"found_helpful\"> 9,379 of 10,082 people (93%) found this review helpful 12,757 people found this review funny </div> <div class=\"vote_header\"> <div class=\"reviewInfo\"> <div class=\"thumb\"> <img src=\"http://steamcommunity-a.akamaihd.net/public/shared/images/userreviews/icon_thumbsUp.png?v=1\" width=\"44\" height=\"44\"> </div> <div class=\"title\">Recommended</div> <div class=\"hours\">453.5 hrs on record</div> </div> <div style=\"clear: left\"></div> </div> <div class=\"apphub_CardTextContent\"> <div class=\"date_posted\">Posted: February 13, 2015</div> If i had a dollar for each time someone screamed at me in another language, i\\'d still have no money because i spent it on skins </div> </d'"
      ]
     },
     "execution_count": 27,
     "metadata": {},
     "output_type": "execute_result"
    }
   ],
   "source": [
    "# Let's take a look at the cleaned-up version of the source HTML\n",
    "text[:1000]"
   ]
  },
  {
   "cell_type": "code",
   "execution_count": 28,
   "metadata": {
    "collapsed": true
   },
   "outputs": [],
   "source": [
    "soup = BeautifulSoup(text, \"lxml\")"
   ]
  },
  {
   "cell_type": "code",
   "execution_count": 31,
   "metadata": {
    "collapsed": false
   },
   "outputs": [
    {
     "data": {
      "text/plain": [
       "<html><body><div id=\"page1\"> <div class=\"apphub_Card modalContentLink interactable\" data-modal-content-sizetofit=\"false\" data-modal-content-url=\"http://steamcommunity.com/profiles/76561198092689293/recommended/730/\" style=\"display: none\"> <div class=\"apphub_CardContentMain\"> <div class=\"apphub_UserReviewCardContent\"> <div class=\"found_helpful\"> 9,379 of 10,082 people (93%) found this review helpful 12,757 people found this review funny </div> <div class=\"vote_header\"> <div class=\"reviewInfo\"> <div class=\"thumb\"> <img height=\"44\" src=\"http://steamcommunity-a.akamaihd.net/public/shared/images/userreviews/icon_thumbsUp.png?v=1\" width=\"44\"/> </div> <div class=\"title\">Recommended</div> <div class=\"hours\">453.5 hrs on record</div> </div> <div style=\"clear: left\"></div> </div> <div class=\"apphub_CardTextContent\"> <div class=\"date_posted\">Posted: February 13, 2015</div> If i had a dollar for each time someone screamed at me in another language, i'd still have no money because i spent it on skins </div> </div> <div class=\"UserReviewCardContent_Footer\"> <div class=\"gradient\">\\xa0</div> </div> </div> <div class=\"apphub_CardContentAuthorBlock tall\"> <div class=\"apphub_friend_block_container\"> <a href=\"http://steamcommunity.com/profiles/76561198092689293/\"> <div class=\"apphub_friend_block\" data-miniprofile=\"132423565\"> <div class=\"appHubIconHolder online\"><img src=\"http://cdn.akamai.steamstatic.com/steamcommunity/public/images/avatars/94/94ac4b0f44edaff38e71002df1fe5cfc122dcbfe.jpg\"/></div> <div class=\"appHubIconHolder greyOverlay\"></div> <div class=\"apphub_CardContentAuthorName online ellipsis\"><a href=\"http://steamcommunity.com/profiles/76561198092689293/\">BakeACake</a></div> <div class=\"apphub_CardContentMoreLink ellipsis\">32 products in account</div> </div> </a> </div> <div class=\"apphub_UserReviewCardStats\"> <div class=\"apphub_CardCommentCount alignNews\">67</div> </div> <div style=\"clear: left\"></div> </div> </div><div class=\"apphub_Card modalContentLink interactable\" data-modal-content-sizetofit=\"false\" data-modal-content-url=\"http://steamcommunity.com/id/modz1lla/recommended/730/\" style=\"display: none\"> <div class=\"apphub_CardContentMain\"> <div class=\"apphub_UserReviewCardContent\"> <div class=\"found_helpful\"> 14,937 of 16,114 people (93%) found this review helpful 17,453 people found this review funny </div> <div class=\"vote_header\"> <div class=\"reviewInfo\"> <div class=\"thumb\"> <img height=\"44\" src=\"http://steamcommunity-a.akamaihd.net/public/shared/images/userreviews/icon_thumbsUp.png?v=1\" width=\"44\"/> </div> <div class=\"title\">Recommended</div> <div class=\"hours\">2,030.2 hrs on record</div> </div> <div style=\"clear: left\"></div> </div> <div class=\"apphub_CardTextContent\"> <div class=\"date_posted\">Posted: July 10, 2015</div> Things I gave to Counter-Strike: 1. Money 2. Time 3. Love Things Counter-Strike gave me: 1. Arthritis 2. Rage 3, Hatred of Russians,Spanish, and Russians 4. Broken keyboard 5. Broken mouse 6. 9/10 ready 7. Server crashes 8. \\u2665\\u2665\\u2665\\u2665\\u2665\\u2665 teammates 9. Competitive matches 10. \"Ez Pz\" spam 11. Multilingual cursing - I guess this is a good thing? 12. Lag 13. Cheaters 14- 64 tick servers Essentially - CS is a greedy woman, but I love her all the time. 11 / 10 would play again </div> </div> <div class=\"UserReviewCardContent_Footer\"> <div class=\"gradient\">\\xa0</div> </div> </div> <div class=\"apphub_CardContentAuthorBlock tall\"> <div class=\"apphub_friend_block_container\"> <a href=\"http://steamcommunity.com/id/modz1lla/\"> <div class=\"apphub_friend_block\" data-miniprofile=\"69716043\"> <div class=\"appHubIconHolder offline\"><img src=\"http://cdn.akamai.steamstatic.com/steamcommunity/public/images/avatars/a7/a7f102a9399a64c368d8d961085b51bcbc103957.jpg\"/></div> <div class=\"appHubIconHolder greyOverlay\"></div> <div class=\"apphub_CardContentAuthorName offline ellipsis\"><a href=\"http://steamcommunity.com/id/modz1lla/\">MODZILLA</a></div> <div class=\"apphub_CardContentMoreLink ellipsis\">47 products in account</div> </div> </a> </div> <div class=\"apphub_UserReviewCardStats\"> <div class=\"apphub_CardCommentCount alignNews\">211</div> </div> <div style=\"clear: left\"></div> </div> </div><div class=\"apphub_Card modalContentLink interactable\" data-modal-content-sizetofit=\"false\" data-modal-content-url=\"http://steamcommunity.com/id/bob-ross/recommended/730/\" style=\"display: none\"> <div class=\"apphub_CardContentMain\"> <div class=\"apphub_UserReviewCardContent\"> <div class=\"found_helpful\"> 5,491 of 5,913 people (93%) found this review helpful 6,247 people found this review funny </div> <div class=\"vote_header\"> <div class=\"reviewInfo\"> <div class=\"thumb\"> <img height=\"44\" src=\"http://steamcommunity-a.akamaihd.net/public/shared/images/userreviews/icon_thumbsUp.png?v=1\" width=\"44\"/> </div> <div class=\"title\">Recommended</div> <div class=\"hours\">311.9 hrs on record</div> </div> <div style=\"clear: left\"></div> </div> <div class=\"apphub_CardTextContent\"> <div class=\"date_posted\">Posted: May 2, 2015</div> Real \"Huntsman\" Survival Knife: $29 Virtual \"Huntsman\" Survival Knife: $299 </div> </div> <div class=\"UserReviewCardContent_Footer\"> <div class=\"gradient\">\\xa0</div> </div> </div> <div class=\"apphub_CardContentAuthorBlock tall\"> <div class=\"apphub_friend_block_container\"> <a href=\"http://steamcommunity.com/id/bob-ross/\"> <div class=\"apphub_friend_block\" data-miniprofile=\"81522974\"> <div class=\"appHubIconHolder offline\"><img src=\"http://cdn.akamai.steamstatic.com/steamcommunity/public/images/avatars/bd/bd403cfa8af48e1c355e14ab358ec900684aff72.jpg\"/></div> <div class=\"appHubIconHolder greyOverlay\"></div> <div class=\"apphub_CardContentAuthorName offline ellipsis\"><a href=\"http://steamcommunity.com/id/bob-ross/\">Bob Ross o \\u035c\\u0296 o</a></div> <div class=\"apphub_CardContentMoreLink ellipsis\">157 products in account</div> </div> </a> </div> <div class=\"apphub_UserReviewCardStats\"> <div class=\"apphub_CardCommentCount alignNews\">46</div> </div> <div style=\"clear: left\"></div> </div> </div><div class=\"apphub_Card modalContentLink interactable\" data-modal-content-sizetofit=\"false\" data-modal-content-url=\"http://steamcommunity.com/id/Delta3D/recommended/730/\" style=\"display: none\"> <div class=\"apphub_CardContentMain\"> <div class=\"apphub_UserReviewCardContent\"> <div class=\"found_helpful\"> 11,996 of 13,027 people (92%) found this review helpful 13,833 people found this review funny </div> <div class=\"vote_header\"> <div class=\"reviewInfo\"> <div class=\"thumb\"> <img height=\"44\" src=\"http://steamcommunity-a.akamaihd.net/public/shared/images/userreviews/icon_thumbsUp.png?v=1\" width=\"44\"/> </div> <div class=\"title\">Recommended</div> <div class=\"hours\">596.3 hrs on record</div> </div> <div style=\"clear: left\"></div> </div> <div class=\"apphub_CardTextContent\"> <div class=\"date_posted\">Posted: February 1, 2015</div> It's like roulette; fun until it turns into Russian. </div> </div> <div class=\"UserReviewCardContent_Footer\"> <div class=\"gradient\">\\xa0</div> </div> </div> <div class=\"apphub_CardContentAuthorBlock tall\"> <div class=\"apphub_friend_block_container\"> <a href=\"http://steamcommunity.com/id/Delta3D/\"> <div class=\"apphub_friend_block\" data-miniprofile=\"63720612\"> <div class=\"appHubIconHolder offline\"><img src=\"http://cdn.akamai.steamstatic.com/steamcommunity/public/images/avatars/a8/a8e866b864cc1364deba8ceac16d67354d730f40.jpg\"/></div> <div class=\"appHubIconHolder greyOverlay\"></div> <div class=\"apphub_CardContentAuthorName offline ellipsis\"><a href=\"http://steamcommunity.com/id/Delta3D/\">Delta</a></div> <div class=\"apphub_CardContentMoreLink ellipsis\">154 products in account</div> </div> </a> </div> <div class=\"apphub_UserReviewCardStats\"> <div class=\"apphub_CardCommentCount alignNews\">85</div> </div> <div style=\"clear: left\"></div> </div> </div><div class=\"apphub_Card modalContentLink interactable\" data-modal-content-sizetofit=\"false\" data-modal-content-url=\"http://steamcommunity.com/id/GlobalDoge/recommended/730/\" style=\"display: none\"> <div class=\"apphub_CardContentMain\"> <div class=\"apphub_UserReviewCardContent\"> <div class=\"found_helpful\"> 11,151 of 12,108 people (92%) found this review helpful 8,339 people found this review funny </div> <div class=\"vote_header\"> <div class=\"reviewInfo\"> <div class=\"thumb\"> <img height=\"44\" src=\"http://steamcommunity-a.akamaihd.net/public/shared/images/userreviews/icon_thumbsUp.png?v=1\" width=\"44\"/> </div> <div class=\"title\">Recommended</div> <div class=\"hours\">1,315.2 hrs on record</div> </div> <div style=\"clear: left\"></div> </div> <div class=\"apphub_CardTextContent\"> <div class=\"date_posted\">Posted: August 1, 2015</div> IQ tests should be mandatory before being able to play matchmaking </div> </div> <div class=\"UserReviewCardContent_Footer\"> <div class=\"gradient\">\\xa0</div> </div> </div> <div class=\"apphub_CardContentAuthorBlock tall\"> <div class=\"apphub_friend_block_container\"> <a href=\"http://steamcommunity.com/id/GlobalDoge/\"> <div class=\"apphub_friend_block\" data-miniprofile=\"113973189\"> <div class=\"appHubIconHolder in-game\"><img src=\"http://cdn.akamai.steamstatic.com/steamcommunity/public/images/avatars/c0/c0d4bd2cf7a5ad77096e920d2d7fba9da5d9c3f1.jpg\"/></div> <div class=\"appHubIconHolder greyOverlay\"></div> <div class=\"apphub_CardContentAuthorName in-game ellipsis\"><a href=\"http://steamcommunity.com/id/GlobalDoge/\">dlareg</a></div> <div class=\"apphub_CardContentMoreLink ellipsis\">11 products in account</div> </div> </a> </div> <div class=\"apphub_UserReviewCardStats\"> <div class=\"apphub_CardCommentCount alignNews\">89</div> </div> <div style=\"clear: left\"></div> </div> </div><div class=\"apphub_Card modalContentLink interactable\" data-modal-content-sizetofit=\"false\" data-modal-content-url=\"http://steamcommunity.com/id/DraganMKD87/recommended/730/\" style=\"display: none\"> <div class=\"apphub_CardContentMain\"> <div class=\"apphub_UserReviewCardContent\"> <div class=\"found_helpful\"> 11,320 of 12,327 people (92%) found this review helpful 13,940 people found this review funny </div> <div class=\"vote_header\"> <div class=\"reviewInfo\"> <div class=\"thumb\"> <img height=\"44\" src=\"http://steamcommunity-a.akamaihd.net/public/shared/images/userreviews/icon_thumbsUp.png?v=1\" width=\"44\"/> </div> <div class=\"title\">Recommended</div> <div class=\"hours\">287.4 hrs on record</div> </div> <div style=\"clear: left\"></div> </div> <div class=\"apphub_CardTextContent\"> <div class=\"date_posted\">Posted: November 1, 2015</div> Every team consists of 5 people: 1.You 2.Russian Guy 3.Another Russian Guy 4.Russian Guy who speaks English 5. A 6 year old kid who slept with your mother 11/10 Too much Salt and \\u0421*\\u043a\\u0430 \\u0411\\u043b\\u0438@\\u0442,not enough \\u2665\\u2665\\u2665\\u2665\\u2665 Would love to take another dose of salt and punch my little brother </div> </div> <div class=\"UserReviewCardContent_Footer\"> <div class=\"gradient\">\\xa0</div> </div> </div> <div class=\"apphub_CardContentAuthorBlock tall\"> <div class=\"apphub_friend_block_container\"> <a href=\"http://steamcommunity.com/id/DraganMKD87/\"> <div class=\"apphub_friend_block\" data-miniprofile=\"150882166\"> <div class=\"appHubIconHolder offline\"><img src=\"http://cdn.akamai.steamstatic.com/steamcommunity/public/images/avatars/c9/c98b64f921b810f752578e075dd4434861a9be09.jpg\"/></div> <div class=\"appHubIconHolder greyOverlay\"></div> <div class=\"apphub_CardContentAuthorName offline ellipsis\"><a href=\"http://steamcommunity.com/id/DraganMKD87/\">Forsaken Legendary Dan</a></div> <div class=\"apphub_CardContentMoreLink ellipsis\">91 products in account</div> </div> </a> </div> <div class=\"apphub_UserReviewCardStats\"> <div class=\"apphub_CardCommentCount alignNews\">218</div> </div> <div style=\"clear: left\"></div> </div> </div><div class=\"apphub_Card modalContentLink interactable\" data-modal-content-sizetofit=\"false\" data-modal-content-url=\"http://steamcommunity.com/id/Erincl/recommended/730/\" style=\"display: none\"> <div class=\"apphub_CardContentMain\"> <div class=\"apphub_UserReviewCardContent\"> <div class=\"found_helpful\"> 3,352 of 3,641 people (92%) found this review helpful 3,300 people found this review funny </div> <div class=\"vote_header\"> <div class=\"reviewInfo\"> <div class=\"thumb\"> <img height=\"44\" src=\"http://steamcommunity-a.akamaihd.net/public/shared/images/userreviews/icon_thumbsUp.png?v=1\" width=\"44\"/> </div> <div class=\"title\">Recommended</div> <div class=\"hours\">562.9 hrs on record</div> </div> <div style=\"clear: left\"></div> </div> <div class=\"apphub_CardTextContent\"> <div class=\"date_posted\">Posted: April 17, 2015</div> Counter Strike: Global Offensive <b>Counterstrike is a game that slowly ravages and pulverizes your soul each and every time you play it.</b> Everyone starts with the same thoughts when they play CS:GO: 1) 'Pfft. I'm never going to spend money in game buying skins and keys, that's stupid' 2) I'm never going to get that angry, it's only a game. 3) 'Meh, doesn't look that hard' <span class=\"bb_strike\">Within a month -</span> Within a week - 1) You\\u2019ve already have bought a P90 module skin because \"Oh, It's only 30p\" and you begin your slow downward spiral into the CS:GO marketplace, saving up for a knife and opening crates, in hopes of getting a knife which (deep on the inside, deep deep down) you know you're never going to get, and end up spending \\xa310 opening crates, and getting back 50p worth of skins back. 2) You\\u2019ve probably already threatened a handful of people with their lives; it\\u2019s a game that can turn any lovely human being into a <b>soul eating behemoth</b> within minutes of a match starting. Get used to wanting to assassinate everyone in your near vicinity. 3) You'll already gave uninstalled the game at <u>least</u> twice, in utter exasperation and in utter hope of cleansing your life from this game. <u>But you can't,</u> you'll always go back. The community is <b>utterly merciless and beastly,</b> with over half the people being angry 12 year old Russians. The betting will completely waste you and rip you of all of your favourite 50p worth of skins. And the trading is completely unreliable, leaving you to deal with steam support, which is 10x more brutal than the game itself. But of course you\\u2019ll go back, it\\u2019s CS:GO, it\\u2019s a drug. A soul destroying, mind numbing, murder spree inducing drug. <b>EDIT:</b> HA. Oops. </div> </div> <div class=\"UserReviewCardContent_Footer\"> <div class=\"gradient\">\\xa0</div> </div> </div> <div class=\"apphub_CardContentAuthorBlock tall\"> <div class=\"apphub_friend_block_container\"> <a href=\"http://steamcommunity.com/id/Erincl/\"> <div class=\"apphub_friend_block\" data-miniprofile=\"159061538\"> <div class=\"appHubIconHolder offline\"><img src=\"http://cdn.akamai.steamstatic.com/steamcommunity/public/images/avatars/8d/8d4348cab456f19695d247c50de072895edbfe97.jpg\"/></div> <div class=\"appHubIconHolder greyOverlay\"></div> <div class=\"apphub_CardContentAuthorName offline ellipsis\"><a href=\"http://steamcommunity.com/id/Erincl/\">.Erin.</a></div> <div class=\"apphub_CardContentMoreLink ellipsis\">54 products in account</div> </div> </a> </div> <div class=\"apphub_UserReviewCardStats\"> <div class=\"apphub_CardCommentCount alignNews\">101</div> </div> <div style=\"clear: left\"></div> </div> </div><div class=\"apphub_Card modalContentLink interactable\" data-modal-content-sizetofit=\"false\" data-modal-content-url=\"http://steamcommunity.com/id/CapitolKun/recommended/730/\" style=\"display: none\"> <div class=\"apphub_CardContentMain\"> <div class=\"apphub_UserReviewCardContent\"> <div class=\"found_helpful\"> 9,472 of 10,379 people (91%) found this review helpful 11,089 people found this review funny </div> <div class=\"vote_header\"> <div class=\"reviewInfo\"> <div class=\"thumb\"> <img height=\"44\" src=\"http://steamcommunity-a.akamaihd.net/public/shared/images/userreviews/icon_thumbsUp.png?v=1\" width=\"44\"/> </div> <div class=\"title\">Recommended</div> <div class=\"hours\">1,813.6 hrs on record</div> </div> <div style=\"clear: left\"></div> </div> <div class=\"apphub_CardTextContent\"> <div class=\"date_posted\">Posted: June 5, 2015</div> It's like Dota 2 but with less wizards and more Russians. </div> </div> <div class=\"UserReviewCardContent_Footer\"> <div class=\"gradient\">\\xa0</div> </div> </div> <div class=\"apphub_CardContentAuthorBlock tall\"> <div class=\"apphub_friend_block_container\"> <a href=\"http://steamcommunity.com/id/CapitolKun/\"> <div class=\"apphub_friend_block\" data-miniprofile=\"123785969\"> <div class=\"appHubIconHolder online\"><img src=\"http://cdn.akamai.steamstatic.com/steamcommunity/public/images/avatars/e1/e15d612a55b21c9728be9637364313550b7546a3.jpg\"/></div> <div class=\"appHubIconHolder greyOverlay\"></div> <div class=\"apphub_CardContentAuthorName online ellipsis\"><a href=\"http://steamcommunity.com/id/CapitolKun/\">\\u2606 cAPITou \\u2606</a></div> <div class=\"apphub_CardContentMoreLink ellipsis\">633 products in account</div> </div> </a> </div> <div class=\"apphub_UserReviewCardStats\"> <div class=\"apphub_CardCommentCount alignNews\">75</div> </div> <div style=\"clear: left\"></div> </div> </div><div class=\"apphub_Card modalContentLink interactable\" data-modal-content-sizetofit=\"false\" data-modal-content-url=\"http://steamcommunity.com/id/IsabellaDs/recommended/730/\" style=\"display: none\"> <div class=\"apphub_CardContentMain\"> <div class=\"apphub_UserReviewCardContent\"> <div class=\"found_helpful\"> 6,536 of 7,165 people (91%) found this review helpful 5,919 people found this review funny </div> <div class=\"vote_header\"> <div class=\"reviewInfo\"> <div class=\"thumb\"> <img height=\"44\" src=\"http://steamcommunity-a.akamaihd.net/public/shared/images/userreviews/icon_thumbsUp.png?v=1\" width=\"44\"/> </div> <div class=\"title\">Recommended</div> <div class=\"hours\">157.8 hrs on record</div> </div> <div style=\"clear: left\"></div> </div> <div class=\"apphub_CardTextContent\"> <div class=\"date_posted\">Posted: October 3, 2015</div> In this guide I will teach you how to play with russians , so here we go!!! 1) If your teammate did something wrong say -Ty dolbaeb? 2) If your teammate did something good say - Krasava! 3) If you won clutch round -sosat suka sosat 4) Lets rush b - idem rush b nahui (same for A/mid) 5) If something went wrong - pizdec 6) Give drop (politely) - dai drop pliz 7) Give drop (rude) - dai drop ili dam pizdi 8) I'm going to save - ja seivit' 9) If someone in other team plays good -pizdec cheater 10) Go eco guys, lets win next round with gun -eco odin raund a potom pizdi dadim s devaisami 11) When you win - gg izi 12) I'm from Russian - ja iz Rossii 13) American - pendosi 14) If you want to kick someone - kick etogo pidara 15) If teammates are thinking that you are bad -blyat pacani lagaet sorry 16) Polish - Kur.a You can add \"nahui\" to every phrase. Now you can play with russians and understand them </div> </div> <div class=\"UserReviewCardContent_Footer\"> <div class=\"gradient\">\\xa0</div> </div> </div> <div class=\"apphub_CardContentAuthorBlock tall\"> <div class=\"apphub_friend_block_container\"> <a href=\"http://steamcommunity.com/id/IsabellaDs/\"> <div class=\"apphub_friend_block\" data-miniprofile=\"154577418\"> <div class=\"appHubIconHolder offline\"><img src=\"http://cdn.akamai.steamstatic.com/steamcommunity/public/images/avatars/a7/a70681948259075d192ef77f6b46856dc12bf6b4.jpg\"/></div> <div class=\"appHubIconHolder greyOverlay\"></div> <div class=\"apphub_CardContentAuthorName offline ellipsis\"><a href=\"http://steamcommunity.com/id/IsabellaDs/\">Cecilia(away surf comp)</a></div> <div class=\"apphub_CardContentMoreLink ellipsis\">129 products in account</div> </div> </a> </div> <div class=\"apphub_UserReviewCardStats\"> <div class=\"apphub_CardCommentCount alignNews\">120</div> </div> <div style=\"clear: left\"></div> </div> </div><div class=\"apphub_Card modalContentLink interactable\" data-modal-content-sizetofit=\"false\" data-modal-content-url=\"http://steamcommunity.com/id/CrypterNOR/recommended/730/\" style=\"display: none\"> <div class=\"apphub_CardContentMain\"> <div class=\"apphub_UserReviewCardContent\"> <div class=\"found_helpful\"> 9,532 of 10,529 people (91%) found this review helpful 12,930 people found this review funny </div> <div class=\"vote_header\"> <div class=\"reviewInfo\"> <div class=\"thumb\"> <img height=\"44\" src=\"http://steamcommunity-a.akamaihd.net/public/shared/images/userreviews/icon_thumbsUp.png?v=1\" width=\"44\"/> </div> <div class=\"title\">Recommended</div> <div class=\"hours\">1,452.7 hrs on record</div> </div> <div style=\"clear: left\"></div> </div> <div class=\"apphub_CardTextContent\"> <div class=\"date_posted\">Posted: September 11, 2015</div> Where can i get the English version? </div> </div> <div class=\"UserReviewCardContent_Footer\"> <div class=\"gradient\">\\xa0</div> </div> </div> <div class=\"apphub_CardContentAuthorBlock tall\"> <div class=\"apphub_friend_block_container\"> <a href=\"http://steamcommunity.com/id/CrypterNOR/\"> <div class=\"apphub_friend_block\" data-miniprofile=\"45125793\"> <div class=\"appHubIconHolder online\"><img src=\"http://cdn.akamai.steamstatic.com/steamcommunity/public/images/avatars/e9/e942d8faff55f94e1c03bd737741d76e678c2fc7.jpg\"/></div> <div class=\"appHubIconHolder greyOverlay\"></div> <div class=\"apphub_CardContentAuthorName online ellipsis\"><a href=\"http://steamcommunity.com/id/CrypterNOR/\">Crypter</a></div> <div class=\"apphub_CardContentMoreLink ellipsis\">1,718 products in account</div> </div> </a> </div> <div class=\"apphub_UserReviewCardStats\"> <div class=\"apphub_CardCommentCount alignNews\">115</div> </div> <div style=\"clear: left\"></div> </div> </div> <script> $J(function() { RequestCurrentUserRecommendationVotes( [\"14446233\",\"16985058\",\"15656492\",\"14283984\",\"17331260\",\"18827070\",\"15419703\",\"16209388\",\"18303275\",\"17987914\"] ); } ); </script> </div> <form action=\"http://steamcommunity.com/app/730/homecontent/\" id=\"MoreContentForm1\" method=\"GET\" name=\"MoreContentForm1\"> <input name=\"userreviewsoffset\" type=\"hidden\" value=\"10\"/><input name=\"p\" type=\"hidden\" value=\"2\"/><input name=\"itemspage\" type=\"hidden\" value=\"2\"/><input name=\"screenshotspage\" type=\"hidden\" value=\"2\"/><input name=\"videospage\" type=\"hidden\" value=\"2\"/><input name=\"artpage\" type=\"hidden\" value=\"2\"/><input name=\"allguidepage\" type=\"hidden\" value=\"2\"/><input name=\"webguidepage\" type=\"hidden\" value=\"2\"/><input name=\"integratedguidepage\" type=\"hidden\" value=\"2\"/><input name=\"discussionspage\" type=\"hidden\" value=\"2\"/><input name=\"appid\" type=\"hidden\" value=\"730\"/><input name=\"appHubSubSection\" type=\"hidden\" value=\"10\"/> <input name=\"l\" type=\"hidden\" value=\"english\"/> <input name=\"appHubSubSection\" type=\"hidden\" value=\"10\"/> <input name=\"browsefilter\" type=\"hidden\" value=\"toprated\"/> <input name=\"filterLanguage\" type=\"hidden\" value=\"default\"/> <input name=\"searchText\" type=\"hidden\" value=\"\"/> <input name=\"forceanon\" type=\"hidden\" value=\"1\"/> </form></body></html>"
      ]
     },
     "execution_count": 31,
     "metadata": {},
     "output_type": "execute_result"
    }
   ],
   "source": [
    "soup.contents[0]"
   ]
  },
  {
   "cell_type": "code",
   "execution_count": 40,
   "metadata": {
    "collapsed": false
   },
   "outputs": [],
   "source": [
    "review_sections = soup.find_all(\"div\", \"apphub_CardContentMain\")\n",
    "review = review_sections[5]"
   ]
  },
  {
   "cell_type": "code",
   "execution_count": 41,
   "metadata": {
    "collapsed": false
   },
   "outputs": [
    {
     "data": {
      "text/plain": [
       "u'   11,320 of 12,327 people (92%) found this review helpful 13,940 people found this review funny       Recommended 287.4 hrs on record     Posted: November 1, 2015 Every team consists of 5 people: 1.You 2.Russian Guy 3.Another Russian Guy 4.Russian Guy who speaks English 5. A 6 year old kid who slept with your mother 11/10 Too much Salt and \\u0421*\\u043a\\u0430 \\u0411\\u043b\\u0438@\\u0442,not enough \\u2665\\u2665\\u2665\\u2665\\u2665 Would love to take another dose of salt and punch my little brother    \\xa0  '"
      ]
     },
     "execution_count": 41,
     "metadata": {},
     "output_type": "execute_result"
    }
   ],
   "source": [
    "review.text"
   ]
  },
  {
   "cell_type": "code",
   "execution_count": 42,
   "metadata": {
    "collapsed": false
   },
   "outputs": [],
   "source": [
    "link_blocks = list(soup.findAll('div',\n",
    "                                'apphub_Card modalContentLink interactable'))\n",
    "link_block = link_blocks[0]"
   ]
  },
  {
   "cell_type": "code",
   "execution_count": 43,
   "metadata": {
    "collapsed": false
   },
   "outputs": [
    {
     "data": {
      "text/plain": [
       "'http://steamcommunity.com/profiles/76561198092689293/recommended/730/'"
      ]
     },
     "execution_count": 43,
     "metadata": {},
     "output_type": "execute_result"
    }
   ],
   "source": [
    "review_url = link_block.attrs['data-modal-content-url']\n",
    "review_url_split = review_url.split('/')\n",
    "review_url"
   ]
  },
  {
   "cell_type": "code",
   "execution_count": 44,
   "metadata": {
    "collapsed": false
   },
   "outputs": [
    {
     "data": {
      "text/plain": [
       "'http://steamcommunity.com/profiles/76561198092689293'"
      ]
     },
     "execution_count": 44,
     "metadata": {},
     "output_type": "execute_result"
    }
   ],
   "source": [
    "profile_url = '/'.join(review_url_split[:5])\n",
    "profile_url"
   ]
  },
  {
   "cell_type": "code",
   "execution_count": 45,
   "metadata": {
    "collapsed": false
   },
   "outputs": [
    {
     "data": {
      "text/plain": [
       "[u' ',\n",
       " <div class=\"apphub_UserReviewCardContent\"> <div class=\"found_helpful\"> 11,320 of 12,327 people (92%) found this review helpful 13,940 people found this review funny </div> <div class=\"vote_header\"> <div class=\"reviewInfo\"> <div class=\"thumb\"> <img height=\"44\" src=\"http://steamcommunity-a.akamaihd.net/public/shared/images/userreviews/icon_thumbsUp.png?v=1\" width=\"44\"/> </div> <div class=\"title\">Recommended</div> <div class=\"hours\">287.4 hrs on record</div> </div> <div style=\"clear: left\"></div> </div> <div class=\"apphub_CardTextContent\"> <div class=\"date_posted\">Posted: November 1, 2015</div> Every team consists of 5 people: 1.You 2.Russian Guy 3.Another Russian Guy 4.Russian Guy who speaks English 5. A 6 year old kid who slept with your mother 11/10 Too much Salt and \\u0421*\\u043a\\u0430 \\u0411\\u043b\\u0438@\\u0442,not enough \\u2665\\u2665\\u2665\\u2665\\u2665 Would love to take another dose of salt and punch my little brother </div> </div>,\n",
       " u' ',\n",
       " <div class=\"UserReviewCardContent_Footer\"> <div class=\"gradient\">\\xa0</div> </div>,\n",
       " u' ']"
      ]
     },
     "execution_count": 45,
     "metadata": {},
     "output_type": "execute_result"
    }
   ],
   "source": [
    "list(review.children)"
   ]
  },
  {
   "cell_type": "code",
   "execution_count": 46,
   "metadata": {
    "collapsed": false
   },
   "outputs": [
    {
     "data": {
      "text/plain": [
       "[u' ',\n",
       " <div class=\"apphub_UserReviewCardContent\"> <div class=\"found_helpful\"> 11,320 of 12,327 people (92%) found this review helpful 13,940 people found this review funny </div> <div class=\"vote_header\"> <div class=\"reviewInfo\"> <div class=\"thumb\"> <img height=\"44\" src=\"http://steamcommunity-a.akamaihd.net/public/shared/images/userreviews/icon_thumbsUp.png?v=1\" width=\"44\"/> </div> <div class=\"title\">Recommended</div> <div class=\"hours\">287.4 hrs on record</div> </div> <div style=\"clear: left\"></div> </div> <div class=\"apphub_CardTextContent\"> <div class=\"date_posted\">Posted: November 1, 2015</div> Every team consists of 5 people: 1.You 2.Russian Guy 3.Another Russian Guy 4.Russian Guy who speaks English 5. A 6 year old kid who slept with your mother 11/10 Too much Salt and \\u0421*\\u043a\\u0430 \\u0411\\u043b\\u0438@\\u0442,not enough \\u2665\\u2665\\u2665\\u2665\\u2665 Would love to take another dose of salt and punch my little brother </div> </div>,\n",
       " u' ',\n",
       " <div class=\"found_helpful\"> 11,320 of 12,327 people (92%) found this review helpful 13,940 people found this review funny </div>,\n",
       " u' 11,320 of 12,327 people (92%) found this review helpful 13,940 people found this review funny ',\n",
       " u' ',\n",
       " <div class=\"vote_header\"> <div class=\"reviewInfo\"> <div class=\"thumb\"> <img height=\"44\" src=\"http://steamcommunity-a.akamaihd.net/public/shared/images/userreviews/icon_thumbsUp.png?v=1\" width=\"44\"/> </div> <div class=\"title\">Recommended</div> <div class=\"hours\">287.4 hrs on record</div> </div> <div style=\"clear: left\"></div> </div>,\n",
       " u' ',\n",
       " <div class=\"reviewInfo\"> <div class=\"thumb\"> <img height=\"44\" src=\"http://steamcommunity-a.akamaihd.net/public/shared/images/userreviews/icon_thumbsUp.png?v=1\" width=\"44\"/> </div> <div class=\"title\">Recommended</div> <div class=\"hours\">287.4 hrs on record</div> </div>,\n",
       " u' ',\n",
       " <div class=\"thumb\"> <img height=\"44\" src=\"http://steamcommunity-a.akamaihd.net/public/shared/images/userreviews/icon_thumbsUp.png?v=1\" width=\"44\"/> </div>,\n",
       " u' ',\n",
       " <img height=\"44\" src=\"http://steamcommunity-a.akamaihd.net/public/shared/images/userreviews/icon_thumbsUp.png?v=1\" width=\"44\"/>,\n",
       " u' ',\n",
       " u' ',\n",
       " <div class=\"title\">Recommended</div>,\n",
       " u'Recommended',\n",
       " u' ',\n",
       " <div class=\"hours\">287.4 hrs on record</div>,\n",
       " u'287.4 hrs on record',\n",
       " u' ',\n",
       " u' ',\n",
       " <div style=\"clear: left\"></div>,\n",
       " u' ',\n",
       " u' ',\n",
       " <div class=\"apphub_CardTextContent\"> <div class=\"date_posted\">Posted: November 1, 2015</div> Every team consists of 5 people: 1.You 2.Russian Guy 3.Another Russian Guy 4.Russian Guy who speaks English 5. A 6 year old kid who slept with your mother 11/10 Too much Salt and \\u0421*\\u043a\\u0430 \\u0411\\u043b\\u0438@\\u0442,not enough \\u2665\\u2665\\u2665\\u2665\\u2665 Would love to take another dose of salt and punch my little brother </div>,\n",
       " u' ',\n",
       " <div class=\"date_posted\">Posted: November 1, 2015</div>,\n",
       " u'Posted: November 1, 2015',\n",
       " u' Every team consists of 5 people: 1.You 2.Russian Guy 3.Another Russian Guy 4.Russian Guy who speaks English 5. A 6 year old kid who slept with your mother 11/10 Too much Salt and \\u0421*\\u043a\\u0430 \\u0411\\u043b\\u0438@\\u0442,not enough \\u2665\\u2665\\u2665\\u2665\\u2665 Would love to take another dose of salt and punch my little brother ',\n",
       " u' ',\n",
       " u' ',\n",
       " <div class=\"UserReviewCardContent_Footer\"> <div class=\"gradient\">\\xa0</div> </div>,\n",
       " u' ',\n",
       " <div class=\"gradient\">\\xa0</div>,\n",
       " u'\\xa0',\n",
       " u' ',\n",
       " u' ']"
      ]
     },
     "execution_count": 46,
     "metadata": {},
     "output_type": "execute_result"
    }
   ],
   "source": [
    "list(review.descendants)"
   ]
  },
  {
   "cell_type": "code",
   "execution_count": 47,
   "metadata": {
    "collapsed": false
   },
   "outputs": [
    {
     "data": {
      "text/plain": [
       "u' ,,, ,,, 11,320 of 12,327 people (92%) found this review helpful 13,940 people found this review funny ,,, ,,, ,,, ,,, ,,, ,,, ,,,Recommended,,, ,,,287.4 hrs on record,,, ,,, ,,, ,,, ,,, ,,,Posted: November 1, 2015,,, Every team consists of 5 people: 1.You 2.Russian Guy 3.Another Russian Guy 4.Russian Guy who speaks English 5. A 6 year old kid who slept with your mother 11/10 Too much Salt and \\u0421*\\u043a\\u0430 \\u0411\\u043b\\u0438@\\u0442,not enough \\u2665\\u2665\\u2665\\u2665\\u2665 Would love to take another dose of salt and punch my little brother ,,, ,,, ,,, ,,,\\xa0,,, ,,, '"
      ]
     },
     "execution_count": 47,
     "metadata": {},
     "output_type": "execute_result"
    }
   ],
   "source": [
    "review.getText(separator=\",,,\")"
   ]
  },
  {
   "cell_type": "code",
   "execution_count": 48,
   "metadata": {
    "collapsed": false,
    "scrolled": true
   },
   "outputs": [
    {
     "data": {
      "text/plain": [
       "[u'11,320 of 12,327 people (92%) found this review helpful 13,940 people found this review funny',\n",
       " u'Recommended',\n",
       " u'287.4 hrs on record',\n",
       " u'Posted: November 1, 2015',\n",
       " u'Every team consists of 5 people: 1.You 2.Russian Guy 3.Another Russian Guy 4.Russian Guy who speaks English 5. A 6 year old kid who slept with your mother 11/10 Too much Salt and \\u0421*\\u043a\\u0430 \\u0411\\u043b\\u0438@\\u0442,not enough \\u2665\\u2665\\u2665\\u2665\\u2665 Would love to take another dose of salt and punch my little brother']"
      ]
     },
     "execution_count": 48,
     "metadata": {},
     "output_type": "execute_result"
    }
   ],
   "source": [
    "stripped_strings = list(review.stripped_strings)\n",
    "stripped_strings"
   ]
  },
  {
   "cell_type": "code",
   "execution_count": 49,
   "metadata": {
    "collapsed": false
   },
   "outputs": [
    {
     "data": {
      "text/plain": [
       "[5, 5, 5, 5, 5, 5, 19, 5, 5, 5]"
      ]
     },
     "execution_count": 49,
     "metadata": {},
     "output_type": "execute_result"
    }
   ],
   "source": [
    "[len(list(review_sections[i].stripped_strings)) for i in range(10)]"
   ]
  },
  {
   "cell_type": "code",
   "execution_count": 50,
   "metadata": {
    "collapsed": false
   },
   "outputs": [
    {
     "data": {
      "text/plain": [
       "[u'9,472 of 10,379 people (91%) found this review helpful 11,089 people found this review funny',\n",
       " u'Recommended',\n",
       " u'1,813.6 hrs on record',\n",
       " u'Posted: June 5, 2015',\n",
       " u\"It's like Dota 2 but with less wizards and more Russians.\"]"
      ]
     },
     "execution_count": 50,
     "metadata": {},
     "output_type": "execute_result"
    }
   ],
   "source": [
    "list(review_sections[-3].stripped_strings)"
   ]
  },
  {
   "cell_type": "code",
   "execution_count": 51,
   "metadata": {
    "collapsed": false
   },
   "outputs": [
    {
     "data": {
      "text/plain": [
       "['1,703 of 1,977 people (86%) found this review helpful 1 person found this review funny',\n",
       " 'Recommended',\n",
       " '598.1 hrs on record',\n",
       " 'Posted: January 17, 2014',\n",
       " \"I've tried Rosetta Stone, duolingo, and even college classes, but nothing has taught me Russian or Brazilian better than this! And it's free!\",\n",
       " '76 products in account',\n",
       " '21']"
      ]
     },
     "execution_count": 51,
     "metadata": {},
     "output_type": "execute_result"
    }
   ],
   "source": [
    "stripped_strings2 = ['1,703 of 1,977 people (86%) found this review helpful 1 person found this review funny', 'Recommended', '598.1 hrs on record', 'Posted: January 17, 2014', \"I've tried Rosetta Stone, duolingo, and even college classes, but nothing has taught me Russian or Brazilian better than this! And it's free!\", '76 products in account', '21']\n",
    "stripped_strings2"
   ]
  },
  {
   "cell_type": "code",
   "execution_count": 52,
   "metadata": {
    "collapsed": false
   },
   "outputs": [
    {
     "data": {
      "text/plain": [
       "<_sre.SRE_Match at 0x103aa8648>"
      ]
     },
     "execution_count": 52,
     "metadata": {},
     "output_type": "execute_result"
    }
   ],
   "source": [
    "re.search(r', \\d{4}$', 'January 17, 2014')"
   ]
  },
  {
   "cell_type": "code",
   "execution_count": 53,
   "metadata": {
    "collapsed": false
   },
   "outputs": [
    {
     "data": {
      "text/plain": [
       "17"
      ]
     },
     "execution_count": 53,
     "metadata": {},
     "output_type": "execute_result"
    }
   ],
   "source": [
    "from dateutil import parser\n",
    "date = parser.parse('January 17, 2014')\n",
    "date.day"
   ]
  },
  {
   "cell_type": "code",
   "execution_count": 54,
   "metadata": {
    "collapsed": false
   },
   "outputs": [
    {
     "data": {
      "text/plain": [
       "['805 of 962 people (84%) found this review helpful',\n",
       " 'Recommended',\n",
       " '682.5 hrs on record',\n",
       " 'Posted: January 22, 2014',\n",
       " 'K I N T E R',\n",
       " '77 products in account',\n",
       " '1']"
      ]
     },
     "execution_count": 54,
     "metadata": {},
     "output_type": "execute_result"
    }
   ],
   "source": [
    "stripped_strings3 = ['805 of 962 people (84%) found this review helpful', 'Recommended', '682.5 hrs on record', 'Posted: January 22, 2014', 'K I N T E R', '77 products in account', '1']\n",
    "stripped_strings3"
   ]
  },
  {
   "cell_type": "code",
   "execution_count": 55,
   "metadata": {
    "collapsed": true
   },
   "outputs": [],
   "source": [
    "# Given the stripped_strings attribute, the relevant information can be extracted\n",
    "# exceedingly easily\n",
    "helpful_funny = stripped_strings[0]\n",
    "recommended = stripped_strings[1]\n",
    "hours = re.sub(r',',\n",
    "               r'',\n",
    "               stripped_strings[2].split()[0])\n",
    "date_posted = stripped_strings[3][8:]\n",
    "review = stripped_strings[4]\n",
    "#products_in_account = stripped_strings[6].split()[0]"
   ]
  },
  {
   "cell_type": "code",
   "execution_count": 56,
   "metadata": {
    "collapsed": false
   },
   "outputs": [
    {
     "data": {
      "text/plain": [
       "u'Recommended'"
      ]
     },
     "execution_count": 56,
     "metadata": {},
     "output_type": "execute_result"
    }
   ],
   "source": [
    "recommended"
   ]
  },
  {
   "cell_type": "code",
   "execution_count": 57,
   "metadata": {
    "collapsed": false
   },
   "outputs": [
    {
     "name": "stdout",
     "output_type": "stream",
     "text": [
      "found helpful: 11320\n",
      "total people that could have found it helpful: 12327\n",
      "percentage of people who found the review helpful: 0.918309402125%\n",
      "found review funny: 13,940\n"
     ]
    }
   ],
   "source": [
    "helpful = helpful_funny.split()[:9]\n",
    "funny = helpful_funny.split()[9:]\n",
    "found_helpful = re.sub(r',',\n",
    "                       r'',\n",
    "                       helpful[0])\n",
    "total_helpful_candidates = re.sub(r',',\n",
    "                                  r'',\n",
    "                                  helpful[2])\n",
    "helpful_percentage = float(found_helpful)/float(total_helpful_candidates)\n",
    "print(\"found helpful: {}\\ntotal people that could have found it helpful: {}\"\n",
    "      \"\\npercentage of people who found the review helpful: \"\n",
    "      \"{}%\".format(found_helpful,\n",
    "                   total_helpful_candidates,\n",
    "                   helpful_percentage))\n",
    "\n",
    "found_funny = funny[0]\n",
    "print(\"found review funny: {}\".format(found_funny))"
   ]
  },
  {
   "cell_type": "code",
   "execution_count": 198,
   "metadata": {
    "collapsed": false
   },
   "outputs": [],
   "source": [
    "date_posted += ', 2015'"
   ]
  },
  {
   "cell_type": "code",
   "execution_count": 58,
   "metadata": {
    "collapsed": false
   },
   "outputs": [
    {
     "data": {
      "text/plain": [
       "u'November 1, 2015'"
      ]
     },
     "execution_count": 58,
     "metadata": {},
     "output_type": "execute_result"
    }
   ],
   "source": [
    "date_posted"
   ]
  },
  {
   "cell_type": "code",
   "execution_count": 59,
   "metadata": {
    "collapsed": false
   },
   "outputs": [
    {
     "data": {
      "text/plain": [
       "{'date_posted': u'November 1, 2015',\n",
       " 'found_funny': u'13,940',\n",
       " 'found_helpful': u'11320',\n",
       " 'found_helpful_percentage': 0.9183094021254158,\n",
       " 'hours': u'287.4',\n",
       " 'profile_url': 'http://steamcommunity.com/profiles/76561198092689293',\n",
       " 'recommended': u'Recommended',\n",
       " 'review': u'Every team consists of 5 people: 1.You 2.Russian Guy 3.Another Russian Guy 4.Russian Guy who speaks English 5. A 6 year old kid who slept with your mother 11/10 Too much Salt and \\u0421*\\u043a\\u0430 \\u0411\\u043b\\u0438@\\u0442,not enough \\u2665\\u2665\\u2665\\u2665\\u2665 Would love to take another dose of salt and punch my little brother',\n",
       " 'review_url': 'http://steamcommunity.com/profiles/76561198092689293/recommended/730/',\n",
       " 'total_found_helpful_candidates': u'12327'}"
      ]
     },
     "execution_count": 59,
     "metadata": {},
     "output_type": "execute_result"
    }
   ],
   "source": [
    "# Let's define a dictionary with all of the stuff that's being collected\n",
    "review_dict = dict(review_url=review_url,\n",
    "                   profile_url=profile_url,\n",
    "                   recommended=recommended,\n",
    "                   hours=hours,\n",
    "                   date_posted=date_posted,\n",
    "                   review=review,\n",
    "                   #products_in_account=products_in_account,\n",
    "                   found_helpful=found_helpful,\n",
    "                   total_found_helpful_candidates=total_helpful_candidates,\n",
    "                   found_helpful_percentage=helpful_percentage,\n",
    "                   found_funny=found_funny)\n",
    "review_dict"
   ]
  },
  {
   "cell_type": "code",
   "execution_count": null,
   "metadata": {
    "collapsed": true
   },
   "outputs": [],
   "source": []
  }
 ],
 "metadata": {
  "kernelspec": {
   "display_name": "Python 2",
   "language": "python",
   "name": "python2"
  },
  "language_info": {
   "codemirror_mode": {
    "name": "ipython",
    "version": 2
   },
   "file_extension": ".py",
   "mimetype": "text/x-python",
   "name": "python",
   "nbconvert_exporter": "python",
   "pygments_lexer": "ipython2",
   "version": "2.7.11"
  }
 },
 "nbformat": 4,
 "nbformat_minor": 0
}
