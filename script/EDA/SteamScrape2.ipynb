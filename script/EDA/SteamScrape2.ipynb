{
 "cells": [
  {
   "cell_type": "code",
   "execution_count": 1,
   "metadata": {
    "collapsed": true
   },
   "outputs": [],
   "source": [
    "import urllib2\n",
    "import time\n",
    "from datetime import datetime\n",
    "from bs4 import BeautifulSoup\n",
    "import re, os\n",
    "import json\n",
    "from lxml import etree, html\n",
    "import requests\n",
    "import pandas as pd\n",
    "import numpy as np\n",
    "#from lxml import html"
   ]
  },
  {
   "cell_type": "code",
   "execution_count": 143,
   "metadata": {
    "collapsed": true
   },
   "outputs": [],
   "source": [
    "import matplotlib.pyplot as plt\n",
    "%matplotlib inline"
   ]
  },
  {
   "cell_type": "markdown",
   "metadata": {},
   "source": [
    "# Steam API\n",
    "## Friends From Friends\n",
    "```\n",
    "http://api.steampowered.com/ISteamUser/GetFriendList/v0001/?key=XXXX&steamid=XXXX&relationship=all\n",
    "```"
   ]
  },
  {
   "cell_type": "code",
   "execution_count": 32,
   "metadata": {
    "collapsed": false
   },
   "outputs": [],
   "source": [
    "def get_friends(id):\n",
    "    '''\n",
    "    Starting with a single user ID, return their friends\n",
    "    '''\n",
    "    key = os.environ['ACCESS_STEAM']\n",
    "    url = 'http://api.steampowered.com/ISteamUser/GetFriendList/v0001/?key='+key+'&steamid='+id+'&relationship=all'\n",
    "    return json.loads(urllib2.urlopen(url).read())['friendslist']['friends']"
   ]
  },
  {
   "cell_type": "markdown",
   "metadata": {},
   "source": [
    "## Basic User Info\n",
    "```\n",
    "http://api.steampowered.com/ISteamUser/GetPlayerSummaries/v0002/?key=XXXX&steamids=XXXX,YYYY\n",
    "```\n",
    "* Comma-delimited list of 64 bit Steam IDs to return profile information for. Up to 100 Steam IDs can be requested."
   ]
  },
  {
   "cell_type": "code",
   "execution_count": 30,
   "metadata": {
    "collapsed": true
   },
   "outputs": [],
   "source": [
    "def get_user_info(ids):\n",
    "    '''\n",
    "    For a user or users (up to 100 comma-delimited),\n",
    "    return some basic user information\n",
    "    '''\n",
    "    key = os.environ['ACCESS_STEAM']\n",
    "    url = 'http://api.steampowered.com/ISteamUser/GetPlayerSummaries/v0002/?key='+key+'&steamids='+ids\n",
    "    return json.loads(urllib2.urlopen(url).read())['response']['players'][0]"
   ]
  },
  {
   "cell_type": "markdown",
   "metadata": {},
   "source": [
    "## Player Bans\n",
    "```\n",
    "http://api.steampowered.com/ISteamUser/GetPlayerBans/v1/?key=XXXX&steamids=XXXX,YYYY\n",
    "```\n"
   ]
  },
  {
   "cell_type": "code",
   "execution_count": 13,
   "metadata": {
    "collapsed": true
   },
   "outputs": [],
   "source": [
    "def get_bans(ids):\n",
    "    '''\n",
    "    Looks at the IDS ban history\n",
    "    '''\n",
    "    key = os.environ['ACCESS_STEAM']\n",
    "    url = 'http://api.steampowered.com/ISteamUser/GetPlayerBans/v1/?key='+key+'&steamids='+ids\n",
    "    return json.loads(urllib2.urlopen(url).read())['players']"
   ]
  },
  {
   "cell_type": "markdown",
   "metadata": {},
   "source": [
    "# API Class Helper"
   ]
  },
  {
   "cell_type": "code",
   "execution_count": 616,
   "metadata": {
    "collapsed": false
   },
   "outputs": [],
   "source": [
    "class SteamStuff(object):\n",
    "    \"\"\"\n",
    "    Class to keep track of Steam APIs.\n",
    "    Ideally will return usful info.\n",
    "    Pass in the Steam API key to get going!\n",
    "    \"\"\"\n",
    "    \n",
    "    def __init__(self, key, gameid=None):\n",
    "        \"\"\"\n",
    "        Initialize with the Steam API key and Game ID (if needed)\n",
    "        \"\"\"\n",
    "        self.key = key\n",
    "        self.gameid = gameid\n",
    "        self.player_dict = {}\n",
    "    \n",
    "    \n",
    "    def get_bans(self, ids):\n",
    "        \"\"\"\n",
    "        INPUTS:\n",
    "          self - API key\n",
    "          ids - comma-delimited string of user ids, from 1 up to 100\n",
    "        OUTPUTS:\n",
    "          Dictionary:\n",
    "            {u'CommunityBanned': False,\n",
    "             u'DaysSinceLastBan': 0,\n",
    "             u'EconomyBan': u'none',\n",
    "             u'NumberOfGameBans': 0, \n",
    "             u'NumberOfVACBans': 0,\n",
    "             u'SteamId': u'76561197967398882', UPDATE - removed\n",
    "             u'VACBanned': False} VAC is for online gaming\n",
    "             \n",
    "        Looks at the 17-digit ID's ban history (up to 100 comma-delimited IDs)\n",
    "        \"\"\"\n",
    "        url = 'http://api.steampowered.com/ISteamUser/GetPlayerBans/v1/?key='+self.key+'&steamids='+ids\n",
    "        ban = json.loads(urllib2.urlopen(url).read())['players'][0]\n",
    "        desired_keys = set(ban.keys()) - set([\"SteamId\"])\n",
    "        return {k: ban[k] for k in desired_keys}\n",
    "    \n",
    "    \n",
    "    def get_user_info(self, ids):\n",
    "        \"\"\"\n",
    "        INPUTS:\n",
    "          self - API key\n",
    "          ids - 17-digit Steam ID string, up to 100 comma-delimited \n",
    "        OUTPUTS:\n",
    "          Dictionary:\n",
    "          {u'avatar': u'https://steamcdn-a.akamaihd.net/.../jpg', # REMOVED\n",
    "           u'avatarfull': u'https://steamcdn-a.akamaihd.net/.../full.jpg',\n",
    "           u'avatarmedium': u'https://steamcdn-a.akamaihd.net/.../medium.jpg', # REMOVED\n",
    "           u'communityvisibilitystate': 3,   # 1 - private profile, 3 - public profile\n",
    "           u'lastlogoff': 1460189153,  # epoch time\n",
    "           u'loccountrycode': u'VA',    # May need to look into how to pull that out. Some also have \"locstatecode\"\n",
    "           u'personaname': u'Deck Gumby',\n",
    "           u'personastate': 0,      # 0 - Offline, 1 - Online, 2 - Busy, 3 - Away, 4 - Snooze, 5 - looking to trade, 6 - looking to play.\n",
    "           u'personastateflags': 0, #\n",
    "           u'primaryclanid': u'103582791432291036',\n",
    "           u'profilestate': 1,      # If set, indicates the user has a community profile configured (will be set to '1')\n",
    "           u'profileurl': u'http://steamcommunity.com/id/deckgumby/',\n",
    "           u'realname': u'Ken Tucky',\n",
    "           u'steamid': u'76561197967398882',\n",
    "           u'timecreated': 1089486992}    # epoch time\n",
    "        For a user or users (up to 100 comma-delimited),\n",
    "        return some basic user information\n",
    "        \"\"\"\n",
    "        url = 'http://api.steampowered.com/ISteamUser/GetPlayerSummaries/v0002/?key='+self.key+'&steamids='+ids\n",
    "        user = json.loads(urllib2.urlopen(url).read())['response']['players'][0]\n",
    "        desired_keys = set(user.keys()) - set([\"steamid\", \"profileurl\", \"personastateflags\", \"avatar\", \"avatarmedium\"])\n",
    "        return {k: user[k] for k in desired_keys}\n",
    "    \n",
    "    \n",
    "    def get_friends(self, id, public=False):\n",
    "        \"\"\"\n",
    "        INPUTS:\n",
    "          self - API key\n",
    "          id - 17-digit Steam ID\n",
    "          public - NEEDS UPDATE - return only PUBLIC profiles (determined in get_user_info)\n",
    "        OUTPUT:\n",
    "          List of dictionaries, e.g.,\n",
    "            {u'friend_since': 0,\n",
    "             u'relationship': u'friend', UPDATE - now removes this field\n",
    "             u'steamid': u'76561197960559382'}\n",
    "        Starting with a single user ID, return their friends\n",
    "        If public, only return users who have public profiles\n",
    "        \"\"\"\n",
    "        url = 'http://api.steampowered.com/ISteamUser/GetFriendList/v0001/?key='+self.key+'&steamid='+id+'&relationship=all'\n",
    "        friends = json.loads(urllib2.urlopen(url).read())['friendslist']['friends']\n",
    "        excluding = set([\"relationship\"])\n",
    "        return [{k: friend[k] for k in (set(friend.keys()) - excluding)} for friend in friends]\n",
    "    \n",
    "    \n",
    "    def get_game_info(self, id):\n",
    "        \"\"\"\n",
    "        INPUTS:\n",
    "          self - API key\n",
    "          id - 17-digit Steam ID\n",
    "        OUTPUT:\n",
    "          List of dictionaries, e.g.,\n",
    "            {u'appid': 10,\n",
    "             u'has_community_visible_stats': True,\n",
    "             u'img_icon_url': u'6b0312cda02f5f777efa2f3318c307ff9acafbb5', UPDATE - removed\n",
    "             u'img_logo_url': u'af890f848dd606ac2fd4415de3c3f5e7a66fcb9f', UPDATE - removed\n",
    "             u'name': u'Counter-Strike',\n",
    "             u'playtime_forever': 0, in minutes\n",
    "             u'playtime_2weeks': 0} in minutes UPDATE - added whether played in two weeks or not\n",
    "             \n",
    "        Get owned game information for a give user\n",
    "        Returns a list of dictionaries\n",
    "        \"\"\"\n",
    "        url =  \"http://api.steampowered.com/IPlayerService/GetOwnedGames/v0001/?key=\"+self.key+\"&steamid=\"+id+\"&include_appinfo=1&include_played_free_games=1&format=json\"\n",
    "        games = json.loads(urllib2.urlopen(url).read())[\"response\"][\"games\"]\n",
    "        for i, game in enumerate(games):\n",
    "            desired_keys = set(game.keys()) - set([\"has_community_visible_stats\", \"img_icon_url\", \"img_logo_url\"])\n",
    "            if \"playtime_2weeks\" in desired_keys:\n",
    "                game = {k: game[k] for k in desired_keys}\n",
    "                games[i] = game\n",
    "            else:\n",
    "                game = {k: game[k] for k in desired_keys}\n",
    "                game[u\"playtime_2weeks\"] = 0\n",
    "                games[i] = game\n",
    "        return games\n",
    "    \n",
    "    \n",
    "    def get_player_achievments(self, id, appid):\n",
    "        \"\"\"\n",
    "        Given a player ID and appid, return a list of achievments\n",
    "        \"\"\"\n",
    "        url = \"http://api.steampowered.com/ISteamUserStats/GetPlayerAchievements/v0001/?appid=\"+appid+\"&key=\"+self.key+\"&steamid=\"+id\n",
    "        playerstats = json.loads(urllib2.urlopen(url).read())[\"playerstats\"]\n",
    "        return {k: playerstats[k] for k in (\"achievements\", \"gameName\")}\n",
    "    \n",
    "    \n",
    "    def scrape_profile(self, id):\n",
    "        \"\"\"\n",
    "        Look at a user's community profile\n",
    "        Maybe include '?xml=1' at the end of the url?\n",
    "        \"\"\"\n",
    "        url = \"http://steamcommunity.com/profiles/\"+id\n",
    "        text = requests.get(url).text\n",
    "        rm_delims = re.sub(r\"[\\t\\r\\n]+\", r\" \", text)\n",
    "        rm_breaks = re.sub(r\"\\<br\\>+\", r\" \", rm_delims).strip()\n",
    "        soup = BeautifulSoup(rm_breaks, \"lxml\")\n",
    "        ### profile summary statement\n",
    "        profile_summary = \" \".join(re.findall(r\"[0-9a-zA-Z\\.\\,\\!\\?\\'\\\"\\$]+\", \" \".join(\\\n",
    "                                              [list(link.stripped_strings) for link in soup.find_all(\\\n",
    "                                              \"div\", \"profile_header_summary\")][0][:-2])))\n",
    "        return profile_summary\n",
    "        \n",
    "        \n",
    "        \n",
    "        #pass\n",
    "    \n",
    "    \n",
    "    def game_info(self, appid):\n",
    "        \"\"\"\n",
    "        Get the information for a given game / appid\n",
    "        \"\"\"\n",
    "        url = \"\"\n",
    "        pass\n",
    "        \n",
    "        \n",
    "    def get_global_achievements(self, appid):\n",
    "        \"\"\"\n",
    "        Get the global achievement stats, kinda intersting\n",
    "        Currently returns a LIST of achievement name / global completion percentages; maybe average one number?\n",
    "        \"\"\"\n",
    "        url = \"http://api.steampowered.com/ISteamUserStats/GetGlobalAchievementPercentagesForApp/v0002/?gameid=\"+appid+\"&format=json\"\n",
    "        return json.loads(urllib2.urlopen(url).read())[\"achievementpercentages\"][\"achievements\"]\n",
    "    \n",
    "    \n",
    "    def build_dict(self, id):\n",
    "        \"\"\"\n",
    "        Reference above functions to build a player info dictionary\n",
    "        Eventually do a self.id kinda thang, naw mean?\n",
    "        \"\"\"\n",
    "        self.player_dict[\"ban_status\"] = self.get_bans(id)\n",
    "        self.player_dict[\"friends\"] = self.get_friends(id)\n",
    "        self.player_dict[\"game_info\"] = self.get_game_info(id)\n",
    "        self.player_dict[\"user_info\"] = self.get_user_info(id)\n",
    "        self.player_dict[\"profile_summary\"] = self.scrape_profile(id)\n",
    "        #self.player_dict[\"achievments\"] = self.get_player_achievments() needs a specific game\n",
    "    \n",
    "    \n",
    "    def check_out(self):\n",
    "        \"\"\"\n",
    "        Returns a built-up dictionary\n",
    "        \"\"\"\n",
    "        return self.player_dict"
   ]
  },
  {
   "cell_type": "code",
   "execution_count": 623,
   "metadata": {
    "collapsed": true
   },
   "outputs": [],
   "source": [
    "user_info = SteamStuff(os.environ[\"ACCESS_STEAM\"])\n",
    "my_id = os.environ[\"MY_STEAM\"]"
   ]
  },
  {
   "cell_type": "code",
   "execution_count": 624,
   "metadata": {
    "collapsed": false
   },
   "outputs": [
    {
     "data": {
      "text/plain": [
       "''"
      ]
     },
     "execution_count": 624,
     "metadata": {},
     "output_type": "execute_result"
    }
   ],
   "source": [
    "user_info.scrape_profile(\"76561197982823731\")"
   ]
  },
  {
   "cell_type": "code",
   "execution_count": 622,
   "metadata": {
    "collapsed": false
   },
   "outputs": [
    {
     "data": {
      "text/plain": [
       "{u'76561197982823731'}"
      ]
     },
     "execution_count": 622,
     "metadata": {},
     "output_type": "execute_result"
    }
   ],
   "source": [
    "privates"
   ]
  },
  {
   "cell_type": "code",
   "execution_count": null,
   "metadata": {
    "collapsed": true
   },
   "outputs": [],
   "source": []
  },
  {
   "cell_type": "code",
   "execution_count": null,
   "metadata": {
    "collapsed": true
   },
   "outputs": [],
   "source": []
  },
  {
   "cell_type": "code",
   "execution_count": 619,
   "metadata": {
    "collapsed": false
   },
   "outputs": [
    {
     "data": {
      "text/plain": [
       "u'Problem officer? I will ignore private profiles. Do NOT add me without a comment. H a l f L i f e 3 My SteamRep steamrep.com My Trade Link .......... ......... ........ ....... ...... ..... .... ... .. . A man saw a lady with big breasts. He asked, \"Excuse me, can I bite your breasts for $1000?\" She agrees, so they go to a secluded corner. She opens her blouse and the man puts his face in her breasts for 10 minutes.\" Eventually the lady asks, \"Aren\\'t you gonna bite them?\" He replies, \"No, it\\'s too expensive.\" c 3 hi stalker L'"
      ]
     },
     "execution_count": 619,
     "metadata": {},
     "output_type": "execute_result"
    }
   ],
   "source": [
    "user_info.scrape_profile(os.environ[\"STEAM_ID\"])"
   ]
  },
  {
   "cell_type": "code",
   "execution_count": 225,
   "metadata": {
    "collapsed": false
   },
   "outputs": [
    {
     "data": {
      "text/plain": [
       "{u'appid': 10,\n",
       " u'name': u'Counter-Strike',\n",
       " u'playtime_2weeks': 0,\n",
       " u'playtime_forever': 0}"
      ]
     },
     "execution_count": 225,
     "metadata": {},
     "output_type": "execute_result"
    }
   ],
   "source": [
    "user_info.get_game_info(my_id)[0]"
   ]
  },
  {
   "cell_type": "code",
   "execution_count": null,
   "metadata": {
    "collapsed": true
   },
   "outputs": [],
   "source": [
    "{k: my_info[k] for k in set(my_info.keys())}"
   ]
  },
  {
   "cell_type": "code",
   "execution_count": 173,
   "metadata": {
    "collapsed": false
   },
   "outputs": [
    {
     "data": {
      "text/plain": [
       "{u'avatar',\n",
       " u'avatarfull',\n",
       " u'communityvisibilitystate',\n",
       " u'lastlogoff',\n",
       " u'loccountrycode',\n",
       " u'personaname',\n",
       " u'personastate',\n",
       " u'personastateflags',\n",
       " u'primaryclanid',\n",
       " u'profilestate',\n",
       " u'profileurl',\n",
       " u'realname',\n",
       " u'timecreated'}"
      ]
     },
     "execution_count": 173,
     "metadata": {},
     "output_type": "execute_result"
    }
   ],
   "source": [
    "set(my_info.keys()) - set([\"steamid\", \"avatarmedium\", \"avatar\", ])"
   ]
  },
  {
   "cell_type": "code",
   "execution_count": null,
   "metadata": {
    "collapsed": true
   },
   "outputs": [],
   "source": []
  },
  {
   "cell_type": "code",
   "execution_count": null,
   "metadata": {
    "collapsed": true
   },
   "outputs": [],
   "source": []
  },
  {
   "cell_type": "code",
   "execution_count": null,
   "metadata": {
    "collapsed": true
   },
   "outputs": [],
   "source": []
  },
  {
   "cell_type": "code",
   "execution_count": 167,
   "metadata": {
    "collapsed": false
   },
   "outputs": [],
   "source": [
    "my_games = user_info.get_game_info(os.environ[\"STEAM_ID\"])"
   ]
  },
  {
   "cell_type": "code",
   "execution_count": null,
   "metadata": {
    "collapsed": true
   },
   "outputs": [],
   "source": [
    "game_traits = (\"appid\", \"name\", \"playtime_forever\", \"playtime_2weeks\")"
   ]
  },
  {
   "cell_type": "markdown",
   "metadata": {},
   "source": [
    "### Looking at indexing with lists versus sets in the `get_bans` function"
   ]
  },
  {
   "cell_type": "code",
   "execution_count": 156,
   "metadata": {
    "collapsed": false
   },
   "outputs": [
    {
     "name": "stdout",
     "output_type": "stream",
     "text": [
      "0.152573342323\n"
     ]
    }
   ],
   "source": [
    "t_time_list = []\n",
    "for t in xrange(100):\n",
    "    t0 = time.time()\n",
    "    bans = user_info.get_bans(os.environ[\"STEAM_ID\"])\n",
    "    t_time_list.append(time.time() - t0)\n",
    "print sum(t_time_list) / float(len(t_time))"
   ]
  },
  {
   "cell_type": "code",
   "execution_count": 152,
   "metadata": {
    "collapsed": false
   },
   "outputs": [
    {
     "name": "stdout",
     "output_type": "stream",
     "text": [
      "0.152361869812\n"
     ]
    }
   ],
   "source": [
    "t_time_set = []\n",
    "for t in xrange(100):\n",
    "    t0 = time.time()\n",
    "    bans = user_info.get_bans(os.environ[\"STEAM_ID\"])\n",
    "    t_time_set.append(time.time() - t0)\n",
    "print sum(t_time_set) / float(len(t_time))"
   ]
  },
  {
   "cell_type": "code",
   "execution_count": 163,
   "metadata": {
    "collapsed": false
   },
   "outputs": [
    {
     "data": {
      "image/png": "[encoded data removed]",
      "text/plain": [
       "<matplotlib.figure.Figure at 0x1157abc90>"
      ]
     },
     "metadata": {},
     "output_type": "display_data"
    }
   ],
   "source": [
    "plt.figure(figsize=(9,7))\n",
    "plt.hist(t_time_list, bins=20, alpha=0.5, label=\"List average time: {}s\".format(sum(t_time_list) / float(len(t_time_list))))\n",
    "plt.hist(t_time_set, bins=20, alpha=0.5, label=\"Set average time: {}s\".format(sum(t_time_set) / float(len(t_time_set))))\n",
    "plt.legend()\n",
    "plt.xlabel(\"Computation time [seconds]\", fontsize=15)\n",
    "plt.ylabel(\"Frequency\", fontsize=15)\n",
    "plt.title(\"Comparing List Versus Set Referencing\", fontsize=20)\n",
    "plt.show()"
   ]
  },
  {
   "cell_type": "code",
   "execution_count": null,
   "metadata": {
    "collapsed": true
   },
   "outputs": [],
   "source": []
  },
  {
   "cell_type": "code",
   "execution_count": null,
   "metadata": {
    "collapsed": true
   },
   "outputs": [],
   "source": []
  },
  {
   "cell_type": "code",
   "execution_count": 111,
   "metadata": {
    "collapsed": false
   },
   "outputs": [
    {
     "data": {
      "text/plain": [
       "{u'CommunityBanned': False,\n",
       " u'DaysSinceLastBan': 0,\n",
       " u'EconomyBan': u'none',\n",
       " u'NumberOfGameBans': 0,\n",
       " u'NumberOfVACBans': 0,\n",
       " u'SteamId': u'76561197967398882',\n",
       " u'VACBanned': False}"
      ]
     },
     "execution_count": 111,
     "metadata": {},
     "output_type": "execute_result"
    }
   ],
   "source": [
    "my_ban = user_info.get_bans(my_id)[0]\n",
    "my_ban"
   ]
  },
  {
   "cell_type": "code",
   "execution_count": 123,
   "metadata": {
    "collapsed": false
   },
   "outputs": [
    {
     "data": {
      "text/plain": [
       "[u'SteamId',\n",
       " u'NumberOfGameBans',\n",
       " u'NumberOfVACBans',\n",
       " u'DaysSinceLastBan',\n",
       " u'EconomyBan',\n",
       " u'VACBanned',\n",
       " u'CommunityBanned']"
      ]
     },
     "execution_count": 123,
     "metadata": {},
     "output_type": "execute_result"
    }
   ],
   "source": [
    "my_ban.keys()"
   ]
  },
  {
   "cell_type": "code",
   "execution_count": 124,
   "metadata": {
    "collapsed": false
   },
   "outputs": [
    {
     "data": {
      "text/plain": [
       "{u'CommunityBanned': False,\n",
       " u'DaysSinceLastBan': 0,\n",
       " u'EconomyBan': u'none',\n",
       " u'NumberOfGameBans': 0,\n",
       " u'NumberOfVACBans': 0,\n",
       " u'VACBanned': False}"
      ]
     },
     "execution_count": 124,
     "metadata": {},
     "output_type": "execute_result"
    }
   ],
   "source": [
    "{k: my_ban[k] for k in my_ban.keys() if k != \"SteamId\"}"
   ]
  },
  {
   "cell_type": "code",
   "execution_count": null,
   "metadata": {
    "collapsed": true
   },
   "outputs": [],
   "source": []
  },
  {
   "cell_type": "code",
   "execution_count": null,
   "metadata": {
    "collapsed": true
   },
   "outputs": [],
   "source": []
  },
  {
   "cell_type": "code",
   "execution_count": null,
   "metadata": {
    "collapsed": true
   },
   "outputs": [],
   "source": []
  },
  {
   "cell_type": "code",
   "execution_count": null,
   "metadata": {
    "collapsed": true
   },
   "outputs": [],
   "source": []
  },
  {
   "cell_type": "code",
   "execution_count": 62,
   "metadata": {
    "collapsed": false
   },
   "outputs": [
    {
     "data": {
      "text/plain": [
       "[{'friend_since': 0, 'steamid': u'76561197960559382'},\n",
       " {'friend_since': 0, 'steamid': u'76561197965632101'},\n",
       " {'friend_since': 1439867952, 'steamid': u'76561197982823731'},\n",
       " {'friend_since': 1404070051, 'steamid': u'76561197999882487'},\n",
       " {'friend_since': 1235243760, 'steamid': u'76561198001133491'},\n",
       " {'friend_since': 1323645317, 'steamid': u'76561198040942123'},\n",
       " {'friend_since': 1436489293, 'steamid': u'76561198086767969'}]"
      ]
     },
     "execution_count": 62,
     "metadata": {},
     "output_type": "execute_result"
    }
   ],
   "source": [
    "my_friends"
   ]
  },
  {
   "cell_type": "code",
   "execution_count": null,
   "metadata": {
    "collapsed": true
   },
   "outputs": [],
   "source": []
  },
  {
   "cell_type": "code",
   "execution_count": null,
   "metadata": {
    "collapsed": true
   },
   "outputs": [],
   "source": []
  },
  {
   "cell_type": "code",
   "execution_count": 95,
   "metadata": {
    "collapsed": false
   },
   "outputs": [],
   "source": [
    "user_info.build_dict(\"76561197960559382\")"
   ]
  },
  {
   "cell_type": "code",
   "execution_count": 96,
   "metadata": {
    "collapsed": false
   },
   "outputs": [
    {
     "data": {
      "text/plain": [
       "{'ban_status': [{u'CommunityBanned': False,\n",
       "   u'DaysSinceLastBan': 0,\n",
       "   u'EconomyBan': u'none',\n",
       "   u'NumberOfGameBans': 0,\n",
       "   u'NumberOfVACBans': 0,\n",
       "   u'SteamId': u'76561197960559382',\n",
       "   u'VACBanned': False}],\n",
       " 'friends': [{'friend_since': 1333587837, 'steamid': u'76561197965354025'},\n",
       "  {'friend_since': 1264043573, 'steamid': u'76561197965632101'},\n",
       "  {'friend_since': 0, 'steamid': u'76561197967398882'},\n",
       "  {'friend_since': 1376930686, 'steamid': u'76561197998697448'},\n",
       "  {'friend_since': 1379182820, 'steamid': u'76561198035400405'},\n",
       "  {'friend_since': 1299544676, 'steamid': u'76561198038557138'},\n",
       "  {'friend_since': 1432590579, 'steamid': u'76561198043288673'},\n",
       "  {'friend_since': 1409640898, 'steamid': u'76561198043341565'},\n",
       "  {'friend_since': 1421134780, 'steamid': u'76561198107669438'},\n",
       "  {'friend_since': 1419107564, 'steamid': u'76561198151979372'},\n",
       "  {'friend_since': 1411880944, 'steamid': u'76561198152154395'}],\n",
       " 'game_info': [{'appid': 10,\n",
       "   'name': u'Counter-Strike',\n",
       "   'playtime_2weeks': 0,\n",
       "   'playtime_forever': 0},\n",
       "  {'appid': 20,\n",
       "   'name': u'Team Fortress Classic',\n",
       "   'playtime_2weeks': 0,\n",
       "   'playtime_forever': 0},\n",
       "  {'appid': 30,\n",
       "   'name': u'Day of Defeat',\n",
       "   'playtime_2weeks': 0,\n",
       "   'playtime_forever': 0},\n",
       "  {'appid': 40,\n",
       "   'name': u'Deathmatch Classic',\n",
       "   'playtime_2weeks': 0,\n",
       "   'playtime_forever': 0},\n",
       "  {'appid': 50,\n",
       "   'name': u'Half-Life: Opposing Force',\n",
       "   'playtime_2weeks': 0,\n",
       "   'playtime_forever': 145},\n",
       "  {'appid': 60,\n",
       "   'name': u'Ricochet',\n",
       "   'playtime_2weeks': 0,\n",
       "   'playtime_forever': 0},\n",
       "  {'appid': 70,\n",
       "   'name': u'Half-Life',\n",
       "   'playtime_2weeks': 0,\n",
       "   'playtime_forever': 38},\n",
       "  {'appid': 130,\n",
       "   'name': u'Half-Life: Blue Shift',\n",
       "   'playtime_2weeks': 0,\n",
       "   'playtime_forever': 5},\n",
       "  {'appid': 80,\n",
       "   'name': u'Counter-Strike: Condition Zero',\n",
       "   'playtime_2weeks': 0,\n",
       "   'playtime_forever': 0},\n",
       "  {'appid': 100,\n",
       "   'name': u'Counter-Strike: Condition Zero Deleted Scenes',\n",
       "   'playtime_2weeks': 0,\n",
       "   'playtime_forever': 0},\n",
       "  {'appid': 220,\n",
       "   'name': u'Half-Life 2',\n",
       "   'playtime_2weeks': 0,\n",
       "   'playtime_forever': 646},\n",
       "  {'appid': 240,\n",
       "   'name': u'Counter-Strike: Source',\n",
       "   'playtime_2weeks': 0,\n",
       "   'playtime_forever': 650},\n",
       "  {'appid': 280,\n",
       "   'name': u'Half-Life: Source',\n",
       "   'playtime_2weeks': 0,\n",
       "   'playtime_forever': 0},\n",
       "  {'appid': 300,\n",
       "   'name': u'Day of Defeat: Source',\n",
       "   'playtime_2weeks': 0,\n",
       "   'playtime_forever': 30},\n",
       "  {'appid': 320,\n",
       "   'name': u'Half-Life 2: Deathmatch',\n",
       "   'playtime_2weeks': 0,\n",
       "   'playtime_forever': 0},\n",
       "  {'appid': 340,\n",
       "   'name': u'Half-Life 2: Lost Coast',\n",
       "   'playtime_2weeks': 0,\n",
       "   'playtime_forever': 0},\n",
       "  {'appid': 360,\n",
       "   'name': u'Half-Life Deathmatch: Source',\n",
       "   'playtime_2weeks': 0,\n",
       "   'playtime_forever': 0},\n",
       "  {'appid': 380,\n",
       "   'name': u'Half-Life 2: Episode One',\n",
       "   'playtime_2weeks': 0,\n",
       "   'playtime_forever': 0},\n",
       "  {'appid': 4000,\n",
       "   'name': u\"Garry's Mod\",\n",
       "   'playtime_2weeks': 0,\n",
       "   'playtime_forever': 591},\n",
       "  {'appid': 3480,\n",
       "   'name': u'Peggle Deluxe',\n",
       "   'playtime_2weeks': 0,\n",
       "   'playtime_forever': 2540},\n",
       "  {'appid': 7000,\n",
       "   'name': u'Tomb Raider: Legend',\n",
       "   'playtime_2weeks': 0,\n",
       "   'playtime_forever': 570},\n",
       "  {'appid': 8000,\n",
       "   'name': u'Tomb Raider: Anniversary',\n",
       "   'playtime_2weeks': 0,\n",
       "   'playtime_forever': 8},\n",
       "  {'appid': 400,\n",
       "   'name': u'Portal',\n",
       "   'playtime_2weeks': 0,\n",
       "   'playtime_forever': 0},\n",
       "  {'appid': 420,\n",
       "   'name': u'Half-Life 2: Episode Two',\n",
       "   'playtime_2weeks': 0,\n",
       "   'playtime_forever': 0},\n",
       "  {'appid': 4560,\n",
       "   'name': u'Company of Heroes',\n",
       "   'playtime_2weeks': 0,\n",
       "   'playtime_forever': 0},\n",
       "  {'appid': 9340,\n",
       "   'name': u'Company of Heroes: Opposing Fronts',\n",
       "   'playtime_2weeks': 0,\n",
       "   'playtime_forever': 0},\n",
       "  {'appid': 228200,\n",
       "   'name': u'Company of Heroes (New Steam Version)',\n",
       "   'playtime_2weeks': 0,\n",
       "   'playtime_forever': 0},\n",
       "  {'appid': 12900,\n",
       "   'name': u'Audiosurf',\n",
       "   'playtime_2weeks': 0,\n",
       "   'playtime_forever': 121},\n",
       "  {'appid': 2700,\n",
       "   'name': u'RollerCoaster Tycoon 3: Platinum!',\n",
       "   'playtime_2weeks': 0,\n",
       "   'playtime_forever': 0},\n",
       "  {'appid': 13200,\n",
       "   'name': u'Unreal II: The Awakening',\n",
       "   'playtime_2weeks': 0,\n",
       "   'playtime_forever': 0},\n",
       "  {'appid': 13210,\n",
       "   'name': u'Unreal Tournament 3: Black Edition',\n",
       "   'playtime_2weeks': 0,\n",
       "   'playtime_forever': 111},\n",
       "  {'appid': 13230,\n",
       "   'name': u'Unreal Tournament 2004',\n",
       "   'playtime_2weeks': 0,\n",
       "   'playtime_forever': 67},\n",
       "  {'appid': 13240,\n",
       "   'name': u'Unreal Tournament: Game of the Year Edition',\n",
       "   'playtime_2weeks': 0,\n",
       "   'playtime_forever': 0},\n",
       "  {'appid': 13250,\n",
       "   'name': u'Unreal Gold',\n",
       "   'playtime_2weeks': 0,\n",
       "   'playtime_forever': 0},\n",
       "  {'appid': 500,\n",
       "   'name': u'Left 4 Dead',\n",
       "   'playtime_2weeks': 0,\n",
       "   'playtime_forever': 318},\n",
       "  {'appid': 23310,\n",
       "   'name': u'The Last Remnant',\n",
       "   'playtime_2weeks': 0,\n",
       "   'playtime_forever': 0},\n",
       "  {'appid': 22320,\n",
       "   'name': u'The Elder Scrolls III: Morrowind',\n",
       "   'playtime_2weeks': 0,\n",
       "   'playtime_forever': 28},\n",
       "  {'appid': 23380,\n",
       "   'name': u'Gyromancer',\n",
       "   'playtime_2weeks': 0,\n",
       "   'playtime_forever': 0},\n",
       "  {'appid': 11450,\n",
       "   'name': u'Overlord',\n",
       "   'playtime_2weeks': 0,\n",
       "   'playtime_forever': 1},\n",
       "  {'appid': 12710,\n",
       "   'name': u'Overlord: Raising Hell',\n",
       "   'playtime_2weeks': 0,\n",
       "   'playtime_forever': 142},\n",
       "  {'appid': 12810,\n",
       "   'name': u'Overlord II',\n",
       "   'playtime_2weeks': 0,\n",
       "   'playtime_forever': 0},\n",
       "  {'appid': 550,\n",
       "   'name': u'Left 4 Dead 2',\n",
       "   'playtime_2weeks': 0,\n",
       "   'playtime_forever': 723},\n",
       "  {'appid': 223530,\n",
       "   'name': u'Left 4 Dead 2 Beta',\n",
       "   'playtime_2weeks': 0,\n",
       "   'playtime_forever': 0},\n",
       "  {'appid': 24980,\n",
       "   'name': u'Mass Effect 2',\n",
       "   'playtime_2weeks': 0,\n",
       "   'playtime_forever': 1901},\n",
       "  {'appid': 20820,\n",
       "   'name': u'Shatter',\n",
       "   'playtime_2weeks': 0,\n",
       "   'playtime_forever': 67},\n",
       "  {'appid': 31280,\n",
       "   'name': u'Poker Night at the Inventory',\n",
       "   'playtime_2weeks': 0,\n",
       "   'playtime_forever': 396},\n",
       "  {'appid': 43000,\n",
       "   'name': u'Front Mission Evolved',\n",
       "   'playtime_2weeks': 0,\n",
       "   'playtime_forever': 30},\n",
       "  {'appid': 47810,\n",
       "   'name': u'Dragon Age: Origins - Ultimate Edition',\n",
       "   'playtime_2weeks': 0,\n",
       "   'playtime_forever': 710},\n",
       "  {'appid': 8140,\n",
       "   'name': u'Tomb Raider: Underworld',\n",
       "   'playtime_2weeks': 0,\n",
       "   'playtime_forever': 0},\n",
       "  {'appid': 72850,\n",
       "   'name': u'The Elder Scrolls V: Skyrim',\n",
       "   'playtime_2weeks': 0,\n",
       "   'playtime_forever': 7998},\n",
       "  {'appid': 204030,\n",
       "   'name': u'Fable - The Lost Chapters',\n",
       "   'playtime_2weeks': 610,\n",
       "   'playtime_forever': 2101},\n",
       "  {'appid': 730,\n",
       "   'name': u'Counter-Strike: Global Offensive',\n",
       "   'playtime_2weeks': 0,\n",
       "   'playtime_forever': 2867},\n",
       "  {'appid': 218410,\n",
       "   'name': u\"Defender's Quest: Valley of the Forgotten\",\n",
       "   'playtime_2weeks': 0,\n",
       "   'playtime_forever': 103},\n",
       "  {'appid': 23300,\n",
       "   'name': u'Yosumin!',\n",
       "   'playtime_2weeks': 0,\n",
       "   'playtime_forever': 6},\n",
       "  {'appid': 224960,\n",
       "   'name': u'Tomb Raider I',\n",
       "   'playtime_2weeks': 0,\n",
       "   'playtime_forever': 0},\n",
       "  {'appid': 225300,\n",
       "   'name': u'Tomb Raider II',\n",
       "   'playtime_2weeks': 0,\n",
       "   'playtime_forever': 0},\n",
       "  {'appid': 225320,\n",
       "   'name': u'Tomb Raider III: Adventures of Lara Croft',\n",
       "   'playtime_2weeks': 0,\n",
       "   'playtime_forever': 0},\n",
       "  {'appid': 47890,\n",
       "   'name': u'The Sims(TM) 3',\n",
       "   'playtime_2weeks': 0,\n",
       "   'playtime_forever': 988},\n",
       "  {'appid': 218230,\n",
       "   'name': u'PlanetSide 2',\n",
       "   'playtime_2weeks': 0,\n",
       "   'playtime_forever': 69},\n",
       "  {'appid': 243870,\n",
       "   'name': u\"Tom Clancy's Ghost Recon Phantoms - NA\",\n",
       "   'playtime_2weeks': 0,\n",
       "   'playtime_forever': 586},\n",
       "  {'appid': 6000,\n",
       "   'name': u'Star Wars Republic Commando',\n",
       "   'playtime_2weeks': 0,\n",
       "   'playtime_forever': 1},\n",
       "  {'appid': 6020,\n",
       "   'name': u'Star Wars Jedi Knight: Jedi Academy',\n",
       "   'playtime_2weeks': 0,\n",
       "   'playtime_forever': 0},\n",
       "  {'appid': 6030,\n",
       "   'name': u'STAR WARS\\u2122 Jedi Knight II: Jedi Outcast\\u2122',\n",
       "   'playtime_2weeks': 0,\n",
       "   'playtime_forever': 19},\n",
       "  {'appid': 6060,\n",
       "   'name': u'STAR WARS\\u2122 Battlefront\\u2122 II',\n",
       "   'playtime_2weeks': 0,\n",
       "   'playtime_forever': 6},\n",
       "  {'appid': 32350,\n",
       "   'name': u'Star Wars Starfighter',\n",
       "   'playtime_2weeks': 0,\n",
       "   'playtime_forever': 13},\n",
       "  {'appid': 32370,\n",
       "   'name': u'Star Wars: Knights of the Old Republic',\n",
       "   'playtime_2weeks': 0,\n",
       "   'playtime_forever': 2038},\n",
       "  {'appid': 32380,\n",
       "   'name': u'Star Wars Jedi Knight: Dark Forces II',\n",
       "   'playtime_2weeks': 0,\n",
       "   'playtime_forever': 1},\n",
       "  {'appid': 32390,\n",
       "   'name': u'Star Wars - Jedi Knight: Mysteries of the Sith',\n",
       "   'playtime_2weeks': 0,\n",
       "   'playtime_forever': 1},\n",
       "  {'appid': 32400,\n",
       "   'name': u'STAR WARS\\u2122: Dark Forces',\n",
       "   'playtime_2weeks': 0,\n",
       "   'playtime_forever': 52},\n",
       "  {'appid': 32420,\n",
       "   'name': u'Star Wars The Clone Wars: Republic Heroes',\n",
       "   'playtime_2weeks': 0,\n",
       "   'playtime_forever': 0},\n",
       "  {'appid': 32430,\n",
       "   'name': u'Star Wars: The Force Unleashed Ultimate Sith Edition',\n",
       "   'playtime_2weeks': 0,\n",
       "   'playtime_forever': 0},\n",
       "  {'appid': 32470,\n",
       "   'name': u'Star Wars: Empire at War Gold',\n",
       "   'playtime_2weeks': 0,\n",
       "   'playtime_forever': 24},\n",
       "  {'appid': 32500,\n",
       "   'name': u'Star Wars: The Force Unleashed II',\n",
       "   'playtime_2weeks': 0,\n",
       "   'playtime_forever': 0},\n",
       "  {'appid': 208580,\n",
       "   'name': u'STAR WARS\\u2122 Knights of the Old Republic\\u2122 II: The Sith Lords\\u2122',\n",
       "   'playtime_2weeks': 0,\n",
       "   'playtime_forever': 2},\n",
       "  {'appid': 6850,\n",
       "   'name': u'Hitman 2: Silent Assassin',\n",
       "   'playtime_2weeks': 0,\n",
       "   'playtime_forever': 0},\n",
       "  {'appid': 6860,\n",
       "   'name': u'Hitman: Blood Money',\n",
       "   'playtime_2weeks': 0,\n",
       "   'playtime_forever': 0},\n",
       "  {'appid': 6900,\n",
       "   'name': u'Hitman: Codename 47',\n",
       "   'playtime_2weeks': 0,\n",
       "   'playtime_forever': 0},\n",
       "  {'appid': 203140,\n",
       "   'name': u'Hitman: Absolution',\n",
       "   'playtime_2weeks': 0,\n",
       "   'playtime_forever': 0},\n",
       "  {'appid': 205930,\n",
       "   'name': u'Hitman: Sniper Challenge',\n",
       "   'playtime_2weeks': 0,\n",
       "   'playtime_forever': 13},\n",
       "  {'appid': 204450,\n",
       "   'name': u'Call of Juarez Gunslinger',\n",
       "   'playtime_2weeks': 0,\n",
       "   'playtime_forever': 294},\n",
       "  {'appid': 222730,\n",
       "   'name': u'Reus',\n",
       "   'playtime_2weeks': 0,\n",
       "   'playtime_forever': 36},\n",
       "  {'appid': 210770,\n",
       "   'name': u'Sanctum 2',\n",
       "   'playtime_2weeks': 0,\n",
       "   'playtime_forever': 948},\n",
       "  {'appid': 241600,\n",
       "   'name': u'Rogue Legacy',\n",
       "   'playtime_2weeks': 0,\n",
       "   'playtime_forever': 2810},\n",
       "  {'appid': 242760,\n",
       "   'name': u'The Forest',\n",
       "   'playtime_2weeks': 0,\n",
       "   'playtime_forever': 897},\n",
       "  {'appid': 208140,\n",
       "   'name': u'Endless Space',\n",
       "   'playtime_2weeks': 0,\n",
       "   'playtime_forever': 55},\n",
       "  {'appid': 207140,\n",
       "   'name': u'SpeedRunners',\n",
       "   'playtime_2weeks': 0,\n",
       "   'playtime_forever': 0},\n",
       "  {'appid': 248820,\n",
       "   'name': u'Risk of Rain',\n",
       "   'playtime_2weeks': 0,\n",
       "   'playtime_forever': 199},\n",
       "  {'appid': 250760,\n",
       "   'name': u'Shovel Knight',\n",
       "   'playtime_2weeks': 0,\n",
       "   'playtime_forever': 290},\n",
       "  {'appid': 219640,\n",
       "   'name': u'Chivalry: Medieval Warfare',\n",
       "   'playtime_2weeks': 0,\n",
       "   'playtime_forever': 22},\n",
       "  {'appid': 232210,\n",
       "   'name': u'Patch testing for Chivalry',\n",
       "   'playtime_2weeks': 0,\n",
       "   'playtime_forever': 0},\n",
       "  {'appid': 251570,\n",
       "   'name': u'7 Days to Die',\n",
       "   'playtime_2weeks': 0,\n",
       "   'playtime_forever': 148},\n",
       "  {'appid': 253230,\n",
       "   'name': u'A Hat in Time - Beta Build',\n",
       "   'playtime_2weeks': 0,\n",
       "   'playtime_forever': 361},\n",
       "  {'appid': 205100,\n",
       "   'name': u'Dishonored',\n",
       "   'playtime_2weeks': 0,\n",
       "   'playtime_forever': 165},\n",
       "  {'appid': 49520,\n",
       "   'name': u'Borderlands 2',\n",
       "   'playtime_2weeks': 0,\n",
       "   'playtime_forever': 3829},\n",
       "  {'appid': 265930,\n",
       "   'name': u'Goat Simulator',\n",
       "   'playtime_2weeks': 0,\n",
       "   'playtime_forever': 280},\n",
       "  {'appid': 221100,\n",
       "   'name': u'DayZ',\n",
       "   'playtime_2weeks': 0,\n",
       "   'playtime_forever': 1887},\n",
       "  {'appid': 203160,\n",
       "   'name': u'Tomb Raider',\n",
       "   'playtime_2weeks': 0,\n",
       "   'playtime_forever': 0},\n",
       "  {'appid': 274920,\n",
       "   'name': u'FaceRig',\n",
       "   'playtime_2weeks': 0,\n",
       "   'playtime_forever': 69},\n",
       "  {'appid': 43160,\n",
       "   'name': u'Metro: Last Light',\n",
       "   'playtime_2weeks': 0,\n",
       "   'playtime_forever': 349},\n",
       "  {'appid': 236430,\n",
       "   'name': u'DARK SOULS\\u2122 II',\n",
       "   'playtime_2weeks': 0,\n",
       "   'playtime_forever': 734},\n",
       "  {'appid': 233290,\n",
       "   'name': u'MURDERED: SOUL SUSPECT\\u2122',\n",
       "   'playtime_2weeks': 0,\n",
       "   'playtime_forever': 0},\n",
       "  {'appid': 9480,\n",
       "   'name': u'Saints Row 2',\n",
       "   'playtime_2weeks': 0,\n",
       "   'playtime_forever': 0},\n",
       "  {'appid': 55230,\n",
       "   'name': u'Saints Row: The Third',\n",
       "   'playtime_2weeks': 0,\n",
       "   'playtime_forever': 0},\n",
       "  {'appid': 206420,\n",
       "   'name': u'Saints Row IV',\n",
       "   'playtime_2weeks': 0,\n",
       "   'playtime_forever': 288},\n",
       "  {'appid': 227940,\n",
       "   'name': u'Heroes & Generals',\n",
       "   'playtime_2weeks': 0,\n",
       "   'playtime_forever': 94},\n",
       "  {'appid': 247080,\n",
       "   'name': u'Crypt of the NecroDancer',\n",
       "   'playtime_2weeks': 0,\n",
       "   'playtime_forever': 1139},\n",
       "  {'appid': 317360,\n",
       "   'name': u'Double Action: Boogaloo',\n",
       "   'playtime_2weeks': 0,\n",
       "   'playtime_forever': 38},\n",
       "  {'appid': 258160,\n",
       "   'name': u'Rise of Incarnates',\n",
       "   'playtime_2weeks': 0,\n",
       "   'playtime_forever': 0},\n",
       "  {'appid': 319510,\n",
       "   'name': u\"Five Nights at Freddy's\",\n",
       "   'playtime_2weeks': 0,\n",
       "   'playtime_forever': 23},\n",
       "  {'appid': 6880,\n",
       "   'name': u'Just Cause',\n",
       "   'playtime_2weeks': 0,\n",
       "   'playtime_forever': 0},\n",
       "  {'appid': 8190,\n",
       "   'name': u'Just Cause 2',\n",
       "   'playtime_2weeks': 0,\n",
       "   'playtime_forever': 0},\n",
       "  {'appid': 323370,\n",
       "   'name': u'TERA',\n",
       "   'playtime_2weeks': 0,\n",
       "   'playtime_forever': 54},\n",
       "  {'appid': 289690,\n",
       "   'name': u'Lara Croft and the Temple of Osiris',\n",
       "   'playtime_2weeks': 0,\n",
       "   'playtime_forever': 0},\n",
       "  {'appid': 298110,\n",
       "   'name': u'Far Cry 4',\n",
       "   'playtime_2weeks': 0,\n",
       "   'playtime_forever': 178},\n",
       "  {'appid': 273350,\n",
       "   'name': u'Evolve',\n",
       "   'playtime_2weeks': 0,\n",
       "   'playtime_forever': 132},\n",
       "  {'appid': 319630,\n",
       "   'name': u'Life Is Strange\\u2122',\n",
       "   'playtime_2weeks': 0,\n",
       "   'playtime_forever': 0},\n",
       "  {'appid': 271590,\n",
       "   'name': u'Grand Theft Auto V',\n",
       "   'playtime_2weeks': 0,\n",
       "   'playtime_forever': 172},\n",
       "  {'appid': 356670,\n",
       "   'name': u\"Spooky's House of Jump Scares\",\n",
       "   'playtime_2weeks': 0,\n",
       "   'playtime_forever': 4},\n",
       "  {'appid': 377160,\n",
       "   'name': u'Fallout 4',\n",
       "   'playtime_2weeks': 0,\n",
       "   'playtime_forever': 1190},\n",
       "  {'appid': 369200,\n",
       "   'name': u'Ghost in the Shell Stand Alone Complex First Assault Online',\n",
       "   'playtime_2weeks': 0,\n",
       "   'playtime_forever': 36},\n",
       "  {'appid': 440,\n",
       "   'name': u'Team Fortress 2',\n",
       "   'playtime_2weeks': 0,\n",
       "   'playtime_forever': 3736}],\n",
       " 'user_info': {u'avatar': u'https://steamcdn-a.akamaihd.net/steamcommunity/public/images/avatars/31/31eb7b84649890ac06a6e4a51391a188a7084308.jpg',\n",
       "  u'avatarfull': u'https://steamcdn-a.akamaihd.net/steamcommunity/public/images/avatars/31/31eb7b84649890ac06a6e4a51391a188a7084308_full.jpg',\n",
       "  u'avatarmedium': u'https://steamcdn-a.akamaihd.net/steamcommunity/public/images/avatars/31/31eb7b84649890ac06a6e4a51391a188a7084308_medium.jpg',\n",
       "  u'communityvisibilitystate': 3,\n",
       "  u'lastlogoff': 1460419140,\n",
       "  u'loccountrycode': u'US',\n",
       "  u'locstatecode': u'WA',\n",
       "  u'personaname': u'Beardsley',\n",
       "  u'personastate': 0,\n",
       "  u'personastateflags': 0,\n",
       "  u'primaryclanid': u'103582791429521408',\n",
       "  u'profilestate': 1,\n",
       "  u'profileurl': u'http://steamcommunity.com/profiles/76561197960559382/',\n",
       "  u'realname': u'Me',\n",
       "  u'steamid': u'76561197960559382',\n",
       "  u'timecreated': 1063508781}}"
      ]
     },
     "execution_count": 96,
     "metadata": {},
     "output_type": "execute_result"
    }
   ],
   "source": [
    "user_info.check_out()"
   ]
  },
  {
   "cell_type": "code",
   "execution_count": null,
   "metadata": {
    "collapsed": true
   },
   "outputs": [],
   "source": []
  },
  {
   "cell_type": "code",
   "execution_count": null,
   "metadata": {
    "collapsed": true
   },
   "outputs": [],
   "source": []
  },
  {
   "cell_type": "code",
   "execution_count": null,
   "metadata": {
    "collapsed": true
   },
   "outputs": [],
   "source": []
  },
  {
   "cell_type": "code",
   "execution_count": null,
   "metadata": {
    "collapsed": true
   },
   "outputs": [],
   "source": []
  },
  {
   "cell_type": "code",
   "execution_count": 32,
   "metadata": {
    "collapsed": false
   },
   "outputs": [
    {
     "data": {
      "text/plain": [
       "1063508781"
      ]
     },
     "execution_count": 32,
     "metadata": {},
     "output_type": "execute_result"
    }
   ],
   "source": [
    "user_things = (\"avatarmedium\", \"communityvisibilitystate\", \"lastlogoff\", \"loccountrycode\", \"locstatecode\", )"
   ]
  },
  {
   "cell_type": "code",
   "execution_count": 33,
   "metadata": {
    "collapsed": true
   },
   "outputs": [],
   "source": [
    "me = user_info.get_user_info(my_id)[\"timecreated\"]"
   ]
  },
  {
   "cell_type": "code",
   "execution_count": null,
   "metadata": {
    "collapsed": true
   },
   "outputs": [],
   "source": []
  },
  {
   "cell_type": "code",
   "execution_count": 242,
   "metadata": {
    "collapsed": false
   },
   "outputs": [],
   "source": [
    "minuser = user_info.get_user_info(\"76561198055995417\")"
   ]
  },
  {
   "cell_type": "code",
   "execution_count": 271,
   "metadata": {
    "collapsed": false
   },
   "outputs": [],
   "source": [
    "mytime = user_info.get_game_info(\"76561198080951917\")"
   ]
  },
  {
   "cell_type": "code",
   "execution_count": 272,
   "metadata": {
    "collapsed": false
   },
   "outputs": [],
   "source": [
    "timesum = 0\n",
    "for game in mytime:\n",
    "    timesum += game[\"playtime_forever\"]"
   ]
  },
  {
   "cell_type": "code",
   "execution_count": 260,
   "metadata": {
    "collapsed": true
   },
   "outputs": [],
   "source": [
    "me = user_info.get_user_info(my_id)"
   ]
  },
  {
   "cell_type": "code",
   "execution_count": 277,
   "metadata": {
    "collapsed": false
   },
   "outputs": [
    {
     "data": {
      "text/plain": [
       "time.struct_time(tm_year=2013, tm_mon=11, tm_mday=22, tm_hour=22, tm_min=47, tm_sec=4, tm_wday=4, tm_yday=326, tm_isdst=0)"
      ]
     },
     "execution_count": 277,
     "metadata": {},
     "output_type": "execute_result"
    }
   ],
   "source": [
    "time.gmtime(1385160424)"
   ]
  },
  {
   "cell_type": "code",
   "execution_count": null,
   "metadata": {
    "collapsed": true
   },
   "outputs": [],
   "source": []
  },
  {
   "cell_type": "code",
   "execution_count": null,
   "metadata": {
    "collapsed": true
   },
   "outputs": [],
   "source": []
  },
  {
   "cell_type": "code",
   "execution_count": null,
   "metadata": {
    "collapsed": true
   },
   "outputs": [],
   "source": []
  },
  {
   "cell_type": "code",
   "execution_count": 266,
   "metadata": {
    "collapsed": false
   },
   "outputs": [
    {
     "data": {
      "text/plain": [
       "[u'steamid',\n",
       " u'primaryclanid',\n",
       " u'realname',\n",
       " u'personaname',\n",
       " u'personastate',\n",
       " u'personastateflags',\n",
       " u'communityvisibilitystate',\n",
       " u'loccountrycode',\n",
       " u'profilestate',\n",
       " u'profileurl',\n",
       " u'loccityid',\n",
       " u'timecreated',\n",
       " u'avatar',\n",
       " u'locstatecode',\n",
       " u'commentpermission',\n",
       " u'avatarfull',\n",
       " u'avatarmedium',\n",
       " u'lastlogoff']"
      ]
     },
     "execution_count": 266,
     "metadata": {},
     "output_type": "execute_result"
    }
   ],
   "source": [
    "maxuser"
   ]
  },
  {
   "cell_type": "code",
   "execution_count": 268,
   "metadata": {
    "collapsed": false
   },
   "outputs": [
    {
     "data": {
      "text/plain": [
       "True"
      ]
     },
     "execution_count": 268,
     "metadata": {},
     "output_type": "execute_result"
    }
   ],
   "source": [
    "\"timecreated\" "
   ]
  },
  {
   "cell_type": "code",
   "execution_count": 270,
   "metadata": {
    "collapsed": false
   },
   "outputs": [
    {
     "data": {
      "text/plain": [
       "{u'avatar': u'https://steamcdn-a.akamaihd.net/steamcommunity/public/images/avatars/00/00a40297103baaf965c72cff9505517e82d1e6e6.jpg',\n",
       " u'avatarfull': u'https://steamcdn-a.akamaihd.net/steamcommunity/public/images/avatars/00/00a40297103baaf965c72cff9505517e82d1e6e6_full.jpg',\n",
       " u'avatarmedium': u'https://steamcdn-a.akamaihd.net/steamcommunity/public/images/avatars/00/00a40297103baaf965c72cff9505517e82d1e6e6_medium.jpg',\n",
       " u'communityvisibilitystate': 3,\n",
       " u'lastlogoff': 1460403784,\n",
       " u'personaname': u'Saqphire',\n",
       " u'personastate': 0,\n",
       " u'personastateflags': 0,\n",
       " u'primaryclanid': u'103582791435567598',\n",
       " u'profilestate': 1,\n",
       " u'profileurl': u'http://steamcommunity.com/id/stoppy250/',\n",
       " u'steamid': u'76561197982503327',\n",
       " u'timecreated': 1147247124}"
      ]
     },
     "execution_count": 270,
     "metadata": {},
     "output_type": "execute_result"
    }
   ],
   "source": [
    "user_info.get_user_info(\"76561197982503327\")"
   ]
  },
  {
   "cell_type": "code",
   "execution_count": 234,
   "metadata": {
    "collapsed": false,
    "scrolled": true
   },
   "outputs": [
    {
     "name": "stdout",
     "output_type": "stream",
     "text": [
      "15 76561197964141676\n",
      "13 76561197982503327\n",
      "14 76561198008493646\n",
      "16 76561198020514035\n",
      "17 76561198021157234\n",
      "17 76561198028020632\n",
      "15 76561198034419491\n",
      "16 76561198037675578\n",
      "16 76561198041067323\n",
      "14 76561198048059710\n",
      "15 76561198050672678\n",
      "14 76561198051124946\n",
      "10 76561198055995417\n",
      "16 76561198057213632\n",
      "13 76561198057500019\n",
      "16 76561198058486398\n",
      "16 76561198061145396\n",
      "10 76561198061166639\n",
      "16 76561198065792404\n",
      "15 76561198068205028\n",
      "18 76561198068988796\n",
      "14 76561198069850892\n",
      "15 76561198070196313\n",
      "13 76561198072611115\n",
      "15 76561198072900944\n",
      "14 76561198073254941\n",
      "15 76561198074486038\n",
      "11 76561198075361548\n",
      "14 76561198079411549\n",
      "15 76561198079734968\n",
      "16 76561198080050523\n",
      "18 76561198081538486\n",
      "15 76561198081599434\n",
      "17 76561198083397058\n",
      "16 76561198086190488\n",
      "16 76561198091268651\n",
      "14 76561198091820426\n",
      "14 76561198092279597\n",
      "15 76561198093338574\n",
      "14 76561198094820952\n",
      "15 76561198095698406\n",
      "14 76561198096818345\n",
      "15 76561198098219381\n",
      "14 76561198100354694\n",
      "17 76561198101511272\n",
      "15 76561198101557876\n",
      "17 76561198101866590\n",
      "14 76561198106004741\n",
      "15 76561198107049369\n",
      "13 76561198112363136\n",
      "15 76561198113192055\n",
      "15 76561198113604283\n",
      "14 76561198118916172\n",
      "14 76561198122303110\n",
      "14 76561198122499616\n",
      "16 76561198124973782\n",
      "16 76561198132659643\n",
      "15 76561198132961085\n",
      "14 76561198134318538\n",
      "15 76561198137212178\n",
      "14 76561198137731415\n",
      "14 76561198138095802\n",
      "17 76561198142365153\n",
      "14 76561198142467627\n",
      "14 76561198143230527\n",
      "15 76561198144013356\n",
      "12 76561198150586826\n",
      "13 76561198152181260\n",
      "13 76561198152936830\n",
      "16 76561198154292299\n",
      "13 76561198157512569\n",
      "17 76561198157617216\n",
      "14 76561198162556611\n",
      "13 76561198165458349\n",
      "17 76561198173800557\n",
      "14 76561198188626270\n",
      "15 76561198197182363\n",
      "15 76561198205206660\n",
      "14 76561198209511717\n",
      "15 76561198238396670\n",
      "12 76561198248603644\n",
      "13 76561198254828241\n",
      "14 76561198271082457\n"
     ]
    }
   ],
   "source": [
    "for dude in look_at_me:\n",
    "    print len(user_info.get_user_info(dude)), dude"
   ]
  },
  {
   "cell_type": "code",
   "execution_count": null,
   "metadata": {
    "collapsed": true
   },
   "outputs": [],
   "source": []
  },
  {
   "cell_type": "code",
   "execution_count": null,
   "metadata": {
    "collapsed": true
   },
   "outputs": [],
   "source": []
  },
  {
   "cell_type": "code",
   "execution_count": 357,
   "metadata": {
    "collapsed": false
   },
   "outputs": [
    {
     "data": {
      "text/plain": [
       "u'Problem officer? I will ignore private profiles. Do NOT add me without a comment. H a l f L i f e 3 My SteamRep steamrep.com My Trade Link .......... ......... ........ ....... ...... ..... .... ... .. . A man saw a lady with big breasts. He asked, \"Excuse me, can I bite your breasts for $1000?\" She agrees, so they go to a secluded corner. She opens her blouse and the man puts his face in her breasts for 10 minutes.\" Eventually the lady asks, \"Aren\\'t you gonna bite them?\" He replies, \"No, it\\'s too expensive.\" c 3 hi stalker L'"
      ]
     },
     "execution_count": 357,
     "metadata": {},
     "output_type": "execute_result"
    }
   ],
   "source": [
    "user_info.scrape_profile(os.environ[\"STEAM_ID\"])"
   ]
  },
  {
   "cell_type": "code",
   "execution_count": null,
   "metadata": {
    "collapsed": true
   },
   "outputs": [],
   "source": []
  },
  {
   "cell_type": "code",
   "execution_count": 149,
   "metadata": {
    "collapsed": false
   },
   "outputs": [],
   "source": [
    "my_id = \"76561197967398882\"\n",
    "csid = \"730\""
   ]
  },
  {
   "cell_type": "code",
   "execution_count": null,
   "metadata": {
    "collapsed": true
   },
   "outputs": [],
   "source": []
  },
  {
   "cell_type": "code",
   "execution_count": 355,
   "metadata": {
    "collapsed": false
   },
   "outputs": [
    {
     "data": {
      "text/plain": [
       "''"
      ]
     },
     "execution_count": 355,
     "metadata": {},
     "output_type": "execute_result"
    }
   ],
   "source": [
    "user_info.scrape_profile(\"76561198061166639\")"
   ]
  },
  {
   "cell_type": "markdown",
   "metadata": {},
   "source": [
    "## Game Schema; not sure if worth looking into"
   ]
  },
  {
   "cell_type": "code",
   "execution_count": 166,
   "metadata": {
    "collapsed": false
   },
   "outputs": [],
   "source": [
    "url = \"http://api.steampowered.com/ISteamUserStats/GetSchemaForGame/v2/?key=\"+os.environ[\"ACCESS_STEAM\"]+\"&appid=730\""
   ]
  },
  {
   "cell_type": "code",
   "execution_count": 176,
   "metadata": {
    "collapsed": false
   },
   "outputs": [],
   "source": [
    "gamestuff = json.loads(urllib2.urlopen(url).read())"
   ]
  },
  {
   "cell_type": "code",
   "execution_count": 180,
   "metadata": {
    "collapsed": false
   },
   "outputs": [
    {
     "data": {
      "text/plain": [
       "[u'gameVersion', u'availableGameStats', u'gameName']"
      ]
     },
     "execution_count": 180,
     "metadata": {},
     "output_type": "execute_result"
    }
   ],
   "source": [
    "gamestuff[\"game\"].keys()"
   ]
  },
  {
   "cell_type": "code",
   "execution_count": 189,
   "metadata": {
    "collapsed": false
   },
   "outputs": [
    {
     "data": {
      "text/plain": [
       "[{u'defaultvalue': 0,\n",
       "  u'description': u'Win a round by planting a bomb',\n",
       "  u'displayName': u'Someone Set Up Us The Bomb',\n",
       "  u'hidden': 0,\n",
       "  u'icon': u'http://cdn.akamai.steamstatic.com/steamcommunity/public/images/apps/730/9f60ea3c56b4ab248ab598bbd62568b953116301.jpg',\n",
       "  u'icongray': u'http://cdn.akamai.steamstatic.com/steamcommunity/public/images/apps/730/978bdbc78917f57180549c864a9c7dcc1711dfec.jpg',\n",
       "  u'name': u'WIN_BOMB_PLANT'},\n",
       " {u'defaultvalue': 0,\n",
       "  u'description': u'Plant 100 bombs',\n",
       "  u'displayName': u'Boomala Boomala',\n",
       "  u'hidden': 0,\n",
       "  u'icon': u'http://cdn.akamai.steamstatic.com/steamcommunity/public/images/apps/730/325ccbd68e599083c1597fd90dc6d4265d1ca3b4.jpg',\n",
       "  u'icongray': u'http://cdn.akamai.steamstatic.com/steamcommunity/public/images/apps/730/a4f62b47ba5a852c71af6fe35411addbc0d1d193.jpg',\n",
       "  u'name': u'BOMB_PLANT_LOW'},\n",
       " {u'defaultvalue': 0,\n",
       "  u'description': u'Defuse 100 bombs successfully',\n",
       "  u'displayName': u'The Hurt Blocker',\n",
       "  u'hidden': 0,\n",
       "  u'icon': u'http://cdn.akamai.steamstatic.com/steamcommunity/public/images/apps/730/9b8627953feca51a56f0c2ac871493c8634a1c07.jpg',\n",
       "  u'icongray': u'http://cdn.akamai.steamstatic.com/steamcommunity/public/images/apps/730/2cd43018d802f495bc12abb4299a5354afac2790.jpg',\n",
       "  u'name': u'BOMB_DEFUSE_LOW'},\n",
       " {u'defaultvalue': 0,\n",
       "  u'description': u'Kill 25 enemies',\n",
       "  u'displayName': u'Body Bagger',\n",
       "  u'hidden': 0,\n",
       "  u'icon': u'http://cdn.akamai.steamstatic.com/steamcommunity/public/images/apps/730/b11ef0453168cd3d10684e184004f71dcc0faa82.jpg',\n",
       "  u'icongray': u'http://cdn.akamai.steamstatic.com/steamcommunity/public/images/apps/730/c2fc81593400110271e1f968f0e704a19ee83011.jpg',\n",
       "  u'name': u'KILL_ENEMY_LOW'},\n",
       " {u'defaultvalue': 0,\n",
       "  u'description': u'Kill 500 enemies',\n",
       "  u'displayName': u'Corpseman',\n",
       "  u'hidden': 0,\n",
       "  u'icon': u'http://cdn.akamai.steamstatic.com/steamcommunity/public/images/apps/730/60d83a42df84fa5d84910af681370579e3bb16bf.jpg',\n",
       "  u'icongray': u'http://cdn.akamai.steamstatic.com/steamcommunity/public/images/apps/730/4ddb4bf34e96d538b6c9aab1ff1796f51d218e5d.jpg',\n",
       "  u'name': u'KILL_ENEMY_MED'},\n",
       " {u'defaultvalue': 0,\n",
       "  u'description': u'Kill 10,000 enemies',\n",
       "  u'displayName': u'God of War',\n",
       "  u'hidden': 0,\n",
       "  u'icon': u'http://cdn.akamai.steamstatic.com/steamcommunity/public/images/apps/730/2c2bb56a4f7376b53eeaf8e6d84044460b0d1cf2.jpg',\n",
       "  u'icongray': u'http://cdn.akamai.steamstatic.com/steamcommunity/public/images/apps/730/55fbfbb54876d0e777f430062201b9ea616face5.jpg',\n",
       "  u'name': u'KILL_ENEMY_HIGH'},\n",
       " {u'defaultvalue': 0,\n",
       "  u'description': u'Successfully defuse a bomb with less than one second remaining',\n",
       "  u'displayName': u'Second to None',\n",
       "  u'hidden': 0,\n",
       "  u'icon': u'http://cdn.akamai.steamstatic.com/steamcommunity/public/images/apps/730/986a53e24114699cb1f230f52b55b27e0de28ecf.jpg',\n",
       "  u'icongray': u'http://cdn.akamai.steamstatic.com/steamcommunity/public/images/apps/730/eb4763f562c2ea763afab225e410e74245893e43.jpg',\n",
       "  u'name': u'BOMB_DEFUSE_CLOSE_CALL'},\n",
       " {u'defaultvalue': 0,\n",
       "  u'description': u'Kill a Counter-Terrorist while he is defusing the bomb',\n",
       "  u'displayName': u'Counter-Counter-Terrorist',\n",
       "  u'hidden': 0,\n",
       "  u'icon': u'http://cdn.akamai.steamstatic.com/steamcommunity/public/images/apps/730/c09cb3fe34841fd1000a48c3b7825c4fde026188.jpg',\n",
       "  u'icongray': u'http://cdn.akamai.steamstatic.com/steamcommunity/public/images/apps/730/010dc024d20bb7471a6ada87ba3d92c840228cbe.jpg',\n",
       "  u'name': u'KILL_BOMB_DEFUSER'},\n",
       " {u'defaultvalue': 0,\n",
       "  u'description': u'Win a round by defusing a bomb',\n",
       "  u'displayName': u'Rite of First Defusal',\n",
       "  u'hidden': 0,\n",
       "  u'icon': u'http://cdn.akamai.steamstatic.com/steamcommunity/public/images/apps/730/b2027dac5a9883f0f145e78a33e531a58944f3ec.jpg',\n",
       "  u'icongray': u'http://cdn.akamai.steamstatic.com/steamcommunity/public/images/apps/730/3c3e898c96d92e3f77624bbcf7b02c38d6cc3506.jpg',\n",
       "  u'name': u'WIN_BOMB_DEFUSE'},\n",
       " {u'defaultvalue': 0,\n",
       "  u'description': u'Plant a bomb within 25 seconds (excluding Demolition mode)',\n",
       "  u'displayName': u'Short Fuse',\n",
       "  u'hidden': 0,\n",
       "  u'icon': u'http://cdn.akamai.steamstatic.com/steamcommunity/public/images/apps/730/648550738f4845f12aa686a1b4ee8c4a51ec2348.jpg',\n",
       "  u'icongray': u'http://cdn.akamai.steamstatic.com/steamcommunity/public/images/apps/730/3c8e0316829a1c3db72668b239ce2ea8669cb781.jpg',\n",
       "  u'name': u'BOMB_PLANT_IN_25_SECONDS'},\n",
       " {u'defaultvalue': 0,\n",
       "  u'description': u'Win ten rounds',\n",
       "  u'displayName': u'Newb World Order',\n",
       "  u'hidden': 0,\n",
       "  u'icon': u'http://cdn.akamai.steamstatic.com/steamcommunity/public/images/apps/730/9c759a9201a6fd54539f639e3815aa09a7c92d59.jpg',\n",
       "  u'icongray': u'http://cdn.akamai.steamstatic.com/steamcommunity/public/images/apps/730/a8fd9e9be81d3fe455b412ef9d99209e9f2cada7.jpg',\n",
       "  u'name': u'WIN_ROUNDS_LOW'},\n",
       " {u'defaultvalue': 0,\n",
       "  u'description': u'Win 200 rounds',\n",
       "  u'displayName': u'Pro-moted',\n",
       "  u'hidden': 0,\n",
       "  u'icon': u'http://cdn.akamai.steamstatic.com/steamcommunity/public/images/apps/730/2cd1d88ac944725d8782a55194a2d69b9b66104d.jpg',\n",
       "  u'icongray': u'http://cdn.akamai.steamstatic.com/steamcommunity/public/images/apps/730/6b1fa9ba30d05ebf806d23a2375a781d99b5fbe3.jpg',\n",
       "  u'name': u'WIN_ROUNDS_MED'},\n",
       " {u'defaultvalue': 0,\n",
       "  u'description': u'Win 5,000 rounds',\n",
       "  u'displayName': u'Leet-er of Men',\n",
       "  u'hidden': 0,\n",
       "  u'icon': u'http://cdn.akamai.steamstatic.com/steamcommunity/public/images/apps/730/a7db6313e15f34f9f3b22ed590fd22379a0c4976.jpg',\n",
       "  u'icongray': u'http://cdn.akamai.steamstatic.com/steamcommunity/public/images/apps/730/fbc1578d584d0c722cd67fbe4b5b4c6dd94688dd.jpg',\n",
       "  u'name': u'WIN_ROUNDS_HIGH'},\n",
       " {u'defaultvalue': 0,\n",
       "  u'description': u'Inflict 2,500 total points of damage to enemies',\n",
       "  u'displayName': u'Points in Your Favor',\n",
       "  u'hidden': 0,\n",
       "  u'icon': u'http://cdn.akamai.steamstatic.com/steamcommunity/public/images/apps/730/55650ec8f0cec4ea9b80d10e5ff420904b2a52a9.jpg',\n",
       "  u'icongray': u'http://cdn.akamai.steamstatic.com/steamcommunity/public/images/apps/730/7c8f03d055680ddca6b70a3418d55971bfadceec.jpg',\n",
       "  u'name': u'GIVE_DAMAGE_LOW'},\n",
       " {u'defaultvalue': 0,\n",
       "  u'description': u'Inflict 50,000 total points of damage to enemies',\n",
       "  u'displayName': u\"You've Made Your Points\",\n",
       "  u'hidden': 0,\n",
       "  u'icon': u'http://cdn.akamai.steamstatic.com/steamcommunity/public/images/apps/730/d676e407e16a75e5c9309779f436c1a3f1432442.jpg',\n",
       "  u'icongray': u'http://cdn.akamai.steamstatic.com/steamcommunity/public/images/apps/730/64cf7c3474a9d1f755fb9d5977a913829f6b9f22.jpg',\n",
       "  u'name': u'GIVE_DAMAGE_MED'},\n",
       " {u'defaultvalue': 0,\n",
       "  u'description': u'Inflict 1,000,000 total points of damage to enemies',\n",
       "  u'displayName': u'A Million Points of Blight',\n",
       "  u'hidden': 0,\n",
       "  u'icon': u'http://cdn.akamai.steamstatic.com/steamcommunity/public/images/apps/730/46d932bd2bc68f28e0fa8a03e92e5180fc5735dc.jpg',\n",
       "  u'icongray': u'http://cdn.akamai.steamstatic.com/steamcommunity/public/images/apps/730/3be2d4f83efcced660843484f3e042439ac9a517.jpg',\n",
       "  u'name': u'GIVE_DAMAGE_HIGH'},\n",
       " {u'defaultvalue': 0,\n",
       "  u'description': u'In Classic mode, kill four enemy players within fifteen seconds',\n",
       "  u'displayName': u'Ballistic',\n",
       "  u'hidden': 0,\n",
       "  u'icon': u'http://cdn.akamai.steamstatic.com/steamcommunity/public/images/apps/730/bfedf671220f823ddbeec18a16dc14d2ae32bcde.jpg',\n",
       "  u'icongray': u'http://cdn.akamai.steamstatic.com/steamcommunity/public/images/apps/730/638d69d2fc898d91d7380ad7a29f328f760266e8.jpg',\n",
       "  u'name': u'KILLING_SPREE'},\n",
       " {u'defaultvalue': 0,\n",
       "  u'description': u'Kill an enemy with a gun they dropped during the current round',\n",
       "  u'displayName': u'Lost and F0wnd',\n",
       "  u'hidden': 0,\n",
       "  u'icon': u'http://cdn.akamai.steamstatic.com/steamcommunity/public/images/apps/730/66538681d639abe28a849f1c75e0862ac10fc687.jpg',\n",
       "  u'icongray': u'http://cdn.akamai.steamstatic.com/steamcommunity/public/images/apps/730/21b522d0e28f5ca7c741687f7fe9d262fa96dbfc.jpg',\n",
       "  u'name': u'KILL_WITH_OWN_GUN'},\n",
       " {u'defaultvalue': 0,\n",
       "  u'description': u'Rescue 100 hostages',\n",
       "  u'displayName': u'Cowboy Diplomacy',\n",
       "  u'hidden': 0,\n",
       "  u'icon': u'http://cdn.akamai.steamstatic.com/steamcommunity/public/images/apps/730/d7dc5c3aeac2ec8e2fc84d2bd2c302a88f5097df.jpg',\n",
       "  u'icongray': u'http://cdn.akamai.steamstatic.com/steamcommunity/public/images/apps/730/8bc4871cf916f6aded06fe8ee18d0dba447ead17.jpg',\n",
       "  u'name': u'RESCUE_HOSTAGES_LOW'},\n",
       " {u'defaultvalue': 0,\n",
       "  u'description': u'Rescue 500 hostages',\n",
       "  u'displayName': u'SAR Czar',\n",
       "  u'hidden': 0,\n",
       "  u'icon': u'http://cdn.akamai.steamstatic.com/steamcommunity/public/images/apps/730/d8ffcb12e4fd7bc5c9d60f94c88d820a36f542c8.jpg',\n",
       "  u'icongray': u'http://cdn.akamai.steamstatic.com/steamcommunity/public/images/apps/730/32f99a54c07e3bcba3586728d8be775560a234ac.jpg',\n",
       "  u'name': u'RESCUE_HOSTAGES_MED'},\n",
       " {u'defaultvalue': 0,\n",
       "  u'description': u'Rescue all hostages in a single round',\n",
       "  u'displayName': u'Good Shepherd',\n",
       "  u'hidden': 0,\n",
       "  u'icon': u'http://cdn.akamai.steamstatic.com/steamcommunity/public/images/apps/730/d3b2aa83c4b326a5267e99cef3a3ac282d054216.jpg',\n",
       "  u'icongray': u'http://cdn.akamai.steamstatic.com/steamcommunity/public/images/apps/730/aebb97cf6847c0676587d904ccca871650466bb5.jpg',\n",
       "  u'name': u'RESCUE_ALL_HOSTAGES'},\n",
       " {u'defaultvalue': 0,\n",
       "  u'description': u'Rescue all hostages within 90 seconds',\n",
       "  u'displayName': u'Freed With Speed',\n",
       "  u'hidden': 0,\n",
       "  u'icon': u'http://cdn.akamai.steamstatic.com/steamcommunity/public/images/apps/730/01b635d400ec0423c81b36894e2cb4abaa7af240.jpg',\n",
       "  u'icongray': u'http://cdn.akamai.steamstatic.com/steamcommunity/public/images/apps/730/692eae86e8c90a12c425840f42bd7e40ef7530fd.jpg',\n",
       "  u'name': u'FAST_HOSTAGE_RESCUE'},\n",
       " {u'defaultvalue': 0,\n",
       "  u'description': u'Kill two enemy players with a single bullet',\n",
       "  u'displayName': u'Ammo Conservation',\n",
       "  u'hidden': 0,\n",
       "  u'icon': u'http://cdn.akamai.steamstatic.com/steamcommunity/public/images/apps/730/0d608d5c66449213da0efa3269081381929c1f6a.jpg',\n",
       "  u'icongray': u'http://cdn.akamai.steamstatic.com/steamcommunity/public/images/apps/730/cdd82951e4ef1e95a310e6a09c122fca110eb665.jpg',\n",
       "  u'name': u'KILL_TWO_WITH_ONE_SHOT'},\n",
       " {u'defaultvalue': 0,\n",
       "  u'description': u'Earn $50,000 total cash',\n",
       "  u'displayName': u'War Bonds',\n",
       "  u'hidden': 0,\n",
       "  u'icon': u'http://cdn.akamai.steamstatic.com/steamcommunity/public/images/apps/730/2157e303dc3add51087496ef3a0a21a8c95e3d6f.jpg',\n",
       "  u'icongray': u'http://cdn.akamai.steamstatic.com/steamcommunity/public/images/apps/730/b444bce6ad70aa28a40486c720438ef8995aed8a.jpg',\n",
       "  u'name': u'EARN_MONEY_LOW'},\n",
       " {u'defaultvalue': 0,\n",
       "  u'description': u'Earn $2,500,000 total cash',\n",
       "  u'displayName': u'Spoils of War',\n",
       "  u'hidden': 0,\n",
       "  u'icon': u'http://cdn.akamai.steamstatic.com/steamcommunity/public/images/apps/730/2062cb82b9b58bcbdac27c827b42f57e1a57f83e.jpg',\n",
       "  u'icongray': u'http://cdn.akamai.steamstatic.com/steamcommunity/public/images/apps/730/f133ba71921296999d89531dec05447235869fa2.jpg',\n",
       "  u'name': u'EARN_MONEY_MED'},\n",
       " {u'defaultvalue': 0,\n",
       "  u'description': u'Earn $50,000,000 total cash',\n",
       "  u'displayName': u'Blood Money',\n",
       "  u'hidden': 0,\n",
       "  u'icon': u'http://cdn.akamai.steamstatic.com/steamcommunity/public/images/apps/730/eeed5298fbd3d97c0506a3e8d01c17bedaa5cb73.jpg',\n",
       "  u'icongray': u'http://cdn.akamai.steamstatic.com/steamcommunity/public/images/apps/730/a002fdc6c0e51fdc2b21171352a18e87a5d496fc.jpg',\n",
       "  u'name': u'EARN_MONEY_HIGH'},\n",
       " {u'defaultvalue': 0,\n",
       "  u'description': u'Kill an enemy with a grenade after dying',\n",
       "  u'displayName': u'Premature Burial',\n",
       "  u'hidden': 0,\n",
       "  u'icon': u'http://cdn.akamai.steamstatic.com/steamcommunity/public/images/apps/730/7097e88eb11ea78696befe3827f4ed279f8c72e2.jpg',\n",
       "  u'icongray': u'http://cdn.akamai.steamstatic.com/steamcommunity/public/images/apps/730/18f9b47fb628c194e48d91f91b5253d7ab40dc4d.jpg',\n",
       "  u'name': u'DEAD_GRENADE_KILL'},\n",
       " {u'defaultvalue': 0,\n",
       "  u'description': u'Kill 200 enemies with the Desert Eagle',\n",
       "  u'displayName': u'Desert Eagle Expert',\n",
       "  u'hidden': 0,\n",
       "  u'icon': u'http://cdn.akamai.steamstatic.com/steamcommunity/public/images/apps/730/16a8d6f8f89f9d960516a9e3bf265e48c8f233f8.jpg',\n",
       "  u'icongray': u'http://cdn.akamai.steamstatic.com/steamcommunity/public/images/apps/730/b85c72c79dde29ccd221ef5affa0e5545e61736d.jpg',\n",
       "  u'name': u'KILL_ENEMY_DEAGLE'},\n",
       " {u'defaultvalue': 0,\n",
       "  u'description': u'Kill 100 enemies with the Glock-18',\n",
       "  u'displayName': u'Glock-18 Expert',\n",
       "  u'hidden': 0,\n",
       "  u'icon': u'http://cdn.akamai.steamstatic.com/steamcommunity/public/images/apps/730/dfd91ef491bd48ee68c55ad9e26f75ca78391ac9.jpg',\n",
       "  u'icongray': u'http://cdn.akamai.steamstatic.com/steamcommunity/public/images/apps/730/cec717d6be33402b011fb9a3869d01d305a16154.jpg',\n",
       "  u'name': u'KILL_ENEMY_GLOCK'},\n",
       " {u'defaultvalue': 0,\n",
       "  u'description': u'Kill 25 enemies with the Dual Berettas',\n",
       "  u'displayName': u'Dual Berettas Expert',\n",
       "  u'hidden': 0,\n",
       "  u'icon': u'http://cdn.akamai.steamstatic.com/steamcommunity/public/images/apps/730/1f058def617b3054389ec65ae25de22af8824628.jpg',\n",
       "  u'icongray': u'http://cdn.akamai.steamstatic.com/steamcommunity/public/images/apps/730/713f3faeda54a19e8f02ffcd0fa87e28d686c891.jpg',\n",
       "  u'name': u'KILL_ENEMY_ELITE'},\n",
       " {u'defaultvalue': 0,\n",
       "  u'description': u'Kill 25 enemies with the Five-SeveN',\n",
       "  u'displayName': u'Five-SeveN Expert',\n",
       "  u'hidden': 0,\n",
       "  u'icon': u'http://cdn.akamai.steamstatic.com/steamcommunity/public/images/apps/730/05ce551a5f4e8c2395ed4c20ce80e6b380f201de.jpg',\n",
       "  u'icongray': u'http://cdn.akamai.steamstatic.com/steamcommunity/public/images/apps/730/e7cfae0401070da6a748976f96c701fe26ed5b15.jpg',\n",
       "  u'name': u'KILL_ENEMY_FIVESEVEN'},\n",
       " {u'defaultvalue': 0,\n",
       "  u'description': u'Unlock all Pistol kill awards',\n",
       "  u'displayName': u'Pistol Master',\n",
       "  u'hidden': 0,\n",
       "  u'icon': u'http://cdn.akamai.steamstatic.com/steamcommunity/public/images/apps/730/309990746a517b5f8119dd2e07b359c864c15f6e.jpg',\n",
       "  u'icongray': u'http://cdn.akamai.steamstatic.com/steamcommunity/public/images/apps/730/4367ce6e76a4eef17a516446d1e46cbcf9b08ea7.jpg',\n",
       "  u'name': u'META_PISTOL'},\n",
       " {u'defaultvalue': 0,\n",
       "  u'description': u'Kill 500 enemies with the AWP',\n",
       "  u'displayName': u'AWP Expert',\n",
       "  u'hidden': 0,\n",
       "  u'icon': u'http://cdn.akamai.steamstatic.com/steamcommunity/public/images/apps/730/2e9c84d626c81874d0ac4634d2a28024d8f8f6dc.jpg',\n",
       "  u'icongray': u'http://cdn.akamai.steamstatic.com/steamcommunity/public/images/apps/730/ce5a1333c6797e58c24cbe121fe0ecaa6c3a7510.jpg',\n",
       "  u'name': u'KILL_ENEMY_AWP'},\n",
       " {u'defaultvalue': 0,\n",
       "  u'description': u'Kill 1,000 enemies with the AK-47',\n",
       "  u'displayName': u'AK-47 Expert',\n",
       "  u'hidden': 0,\n",
       "  u'icon': u'http://cdn.akamai.steamstatic.com/steamcommunity/public/images/apps/730/e61e83d7ccd73f122d98368190eff560f3a968ae.jpg',\n",
       "  u'icongray': u'http://cdn.akamai.steamstatic.com/steamcommunity/public/images/apps/730/b64ebdd96b843723ae699a091577310ffef67acd.jpg',\n",
       "  u'name': u'KILL_ENEMY_AK47'},\n",
       " {u'defaultvalue': 0,\n",
       "  u'description': u'Kill 1,000 enemies with an M4 Assault Rifle',\n",
       "  u'displayName': u'M4 AR Expert',\n",
       "  u'hidden': 0,\n",
       "  u'icon': u'http://cdn.akamai.steamstatic.com/steamcommunity/public/images/apps/730/cd2c685b7e02156e6423602868d1ef91515a8f07.jpg',\n",
       "  u'icongray': u'http://cdn.akamai.steamstatic.com/steamcommunity/public/images/apps/730/b07067309a39c94df6f71d13020e7443bc709d9a.jpg',\n",
       "  u'name': u'KILL_ENEMY_M4A1'},\n",
       " {u'defaultvalue': 0,\n",
       "  u'description': u'Kill 250 enemies with the AUG',\n",
       "  u'displayName': u'AUG Expert',\n",
       "  u'hidden': 0,\n",
       "  u'icon': u'http://cdn.akamai.steamstatic.com/steamcommunity/public/images/apps/730/452b21334f537a55f66c0464a0ecc4793e7d059c.jpg',\n",
       "  u'icongray': u'http://cdn.akamai.steamstatic.com/steamcommunity/public/images/apps/730/0728bbee1e39e857c620425ac27dfa1f2c1019bc.jpg',\n",
       "  u'name': u'KILL_ENEMY_AUG'},\n",
       " {u'defaultvalue': 0,\n",
       "  u'description': u'Kill 100 enemies with the FAMAS',\n",
       "  u'displayName': u'FAMAS Expert',\n",
       "  u'hidden': 0,\n",
       "  u'icon': u'http://cdn.akamai.steamstatic.com/steamcommunity/public/images/apps/730/0e2e2fd07d06b03bd61ea1d7a08d03cb76e06684.jpg',\n",
       "  u'icongray': u'http://cdn.akamai.steamstatic.com/steamcommunity/public/images/apps/730/17ad7e0641476abda9c75d35f8076840b0234f20.jpg',\n",
       "  u'name': u'KILL_ENEMY_FAMAS'},\n",
       " {u'defaultvalue': 0,\n",
       "  u'description': u'Kill 100 enemies with the G3SG1',\n",
       "  u'displayName': u'G3SG1 Expert',\n",
       "  u'hidden': 0,\n",
       "  u'icon': u'http://cdn.akamai.steamstatic.com/steamcommunity/public/images/apps/730/524b05fc1d654a5fa01e486d38696b565dcc39b0.jpg',\n",
       "  u'icongray': u'http://cdn.akamai.steamstatic.com/steamcommunity/public/images/apps/730/77f4a2ffdb2170de8b255c6016e310d93f386dc9.jpg',\n",
       "  u'name': u'KILL_ENEMY_G3SG1'},\n",
       " {u'defaultvalue': 0,\n",
       "  u'description': u'Unlock all rifle kill awards',\n",
       "  u'displayName': u'Rifle Master',\n",
       "  u'hidden': 0,\n",
       "  u'icon': u'http://cdn.akamai.steamstatic.com/steamcommunity/public/images/apps/730/d5611e9ee86d9904f223e74253ba08c561fe4a94.jpg',\n",
       "  u'icongray': u'http://cdn.akamai.steamstatic.com/steamcommunity/public/images/apps/730/cc3aae70a81f54eb181d2d83517e05be6744cbc2.jpg',\n",
       "  u'name': u'META_RIFLE'},\n",
       " {u'defaultvalue': 0,\n",
       "  u'description': u'Kill 500 enemies with the P90',\n",
       "  u'displayName': u'P90 Expert',\n",
       "  u'hidden': 0,\n",
       "  u'icon': u'http://cdn.akamai.steamstatic.com/steamcommunity/public/images/apps/730/1bf30fba202307e5aba52f95baf0e23f9a221a60.jpg',\n",
       "  u'icongray': u'http://cdn.akamai.steamstatic.com/steamcommunity/public/images/apps/730/939b24d788880b9dd303d1d6c18858ce61d9575c.jpg',\n",
       "  u'name': u'KILL_ENEMY_P90'},\n",
       " {u'defaultvalue': 0,\n",
       "  u'description': u'Kill 100 enemies with the MAC-10',\n",
       "  u'displayName': u'MAC-10 Expert',\n",
       "  u'hidden': 0,\n",
       "  u'icon': u'http://cdn.akamai.steamstatic.com/steamcommunity/public/images/apps/730/d32269eeec2a5605c8e658dd6d3c2cfc2c12018d.jpg',\n",
       "  u'icongray': u'http://cdn.akamai.steamstatic.com/steamcommunity/public/images/apps/730/1681d7c3ef5c830c2ca1cad2b8a8df906e71b79a.jpg',\n",
       "  u'name': u'KILL_ENEMY_MAC10'},\n",
       " {u'defaultvalue': 0,\n",
       "  u'description': u'Kill 250 enemies with the UMP-45',\n",
       "  u'displayName': u'UMP-45 Expert',\n",
       "  u'hidden': 0,\n",
       "  u'icon': u'http://cdn.akamai.steamstatic.com/steamcommunity/public/images/apps/730/70c3015f001c928d01958e19e621fde0e54b2df9.jpg',\n",
       "  u'icongray': u'http://cdn.akamai.steamstatic.com/steamcommunity/public/images/apps/730/3d7806519f3c0eb12b44ba41d83b4e14842c3615.jpg',\n",
       "  u'name': u'KILL_ENEMY_UMP45'},\n",
       " {u'defaultvalue': 0,\n",
       "  u'description': u'Unlock all sub-machine gun kill awards',\n",
       "  u'displayName': u'Sub-Machine Gun Master',\n",
       "  u'hidden': 0,\n",
       "  u'icon': u'http://cdn.akamai.steamstatic.com/steamcommunity/public/images/apps/730/c16d742510d0b3ad887fd419bd8e6519992ae194.jpg',\n",
       "  u'icongray': u'http://cdn.akamai.steamstatic.com/steamcommunity/public/images/apps/730/613aab357388bd64bf6a8433d23c7cea53b08834.jpg',\n",
       "  u'name': u'META_SMG'},\n",
       " {u'defaultvalue': 0,\n",
       "  u'description': u'Kill 200 enemies with the XM1014',\n",
       "  u'displayName': u'XM1014 Expert',\n",
       "  u'hidden': 0,\n",
       "  u'icon': u'http://cdn.akamai.steamstatic.com/steamcommunity/public/images/apps/730/0a73b158280d09cbdd5e5cdf6fbd97ba0834c046.jpg',\n",
       "  u'icongray': u'http://cdn.akamai.steamstatic.com/steamcommunity/public/images/apps/730/2769cd1ec9cf1c74bc11cfb23322b56cff2351e8.jpg',\n",
       "  u'name': u'KILL_ENEMY_XM1014'},\n",
       " {u'defaultvalue': 0,\n",
       "  u'description': u'Unlock all shotgun kill awards',\n",
       "  u'displayName': u'Shotgun Master',\n",
       "  u'hidden': 0,\n",
       "  u'icon': u'http://cdn.akamai.steamstatic.com/steamcommunity/public/images/apps/730/72270bdaa33fbe9d0cc3a82a9655f94ed1c79ede.jpg',\n",
       "  u'icongray': u'http://cdn.akamai.steamstatic.com/steamcommunity/public/images/apps/730/ad6d179432ed94bd50b3bcca8976feb43bf6c190.jpg',\n",
       "  u'name': u'META_SHOTGUN'},\n",
       " {u'defaultvalue': 0,\n",
       "  u'description': u'Kill 100 enemies with the HE grenade',\n",
       "  u'displayName': u'HE Grenade Expert',\n",
       "  u'hidden': 0,\n",
       "  u'icon': u'http://cdn.akamai.steamstatic.com/steamcommunity/public/images/apps/730/4ecce5887ef01d594aa9bb3f3052a9d854bc0f83.jpg',\n",
       "  u'icongray': u'http://cdn.akamai.steamstatic.com/steamcommunity/public/images/apps/730/e6d188b17ecb88074d2a87dfce05f888097b7ccf.jpg',\n",
       "  u'name': u'KILL_ENEMY_HEGRENADE'},\n",
       " {u'defaultvalue': 0,\n",
       "  u'description': u'Kill 100 enemies with the knife',\n",
       "  u'displayName': u'Knife Expert',\n",
       "  u'hidden': 0,\n",
       "  u'icon': u'http://cdn.akamai.steamstatic.com/steamcommunity/public/images/apps/730/f299cfa70e7b6b09a54834967eb9d2ba3d9f0631.jpg',\n",
       "  u'icongray': u'http://cdn.akamai.steamstatic.com/steamcommunity/public/images/apps/730/ca24c796cba96e5a3a3f79ae86621877a4615a49.jpg',\n",
       "  u'name': u'KILL_ENEMY_KNIFE'},\n",
       " {u'defaultvalue': 0,\n",
       "  u'description': u'Kill 100 enemies with the M249',\n",
       "  u'displayName': u'M249 Expert',\n",
       "  u'hidden': 0,\n",
       "  u'icon': u'http://cdn.akamai.steamstatic.com/steamcommunity/public/images/apps/730/59e82d596d69109651be5cb369c9595e44008030.jpg',\n",
       "  u'icongray': u'http://cdn.akamai.steamstatic.com/steamcommunity/public/images/apps/730/37668a8ad00eae73296a8475ebfc08d223802b17.jpg',\n",
       "  u'name': u'KILL_ENEMY_M249'},\n",
       " {u'defaultvalue': 0,\n",
       "  u'description': u'Unlock every weapon kill award',\n",
       "  u'displayName': u'Master At Arms',\n",
       "  u'hidden': 0,\n",
       "  u'icon': u'http://cdn.akamai.steamstatic.com/steamcommunity/public/images/apps/730/0ed5550c1da2a402cd31b4f8ff8681fbdb045b73.jpg',\n",
       "  u'icongray': u'http://cdn.akamai.steamstatic.com/steamcommunity/public/images/apps/730/5867958c69b2f5eca287798ac5dc8e0689afe23a.jpg',\n",
       "  u'name': u'META_WEAPONMASTER'},\n",
       " {u'defaultvalue': 0,\n",
       "  u'description': u'In Classic mode, kill five enemies in a single round',\n",
       "  u'displayName': u'The Cleaner',\n",
       "  u'hidden': 0,\n",
       "  u'icon': u'http://cdn.akamai.steamstatic.com/steamcommunity/public/images/apps/730/1e363fcb0d6f929079bf5cd5712801492231a436.jpg',\n",
       "  u'icongray': u'http://cdn.akamai.steamstatic.com/steamcommunity/public/images/apps/730/eeae6a08e52f3cb51c50cb82b089440c2fe735e3.jpg',\n",
       "  u'name': u'KILL_ENEMY_TEAM'},\n",
       " {u'defaultvalue': 0,\n",
       "  u'description': u'Get kills with five different guns in a single round',\n",
       "  u'displayName': u'Variety Hour',\n",
       "  u'hidden': 0,\n",
       "  u'icon': u'http://cdn.akamai.steamstatic.com/steamcommunity/public/images/apps/730/75030fe4dead2cf4ff26aa22373ff1e97319f127.jpg',\n",
       "  u'icongray': u'http://cdn.akamai.steamstatic.com/steamcommunity/public/images/apps/730/212be5810ad72d9c10df2e3da4b4fcbef831f62c.jpg',\n",
       "  u'name': u'KILLS_WITH_MULTIPLE_GUNS'},\n",
       " {u'defaultvalue': 0,\n",
       "  u'description': u'Kill an enemy who is carrying a hostage',\n",
       "  u'displayName': u'Dead Shepherd',\n",
       "  u'hidden': 0,\n",
       "  u'icon': u'http://cdn.akamai.steamstatic.com/steamcommunity/public/images/apps/730/fdcf88bc3849c21154d04c998564a9f3b9bf49cd.jpg',\n",
       "  u'icongray': u'http://cdn.akamai.steamstatic.com/steamcommunity/public/images/apps/730/d91c75443d98bf5024ee9f3e72ff987324ec6442.jpg',\n",
       "  u'name': u'KILL_HOSTAGE_RESCUER'},\n",
       " {u'defaultvalue': 0,\n",
       "  u'description': u'Be the last player alive in a round with five players on your team',\n",
       "  u'displayName': u'War of Attrition',\n",
       "  u'hidden': 0,\n",
       "  u'icon': u'http://cdn.akamai.steamstatic.com/steamcommunity/public/images/apps/730/c078614a0d546908b67740b113a65831c33e39a8.jpg',\n",
       "  u'icongray': u'http://cdn.akamai.steamstatic.com/steamcommunity/public/images/apps/730/7f370bafba7252d904a3cb9926f054b076e0e9ce.jpg',\n",
       "  u'name': u'LAST_PLAYER_ALIVE'},\n",
       " {u'defaultvalue': 0,\n",
       "  u'description': u'Kill an enemy with the last bullet in your magazine (excluding sniper rifles and Zeus x27)',\n",
       "  u'displayName': u'Magic Bullet',\n",
       "  u'hidden': 0,\n",
       "  u'icon': u'http://cdn.akamai.steamstatic.com/steamcommunity/public/images/apps/730/20547dff510be3d7df94dc2c82ca7326eaf24641.jpg',\n",
       "  u'icongray': u'http://cdn.akamai.steamstatic.com/steamcommunity/public/images/apps/730/387a9b977433aeb7df56556a51853a5577b2093d.jpg',\n",
       "  u'name': u'KILL_ENEMY_LAST_BULLET'},\n",
       " {u'defaultvalue': 0,\n",
       "  u'description': u'Kill an enemy player who has just killed four of your teammates within 15 seconds',\n",
       "  u'displayName': u'Kill One, Get One Spree',\n",
       "  u'hidden': 0,\n",
       "  u'icon': u'http://cdn.akamai.steamstatic.com/steamcommunity/public/images/apps/730/b46735e642fe0146eaaf8da87bd9d426ad5510ac.jpg',\n",
       "  u'icongray': u'http://cdn.akamai.steamstatic.com/steamcommunity/public/images/apps/730/7bafc7e7f62f5fb6bf7dc6fc294d2efb651b57e3.jpg',\n",
       "  u'name': u'KILLING_SPREE_ENDER'},\n",
       " {u'defaultvalue': 0,\n",
       "  u'description': u'Shoot out 14 windows in a single round on Office',\n",
       "  u'displayName': u'A World of Pane',\n",
       "  u'hidden': 0,\n",
       "  u'icon': u'http://cdn.akamai.steamstatic.com/steamcommunity/public/images/apps/730/70dbf712e9cb049fb56cc7bab510dc97ecad5dca.jpg',\n",
       "  u'icongray': u'http://cdn.akamai.steamstatic.com/steamcommunity/public/images/apps/730/7f1cf888b7090360756bdc5dabcad259f51c6615.jpg',\n",
       "  u'name': u'BREAK_WINDOWS'},\n",
       " {u'defaultvalue': 0,\n",
       "  u'description': u'Kill 250 enemies with headshots',\n",
       "  u'displayName': u'Battle Sight Zero',\n",
       "  u'hidden': 0,\n",
       "  u'icon': u'http://cdn.akamai.steamstatic.com/steamcommunity/public/images/apps/730/72e142a6cbef679ffda7245b1074d1d52700ea98.jpg',\n",
       "  u'icongray': u'http://cdn.akamai.steamstatic.com/steamcommunity/public/images/apps/730/b36533f8ede908216ba43fbd50cfab87ce3a5c2a.jpg',\n",
       "  u'name': u'HEADSHOTS'},\n",
       " {u'defaultvalue': 0,\n",
       "  u'description': u'Do at least 95% damage to an enemy who is then killed by a another player',\n",
       "  u'displayName': u'Primer',\n",
       "  u'hidden': 0,\n",
       "  u'icon': u'http://cdn.akamai.steamstatic.com/steamcommunity/public/images/apps/730/6f731c184c8b54ef26f142d644cfe3a8082c4484.jpg',\n",
       "  u'icongray': u'http://cdn.akamai.steamstatic.com/steamcommunity/public/images/apps/730/263f1b85e0c0584f6c64dd1eced477d5ee8d83ec.jpg',\n",
       "  u'name': u'DAMAGE_NO_KILL'},\n",
       " {u'defaultvalue': 0,\n",
       "  u'description': u'Kill an enemy who has been reduced to less than 5% health by other players',\n",
       "  u'displayName': u'Finishing Schooled',\n",
       "  u'hidden': 0,\n",
       "  u'icon': u'http://cdn.akamai.steamstatic.com/steamcommunity/public/images/apps/730/81e3fcdf714a1b6124ac80918dff5b45ec1cdb79.jpg',\n",
       "  u'icongray': u'http://cdn.akamai.steamstatic.com/steamcommunity/public/images/apps/730/aa274283103024a097145ff572d07033da426347.jpg',\n",
       "  u'name': u'KILL_LOW_DAMAGE'},\n",
       " {u'defaultvalue': 0,\n",
       "  u'description': u'Kill an enemy while they are reloading',\n",
       "  u'displayName': u'Shot With Their Pants Down',\n",
       "  u'hidden': 0,\n",
       "  u'icon': u'http://cdn.akamai.steamstatic.com/steamcommunity/public/images/apps/730/8348876e42a26000ec596a690ee962ff441f3d1f.jpg',\n",
       "  u'icongray': u'http://cdn.akamai.steamstatic.com/steamcommunity/public/images/apps/730/fc524700dc21b054f7d7223b0107991fff89e2f9.jpg',\n",
       "  u'name': u'KILL_ENEMY_RELOADING'},\n",
       " {u'defaultvalue': 0,\n",
       "  u'description': u'Kill 25 enemies blinded by flashbangs',\n",
       "  u'displayName': u'Blind Ambition',\n",
       "  u'hidden': 0,\n",
       "  u'icon': u'http://cdn.akamai.steamstatic.com/steamcommunity/public/images/apps/730/6439356b22bfb76c8b2693a25b5291e1ec4b6f0d.jpg',\n",
       "  u'icongray': u'http://cdn.akamai.steamstatic.com/steamcommunity/public/images/apps/730/3bd6bbc5a689edb6cc2339261576c7b81ae95fca.jpg',\n",
       "  u'name': u'KILL_ENEMY_BLINDED'},\n",
       " {u'defaultvalue': 0,\n",
       "  u'description': u'Kill an enemy while you are blinded from a flashbang',\n",
       "  u'displayName': u'Blind Fury',\n",
       "  u'hidden': 0,\n",
       "  u'icon': u'http://cdn.akamai.steamstatic.com/steamcommunity/public/images/apps/730/5ee37dd9a04c583317d32af15f0a65b902ea7279.jpg',\n",
       "  u'icongray': u'http://cdn.akamai.steamstatic.com/steamcommunity/public/images/apps/730/eecfd460660516c8e15db282d1e97e3b352c0b12.jpg',\n",
       "  u'name': u'KILL_ENEMIES_WHILE_BLIND'},\n",
       " {u'defaultvalue': 0,\n",
       "  u'description': u'Kill 100 enemies with enemy weapons',\n",
       "  u'displayName': u'Friendly Firearms',\n",
       "  u'hidden': 0,\n",
       "  u'icon': u'http://cdn.akamai.steamstatic.com/steamcommunity/public/images/apps/730/83325a3c5d679bd363102cd9abd3c9cac649497c.jpg',\n",
       "  u'icongray': u'http://cdn.akamai.steamstatic.com/steamcommunity/public/images/apps/730/cb46c843305953d379ddc84e49c2ae5eb6493e44.jpg',\n",
       "  u'name': u'KILLS_ENEMY_WEAPON'},\n",
       " {u'defaultvalue': 0,\n",
       "  u'description': u'Get a kill with every weapon',\n",
       "  u'displayName': u'Expert Marksman',\n",
       "  u'hidden': 0,\n",
       "  u'icon': u'http://cdn.akamai.steamstatic.com/steamcommunity/public/images/apps/730/22511fb829f0cbaf08bc7a0ae7afd9e22fda1b36.jpg',\n",
       "  u'icongray': u'http://cdn.akamai.steamstatic.com/steamcommunity/public/images/apps/730/f1cf772653724cfb26a193cf6866306a72f4b737.jpg',\n",
       "  u'name': u'KILL_WITH_EVERY_WEAPON'},\n",
       " {u'defaultvalue': 0,\n",
       "  u'description': u'Take 80 points of damage from enemy grenades and still survive the round',\n",
       "  u'displayName': u'Shrapnelproof',\n",
       "  u'hidden': 0,\n",
       "  u'icon': u'http://cdn.akamai.steamstatic.com/steamcommunity/public/images/apps/730/cda7804972ac1833ef2718914202d744e7ecf99d.jpg',\n",
       "  u'icongray': u'http://cdn.akamai.steamstatic.com/steamcommunity/public/images/apps/730/2d1a06fba1e0ffd48c34ad9988262ead4613204f.jpg',\n",
       "  u'name': u'SURVIVE_GRENADE'},\n",
       " {u'defaultvalue': 0,\n",
       "  u'description': u'Win a knife fight',\n",
       "  u'displayName': u'Make the Cut',\n",
       "  u'hidden': 0,\n",
       "  u'icon': u'http://cdn.akamai.steamstatic.com/steamcommunity/public/images/apps/730/99285573701d0823655458f538edc8c143397d83.jpg',\n",
       "  u'icongray': u'http://cdn.akamai.steamstatic.com/steamcommunity/public/images/apps/730/90cd8554100f7f1c93de9c9b92ab989295331614.jpg',\n",
       "  u'name': u'WIN_KNIFE_FIGHTS_LOW'},\n",
       " {u'defaultvalue': 0,\n",
       "  u'description': u'Win 100 knife fights',\n",
       "  u'displayName': u'The Bleeding Edge',\n",
       "  u'hidden': 0,\n",
       "  u'icon': u'http://cdn.akamai.steamstatic.com/steamcommunity/public/images/apps/730/ab3c0b725c8da60d48211dd7c52a79a16fb7eda5.jpg',\n",
       "  u'icongray': u'http://cdn.akamai.steamstatic.com/steamcommunity/public/images/apps/730/45e2cdcef45e793e523de62aff98dc924a9334a8.jpg',\n",
       "  u'name': u'WIN_KNIFE_FIGHTS_HIGH'},\n",
       " {u'defaultvalue': 0,\n",
       "  u'description': u'Kill the defuser with an HE grenade',\n",
       "  u'displayName': u'Defuse This!',\n",
       "  u'hidden': 0,\n",
       "  u'icon': u'http://cdn.akamai.steamstatic.com/steamcommunity/public/images/apps/730/8f47c9f048b7e5569698213ccce140e77c257558.jpg',\n",
       "  u'icongray': u'http://cdn.akamai.steamstatic.com/steamcommunity/public/images/apps/730/89e95fdbe40f30d2fc17efb05c9bc58e8deb23c7.jpg',\n",
       "  u'name': u'KILLED_DEFUSER_WITH_GRENADE'},\n",
       " {u'defaultvalue': 0,\n",
       "  u'description': u'Kill an enemy with an un-zoomed sniper rifle',\n",
       "  u'displayName': u'Hip Shot',\n",
       "  u'hidden': 0,\n",
       "  u'icon': u'http://cdn.akamai.steamstatic.com/steamcommunity/public/images/apps/730/3f4eadad4eddba8bc1f93e26ad8fd8f58bfcc204.jpg',\n",
       "  u'icongray': u'http://cdn.akamai.steamstatic.com/steamcommunity/public/images/apps/730/dc4eb62a721ad0d1cb5a4483f42759ffd77b0b17.jpg',\n",
       "  u'name': u'HIP_SHOT'},\n",
       " {u'defaultvalue': 0,\n",
       "  u'description': u'Kill a zoomed-in enemy sniper with a sniper rifle of your own',\n",
       "  u'displayName': u'Eye to Eye',\n",
       "  u'hidden': 0,\n",
       "  u'icon': u'http://cdn.akamai.steamstatic.com/steamcommunity/public/images/apps/730/60eee51a175e9de8486448dea71063882c47d472.jpg',\n",
       "  u'icongray': u'http://cdn.akamai.steamstatic.com/steamcommunity/public/images/apps/730/3179e01b1fedd24cb29bde371b19d73e48009826.jpg',\n",
       "  u'name': u'KILL_SNIPER_WITH_SNIPER'},\n",
       " {u'defaultvalue': 0,\n",
       "  u'description': u'Kill a zoomed-in enemy sniper with a knife',\n",
       "  u'displayName': u'Sknifed',\n",
       "  u'hidden': 0,\n",
       "  u'icon': u'http://cdn.akamai.steamstatic.com/steamcommunity/public/images/apps/730/dd3ad6ceec16033d085cdf81466acfee6b78923b.jpg',\n",
       "  u'icongray': u'http://cdn.akamai.steamstatic.com/steamcommunity/public/images/apps/730/a219eba3d0a3649c277db6f72d513ef7bebcbfc4.jpg',\n",
       "  u'name': u'KILL_SNIPER_WITH_KNIFE'},\n",
       " {u'defaultvalue': 0,\n",
       "  u'description': u'Kill 100 zoomed-in enemy snipers',\n",
       "  u'displayName': u'Snipe Hunter',\n",
       "  u'hidden': 0,\n",
       "  u'icon': u'http://cdn.akamai.steamstatic.com/steamcommunity/public/images/apps/730/f1dc6a8b736d396c0756e0d397150464a212a460.jpg',\n",
       "  u'icongray': u'http://cdn.akamai.steamstatic.com/steamcommunity/public/images/apps/730/0a469eb934ea7748038090e53513f5de3a92afcd.jpg',\n",
       "  u'name': u'KILL_SNIPERS'},\n",
       " {u'defaultvalue': 0,\n",
       "  u'description': u'Kill an enemy while at one health',\n",
       "  u'displayName': u'Dead Man Stalking',\n",
       "  u'hidden': 0,\n",
       "  u'icon': u'http://cdn.akamai.steamstatic.com/steamcommunity/public/images/apps/730/233e0468c1e9f7e29dc65aae90680494f31dbf46.jpg',\n",
       "  u'icongray': u'http://cdn.akamai.steamstatic.com/steamcommunity/public/images/apps/730/b0c6a88030d93bf16d697761ca3a1f0b65e36e8c.jpg',\n",
       "  u'name': u'KILL_WHEN_AT_LOW_HEALTH'},\n",
       " {u'defaultvalue': 0,\n",
       "  u'description': u'Kill three enemies with a single HE grenade',\n",
       "  u'displayName': u'Three the Hard Way',\n",
       "  u'hidden': 0,\n",
       "  u'icon': u'http://cdn.akamai.steamstatic.com/steamcommunity/public/images/apps/730/6ba1350f254b95e63c0ef276dcaff3937466207a.jpg',\n",
       "  u'icongray': u'http://cdn.akamai.steamstatic.com/steamcommunity/public/images/apps/730/61fec51072247689536dcc3fc9411c74f30628cb.jpg',\n",
       "  u'name': u'GRENADE_MULTIKILL'},\n",
       " {u'defaultvalue': 0,\n",
       "  u'description': u'Kill an enemy with a knife during the Pistol Round in a Classic match',\n",
       "  u'displayName': u'Street Fighter',\n",
       "  u'hidden': 0,\n",
       "  u'icon': u'http://cdn.akamai.steamstatic.com/steamcommunity/public/images/apps/730/399454259d33f0439b1355cc4a9cec4d3fcb7f23.jpg',\n",
       "  u'icongray': u'http://cdn.akamai.steamstatic.com/steamcommunity/public/images/apps/730/9f495012b74c645c322747630286a6e62a098d11.jpg',\n",
       "  u'name': u'PISTOL_ROUND_KNIFE_KILL'},\n",
       " {u'defaultvalue': 0,\n",
       "  u'description': u'Win a round against five enemies in less than thirty seconds',\n",
       "  u'displayName': u'Blitzkrieg',\n",
       "  u'hidden': 0,\n",
       "  u'icon': u'http://cdn.akamai.steamstatic.com/steamcommunity/public/images/apps/730/a59e158dfc2235c98d8c228ae045ee11ed66f793.jpg',\n",
       "  u'icongray': u'http://cdn.akamai.steamstatic.com/steamcommunity/public/images/apps/730/72235305f0d97186ddaeb7d4364b621a1a2c9472.jpg',\n",
       "  u'name': u'FAST_ROUND_WIN'},\n",
       " {u'defaultvalue': 0,\n",
       "  u'description': u'Win 5 Pistol Rounds in Competitive Mode',\n",
       "  u'displayName': u'Piece Initiative',\n",
       "  u'hidden': 0,\n",
       "  u'icon': u'http://cdn.akamai.steamstatic.com/steamcommunity/public/images/apps/730/ee63866f1dedc0ff3d1e5d5be973baa85cce0c5c.jpg',\n",
       "  u'icongray': u'http://cdn.akamai.steamstatic.com/steamcommunity/public/images/apps/730/705f4da0b87357110215e31e12036ab664d024ab.jpg',\n",
       "  u'name': u'WIN_PISTOLROUNDS_LOW'},\n",
       " {u'defaultvalue': 0,\n",
       "  u'description': u'Win 25 Pistol Rounds in Competitive Mode',\n",
       "  u'displayName': u'Give Piece a Chance',\n",
       "  u'hidden': 0,\n",
       "  u'icon': u'http://cdn.akamai.steamstatic.com/steamcommunity/public/images/apps/730/44a470bfba23636be7e1ecbedaff876eae9a4329.jpg',\n",
       "  u'icongray': u'http://cdn.akamai.steamstatic.com/steamcommunity/public/images/apps/730/651b7c255be991abefc3bc486d9d60453e625973.jpg',\n",
       "  u'name': u'WIN_PISTOLROUNDS_MED'},\n",
       " {u'defaultvalue': 0,\n",
       "  u'description': u'Win 250 Pistol Rounds in Competitive Mode',\n",
       "  u'displayName': u'Piece Treaty',\n",
       "  u'hidden': 0,\n",
       "  u'icon': u'http://cdn.akamai.steamstatic.com/steamcommunity/public/images/apps/730/8ce444eaa5576a0825498af87079e48a92a5f7b2.jpg',\n",
       "  u'icongray': u'http://cdn.akamai.steamstatic.com/steamcommunity/public/images/apps/730/b78f58a74a1e16b7fee1c87c823ac8c47927c85d.jpg',\n",
       "  u'name': u'WIN_PISTOLROUNDS_HIGH'},\n",
       " {u'defaultvalue': 0,\n",
       "  u'description': u'Kill five enemies with a bomb you have planted',\n",
       "  u'displayName': u'Clusterstruck',\n",
       "  u'hidden': 0,\n",
       "  u'icon': u'http://cdn.akamai.steamstatic.com/steamcommunity/public/images/apps/730/6681a60482b56db26030e3f711c873e5d8497437.jpg',\n",
       "  u'icongray': u'http://cdn.akamai.steamstatic.com/steamcommunity/public/images/apps/730/2995213432da44789b6efd136f66f4adeda7c85e.jpg',\n",
       "  u'name': u'BOMB_MULTIKILL'},\n",
       " {u'defaultvalue': 0,\n",
       "  u'description': u'As the last living Terrorist, distract a defuser long enough for the bomb to explode',\n",
       "  u'displayName': u'Wild Gooseman Chase',\n",
       "  u'hidden': 0,\n",
       "  u'icon': u'http://cdn.akamai.steamstatic.com/steamcommunity/public/images/apps/730/cd81dc5ec3690f20d2686701ed8562f52b18f179.jpg',\n",
       "  u'icongray': u'http://cdn.akamai.steamstatic.com/steamcommunity/public/images/apps/730/1da82ab5cca4b7af581d3d17bd02a537cce61ada.jpg',\n",
       "  u'name': u'GOOSE_CHASE'},\n",
       " {u'defaultvalue': 0,\n",
       "  u'description': u'Win a round by picking up the bomb from a fallen comrade and successfully planting it',\n",
       "  u'displayName': u'Blast Will and Testament',\n",
       "  u'hidden': 0,\n",
       "  u'icon': u'http://cdn.akamai.steamstatic.com/steamcommunity/public/images/apps/730/cf0cd919170e8bc60a58095cc108816849929c2e.jpg',\n",
       "  u'icongray': u'http://cdn.akamai.steamstatic.com/steamcommunity/public/images/apps/730/926535a647e8c5d1ebab852b6c24ddf2d877d82f.jpg',\n",
       "  u'name': u'WIN_BOMB_PLANT_AFTER_RECOVERY'},\n",
       " {u'defaultvalue': 0,\n",
       "  u'description': u'Survive damage from five different enemies within a round',\n",
       "  u'displayName': u'Target-Hardened',\n",
       "  u'hidden': 0,\n",
       "  u'icon': u'http://cdn.akamai.steamstatic.com/steamcommunity/public/images/apps/730/85cbb095dd13b76c9b8c28a5b8485d6e5adc6a82.jpg',\n",
       "  u'icongray': u'http://cdn.akamai.steamstatic.com/steamcommunity/public/images/apps/730/bf3ad2883076255e5dd6e8a05acc9b096a44cd4c.jpg',\n",
       "  u'name': u'SURVIVE_MANY_ATTACKS'},\n",
       " {u'defaultvalue': 0,\n",
       "  u'description': u'Kill the entire opposing team without any members of your team dying',\n",
       "  u'displayName': u'Mercy Rule',\n",
       "  u'hidden': 0,\n",
       "  u'icon': u'http://cdn.akamai.steamstatic.com/steamcommunity/public/images/apps/730/41015c5223155418271a45369389654ef97db196.jpg',\n",
       "  u'icongray': u'http://cdn.akamai.steamstatic.com/steamcommunity/public/images/apps/730/3d5512ff9975e28bd3fcf1655cf4579575d6a381.jpg',\n",
       "  u'name': u'LOSSLESS_EXTERMINATION'},\n",
       " {u'defaultvalue': 0,\n",
       "  u'description': u'Kill the entire opposing team without any members of your team taking damage',\n",
       "  u'displayName': u'Clean Sweep',\n",
       "  u'hidden': 0,\n",
       "  u'icon': u'http://cdn.akamai.steamstatic.com/steamcommunity/public/images/apps/730/4f931d4e6bbc7ca648b16b0440d4440c79a4f37a.jpg',\n",
       "  u'icongray': u'http://cdn.akamai.steamstatic.com/steamcommunity/public/images/apps/730/7f149df390f6e69aa21a06464b72946376b3f220.jpg',\n",
       "  u'name': u'FLAWLESS_VICTORY'},\n",
       " {u'defaultvalue': 0,\n",
       "  u'description': u'Use Dual Berettas to kill an enemy player that is also wielding Dual Berettas',\n",
       "  u'displayName': u'Akimbo King',\n",
       "  u'hidden': 0,\n",
       "  u'icon': u'http://cdn.akamai.steamstatic.com/steamcommunity/public/images/apps/730/9caa687914739d5da5200b04eeaaddd5e6f54f7f.jpg',\n",
       "  u'icongray': u'http://cdn.akamai.steamstatic.com/steamcommunity/public/images/apps/730/6b0ef24cfabc4448d3d5edde30513ca3969158c5.jpg',\n",
       "  u'name': u'WIN_DUAL_DUEL'},\n",
       " {u'defaultvalue': 0,\n",
       "  u'description': u'Kill four enemies within a single round',\n",
       "  u'displayName': u'The Unstoppable Force',\n",
       "  u'hidden': 0,\n",
       "  u'icon': u'http://cdn.akamai.steamstatic.com/steamcommunity/public/images/apps/730/9f0100bf4168376212331c5177f3d22a30df12ae.jpg',\n",
       "  u'icongray': u'http://cdn.akamai.steamstatic.com/steamcommunity/public/images/apps/730/386633d066188ea38ac0df02904828ec772833eb.jpg',\n",
       "  u'name': u'UNSTOPPABLE_FORCE'},\n",
       " {u'defaultvalue': 0,\n",
       "  u'description': u'Kill an enemy who has killed four of your teammates within the current round',\n",
       "  u'displayName': u'The Immovable Object',\n",
       "  u'hidden': 0,\n",
       "  u'icon': u'http://cdn.akamai.steamstatic.com/steamcommunity/public/images/apps/730/1f267b0abd6d96e464a1ca6903a2ab943153bec3.jpg',\n",
       "  u'icongray': u'http://cdn.akamai.steamstatic.com/steamcommunity/public/images/apps/730/40f68cf4f54cd820fc80bdf9c319ce66af9de9d2.jpg',\n",
       "  u'name': u'IMMOVABLE_OBJECT'},\n",
       " {u'defaultvalue': 0,\n",
       "  u'description': u'Kill five enemy players with headshots in a single round',\n",
       "  u'displayName': u'Head Shred Redemption',\n",
       "  u'hidden': 0,\n",
       "  u'icon': u'http://cdn.akamai.steamstatic.com/steamcommunity/public/images/apps/730/4f3ae16bccb48c9506e4be1ef4f107445958d527.jpg',\n",
       "  u'icongray': u'http://cdn.akamai.steamstatic.com/steamcommunity/public/images/apps/730/5e52593e691714ced65c35f680fc9f2f6469fee9.jpg',\n",
       "  u'name': u'HEADSHOTS_IN_ROUND'},\n",
       " {u'defaultvalue': 0,\n",
       "  u'description': u'Win 100 rounds on Italy',\n",
       "  u'displayName': u'Italy Map Veteran',\n",
       "  u'hidden': 0,\n",
       "  u'icon': u'http://cdn.akamai.steamstatic.com/steamcommunity/public/images/apps/730/41fe32f00a12b8cd5820ce149055b2757cd122f1.jpg',\n",
       "  u'icongray': u'http://cdn.akamai.steamstatic.com/steamcommunity/public/images/apps/730/5cc7050d01b7dc5166b6e6576da36e4d8696f7ab.jpg',\n",
       "  u'name': u'WIN_MAP_CS_ITALY'},\n",
       " {u'defaultvalue': 0,\n",
       "  u'description': u'Win 100 rounds on Office',\n",
       "  u'displayName': u'Office Map Veteran',\n",
       "  u'hidden': 0,\n",
       "  u'icon': u'http://cdn.akamai.steamstatic.com/steamcommunity/public/images/apps/730/beda5eba8dd87b712960c96c17b2c27c6d96875e.jpg',\n",
       "  u'icongray': u'http://cdn.akamai.steamstatic.com/steamcommunity/public/images/apps/730/eb759bb34cc407ca106c80ccff767d1d604f54a6.jpg',\n",
       "  u'name': u'WIN_MAP_CS_OFFICE'},\n",
       " {u'defaultvalue': 0,\n",
       "  u'description': u'Win 100 rounds on Aztec',\n",
       "  u'displayName': u'Aztec Map Veteran',\n",
       "  u'hidden': 0,\n",
       "  u'icon': u'http://cdn.akamai.steamstatic.com/steamcommunity/public/images/apps/730/55f621c6ae554de84edd1fce9ed2ba6ba9e08de4.jpg',\n",
       "  u'icongray': u'http://cdn.akamai.steamstatic.com/steamcommunity/public/images/apps/730/59c39f284bf618988e925b9445a8525817ad178c.jpg',\n",
       "  u'name': u'WIN_MAP_DE_AZTEC'},\n",
       " {u'defaultvalue': 0,\n",
       "  u'description': u'Win 100 rounds on Dust',\n",
       "  u'displayName': u'Dust Map Veteran',\n",
       "  u'hidden': 0,\n",
       "  u'icon': u'http://cdn.akamai.steamstatic.com/steamcommunity/public/images/apps/730/1b3ef8f80011b7728e0a90b119c277e8f8f4ebf1.jpg',\n",
       "  u'icongray': u'http://cdn.akamai.steamstatic.com/steamcommunity/public/images/apps/730/26c020620df0ac4ea8e4aedc802d0d4b9fa99002.jpg',\n",
       "  u'name': u'WIN_MAP_DE_DUST'},\n",
       " {u'defaultvalue': 0,\n",
       "  u'description': u'Win 100 rounds on Dust2',\n",
       "  u'displayName': u'Dust2 Map Veteran',\n",
       "  u'hidden': 0,\n",
       "  u'icon': u'http://cdn.akamai.steamstatic.com/steamcommunity/public/images/apps/730/5210b418dcb481a9a582a3007c6a1bcc9e0a28fb.jpg',\n",
       "  u'icongray': u'http://cdn.akamai.steamstatic.com/steamcommunity/public/images/apps/730/4bb16b1f0c2b29d8fc8a9530507ee74e347b5bf8.jpg',\n",
       "  u'name': u'WIN_MAP_DE_DUST2'},\n",
       " {u'defaultvalue': 0,\n",
       "  u'description': u'Win 100 rounds on Inferno',\n",
       "  u'displayName': u'Inferno Map Veteran',\n",
       "  u'hidden': 0,\n",
       "  u'icon': u'http://cdn.akamai.steamstatic.com/steamcommunity/public/images/apps/730/57432488f8e462d84e73b4234b8c0d10b4840320.jpg',\n",
       "  u'icongray': u'http://cdn.akamai.steamstatic.com/steamcommunity/public/images/apps/730/94d47ff130d2e576d56cfe2b37bc5919eccc97e4.jpg',\n",
       "  u'name': u'WIN_MAP_DE_INFERNO'},\n",
       " {u'defaultvalue': 0,\n",
       "  u'description': u'Win 100 rounds on Nuke',\n",
       "  u'displayName': u'Nuke Map Veteran',\n",
       "  u'hidden': 0,\n",
       "  u'icon': u'http://cdn.akamai.steamstatic.com/steamcommunity/public/images/apps/730/793ef60b248eee91e24909a802f171ef1e0054fa.jpg',\n",
       "  u'icongray': u'http://cdn.akamai.steamstatic.com/steamcommunity/public/images/apps/730/33d1ab6153d7ea7087feb2b89e303c4f1f5bd4b5.jpg',\n",
       "  u'name': u'WIN_MAP_DE_NUKE'},\n",
       " {u'defaultvalue': 0,\n",
       "  u'description': u'Win five matches on Shorttrain',\n",
       "  u'displayName': u'Shorttrain Map Veteran',\n",
       "  u'hidden': 0,\n",
       "  u'icon': u'http://cdn.akamai.steamstatic.com/steamcommunity/public/images/apps/730/c4cf46ea10258c2cc9a0a806349d617ef23b86b6.jpg',\n",
       "  u'icongray': u'http://cdn.akamai.steamstatic.com/steamcommunity/public/images/apps/730/7c7c7cb08ffdc1aaf54cd76881d526eb97403c7d.jpg',\n",
       "  u'name': u'WIN_MAP_DE_SHORTTRAIN'},\n",
       " {u'defaultvalue': 0,\n",
       "  u'description': u'Kill an enemy while you are airborne',\n",
       "  u'displayName': u'Death From Above',\n",
       "  u'hidden': 0,\n",
       "  u'icon': u'http://cdn.akamai.steamstatic.com/steamcommunity/public/images/apps/730/d47c7a78c7bc6dcc720afbece64fe8ef0d55f4dd.jpg',\n",
       "  u'icongray': u'http://cdn.akamai.steamstatic.com/steamcommunity/public/images/apps/730/be45e7791dfdeffcd2a12be0fdef91e807a53b02.jpg',\n",
       "  u'name': u'KILL_WHILE_IN_AIR'},\n",
       " {u'defaultvalue': 0,\n",
       "  u'description': u'Kill an airborne enemy',\n",
       "  u'displayName': u'Bunny Hunt',\n",
       "  u'hidden': 0,\n",
       "  u'icon': u'http://cdn.akamai.steamstatic.com/steamcommunity/public/images/apps/730/36bee0e89e3152683990a4e0a6ac3175f14b3c9b.jpg',\n",
       "  u'icongray': u'http://cdn.akamai.steamstatic.com/steamcommunity/public/images/apps/730/de394e0ab012d5490bd0b6f229f461e87e79a8a5.jpg',\n",
       "  u'name': u'KILL_ENEMY_IN_AIR'},\n",
       " {u'defaultvalue': 0,\n",
       "  u'description': u'Kill an airborne enemy while you are also airborne',\n",
       "  u'displayName': u'Aerial Necrobatics',\n",
       "  u'hidden': 0,\n",
       "  u'icon': u'http://cdn.akamai.steamstatic.com/steamcommunity/public/images/apps/730/f2ad27b9e610de552f3eea70fa1f5ecec17d7400.jpg',\n",
       "  u'icongray': u'http://cdn.akamai.steamstatic.com/steamcommunity/public/images/apps/730/ef41b3fa5bd65c9c30b74b0fa0e9f68713b73556.jpg',\n",
       "  u'name': u'KILLER_AND_ENEMY_IN_AIR'},\n",
       " {u'defaultvalue': 0,\n",
       "  u'description': u'Win a round without making any footstep noise, killing at least one enemy',\n",
       "  u'displayName': u'Black Bag Operation',\n",
       "  u'hidden': 0,\n",
       "  u'icon': u'http://cdn.akamai.steamstatic.com/steamcommunity/public/images/apps/730/9115f55717b4531f2954e2ae97cab50d7c809e04.jpg',\n",
       "  u'icongray': u'http://cdn.akamai.steamstatic.com/steamcommunity/public/images/apps/730/22a386e0d62909cb37748575c2f5a26dacec5ae3.jpg',\n",
       "  u'name': u'SILENT_WIN'},\n",
       " {u'defaultvalue': 0,\n",
       "  u'description': u'Win a round in which no enemy players die',\n",
       "  u'displayName': u'Cold War',\n",
       "  u'hidden': 0,\n",
       "  u'icon': u'http://cdn.akamai.steamstatic.com/steamcommunity/public/images/apps/730/9acdeabcc6010e5e317b45125c3d9f8557daeec0.jpg',\n",
       "  u'icongray': u'http://cdn.akamai.steamstatic.com/steamcommunity/public/images/apps/730/b6d7ccf98eeaaa897709e51f9eca48978220d737.jpg',\n",
       "  u'name': u'BLOODLESS_VICTORY'},\n",
       " {u'defaultvalue': 0,\n",
       "  u'description': u'Donate 100 weapons to your teammates',\n",
       "  u'displayName': u'Killanthropist',\n",
       "  u'hidden': 0,\n",
       "  u'icon': u'http://cdn.akamai.steamstatic.com/steamcommunity/public/images/apps/730/d6029b217b817879924136ec61345c9774187ffb.jpg',\n",
       "  u'icongray': u'http://cdn.akamai.steamstatic.com/steamcommunity/public/images/apps/730/004af3a53ba5946d961d220448bdc3eaf1cbbce7.jpg',\n",
       "  u'name': u'DONATE_WEAPONS'},\n",
       " {u'defaultvalue': 0,\n",
       "  u'description': u'Win ten rounds in a row without dying or spending any cash in Classic mode',\n",
       "  u'displayName': u'The Frugal Beret',\n",
       "  u'hidden': 0,\n",
       "  u'icon': u'http://cdn.akamai.steamstatic.com/steamcommunity/public/images/apps/730/4ef75482e607ffa171598b739985407645be25f3.jpg',\n",
       "  u'icongray': u'http://cdn.akamai.steamstatic.com/steamcommunity/public/images/apps/730/3a555d55923b301634bc28f8b677be62399235ba.jpg',\n",
       "  u'name': u'WIN_ROUNDS_WITHOUT_BUYING'},\n",
       " {u'defaultvalue': 0,\n",
       "  u'description': u'Stop defusing the bomb long enough to kill an enemy, then successfully finish defusing it',\n",
       "  u'displayName': u'Defusus Interruptus',\n",
       "  u'hidden': 0,\n",
       "  u'icon': u'http://cdn.akamai.steamstatic.com/steamcommunity/public/images/apps/730/71d7972286f4037b04343cf14a429e9bb890980c.jpg',\n",
       "  u'icongray': u'http://cdn.akamai.steamstatic.com/steamcommunity/public/images/apps/730/792a9f40a7efbbe6db7c4855759403c3b44e5c9b.jpg',\n",
       "  u'name': u'DEFUSE_DEFENSE'},\n",
       " {u'defaultvalue': 0,\n",
       "  u'description': u'Kill an enemy within three seconds after they recover a dropped bomb',\n",
       "  u'displayName': u'Participation Award',\n",
       "  u'hidden': 0,\n",
       "  u'icon': u'http://cdn.akamai.steamstatic.com/steamcommunity/public/images/apps/730/c8363f9b9d8edefc807592ac0ebf0443638816e4.jpg',\n",
       "  u'icongray': u'http://cdn.akamai.steamstatic.com/steamcommunity/public/images/apps/730/c582137968e8e30b7ad5ff020a122692ae9eda43.jpg',\n",
       "  u'name': u'KILL_BOMB_PICKUP'},\n",
       " {u'defaultvalue': 0,\n",
       "  u'description': u'Dominate an enemy',\n",
       "  u'displayName': u'Repeat Offender',\n",
       "  u'hidden': 0,\n",
       "  u'icon': u'http://cdn.akamai.steamstatic.com/steamcommunity/public/images/apps/730/8c161f325310f4319064377fab29f9c7ddb19953.jpg',\n",
       "  u'icongray': u'http://cdn.akamai.steamstatic.com/steamcommunity/public/images/apps/730/93d4894afca8e1fd08e839464a96c16ddfb64aa3.jpg',\n",
       "  u'name': u'DOMINATIONS_LOW'},\n",
       " {u'defaultvalue': 0,\n",
       "  u'description': u'Dominate ten enemies',\n",
       "  u'displayName': u'Decimator',\n",
       "  u'hidden': 0,\n",
       "  u'icon': u'http://cdn.akamai.steamstatic.com/steamcommunity/public/images/apps/730/84b5363e331ac0f4f81b25f023dfd441b7704871.jpg',\n",
       "  u'icongray': u'http://cdn.akamai.steamstatic.com/steamcommunity/public/images/apps/730/9a67684395c15619e91c29c6aec2f8904065cc1b.jpg',\n",
       "  u'name': u'DOMINATIONS_HIGH'},\n",
       " {u'defaultvalue': 0,\n",
       "  u'description': u'Kill an enemy whom you are already dominating',\n",
       "  u'displayName': u'Overkill',\n",
       "  u'hidden': 0,\n",
       "  u'icon': u'http://cdn.akamai.steamstatic.com/steamcommunity/public/images/apps/730/35f678614f16eabd93cf2bfac3d25056c19c05db.jpg',\n",
       "  u'icongray': u'http://cdn.akamai.steamstatic.com/steamcommunity/public/images/apps/730/267be94458e3f79957f06e36b8754d8324b7bf50.jpg',\n",
       "  u'name': u'DOMINATION_OVERKILLS_LOW'},\n",
       " {u'defaultvalue': 0,\n",
       "  u'description': u'Kill 100 enemies whom you are already dominating',\n",
       "  u'displayName': u'Command and Control',\n",
       "  u'hidden': 0,\n",
       "  u'icon': u'http://cdn.akamai.steamstatic.com/steamcommunity/public/images/apps/730/eb6fbfae0b533923e11313d0b899762a602c85d6.jpg',\n",
       "  u'icongray': u'http://cdn.akamai.steamstatic.com/steamcommunity/public/images/apps/730/fde4c00181781f63c793864fb82aff3ccd652af0.jpg',\n",
       "  u'name': u'DOMINATION_OVERKILLS_HIGH'},\n",
       " {u'defaultvalue': 0,\n",
       "  u'description': u'Kill an enemy who is dominating you',\n",
       "  u'displayName': u'Insurgent',\n",
       "  u'hidden': 0,\n",
       "  u'icon': u'http://cdn.akamai.steamstatic.com/steamcommunity/public/images/apps/730/3bcdad95b60feeb79544208afbab7420ba7ca7c0.jpg',\n",
       "  u'icongray': u'http://cdn.akamai.steamstatic.com/steamcommunity/public/images/apps/730/0169c0d91b886351fe8e98c911655ec407a2e13e.jpg',\n",
       "  u'name': u'REVENGES_LOW'},\n",
       " {u'defaultvalue': 0,\n",
       "  u'description': u'Kill 20 enemies who are dominating you',\n",
       "  u'displayName': u\"Can't Keep a Good Man Down\",\n",
       "  u'hidden': 0,\n",
       "  u'icon': u'http://cdn.akamai.steamstatic.com/steamcommunity/public/images/apps/730/318f5f8715d76b9a59ae187ee3d052c533761efc.jpg',\n",
       "  u'icongray': u'http://cdn.akamai.steamstatic.com/steamcommunity/public/images/apps/730/54f01fd1936707ac2988b84d93c9f5ed264a66e9.jpg',\n",
       "  u'name': u'REVENGES_HIGH'},\n",
       " {u'defaultvalue': 0,\n",
       "  u'description': u'Dominate three enemies simultaneously',\n",
       "  u'displayName': u'Hat Trick',\n",
       "  u'hidden': 0,\n",
       "  u'icon': u'http://cdn.akamai.steamstatic.com/steamcommunity/public/images/apps/730/8fe19e0adf20dfae6ee71dd83c2249ba45b93df9.jpg',\n",
       "  u'icongray': u'http://cdn.akamai.steamstatic.com/steamcommunity/public/images/apps/730/8abe73ca9f1b49e57f79225dab67f5a679e413bb.jpg',\n",
       "  u'name': u'CONCURRENT_DOMINATIONS'},\n",
       " {u'defaultvalue': 0,\n",
       "  u'description': u'Kill 10 enemies you are already dominating during a single match',\n",
       "  u'displayName': u'Ten Angry Men',\n",
       "  u'hidden': 0,\n",
       "  u'icon': u'http://cdn.akamai.steamstatic.com/steamcommunity/public/images/apps/730/d2a9bece8d07edc762f688132f8cbecb6a508057.jpg',\n",
       "  u'icongray': u'http://cdn.akamai.steamstatic.com/steamcommunity/public/images/apps/730/585202a4828b7d6e228a83a6246bf6f53463cfa2.jpg',\n",
       "  u'name': u'DOMINATION_OVERKILLS_MATCH'},\n",
       " {u'defaultvalue': 0,\n",
       "  u'description': u'Kill an enemy whom you are dominating four additional times',\n",
       "  u'displayName': u'Excessive Brutality',\n",
       "  u'hidden': 0,\n",
       "  u'icon': u'http://cdn.akamai.steamstatic.com/steamcommunity/public/images/apps/730/5d9f9a1cbb9ddcc583a826defa941f2c7240125f.jpg',\n",
       "  u'icongray': u'http://cdn.akamai.steamstatic.com/steamcommunity/public/images/apps/730/c5f44363ea98bb62baa9ac5a2907808e8e9ccc51.jpg',\n",
       "  u'name': u'EXTENDED_DOMINATION'},\n",
       " {u'defaultvalue': 0,\n",
       "  u'description': u'Kill two enemies while you are blinded from a flashbang',\n",
       "  u'displayName': u'Spray and Pray',\n",
       "  u'hidden': 0,\n",
       "  u'icon': u'http://cdn.akamai.steamstatic.com/steamcommunity/public/images/apps/730/0080dcf6f75bfa344d7f4d8fa8be790bc28964d7.jpg',\n",
       "  u'icongray': u'http://cdn.akamai.steamstatic.com/steamcommunity/public/images/apps/730/8ce1ca439ef39f231c60197bb3a74f588ca1cbba.jpg',\n",
       "  u'name': u'KILL_ENEMIES_WHILE_BLIND_HARD'},\n",
       " {u'defaultvalue': 0,\n",
       "  u'description': u'Blind an enemy player who then kills a teammate',\n",
       "  u'displayName': u'The Road to Hell',\n",
       "  u'hidden': 0,\n",
       "  u'icon': u'http://cdn.akamai.steamstatic.com/steamcommunity/public/images/apps/730/a4994faa509318b93c5acd432e4f2c27821bb113.jpg',\n",
       "  u'icongray': u'http://cdn.akamai.steamstatic.com/steamcommunity/public/images/apps/730/3fd9f0ee222fa78cc1ea678b70921cd5f83a0ec6.jpg',\n",
       "  u'name': u'CAUSE_FRIENDLY_FIRE_WITH_FLASHBANG'},\n",
       " {u'defaultvalue': 0,\n",
       "  u'description': u'Kill an enemy who has killed a player on your friends list in the same round',\n",
       "  u'displayName': u'Avenging Angel',\n",
       "  u'hidden': 0,\n",
       "  u'icon': u'http://cdn.akamai.steamstatic.com/steamcommunity/public/images/apps/730/a43e9ea14bfc5c7c65d9403bf7ed0869cb1fa0f3.jpg',\n",
       "  u'icongray': u'http://cdn.akamai.steamstatic.com/steamcommunity/public/images/apps/730/056f3578244e069b90d75b8124652ae17b744f9b.jpg',\n",
       "  u'name': u'AVENGE_FRIEND'},\n",
       " {u'defaultvalue': 0,\n",
       "  u'description': u'Kill a player who is on gold knife level in Arms Race Mode',\n",
       "  u'displayName': u'Denied!',\n",
       "  u'hidden': 0,\n",
       "  u'icon': u'http://cdn.akamai.steamstatic.com/steamcommunity/public/images/apps/730/9a1cd597e0b3b4f24ef9bf2daf4ca67f40aab770.jpg',\n",
       "  u'icongray': u'http://cdn.akamai.steamstatic.com/steamcommunity/public/images/apps/730/15793fee93359e9b019e28eb09a000409273f014.jpg',\n",
       "  u'name': u'GUN_GAME_KILL_KNIFER'},\n",
       " {u'defaultvalue': 0,\n",
       "  u'description': u'Win a match on every Arms Race and Demolition map',\n",
       "  u'displayName': u'Marksman',\n",
       "  u'hidden': 0,\n",
       "  u'icon': u'http://cdn.akamai.steamstatic.com/steamcommunity/public/images/apps/730/96c24a4d8479ba27188f830fb5a0784ed5acf30d.jpg',\n",
       "  u'icongray': u'http://cdn.akamai.steamstatic.com/steamcommunity/public/images/apps/730/f8b155f5da59087dd5c9f4251b2bb786f2e6d5b6.jpg',\n",
       "  u'name': u'WIN_EVERY_GUNGAME_MAP'},\n",
       " {u'defaultvalue': 0,\n",
       "  u'description': u'Win five matches in Arms Race Mode on Shoots',\n",
       "  u'displayName': u'Shoots Vet',\n",
       "  u'hidden': 0,\n",
       "  u'icon': u'http://cdn.akamai.steamstatic.com/steamcommunity/public/images/apps/730/285b0ace38c4a02a02844c8d8b559054877a79f0.jpg',\n",
       "  u'icongray': u'http://cdn.akamai.steamstatic.com/steamcommunity/public/images/apps/730/8a7f730636f7fb94ef405dc5e4f45f58d2ad1667.jpg',\n",
       "  u'name': u'WIN_MAP_AR_SHOOTS'},\n",
       " {u'defaultvalue': 0,\n",
       "  u'description': u'Plant five bombs in Demolition Mode',\n",
       "  u'displayName': u'Shorter Fuse',\n",
       "  u'hidden': 0,\n",
       "  u'icon': u'http://cdn.akamai.steamstatic.com/steamcommunity/public/images/apps/730/747d9d833b65f4e8875c46143fb11159b36fc50f.jpg',\n",
       "  u'icongray': u'http://cdn.akamai.steamstatic.com/steamcommunity/public/images/apps/730/dba2a3cc2a9b69632abb8c88302935f174b91284.jpg',\n",
       "  u'name': u'TR_BOMB_PLANT_LOW'},\n",
       " {u'defaultvalue': 0,\n",
       "  u'description': u'Defuse five bombs in Demolition mode',\n",
       "  u'displayName': u'Quick Cut',\n",
       "  u'hidden': 0,\n",
       "  u'icon': u'http://cdn.akamai.steamstatic.com/steamcommunity/public/images/apps/730/6935340c4d2277c095f72a701d56a788eb3ce304.jpg',\n",
       "  u'icongray': u'http://cdn.akamai.steamstatic.com/steamcommunity/public/images/apps/730/e19146a204847b07cc1ac6b18f4a8b714b1ea20f.jpg',\n",
       "  u'name': u'TR_BOMB_DEFUSE_LOW'},\n",
       " {u'defaultvalue': 0,\n",
       "  u'description': u'Win five matches on Lake',\n",
       "  u'displayName': u'Vacation',\n",
       "  u'hidden': 0,\n",
       "  u'icon': u'http://cdn.akamai.steamstatic.com/steamcommunity/public/images/apps/730/31c3ab15c1850db833bb3876df7b9943637e916f.jpg',\n",
       "  u'icongray': u'http://cdn.akamai.steamstatic.com/steamcommunity/public/images/apps/730/7a3d1294fcfcf61c9e65efba02f2e44fdf6ef0a5.jpg',\n",
       "  u'name': u'WIN_MAP_DE_LAKE'},\n",
       " {u'defaultvalue': 0,\n",
       "  u'description': u'Win five matches on Safehouse',\n",
       "  u'displayName': u'My House',\n",
       "  u'hidden': 0,\n",
       "  u'icon': u'http://cdn.akamai.steamstatic.com/steamcommunity/public/images/apps/730/05cc579e286fa4e9c7b4a8ec5cc8bc409eeb2f5a.jpg',\n",
       "  u'icongray': u'http://cdn.akamai.steamstatic.com/steamcommunity/public/images/apps/730/610a7c3ebf040e5a092f059d3b0113e4a9f88eae.jpg',\n",
       "  u'name': u'WIN_MAP_DE_SAFEHOUSE'},\n",
       " {u'defaultvalue': 0,\n",
       "  u'description': u'Win five matches on Sugarcane',\n",
       "  u'displayName': u'Run of the Mill',\n",
       "  u'hidden': 0,\n",
       "  u'icon': u'http://cdn.akamai.steamstatic.com/steamcommunity/public/images/apps/730/aaaabd6a546238226dcfc92118a5557876bab7ee.jpg',\n",
       "  u'icongray': u'http://cdn.akamai.steamstatic.com/steamcommunity/public/images/apps/730/1ca333fac93d929f4e0c04b37960cb8b38bf4dd2.jpg',\n",
       "  u'name': u'WIN_MAP_DE_SUGARCANE'},\n",
       " {u'defaultvalue': 0,\n",
       "  u'description': u'Win five matches on St. Marc',\n",
       "  u'displayName': u'Marcsman',\n",
       "  u'hidden': 0,\n",
       "  u'icon': u'http://cdn.akamai.steamstatic.com/steamcommunity/public/images/apps/730/6f06126bd8c508f205c7bf7ffacf32dde77c242b.jpg',\n",
       "  u'icongray': u'http://cdn.akamai.steamstatic.com/steamcommunity/public/images/apps/730/7e3b1689a9b8a03f461b17488b2fafed740b5e87.jpg',\n",
       "  u'name': u'WIN_MAP_DE_STMARC'},\n",
       " {u'defaultvalue': 0,\n",
       "  u'description': u'Kill an enemy who is on gold knife level with your own knife in Arms Race Mode',\n",
       "  u'displayName': u'Knife on Knife',\n",
       "  u'hidden': 0,\n",
       "  u'icon': u'http://cdn.akamai.steamstatic.com/steamcommunity/public/images/apps/730/2f1cc20b9181390d0f10494d9f29b659f7db4623.jpg',\n",
       "  u'icongray': u'http://cdn.akamai.steamstatic.com/steamcommunity/public/images/apps/730/40ee7dae79c9a3b0e5476c504be890c6815a7563.jpg',\n",
       "  u'name': u'GUN_GAME_KNIFE_KILL_KNIFER'},\n",
       " {u'defaultvalue': 0,\n",
       "  u'description': u'Kill an enemy who is on gold knife level with a sub-machine gun in Arms Race Mode',\n",
       "  u'displayName': u'Level Playing Field',\n",
       "  u'hidden': 0,\n",
       "  u'icon': u'http://cdn.akamai.steamstatic.com/steamcommunity/public/images/apps/730/975c11095cd8c9bd21773676c519bf279e816e95.jpg',\n",
       "  u'icongray': u'http://cdn.akamai.steamstatic.com/steamcommunity/public/images/apps/730/b3d4fed55f308d5f66b6a7f918c2c848f91bf24c.jpg',\n",
       "  u'name': u'GUN_GAME_SMG_KILL_KNIFER'},\n",
       " {u'defaultvalue': 0,\n",
       "  u'description': u'Play 100 matches of Arms Race or Demolition mode',\n",
       "  u'displayName': u'Practice Practice Practice',\n",
       "  u'hidden': 0,\n",
       "  u'icon': u'http://cdn.akamai.steamstatic.com/steamcommunity/public/images/apps/730/fd2a716c0e7ec6a837748c4ed0834517e431ff94.jpg',\n",
       "  u'icongray': u'http://cdn.akamai.steamstatic.com/steamcommunity/public/images/apps/730/73ca8432b7b5b46cb59a7df3a1e8635cf53ca6d9.jpg',\n",
       "  u'name': u'GUN_GAME_ROUNDS_LOW'},\n",
       " {u'defaultvalue': 0,\n",
       "  u'description': u'Play 500 matches of Arms Race or Demolition mode',\n",
       "  u'displayName': u'Gun Collector',\n",
       "  u'hidden': 0,\n",
       "  u'icon': u'http://cdn.akamai.steamstatic.com/steamcommunity/public/images/apps/730/3c2603fbd848b5d29bfb6893dc6d268b92e5db04.jpg',\n",
       "  u'icongray': u'http://cdn.akamai.steamstatic.com/steamcommunity/public/images/apps/730/b751604b0015f7c76e8bd3f071ff65a57a4565ea.jpg',\n",
       "  u'name': u'GUN_GAME_ROUNDS_MED'},\n",
       " {u'defaultvalue': 0,\n",
       "  u'description': u'Play 5,000 matches of Arms Race or Demolition mode',\n",
       "  u'displayName': u'King of the Kill',\n",
       "  u'hidden': 0,\n",
       "  u'icon': u'http://cdn.akamai.steamstatic.com/steamcommunity/public/images/apps/730/b747e0fdf739e829314d5cde510432a32df34da9.jpg',\n",
       "  u'icongray': u'http://cdn.akamai.steamstatic.com/steamcommunity/public/images/apps/730/3d37e3a9c96b952cdf292bffc6f0f2fe577c1db0.jpg',\n",
       "  u'name': u'GUN_GAME_ROUNDS_HIGH'},\n",
       " {u'defaultvalue': 0,\n",
       "  u'description': u'Win one match in Arms Race or Demolition mode',\n",
       "  u'displayName': u'Gungamer',\n",
       "  u'hidden': 0,\n",
       "  u'icon': u'http://cdn.akamai.steamstatic.com/steamcommunity/public/images/apps/730/4a64a911384776b5b22b6b625739ac80c345ad52.jpg',\n",
       "  u'icongray': u'http://cdn.akamai.steamstatic.com/steamcommunity/public/images/apps/730/93a8f39d8310263c09f5d83975528af3e180397b.jpg',\n",
       "  u'name': u'WIN_GUN_GAME_ROUNDS_LOW'},\n",
       " {u'defaultvalue': 0,\n",
       "  u'description': u'Win 25 matches in Arms Race or Demolition mode',\n",
       "  u'displayName': u'Keep on Gunning',\n",
       "  u'hidden': 0,\n",
       "  u'icon': u'http://cdn.akamai.steamstatic.com/steamcommunity/public/images/apps/730/59044fe3688f7f060fcc9195c97e9359ad56c06b.jpg',\n",
       "  u'icongray': u'http://cdn.akamai.steamstatic.com/steamcommunity/public/images/apps/730/8956449c35a50d97aed68b5d344e9109d92493a3.jpg',\n",
       "  u'name': u'WIN_GUN_GAME_ROUNDS_MED'},\n",
       " {u'defaultvalue': 0,\n",
       "  u'description': u'Win 100 matches in Arms Race or Demolition mode',\n",
       "  u'displayName': u'Kill of the Century',\n",
       "  u'hidden': 0,\n",
       "  u'icon': u'http://cdn.akamai.steamstatic.com/steamcommunity/public/images/apps/730/1e69c7d4b68cc3e11047d7fe7c81434a73c365a7.jpg',\n",
       "  u'icongray': u'http://cdn.akamai.steamstatic.com/steamcommunity/public/images/apps/730/57a40469f09b9cb8ff40624814217253d89d8942.jpg',\n",
       "  u'name': u'WIN_GUN_GAME_ROUNDS_HIGH'},\n",
       " {u'defaultvalue': 0,\n",
       "  u'description': u'Win 500 matches in Arms Race or Demolition mode',\n",
       "  u'displayName': u'The Professional',\n",
       "  u'hidden': 0,\n",
       "  u'icon': u'http://cdn.akamai.steamstatic.com/steamcommunity/public/images/apps/730/72ec16ecfe103d72234c3731effc45ed909bdfcb.jpg',\n",
       "  u'icongray': u'http://cdn.akamai.steamstatic.com/steamcommunity/public/images/apps/730/8d23d4c383cd84575def97831d1f725e51e7db25.jpg',\n",
       "  u'name': u'WIN_GUN_GAME_ROUNDS_EXTREME'},\n",
       " {u'defaultvalue': 0,\n",
       "  u'description': u'Win 1,000 matches in Arms Race or Demolition mode',\n",
       "  u'displayName': u'Cold Pizza Eater',\n",
       "  u'hidden': 0,\n",
       "  u'icon': u'http://cdn.akamai.steamstatic.com/steamcommunity/public/images/apps/730/32896ed2906d75efe7c96206f2c89a8868e5b127.jpg',\n",
       "  u'icongray': u'http://cdn.akamai.steamstatic.com/steamcommunity/public/images/apps/730/1b5ce5ead820d16cd60a840366f686b9cd4af97c.jpg',\n",
       "  u'name': u'WIN_GUN_GAME_ROUNDS_ULTIMATE'},\n",
       " {u'defaultvalue': 0,\n",
       "  u'description': u'Play a round on every Arms Race and Demolition map',\n",
       "  u'displayName': u'Tourist',\n",
       "  u'hidden': 0,\n",
       "  u'icon': u'http://cdn.akamai.steamstatic.com/steamcommunity/public/images/apps/730/1b644ef323872a1131d3d7c4ee03ffab0c2b2667.jpg',\n",
       "  u'icongray': u'http://cdn.akamai.steamstatic.com/steamcommunity/public/images/apps/730/e9f50cecb28b3c37fe38f94216e393b34d4bd0a1.jpg',\n",
       "  u'name': u'PLAY_EVERY_GUNGAME_MAP'},\n",
       " {u'defaultvalue': 0,\n",
       "  u'description': u'Win an Arms Race match without dying',\n",
       "  u'displayName': u'Rampage!',\n",
       "  u'hidden': 0,\n",
       "  u'icon': u'http://cdn.akamai.steamstatic.com/steamcommunity/public/images/apps/730/33724c22d5c591d606cf5ae3cfc86d3ac7636831.jpg',\n",
       "  u'icongray': u'http://cdn.akamai.steamstatic.com/steamcommunity/public/images/apps/730/04e65f5cf5b808c411e7447d6bff48dfd9c9eabd.jpg',\n",
       "  u'name': u'GUN_GAME_RAMPAGE'},\n",
       " {u'defaultvalue': 0,\n",
       "  u'description': u'Be the first player to get a kill in an Arms Race or Demolition match',\n",
       "  u'displayName': u'FIRST!',\n",
       "  u'hidden': 0,\n",
       "  u'icon': u'http://cdn.akamai.steamstatic.com/steamcommunity/public/images/apps/730/f43514b35d97147befe3d0206c256abe16494d10.jpg',\n",
       "  u'icongray': u'http://cdn.akamai.steamstatic.com/steamcommunity/public/images/apps/730/8d29ee467f4ddd380fc6e5140d0f96c62adeccb4.jpg',\n",
       "  u'name': u'GUN_GAME_FIRST_KILL'},\n",
       " {u'defaultvalue': 0,\n",
       "  u'description': u'Personally kill the entire Terrorist team before the bomb is planted in Demolition Mode',\n",
       "  u'displayName': u'First Things First',\n",
       "  u'hidden': 0,\n",
       "  u'icon': u'http://cdn.akamai.steamstatic.com/steamcommunity/public/images/apps/730/3383694a54d7f6becb9c914f2807403839f947ad.jpg',\n",
       "  u'icongray': u'http://cdn.akamai.steamstatic.com/steamcommunity/public/images/apps/730/2e1f4749e3f6aacb4cd11b7fe0881ef6b58ffcbb.jpg',\n",
       "  u'name': u'GUN_GAME_FIRST_THING_FIRST'},\n",
       " {u'defaultvalue': 0,\n",
       "  u'description': u'Personally kill the entire Counter-Terrorist team before the bomb is planted in Demolition Mode',\n",
       "  u'displayName': u'Target Secured',\n",
       "  u'hidden': 0,\n",
       "  u'icon': u'http://cdn.akamai.steamstatic.com/steamcommunity/public/images/apps/730/851393a0dd28365e5a67bf52ba97d5f7d7b41ef8.jpg',\n",
       "  u'icongray': u'http://cdn.akamai.steamstatic.com/steamcommunity/public/images/apps/730/ca440a9ba5c5ff725825d77151f83268487dc141.jpg',\n",
       "  u'name': u'GUN_GAME_TARGET_SECURED'},\n",
       " {u'defaultvalue': 0,\n",
       "  u'description': u'Kill three consecutive players using the first bullet of your gun in Arms Race mode',\n",
       "  u'displayName': u'One Shot One Kill',\n",
       "  u'hidden': 0,\n",
       "  u'icon': u'http://cdn.akamai.steamstatic.com/steamcommunity/public/images/apps/730/7ceebbc7a90958c4c50477d313f55f7c371cefa9.jpg',\n",
       "  u'icongray': u'http://cdn.akamai.steamstatic.com/steamcommunity/public/images/apps/730/0bf0571d2e6cbea466c77a1b28b91f027769a64b.jpg',\n",
       "  u'name': u'ONE_SHOT_ONE_KILL'},\n",
       " {u'defaultvalue': 0,\n",
       "  u'description': u'Win an Arms Race match without reloading any of your weapons',\n",
       "  u'displayName': u'Conservationist',\n",
       "  u'hidden': 0,\n",
       "  u'icon': u'http://cdn.akamai.steamstatic.com/steamcommunity/public/images/apps/730/aace8291de73c7ef8388cd2a0ba4be87497c5cf5.jpg',\n",
       "  u'icongray': u'http://cdn.akamai.steamstatic.com/steamcommunity/public/images/apps/730/4483f4a571fad5bb6829fd6d4d17d8f920628cce.jpg',\n",
       "  u'name': u'GUN_GAME_CONSERVATIONIST'},\n",
       " {u'defaultvalue': 0,\n",
       "  u'description': u'Kill an enemy just as their respawn protection ends in Arms Race mode',\n",
       "  u'displayName': u'Base Scamper',\n",
       "  u'hidden': 0,\n",
       "  u'icon': u'http://cdn.akamai.steamstatic.com/steamcommunity/public/images/apps/730/c1000dbf007206aeddbeed97fcd331405e542adf.jpg',\n",
       "  u'icongray': u'http://cdn.akamai.steamstatic.com/steamcommunity/public/images/apps/730/41d2301e82ddcc783512d0e8dac538767c9af8ff.jpg',\n",
       "  u'name': u'BASE_SCAMPER'},\n",
       " {u'defaultvalue': 0,\n",
       "  u'description': u'Kill an enemy with the first bullet after your respawn protection ends in Arms Race mode',\n",
       "  u'displayName': u'Born Ready',\n",
       "  u'hidden': 0,\n",
       "  u'icon': u'http://cdn.akamai.steamstatic.com/steamcommunity/public/images/apps/730/5856a57c4a43a209287ef5d4d2ab2cd2e6d4bc76.jpg',\n",
       "  u'icongray': u'http://cdn.akamai.steamstatic.com/steamcommunity/public/images/apps/730/a8ad2dc9a198f2a9853297c8def995b38341ac57.jpg',\n",
       "  u'name': u'BORN_READY'},\n",
       " {u'defaultvalue': 0,\n",
       "  u'description': u'Survive more than 30 seconds with less than ten health in Arms Race or Demolition mode',\n",
       "  u'displayName': u'Still Alive',\n",
       "  u'hidden': 0,\n",
       "  u'icon': u'http://cdn.akamai.steamstatic.com/steamcommunity/public/images/apps/730/344f2a3aa230450a3e2bda06533b2a632e223b4a.jpg',\n",
       "  u'icongray': u'http://cdn.akamai.steamstatic.com/steamcommunity/public/images/apps/730/d1981870927d0426646ba0ab59a0e1559ec27de6.jpg',\n",
       "  u'name': u'STILL_ALIVE'},\n",
       " {u'defaultvalue': 0,\n",
       "  u'description': u'Earn 100 achievements',\n",
       "  u'displayName': u'Awardist',\n",
       "  u'hidden': 0,\n",
       "  u'icon': u'http://cdn.akamai.steamstatic.com/steamcommunity/public/images/apps/730/f6d212f58b1055ddb033af1e30b401c6e04a349b.jpg',\n",
       "  u'icongray': u'http://cdn.akamai.steamstatic.com/steamcommunity/public/images/apps/730/8b8face693855070499542ea573f4db7880b8983.jpg',\n",
       "  u'name': u'MEDALIST'},\n",
       " {u'defaultvalue': 0,\n",
       "  u'description': u'Win five matches on Bank',\n",
       "  u'displayName': u'Bank On It',\n",
       "  u'hidden': 0,\n",
       "  u'icon': u'http://cdn.akamai.steamstatic.com/steamcommunity/public/images/apps/730/a6dc63b92a74f85d181a06ae1620e73636eebaae.jpg',\n",
       "  u'icongray': u'http://cdn.akamai.steamstatic.com/steamcommunity/public/images/apps/730/59ccb246ef0352f98e623792e3d82a0000643f6b.jpg',\n",
       "  u'name': u'WIN_MAP_DE_BANK'},\n",
       " {u'defaultvalue': 0,\n",
       "  u'description': u'Win five matches in Arms Race Mode on Baggage',\n",
       "  u'displayName': u'Baggage Claimer',\n",
       "  u'hidden': 0,\n",
       "  u'icon': u'http://cdn.akamai.steamstatic.com/steamcommunity/public/images/apps/730/ce59e044fac4e9d67c5b3b06ccad3701ad0176e4.jpg',\n",
       "  u'icongray': u'http://cdn.akamai.steamstatic.com/steamcommunity/public/images/apps/730/489e002bf442ebecc74c1ed4c9c59c3624a070a9.jpg',\n",
       "  u'name': u'WIN_MAP_AR_BAGGAGE'},\n",
       " {u'defaultvalue': 0,\n",
       "  u'description': u'Kill 250 enemies with the PP-Bizon',\n",
       "  u'displayName': u'PP-Bizon Expert',\n",
       "  u'hidden': 0,\n",
       "  u'icon': u'http://cdn.akamai.steamstatic.com/steamcommunity/public/images/apps/730/088181628a8e14fde5d6090bb90dd6f7e685c23b.jpg',\n",
       "  u'icongray': u'http://cdn.akamai.steamstatic.com/steamcommunity/public/images/apps/730/5990c307196160cbe9dba70f7d0853afa72f52db.jpg',\n",
       "  u'name': u'KILL_ENEMY_BIZON'},\n",
       " {u'defaultvalue': 0,\n",
       "  u'description': u'Kill 100 enemies with the Tec-9',\n",
       "  u'displayName': u'Tec-9 Expert',\n",
       "  u'hidden': 0,\n",
       "  u'icon': u'http://cdn.akamai.steamstatic.com/steamcommunity/public/images/apps/730/d27a9eb65bb331b15c04ea8840ac4de587f38e4b.jpg',\n",
       "  u'icongray': u'http://cdn.akamai.steamstatic.com/steamcommunity/public/images/apps/730/c0de589d9a345909a4d5f590a9294400798e6bdb.jpg',\n",
       "  u'name': u'KILL_ENEMY_TEC9'},\n",
       " {u'defaultvalue': 0,\n",
       "  u'description': u'Kill 10 enemies with the Zeus x27',\n",
       "  u'displayName': u'Zeus x27 Expert',\n",
       "  u'hidden': 0,\n",
       "  u'icon': u'http://cdn.akamai.steamstatic.com/steamcommunity/public/images/apps/730/5bd3dff996574f914ce9cf66c25230afa7ea99f5.jpg',\n",
       "  u'icongray': u'http://cdn.akamai.steamstatic.com/steamcommunity/public/images/apps/730/62859e63cf906d85dffdd40bc05240d807a4a13e.jpg',\n",
       "  u'name': u'KILL_ENEMY_TASER'},\n",
       " {u'defaultvalue': 0,\n",
       "  u'description': u'Kill 100 enemies with the P2000 or USP',\n",
       "  u'displayName': u'P2000/USP Tactical Expert',\n",
       "  u'hidden': 0,\n",
       "  u'icon': u'http://cdn.akamai.steamstatic.com/steamcommunity/public/images/apps/730/819a8572e35a624d545db1608c8feff8842e8b45.jpg',\n",
       "  u'icongray': u'http://cdn.akamai.steamstatic.com/steamcommunity/public/images/apps/730/ac79d04b1210aee0272ed24e89897625d3b99745.jpg',\n",
       "  u'name': u'KILL_ENEMY_HKP2000'},\n",
       " {u'defaultvalue': 0,\n",
       "  u'description': u'Kill 25 enemies with the P250',\n",
       "  u'displayName': u'P250 Expert',\n",
       "  u'hidden': 0,\n",
       "  u'icon': u'http://cdn.akamai.steamstatic.com/steamcommunity/public/images/apps/730/c3d65d7d4e64ef925e9e9863f466344a1edd2c69.jpg',\n",
       "  u'icongray': u'http://cdn.akamai.steamstatic.com/steamcommunity/public/images/apps/730/42e8c9a645a4eefd48051dde97ac0269795b2b3a.jpg',\n",
       "  u'name': u'KILL_ENEMY_P250'},\n",
       " {u'defaultvalue': 0,\n",
       "  u'description': u'Kill 100 enemies with the SCAR-20',\n",
       "  u'displayName': u'SCAR-20 Expert',\n",
       "  u'hidden': 0,\n",
       "  u'icon': u'http://cdn.akamai.steamstatic.com/steamcommunity/public/images/apps/730/54b73be2c9b7d265eb9a9aae5dac2492ed9da5f9.jpg',\n",
       "  u'icongray': u'http://cdn.akamai.steamstatic.com/steamcommunity/public/images/apps/730/ecdedbd60aa53efefa2a3068e546ae94dcbf3959.jpg',\n",
       "  u'name': u'KILL_ENEMY_SCAR20'},\n",
       " {u'defaultvalue': 0,\n",
       "  u'description': u'Kill 100 enemies with the SG553',\n",
       "  u'displayName': u'SG553 Expert',\n",
       "  u'hidden': 0,\n",
       "  u'icon': u'http://cdn.akamai.steamstatic.com/steamcommunity/public/images/apps/730/48f4510fdc397cc77a6847314edb77b7e5e32351.jpg',\n",
       "  u'icongray': u'http://cdn.akamai.steamstatic.com/steamcommunity/public/images/apps/730/f794e47191144b535b067d41873cb1f7b972671a.jpg',\n",
       "  u'name': u'KILL_ENEMY_SG556'},\n",
       " {u'defaultvalue': 0,\n",
       "  u'description': u'Kill 100 enemies with the SSG 08',\n",
       "  u'displayName': u'SSG 08 Expert',\n",
       "  u'hidden': 0,\n",
       "  u'icon': u'http://cdn.akamai.steamstatic.com/steamcommunity/public/images/apps/730/46ff7336028888b668484abd48b8d2448dc168c6.jpg',\n",
       "  u'icongray': u'http://cdn.akamai.steamstatic.com/steamcommunity/public/images/apps/730/e8e474be5facc60629a08adbcd9d73c35148f7f3.jpg',\n",
       "  u'name': u'KILL_ENEMY_SSG08'},\n",
       " {u'defaultvalue': 0,\n",
       "  u'description': u'Kill 250 enemies with the MP7',\n",
       "  u'displayName': u'MP7 Expert',\n",
       "  u'hidden': 0,\n",
       "  u'icon': u'http://cdn.akamai.steamstatic.com/steamcommunity/public/images/apps/730/3b082a66e030670c8b496006248bb2c59139370c.jpg',\n",
       "  u'icongray': u'http://cdn.akamai.steamstatic.com/steamcommunity/public/images/apps/730/3866ea2506cda6d95bfff3e67ad64fde8db304df.jpg',\n",
       "  u'name': u'KILL_ENEMY_MP7'},\n",
       " {u'defaultvalue': 0,\n",
       "  u'description': u'Kill 100 enemies with the MP9',\n",
       "  u'displayName': u'MP9 Expert',\n",
       "  u'hidden': 0,\n",
       "  u'icon': u'http://cdn.akamai.steamstatic.com/steamcommunity/public/images/apps/730/90ad5f5a2c540995f1b6436bd03609ad42c29904.jpg',\n",
       "  u'icongray': u'http://cdn.akamai.steamstatic.com/steamcommunity/public/images/apps/730/b692f67c0fab35be6ad9d49474a6eecf4f786e6a.jpg',\n",
       "  u'name': u'KILL_ENEMY_MP9'},\n",
       " {u'defaultvalue': 0,\n",
       "  u'description': u'Kill 50 enemies with the MAG-7',\n",
       "  u'displayName': u'MAG-7 Expert',\n",
       "  u'hidden': 0,\n",
       "  u'icon': u'http://cdn.akamai.steamstatic.com/steamcommunity/public/images/apps/730/43a157088b353f1347364fa0dcbb73fca36bc8ec.jpg',\n",
       "  u'icongray': u'http://cdn.akamai.steamstatic.com/steamcommunity/public/images/apps/730/3a90b24066b3e62f9fb59d8584acf69ae45c99b1.jpg',\n",
       "  u'name': u'KILL_ENEMY_MAG7'},\n",
       " {u'defaultvalue': 0,\n",
       "  u'description': u'Kill 50 enemies with the Sawed-Off',\n",
       "  u'displayName': u'Sawed-Off Expert',\n",
       "  u'hidden': 0,\n",
       "  u'icon': u'http://cdn.akamai.steamstatic.com/steamcommunity/public/images/apps/730/3f5eba75bc35416bda2aade3b717206b68e341f2.jpg',\n",
       "  u'icongray': u'http://cdn.akamai.steamstatic.com/steamcommunity/public/images/apps/730/4ba6e95affe6c23df0c24a8e8f455ed1c969b864.jpg',\n",
       "  u'name': u'KILL_ENEMY_SAWEDOFF'},\n",
       " {u'defaultvalue': 0,\n",
       "  u'description': u'Kill 100 enemies with the Nova',\n",
       "  u'displayName': u'Nova Expert',\n",
       "  u'hidden': 0,\n",
       "  u'icon': u'http://cdn.akamai.steamstatic.com/steamcommunity/public/images/apps/730/6cc9c55cfd6ef2c4bfd9e630ab356b709da6419b.jpg',\n",
       "  u'icongray': u'http://cdn.akamai.steamstatic.com/steamcommunity/public/images/apps/730/9f017a8e85bac8011505c1fb8d608f4c4d8a2989.jpg',\n",
       "  u'name': u'KILL_ENEMY_NOVA'},\n",
       " {u'defaultvalue': 0,\n",
       "  u'description': u'Kill 100 enemies with the Negev',\n",
       "  u'displayName': u'Negev Expert',\n",
       "  u'hidden': 0,\n",
       "  u'icon': u'http://cdn.akamai.steamstatic.com/steamcommunity/public/images/apps/730/3001277dd7b368365a473a1fd43e67e4dbc75169.jpg',\n",
       "  u'icongray': u'http://cdn.akamai.steamstatic.com/steamcommunity/public/images/apps/730/432da3ba7c40b3fd809b1a15fe086c5515c9edfd.jpg',\n",
       "  u'name': u'KILL_ENEMY_NEGEV'},\n",
       " {u'defaultvalue': 0,\n",
       "  u'description': u'Kill 100 enemies with the Molotov or Incendiary grenade',\n",
       "  u'displayName': u'Flame Expert',\n",
       "  u'hidden': 0,\n",
       "  u'icon': u'http://cdn.akamai.steamstatic.com/steamcommunity/public/images/apps/730/ebb2bec58c2f69aa2b2dbc6c4c53bc760dab5de8.jpg',\n",
       "  u'icongray': u'http://cdn.akamai.steamstatic.com/steamcommunity/public/images/apps/730/a7bbd871efe761eb3a02137f85fe8f429a8bb2e6.jpg',\n",
       "  u'name': u'KILL_ENEMY_MOLOTOV'},\n",
       " {u'defaultvalue': 0,\n",
       "  u'description': u'Win 100 rounds on Train',\n",
       "  u'displayName': u'Train Map Veteran',\n",
       "  u'hidden': 0,\n",
       "  u'icon': u'http://cdn.akamai.steamstatic.com/steamcommunity/public/images/apps/730/360ae17d09ec930fd0638d9fcd72baddea92094c.jpg',\n",
       "  u'icongray': u'http://cdn.akamai.steamstatic.com/steamcommunity/public/images/apps/730/2a4270469f1377564bde88b77925c4ddebb9c1d2.jpg',\n",
       "  u'name': u'WIN_MAP_DE_TRAIN'},\n",
       " {u'defaultvalue': 0,\n",
       "  u'description': u'Kill 250 enemies with the Galil AR',\n",
       "  u'displayName': u'Galil AR Expert',\n",
       "  u'hidden': 0,\n",
       "  u'icon': u'http://cdn.akamai.steamstatic.com/steamcommunity/public/images/apps/730/a3a32715a970dd3a8c174bc57ee1b2204d9d29b1.jpg',\n",
       "  u'icongray': u'http://cdn.akamai.steamstatic.com/steamcommunity/public/images/apps/730/61139f5e158c8af4592118802ad1ceb74cd40b57.jpg',\n",
       "  u'name': u'KILL_ENEMY_GALILAR'}]"
      ]
     },
     "execution_count": 189,
     "metadata": {},
     "output_type": "execute_result"
    }
   ],
   "source": [
    "gamestuff[\"game\"][\"availableGameStats\"][\"achievements\"]"
   ]
  },
  {
   "cell_type": "markdown",
   "metadata": {
    "collapsed": true
   },
   "source": [
    "# Get an ID Set"
   ]
  },
  {
   "cell_type": "code",
   "execution_count": 611,
   "metadata": {
    "collapsed": false
   },
   "outputs": [],
   "source": [
    "class GenerateSteamIds(object):\n",
    "    \"\"\"\n",
    "    Get IDS starting from a single friend or set/list of friends\n",
    "    \"\"\"\n",
    "    def __init__(self, key, ids):\n",
    "        self.key = key\n",
    "        if type(ids) == str:\n",
    "            self.friends = set([ids])\n",
    "        else:\n",
    "            self.friends = ids\n",
    "        self.private = set()\n",
    "    \n",
    "    def generate_steam_ids(self):\n",
    "        \"\"\"\n",
    "        INPUTS:\n",
    "          ids - single 17-digit Steam ID or list or set of ID strings\n",
    "        OUTPUTS:\n",
    "          set - set of PUBLIC 17-digt Steam IDs, at least as many as min_friends\n",
    "        Generate a bunch of Steam IDs from their friends\n",
    "        \"\"\"\n",
    "        t0 = time.time()\n",
    "        #key = os.environ[\"ACCESS_STEAM\"]\n",
    "        friend_set = set()\n",
    "        #private_users = set()\n",
    "        #if type(ids) == str:\n",
    "            #ids = set([ids])# just make sure it's a set if a single ID string is passed in\n",
    "        for id in self.friends:\n",
    "            url = 'http://api.steampowered.com/ISteamUser/GetPlayerSummaries/v0002/?key='+self.key+'&steamids='+id\n",
    "            user = json.loads(urllib2.urlopen(url).read())['response']['players'][0]\n",
    "            if user[\"communityvisibilitystate\"] != 3:\n",
    "                self.private.add(id)\n",
    "                continue\n",
    "            url = 'http://api.steampowered.com/ISteamUser/GetFriendList/v0001/?key='+self.key+'&steamid='+id+'&relationship=all'\n",
    "            friends = json.loads(urllib2.urlopen(url).read())[\"friendslist\"][\"friends\"]\n",
    "            for friend in friends:\n",
    "                friend_set.add(friend[\"steamid\"])\n",
    "\n",
    "        print \"Friend group size: {0}, in {1} seconds\".format(len(friend_set), time.time()-t0)\n",
    "        #print \"hello\"\n",
    "        return friend_set\n",
    "        #print self.friends\n",
    "    \n",
    "    def generate_minimum_ids(self, min_ids=10):\n",
    "            while len(self.friends) <= min_ids:\n",
    "                self.friends = self.generate_steam_ids()\n",
    "            return self.friends, self.private"
   ]
  },
  {
   "cell_type": "code",
   "execution_count": 612,
   "metadata": {
    "collapsed": false
   },
   "outputs": [],
   "source": [
    "friend_list = GenerateSteamIds(os.environ[\"ACCESS_STEAM\"], my_id)"
   ]
  },
  {
   "cell_type": "code",
   "execution_count": 613,
   "metadata": {
    "collapsed": false
   },
   "outputs": [
    {
     "name": "stdout",
     "output_type": "stream",
     "text": [
      "Friend group size: 7, in 0.758831977844 seconds\n",
      "Friend group size: 76, in 2.02124500275 seconds\n"
     ]
    }
   ],
   "source": [
    "get10friends, privates = friend_list.generate_minimum_ids(min_ids=10)"
   ]
  },
  {
   "cell_type": "code",
   "execution_count": 615,
   "metadata": {
    "collapsed": false
   },
   "outputs": [
    {
     "data": {
      "text/plain": [
       "{u'76561197960414216',\n",
       " u'76561197960559382',\n",
       " u'76561197960683957',\n",
       " u'76561197960785451',\n",
       " u'76561197961249867',\n",
       " u'76561197962239913',\n",
       " u'76561197962935145',\n",
       " u'76561197963197529',\n",
       " u'76561197964738445',\n",
       " u'76561197965354025',\n",
       " u'76561197965632101',\n",
       " u'76561197965657570',\n",
       " u'76561197967398882',\n",
       " u'76561197968519508',\n",
       " u'76561197969540747',\n",
       " u'76561197970322760',\n",
       " u'76561197972263138',\n",
       " u'76561197974981757',\n",
       " u'76561197976134580',\n",
       " u'76561197980499694',\n",
       " u'76561197980577280',\n",
       " u'76561197981953516',\n",
       " u'76561197982823731',\n",
       " u'76561197983532440',\n",
       " u'76561197984344221',\n",
       " u'76561197984369949',\n",
       " u'76561197985552996',\n",
       " u'76561197987784615',\n",
       " u'76561197989360743',\n",
       " u'76561197992684905',\n",
       " u'76561197992906884',\n",
       " u'76561197993370564',\n",
       " u'76561197995295208',\n",
       " u'76561197996025006',\n",
       " u'76561197998697448',\n",
       " u'76561197999568364',\n",
       " u'76561197999882487',\n",
       " u'76561198000565925',\n",
       " u'76561198001133491',\n",
       " u'76561198001744164',\n",
       " u'76561198005776488',\n",
       " u'76561198008337180',\n",
       " u'76561198011965138',\n",
       " u'76561198012511661',\n",
       " u'76561198012715654',\n",
       " u'76561198019108597',\n",
       " u'76561198023004830',\n",
       " u'76561198031937610',\n",
       " u'76561198033061449',\n",
       " u'76561198035400405',\n",
       " u'76561198038557138',\n",
       " u'76561198040170738',\n",
       " u'76561198040942123',\n",
       " u'76561198043288673',\n",
       " u'76561198043341565',\n",
       " u'76561198043989757',\n",
       " u'76561198044012154',\n",
       " u'76561198046447891',\n",
       " u'76561198051566617',\n",
       " u'76561198065225523',\n",
       " u'76561198067306298',\n",
       " u'76561198067490530',\n",
       " u'76561198068456702',\n",
       " u'76561198086200645',\n",
       " u'76561198086308894',\n",
       " u'76561198086606361',\n",
       " u'76561198086767969',\n",
       " u'76561198089853824',\n",
       " u'76561198094100568',\n",
       " u'76561198094311760',\n",
       " u'76561198098308228',\n",
       " u'76561198107669438',\n",
       " u'76561198115593892',\n",
       " u'76561198151979372',\n",
       " u'76561198152154395',\n",
       " u'76561198158516892'}"
      ]
     },
     "execution_count": 615,
     "metadata": {},
     "output_type": "execute_result"
    }
   ],
   "source": [
    "get10friends"
   ]
  },
  {
   "cell_type": "code",
   "execution_count": null,
   "metadata": {
    "collapsed": true
   },
   "outputs": [],
   "source": []
  },
  {
   "cell_type": "code",
   "execution_count": null,
   "metadata": {
    "collapsed": true
   },
   "outputs": [],
   "source": []
  },
  {
   "cell_type": "code",
   "execution_count": null,
   "metadata": {
    "collapsed": true
   },
   "outputs": [],
   "source": []
  },
  {
   "cell_type": "code",
   "execution_count": 600,
   "metadata": {
    "collapsed": false
   },
   "outputs": [],
   "source": [
    "listfriends = list(get10000friends)"
   ]
  },
  {
   "cell_type": "code",
   "execution_count": 601,
   "metadata": {
    "collapsed": false
   },
   "outputs": [
    {
     "data": {
      "text/plain": [
       "[u'76561197971340950',\n",
       " u'76561197988952025',\n",
       " u'76561198169761153',\n",
       " u'76561198002922051',\n",
       " u'76561198109725137',\n",
       " u'76561198085049223',\n",
       " u'76561198000127691',\n",
       " u'76561198094890595',\n",
       " u'76561198094033169',\n",
       " u'76561197998907707']"
      ]
     },
     "execution_count": 601,
     "metadata": {},
     "output_type": "execute_result"
    }
   ],
   "source": [
    "listfriends[:10]"
   ]
  },
  {
   "cell_type": "code",
   "execution_count": 605,
   "metadata": {
    "collapsed": true
   },
   "outputs": [],
   "source": [
    "import cPickle"
   ]
  },
  {
   "cell_type": "code",
   "execution_count": 606,
   "metadata": {
    "collapsed": false
   },
   "outputs": [],
   "source": [
    "cPickle.dump(listfriends, open('60782ids.p', 'wb')) "
   ]
  },
  {
   "cell_type": "code",
   "execution_count": 527,
   "metadata": {
    "collapsed": false
   },
   "outputs": [
    {
     "name": "stdout",
     "output_type": "stream",
     "text": [
      "Friend group 1 size: 7, in 0.293199777603 seconds\n",
      "Friend group 2 size: 76, in 2.01625990868 seconds\n",
      "hello\n",
      "updated\n",
      "hello\n",
      "updated\n",
      "hello\n"
     ]
    }
   ],
   "source": [
    "atleast10 = generate_steam_ids(my_id, min_friends=10)"
   ]
  },
  {
   "cell_type": "code",
   "execution_count": 607,
   "metadata": {
    "collapsed": false
   },
   "outputs": [],
   "source": [
    "obj = cPickle.load(open('60782ids.p', 'rb'))"
   ]
  },
  {
   "cell_type": "code",
   "execution_count": 609,
   "metadata": {
    "collapsed": false
   },
   "outputs": [
    {
     "data": {
      "text/plain": [
       "[u'76561197971340950',\n",
       " u'76561197988952025',\n",
       " u'76561198169761153',\n",
       " u'76561198002922051',\n",
       " u'76561198109725137',\n",
       " u'76561198085049223',\n",
       " u'76561198000127691',\n",
       " u'76561198094890595',\n",
       " u'76561198094033169',\n",
       " u'76561197998907707']"
      ]
     },
     "execution_count": 609,
     "metadata": {},
     "output_type": "execute_result"
    }
   ],
   "source": [
    "obj[:10]"
   ]
  },
  {
   "cell_type": "code",
   "execution_count": null,
   "metadata": {
    "collapsed": true
   },
   "outputs": [],
   "source": []
  },
  {
   "cell_type": "code",
   "execution_count": null,
   "metadata": {
    "collapsed": true
   },
   "outputs": [],
   "source": []
  },
  {
   "cell_type": "code",
   "execution_count": null,
   "metadata": {
    "collapsed": true
   },
   "outputs": [],
   "source": []
  },
  {
   "cell_type": "code",
   "execution_count": null,
   "metadata": {
    "collapsed": true
   },
   "outputs": [],
   "source": []
  },
  {
   "cell_type": "code",
   "execution_count": null,
   "metadata": {
    "collapsed": true
   },
   "outputs": [],
   "source": []
  },
  {
   "cell_type": "code",
   "execution_count": null,
   "metadata": {
    "collapsed": true
   },
   "outputs": [],
   "source": []
  },
  {
   "cell_type": "markdown",
   "metadata": {},
   "source": [
    "# Scraping some profile info"
   ]
  },
  {
   "cell_type": "markdown",
   "metadata": {},
   "source": [
    "`soup.find_all(\"div\", \"profile_count_link\")`"
   ]
  },
  {
   "cell_type": "markdown",
   "metadata": {},
   "source": [
    "Using index of -1 below prevents an error for \"inventory\", which only had one index, where others had 2"
   ]
  },
  {
   "cell_type": "code",
   "execution_count": 378,
   "metadata": {
    "collapsed": true
   },
   "outputs": [],
   "source": [
    "url = \"http://steamcommunity.com/profiles/\"+\"76561198027662714\"\n",
    "text = requests.get(url).text\n",
    "rm_delims = re.sub(r\"[\\t\\r\\n]+\", r\" \", text)\n",
    "rm_breaks = re.sub(r\"\\<br\\>+\", r\" \", rm_delims).strip()\n",
    "soup = BeautifulSoup(rm_breaks, \"lxml\")"
   ]
  },
  {
   "cell_type": "code",
   "execution_count": 273,
   "metadata": {
    "collapsed": false
   },
   "outputs": [
    {
     "data": {
      "text/plain": [
       "{'profile': [{u'Badges': u'41'},\n",
       "  {u'Games': u'448'},\n",
       "  {u'Inventory': u'Inventory'},\n",
       "  {u'Screenshots': u'99'},\n",
       "  {u'Videos': u'6'},\n",
       "  {u'Reviews': u'16'},\n",
       "  {u'Guides': u'4'},\n",
       "  {u'Artwork': u'5'},\n",
       "  {u'Groups': u'17'},\n",
       "  {u'Friends': u'159'}]}"
      ]
     },
     "execution_count": 273,
     "metadata": {},
     "output_type": "execute_result"
    }
   ],
   "source": [
    "profile_dict = {}\n",
    "profile_links = soup.find_all(\"div\", \"profile_count_link\")\n",
    "profile_dict[\"profile\"] = [{list(link.stripped_strings)[0]:list(link.stripped_strings)[-1]} for link in profile_links]\n",
    "profile_dict"
   ]
  },
  {
   "cell_type": "code",
   "execution_count": 379,
   "metadata": {
    "collapsed": false
   },
   "outputs": [
    {
     "data": {
      "text/plain": [
       "'http://steamcommunity.com/profiles/76561198027662714'"
      ]
     },
     "execution_count": 379,
     "metadata": {},
     "output_type": "execute_result"
    }
   ],
   "source": [
    "url"
   ]
  },
  {
   "cell_type": "code",
   "execution_count": 274,
   "metadata": {
    "collapsed": false
   },
   "outputs": [],
   "source": [
    "profile_dict[\"online_status\"] = [list(link.stripped_strings) for link in soup.find_all(\"div\", \"responsive_status_info\")]"
   ]
  },
  {
   "cell_type": "code",
   "execution_count": 348,
   "metadata": {
    "collapsed": false
   },
   "outputs": [],
   "source": [
    "profile_summary = \" \".join(re.findall(r\"[0-9a-zA-Z\\.\\,\\!\\?\\'\\\"]+\", \" \".join(\\\n",
    "                                              [list(link.stripped_strings) for link in soup.find_all(\\\n",
    "                                              \"div\", \"profile_header_summary\")][0][:-2])))"
   ]
  },
  {
   "cell_type": "code",
   "execution_count": 349,
   "metadata": {
    "collapsed": false
   },
   "outputs": [
    {
     "data": {
      "text/plain": [
       "''"
      ]
     },
     "execution_count": 349,
     "metadata": {},
     "output_type": "execute_result"
    }
   ],
   "source": [
    "profile_summary"
   ]
  },
  {
   "cell_type": "code",
   "execution_count": 317,
   "metadata": {
    "collapsed": false
   },
   "outputs": [
    {
     "data": {
      "text/plain": [
       "{u'avatarfull': u'https://steamcdn-a.akamaihd.net/steamcommunity/public/images/avatars/4f/4f78f1aa2f86f3c80fa9ec3ed3c51dedb49a839a_full.jpg',\n",
       " u'commentpermission': 1,\n",
       " u'communityvisibilitystate': 3,\n",
       " u'gameextrainfo': u\"Garry's Mod\",\n",
       " u'gameid': u'4000',\n",
       " u'gameserverip': u'185.38.148.159:27055',\n",
       " u'gameserversteamid': u'90100687685614601',\n",
       " u'lastlogoff': 1460475417,\n",
       " u'loccountrycode': u'GB',\n",
       " u'locstatecode': u'C6',\n",
       " u'personaname': u'\\u2605 Timmo #PapaBless',\n",
       " u'personastate': 1,\n",
       " u'primaryclanid': u'103582791443498610',\n",
       " u'profilestate': 1,\n",
       " u'realname': u'Alex',\n",
       " u'timecreated': 1266074212}"
      ]
     },
     "execution_count": 317,
     "metadata": {},
     "output_type": "execute_result"
    }
   ],
   "source": [
    "user_info.get_user_info(\"76561198021157234\")"
   ]
  },
  {
   "cell_type": "code",
   "execution_count": null,
   "metadata": {
    "collapsed": true
   },
   "outputs": [],
   "source": []
  },
  {
   "cell_type": "code",
   "execution_count": 298,
   "metadata": {
    "collapsed": false
   },
   "outputs": [
    {
     "data": {
      "text/plain": [
       "u'Problem officer I will ignore private profiles Do NOT add me without a comment H a l f L i f e 3 My SteamRep steamrep com My Trade Link A man saw a lady with big breasts He asked Excuse me can I bite your breasts for 1000 She agrees so they go to a secluded corner She opens her blouse and the man puts his face in her breasts for 10 minutes Eventually the lady asks Aren t you gonna bite them He replies No it s too expensive c 3 hi stalker L View more info J function InitProfileSummary g rgProfileData summary'"
      ]
     },
     "execution_count": 298,
     "metadata": {},
     "output_type": "execute_result"
    }
   ],
   "source": [
    "' '.join(re.findall(r\"[0-9a-zA-Z]+\", soup.find_all(\"div\", \"profile_header_summary\")[0].text))"
   ]
  },
  {
   "cell_type": "code",
   "execution_count": null,
   "metadata": {
    "collapsed": true
   },
   "outputs": [],
   "source": []
  },
  {
   "cell_type": "code",
   "execution_count": 72,
   "metadata": {
    "collapsed": false
   },
   "outputs": [
    {
     "data": {
      "text/plain": [
       "'659 achievements in 16 different games.'"
      ]
     },
     "execution_count": 72,
     "metadata": {},
     "output_type": "execute_result"
    }
   ],
   "source": [
    "soup.find_all(\"div\", \"showcase_stat\")[0].attrs['data-community-tooltip']"
   ]
  },
  {
   "cell_type": "code",
   "execution_count": 64,
   "metadata": {
    "collapsed": false
   },
   "outputs": [
    {
     "data": {
      "text/plain": [
       "[u' 659 Achievements ', u' 23% Avg. Game Completion Rate ']"
      ]
     },
     "execution_count": 64,
     "metadata": {},
     "output_type": "execute_result"
    }
   ],
   "source": [
    "[''.join(link.text) for link in soup.find_all(\"div\", \"showcase_stat\")]"
   ]
  },
  {
   "cell_type": "code",
   "execution_count": 339,
   "metadata": {
    "collapsed": false
   },
   "outputs": [],
   "source": [
    "recent_3_games = soup.find_all(\"div\", \"game_info\")"
   ]
  },
  {
   "cell_type": "code",
   "execution_count": 346,
   "metadata": {
    "collapsed": false
   },
   "outputs": [
    {
     "data": {
      "text/plain": [
       "u\"Garry's Mod\""
      ]
     },
     "execution_count": 346,
     "metadata": {},
     "output_type": "execute_result"
    }
   ],
   "source": [
    "[list(game.stripped_strings) for game in recent_3_games][0][-1]"
   ]
  },
  {
   "cell_type": "code",
   "execution_count": 82,
   "metadata": {
    "collapsed": false
   },
   "outputs": [],
   "source": [
    "other_stuff = soup.find_all(\"div\", \"profile_customization_area\")"
   ]
  },
  {
   "cell_type": "code",
   "execution_count": 88,
   "metadata": {
    "collapsed": false
   },
   "outputs": [
    {
     "data": {
      "text/plain": [
       "[[u'Achievement Showcase',\n",
       "  u'+653',\n",
       "  u'659',\n",
       "  u'Achievements',\n",
       "  u'23%',\n",
       "  u'Avg. Game Completion Rate']]"
      ]
     },
     "execution_count": 88,
     "metadata": {},
     "output_type": "execute_result"
    }
   ],
   "source": [
    "[list(thing.stripped_strings) for thing in other_stuff]"
   ]
  },
  {
   "cell_type": "code",
   "execution_count": 175,
   "metadata": {
    "collapsed": false
   },
   "outputs": [
    {
     "data": {
      "text/plain": [
       "u'Level 10'"
      ]
     },
     "execution_count": 175,
     "metadata": {},
     "output_type": "execute_result"
    }
   ],
   "source": [
    "soup.find_all(\"div\", \"persona_name persona_level\")[0].text"
   ]
  },
  {
   "cell_type": "code",
   "execution_count": null,
   "metadata": {
    "collapsed": true
   },
   "outputs": [],
   "source": []
  },
  {
   "cell_type": "code",
   "execution_count": null,
   "metadata": {
    "collapsed": true
   },
   "outputs": [],
   "source": []
  },
  {
   "cell_type": "code",
   "execution_count": null,
   "metadata": {
    "collapsed": true
   },
   "outputs": [],
   "source": []
  },
  {
   "cell_type": "code",
   "execution_count": null,
   "metadata": {
    "collapsed": true
   },
   "outputs": [],
   "source": []
  },
  {
   "cell_type": "code",
   "execution_count": null,
   "metadata": {
    "collapsed": true
   },
   "outputs": [],
   "source": []
  },
  {
   "cell_type": "code",
   "execution_count": null,
   "metadata": {
    "collapsed": true
   },
   "outputs": [],
   "source": []
  },
  {
   "cell_type": "code",
   "execution_count": null,
   "metadata": {
    "collapsed": true
   },
   "outputs": [],
   "source": []
  },
  {
   "cell_type": "code",
   "execution_count": 18,
   "metadata": {
    "collapsed": true
   },
   "outputs": [],
   "source": [
    "import pandas as pd"
   ]
  },
  {
   "cell_type": "code",
   "execution_count": 47,
   "metadata": {
    "collapsed": false
   },
   "outputs": [],
   "source": [
    "banned_df = pd.DataFrame(banned_list)"
   ]
  },
  {
   "cell_type": "code",
   "execution_count": 76,
   "metadata": {
    "collapsed": true
   },
   "outputs": [],
   "source": [
    "another = 'http://steamcommunity.com/profiles/76561198092689293/?xml=1'"
   ]
  },
  {
   "cell_type": "code",
   "execution_count": 77,
   "metadata": {
    "collapsed": false
   },
   "outputs": [],
   "source": [
    "page = requests.get(another)"
   ]
  },
  {
   "cell_type": "code",
   "execution_count": 78,
   "metadata": {
    "collapsed": true
   },
   "outputs": [],
   "source": [
    "text = page.text"
   ]
  },
  {
   "cell_type": "code",
   "execution_count": 138,
   "metadata": {
    "collapsed": false
   },
   "outputs": [],
   "source": [
    "with open(\"/Users/johnnysand/Downloads/Counter_Strike_Global_Offensive.jsonlines\") as f:\n",
    "    CSGO = [json.loads(review) for review in f]"
   ]
  },
  {
   "cell_type": "code",
   "execution_count": 140,
   "metadata": {
    "collapsed": true
   },
   "outputs": [],
   "source": [
    "csdf = pd.DataFrame(CSGO)"
   ]
  },
  {
   "cell_type": "code",
   "execution_count": 147,
   "metadata": {
    "collapsed": false
   },
   "outputs": [
    {
     "data": {
      "text/plain": [
       "[]"
      ]
     },
     "execution_count": 147,
     "metadata": {},
     "output_type": "execute_result"
    }
   ],
   "source": [
    "get_bans('54432109565543')"
   ]
  },
  {
   "cell_type": "code",
   "execution_count": 151,
   "metadata": {
    "collapsed": false
   },
   "outputs": [
    {
     "data": {
      "text/plain": [
       "Index([u'achievement_progress', u'date_posted', u'date_updated',\n",
       "       u'found_helpful_percentage', u'friend_player_level', u'num_badges',\n",
       "       u'num_comments', u'num_found_funny', u'num_found_helpful',\n",
       "       u'num_found_unhelpful', u'num_friends', u'num_games_owned',\n",
       "       u'num_groups', u'num_guides', u'num_reviews', u'num_screenshots',\n",
       "       u'num_voted_helpfulness', u'num_workshop_items', u'orig_url',\n",
       "       u'profile_url', u'rating', u'review', u'review_url', u'steam_id_number',\n",
       "       u'total_game_hours', u'total_game_hours_last_two_weeks', u'username'],\n",
       "      dtype='object')"
      ]
     },
     "execution_count": 151,
     "metadata": {},
     "output_type": "execute_result"
    }
   ],
   "source": [
    "csdf.columns"
   ]
  },
  {
   "cell_type": "code",
   "execution_count": 153,
   "metadata": {
    "collapsed": false
   },
   "outputs": [
    {
     "data": {
      "text/plain": [
       "1680"
      ]
     },
     "execution_count": 153,
     "metadata": {},
     "output_type": "execute_result"
    }
   ],
   "source": [
    "csdf[np.array(map(lambda x: len(x), csdf['steam_id_number']))==17]['steam_id_number'].count()"
   ]
  },
  {
   "cell_type": "code",
   "execution_count": null,
   "metadata": {
    "collapsed": true
   },
   "outputs": [],
   "source": []
  },
  {
   "cell_type": "code",
   "execution_count": 145,
   "metadata": {
    "collapsed": false
   },
   "outputs": [
    {
     "data": {
      "text/plain": [
       "0       76561198092689293\n",
       "1                 Delta3D\n",
       "2                   kadiv\n",
       "3                    knal\n",
       "4       76561198003457024\n",
       "5           hiaympalliman\n",
       "6                 ZoomaAP\n",
       "7           RevanDaDragon\n",
       "8           greybutnotgey\n",
       "9               End3rb0rn\n",
       "10              broilertm\n",
       "11      76561198078752967\n",
       "12             TURBOSKILL\n",
       "13      76561198028703104\n",
       "14      76561198066593729\n",
       "15                 w0lks4\n",
       "16             seeneesini\n",
       "17      76561198072154474\n",
       "18                 eys912\n",
       "19      76561198092689293\n",
       "20                Delta3D\n",
       "21                  kadiv\n",
       "22                   knal\n",
       "23      76561198003457024\n",
       "24          hiaympalliman\n",
       "25                ZoomaAP\n",
       "26          RevanDaDragon\n",
       "27          greybutnotgey\n",
       "28              End3rb0rn\n",
       "29                 Erincl\n",
       "              ...        \n",
       "7043           PePeIsGOD2\n",
       "7044    76561198093345061\n",
       "7045              fili716\n",
       "7046    76561198043999022\n",
       "7047      stealth_assasin\n",
       "7048          Trident3553\n",
       "7049            Holtimsky\n",
       "7050              Happsen\n",
       "7051               Dirkjr\n",
       "7052    76561198062924990\n",
       "7053      StonedHillbilly\n",
       "7054            hoyamuncs\n",
       "7055              topolop\n",
       "7056                pasq_\n",
       "7057    76561198067775381\n",
       "7058            fagmilker\n",
       "7059            ultrawubs\n",
       "7060          TheFearless\n",
       "7061     whothehellcaress\n",
       "7062           Monster-64\n",
       "7063    76561198013324669\n",
       "7064        JOHNCOOKSEYJC\n",
       "7065          redman1111x\n",
       "7066           weedtanzer\n",
       "7067                Refya\n",
       "7068       54432109565543\n",
       "7069         abyssaltyler\n",
       "7070    76561198132809342\n",
       "7071    76561198021148856\n",
       "7072    76561198063510198\n",
       "Name: steam_id_number, dtype: object"
      ]
     },
     "execution_count": 145,
     "metadata": {},
     "output_type": "execute_result"
    }
   ],
   "source": [
    "csdf['steam_id_number']"
   ]
  },
  {
   "cell_type": "code",
   "execution_count": null,
   "metadata": {
    "collapsed": true
   },
   "outputs": [],
   "source": []
  },
  {
   "cell_type": "code",
   "execution_count": null,
   "metadata": {
    "collapsed": true
   },
   "outputs": [],
   "source": []
  },
  {
   "cell_type": "code",
   "execution_count": null,
   "metadata": {
    "collapsed": true
   },
   "outputs": [],
   "source": []
  },
  {
   "cell_type": "code",
   "execution_count": 80,
   "metadata": {
    "collapsed": true
   },
   "outputs": [],
   "source": [
    "text = re.sub(r'\\<br\\>', r' ', text) # Looks for the string \"<br>\"\n",
    "    # and replaces it with a space\n",
    "text = re.sub(r'[\\n\\t\\r ]+', r' ', text) # Looks for any sequence\n",
    "    # of carriage returns or whitespace characters and replaces\n",
    "    # them with a single space\n",
    "text = text.strip()"
   ]
  },
  {
   "cell_type": "code",
   "execution_count": 93,
   "metadata": {
    "collapsed": false
   },
   "outputs": [],
   "source": [
    "soup = BeautifulSoup(text, 'lxml')"
   ]
  },
  {
   "cell_type": "code",
   "execution_count": null,
   "metadata": {
    "collapsed": true
   },
   "outputs": [],
   "source": []
  },
  {
   "cell_type": "code",
   "execution_count": null,
   "metadata": {
    "collapsed": true
   },
   "outputs": [],
   "source": []
  },
  {
   "cell_type": "code",
   "execution_count": null,
   "metadata": {
    "collapsed": true
   },
   "outputs": [],
   "source": []
  },
  {
   "cell_type": "code",
   "execution_count": null,
   "metadata": {
    "collapsed": true
   },
   "outputs": [],
   "source": []
  },
  {
   "cell_type": "code",
   "execution_count": null,
   "metadata": {
    "collapsed": true
   },
   "outputs": [],
   "source": []
  },
  {
   "cell_type": "code",
   "execution_count": null,
   "metadata": {
    "collapsed": true
   },
   "outputs": [],
   "source": []
  },
  {
   "cell_type": "code",
   "execution_count": 62,
   "metadata": {
    "collapsed": false
   },
   "outputs": [],
   "source": [
    "friend_list = list(friend_set)"
   ]
  },
  {
   "cell_type": "code",
   "execution_count": 122,
   "metadata": {
    "collapsed": false
   },
   "outputs": [],
   "source": [
    "def hundreds_of_friends(friends):\n",
    "    index100 = 100\n",
    "    hundred_list = []\n",
    "    bans = []\n",
    "    while index100 <= 22000:\n",
    "        hundred_friends = ','.join(friends[index100-100:index100])\n",
    "        hundred_list.append(hundred_friends)\n",
    "        index100 += 100\n",
    "        bans.append(get_bans(hundred_friends))\n",
    "    return hundred_list, [ban for subbans in bans for ban in subbans]"
   ]
  },
  {
   "cell_type": "code",
   "execution_count": null,
   "metadata": {
    "collapsed": true
   },
   "outputs": [],
   "source": []
  },
  {
   "cell_type": "code",
   "execution_count": null,
   "metadata": {
    "collapsed": true
   },
   "outputs": [],
   "source": []
  },
  {
   "cell_type": "code",
   "execution_count": null,
   "metadata": {
    "collapsed": true
   },
   "outputs": [],
   "source": []
  },
  {
   "cell_type": "code",
   "execution_count": null,
   "metadata": {
    "collapsed": true
   },
   "outputs": [],
   "source": []
  },
  {
   "cell_type": "code",
   "execution_count": null,
   "metadata": {
    "collapsed": true
   },
   "outputs": [],
   "source": []
  },
  {
   "cell_type": "code",
   "execution_count": null,
   "metadata": {
    "collapsed": true
   },
   "outputs": [],
   "source": []
  },
  {
   "cell_type": "code",
   "execution_count": null,
   "metadata": {
    "collapsed": true
   },
   "outputs": [],
   "source": []
  },
  {
   "cell_type": "code",
   "execution_count": 82,
   "metadata": {
    "collapsed": false
   },
   "outputs": [],
   "source": [
    "def get_bans(ids):\n",
    "    '''\n",
    "    Looks at the IDS ban history\n",
    "    '''\n",
    "    key = os.environ['ACCESS_STEAM']\n",
    "    url = 'http://api.steampowered.com/ISteamUser/GetPlayerBans/v1/?key='+key+'&steamids='+ids\n",
    "    return json.loads(urllib2.urlopen(url).read())['players']"
   ]
  },
  {
   "cell_type": "code",
   "execution_count": 85,
   "metadata": {
    "collapsed": false
   },
   "outputs": [
    {
     "data": {
      "text/plain": [
       "[{u'CommunityBanned': False,\n",
       "  u'DaysSinceLastBan': 0,\n",
       "  u'EconomyBan': u'none',\n",
       "  u'NumberOfGameBans': 0,\n",
       "  u'NumberOfVACBans': 0,\n",
       "  u'SteamId': u'76561198049211725',\n",
       "  u'VACBanned': False},\n",
       " {u'CommunityBanned': True,\n",
       "  u'DaysSinceLastBan': 353,\n",
       "  u'EconomyBan': u'none',\n",
       "  u'NumberOfGameBans': 0,\n",
       "  u'NumberOfVACBans': 1,\n",
       "  u'SteamId': u'76561198083499079',\n",
       "  u'VACBanned': True}]"
      ]
     },
     "execution_count": 85,
     "metadata": {},
     "output_type": "execute_result"
    }
   ],
   "source": [
    "get_bans(','.join(friend_list[:2]))"
   ]
  },
  {
   "cell_type": "code",
   "execution_count": null,
   "metadata": {
    "collapsed": true
   },
   "outputs": [],
   "source": []
  },
  {
   "cell_type": "code",
   "execution_count": null,
   "metadata": {
    "collapsed": true
   },
   "outputs": [],
   "source": []
  },
  {
   "cell_type": "code",
   "execution_count": 27,
   "metadata": {
    "collapsed": true
   },
   "outputs": [],
   "source": [
    "import time\n",
    "#start_time = time.time()\n",
    "#main()\n",
    "#print(\"--- %s seconds ---\" % (time.time() - start_time))"
   ]
  },
  {
   "cell_type": "code",
   "execution_count": 57,
   "metadata": {
    "collapsed": false
   },
   "outputs": [
    {
     "name": "stdout",
     "output_type": "stream",
     "text": [
      "60.8479239941 seconds\n"
     ]
    }
   ],
   "source": [
    "mythat = '9BD62BA0CD75599091D3C1257782D97D'\n",
    "summaries = 'http://api.steampowered.com/ISteamUser/GetPlayerSummaries/v0002/?key=9BD62BA0CD75599091D3C1257782D97D&steamids='\n",
    "friend_set = []\n",
    "start_time = time.time()\n",
    "for id in ids:\n",
    "    state = json.loads(urllib2.urlopen(summaries + id).read())\n",
    "    if state['response']['players'][0][u'communityvisibilitystate'] != 3:\n",
    "        continue\n",
    "    else:\n",
    "        new_friends = get_friends(id)\n",
    "        for friend in new_friends:\n",
    "            friend_set.add(friend['steamid'])\n",
    "print '%s seconds' % (time.time() - start_time)"
   ]
  },
  {
   "cell_type": "code",
   "execution_count": 28,
   "metadata": {
    "collapsed": false
   },
   "outputs": [
    {
     "ename": "NameError",
     "evalue": "name 'steamids_new' is not defined",
     "output_type": "error",
     "traceback": [
      "\u001b[0;31m---------------------------------------------------------------------------\u001b[0m",
      "\u001b[0;31mNameError\u001b[0m                                 Traceback (most recent call last)",
      "\u001b[0;32m<ipython-input-28-dc92f459b34a>\u001b[0m in \u001b[0;36m<module>\u001b[0;34m()\u001b[0m\n\u001b[1;32m     11\u001b[0m         \u001b[0mmore_friends\u001b[0m \u001b[0;34m=\u001b[0m \u001b[0mjson\u001b[0m\u001b[0;34m.\u001b[0m\u001b[0mloads\u001b[0m\u001b[0;34m(\u001b[0m\u001b[0murllib2\u001b[0m\u001b[0;34m.\u001b[0m\u001b[0murlopen\u001b[0m\u001b[0;34m(\u001b[0m\u001b[0mfriends\u001b[0m\u001b[0;34m)\u001b[0m\u001b[0;34m.\u001b[0m\u001b[0mread\u001b[0m\u001b[0;34m(\u001b[0m\u001b[0;34m)\u001b[0m\u001b[0;34m)\u001b[0m\u001b[0;34m\u001b[0m\u001b[0m\n\u001b[1;32m     12\u001b[0m         \u001b[0;32mfor\u001b[0m \u001b[0mfriend\u001b[0m \u001b[0;32min\u001b[0m \u001b[0mmore_friends\u001b[0m\u001b[0;34m[\u001b[0m\u001b[0;34m'friendslist'\u001b[0m\u001b[0;34m]\u001b[0m\u001b[0;34m[\u001b[0m\u001b[0;34m'friends'\u001b[0m\u001b[0;34m]\u001b[0m\u001b[0;34m:\u001b[0m\u001b[0;34m\u001b[0m\u001b[0m\n\u001b[0;32m---> 13\u001b[0;31m             \u001b[0msteamids_new\u001b[0m\u001b[0;34m.\u001b[0m\u001b[0madd\u001b[0m\u001b[0;34m(\u001b[0m\u001b[0mstr\u001b[0m\u001b[0;34m(\u001b[0m\u001b[0mfriend\u001b[0m\u001b[0;34m[\u001b[0m\u001b[0;34m'steamid'\u001b[0m\u001b[0;34m]\u001b[0m\u001b[0;34m)\u001b[0m\u001b[0;34m)\u001b[0m\u001b[0;34m\u001b[0m\u001b[0m\n\u001b[0m\u001b[1;32m     14\u001b[0m \u001b[0;32mprint\u001b[0m \u001b[0;34m'%s seconds'\u001b[0m \u001b[0;34m%\u001b[0m \u001b[0;34m(\u001b[0m\u001b[0mtime\u001b[0m\u001b[0;34m.\u001b[0m\u001b[0mtime\u001b[0m\u001b[0;34m(\u001b[0m\u001b[0;34m)\u001b[0m \u001b[0;34m-\u001b[0m \u001b[0mstart_time\u001b[0m\u001b[0;34m)\u001b[0m\u001b[0;34m\u001b[0m\u001b[0m\n",
      "\u001b[0;31mNameError\u001b[0m: name 'steamids_new' is not defined"
     ]
    }
   ],
   "source": [
    "mythat = '9BD62BA0CD75599091D3C1257782D97D'\n",
    "summaries = 'http://api.steampowered.com/ISteamUser/GetPlayerSummaries/v0002/?key=9BD62BA0CD75599091D3C1257782D97D&steamids='\n",
    "steamids = set()\n",
    "start_time = time.time()\n",
    "banned_set = set()\n",
    "for id in ids:\n",
    "    state = json.loads(urllib2.urlopen(summaries + id).read())\n",
    "    if state['response']['players'][0][u'communityvisibilitystate'] != 3:\n",
    "        continue\n",
    "    else:\n",
    "        bans = get_bans(id)\n",
    "        friends = get_friends(id)\n",
    "        for friend in more_friends['friendslist']['friends']:\n",
    "            steamids.add(str(friend['steamid']))\n",
    "        steamids.add(friends)\n",
    "print '%s seconds' % (time.time() - start_time)"
   ]
  },
  {
   "cell_type": "code",
   "execution_count": null,
   "metadata": {
    "collapsed": true
   },
   "outputs": [],
   "source": [
    "mythat = '9BD62BA0CD75599091D3C1257782D97D'\n",
    "summaries = 'http://api.steampowered.com/ISteamUser/GetPlayerSummaries/v0002/?key=9BD62BA0CD75599091D3C1257782D97D&steamids='\n",
    "steamids = set()\n",
    "start_time = time.time()\n",
    "banned_set = set()\n",
    "for id in ids:\n",
    "    state = json.loads(urllib2.urlopen(summaries + id).read())\n",
    "    if state['response']['players'][0][u'communityvisibilitystate'] != 3:\n",
    "        continue\n",
    "    else:\n",
    "        bans = get_bans(id)\n",
    "        friends = 'http://api.steampowered.com/ISteamUser/GetFriendList/v0001/?key='+mythat+'&steamid='+id+'&relationship=all'\n",
    "        more_friends = json.loads(urllib2.urlopen(friends).read())\n",
    "        for friend in more_friends['friendslist']['friends']:\n",
    "            steamids.add(str(friend['steamid']))\n",
    "print '%s seconds' % (time.time() - start_time)"
   ]
  },
  {
   "cell_type": "code",
   "execution_count": 155,
   "metadata": {
    "collapsed": false
   },
   "outputs": [
    {
     "data": {
      "text/plain": [
       "129.93333333333334"
      ]
     },
     "execution_count": 155,
     "metadata": {},
     "output_type": "execute_result"
    }
   ],
   "source": [
    "7796 / 60."
   ]
  },
  {
   "cell_type": "code",
   "execution_count": 154,
   "metadata": {
    "collapsed": false
   },
   "outputs": [
    {
     "data": {
      "text/plain": [
       "1627893"
      ]
     },
     "execution_count": 154,
     "metadata": {},
     "output_type": "execute_result"
    }
   ],
   "source": [
    "len(steamids_new)"
   ]
  },
  {
   "cell_type": "code",
   "execution_count": 108,
   "metadata": {
    "collapsed": false
   },
   "outputs": [
    {
     "data": {
      "text/plain": [
       "<Response [401]>"
      ]
     },
     "execution_count": 108,
     "metadata": {},
     "output_type": "execute_result"
    }
   ],
   "source": [
    "requests.get(urlfriend)"
   ]
  },
  {
   "cell_type": "code",
   "execution_count": 112,
   "metadata": {
    "collapsed": true
   },
   "outputs": [],
   "source": [
    "myurl = 'http://api.steampowered.com/ISteamUser/GetPlayerSummaries/v0002/?key='+mythat+'&steamids='+my64"
   ]
  },
  {
   "cell_type": "code",
   "execution_count": 113,
   "metadata": {
    "collapsed": false
   },
   "outputs": [
    {
     "data": {
      "text/plain": [
       "'http://api.steampowered.com/ISteamUser/GetPlayerSummaries/v0002/?key=9BD62BA0CD75599091D3C1257782D97D&steamids=76561197967398882'"
      ]
     },
     "execution_count": 113,
     "metadata": {},
     "output_type": "execute_result"
    }
   ],
   "source": [
    "myurl"
   ]
  },
  {
   "cell_type": "code",
   "execution_count": 114,
   "metadata": {
    "collapsed": true
   },
   "outputs": [],
   "source": [
    "another_test = 'http://api.steampowered.com/ISteamUser/GetPlayerSummaries/v0002/?key=9BD62BA0CD75599091D3C1257782D97D&steamids=76561197982823731'"
   ]
  },
  {
   "cell_type": "code",
   "execution_count": 116,
   "metadata": {
    "collapsed": true
   },
   "outputs": [],
   "source": [
    "dude = json.loads(urllib2.urlopen(another_test).read())"
   ]
  },
  {
   "cell_type": "code",
   "execution_count": 138,
   "metadata": {
    "collapsed": false
   },
   "outputs": [
    {
     "data": {
      "text/plain": [
       "int"
      ]
     },
     "execution_count": 138,
     "metadata": {},
     "output_type": "execute_result"
    }
   ],
   "source": [
    "type(dude['response']['players'][0][u'communityvisibilitystate'])"
   ]
  },
  {
   "cell_type": "code",
   "execution_count": 129,
   "metadata": {
    "collapsed": false
   },
   "outputs": [
    {
     "data": {
      "text/plain": [
       "'{\\n\\t\"response\": {\\n\\t\\t\"players\": [\\n\\t\\t\\t{\\n\\t\\t\\t\\t\"steamid\": \"76561197982823731\",\\n\\t\\t\\t\\t\"communityvisibilitystate\": 1,\\n\\t\\t\\t\\t\"profilestate\": 1,\\n\\t\\t\\t\\t\"personaname\": \"Warden\",\\n\\t\\t\\t\\t\"lastlogoff\": 1459618089,\\n\\t\\t\\t\\t\"profileurl\": \"http://steamcommunity.com/profiles/76561197982823731/\",\\n\\t\\t\\t\\t\"avatar\": \"https://steamcdn-a.akamaihd.net/steamcommunity/public/images/avatars/ef/efd4c085347b13ac7201328c783529a11a5d33a1.jpg\",\\n\\t\\t\\t\\t\"avatarmedium\": \"https://steamcdn-a.akamaihd.net/steamcommunity/public/images/avatars/ef/efd4c085347b13ac7201328c783529a11a5d33a1_medium.jpg\",\\n\\t\\t\\t\\t\"avatarfull\": \"https://steamcdn-a.akamaihd.net/steamcommunity/public/images/avatars/ef/efd4c085347b13ac7201328c783529a11a5d33a1_full.jpg\",\\n\\t\\t\\t\\t\"personastate\": 0\\n\\t\\t\\t}\\n\\t\\t]\\n\\t\\t\\n\\t}\\n}'"
      ]
     },
     "execution_count": 129,
     "metadata": {},
     "output_type": "execute_result"
    }
   ],
   "source": []
  },
  {
   "cell_type": "code",
   "execution_count": 132,
   "metadata": {
    "collapsed": false
   },
   "outputs": [
    {
     "name": "stdout",
     "output_type": "stream",
     "text": [
      "http://api.steampowered.com/ISteamUser/GetPlayerSummaries/v0002/?key=9BD62BA0CD75599091D3C1257782D97D&steamids=7656119798282373176561197965632101\n"
     ]
    }
   ],
   "source": []
  },
  {
   "cell_type": "code",
   "execution_count": 156,
   "metadata": {
    "collapsed": false
   },
   "outputs": [
    {
     "data": {
      "text/plain": [
       "146.66666666666666"
      ]
     },
     "execution_count": 156,
     "metadata": {},
     "output_type": "execute_result"
    }
   ],
   "source": [
    "22000 / 150."
   ]
  },
  {
   "cell_type": "code",
   "execution_count": 157,
   "metadata": {
    "collapsed": false
   },
   "outputs": [
    {
     "data": {
      "text/plain": [
       "739.5454545454545"
      ]
     },
     "execution_count": 157,
     "metadata": {},
     "output_type": "execute_result"
    }
   ],
   "source": [
    "1627000 / 2200."
   ]
  },
  {
   "cell_type": "code",
   "execution_count": 158,
   "metadata": {
    "collapsed": false
   },
   "outputs": [
    {
     "data": {
      "text/plain": [
       "1630000000"
      ]
     },
     "execution_count": 158,
     "metadata": {},
     "output_type": "execute_result"
    }
   ],
   "source": [
    "1630000 * 1000"
   ]
  },
  {
   "cell_type": "code",
   "execution_count": 159,
   "metadata": {
    "collapsed": false
   },
   "outputs": [
    {
     "data": {
      "text/plain": [
       "True"
      ]
     },
     "execution_count": 159,
     "metadata": {},
     "output_type": "execute_result"
    }
   ],
   "source": [
    "'76561197967398882' in steamids_new"
   ]
  },
  {
   "cell_type": "code",
   "execution_count": 160,
   "metadata": {
    "collapsed": false
   },
   "outputs": [
    {
     "data": {
      "text/plain": [
       "False"
      ]
     },
     "execution_count": 160,
     "metadata": {},
     "output_type": "execute_result"
    }
   ],
   "source": [
    "'76561197967398882' in steamids_new_new"
   ]
  },
  {
   "cell_type": "markdown",
   "metadata": {},
   "source": [
    "# Another try"
   ]
  },
  {
   "cell_type": "code",
   "execution_count": 20,
   "metadata": {
    "collapsed": false
   },
   "outputs": [
    {
     "name": "stdout",
     "output_type": "stream",
     "text": [
      "http://steamcommunity.com/app/730/homecontent/?userreviewsoffset=0&p=1&itemspage=1&screenshotspage=1&videospage=1&artpage=1&allguidepage=1&webguidepage=1&integratedguidepage=1&discussionspage=1&appid=730&appHubSubSection=10&appHubSubSection=10&l=english&browsefilter=toprated&filterLanguage=default&searchText=&forceanon=1\n"
     ]
    }
   ],
   "source": [
    "appid = '730'\n",
    "range_begin = '0'\n",
    "i = '1'\n",
    "url = 'http://steamcommunity.com/app/{0}/homecontent/?userreviewsoffset={1}&p=1&itemspage={2}&screenshotspage={2}&videospage={2}&artpage={2}&allguidepage={2}&webguidepage={2}&integratedguidepage={2}&discussionspage={2}&appid={0}&appHubSubSection=10&appHubSubSection=10&l=english&browsefilter=toprated&filterLanguage=default&searchText=&forceanon=1'.format(appid, range_begin, i)\n",
    "print(url)"
   ]
  },
  {
   "cell_type": "code",
   "execution_count": 21,
   "metadata": {
    "collapsed": true
   },
   "outputs": [],
   "source": [
    "# We can read, parse, and then extract the content at the URL using\n",
    "# requests and bs4 (and lxml) modules\n",
    "from bs4 import BeautifulSoup\n",
    "from lxml import html\n",
    "import requests"
   ]
  },
  {
   "cell_type": "code",
   "execution_count": 22,
   "metadata": {
    "collapsed": true
   },
   "outputs": [],
   "source": [
    "# Let's use requests.get() to get the page\n",
    "page = requests.get(url)"
   ]
  },
  {
   "cell_type": "code",
   "execution_count": 23,
   "metadata": {
    "collapsed": false
   },
   "outputs": [
    {
     "data": {
      "text/plain": [
       "['apparent_encoding',\n",
       " 'close',\n",
       " 'connection',\n",
       " 'content',\n",
       " 'cookies',\n",
       " 'elapsed',\n",
       " 'encoding',\n",
       " 'headers',\n",
       " 'history',\n",
       " 'is_permanent_redirect',\n",
       " 'is_redirect',\n",
       " 'iter_content',\n",
       " 'iter_lines',\n",
       " 'json',\n",
       " 'links',\n",
       " 'ok',\n",
       " 'raise_for_status',\n",
       " 'raw',\n",
       " 'reason',\n",
       " 'request',\n",
       " 'status_code',\n",
       " 'text',\n",
       " 'url']"
      ]
     },
     "execution_count": 23,
     "metadata": {},
     "output_type": "execute_result"
    }
   ],
   "source": [
    "# Let's take a look at the attributes of the page object\n",
    "[a for a in dir(page) if not a.startswith('_') and not a.endswith('_')]\n",
    "# Don't worry about the code here, it's just a trick to see public\n",
    "# methods for a requests object"
   ]
  },
  {
   "cell_type": "code",
   "execution_count": 24,
   "metadata": {
    "collapsed": false
   },
   "outputs": [
    {
     "data": {
      "text/plain": [
       "u'\\t\\t<div id=\"page1\">\\r\\n\\t\\t<div class=\"apphub_Card modalContentLink interactable\" style=\"display: none\" data-modal-content-url=\"http://steamcommunity.com/profiles/76561198092689293/recommended/730/\" data-modal-content-sizetofit=\"false\">\\r\\n\\t<div class=\"apphub_CardContentMain\">\\r\\n\\t\\t<div class=\"apphub_UserReviewCardContent\">\\r\\n\\t\\t\\t<div class=\"found_helpful\">\\r\\n\\t\\t\\t\\t9,379 of 10,082 people (93%) found this review helpful<br>12,757 people found this review funny\\t\\t\\t</div>\\r\\n\\r\\n\\t\\t\\t<div class=\"vote_header\">\\r\\n\\t\\t\\t\\t\\t\\t\\t\\t<div class=\"reviewInfo\">\\r\\n\\t\\t\\t\\t\\t<div class=\"thumb\">\\r\\n\\t\\t\\t\\t\\t\\t<img src=\"http://steamcommunity-a.akamaihd.net/public/shared/images/userreviews/icon_thumbsUp.png?v=1\" width=\"44\" height=\"44\">\\r\\n\\t\\t\\t\\t\\t</div>\\r\\n\\r\\n\\t\\t\\t\\t\\t\\t\\t\\t\\t\\t<div class=\"title\">Recommended</div>\\r\\n\\t\\t\\t\\t\\t\\t\\t\\t\\t\\t\\t\\t\\t\\t\\t<div class=\"hours\">453.5 hrs on record</div>\\r\\n\\t\\t\\t\\t\\t\\t\\t\\t\\t</div>\\r\\n\\t\\t\\t\\t<div style=\"clear: left\"></div>\\r\\n\\t\\t\\t</div>\\r\\n\\r\\n\\t\\t\\t<div class=\"apphub_CardTextContent\">\\r\\n\\t\\t\\t\\t<div class=\"date_posted\">Posted: February 13, 2015</div>\\r\\n\\t\\t\\t\\t\\t\\t\\t\\tIf i had a d'"
      ]
     },
     "execution_count": 24,
     "metadata": {},
     "output_type": "execute_result"
    }
   ],
   "source": [
    "# We see that there are attributes for the text, json, lines, etc.,\n",
    "# so let's take a look at some of this stuff\n",
    "page.text[:1000] # Here's the raw HTML"
   ]
  },
  {
   "cell_type": "code",
   "execution_count": 25,
   "metadata": {
    "collapsed": true
   },
   "outputs": [],
   "source": [
    "# After looking at some of the other attributes, I've determined\n",
    "# that the text attribute is probably the only thing that\n",
    "# concerns us, so let's use it\n",
    "text = page.text"
   ]
  },
  {
   "cell_type": "code",
   "execution_count": 26,
   "metadata": {
    "collapsed": true
   },
   "outputs": [],
   "source": [
    "# The text, as you can see from the view above, has lots of \\r,\n",
    "# \\n, \\t characters in it, which might not be good for HTML\n",
    "# parsing in our case (I won't get into why, partly because I'm\n",
    "# not completely sure I get why), so let's get rid of all such\n",
    "# characters, replacing them with spaces instead\n",
    "# To do this we will use the re module, which allows us to use\n",
    "# regular expressions\n",
    "import re\n",
    "# While we're at it, it's best to get rid of all \"<br>\" tags since\n",
    "# they could also present problems during parsing\n",
    "# We can use the re.sub() method to find one regular expression and\n",
    "# replace it with another in a given text\n",
    "text = re.sub(r'\\<br\\>', r' ', text) # Looks for the string \"<br>\"\n",
    "    # and replaces it with a space\n",
    "text = re.sub(r'[\\n\\t\\r ]+', r' ', text) # Looks for any sequence\n",
    "    # of carriage returns or whitespace characters and replaces\n",
    "    # them with a single space\n",
    "text = text.strip() # Get rid of spaces at either end"
   ]
  },
  {
   "cell_type": "code",
   "execution_count": 27,
   "metadata": {
    "collapsed": false
   },
   "outputs": [
    {
     "data": {
      "text/plain": [
       "u'<div id=\"page1\"> <div class=\"apphub_Card modalContentLink interactable\" style=\"display: none\" data-modal-content-url=\"http://steamcommunity.com/profiles/76561198092689293/recommended/730/\" data-modal-content-sizetofit=\"false\"> <div class=\"apphub_CardContentMain\"> <div class=\"apphub_UserReviewCardContent\"> <div class=\"found_helpful\"> 9,379 of 10,082 people (93%) found this review helpful 12,757 people found this review funny </div> <div class=\"vote_header\"> <div class=\"reviewInfo\"> <div class=\"thumb\"> <img src=\"http://steamcommunity-a.akamaihd.net/public/shared/images/userreviews/icon_thumbsUp.png?v=1\" width=\"44\" height=\"44\"> </div> <div class=\"title\">Recommended</div> <div class=\"hours\">453.5 hrs on record</div> </div> <div style=\"clear: left\"></div> </div> <div class=\"apphub_CardTextContent\"> <div class=\"date_posted\">Posted: February 13, 2015</div> If i had a dollar for each time someone screamed at me in another language, i\\'d still have no money because i spent it on skins </div> </d'"
      ]
     },
     "execution_count": 27,
     "metadata": {},
     "output_type": "execute_result"
    }
   ],
   "source": [
    "# Let's take a look at the cleaned-up version of the source HTML\n",
    "text[:1000]"
   ]
  },
  {
   "cell_type": "code",
   "execution_count": 28,
   "metadata": {
    "collapsed": true
   },
   "outputs": [],
   "source": [
    "soup = BeautifulSoup(text, \"lxml\")"
   ]
  },
  {
   "cell_type": "code",
   "execution_count": 31,
   "metadata": {
    "collapsed": false
   },
   "outputs": [
    {
     "data": {
      "text/plain": [
       "<html><body><div id=\"page1\"> <div class=\"apphub_Card modalContentLink interactable\" data-modal-content-sizetofit=\"false\" data-modal-content-url=\"http://steamcommunity.com/profiles/76561198092689293/recommended/730/\" style=\"display: none\"> <div class=\"apphub_CardContentMain\"> <div class=\"apphub_UserReviewCardContent\"> <div class=\"found_helpful\"> 9,379 of 10,082 people (93%) found this review helpful 12,757 people found this review funny </div> <div class=\"vote_header\"> <div class=\"reviewInfo\"> <div class=\"thumb\"> <img height=\"44\" src=\"http://steamcommunity-a.akamaihd.net/public/shared/images/userreviews/icon_thumbsUp.png?v=1\" width=\"44\"/> </div> <div class=\"title\">Recommended</div> <div class=\"hours\">453.5 hrs on record</div> </div> <div style=\"clear: left\"></div> </div> <div class=\"apphub_CardTextContent\"> <div class=\"date_posted\">Posted: February 13, 2015</div> If i had a dollar for each time someone screamed at me in another language, i'd still have no money because i spent it on skins </div> </div> <div class=\"UserReviewCardContent_Footer\"> <div class=\"gradient\">\\xa0</div> </div> </div> <div class=\"apphub_CardContentAuthorBlock tall\"> <div class=\"apphub_friend_block_container\"> <a href=\"http://steamcommunity.com/profiles/76561198092689293/\"> <div class=\"apphub_friend_block\" data-miniprofile=\"132423565\"> <div class=\"appHubIconHolder online\"><img src=\"http://cdn.akamai.steamstatic.com/steamcommunity/public/images/avatars/94/94ac4b0f44edaff38e71002df1fe5cfc122dcbfe.jpg\"/></div> <div class=\"appHubIconHolder greyOverlay\"></div> <div class=\"apphub_CardContentAuthorName online ellipsis\"><a href=\"http://steamcommunity.com/profiles/76561198092689293/\">BakeACake</a></div> <div class=\"apphub_CardContentMoreLink ellipsis\">32 products in account</div> </div> </a> </div> <div class=\"apphub_UserReviewCardStats\"> <div class=\"apphub_CardCommentCount alignNews\">67</div> </div> <div style=\"clear: left\"></div> </div> </div><div class=\"apphub_Card modalContentLink interactable\" data-modal-content-sizetofit=\"false\" data-modal-content-url=\"http://steamcommunity.com/id/modz1lla/recommended/730/\" style=\"display: none\"> <div class=\"apphub_CardContentMain\"> <div class=\"apphub_UserReviewCardContent\"> <div class=\"found_helpful\"> 14,937 of 16,114 people (93%) found this review helpful 17,453 people found this review funny </div> <div class=\"vote_header\"> <div class=\"reviewInfo\"> <div class=\"thumb\"> <img height=\"44\" src=\"http://steamcommunity-a.akamaihd.net/public/shared/images/userreviews/icon_thumbsUp.png?v=1\" width=\"44\"/> </div> <div class=\"title\">Recommended</div> <div class=\"hours\">2,030.2 hrs on record</div> </div> <div style=\"clear: left\"></div> </div> <div class=\"apphub_CardTextContent\"> <div class=\"date_posted\">Posted: July 10, 2015</div> Things I gave to Counter-Strike: 1. Money 2. Time 3. Love Things Counter-Strike gave me: 1. Arthritis 2. Rage 3, Hatred of Russians,Spanish, and Russians 4. Broken keyboard 5. Broken mouse 6. 9/10 ready 7. Server crashes 8. \\u2665\\u2665\\u2665\\u2665\\u2665\\u2665 teammates 9. Competitive matches 10. \"Ez Pz\" spam 11. Multilingual cursing - I guess this is a good thing? 12. Lag 13. Cheaters 14- 64 tick servers Essentially - CS is a greedy woman, but I love her all the time. 11 / 10 would play again </div> </div> <div class=\"UserReviewCardContent_Footer\"> <div class=\"gradient\">\\xa0</div> </div> </div> <div class=\"apphub_CardContentAuthorBlock tall\"> <div class=\"apphub_friend_block_container\"> <a href=\"http://steamcommunity.com/id/modz1lla/\"> <div class=\"apphub_friend_block\" data-miniprofile=\"69716043\"> <div class=\"appHubIconHolder offline\"><img src=\"http://cdn.akamai.steamstatic.com/steamcommunity/public/images/avatars/a7/a7f102a9399a64c368d8d961085b51bcbc103957.jpg\"/></div> <div class=\"appHubIconHolder greyOverlay\"></div> <div class=\"apphub_CardContentAuthorName offline ellipsis\"><a href=\"http://steamcommunity.com/id/modz1lla/\">MODZILLA</a></div> <div class=\"apphub_CardContentMoreLink ellipsis\">47 products in account</div> </div> </a> </div> <div class=\"apphub_UserReviewCardStats\"> <div class=\"apphub_CardCommentCount alignNews\">211</div> </div> <div style=\"clear: left\"></div> </div> </div><div class=\"apphub_Card modalContentLink interactable\" data-modal-content-sizetofit=\"false\" data-modal-content-url=\"http://steamcommunity.com/id/bob-ross/recommended/730/\" style=\"display: none\"> <div class=\"apphub_CardContentMain\"> <div class=\"apphub_UserReviewCardContent\"> <div class=\"found_helpful\"> 5,491 of 5,913 people (93%) found this review helpful 6,247 people found this review funny </div> <div class=\"vote_header\"> <div class=\"reviewInfo\"> <div class=\"thumb\"> <img height=\"44\" src=\"http://steamcommunity-a.akamaihd.net/public/shared/images/userreviews/icon_thumbsUp.png?v=1\" width=\"44\"/> </div> <div class=\"title\">Recommended</div> <div class=\"hours\">311.9 hrs on record</div> </div> <div style=\"clear: left\"></div> </div> <div class=\"apphub_CardTextContent\"> <div class=\"date_posted\">Posted: May 2, 2015</div> Real \"Huntsman\" Survival Knife: $29 Virtual \"Huntsman\" Survival Knife: $299 </div> </div> <div class=\"UserReviewCardContent_Footer\"> <div class=\"gradient\">\\xa0</div> </div> </div> <div class=\"apphub_CardContentAuthorBlock tall\"> <div class=\"apphub_friend_block_container\"> <a href=\"http://steamcommunity.com/id/bob-ross/\"> <div class=\"apphub_friend_block\" data-miniprofile=\"81522974\"> <div class=\"appHubIconHolder offline\"><img src=\"http://cdn.akamai.steamstatic.com/steamcommunity/public/images/avatars/bd/bd403cfa8af48e1c355e14ab358ec900684aff72.jpg\"/></div> <div class=\"appHubIconHolder greyOverlay\"></div> <div class=\"apphub_CardContentAuthorName offline ellipsis\"><a href=\"http://steamcommunity.com/id/bob-ross/\">Bob Ross o \\u035c\\u0296 o</a></div> <div class=\"apphub_CardContentMoreLink ellipsis\">157 products in account</div> </div> </a> </div> <div class=\"apphub_UserReviewCardStats\"> <div class=\"apphub_CardCommentCount alignNews\">46</div> </div> <div style=\"clear: left\"></div> </div> </div><div class=\"apphub_Card modalContentLink interactable\" data-modal-content-sizetofit=\"false\" data-modal-content-url=\"http://steamcommunity.com/id/Delta3D/recommended/730/\" style=\"display: none\"> <div class=\"apphub_CardContentMain\"> <div class=\"apphub_UserReviewCardContent\"> <div class=\"found_helpful\"> 11,996 of 13,027 people (92%) found this review helpful 13,833 people found this review funny </div> <div class=\"vote_header\"> <div class=\"reviewInfo\"> <div class=\"thumb\"> <img height=\"44\" src=\"http://steamcommunity-a.akamaihd.net/public/shared/images/userreviews/icon_thumbsUp.png?v=1\" width=\"44\"/> </div> <div class=\"title\">Recommended</div> <div class=\"hours\">596.3 hrs on record</div> </div> <div style=\"clear: left\"></div> </div> <div class=\"apphub_CardTextContent\"> <div class=\"date_posted\">Posted: February 1, 2015</div> It's like roulette; fun until it turns into Russian. </div> </div> <div class=\"UserReviewCardContent_Footer\"> <div class=\"gradient\">\\xa0</div> </div> </div> <div class=\"apphub_CardContentAuthorBlock tall\"> <div class=\"apphub_friend_block_container\"> <a href=\"http://steamcommunity.com/id/Delta3D/\"> <div class=\"apphub_friend_block\" data-miniprofile=\"63720612\"> <div class=\"appHubIconHolder offline\"><img src=\"http://cdn.akamai.steamstatic.com/steamcommunity/public/images/avatars/a8/a8e866b864cc1364deba8ceac16d67354d730f40.jpg\"/></div> <div class=\"appHubIconHolder greyOverlay\"></div> <div class=\"apphub_CardContentAuthorName offline ellipsis\"><a href=\"http://steamcommunity.com/id/Delta3D/\">Delta</a></div> <div class=\"apphub_CardContentMoreLink ellipsis\">154 products in account</div> </div> </a> </div> <div class=\"apphub_UserReviewCardStats\"> <div class=\"apphub_CardCommentCount alignNews\">85</div> </div> <div style=\"clear: left\"></div> </div> </div><div class=\"apphub_Card modalContentLink interactable\" data-modal-content-sizetofit=\"false\" data-modal-content-url=\"http://steamcommunity.com/id/GlobalDoge/recommended/730/\" style=\"display: none\"> <div class=\"apphub_CardContentMain\"> <div class=\"apphub_UserReviewCardContent\"> <div class=\"found_helpful\"> 11,151 of 12,108 people (92%) found this review helpful 8,339 people found this review funny </div> <div class=\"vote_header\"> <div class=\"reviewInfo\"> <div class=\"thumb\"> <img height=\"44\" src=\"http://steamcommunity-a.akamaihd.net/public/shared/images/userreviews/icon_thumbsUp.png?v=1\" width=\"44\"/> </div> <div class=\"title\">Recommended</div> <div class=\"hours\">1,315.2 hrs on record</div> </div> <div style=\"clear: left\"></div> </div> <div class=\"apphub_CardTextContent\"> <div class=\"date_posted\">Posted: August 1, 2015</div> IQ tests should be mandatory before being able to play matchmaking </div> </div> <div class=\"UserReviewCardContent_Footer\"> <div class=\"gradient\">\\xa0</div> </div> </div> <div class=\"apphub_CardContentAuthorBlock tall\"> <div class=\"apphub_friend_block_container\"> <a href=\"http://steamcommunity.com/id/GlobalDoge/\"> <div class=\"apphub_friend_block\" data-miniprofile=\"113973189\"> <div class=\"appHubIconHolder in-game\"><img src=\"http://cdn.akamai.steamstatic.com/steamcommunity/public/images/avatars/c0/c0d4bd2cf7a5ad77096e920d2d7fba9da5d9c3f1.jpg\"/></div> <div class=\"appHubIconHolder greyOverlay\"></div> <div class=\"apphub_CardContentAuthorName in-game ellipsis\"><a href=\"http://steamcommunity.com/id/GlobalDoge/\">dlareg</a></div> <div class=\"apphub_CardContentMoreLink ellipsis\">11 products in account</div> </div> </a> </div> <div class=\"apphub_UserReviewCardStats\"> <div class=\"apphub_CardCommentCount alignNews\">89</div> </div> <div style=\"clear: left\"></div> </div> </div><div class=\"apphub_Card modalContentLink interactable\" data-modal-content-sizetofit=\"false\" data-modal-content-url=\"http://steamcommunity.com/id/DraganMKD87/recommended/730/\" style=\"display: none\"> <div class=\"apphub_CardContentMain\"> <div class=\"apphub_UserReviewCardContent\"> <div class=\"found_helpful\"> 11,320 of 12,327 people (92%) found this review helpful 13,940 people found this review funny </div> <div class=\"vote_header\"> <div class=\"reviewInfo\"> <div class=\"thumb\"> <img height=\"44\" src=\"http://steamcommunity-a.akamaihd.net/public/shared/images/userreviews/icon_thumbsUp.png?v=1\" width=\"44\"/> </div> <div class=\"title\">Recommended</div> <div class=\"hours\">287.4 hrs on record</div> </div> <div style=\"clear: left\"></div> </div> <div class=\"apphub_CardTextContent\"> <div class=\"date_posted\">Posted: November 1, 2015</div> Every team consists of 5 people: 1.You 2.Russian Guy 3.Another Russian Guy 4.Russian Guy who speaks English 5. A 6 year old kid who slept with your mother 11/10 Too much Salt and \\u0421*\\u043a\\u0430 \\u0411\\u043b\\u0438@\\u0442,not enough \\u2665\\u2665\\u2665\\u2665\\u2665 Would love to take another dose of salt and punch my little brother </div> </div> <div class=\"UserReviewCardContent_Footer\"> <div class=\"gradient\">\\xa0</div> </div> </div> <div class=\"apphub_CardContentAuthorBlock tall\"> <div class=\"apphub_friend_block_container\"> <a href=\"http://steamcommunity.com/id/DraganMKD87/\"> <div class=\"apphub_friend_block\" data-miniprofile=\"150882166\"> <div class=\"appHubIconHolder offline\"><img src=\"http://cdn.akamai.steamstatic.com/steamcommunity/public/images/avatars/c9/c98b64f921b810f752578e075dd4434861a9be09.jpg\"/></div> <div class=\"appHubIconHolder greyOverlay\"></div> <div class=\"apphub_CardContentAuthorName offline ellipsis\"><a href=\"http://steamcommunity.com/id/DraganMKD87/\">Forsaken Legendary Dan</a></div> <div class=\"apphub_CardContentMoreLink ellipsis\">91 products in account</div> </div> </a> </div> <div class=\"apphub_UserReviewCardStats\"> <div class=\"apphub_CardCommentCount alignNews\">218</div> </div> <div style=\"clear: left\"></div> </div> </div><div class=\"apphub_Card modalContentLink interactable\" data-modal-content-sizetofit=\"false\" data-modal-content-url=\"http://steamcommunity.com/id/Erincl/recommended/730/\" style=\"display: none\"> <div class=\"apphub_CardContentMain\"> <div class=\"apphub_UserReviewCardContent\"> <div class=\"found_helpful\"> 3,352 of 3,641 people (92%) found this review helpful 3,300 people found this review funny </div> <div class=\"vote_header\"> <div class=\"reviewInfo\"> <div class=\"thumb\"> <img height=\"44\" src=\"http://steamcommunity-a.akamaihd.net/public/shared/images/userreviews/icon_thumbsUp.png?v=1\" width=\"44\"/> </div> <div class=\"title\">Recommended</div> <div class=\"hours\">562.9 hrs on record</div> </div> <div style=\"clear: left\"></div> </div> <div class=\"apphub_CardTextContent\"> <div class=\"date_posted\">Posted: April 17, 2015</div> Counter Strike: Global Offensive <b>Counterstrike is a game that slowly ravages and pulverizes your soul each and every time you play it.</b> Everyone starts with the same thoughts when they play CS:GO: 1) 'Pfft. I'm never going to spend money in game buying skins and keys, that's stupid' 2) I'm never going to get that angry, it's only a game. 3) 'Meh, doesn't look that hard' <span class=\"bb_strike\">Within a month -</span> Within a week - 1) You\\u2019ve already have bought a P90 module skin because \"Oh, It's only 30p\" and you begin your slow downward spiral into the CS:GO marketplace, saving up for a knife and opening crates, in hopes of getting a knife which (deep on the inside, deep deep down) you know you're never going to get, and end up spending \\xa310 opening crates, and getting back 50p worth of skins back. 2) You\\u2019ve probably already threatened a handful of people with their lives; it\\u2019s a game that can turn any lovely human being into a <b>soul eating behemoth</b> within minutes of a match starting. Get used to wanting to assassinate everyone in your near vicinity. 3) You'll already gave uninstalled the game at <u>least</u> twice, in utter exasperation and in utter hope of cleansing your life from this game. <u>But you can't,</u> you'll always go back. The community is <b>utterly merciless and beastly,</b> with over half the people being angry 12 year old Russians. The betting will completely waste you and rip you of all of your favourite 50p worth of skins. And the trading is completely unreliable, leaving you to deal with steam support, which is 10x more brutal than the game itself. But of course you\\u2019ll go back, it\\u2019s CS:GO, it\\u2019s a drug. A soul destroying, mind numbing, murder spree inducing drug. <b>EDIT:</b> HA. Oops. </div> </div> <div class=\"UserReviewCardContent_Footer\"> <div class=\"gradient\">\\xa0</div> </div> </div> <div class=\"apphub_CardContentAuthorBlock tall\"> <div class=\"apphub_friend_block_container\"> <a href=\"http://steamcommunity.com/id/Erincl/\"> <div class=\"apphub_friend_block\" data-miniprofile=\"159061538\"> <div class=\"appHubIconHolder offline\"><img src=\"http://cdn.akamai.steamstatic.com/steamcommunity/public/images/avatars/8d/8d4348cab456f19695d247c50de072895edbfe97.jpg\"/></div> <div class=\"appHubIconHolder greyOverlay\"></div> <div class=\"apphub_CardContentAuthorName offline ellipsis\"><a href=\"http://steamcommunity.com/id/Erincl/\">.Erin.</a></div> <div class=\"apphub_CardContentMoreLink ellipsis\">54 products in account</div> </div> </a> </div> <div class=\"apphub_UserReviewCardStats\"> <div class=\"apphub_CardCommentCount alignNews\">101</div> </div> <div style=\"clear: left\"></div> </div> </div><div class=\"apphub_Card modalContentLink interactable\" data-modal-content-sizetofit=\"false\" data-modal-content-url=\"http://steamcommunity.com/id/CapitolKun/recommended/730/\" style=\"display: none\"> <div class=\"apphub_CardContentMain\"> <div class=\"apphub_UserReviewCardContent\"> <div class=\"found_helpful\"> 9,472 of 10,379 people (91%) found this review helpful 11,089 people found this review funny </div> <div class=\"vote_header\"> <div class=\"reviewInfo\"> <div class=\"thumb\"> <img height=\"44\" src=\"http://steamcommunity-a.akamaihd.net/public/shared/images/userreviews/icon_thumbsUp.png?v=1\" width=\"44\"/> </div> <div class=\"title\">Recommended</div> <div class=\"hours\">1,813.6 hrs on record</div> </div> <div style=\"clear: left\"></div> </div> <div class=\"apphub_CardTextContent\"> <div class=\"date_posted\">Posted: June 5, 2015</div> It's like Dota 2 but with less wizards and more Russians. </div> </div> <div class=\"UserReviewCardContent_Footer\"> <div class=\"gradient\">\\xa0</div> </div> </div> <div class=\"apphub_CardContentAuthorBlock tall\"> <div class=\"apphub_friend_block_container\"> <a href=\"http://steamcommunity.com/id/CapitolKun/\"> <div class=\"apphub_friend_block\" data-miniprofile=\"123785969\"> <div class=\"appHubIconHolder online\"><img src=\"http://cdn.akamai.steamstatic.com/steamcommunity/public/images/avatars/e1/e15d612a55b21c9728be9637364313550b7546a3.jpg\"/></div> <div class=\"appHubIconHolder greyOverlay\"></div> <div class=\"apphub_CardContentAuthorName online ellipsis\"><a href=\"http://steamcommunity.com/id/CapitolKun/\">\\u2606 cAPITou \\u2606</a></div> <div class=\"apphub_CardContentMoreLink ellipsis\">633 products in account</div> </div> </a> </div> <div class=\"apphub_UserReviewCardStats\"> <div class=\"apphub_CardCommentCount alignNews\">75</div> </div> <div style=\"clear: left\"></div> </div> </div><div class=\"apphub_Card modalContentLink interactable\" data-modal-content-sizetofit=\"false\" data-modal-content-url=\"http://steamcommunity.com/id/IsabellaDs/recommended/730/\" style=\"display: none\"> <div class=\"apphub_CardContentMain\"> <div class=\"apphub_UserReviewCardContent\"> <div class=\"found_helpful\"> 6,536 of 7,165 people (91%) found this review helpful 5,919 people found this review funny </div> <div class=\"vote_header\"> <div class=\"reviewInfo\"> <div class=\"thumb\"> <img height=\"44\" src=\"http://steamcommunity-a.akamaihd.net/public/shared/images/userreviews/icon_thumbsUp.png?v=1\" width=\"44\"/> </div> <div class=\"title\">Recommended</div> <div class=\"hours\">157.8 hrs on record</div> </div> <div style=\"clear: left\"></div> </div> <div class=\"apphub_CardTextContent\"> <div class=\"date_posted\">Posted: October 3, 2015</div> In this guide I will teach you how to play with russians , so here we go!!! 1) If your teammate did something wrong say -Ty dolbaeb? 2) If your teammate did something good say - Krasava! 3) If you won clutch round -sosat suka sosat 4) Lets rush b - idem rush b nahui (same for A/mid) 5) If something went wrong - pizdec 6) Give drop (politely) - dai drop pliz 7) Give drop (rude) - dai drop ili dam pizdi 8) I'm going to save - ja seivit' 9) If someone in other team plays good -pizdec cheater 10) Go eco guys, lets win next round with gun -eco odin raund a potom pizdi dadim s devaisami 11) When you win - gg izi 12) I'm from Russian - ja iz Rossii 13) American - pendosi 14) If you want to kick someone - kick etogo pidara 15) If teammates are thinking that you are bad -blyat pacani lagaet sorry 16) Polish - Kur.a You can add \"nahui\" to every phrase. Now you can play with russians and understand them </div> </div> <div class=\"UserReviewCardContent_Footer\"> <div class=\"gradient\">\\xa0</div> </div> </div> <div class=\"apphub_CardContentAuthorBlock tall\"> <div class=\"apphub_friend_block_container\"> <a href=\"http://steamcommunity.com/id/IsabellaDs/\"> <div class=\"apphub_friend_block\" data-miniprofile=\"154577418\"> <div class=\"appHubIconHolder offline\"><img src=\"http://cdn.akamai.steamstatic.com/steamcommunity/public/images/avatars/a7/a70681948259075d192ef77f6b46856dc12bf6b4.jpg\"/></div> <div class=\"appHubIconHolder greyOverlay\"></div> <div class=\"apphub_CardContentAuthorName offline ellipsis\"><a href=\"http://steamcommunity.com/id/IsabellaDs/\">Cecilia(away surf comp)</a></div> <div class=\"apphub_CardContentMoreLink ellipsis\">129 products in account</div> </div> </a> </div> <div class=\"apphub_UserReviewCardStats\"> <div class=\"apphub_CardCommentCount alignNews\">120</div> </div> <div style=\"clear: left\"></div> </div> </div><div class=\"apphub_Card modalContentLink interactable\" data-modal-content-sizetofit=\"false\" data-modal-content-url=\"http://steamcommunity.com/id/CrypterNOR/recommended/730/\" style=\"display: none\"> <div class=\"apphub_CardContentMain\"> <div class=\"apphub_UserReviewCardContent\"> <div class=\"found_helpful\"> 9,532 of 10,529 people (91%) found this review helpful 12,930 people found this review funny </div> <div class=\"vote_header\"> <div class=\"reviewInfo\"> <div class=\"thumb\"> <img height=\"44\" src=\"http://steamcommunity-a.akamaihd.net/public/shared/images/userreviews/icon_thumbsUp.png?v=1\" width=\"44\"/> </div> <div class=\"title\">Recommended</div> <div class=\"hours\">1,452.7 hrs on record</div> </div> <div style=\"clear: left\"></div> </div> <div class=\"apphub_CardTextContent\"> <div class=\"date_posted\">Posted: September 11, 2015</div> Where can i get the English version? </div> </div> <div class=\"UserReviewCardContent_Footer\"> <div class=\"gradient\">\\xa0</div> </div> </div> <div class=\"apphub_CardContentAuthorBlock tall\"> <div class=\"apphub_friend_block_container\"> <a href=\"http://steamcommunity.com/id/CrypterNOR/\"> <div class=\"apphub_friend_block\" data-miniprofile=\"45125793\"> <div class=\"appHubIconHolder online\"><img src=\"http://cdn.akamai.steamstatic.com/steamcommunity/public/images/avatars/e9/e942d8faff55f94e1c03bd737741d76e678c2fc7.jpg\"/></div> <div class=\"appHubIconHolder greyOverlay\"></div> <div class=\"apphub_CardContentAuthorName online ellipsis\"><a href=\"http://steamcommunity.com/id/CrypterNOR/\">Crypter</a></div> <div class=\"apphub_CardContentMoreLink ellipsis\">1,718 products in account</div> </div> </a> </div> <div class=\"apphub_UserReviewCardStats\"> <div class=\"apphub_CardCommentCount alignNews\">115</div> </div> <div style=\"clear: left\"></div> </div> </div> <script> $J(function() { RequestCurrentUserRecommendationVotes( [\"14446233\",\"16985058\",\"15656492\",\"14283984\",\"17331260\",\"18827070\",\"15419703\",\"16209388\",\"18303275\",\"17987914\"] ); } ); </script> </div> <form action=\"http://steamcommunity.com/app/730/homecontent/\" id=\"MoreContentForm1\" method=\"GET\" name=\"MoreContentForm1\"> <input name=\"userreviewsoffset\" type=\"hidden\" value=\"10\"/><input name=\"p\" type=\"hidden\" value=\"2\"/><input name=\"itemspage\" type=\"hidden\" value=\"2\"/><input name=\"screenshotspage\" type=\"hidden\" value=\"2\"/><input name=\"videospage\" type=\"hidden\" value=\"2\"/><input name=\"artpage\" type=\"hidden\" value=\"2\"/><input name=\"allguidepage\" type=\"hidden\" value=\"2\"/><input name=\"webguidepage\" type=\"hidden\" value=\"2\"/><input name=\"integratedguidepage\" type=\"hidden\" value=\"2\"/><input name=\"discussionspage\" type=\"hidden\" value=\"2\"/><input name=\"appid\" type=\"hidden\" value=\"730\"/><input name=\"appHubSubSection\" type=\"hidden\" value=\"10\"/> <input name=\"l\" type=\"hidden\" value=\"english\"/> <input name=\"appHubSubSection\" type=\"hidden\" value=\"10\"/> <input name=\"browsefilter\" type=\"hidden\" value=\"toprated\"/> <input name=\"filterLanguage\" type=\"hidden\" value=\"default\"/> <input name=\"searchText\" type=\"hidden\" value=\"\"/> <input name=\"forceanon\" type=\"hidden\" value=\"1\"/> </form></body></html>"
      ]
     },
     "execution_count": 31,
     "metadata": {},
     "output_type": "execute_result"
    }
   ],
   "source": [
    "soup.contents[0]"
   ]
  },
  {
   "cell_type": "code",
   "execution_count": 40,
   "metadata": {
    "collapsed": false
   },
   "outputs": [],
   "source": [
    "review_sections = soup.find_all(\"div\", \"apphub_CardContentMain\")\n",
    "review = review_sections[5]"
   ]
  },
  {
   "cell_type": "code",
   "execution_count": 41,
   "metadata": {
    "collapsed": false
   },
   "outputs": [
    {
     "data": {
      "text/plain": [
       "u'   11,320 of 12,327 people (92%) found this review helpful 13,940 people found this review funny       Recommended 287.4 hrs on record     Posted: November 1, 2015 Every team consists of 5 people: 1.You 2.Russian Guy 3.Another Russian Guy 4.Russian Guy who speaks English 5. A 6 year old kid who slept with your mother 11/10 Too much Salt and \\u0421*\\u043a\\u0430 \\u0411\\u043b\\u0438@\\u0442,not enough \\u2665\\u2665\\u2665\\u2665\\u2665 Would love to take another dose of salt and punch my little brother    \\xa0  '"
      ]
     },
     "execution_count": 41,
     "metadata": {},
     "output_type": "execute_result"
    }
   ],
   "source": [
    "review.text"
   ]
  },
  {
   "cell_type": "code",
   "execution_count": 42,
   "metadata": {
    "collapsed": false
   },
   "outputs": [],
   "source": [
    "link_blocks = list(soup.findAll('div',\n",
    "                                'apphub_Card modalContentLink interactable'))\n",
    "link_block = link_blocks[0]"
   ]
  },
  {
   "cell_type": "code",
   "execution_count": 43,
   "metadata": {
    "collapsed": false
   },
   "outputs": [
    {
     "data": {
      "text/plain": [
       "'http://steamcommunity.com/profiles/76561198092689293/recommended/730/'"
      ]
     },
     "execution_count": 43,
     "metadata": {},
     "output_type": "execute_result"
    }
   ],
   "source": [
    "review_url = link_block.attrs['data-modal-content-url']\n",
    "review_url_split = review_url.split('/')\n",
    "review_url"
   ]
  },
  {
   "cell_type": "code",
   "execution_count": 44,
   "metadata": {
    "collapsed": false
   },
   "outputs": [
    {
     "data": {
      "text/plain": [
       "'http://steamcommunity.com/profiles/76561198092689293'"
      ]
     },
     "execution_count": 44,
     "metadata": {},
     "output_type": "execute_result"
    }
   ],
   "source": [
    "profile_url = '/'.join(review_url_split[:5])\n",
    "profile_url"
   ]
  },
  {
   "cell_type": "code",
   "execution_count": 45,
   "metadata": {
    "collapsed": false
   },
   "outputs": [
    {
     "data": {
      "text/plain": [
       "[u' ',\n",
       " <div class=\"apphub_UserReviewCardContent\"> <div class=\"found_helpful\"> 11,320 of 12,327 people (92%) found this review helpful 13,940 people found this review funny </div> <div class=\"vote_header\"> <div class=\"reviewInfo\"> <div class=\"thumb\"> <img height=\"44\" src=\"http://steamcommunity-a.akamaihd.net/public/shared/images/userreviews/icon_thumbsUp.png?v=1\" width=\"44\"/> </div> <div class=\"title\">Recommended</div> <div class=\"hours\">287.4 hrs on record</div> </div> <div style=\"clear: left\"></div> </div> <div class=\"apphub_CardTextContent\"> <div class=\"date_posted\">Posted: November 1, 2015</div> Every team consists of 5 people: 1.You 2.Russian Guy 3.Another Russian Guy 4.Russian Guy who speaks English 5. A 6 year old kid who slept with your mother 11/10 Too much Salt and \\u0421*\\u043a\\u0430 \\u0411\\u043b\\u0438@\\u0442,not enough \\u2665\\u2665\\u2665\\u2665\\u2665 Would love to take another dose of salt and punch my little brother </div> </div>,\n",
       " u' ',\n",
       " <div class=\"UserReviewCardContent_Footer\"> <div class=\"gradient\">\\xa0</div> </div>,\n",
       " u' ']"
      ]
     },
     "execution_count": 45,
     "metadata": {},
     "output_type": "execute_result"
    }
   ],
   "source": [
    "list(review.children)"
   ]
  },
  {
   "cell_type": "code",
   "execution_count": 46,
   "metadata": {
    "collapsed": false
   },
   "outputs": [
    {
     "data": {
      "text/plain": [
       "[u' ',\n",
       " <div class=\"apphub_UserReviewCardContent\"> <div class=\"found_helpful\"> 11,320 of 12,327 people (92%) found this review helpful 13,940 people found this review funny </div> <div class=\"vote_header\"> <div class=\"reviewInfo\"> <div class=\"thumb\"> <img height=\"44\" src=\"http://steamcommunity-a.akamaihd.net/public/shared/images/userreviews/icon_thumbsUp.png?v=1\" width=\"44\"/> </div> <div class=\"title\">Recommended</div> <div class=\"hours\">287.4 hrs on record</div> </div> <div style=\"clear: left\"></div> </div> <div class=\"apphub_CardTextContent\"> <div class=\"date_posted\">Posted: November 1, 2015</div> Every team consists of 5 people: 1.You 2.Russian Guy 3.Another Russian Guy 4.Russian Guy who speaks English 5. A 6 year old kid who slept with your mother 11/10 Too much Salt and \\u0421*\\u043a\\u0430 \\u0411\\u043b\\u0438@\\u0442,not enough \\u2665\\u2665\\u2665\\u2665\\u2665 Would love to take another dose of salt and punch my little brother </div> </div>,\n",
       " u' ',\n",
       " <div class=\"found_helpful\"> 11,320 of 12,327 people (92%) found this review helpful 13,940 people found this review funny </div>,\n",
       " u' 11,320 of 12,327 people (92%) found this review helpful 13,940 people found this review funny ',\n",
       " u' ',\n",
       " <div class=\"vote_header\"> <div class=\"reviewInfo\"> <div class=\"thumb\"> <img height=\"44\" src=\"http://steamcommunity-a.akamaihd.net/public/shared/images/userreviews/icon_thumbsUp.png?v=1\" width=\"44\"/> </div> <div class=\"title\">Recommended</div> <div class=\"hours\">287.4 hrs on record</div> </div> <div style=\"clear: left\"></div> </div>,\n",
       " u' ',\n",
       " <div class=\"reviewInfo\"> <div class=\"thumb\"> <img height=\"44\" src=\"http://steamcommunity-a.akamaihd.net/public/shared/images/userreviews/icon_thumbsUp.png?v=1\" width=\"44\"/> </div> <div class=\"title\">Recommended</div> <div class=\"hours\">287.4 hrs on record</div> </div>,\n",
       " u' ',\n",
       " <div class=\"thumb\"> <img height=\"44\" src=\"http://steamcommunity-a.akamaihd.net/public/shared/images/userreviews/icon_thumbsUp.png?v=1\" width=\"44\"/> </div>,\n",
       " u' ',\n",
       " <img height=\"44\" src=\"http://steamcommunity-a.akamaihd.net/public/shared/images/userreviews/icon_thumbsUp.png?v=1\" width=\"44\"/>,\n",
       " u' ',\n",
       " u' ',\n",
       " <div class=\"title\">Recommended</div>,\n",
       " u'Recommended',\n",
       " u' ',\n",
       " <div class=\"hours\">287.4 hrs on record</div>,\n",
       " u'287.4 hrs on record',\n",
       " u' ',\n",
       " u' ',\n",
       " <div style=\"clear: left\"></div>,\n",
       " u' ',\n",
       " u' ',\n",
       " <div class=\"apphub_CardTextContent\"> <div class=\"date_posted\">Posted: November 1, 2015</div> Every team consists of 5 people: 1.You 2.Russian Guy 3.Another Russian Guy 4.Russian Guy who speaks English 5. A 6 year old kid who slept with your mother 11/10 Too much Salt and \\u0421*\\u043a\\u0430 \\u0411\\u043b\\u0438@\\u0442,not enough \\u2665\\u2665\\u2665\\u2665\\u2665 Would love to take another dose of salt and punch my little brother </div>,\n",
       " u' ',\n",
       " <div class=\"date_posted\">Posted: November 1, 2015</div>,\n",
       " u'Posted: November 1, 2015',\n",
       " u' Every team consists of 5 people: 1.You 2.Russian Guy 3.Another Russian Guy 4.Russian Guy who speaks English 5. A 6 year old kid who slept with your mother 11/10 Too much Salt and \\u0421*\\u043a\\u0430 \\u0411\\u043b\\u0438@\\u0442,not enough \\u2665\\u2665\\u2665\\u2665\\u2665 Would love to take another dose of salt and punch my little brother ',\n",
       " u' ',\n",
       " u' ',\n",
       " <div class=\"UserReviewCardContent_Footer\"> <div class=\"gradient\">\\xa0</div> </div>,\n",
       " u' ',\n",
       " <div class=\"gradient\">\\xa0</div>,\n",
       " u'\\xa0',\n",
       " u' ',\n",
       " u' ']"
      ]
     },
     "execution_count": 46,
     "metadata": {},
     "output_type": "execute_result"
    }
   ],
   "source": [
    "list(review.descendants)"
   ]
  },
  {
   "cell_type": "code",
   "execution_count": 47,
   "metadata": {
    "collapsed": false
   },
   "outputs": [
    {
     "data": {
      "text/plain": [
       "u' ,,, ,,, 11,320 of 12,327 people (92%) found this review helpful 13,940 people found this review funny ,,, ,,, ,,, ,,, ,,, ,,, ,,,Recommended,,, ,,,287.4 hrs on record,,, ,,, ,,, ,,, ,,, ,,,Posted: November 1, 2015,,, Every team consists of 5 people: 1.You 2.Russian Guy 3.Another Russian Guy 4.Russian Guy who speaks English 5. A 6 year old kid who slept with your mother 11/10 Too much Salt and \\u0421*\\u043a\\u0430 \\u0411\\u043b\\u0438@\\u0442,not enough \\u2665\\u2665\\u2665\\u2665\\u2665 Would love to take another dose of salt and punch my little brother ,,, ,,, ,,, ,,,\\xa0,,, ,,, '"
      ]
     },
     "execution_count": 47,
     "metadata": {},
     "output_type": "execute_result"
    }
   ],
   "source": [
    "review.getText(separator=\",,,\")"
   ]
  },
  {
   "cell_type": "code",
   "execution_count": 48,
   "metadata": {
    "collapsed": false,
    "scrolled": true
   },
   "outputs": [
    {
     "data": {
      "text/plain": [
       "[u'11,320 of 12,327 people (92%) found this review helpful 13,940 people found this review funny',\n",
       " u'Recommended',\n",
       " u'287.4 hrs on record',\n",
       " u'Posted: November 1, 2015',\n",
       " u'Every team consists of 5 people: 1.You 2.Russian Guy 3.Another Russian Guy 4.Russian Guy who speaks English 5. A 6 year old kid who slept with your mother 11/10 Too much Salt and \\u0421*\\u043a\\u0430 \\u0411\\u043b\\u0438@\\u0442,not enough \\u2665\\u2665\\u2665\\u2665\\u2665 Would love to take another dose of salt and punch my little brother']"
      ]
     },
     "execution_count": 48,
     "metadata": {},
     "output_type": "execute_result"
    }
   ],
   "source": [
    "stripped_strings = list(review.stripped_strings)\n",
    "stripped_strings"
   ]
  },
  {
   "cell_type": "code",
   "execution_count": 49,
   "metadata": {
    "collapsed": false
   },
   "outputs": [
    {
     "data": {
      "text/plain": [
       "[5, 5, 5, 5, 5, 5, 19, 5, 5, 5]"
      ]
     },
     "execution_count": 49,
     "metadata": {},
     "output_type": "execute_result"
    }
   ],
   "source": [
    "[len(list(review_sections[i].stripped_strings)) for i in range(10)]"
   ]
  },
  {
   "cell_type": "code",
   "execution_count": 50,
   "metadata": {
    "collapsed": false
   },
   "outputs": [
    {
     "data": {
      "text/plain": [
       "[u'9,472 of 10,379 people (91%) found this review helpful 11,089 people found this review funny',\n",
       " u'Recommended',\n",
       " u'1,813.6 hrs on record',\n",
       " u'Posted: June 5, 2015',\n",
       " u\"It's like Dota 2 but with less wizards and more Russians.\"]"
      ]
     },
     "execution_count": 50,
     "metadata": {},
     "output_type": "execute_result"
    }
   ],
   "source": [
    "list(review_sections[-3].stripped_strings)"
   ]
  },
  {
   "cell_type": "code",
   "execution_count": 51,
   "metadata": {
    "collapsed": false
   },
   "outputs": [
    {
     "data": {
      "text/plain": [
       "['1,703 of 1,977 people (86%) found this review helpful 1 person found this review funny',\n",
       " 'Recommended',\n",
       " '598.1 hrs on record',\n",
       " 'Posted: January 17, 2014',\n",
       " \"I've tried Rosetta Stone, duolingo, and even college classes, but nothing has taught me Russian or Brazilian better than this! And it's free!\",\n",
       " '76 products in account',\n",
       " '21']"
      ]
     },
     "execution_count": 51,
     "metadata": {},
     "output_type": "execute_result"
    }
   ],
   "source": [
    "stripped_strings2 = ['1,703 of 1,977 people (86%) found this review helpful 1 person found this review funny', 'Recommended', '598.1 hrs on record', 'Posted: January 17, 2014', \"I've tried Rosetta Stone, duolingo, and even college classes, but nothing has taught me Russian or Brazilian better than this! And it's free!\", '76 products in account', '21']\n",
    "stripped_strings2"
   ]
  },
  {
   "cell_type": "code",
   "execution_count": 52,
   "metadata": {
    "collapsed": false
   },
   "outputs": [
    {
     "data": {
      "text/plain": [
       "<_sre.SRE_Match at 0x103aa8648>"
      ]
     },
     "execution_count": 52,
     "metadata": {},
     "output_type": "execute_result"
    }
   ],
   "source": [
    "re.search(r', \\d{4}$', 'January 17, 2014')"
   ]
  },
  {
   "cell_type": "code",
   "execution_count": 53,
   "metadata": {
    "collapsed": false
   },
   "outputs": [
    {
     "data": {
      "text/plain": [
       "17"
      ]
     },
     "execution_count": 53,
     "metadata": {},
     "output_type": "execute_result"
    }
   ],
   "source": [
    "from dateutil import parser\n",
    "date = parser.parse('January 17, 2014')\n",
    "date.day"
   ]
  },
  {
   "cell_type": "code",
   "execution_count": 54,
   "metadata": {
    "collapsed": false
   },
   "outputs": [
    {
     "data": {
      "text/plain": [
       "['805 of 962 people (84%) found this review helpful',\n",
       " 'Recommended',\n",
       " '682.5 hrs on record',\n",
       " 'Posted: January 22, 2014',\n",
       " 'K I N T E R',\n",
       " '77 products in account',\n",
       " '1']"
      ]
     },
     "execution_count": 54,
     "metadata": {},
     "output_type": "execute_result"
    }
   ],
   "source": [
    "stripped_strings3 = ['805 of 962 people (84%) found this review helpful', 'Recommended', '682.5 hrs on record', 'Posted: January 22, 2014', 'K I N T E R', '77 products in account', '1']\n",
    "stripped_strings3"
   ]
  },
  {
   "cell_type": "code",
   "execution_count": 55,
   "metadata": {
    "collapsed": true
   },
   "outputs": [],
   "source": [
    "# Given the stripped_strings attribute, the relevant information can be extracted\n",
    "# exceedingly easily\n",
    "helpful_funny = stripped_strings[0]\n",
    "recommended = stripped_strings[1]\n",
    "hours = re.sub(r',',\n",
    "               r'',\n",
    "               stripped_strings[2].split()[0])\n",
    "date_posted = stripped_strings[3][8:]\n",
    "review = stripped_strings[4]\n",
    "#products_in_account = stripped_strings[6].split()[0]"
   ]
  },
  {
   "cell_type": "code",
   "execution_count": 56,
   "metadata": {
    "collapsed": false
   },
   "outputs": [
    {
     "data": {
      "text/plain": [
       "u'Recommended'"
      ]
     },
     "execution_count": 56,
     "metadata": {},
     "output_type": "execute_result"
    }
   ],
   "source": [
    "recommended"
   ]
  },
  {
   "cell_type": "code",
   "execution_count": 57,
   "metadata": {
    "collapsed": false
   },
   "outputs": [
    {
     "name": "stdout",
     "output_type": "stream",
     "text": [
      "found helpful: 11320\n",
      "total people that could have found it helpful: 12327\n",
      "percentage of people who found the review helpful: 0.918309402125%\n",
      "found review funny: 13,940\n"
     ]
    }
   ],
   "source": [
    "helpful = helpful_funny.split()[:9]\n",
    "funny = helpful_funny.split()[9:]\n",
    "found_helpful = re.sub(r',',\n",
    "                       r'',\n",
    "                       helpful[0])\n",
    "total_helpful_candidates = re.sub(r',',\n",
    "                                  r'',\n",
    "                                  helpful[2])\n",
    "helpful_percentage = float(found_helpful)/float(total_helpful_candidates)\n",
    "print(\"found helpful: {}\\ntotal people that could have found it helpful: {}\"\n",
    "      \"\\npercentage of people who found the review helpful: \"\n",
    "      \"{}%\".format(found_helpful,\n",
    "                   total_helpful_candidates,\n",
    "                   helpful_percentage))\n",
    "\n",
    "found_funny = funny[0]\n",
    "print(\"found review funny: {}\".format(found_funny))"
   ]
  },
  {
   "cell_type": "code",
   "execution_count": 198,
   "metadata": {
    "collapsed": false
   },
   "outputs": [],
   "source": [
    "date_posted += ', 2015'"
   ]
  },
  {
   "cell_type": "code",
   "execution_count": 58,
   "metadata": {
    "collapsed": false
   },
   "outputs": [
    {
     "data": {
      "text/plain": [
       "u'November 1, 2015'"
      ]
     },
     "execution_count": 58,
     "metadata": {},
     "output_type": "execute_result"
    }
   ],
   "source": [
    "date_posted"
   ]
  },
  {
   "cell_type": "code",
   "execution_count": 59,
   "metadata": {
    "collapsed": false
   },
   "outputs": [
    {
     "data": {
      "text/plain": [
       "{'date_posted': u'November 1, 2015',\n",
       " 'found_funny': u'13,940',\n",
       " 'found_helpful': u'11320',\n",
       " 'found_helpful_percentage': 0.9183094021254158,\n",
       " 'hours': u'287.4',\n",
       " 'profile_url': 'http://steamcommunity.com/profiles/76561198092689293',\n",
       " 'recommended': u'Recommended',\n",
       " 'review': u'Every team consists of 5 people: 1.You 2.Russian Guy 3.Another Russian Guy 4.Russian Guy who speaks English 5. A 6 year old kid who slept with your mother 11/10 Too much Salt and \\u0421*\\u043a\\u0430 \\u0411\\u043b\\u0438@\\u0442,not enough \\u2665\\u2665\\u2665\\u2665\\u2665 Would love to take another dose of salt and punch my little brother',\n",
       " 'review_url': 'http://steamcommunity.com/profiles/76561198092689293/recommended/730/',\n",
       " 'total_found_helpful_candidates': u'12327'}"
      ]
     },
     "execution_count": 59,
     "metadata": {},
     "output_type": "execute_result"
    }
   ],
   "source": [
    "# Let's define a dictionary with all of the stuff that's being collected\n",
    "review_dict = dict(review_url=review_url,\n",
    "                   profile_url=profile_url,\n",
    "                   recommended=recommended,\n",
    "                   hours=hours,\n",
    "                   date_posted=date_posted,\n",
    "                   review=review,\n",
    "                   #products_in_account=products_in_account,\n",
    "                   found_helpful=found_helpful,\n",
    "                   total_found_helpful_candidates=total_helpful_candidates,\n",
    "                   found_helpful_percentage=helpful_percentage,\n",
    "                   found_funny=found_funny)\n",
    "review_dict"
   ]
  },
  {
   "cell_type": "code",
   "execution_count": null,
   "metadata": {
    "collapsed": true
   },
   "outputs": [],
   "source": []
  }
 ],
 "metadata": {
  "kernelspec": {
   "display_name": "Python 2",
   "language": "python",
   "name": "python2"
  },
  "language_info": {
   "codemirror_mode": {
    "name": "ipython",
    "version": 2
   },
   "file_extension": ".py",
   "mimetype": "text/x-python",
   "name": "python",
   "nbconvert_exporter": "python",
   "pygments_lexer": "ipython2",
   "version": "2.7.11"
  }
 },
 "nbformat": 4,
 "nbformat_minor": 0
}
