{
 "cells": [
  {
   "cell_type": "code",
   "execution_count": 1,
   "metadata": {
    "collapsed": false
   },
   "outputs": [],
   "source": [
    "import pymongo\n",
    "import pandas as pd\n",
    "import matplotlib.pyplot as plt\n",
    "import numpy as np\n",
    "from collections import Counter\n",
    "import time#, calendar\n",
    "import requests, re\n",
    "from bs4 import BeautifulSoup\n",
    "#import graphlab as gl\n",
    "%matplotlib inline"
   ]
  },
  {
   "cell_type": "markdown",
   "metadata": {},
   "source": [
    "# Reading from json file for testing"
   ]
  },
  {
   "cell_type": "code",
   "execution_count": 2,
   "metadata": {
    "collapsed": false
   },
   "outputs": [],
   "source": [
    "with open(\"/Users/johnnysand/GalvanizeDS/final_project/test_set.json\", \"rb\") as f:\n",
    "    test_file = f.readlines()"
   ]
  },
  {
   "cell_type": "markdown",
   "metadata": {},
   "source": [
    "```python\n",
    "import pandas as pd\n",
    "\n",
    "# read the entire file into a python array\n",
    "with open('your.json', 'rb') as f:\n",
    "    data = f.readlines()\n",
    "\n",
    "# remove the trailing \"\\n\" from each line\n",
    "data = map(lambda x: x.rstrip(), data)\n",
    "\n",
    "# each element of 'data' is an individual JSON object.\n",
    "# i want to convert it into an *array* of JSON objects\n",
    "# which, in and of itself, is one large JSON object\n",
    "# basically... add square brackets to the beginning\n",
    "# and end, and have all the individual business JSON objects\n",
    "# separated by a comma\n",
    "data_json_str = \"[\" + ','.join(data) + \"]\"\n",
    "\n",
    "# now, load it into pandas\n",
    "data_df = pd.read_json(data_json_str)\n",
    "```"
   ]
  },
  {
   "cell_type": "code",
   "execution_count": 3,
   "metadata": {
    "collapsed": false
   },
   "outputs": [],
   "source": [
    "test_file = map(lambda x: x.strip(), test_file)\n",
    "test_json = \"[\" + ','.join(test_file) + \"]\""
   ]
  },
  {
   "cell_type": "code",
   "execution_count": 4,
   "metadata": {
    "collapsed": false
   },
   "outputs": [],
   "source": [
    "df = pd.read_json(test_json)"
   ]
  },
  {
   "cell_type": "markdown",
   "metadata": {},
   "source": [
    "Remove private users (no friend, game, profile, or location info  \n",
    "Remove users who have \"empty\" game_info \n",
    "Remove users with null values  \n",
    "Remove users with \"empty\" profile_summary"
   ]
  },
  {
   "cell_type": "code",
   "execution_count": 8,
   "metadata": {
    "collapsed": false
   },
   "outputs": [],
   "source": [
    "public_df = df[df[\"friends\"] != \"private\"]\n",
    "public_df = public_df[public_df[\"game_info\"]!=\"empty\"]\n",
    "public_df = public_df[~public_df[\"game_info\"].isnull()][\"game_info\"]"
   ]
  },
  {
   "cell_type": "code",
   "execution_count": 66,
   "metadata": {
    "collapsed": true
   },
   "outputs": [],
   "source": [
    "public_df = unpack(public_df, \"ban_status\", fillna=None)"
   ]
  },
  {
   "cell_type": "code",
   "execution_count": 71,
   "metadata": {
    "collapsed": false
   },
   "outputs": [],
   "source": [
    "public_df = public_df[~public_df[\"profile_summary\"].isnull()]"
   ]
  },
  {
   "cell_type": "code",
   "execution_count": 76,
   "metadata": {
    "collapsed": false
   },
   "outputs": [],
   "source": [
    "public_df = public_df[public_df[\"profile_summary\"]!=\"empty\"]"
   ]
  },
  {
   "cell_type": "code",
   "execution_count": 77,
   "metadata": {
    "collapsed": false
   },
   "outputs": [],
   "source": [
    "public_df = unpack(public_df, \"profile_summary\", fillna=None)"
   ]
  },
  {
   "cell_type": "code",
   "execution_count": 17,
   "metadata": {
    "collapsed": true
   },
   "outputs": [],
   "source": [
    "public_df = unpack(public_df, \"user_info\", fillna=None)"
   ]
  },
  {
   "cell_type": "code",
   "execution_count": 106,
   "metadata": {
    "collapsed": false
   },
   "outputs": [
    {
     "data": {
      "text/plain": [
       "array([u'LA', u'IN', u'AK', u'CO', u'IL', u'NE', nan, u'AZ', u'OK', u'TX',\n",
       "       u'OR', u'CA', u'WA', u'NV', u'NY', u'FM', u'VA', u'GA', u'UT',\n",
       "       u'MN', u'FL', u'NJ', u'MO', u'MT', u'PA', u'NC', u'MI', u'KY',\n",
       "       u'OH', u'WI', u'MA', u'AR', u'ID', u'KS', u'SC', u'AL', u'TN',\n",
       "       u'DE', u'VT', u'CT', u'HI', u'ME', u'IA', u'ND', u'NM', u'WV',\n",
       "       u'RI', u'MD', u'DC', u'WY', u'NH', u'AS', u'MS', u'SD', u'GU',\n",
       "       u'PW', u'MP', u'VI', u'PR'], dtype=object)"
      ]
     },
     "execution_count": 106,
     "metadata": {},
     "output_type": "execute_result"
    }
   ],
   "source": [
    "public_df[public_df[\"loccountrycode\"]==\"US\"][\"locstatecode\"].unique()"
   ]
  },
  {
   "cell_type": "code",
   "execution_count": 100,
   "metadata": {
    "collapsed": false
   },
   "outputs": [],
   "source": [
    "public_df = public_df[~public_df[\"game_info\"].isnull()]"
   ]
  },
  {
   "cell_type": "code",
   "execution_count": 101,
   "metadata": {
    "collapsed": false
   },
   "outputs": [
    {
     "ename": "KeyboardInterrupt",
     "evalue": "",
     "output_type": "error",
     "traceback": [
      "\u001b[0;31m---------------------------------------------------------------------------\u001b[0m",
      "\u001b[0;31mKeyboardInterrupt\u001b[0m                         Traceback (most recent call last)",
      "\u001b[0;32m<ipython-input-101-87a154fd2e84>\u001b[0m in \u001b[0;36m<module>\u001b[0;34m()\u001b[0m\n\u001b[0;32m----> 1\u001b[0;31m \u001b[0mpopular_games\u001b[0m \u001b[0;34m=\u001b[0m \u001b[0mpopular_game_set\u001b[0m\u001b[0;34m(\u001b[0m\u001b[0mpublic_df\u001b[0m\u001b[0;34m)\u001b[0m\u001b[0;34m\u001b[0m\u001b[0m\n\u001b[0m",
      "\u001b[0;32m<ipython-input-95-3f5a49f50a6f>\u001b[0m in \u001b[0;36mpopular_game_set\u001b[0;34m(df)\u001b[0m\n\u001b[1;32m     25\u001b[0m         \u001b[0;32mfor\u001b[0m \u001b[0mgame\u001b[0m \u001b[0;32min\u001b[0m \u001b[0muser\u001b[0m\u001b[0;34m:\u001b[0m\u001b[0;34m\u001b[0m\u001b[0m\n\u001b[1;32m     26\u001b[0m             \u001b[0mgametime\u001b[0m\u001b[0;34m[\u001b[0m\u001b[0mstr\u001b[0m\u001b[0;34m(\u001b[0m\u001b[0mgame\u001b[0m\u001b[0;34m[\u001b[0m\u001b[0;34m\"appid\"\u001b[0m\u001b[0;34m]\u001b[0m\u001b[0;34m)\u001b[0m\u001b[0;34m]\u001b[0m \u001b[0;34m=\u001b[0m \u001b[0mgame\u001b[0m\u001b[0;34m[\u001b[0m\u001b[0;34m\"playtime_forever\"\u001b[0m\u001b[0;34m]\u001b[0m\u001b[0;34m\u001b[0m\u001b[0m\n\u001b[0;32m---> 27\u001b[0;31m             \u001b[0;32mif\u001b[0m \u001b[0mgame\u001b[0m\u001b[0;34m[\u001b[0m\u001b[0;34m\"appid\"\u001b[0m\u001b[0;34m]\u001b[0m \u001b[0;32mnot\u001b[0m \u001b[0;32min\u001b[0m \u001b[0msummed\u001b[0m\u001b[0;34m.\u001b[0m\u001b[0mkeys\u001b[0m\u001b[0;34m(\u001b[0m\u001b[0;34m)\u001b[0m\u001b[0;34m:\u001b[0m\u001b[0;34m\u001b[0m\u001b[0m\n\u001b[0m\u001b[1;32m     28\u001b[0m                 \u001b[0msummed\u001b[0m\u001b[0;34m.\u001b[0m\u001b[0mupdate\u001b[0m\u001b[0;34m(\u001b[0m\u001b[0mgametime\u001b[0m\u001b[0;34m)\u001b[0m\u001b[0;34m\u001b[0m\u001b[0m\n\u001b[1;32m     29\u001b[0m         \u001b[0msummed\u001b[0m \u001b[0;34m+=\u001b[0m \u001b[0mgametime\u001b[0m\u001b[0;34m\u001b[0m\u001b[0m\n",
      "\u001b[0;31mKeyboardInterrupt\u001b[0m: "
     ]
    }
   ],
   "source": [
    "popular_games = popular_game_set(public_df)"
   ]
  },
  {
   "cell_type": "code",
   "execution_count": null,
   "metadata": {
    "collapsed": true
   },
   "outputs": [],
   "source": []
  },
  {
   "cell_type": "code",
   "execution_count": null,
   "metadata": {
    "collapsed": true
   },
   "outputs": [],
   "source": []
  },
  {
   "cell_type": "code",
   "execution_count": null,
   "metadata": {
    "collapsed": true
   },
   "outputs": [],
   "source": []
  },
  {
   "cell_type": "markdown",
   "metadata": {},
   "source": [
    "# Connect to MongoDB"
   ]
  },
  {
   "cell_type": "code",
   "execution_count": 2,
   "metadata": {
    "collapsed": false
   },
   "outputs": [],
   "source": [
    "conn = pymongo.MongoClient()['steam']\n",
    "cursor = conn['test'].find({})"
   ]
  },
  {
   "cell_type": "code",
   "execution_count": 3,
   "metadata": {
    "collapsed": false
   },
   "outputs": [
    {
     "name": "stdout",
     "output_type": "stream",
     "text": [
      "<class 'pandas.core.frame.DataFrame'>\n",
      "RangeIndex: 656 entries, 0 to 655\n",
      "Data columns (total 7 columns):\n",
      "_id                656 non-null object\n",
      "ban_status         656 non-null object\n",
      "friends            656 non-null object\n",
      "game_info          656 non-null object\n",
      "profile_summary    656 non-null object\n",
      "steamid            656 non-null object\n",
      "user_info          656 non-null object\n",
      "dtypes: object(7)\n",
      "memory usage: 35.9+ KB\n"
     ]
    }
   ],
   "source": [
    "df = pd.DataFrame(list(cursor))\n",
    "df.info()"
   ]
  },
  {
   "cell_type": "code",
   "execution_count": 4,
   "metadata": {
    "collapsed": false
   },
   "outputs": [
    {
     "data": {
      "text/html": [
       "<div>\n",
       "<table border=\"1\" class=\"dataframe\">\n",
       "  <thead>\n",
       "    <tr style=\"text-align: right;\">\n",
       "      <th></th>\n",
       "      <th>_id</th>\n",
       "      <th>ban_status</th>\n",
       "      <th>friends</th>\n",
       "      <th>game_info</th>\n",
       "      <th>profile_summary</th>\n",
       "      <th>steamid</th>\n",
       "      <th>user_info</th>\n",
       "    </tr>\n",
       "  </thead>\n",
       "  <tbody>\n",
       "    <tr>\n",
       "      <th>0</th>\n",
       "      <td>570fc54763210f0e63d825fc</td>\n",
       "      <td>{u'NumberOfGameBans': 0, u'NumberOfVACBans': 0...</td>\n",
       "      <td>[{u'steamid': u'76561197962935145', u'friend_s...</td>\n",
       "      <td>[{u'playtime_forever': 63, u'playtime_2weeks':...</td>\n",
       "      <td>No information given.</td>\n",
       "      <td>76561197981918203</td>\n",
       "      <td>{u'timecreated': 1144367341, u'personaname': u...</td>\n",
       "    </tr>\n",
       "  </tbody>\n",
       "</table>\n",
       "</div>"
      ],
      "text/plain": [
       "                        _id  \\\n",
       "0  570fc54763210f0e63d825fc   \n",
       "\n",
       "                                          ban_status  \\\n",
       "0  {u'NumberOfGameBans': 0, u'NumberOfVACBans': 0...   \n",
       "\n",
       "                                             friends  \\\n",
       "0  [{u'steamid': u'76561197962935145', u'friend_s...   \n",
       "\n",
       "                                           game_info        profile_summary  \\\n",
       "0  [{u'playtime_forever': 63, u'playtime_2weeks':...  No information given.   \n",
       "\n",
       "             steamid                                          user_info  \n",
       "0  76561197981918203  {u'timecreated': 1144367341, u'personaname': u...  "
      ]
     },
     "execution_count": 4,
     "metadata": {},
     "output_type": "execute_result"
    }
   ],
   "source": [
    "df.head(1)"
   ]
  },
  {
   "cell_type": "code",
   "execution_count": 5,
   "metadata": {
    "collapsed": true
   },
   "outputs": [],
   "source": [
    "class CleanData(object):\n",
    "    \"\"\"\n",
    "    Class to clean up a data frame directly\n",
    "    from json or MongoDB\n",
    "    \"\"\"\n",
    "    \n",
    "    def __init__(self, df):\n",
    "        self.df = df[df[\"game_info\"] != \"empty\"]\n",
    "        del self.df[\"_id\"]\n",
    "        self.private = self.df[self.df[\"friends\"] == \"private\"]\n",
    "        self.public = self.df[self.df[\"friends\"] != \"private\"]\n",
    "        self.cols = set([\"profile_summary\", \"ban_status\", \"user_info\"])\n",
    "        \n",
    "        self.profile_summary = None\n",
    "        self.public_bans = None\n",
    "        self.public_users = None\n",
    "        \n",
    "        self.private_bans = None\n",
    "        self.private_users = None\n",
    "        \n",
    "        \n",
    "    def __remove_columns(self, private=True):\n",
    "        \"\"\"\n",
    "        Remove unused columns\n",
    "        \"\"\"\n",
    "        \n",
    "        if private:\n",
    "            del_columns = set([\"friends\",\"game_info\",\"profile_summary\",\"loccityid\",\"loccountrycode\",\\\n",
    "                         \"locstatecode\",\"ban_status\",\"user_info\",\"realname\",\"timecreated\",\\\n",
    "                         \"primaryclanid\",\"communityvisibilitystate\",\"commentpermission\"])\n",
    "            for col in del_columns:\n",
    "                try:\n",
    "                    del self.private[col]\n",
    "                except KeyError:\n",
    "                    continue\n",
    "                \n",
    "        else:\n",
    "            del_columns = set([\"gameextrainfo\", \"gameid\", \"gameserverip\", \"gameserversteamid\",\\\n",
    "                               \"lobbysteamid\", \"loccityid\"])\n",
    "            for col in del_columns:\n",
    "                try:\n",
    "                    del self.public[col]\n",
    "                except KeyError:\n",
    "                    continue\n",
    "                               \n",
    "            \n",
    "        \n",
    "        \n",
    "    def ban_status_df(self, private=True):\n",
    "        \"\"\"\n",
    "        Convert a df with a column of single dictionaries and \n",
    "        a steamid\n",
    "        Returns a df with the unpacked dictionaries\n",
    "        \"\"\"\n",
    "        if private:\n",
    "            new_df = pd.DataFrame()\n",
    "            for i in xrange(self.private.steamid.count()):\n",
    "                self.private.iloc[i][\"ban_status\"][\"steamid\"] = self.private.iloc[i][\"steamid\"]\n",
    "                user_df = pd.DataFrame(self.private.iloc[i][\"ban_status\"], index=[0])\n",
    "                new_df = new_df.append(user_df)\n",
    "            self.private_bans = new_df\n",
    "        \n",
    "        else:   \n",
    "            new_df = pd.DataFrame()\n",
    "            for i in xrange(self.public.steamid.count()):\n",
    "                self.public.iloc[i][\"ban_status\"][\"steamid\"] = self.public.iloc[i][\"steamid\"]\n",
    "                user_df = pd.DataFrame(self.public.iloc[i][\"ban_status\"], index=[0])\n",
    "                new_df = new_df.append(user_df)\n",
    "            self.public_bans = new_df\n",
    "    \n",
    "    \n",
    "    def user_info_df(self, private=True):\n",
    "        \"\"\"\n",
    "        Convert a df with a column of single dictionaries and \n",
    "        a steamid\n",
    "        Returns a df with the unpacked dictionaries\n",
    "        \"\"\"\n",
    "        if private:\n",
    "            new_df = pd.DataFrame()\n",
    "            for i in xrange(self.private.steamid.count()):\n",
    "                self.private.iloc[i][\"user_info\"][\"steamid\"] = self.private.iloc[i][\"steamid\"]\n",
    "                user_df = pd.DataFrame(self.private.iloc[i][\"user_info\"], index=[0])\n",
    "                new_df = new_df.append(user_df)\n",
    "            self.private_users = new_df\n",
    "        \n",
    "        else:   \n",
    "            new_df = pd.DataFrame()\n",
    "            for i in xrange(self.public.steamid.count()):\n",
    "                self.public.iloc[i][\"user_info\"][\"steamid\"] = self.public.iloc[i][\"steamid\"]\n",
    "                user_df = pd.DataFrame(self.public.iloc[i][\"user_info\"], index=[0])\n",
    "                new_df = new_df.append(user_df)\n",
    "            self.public_users = new_df\n",
    "     \n",
    "    \n",
    "    def profile_summary_df(self):\n",
    "        \"\"\"\n",
    "        Convert a df with a column of single dictionaries and \n",
    "        a steamid\n",
    "        Returns a df with the unpacked dictionaries\n",
    "        \"\"\"  \n",
    "        new_df = pd.DataFrame()\n",
    "        for i in xrange(self.public.steamid.count()):\n",
    "            self.public.iloc[i][\"profile_summary\"][\"steamid\"] = self.public.iloc[i][\"steamid\"]\n",
    "            user_df = pd.DataFrame(self.public.iloc[i][\"profile_summary\"], index=[0])\n",
    "            new_df = new_df.append(user_df)\n",
    "        self.profile_summary = new_df\n",
    "        \n",
    "    \n",
    "    def merge_dfs(self, private=True):\n",
    "        \"\"\"\n",
    "        Merge dataframes on the \"steamid\" column\n",
    "        \"\"\"\n",
    "        if private:\n",
    "            self.private = pd.merge(pd.merge(self.private, self.private_bans,\\\n",
    "                           on='steamid'), self.private_users, on='steamid')\n",
    "            \n",
    "        else:\n",
    "            self.public = pd.merge(pd.merge(self.public, self.public_bans,\\\n",
    "                           on='steamid'), self.public_users, on='steamid')\n",
    "            del self.public[\"ban_status\"]\n",
    "            del self.public[\"user_info\"]\n",
    "            \n",
    "    \n",
    "    def do_many_things(self, private=True):\n",
    "        \"\"\"\n",
    "        Call the above functions to build the \n",
    "        world's most average dataframe\n",
    "        \"\"\"\n",
    "        \n",
    "        self.ban_status_df(private)\n",
    "        self.user_info_df(private)\n",
    "        self.merge_dfs(private)\n",
    "        self.__remove_columns(private)"
   ]
  },
  {
   "cell_type": "code",
   "execution_count": 6,
   "metadata": {
    "collapsed": true
   },
   "outputs": [],
   "source": [
    "test = CleanData(df)"
   ]
  },
  {
   "cell_type": "code",
   "execution_count": 8,
   "metadata": {
    "collapsed": false
   },
   "outputs": [
    {
     "name": "stdout",
     "output_type": "stream",
     "text": [
      "2.06585597992\n"
     ]
    }
   ],
   "source": [
    "t0 = time.time()\n",
    "#test.do_many_things(private=False)\n",
    "test.do_many_things(private=True)\n",
    "print time.time() - t0"
   ]
  },
  {
   "cell_type": "code",
   "execution_count": 16,
   "metadata": {
    "collapsed": false
   },
   "outputs": [],
   "source": [
    "class CleanDictList(object):\n",
    "    \n",
    "    def __init__(self, df):\n",
    "        self.games = df[[\"game_info\", \"steamid\"]]\n",
    "        self.friends = df[[\"friends\", \"steamid\"]]\n",
    "        self.popular_games = None\n",
    "        \n",
    "    def games_df(self):\n",
    "        games_count = Counter()\n",
    "        user_playtime = []\n",
    "        num_games = []\n",
    "        num_played_total = []\n",
    "        for user in self.games[\"game_info\"]:\n",
    "            game_dict = dict()\n",
    "            num_played = 0\n",
    "            for game in user:\n",
    "                appid = game[\"appid\"]\n",
    "                game_dict[appid] = game[\"playtime_forever\"]\n",
    "                if game[\"playtime_forever\"]:\n",
    "                    num_played += 1\n",
    "            num_played_total.append(num_played)   \n",
    "            num_games.append(len(user))\n",
    "            user_playtime.append((sum(game_dict.values())))\n",
    "            games_count.update(game_dict)\n",
    "            \n",
    "        \n",
    "        average_playtime = int(sum(games_count.values()) / float(len(games_count)))\n",
    "        popular = dict()\n",
    "        for game, time in games_count.iteritems():\n",
    "            if time >= average_playtime:\n",
    "                popular[game] = time\n",
    "        self.popular_games = popular\n",
    "        self.games[\"total_playtime\"] = user_playtime\n",
    "        self.games[\"games_owned\"] = num_games\n",
    "        self.games[\"games_played\"] = num_played_total\n",
    "    \n",
    "    def friends_df(self):\n",
    "        \n",
    "        for user in self.friends[\"game_info\"]:\n",
    "            game_dict = dict()\n",
    "            num_played = 0\n",
    "            for game in user:\n",
    "                appid = game[\"name\"]\n",
    "                game_dict[appid] = game[\"playtime_forever\"]\n",
    "                if game[\"playtime_forever\"]:\n",
    "                    num_played += 1\n",
    "            num_played_total.append(num_played)   \n",
    "            num_games.append(len(user))\n",
    "            user_playtime.append((sum(game_dict.values())))\n",
    "            games_count.update(game_dict)"
   ]
  },
  {
   "cell_type": "code",
   "execution_count": 17,
   "metadata": {
    "collapsed": false
   },
   "outputs": [],
   "source": [
    "Games = CleanDictList(test.public)"
   ]
  },
  {
   "cell_type": "code",
   "execution_count": 18,
   "metadata": {
    "collapsed": false
   },
   "outputs": [
    {
     "name": "stderr",
     "output_type": "stream",
     "text": [
      "/Users/johnnysand/anaconda/lib/python2.7/site-packages/ipykernel/__main__.py:33: SettingWithCopyWarning: \n",
      "A value is trying to be set on a copy of a slice from a DataFrame.\n",
      "Try using .loc[row_indexer,col_indexer] = value instead\n",
      "\n",
      "See the caveats in the documentation: http://pandas.pydata.org/pandas-docs/stable/indexing.html#indexing-view-versus-copy\n",
      "/Users/johnnysand/anaconda/lib/python2.7/site-packages/ipykernel/__main__.py:34: SettingWithCopyWarning: \n",
      "A value is trying to be set on a copy of a slice from a DataFrame.\n",
      "Try using .loc[row_indexer,col_indexer] = value instead\n",
      "\n",
      "See the caveats in the documentation: http://pandas.pydata.org/pandas-docs/stable/indexing.html#indexing-view-versus-copy\n",
      "/Users/johnnysand/anaconda/lib/python2.7/site-packages/ipykernel/__main__.py:35: SettingWithCopyWarning: \n",
      "A value is trying to be set on a copy of a slice from a DataFrame.\n",
      "Try using .loc[row_indexer,col_indexer] = value instead\n",
      "\n",
      "See the caveats in the documentation: http://pandas.pydata.org/pandas-docs/stable/indexing.html#indexing-view-versus-copy\n"
     ]
    }
   ],
   "source": [
    "Games.games_df()"
   ]
  },
  {
   "cell_type": "markdown",
   "metadata": {},
   "source": [
    "# Scrape Genres From Store Page For Most Popular Games"
   ]
  },
  {
   "cell_type": "code",
   "execution_count": 323,
   "metadata": {
    "collapsed": false
   },
   "outputs": [
    {
     "data": {
      "text/plain": [
       "18.011872177828515"
      ]
     },
     "execution_count": 323,
     "metadata": {},
     "output_type": "execute_result"
    }
   ],
   "source": [
    "568022401 / (3600. * 24 * 365)"
   ]
  },
  {
   "cell_type": "code",
   "execution_count": 13,
   "metadata": {
    "collapsed": false
   },
   "outputs": [],
   "source": [
    "game_traits = []\n",
    "for appid in popular_games.keys():\n",
    "\n",
    "    url = \"https://store.steampowered.com/app/\"+str(appid)\n",
    "    cookies = {'birthtime': '568022401'}\n",
    "    try:\n",
    "        response = requests.get(url, cookies=cookies)\n",
    "        rm_delims = re.sub(r\"[\\t\\r\\n]+\", r\"\", response.text)\n",
    "        rm_breaks = re.sub(r\"\\<br\\>+\", r\"\", rm_delims).strip()\n",
    "        soup = BeautifulSoup(rm_breaks, \"html.parser\")\n",
    "        top_genres = [tag.text for tag in soup.find_all(\"a\", \"app_tag\")[:5]]\n",
    "        try:\n",
    "            release_date = soup.select_one(\"span.date\").text\n",
    "        except AttributeError:\n",
    "            release_date = None\n",
    "        game_traits.append({\"date\": release_date, \"genres\": top_genres, \"appid\":appid})\n",
    "        popular_games[appid] = top_genres\n",
    "    except requests.ConnectionError:\n",
    "        time.sleep(10)\n",
    "        response = requests.get(url, cookies=cookies)\n",
    "        rm_delims = re.sub(r\"[\\t\\r\\n]+\", r\"\", response.text)\n",
    "        rm_breaks = re.sub(r\"\\<br\\>+\", r\"\", rm_delims).strip()\n",
    "        soup = BeautifulSoup(rm_breaks, \"html.parser\")\n",
    "        top_genres = [tag.text for tag in soup.find_all(\"a\", \"app_tag\")[:5]]\n",
    "        try:\n",
    "            release_date = soup.select_one(\"span.date\").text\n",
    "        except AttributeError:\n",
    "            release_date = None\n",
    "        game_traits.append({\"date\": release_date, \"genres\": top_genres, \"appid\":appid})\n",
    "        popular_games[appid] = top_genres\n",
    "        "
   ]
  },
  {
   "cell_type": "code",
   "execution_count": 7,
   "metadata": {
    "collapsed": true
   },
   "outputs": [],
   "source": [
    "url = \"https://store.steampowered.com/app/730\"\n",
    "cookies = {'birthtime': '568022401'}"
   ]
  },
  {
   "cell_type": "code",
   "execution_count": 8,
   "metadata": {
    "collapsed": true
   },
   "outputs": [],
   "source": [
    "response = requests.get(url, cookies=cookies)\n",
    "rm_delims = re.sub(r\"[\\t\\r\\n]+\", r\"\", response.text)\n",
    "rm_breaks = re.sub(r\"\\<br\\>+\", r\"\", rm_delims).strip()\n",
    "soup = BeautifulSoup(rm_breaks, \"html.parser\")"
   ]
  },
  {
   "cell_type": "code",
   "execution_count": 11,
   "metadata": {
    "collapsed": false
   },
   "outputs": [
    {
     "data": {
      "text/plain": [
       "u'Aug 21, 2012'"
      ]
     },
     "execution_count": 11,
     "metadata": {},
     "output_type": "execute_result"
    }
   ],
   "source": [
    "soup.select_one(\"span.date\").text"
   ]
  },
  {
   "cell_type": "code",
   "execution_count": 15,
   "metadata": {
    "collapsed": false
   },
   "outputs": [],
   "source": [
    "game_df = pd.DataFrame(game_traits)"
   ]
  },
  {
   "cell_type": "code",
   "execution_count": 22,
   "metadata": {
    "collapsed": false
   },
   "outputs": [],
   "source": [
    "game_df = game_df.dropna()"
   ]
  },
  {
   "cell_type": "code",
   "execution_count": 23,
   "metadata": {
    "collapsed": false
   },
   "outputs": [
    {
     "data": {
      "text/html": [
       "<div>\n",
       "<table border=\"1\" class=\"dataframe\">\n",
       "  <thead>\n",
       "    <tr style=\"text-align: right;\">\n",
       "      <th></th>\n",
       "      <th>appid</th>\n",
       "      <th>date</th>\n",
       "      <th>genres</th>\n",
       "    </tr>\n",
       "  </thead>\n",
       "  <tbody>\n",
       "    <tr>\n",
       "      <th>0</th>\n",
       "      <td>220160</td>\n",
       "      <td>Mar 21, 2013</td>\n",
       "      <td>[Racing, Action, Level Editor, Multiplayer, Pl...</td>\n",
       "    </tr>\n",
       "    <tr>\n",
       "      <th>1</th>\n",
       "      <td>212480</td>\n",
       "      <td>Jan 31, 2013</td>\n",
       "      <td>[Racing, Local Multiplayer, Multiplayer, Great...</td>\n",
       "    </tr>\n",
       "    <tr>\n",
       "      <th>2</th>\n",
       "      <td>17410</td>\n",
       "      <td>Jan 13, 2009</td>\n",
       "      <td>[Parkour, First-Person, Action, Female Protago...</td>\n",
       "    </tr>\n",
       "    <tr>\n",
       "      <th>3</th>\n",
       "      <td>224260</td>\n",
       "      <td>Oct 31, 2011</td>\n",
       "      <td>[Free to Play, Zombies, Multiplayer, Survival,...</td>\n",
       "    </tr>\n",
       "    <tr>\n",
       "      <th>4</th>\n",
       "      <td>230230</td>\n",
       "      <td>Jun 30, 2014</td>\n",
       "      <td>[RPG, Turn-Based, Co-op, Fantasy, Adventure]</td>\n",
       "    </tr>\n",
       "  </tbody>\n",
       "</table>\n",
       "</div>"
      ],
      "text/plain": [
       "    appid          date                                             genres\n",
       "0  220160  Mar 21, 2013  [Racing, Action, Level Editor, Multiplayer, Pl...\n",
       "1  212480  Jan 31, 2013  [Racing, Local Multiplayer, Multiplayer, Great...\n",
       "2   17410  Jan 13, 2009  [Parkour, First-Person, Action, Female Protago...\n",
       "3  224260  Oct 31, 2011  [Free to Play, Zombies, Multiplayer, Survival,...\n",
       "4  230230  Jun 30, 2014       [RPG, Turn-Based, Co-op, Fantasy, Adventure]"
      ]
     },
     "execution_count": 23,
     "metadata": {},
     "output_type": "execute_result"
    }
   ],
   "source": [
    "game_df.head()"
   ]
  },
  {
   "cell_type": "code",
   "execution_count": 45,
   "metadata": {
    "collapsed": false
   },
   "outputs": [],
   "source": [
    "genre_df = pd.DataFrame()\n",
    "for genre in game_df.genres:\n",
    "    genre_tracker = Counter()\n",
    "    genre_tracker.update(genre)\n",
    "    genre_df = genre_df.append(genre_tracker, ignore_index=True)"
   ]
  },
  {
   "cell_type": "code",
   "execution_count": 47,
   "metadata": {
    "collapsed": false
   },
   "outputs": [],
   "source": [
    "genre_df = genre_df.fillna(0)"
   ]
  },
  {
   "cell_type": "code",
   "execution_count": 157,
   "metadata": {
    "collapsed": false
   },
   "outputs": [],
   "source": [
    "combo_df.date = combo_df.date.dt.year"
   ]
  },
  {
   "cell_type": "code",
   "execution_count": 56,
   "metadata": {
    "collapsed": false
   },
   "outputs": [],
   "source": [
    "game_df.date = pd.to_datetime(game_df.date, dayfirst=True)"
   ]
  },
  {
   "cell_type": "code",
   "execution_count": 273,
   "metadata": {
    "collapsed": false
   },
   "outputs": [],
   "source": [
    "combo_df = pd.concat([game_df, genre_df], axis=1)"
   ]
  },
  {
   "cell_type": "code",
   "execution_count": 274,
   "metadata": {
    "collapsed": false
   },
   "outputs": [],
   "source": [
    "combo_df = combo_df.dropna()"
   ]
  },
  {
   "cell_type": "code",
   "execution_count": 169,
   "metadata": {
    "collapsed": false
   },
   "outputs": [],
   "source": [
    "combo_df.date = combo_df.date.astype(int)"
   ]
  },
  {
   "cell_type": "code",
   "execution_count": 1,
   "metadata": {
    "collapsed": false
   },
   "outputs": [
    {
     "data": {
      "text/plain": [
       "300000000"
      ]
     },
     "execution_count": 1,
     "metadata": {},
     "output_type": "execute_result"
    }
   ],
   "source": [
    "150000*2000"
   ]
  },
  {
   "cell_type": "code",
   "execution_count": 305,
   "metadata": {
    "collapsed": false
   },
   "outputs": [],
   "source": [
    "sum_action = np.array([])\n",
    "sum = 0\n",
    "for game in combo_df.Indie:\n",
    "    sum += game\n",
    "    sum_action = np.append(sum_action, sum)"
   ]
  },
  {
   "cell_type": "code",
   "execution_count": 286,
   "metadata": {
    "collapsed": true
   },
   "outputs": [],
   "source": [
    "sum_open_world = np.array([])\n",
    "sum = 0\n",
    "for game in combo_df[\"Open World\"]:\n",
    "    sum += game\n",
    "    sum_open_world = np.append(sum_open_world, sum)"
   ]
  },
  {
   "cell_type": "code",
   "execution_count": 288,
   "metadata": {
    "collapsed": true
   },
   "outputs": [],
   "source": [
    "sum_multi = np.array([])\n",
    "sum = 0\n",
    "for game in combo_df.Multiplayer:\n",
    "    sum += game\n",
    "    sum_multi = np.append(sum_multi, sum)"
   ]
  },
  {
   "cell_type": "code",
   "execution_count": 300,
   "metadata": {
    "collapsed": true
   },
   "outputs": [],
   "source": [
    "sum_fps = np.array([])\n",
    "sum = 0\n",
    "for game in combo_df.FPS:\n",
    "    sum += game\n",
    "    sum_fps = np.append(sum_fps, sum)"
   ]
  },
  {
   "cell_type": "code",
   "execution_count": 282,
   "metadata": {
    "collapsed": false
   },
   "outputs": [],
   "source": [
    "combo_df = combo_df.sort_values(by=\"date\")"
   ]
  },
  {
   "cell_type": "code",
   "execution_count": 313,
   "metadata": {
    "collapsed": false
   },
   "outputs": [
    {
     "data": {
      "image/png": "[encoded data removed]",
      "text/plain": [
       "<matplotlib.figure.Figure at 0x1168b2c90>"
      ]
     },
     "metadata": {},
     "output_type": "display_data"
    }
   ],
   "source": [
    "plt.figure(figsize=(9,7))\n",
    "plt.plot(combo_df.date, sum_action, label=\"Indie\")\n",
    "plt.plot(combo_df.date, sum_open_world, label=\"Open World\")\n",
    "plt.plot(combo_df.date, sum_multi, label=\"Multiplayer\")\n",
    "plt.plot(combo_df.date, sum_fps, ls=\"--\", lw=2, label=\"FPS\")\n",
    "plt.legend(loc=\"upper left\")\n",
    "plt.xlabel(\"Release Date\", fontsize=12)\n",
    "plt.ylabel(\"Number of Games Available\", fontsize=12)\n",
    "plt.title(\"Popular Games Available\", fontsize=17)\n",
    "plt.show()"
   ]
  },
  {
   "cell_type": "code",
   "execution_count": null,
   "metadata": {
    "collapsed": true
   },
   "outputs": [],
   "source": []
  },
  {
   "cell_type": "code",
   "execution_count": null,
   "metadata": {
    "collapsed": true
   },
   "outputs": [],
   "source": []
  },
  {
   "cell_type": "code",
   "execution_count": 178,
   "metadata": {
    "collapsed": false
   },
   "outputs": [
    {
     "data": {
      "text/plain": [
       "5.0"
      ]
     },
     "execution_count": 178,
     "metadata": {},
     "output_type": "execute_result"
    }
   ],
   "source": [
    "combo_df[combo_df.date == 1993].sum().sum()-1993"
   ]
  },
  {
   "cell_type": "code",
   "execution_count": 229,
   "metadata": {
    "collapsed": false
   },
   "outputs": [
    {
     "data": {
      "text/plain": [
       "207"
      ]
     },
     "execution_count": 229,
     "metadata": {},
     "output_type": "execute_result"
    }
   ],
   "source": [
    "len(rm_date[combo_df.date == 2003].sum())"
   ]
  },
  {
   "cell_type": "code",
   "execution_count": 198,
   "metadata": {
    "collapsed": false
   },
   "outputs": [],
   "source": [
    "rm_date = combo_df.copy()\n",
    "del rm_date[\"date\"]"
   ]
  },
  {
   "cell_type": "code",
   "execution_count": 304,
   "metadata": {
    "collapsed": false
   },
   "outputs": [
    {
     "name": "stderr",
     "output_type": "stream",
     "text": [
      "/Users/johnnysand/anaconda/lib/python2.7/site-packages/ipykernel/__main__.py:1: UserWarning: Boolean Series key will be reindexed to match DataFrame index.\n",
      "  if __name__ == '__main__':\n"
     ]
    },
    {
     "data": {
      "text/plain": [
       "Action                      0.525424\n",
       "Multiplayer                 0.305085\n",
       "Indie                       0.220339\n",
       "FPS                         0.220339\n",
       "RPG                         0.220339\n",
       "Open World                  0.203390\n",
       "Free to Play                0.169492\n",
       "Strategy                    0.169492\n",
       "Singleplayer                0.152542\n",
       "Sci-fi                      0.118644\n",
       "Shooter                     0.118644\n",
       "Rogue-like                  0.101695\n",
       "Co-op                       0.101695\n",
       "Massively Multiplayer       0.084746\n",
       "Zombies                     0.084746\n",
       "Simulation                  0.084746\n",
       "Survival                    0.067797\n",
       "First-Person                0.067797\n",
       "Space                       0.067797\n",
       "Post-apocalyptic            0.050847\n",
       "Pixel Graphics              0.050847\n",
       "Third-Person Shooter        0.050847\n",
       "Anime                       0.050847\n",
       "Turn-Based Strategy         0.050847\n",
       "Platformer                  0.050847\n",
       "Turn-Based                  0.050847\n",
       "Fantasy                     0.050847\n",
       "Grand Strategy              0.050847\n",
       "Sandbox                     0.050847\n",
       "Historical                  0.050847\n",
       "                              ...   \n",
       "Politics                    0.000000\n",
       "RPGMaker                    0.000000\n",
       "Game Development            0.000000\n",
       "Design & Illustration       0.000000\n",
       "Pirates                     0.000000\n",
       "Beat 'em up                 0.000000\n",
       "Isometric                   0.000000\n",
       "MOBA                        0.000000\n",
       "Twin Stick Shooter          0.000000\n",
       "Detective                   0.000000\n",
       "Asynchronous Multiplayer    0.000000\n",
       "Political                   0.000000\n",
       "Dystopian                   0.000000\n",
       "2D Fighter                  0.000000\n",
       "Vampire                     0.000000\n",
       "Lovecraftian                0.000000\n",
       "Western                     0.000000\n",
       "Mystery                     0.000000\n",
       "PvP                         0.000000\n",
       "Point & Click               0.000000\n",
       "Spectacle fighter           0.000000\n",
       "Time Attack                 0.000000\n",
       "Grid-Based Movement         0.000000\n",
       "Driving                     0.000000\n",
       "Lara Croft                  0.000000\n",
       "Retro                       0.000000\n",
       "Rhythm                      0.000000\n",
       "Procedural Generation       0.000000\n",
       "Football                    0.000000\n",
       "Software                    0.000000\n",
       "dtype: float64"
      ]
     },
     "execution_count": 304,
     "metadata": {},
     "output_type": "execute_result"
    }
   ],
   "source": [
    "rm_date[combo_df.date.dt.year == 2012].sum().sort_values(ascending=False) / len(rm_date[combo_df.date.dt.year == 2012])"
   ]
  },
  {
   "cell_type": "code",
   "execution_count": 272,
   "metadata": {
    "collapsed": false
   },
   "outputs": [
    {
     "data": {
      "text/html": [
       "<div>\n",
       "<table border=\"1\" class=\"dataframe\">\n",
       "  <thead>\n",
       "    <tr style=\"text-align: right;\">\n",
       "      <th></th>\n",
       "      <th>appid</th>\n",
       "      <th>date</th>\n",
       "      <th>genres</th>\n",
       "    </tr>\n",
       "  </thead>\n",
       "  <tbody>\n",
       "    <tr>\n",
       "      <th>0</th>\n",
       "      <td>220160</td>\n",
       "      <td>2013-03-21</td>\n",
       "      <td>[Racing, Action, Level Editor, Multiplayer, Pl...</td>\n",
       "    </tr>\n",
       "    <tr>\n",
       "      <th>1</th>\n",
       "      <td>212480</td>\n",
       "      <td>2013-01-31</td>\n",
       "      <td>[Racing, Local Multiplayer, Multiplayer, Great...</td>\n",
       "    </tr>\n",
       "    <tr>\n",
       "      <th>2</th>\n",
       "      <td>17410</td>\n",
       "      <td>2009-01-13</td>\n",
       "      <td>[Parkour, First-Person, Action, Female Protago...</td>\n",
       "    </tr>\n",
       "    <tr>\n",
       "      <th>3</th>\n",
       "      <td>224260</td>\n",
       "      <td>2011-10-31</td>\n",
       "      <td>[Free to Play, Zombies, Multiplayer, Survival,...</td>\n",
       "    </tr>\n",
       "    <tr>\n",
       "      <th>4</th>\n",
       "      <td>230230</td>\n",
       "      <td>2014-06-30</td>\n",
       "      <td>[RPG, Turn-Based, Co-op, Fantasy, Adventure]</td>\n",
       "    </tr>\n",
       "  </tbody>\n",
       "</table>\n",
       "</div>"
      ],
      "text/plain": [
       "    appid       date                                             genres\n",
       "0  220160 2013-03-21  [Racing, Action, Level Editor, Multiplayer, Pl...\n",
       "1  212480 2013-01-31  [Racing, Local Multiplayer, Multiplayer, Great...\n",
       "2   17410 2009-01-13  [Parkour, First-Person, Action, Female Protago...\n",
       "3  224260 2011-10-31  [Free to Play, Zombies, Multiplayer, Survival,...\n",
       "4  230230 2014-06-30       [RPG, Turn-Based, Co-op, Fantasy, Adventure]"
      ]
     },
     "execution_count": 272,
     "metadata": {},
     "output_type": "execute_result"
    }
   ],
   "source": [
    "game_df.head()"
   ]
  },
  {
   "cell_type": "code",
   "execution_count": 254,
   "metadata": {
    "collapsed": false
   },
   "outputs": [],
   "source": [
    "genre_time = pd.groupby(combo_df, by=combo_df.date)[[\"Action\", \"Multiplayer\", \"Indie\", \"Open World\", \"Zombies\"]].sum()"
   ]
  },
  {
   "cell_type": "code",
   "execution_count": 267,
   "metadata": {
    "collapsed": false
   },
   "outputs": [
    {
     "data": {
      "text/html": [
       "<div>\n",
       "<table border=\"1\" class=\"dataframe\">\n",
       "  <thead>\n",
       "    <tr style=\"text-align: right;\">\n",
       "      <th></th>\n",
       "      <th>Action</th>\n",
       "      <th>Level Editor</th>\n",
       "      <th>Multiplayer</th>\n",
       "      <th>Platformer</th>\n",
       "      <th>Racing</th>\n",
       "      <th>Great Soundtrack</th>\n",
       "      <th>Local Co-Op</th>\n",
       "      <th>Local Multiplayer</th>\n",
       "      <th>Female Protagonist</th>\n",
       "      <th>First-Person</th>\n",
       "      <th>...</th>\n",
       "      <th>Robots</th>\n",
       "      <th>1980s</th>\n",
       "      <th>Education</th>\n",
       "      <th>Arena Shooter</th>\n",
       "      <th>Time Travel</th>\n",
       "      <th>Lore-Rich</th>\n",
       "      <th>Flight</th>\n",
       "      <th>Bowling</th>\n",
       "      <th>Politics</th>\n",
       "      <th>Turn-Based Combat</th>\n",
       "    </tr>\n",
       "    <tr>\n",
       "      <th>date</th>\n",
       "      <th></th>\n",
       "      <th></th>\n",
       "      <th></th>\n",
       "      <th></th>\n",
       "      <th></th>\n",
       "      <th></th>\n",
       "      <th></th>\n",
       "      <th></th>\n",
       "      <th></th>\n",
       "      <th></th>\n",
       "      <th></th>\n",
       "      <th></th>\n",
       "      <th></th>\n",
       "      <th></th>\n",
       "      <th></th>\n",
       "      <th></th>\n",
       "      <th></th>\n",
       "      <th></th>\n",
       "      <th></th>\n",
       "      <th></th>\n",
       "      <th></th>\n",
       "    </tr>\n",
       "  </thead>\n",
       "  <tbody>\n",
       "    <tr>\n",
       "      <th>1993</th>\n",
       "      <td>1.0</td>\n",
       "      <td>0.0</td>\n",
       "      <td>1.0</td>\n",
       "      <td>0.0</td>\n",
       "      <td>0.0</td>\n",
       "      <td>0.0</td>\n",
       "      <td>0.0</td>\n",
       "      <td>0.0</td>\n",
       "      <td>0.0</td>\n",
       "      <td>0.0</td>\n",
       "      <td>...</td>\n",
       "      <td>0.0</td>\n",
       "      <td>0.0</td>\n",
       "      <td>0.0</td>\n",
       "      <td>0.0</td>\n",
       "      <td>0.0</td>\n",
       "      <td>0.0</td>\n",
       "      <td>0.0</td>\n",
       "      <td>0.0</td>\n",
       "      <td>0.0</td>\n",
       "      <td>0.0</td>\n",
       "    </tr>\n",
       "    <tr>\n",
       "      <th>1998</th>\n",
       "      <td>1.0</td>\n",
       "      <td>0.0</td>\n",
       "      <td>1.0</td>\n",
       "      <td>0.0</td>\n",
       "      <td>0.0</td>\n",
       "      <td>0.0</td>\n",
       "      <td>0.0</td>\n",
       "      <td>0.0</td>\n",
       "      <td>0.0</td>\n",
       "      <td>1.0</td>\n",
       "      <td>...</td>\n",
       "      <td>0.0</td>\n",
       "      <td>0.0</td>\n",
       "      <td>0.0</td>\n",
       "      <td>0.0</td>\n",
       "      <td>0.0</td>\n",
       "      <td>0.0</td>\n",
       "      <td>0.0</td>\n",
       "      <td>0.0</td>\n",
       "      <td>0.0</td>\n",
       "      <td>0.0</td>\n",
       "    </tr>\n",
       "    <tr>\n",
       "      <th>1999</th>\n",
       "      <td>1.0</td>\n",
       "      <td>0.0</td>\n",
       "      <td>1.0</td>\n",
       "      <td>0.0</td>\n",
       "      <td>1.0</td>\n",
       "      <td>0.0</td>\n",
       "      <td>0.0</td>\n",
       "      <td>0.0</td>\n",
       "      <td>0.0</td>\n",
       "      <td>1.0</td>\n",
       "      <td>...</td>\n",
       "      <td>0.0</td>\n",
       "      <td>0.0</td>\n",
       "      <td>0.0</td>\n",
       "      <td>0.0</td>\n",
       "      <td>0.0</td>\n",
       "      <td>0.0</td>\n",
       "      <td>0.0</td>\n",
       "      <td>0.0</td>\n",
       "      <td>0.0</td>\n",
       "      <td>0.0</td>\n",
       "    </tr>\n",
       "    <tr>\n",
       "      <th>2000</th>\n",
       "      <td>2.0</td>\n",
       "      <td>0.0</td>\n",
       "      <td>2.0</td>\n",
       "      <td>0.0</td>\n",
       "      <td>0.0</td>\n",
       "      <td>0.0</td>\n",
       "      <td>0.0</td>\n",
       "      <td>0.0</td>\n",
       "      <td>0.0</td>\n",
       "      <td>0.0</td>\n",
       "      <td>...</td>\n",
       "      <td>0.0</td>\n",
       "      <td>0.0</td>\n",
       "      <td>0.0</td>\n",
       "      <td>0.0</td>\n",
       "      <td>0.0</td>\n",
       "      <td>0.0</td>\n",
       "      <td>0.0</td>\n",
       "      <td>0.0</td>\n",
       "      <td>0.0</td>\n",
       "      <td>0.0</td>\n",
       "    </tr>\n",
       "    <tr>\n",
       "      <th>2001</th>\n",
       "      <td>0.0</td>\n",
       "      <td>0.0</td>\n",
       "      <td>0.0</td>\n",
       "      <td>0.0</td>\n",
       "      <td>0.0</td>\n",
       "      <td>0.0</td>\n",
       "      <td>0.0</td>\n",
       "      <td>0.0</td>\n",
       "      <td>0.0</td>\n",
       "      <td>0.0</td>\n",
       "      <td>...</td>\n",
       "      <td>0.0</td>\n",
       "      <td>0.0</td>\n",
       "      <td>0.0</td>\n",
       "      <td>0.0</td>\n",
       "      <td>0.0</td>\n",
       "      <td>0.0</td>\n",
       "      <td>0.0</td>\n",
       "      <td>0.0</td>\n",
       "      <td>0.0</td>\n",
       "      <td>0.0</td>\n",
       "    </tr>\n",
       "    <tr>\n",
       "      <th>2002</th>\n",
       "      <td>1.0</td>\n",
       "      <td>0.0</td>\n",
       "      <td>1.0</td>\n",
       "      <td>0.0</td>\n",
       "      <td>0.0</td>\n",
       "      <td>0.0</td>\n",
       "      <td>0.0</td>\n",
       "      <td>0.0</td>\n",
       "      <td>0.0</td>\n",
       "      <td>0.0</td>\n",
       "      <td>...</td>\n",
       "      <td>0.0</td>\n",
       "      <td>0.0</td>\n",
       "      <td>0.0</td>\n",
       "      <td>0.0</td>\n",
       "      <td>0.0</td>\n",
       "      <td>0.0</td>\n",
       "      <td>0.0</td>\n",
       "      <td>0.0</td>\n",
       "      <td>0.0</td>\n",
       "      <td>0.0</td>\n",
       "    </tr>\n",
       "    <tr>\n",
       "      <th>2003</th>\n",
       "      <td>4.0</td>\n",
       "      <td>0.0</td>\n",
       "      <td>2.0</td>\n",
       "      <td>1.0</td>\n",
       "      <td>0.0</td>\n",
       "      <td>1.0</td>\n",
       "      <td>0.0</td>\n",
       "      <td>0.0</td>\n",
       "      <td>0.0</td>\n",
       "      <td>0.0</td>\n",
       "      <td>...</td>\n",
       "      <td>0.0</td>\n",
       "      <td>0.0</td>\n",
       "      <td>0.0</td>\n",
       "      <td>0.0</td>\n",
       "      <td>0.0</td>\n",
       "      <td>0.0</td>\n",
       "      <td>0.0</td>\n",
       "      <td>0.0</td>\n",
       "      <td>0.0</td>\n",
       "      <td>0.0</td>\n",
       "    </tr>\n",
       "    <tr>\n",
       "      <th>2004</th>\n",
       "      <td>4.0</td>\n",
       "      <td>0.0</td>\n",
       "      <td>2.0</td>\n",
       "      <td>0.0</td>\n",
       "      <td>0.0</td>\n",
       "      <td>0.0</td>\n",
       "      <td>0.0</td>\n",
       "      <td>0.0</td>\n",
       "      <td>0.0</td>\n",
       "      <td>0.0</td>\n",
       "      <td>...</td>\n",
       "      <td>0.0</td>\n",
       "      <td>0.0</td>\n",
       "      <td>0.0</td>\n",
       "      <td>0.0</td>\n",
       "      <td>0.0</td>\n",
       "      <td>0.0</td>\n",
       "      <td>0.0</td>\n",
       "      <td>0.0</td>\n",
       "      <td>0.0</td>\n",
       "      <td>0.0</td>\n",
       "    </tr>\n",
       "    <tr>\n",
       "      <th>2005</th>\n",
       "      <td>3.0</td>\n",
       "      <td>0.0</td>\n",
       "      <td>2.0</td>\n",
       "      <td>0.0</td>\n",
       "      <td>0.0</td>\n",
       "      <td>0.0</td>\n",
       "      <td>0.0</td>\n",
       "      <td>0.0</td>\n",
       "      <td>0.0</td>\n",
       "      <td>0.0</td>\n",
       "      <td>...</td>\n",
       "      <td>0.0</td>\n",
       "      <td>0.0</td>\n",
       "      <td>0.0</td>\n",
       "      <td>0.0</td>\n",
       "      <td>0.0</td>\n",
       "      <td>0.0</td>\n",
       "      <td>0.0</td>\n",
       "      <td>0.0</td>\n",
       "      <td>0.0</td>\n",
       "      <td>0.0</td>\n",
       "    </tr>\n",
       "    <tr>\n",
       "      <th>2006</th>\n",
       "      <td>5.0</td>\n",
       "      <td>0.0</td>\n",
       "      <td>0.0</td>\n",
       "      <td>0.0</td>\n",
       "      <td>0.0</td>\n",
       "      <td>1.0</td>\n",
       "      <td>0.0</td>\n",
       "      <td>0.0</td>\n",
       "      <td>0.0</td>\n",
       "      <td>0.0</td>\n",
       "      <td>...</td>\n",
       "      <td>0.0</td>\n",
       "      <td>0.0</td>\n",
       "      <td>0.0</td>\n",
       "      <td>0.0</td>\n",
       "      <td>0.0</td>\n",
       "      <td>0.0</td>\n",
       "      <td>0.0</td>\n",
       "      <td>0.0</td>\n",
       "      <td>0.0</td>\n",
       "      <td>1.0</td>\n",
       "    </tr>\n",
       "    <tr>\n",
       "      <th>2007</th>\n",
       "      <td>10.0</td>\n",
       "      <td>0.0</td>\n",
       "      <td>7.0</td>\n",
       "      <td>1.0</td>\n",
       "      <td>0.0</td>\n",
       "      <td>1.0</td>\n",
       "      <td>0.0</td>\n",
       "      <td>0.0</td>\n",
       "      <td>1.0</td>\n",
       "      <td>1.0</td>\n",
       "      <td>...</td>\n",
       "      <td>0.0</td>\n",
       "      <td>0.0</td>\n",
       "      <td>0.0</td>\n",
       "      <td>0.0</td>\n",
       "      <td>0.0</td>\n",
       "      <td>0.0</td>\n",
       "      <td>0.0</td>\n",
       "      <td>0.0</td>\n",
       "      <td>0.0</td>\n",
       "      <td>0.0</td>\n",
       "    </tr>\n",
       "    <tr>\n",
       "      <th>2008</th>\n",
       "      <td>12.0</td>\n",
       "      <td>0.0</td>\n",
       "      <td>6.0</td>\n",
       "      <td>1.0</td>\n",
       "      <td>1.0</td>\n",
       "      <td>1.0</td>\n",
       "      <td>0.0</td>\n",
       "      <td>0.0</td>\n",
       "      <td>0.0</td>\n",
       "      <td>1.0</td>\n",
       "      <td>...</td>\n",
       "      <td>0.0</td>\n",
       "      <td>0.0</td>\n",
       "      <td>1.0</td>\n",
       "      <td>0.0</td>\n",
       "      <td>0.0</td>\n",
       "      <td>0.0</td>\n",
       "      <td>0.0</td>\n",
       "      <td>0.0</td>\n",
       "      <td>0.0</td>\n",
       "      <td>0.0</td>\n",
       "    </tr>\n",
       "    <tr>\n",
       "      <th>2009</th>\n",
       "      <td>16.0</td>\n",
       "      <td>0.0</td>\n",
       "      <td>9.0</td>\n",
       "      <td>1.0</td>\n",
       "      <td>1.0</td>\n",
       "      <td>2.0</td>\n",
       "      <td>0.0</td>\n",
       "      <td>0.0</td>\n",
       "      <td>2.0</td>\n",
       "      <td>4.0</td>\n",
       "      <td>...</td>\n",
       "      <td>0.0</td>\n",
       "      <td>1.0</td>\n",
       "      <td>0.0</td>\n",
       "      <td>1.0</td>\n",
       "      <td>0.0</td>\n",
       "      <td>0.0</td>\n",
       "      <td>0.0</td>\n",
       "      <td>0.0</td>\n",
       "      <td>0.0</td>\n",
       "      <td>0.0</td>\n",
       "    </tr>\n",
       "    <tr>\n",
       "      <th>2010</th>\n",
       "      <td>16.0</td>\n",
       "      <td>0.0</td>\n",
       "      <td>11.0</td>\n",
       "      <td>2.0</td>\n",
       "      <td>1.0</td>\n",
       "      <td>0.0</td>\n",
       "      <td>0.0</td>\n",
       "      <td>0.0</td>\n",
       "      <td>0.0</td>\n",
       "      <td>1.0</td>\n",
       "      <td>...</td>\n",
       "      <td>0.0</td>\n",
       "      <td>0.0</td>\n",
       "      <td>0.0</td>\n",
       "      <td>0.0</td>\n",
       "      <td>0.0</td>\n",
       "      <td>0.0</td>\n",
       "      <td>0.0</td>\n",
       "      <td>0.0</td>\n",
       "      <td>0.0</td>\n",
       "      <td>0.0</td>\n",
       "    </tr>\n",
       "    <tr>\n",
       "      <th>2011</th>\n",
       "      <td>28.0</td>\n",
       "      <td>0.0</td>\n",
       "      <td>24.0</td>\n",
       "      <td>7.0</td>\n",
       "      <td>1.0</td>\n",
       "      <td>3.0</td>\n",
       "      <td>0.0</td>\n",
       "      <td>1.0</td>\n",
       "      <td>1.0</td>\n",
       "      <td>1.0</td>\n",
       "      <td>...</td>\n",
       "      <td>0.0</td>\n",
       "      <td>0.0</td>\n",
       "      <td>0.0</td>\n",
       "      <td>0.0</td>\n",
       "      <td>0.0</td>\n",
       "      <td>0.0</td>\n",
       "      <td>0.0</td>\n",
       "      <td>0.0</td>\n",
       "      <td>1.0</td>\n",
       "      <td>0.0</td>\n",
       "    </tr>\n",
       "    <tr>\n",
       "      <th>2012</th>\n",
       "      <td>31.0</td>\n",
       "      <td>0.0</td>\n",
       "      <td>18.0</td>\n",
       "      <td>3.0</td>\n",
       "      <td>1.0</td>\n",
       "      <td>2.0</td>\n",
       "      <td>0.0</td>\n",
       "      <td>0.0</td>\n",
       "      <td>1.0</td>\n",
       "      <td>4.0</td>\n",
       "      <td>...</td>\n",
       "      <td>0.0</td>\n",
       "      <td>0.0</td>\n",
       "      <td>0.0</td>\n",
       "      <td>0.0</td>\n",
       "      <td>0.0</td>\n",
       "      <td>0.0</td>\n",
       "      <td>0.0</td>\n",
       "      <td>0.0</td>\n",
       "      <td>0.0</td>\n",
       "      <td>0.0</td>\n",
       "    </tr>\n",
       "    <tr>\n",
       "      <th>2013</th>\n",
       "      <td>38.0</td>\n",
       "      <td>1.0</td>\n",
       "      <td>35.0</td>\n",
       "      <td>2.0</td>\n",
       "      <td>3.0</td>\n",
       "      <td>5.0</td>\n",
       "      <td>2.0</td>\n",
       "      <td>1.0</td>\n",
       "      <td>0.0</td>\n",
       "      <td>2.0</td>\n",
       "      <td>...</td>\n",
       "      <td>1.0</td>\n",
       "      <td>1.0</td>\n",
       "      <td>0.0</td>\n",
       "      <td>1.0</td>\n",
       "      <td>0.0</td>\n",
       "      <td>0.0</td>\n",
       "      <td>0.0</td>\n",
       "      <td>0.0</td>\n",
       "      <td>0.0</td>\n",
       "      <td>0.0</td>\n",
       "    </tr>\n",
       "    <tr>\n",
       "      <th>2014</th>\n",
       "      <td>30.0</td>\n",
       "      <td>0.0</td>\n",
       "      <td>22.0</td>\n",
       "      <td>0.0</td>\n",
       "      <td>0.0</td>\n",
       "      <td>5.0</td>\n",
       "      <td>0.0</td>\n",
       "      <td>0.0</td>\n",
       "      <td>2.0</td>\n",
       "      <td>3.0</td>\n",
       "      <td>...</td>\n",
       "      <td>0.0</td>\n",
       "      <td>0.0</td>\n",
       "      <td>0.0</td>\n",
       "      <td>0.0</td>\n",
       "      <td>1.0</td>\n",
       "      <td>1.0</td>\n",
       "      <td>1.0</td>\n",
       "      <td>0.0</td>\n",
       "      <td>0.0</td>\n",
       "      <td>0.0</td>\n",
       "    </tr>\n",
       "    <tr>\n",
       "      <th>2015</th>\n",
       "      <td>25.0</td>\n",
       "      <td>0.0</td>\n",
       "      <td>26.0</td>\n",
       "      <td>2.0</td>\n",
       "      <td>3.0</td>\n",
       "      <td>2.0</td>\n",
       "      <td>0.0</td>\n",
       "      <td>0.0</td>\n",
       "      <td>0.0</td>\n",
       "      <td>2.0</td>\n",
       "      <td>...</td>\n",
       "      <td>1.0</td>\n",
       "      <td>0.0</td>\n",
       "      <td>0.0</td>\n",
       "      <td>0.0</td>\n",
       "      <td>0.0</td>\n",
       "      <td>0.0</td>\n",
       "      <td>0.0</td>\n",
       "      <td>1.0</td>\n",
       "      <td>0.0</td>\n",
       "      <td>0.0</td>\n",
       "    </tr>\n",
       "    <tr>\n",
       "      <th>2016</th>\n",
       "      <td>5.0</td>\n",
       "      <td>1.0</td>\n",
       "      <td>3.0</td>\n",
       "      <td>0.0</td>\n",
       "      <td>1.0</td>\n",
       "      <td>0.0</td>\n",
       "      <td>0.0</td>\n",
       "      <td>0.0</td>\n",
       "      <td>1.0</td>\n",
       "      <td>1.0</td>\n",
       "      <td>...</td>\n",
       "      <td>0.0</td>\n",
       "      <td>0.0</td>\n",
       "      <td>0.0</td>\n",
       "      <td>0.0</td>\n",
       "      <td>0.0</td>\n",
       "      <td>0.0</td>\n",
       "      <td>0.0</td>\n",
       "      <td>0.0</td>\n",
       "      <td>0.0</td>\n",
       "      <td>0.0</td>\n",
       "    </tr>\n",
       "  </tbody>\n",
       "</table>\n",
       "<p>20 rows × 207 columns</p>\n",
       "</div>"
      ],
      "text/plain": [
       "      Action  Level Editor  Multiplayer  Platformer  Racing  Great Soundtrack  \\\n",
       "date                                                                            \n",
       "1993     1.0           0.0          1.0         0.0     0.0               0.0   \n",
       "1998     1.0           0.0          1.0         0.0     0.0               0.0   \n",
       "1999     1.0           0.0          1.0         0.0     1.0               0.0   \n",
       "2000     2.0           0.0          2.0         0.0     0.0               0.0   \n",
       "2001     0.0           0.0          0.0         0.0     0.0               0.0   \n",
       "2002     1.0           0.0          1.0         0.0     0.0               0.0   \n",
       "2003     4.0           0.0          2.0         1.0     0.0               1.0   \n",
       "2004     4.0           0.0          2.0         0.0     0.0               0.0   \n",
       "2005     3.0           0.0          2.0         0.0     0.0               0.0   \n",
       "2006     5.0           0.0          0.0         0.0     0.0               1.0   \n",
       "2007    10.0           0.0          7.0         1.0     0.0               1.0   \n",
       "2008    12.0           0.0          6.0         1.0     1.0               1.0   \n",
       "2009    16.0           0.0          9.0         1.0     1.0               2.0   \n",
       "2010    16.0           0.0         11.0         2.0     1.0               0.0   \n",
       "2011    28.0           0.0         24.0         7.0     1.0               3.0   \n",
       "2012    31.0           0.0         18.0         3.0     1.0               2.0   \n",
       "2013    38.0           1.0         35.0         2.0     3.0               5.0   \n",
       "2014    30.0           0.0         22.0         0.0     0.0               5.0   \n",
       "2015    25.0           0.0         26.0         2.0     3.0               2.0   \n",
       "2016     5.0           1.0          3.0         0.0     1.0               0.0   \n",
       "\n",
       "      Local Co-Op  Local Multiplayer  Female Protagonist  First-Person  \\\n",
       "date                                                                     \n",
       "1993          0.0                0.0                 0.0           0.0   \n",
       "1998          0.0                0.0                 0.0           1.0   \n",
       "1999          0.0                0.0                 0.0           1.0   \n",
       "2000          0.0                0.0                 0.0           0.0   \n",
       "2001          0.0                0.0                 0.0           0.0   \n",
       "2002          0.0                0.0                 0.0           0.0   \n",
       "2003          0.0                0.0                 0.0           0.0   \n",
       "2004          0.0                0.0                 0.0           0.0   \n",
       "2005          0.0                0.0                 0.0           0.0   \n",
       "2006          0.0                0.0                 0.0           0.0   \n",
       "2007          0.0                0.0                 1.0           1.0   \n",
       "2008          0.0                0.0                 0.0           1.0   \n",
       "2009          0.0                0.0                 2.0           4.0   \n",
       "2010          0.0                0.0                 0.0           1.0   \n",
       "2011          0.0                1.0                 1.0           1.0   \n",
       "2012          0.0                0.0                 1.0           4.0   \n",
       "2013          2.0                1.0                 0.0           2.0   \n",
       "2014          0.0                0.0                 2.0           3.0   \n",
       "2015          0.0                0.0                 0.0           2.0   \n",
       "2016          0.0                0.0                 1.0           1.0   \n",
       "\n",
       "            ...          Robots  1980s  Education  Arena Shooter  Time Travel  \\\n",
       "date        ...                                                                 \n",
       "1993        ...             0.0    0.0        0.0            0.0          0.0   \n",
       "1998        ...             0.0    0.0        0.0            0.0          0.0   \n",
       "1999        ...             0.0    0.0        0.0            0.0          0.0   \n",
       "2000        ...             0.0    0.0        0.0            0.0          0.0   \n",
       "2001        ...             0.0    0.0        0.0            0.0          0.0   \n",
       "2002        ...             0.0    0.0        0.0            0.0          0.0   \n",
       "2003        ...             0.0    0.0        0.0            0.0          0.0   \n",
       "2004        ...             0.0    0.0        0.0            0.0          0.0   \n",
       "2005        ...             0.0    0.0        0.0            0.0          0.0   \n",
       "2006        ...             0.0    0.0        0.0            0.0          0.0   \n",
       "2007        ...             0.0    0.0        0.0            0.0          0.0   \n",
       "2008        ...             0.0    0.0        1.0            0.0          0.0   \n",
       "2009        ...             0.0    1.0        0.0            1.0          0.0   \n",
       "2010        ...             0.0    0.0        0.0            0.0          0.0   \n",
       "2011        ...             0.0    0.0        0.0            0.0          0.0   \n",
       "2012        ...             0.0    0.0        0.0            0.0          0.0   \n",
       "2013        ...             1.0    1.0        0.0            1.0          0.0   \n",
       "2014        ...             0.0    0.0        0.0            0.0          1.0   \n",
       "2015        ...             1.0    0.0        0.0            0.0          0.0   \n",
       "2016        ...             0.0    0.0        0.0            0.0          0.0   \n",
       "\n",
       "      Lore-Rich  Flight  Bowling  Politics  Turn-Based Combat  \n",
       "date                                                           \n",
       "1993        0.0     0.0      0.0       0.0                0.0  \n",
       "1998        0.0     0.0      0.0       0.0                0.0  \n",
       "1999        0.0     0.0      0.0       0.0                0.0  \n",
       "2000        0.0     0.0      0.0       0.0                0.0  \n",
       "2001        0.0     0.0      0.0       0.0                0.0  \n",
       "2002        0.0     0.0      0.0       0.0                0.0  \n",
       "2003        0.0     0.0      0.0       0.0                0.0  \n",
       "2004        0.0     0.0      0.0       0.0                0.0  \n",
       "2005        0.0     0.0      0.0       0.0                0.0  \n",
       "2006        0.0     0.0      0.0       0.0                1.0  \n",
       "2007        0.0     0.0      0.0       0.0                0.0  \n",
       "2008        0.0     0.0      0.0       0.0                0.0  \n",
       "2009        0.0     0.0      0.0       0.0                0.0  \n",
       "2010        0.0     0.0      0.0       0.0                0.0  \n",
       "2011        0.0     0.0      0.0       1.0                0.0  \n",
       "2012        0.0     0.0      0.0       0.0                0.0  \n",
       "2013        0.0     0.0      0.0       0.0                0.0  \n",
       "2014        1.0     1.0      0.0       0.0                0.0  \n",
       "2015        0.0     0.0      1.0       0.0                0.0  \n",
       "2016        0.0     0.0      0.0       0.0                0.0  \n",
       "\n",
       "[20 rows x 207 columns]"
      ]
     },
     "execution_count": 267,
     "metadata": {},
     "output_type": "execute_result"
    }
   ],
   "source": [
    "combo_df.groupby(\"date\").sum()"
   ]
  },
  {
   "cell_type": "code",
   "execution_count": 256,
   "metadata": {
    "collapsed": false
   },
   "outputs": [],
   "source": [
    "for i, date in enumerate(genre_time.index):\n",
    "    genre_time.iloc[i] = genre_time.iloc[i] / (207 * len(rm_date[combo_df.date == date]))\n",
    "    "
   ]
  },
  {
   "cell_type": "code",
   "execution_count": 268,
   "metadata": {
    "collapsed": false
   },
   "outputs": [
    {
     "data": {
      "image/png": "[encoded data removed]",
      "text/plain": [
       "<matplotlib.figure.Figure at 0x1148fe290>"
      ]
     },
     "metadata": {},
     "output_type": "display_data"
    }
   ],
   "source": [
    "plt.figure(figsize=(9,7))\n",
    "plt.plot(genre_time.index, genre_time.Action, label=\"Action\")\n",
    "plt.plot(genre_time.index, genre_time.Multiplayer, label=\"Multiplayer\")\n",
    "plt.plot(genre_time.index, genre_time.Indie, label=\"Indie\")\n",
    "plt.plot(genre_time.index, genre_time[\"Open World\"], label=\"Open World\")\n",
    "plt.plot(genre_time.index, genre_time.Zombies, label=\"Zombies\")\n",
    "plt.legend(loc=\"upper left\")\n",
    "plt.xlim(2005, 2016)\n",
    "plt.show()\n"
   ]
  },
  {
   "cell_type": "code",
   "execution_count": 96,
   "metadata": {
    "collapsed": false
   },
   "outputs": [],
   "source": [
    "playtimes = Games.games"
   ]
  },
  {
   "cell_type": "code",
   "execution_count": 126,
   "metadata": {
    "collapsed": false
   },
   "outputs": [
    {
     "data": {
      "text/plain": [
       "array([u'76561197981918203', u'76561197993408842', u'76561198042305043',\n",
       "       u'76561197980092471', u'76561198202663196'], dtype=object)"
      ]
     },
     "execution_count": 126,
     "metadata": {},
     "output_type": "execute_result"
    }
   ],
   "source": [
    "np.array(test.public.head())[:,3]"
   ]
  },
  {
   "cell_type": "code",
   "execution_count": 107,
   "metadata": {
    "collapsed": false
   },
   "outputs": [
    {
     "data": {
      "text/plain": [
       "132.24175824175825"
      ]
     },
     "execution_count": 107,
     "metadata": {},
     "output_type": "execute_result"
    }
   ],
   "source": [
    "playtimes.games_owned.mean()"
   ]
  },
  {
   "cell_type": "code",
   "execution_count": 108,
   "metadata": {
    "collapsed": false
   },
   "outputs": [
    {
     "data": {
      "text/plain": [
       "71.8956043956044"
      ]
     },
     "execution_count": 108,
     "metadata": {},
     "output_type": "execute_result"
    }
   ],
   "source": [
    "playtimes.games_played.mean()"
   ]
  },
  {
   "cell_type": "code",
   "execution_count": null,
   "metadata": {
    "collapsed": true
   },
   "outputs": [],
   "source": []
  },
  {
   "cell_type": "code",
   "execution_count": 322,
   "metadata": {
    "collapsed": false
   },
   "outputs": [
    {
     "data": {
      "text/plain": [
       "[1, 2, 3, 4, 5, 6, 8]"
      ]
     },
     "execution_count": 322,
     "metadata": {},
     "output_type": "execute_result"
    }
   ],
   "source": [
    "abc = [1, 2, 3, 4, 5, 6, 7, 7, 8]\n",
    "x[num for num in abc if num != 7]\n"
   ]
  },
  {
   "cell_type": "code",
   "execution_count": 321,
   "metadata": {
    "collapsed": false
   },
   "outputs": [
    {
     "data": {
      "text/plain": [
       "[1, 2, 3, 4, 5, 6, 7, 8]"
      ]
     },
     "execution_count": 321,
     "metadata": {},
     "output_type": "execute_result"
    }
   ],
   "source": [
    "abc"
   ]
  },
  {
   "cell_type": "code",
   "execution_count": null,
   "metadata": {
    "collapsed": true
   },
   "outputs": [],
   "source": []
  },
  {
   "cell_type": "code",
   "execution_count": null,
   "metadata": {
    "collapsed": true
   },
   "outputs": [],
   "source": []
  },
  {
   "cell_type": "code",
   "execution_count": null,
   "metadata": {
    "collapsed": true
   },
   "outputs": [],
   "source": []
  },
  {
   "cell_type": "code",
   "execution_count": null,
   "metadata": {
    "collapsed": true
   },
   "outputs": [],
   "source": []
  },
  {
   "cell_type": "code",
   "execution_count": null,
   "metadata": {
    "collapsed": true
   },
   "outputs": [],
   "source": []
  },
  {
   "cell_type": "code",
   "execution_count": 117,
   "metadata": {
    "collapsed": false
   },
   "outputs": [
    {
     "name": "stdout",
     "output_type": "stream",
     "text": [
      "<class 'pandas.core.frame.DataFrame'>\n",
      "Int64Index: 546 entries, 0 to 545\n",
      "Data columns (total 22 columns):\n",
      "friends                     546 non-null object\n",
      "game_info                   546 non-null object\n",
      "profile_summary             546 non-null object\n",
      "steamid                     546 non-null object\n",
      "CommunityBanned             546 non-null bool\n",
      "DaysSinceLastBan            546 non-null int64\n",
      "EconomyBan                  546 non-null object\n",
      "NumberOfGameBans            546 non-null int64\n",
      "NumberOfVACBans             546 non-null int64\n",
      "VACBanned                   546 non-null bool\n",
      "avatarfull                  546 non-null object\n",
      "commentpermission           90 non-null float64\n",
      "communityvisibilitystate    546 non-null int64\n",
      "lastlogoff                  546 non-null int64\n",
      "loccountrycode              359 non-null object\n",
      "locstatecode                269 non-null object\n",
      "personaname                 546 non-null object\n",
      "personastate                546 non-null int64\n",
      "primaryclanid               546 non-null object\n",
      "profilestate                532 non-null float64\n",
      "realname                    344 non-null object\n",
      "timecreated                 546 non-null int64\n",
      "dtypes: bool(2), float64(2), int64(7), object(11)\n",
      "memory usage: 90.6+ KB\n"
     ]
    }
   ],
   "source": []
  },
  {
   "cell_type": "code",
   "execution_count": 114,
   "metadata": {
    "collapsed": false
   },
   "outputs": [
    {
     "data": {
      "image/png": "[encoded data removed]",
      "text/plain": [
       "<matplotlib.figure.Figure at 0x11d18d110>"
      ]
     },
     "metadata": {},
     "output_type": "display_data"
    }
   ],
   "source": [
    "plt.figure(figsize=(9,7))\n",
    "plt.hist(playtimes.games_played / playtimes.games_owned, bins=20)\n",
    "#plt.hist(playtimes.games_played, bins=15, alpha=0.5, label=\"Played\")\n",
    "#plt.hist(playtimes.games_owned, bins=15, alpha=0.5, label=\"Owned\")\n",
    "plt.xlabel(\"Games played/owned per user\")\n",
    "plt.ylabel(\"Frequency\")\n",
    "plt.legend(loc=\"upper left\")\n",
    "plt.text(0.2, 50,'Average played: 72\\nAverage owned: 132', ha='center', va='center', fontsize=13)\n",
    "plt.show()"
   ]
  },
  {
   "cell_type": "code",
   "execution_count": null,
   "metadata": {
    "collapsed": true
   },
   "outputs": [],
   "source": []
  },
  {
   "cell_type": "code",
   "execution_count": null,
   "metadata": {
    "collapsed": true
   },
   "outputs": [],
   "source": []
  },
  {
   "cell_type": "code",
   "execution_count": null,
   "metadata": {
    "collapsed": true
   },
   "outputs": [],
   "source": []
  },
  {
   "cell_type": "code",
   "execution_count": null,
   "metadata": {
    "collapsed": true
   },
   "outputs": [],
   "source": []
  },
  {
   "cell_type": "code",
   "execution_count": null,
   "metadata": {
    "collapsed": true
   },
   "outputs": [],
   "source": []
  },
  {
   "cell_type": "code",
   "execution_count": null,
   "metadata": {
    "collapsed": true
   },
   "outputs": [],
   "source": []
  },
  {
   "cell_type": "code",
   "execution_count": null,
   "metadata": {
    "collapsed": true
   },
   "outputs": [],
   "source": []
  },
  {
   "cell_type": "markdown",
   "metadata": {},
   "source": [
    "# Split up users based on public or private profiles"
   ]
  },
  {
   "cell_type": "code",
   "execution_count": null,
   "metadata": {
    "collapsed": true
   },
   "outputs": [],
   "source": [
    "df2 = df.copy()\n",
    "private_df = df2[df2[\"profile_summary\"] == \"private\"]\n",
    "public_df = df2[df2[\"profile_summary\"] != \"private\"]"
   ]
  },
  {
   "cell_type": "code",
   "execution_count": null,
   "metadata": {
    "collapsed": false
   },
   "outputs": [],
   "source": [
    "private_df.info()"
   ]
  },
  {
   "cell_type": "code",
   "execution_count": null,
   "metadata": {
    "collapsed": false
   },
   "outputs": [],
   "source": [
    "private_df[\"VACBanned\"].value_counts()#`.replace([\"none\"], 0).value_counts()"
   ]
  },
  {
   "cell_type": "markdown",
   "metadata": {},
   "source": [
    "# Who needs these columns?"
   ]
  },
  {
   "cell_type": "code",
   "execution_count": null,
   "metadata": {
    "collapsed": false
   },
   "outputs": [],
   "source": [
    "del public_df[\"_id\"]\n",
    "del public_df[\"gameid\"]\n",
    "del public_df[\"commentpermission\"]\n",
    "del public_df[\"gameserverip\"]\n",
    "del public_df[\"gameserversteamid\"]\n",
    "del public_df[\"gameextrainfo\"]"
   ]
  },
  {
   "cell_type": "code",
   "execution_count": null,
   "metadata": {
    "collapsed": false
   },
   "outputs": [],
   "source": [
    "public_df.head()"
   ]
  },
  {
   "cell_type": "markdown",
   "metadata": {},
   "source": [
    "# Some Friend Exploration"
   ]
  },
  {
   "cell_type": "code",
   "execution_count": null,
   "metadata": {
    "collapsed": true
   },
   "outputs": [],
   "source": [
    "friends = public_df.copy()\n",
    "friends = friends[[\"steamid\", \"friends\"]]"
   ]
  },
  {
   "cell_type": "code",
   "execution_count": null,
   "metadata": {
    "collapsed": false
   },
   "outputs": [],
   "source": [
    "friends.head()"
   ]
  },
  {
   "cell_type": "code",
   "execution_count": null,
   "metadata": {
    "collapsed": false
   },
   "outputs": [],
   "source": [
    "for friend in friends[\"friends\"][0]:\n",
    "    print friend"
   ]
  },
  {
   "cell_type": "code",
   "execution_count": null,
   "metadata": {
    "collapsed": true
   },
   "outputs": [],
   "source": [
    "def friends_users_list(df, pivot=False):\n",
    "    \"\"\"\n",
    "    Assumes a df with public non-null values in the form:\n",
    "    |   |steamid          |friends          |\n",
    "    +---+-----------------+-----------------+\n",
    "    |0  |76561197967398882|[{u'frien...},{}]|\n",
    "    \n",
    "    Returns a pivoted data fram where each row is\n",
    "    'steamid', the columns are game names, and the \n",
    "    values are 'playtime_forever' (default) or \n",
    "    'playtime_2weeks'\n",
    "    \"\"\"\n",
    "    df = df.set_index(\"steamid\")\n",
    "    for i in xrange(len(df)):\n",
    "        \n",
    "        #[game.update({\"steamid\":df.iloc[i].name})\\\n",
    "        #           for game in df.iloc[i][\"game_info\"]\\\n",
    "        #           if str(game[\"appid\"]) in game_id_set]\n",
    "        \n",
    "        for friend in df.iloc[i][\"friends\"]:\n",
    "            #if str(friend[\"appid\"]) in game_id_set:\n",
    "            #    game.update({\"steamid\":df.iloc[i].name})\n",
    "            #else:\n",
    "                #df.iloc[i][\"game_info\"].remove(game)\n",
    "            friend.update({\"uid\":df.iloc[i].name})\n",
    "    \n",
    "    full_friend_df = pd.DataFrame()\n",
    "    for user in df[\"friends\"]:\n",
    "        frienddf = pd.DataFrame(user)\n",
    "        full_friend_df = full_friend_df.append(frienddf)\n",
    "    \n",
    "    #if pivot:\n",
    "    #    full_gamedf = pd.pivot_table(full_gamedf, index=\"steamid\", columns=[\"appid\"], values=\"playtime_forever\", fill_value=0)\n",
    "    return full_friend_df"
   ]
  },
  {
   "cell_type": "code",
   "execution_count": null,
   "metadata": {
    "collapsed": false
   },
   "outputs": [],
   "source": [
    "large_friends = friends_users_list(friends)"
   ]
  },
  {
   "cell_type": "code",
   "execution_count": null,
   "metadata": {
    "collapsed": false
   },
   "outputs": [],
   "source": [
    "len(large_friends[large_friends[\"friend_since\"] == 0][\"steamid\"].unique())"
   ]
  },
  {
   "cell_type": "code",
   "execution_count": null,
   "metadata": {
    "collapsed": true
   },
   "outputs": [],
   "source": []
  },
  {
   "cell_type": "code",
   "execution_count": null,
   "metadata": {
    "collapsed": true
   },
   "outputs": [],
   "source": [
    "friendship_length = (calendar.timegm(time.gmtime()) - longest_frienship)/(3600*24*360.)"
   ]
  },
  {
   "cell_type": "code",
   "execution_count": null,
   "metadata": {
    "collapsed": false
   },
   "outputs": [],
   "source": [
    "friendship_length"
   ]
  },
  {
   "cell_type": "code",
   "execution_count": null,
   "metadata": {
    "collapsed": true
   },
   "outputs": [],
   "source": []
  },
  {
   "cell_type": "code",
   "execution_count": null,
   "metadata": {
    "collapsed": false
   },
   "outputs": [],
   "source": [
    "[friend for friend in friends.iloc[0][\"friends\"]]"
   ]
  },
  {
   "cell_type": "code",
   "execution_count": 95,
   "metadata": {
    "collapsed": false
   },
   "outputs": [],
   "source": [
    "def popular_game_set(df):\n",
    "    \"\"\"\n",
    "    Pull out only game appids from 'game_info' whose global \n",
    "    forever_playtime is above the average glabal playtime, \n",
    "    reducing the number of apps about 90%\n",
    "    \n",
    "    Parameters\n",
    "    ----------\n",
    "    df : Pandas DataFrame\n",
    "        DataFrame with column 'game_info', containing\n",
    "        a list of dictionaries\n",
    "         \n",
    "    Returns\n",
    "    -------\n",
    "    popular_games : set\n",
    "        Set of game appids whose global playtime is \n",
    "        above the average global playtime\n",
    "    \"\"\"\n",
    "    # Collect the appid and global playtime for each game\n",
    "    # That all users have played\n",
    "    \n",
    "    summed = Counter({})\n",
    "    for user in df[\"game_info\"]:\n",
    "        gametime = Counter({})\n",
    "        for game in user:\n",
    "            gametime[str(game[\"appid\"])] = game[\"playtime_forever\"]\n",
    "            if game[\"appid\"] not in summed.keys():\n",
    "                summed.update(gametime)\n",
    "        summed += gametime\n",
    "        \n",
    "    global_averages = int(np.mean(summed.values()))\n",
    "    \n",
    "    # Condense into a set of popular appids\n",
    "    \n",
    "    popular_games = set()\n",
    "    for k, v in summed.iteritems():\n",
    "        if v >= global_averages:\n",
    "            popular_games.add(k)\n",
    "    \n",
    "    return popular_games"
   ]
  },
  {
   "cell_type": "code",
   "execution_count": null,
   "metadata": {
    "collapsed": false
   },
   "outputs": [],
   "source": [
    "popular_games = popular_game_set(public_df)"
   ]
  },
  {
   "cell_type": "code",
   "execution_count": null,
   "metadata": {
    "collapsed": false
   },
   "outputs": [],
   "source": [
    "games = public_df.copy()\n",
    "games = games[[\"steamid\", \"game_info\"]]\n",
    "#games = games.set_index(\"steamid\")\n",
    "games.head()"
   ]
  },
  {
   "cell_type": "markdown",
   "metadata": {},
   "source": [
    "# Pivot Table"
   ]
  },
  {
   "cell_type": "code",
   "execution_count": null,
   "metadata": {
    "collapsed": false
   },
   "outputs": [],
   "source": [
    "def games_users_list(df, game_id_set, pivot=False):\n",
    "    \"\"\"\n",
    "    Assumes a df with public non-null values in the form:\n",
    "    |   |steamid          |game_info        |\n",
    "    +---+-----------------+-----------------+\n",
    "    |0  |76561197967398882|[{u'playt...},{}]|\n",
    "    \n",
    "    Returns a pivoted data fram where each row is\n",
    "    'steamid', the columns are game names, and the \n",
    "    values are 'playtime_forever' (default) or \n",
    "    'playtime_2weeks'\n",
    "    \"\"\"\n",
    "    df = df.set_index(\"steamid\")\n",
    "    for i in xrange(len(df)):\n",
    "        \n",
    "        #[game.update({\"steamid\":df.iloc[i].name})\\\n",
    "        #           for game in df.iloc[i][\"game_info\"]\\\n",
    "        #           if str(game[\"appid\"]) in game_id_set]\n",
    "        \n",
    "        for game in df.iloc[i][\"game_info\"]:\n",
    "            if str(game[\"appid\"]) in game_id_set:\n",
    "                game.update({\"steamid\":df.iloc[i].name})\n",
    "            else:\n",
    "                df.iloc[i][\"game_info\"].remove(game)\n",
    "    \n",
    "    full_gamedf = pd.DataFrame()\n",
    "    for user in df[\"game_info\"]:\n",
    "        gamedf = pd.DataFrame(user)\n",
    "        full_gamedf = full_gamedf.append(gamedf)\n",
    "    \n",
    "    if pivot:\n",
    "        full_gamedf = pd.pivot_table(full_gamedf, index=\"steamid\", columns=[\"appid\"], values=\"playtime_forever\", fill_value=0)\n",
    "    return full_gamedf"
   ]
  },
  {
   "cell_type": "code",
   "execution_count": null,
   "metadata": {
    "collapsed": false
   },
   "outputs": [],
   "source": [
    "games_matrix = sparse_games(games, popular_games)\n",
    "games_matrix.head()"
   ]
  },
  {
   "cell_type": "markdown",
   "metadata": {},
   "source": [
    "# Bin columns based on playtime\n",
    "* ### Add a weight for profile age?\n",
    "\n",
    "\n",
    "|playtime [min]|     rating     |\n",
    "|--------------|----------------|\n",
    "|    0         |      0         |\n",
    "|    1-60      |      1         |\n",
    "|    61-120    |      2         |\n",
    "|    121-600   |      3         |\n",
    "|    601-1200  |      4         |\n",
    "|    1201 +    |      5         |\n",
    "`pandas.cut(x, bins, right=True, labels=None, retbins=False, precision=3, include_lowest=False)`"
   ]
  },
  {
   "cell_type": "code",
   "execution_count": null,
   "metadata": {
    "collapsed": false
   },
   "outputs": [],
   "source": [
    "profile_length = (calendar.timegm(time.gmtime()) - public_df[\"timecreated\"])/(3600*24*365) # In years"
   ]
  },
  {
   "cell_type": "code",
   "execution_count": null,
   "metadata": {
    "collapsed": false
   },
   "outputs": [],
   "source": [
    "plt.figure(figsize=(9,7))\n",
    "plt.hist(profile_length, bins=15, color='c')\n",
    "plt.ylabel(\"Frequency\", fontsize=15)\n",
    "plt.vlines(profile_length.mean(), 0, 70, lw=2, alpha=0.5,\\\n",
    "           label=\"Average: {} years\".format(round(profile_length.mean(),1)))\n",
    "plt.xlabel(\"Time [years]\", fontsize=15)\n",
    "plt.title(\"Profile Length of 550 Users\", fontsize=20)\n",
    "plt.legend(loc=\"upper left\", prop={\"size\":12})\n",
    "plt.show()"
   ]
  },
  {
   "cell_type": "code",
   "execution_count": null,
   "metadata": {
    "collapsed": false
   },
   "outputs": [],
   "source": [
    "dota2 = games_matrix.playtime_forever[570]\n",
    "csgo = games_matrix.playtime_forever[730]\n",
    "skyrim = games_matrix.playtime_forever[72850]\n",
    "tf2 = games_matrix.playtime_forever[440]"
   ]
  },
  {
   "cell_type": "code",
   "execution_count": null,
   "metadata": {
    "collapsed": false
   },
   "outputs": [],
   "source": [
    "dota2_vals = pd.cut(dota2, bins=[-1, 0, 60, 120, 600, 1200, 10e10], labels=[0,1,2,3,4,5]).value_counts()\n",
    "csgo_vals = pd.cut(csgo, bins=[-1, 0, 60, 120, 600, 1200, 10e10], labels=[0,1,2,3,4,5]).value_counts()\n",
    "skyrim_vals = pd.cut(skyrim, bins=[-1, 0, 60, 120, 600, 1200, 10e10], labels=[0,1,2,3,4,5]).value_counts()\n",
    "tf2_vals = pd.cut(tf2, bins=[-1, 0, 60, 120, 600, 1200, 10e10], labels=[0,1,2,3,4,5]).value_counts()#, labels=[0,1,2,3,4,5]"
   ]
  },
  {
   "cell_type": "code",
   "execution_count": null,
   "metadata": {
    "collapsed": false,
    "scrolled": true
   },
   "outputs": [],
   "source": [
    "plt.figure(figsize=(9,7))\n",
    "ax = plt.subplot(111)\n",
    "ax.bar(np.array(dota2_vals.index)-0.3, dota2_vals.values, width=0.2, align=\"center\", alpha=0.7, color='b', label=\"Dota 2\")\n",
    "ax.bar(np.array(skyrim_vals.index)+0.3, skyrim_vals.values, width=0.2, align=\"center\", alpha=0.7, color='g', label=\"Skyrim\")\n",
    "ax.bar(np.array(csgo_vals.index)-0.1, csgo_vals.values, width=0.2, align=\"center\", alpha=0.7, color='r', label=\"CS:GO\")\n",
    "ax.bar(np.array(tf2_vals.index)+0.1, tf2_vals.values, width=0.2, align=\"center\", alpha=0.7, color='c', label=\"TF2 (free)\")\n",
    "ax.legend(loc=\"upper right\", prop={'size':20})\n",
    "plt.ylabel(\"Frequency\", fontsize=15)\n",
    "plt.xlabel(\"Rating\", fontsize=15)\n",
    "plt.title(\"Playtime to Rating Conversion\", fontsize=20)\n",
    "plt.show()"
   ]
  },
  {
   "cell_type": "code",
   "execution_count": null,
   "metadata": {
    "collapsed": false
   },
   "outputs": [],
   "source": [
    "adjusted_games = games_matrix.copy()"
   ]
  },
  {
   "cell_type": "code",
   "execution_count": null,
   "metadata": {
    "collapsed": true
   },
   "outputs": [],
   "source": []
  },
  {
   "cell_type": "code",
   "execution_count": null,
   "metadata": {
    "collapsed": false
   },
   "outputs": [],
   "source": [
    "game_ratings = pd.DataFrame()\n",
    "for col in adjusted_games[\"playtime_forever\"]:\n",
    "    adjusted_column = pd.cut(adjusted_games[\"playtime_forever\"][col],\\\n",
    "                                              bins=[-1, 0, 60, 120, 600, 1200, 10e10],\\\n",
    "                                              labels=[0,1,2,3,4,5])\n",
    "    game_ratings[col] = adjusted_column"
   ]
  },
  {
   "cell_type": "code",
   "execution_count": null,
   "metadata": {
    "collapsed": false
   },
   "outputs": [],
   "source": [
    "game_ratings.head()"
   ]
  },
  {
   "cell_type": "markdown",
   "metadata": {},
   "source": [
    "# Attempted Modeling?\n",
    "```python\n",
    "item_similarity_recommender\n",
    "factorization_recommender\n",
    "item_similarity_recommender\n",
    "ranking_factorization_recommender\n",
    "\n",
    "data = graphlab.SFrame({'user_id': [\"Ann\", \"Ann\", \"Ann\", \"Brian\", \"Brian\", \"Brian\"],\n",
    "                          'item_id': [\"Item1\", \"Item2\", \"Item4\", \"Item2\", \"Item3\", \"Item5\"],\n",
    "                          'rating': [1, 3, 2, 5, 4, 2]})\n",
    "m = graphlab.factorization_recommender.create(data, target='rating')\n",
    "\n",
    "recommendations = m.recommend()\n",
    "```\n",
    "### [GraphLab - Choosing a model](https://dato.com/learn/userguide/recommender/choosing-a-model.html)"
   ]
  },
  {
   "cell_type": "code",
   "execution_count": null,
   "metadata": {
    "collapsed": false
   },
   "outputs": [],
   "source": [
    "games_users_ratings.tail()"
   ]
  },
  {
   "cell_type": "code",
   "execution_count": null,
   "metadata": {
    "collapsed": true
   },
   "outputs": [],
   "source": [
    "gl_data = gl.SFrame({'user_id': games_users_ratings[\"steamid\"],\n",
    "                          'item_id': games_users_ratings[\"appid\"],\n",
    "                          'rating': games_users_ratings[\"ratings_forever\"]})\n",
    "model = gl.factorization_recommender.create(gl_data, target='rating')\n",
    "similar_users = model.get_similar_users([\"76561198046747311\"], k=5)\n",
    "similar_users"
   ]
  },
  {
   "cell_type": "code",
   "execution_count": null,
   "metadata": {
    "collapsed": true
   },
   "outputs": [],
   "source": []
  },
  {
   "cell_type": "code",
   "execution_count": null,
   "metadata": {
    "collapsed": false
   },
   "outputs": [],
   "source": [
    "model = gl.factorization_recommender.create(gl_data, target='rating')"
   ]
  },
  {
   "cell_type": "code",
   "execution_count": null,
   "metadata": {
    "collapsed": false
   },
   "outputs": [],
   "source": []
  },
  {
   "cell_type": "code",
   "execution_count": null,
   "metadata": {
    "collapsed": false
   },
   "outputs": [],
   "source": [
    "games_users_ratings[games_users_ratings[\"steamid\"]==\"76561198089389797\"].sort_values(by=\"playtime_forever\", ascending=False).head(10)"
   ]
  },
  {
   "cell_type": "code",
   "execution_count": null,
   "metadata": {
    "collapsed": false
   },
   "outputs": [],
   "source": [
    "games_users_ratings[games_users_ratings[\"steamid\"]==\"76561198046747311\"].sort_values(by=\"playtime_forever\", ascending=False).head(10)"
   ]
  },
  {
   "cell_type": "code",
   "execution_count": null,
   "metadata": {
    "collapsed": false
   },
   "outputs": [],
   "source": [
    "games_users_ratings = games_users_list(games, popular_games)"
   ]
  },
  {
   "cell_type": "code",
   "execution_count": null,
   "metadata": {
    "collapsed": false
   },
   "outputs": [],
   "source": [
    "games_users_ratings[\"ratings_forever\"] = pd.cut(games_users_ratings[\"playtime_forever\"],\\\n",
    "                                          bins=[-1, 0, 60, 120, 600, 1200, 10e10], \\\n",
    "                                          labels=[0,1,2,3,4,5])\n",
    "games_users_ratings[\"ratings_2weeks\"] = pd.cut(games_users_ratings[\"playtime_2weeks\"],\\\n",
    "                                          bins=[-1, 0, 60, 120, 600, 1200, 10e10], \\\n",
    "                                          labels=[0,1,2,3,4,5])\n",
    "games_users_ratings.tail()"
   ]
  },
  {
   "cell_type": "code",
   "execution_count": null,
   "metadata": {
    "collapsed": false
   },
   "outputs": [],
   "source": [
    "games_users_ratings[games_users_ratings[\"name\"]==\"Half-Life 2\"].sort_values(by=\"playtime_forever\")"
   ]
  },
  {
   "cell_type": "code",
   "execution_count": null,
   "metadata": {
    "collapsed": true
   },
   "outputs": [],
   "source": []
  }
 ],
 "metadata": {
  "kernelspec": {
   "display_name": "Python 2",
   "language": "python",
   "name": "python2"
  },
  "language_info": {
   "codemirror_mode": {
    "name": "ipython",
    "version": 2
   },
   "file_extension": ".py",
   "mimetype": "text/x-python",
   "name": "python",
   "nbconvert_exporter": "python",
   "pygments_lexer": "ipython2",
   "version": "2.7.11"
  }
 },
 "nbformat": 4,
 "nbformat_minor": 0
}
