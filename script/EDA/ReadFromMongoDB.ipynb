{
 "cells": [
  {
   "cell_type": "code",
   "execution_count": 190,
   "metadata": {
    "collapsed": true
   },
   "outputs": [],
   "source": [
    "import pymongo\n",
    "import pandas as pd\n",
    "import matplotlib.pyplot as plt\n",
    "%matplotlib inline"
   ]
  },
  {
   "cell_type": "code",
   "execution_count": 2,
   "metadata": {
    "collapsed": true
   },
   "outputs": [],
   "source": [
    "conn = pymongo.MongoClient()['steam']"
   ]
  },
  {
   "cell_type": "code",
   "execution_count": 3,
   "metadata": {
    "collapsed": true
   },
   "outputs": [],
   "source": [
    "cursor = conn['test'].find({})"
   ]
  },
  {
   "cell_type": "code",
   "execution_count": 4,
   "metadata": {
    "collapsed": false
   },
   "outputs": [],
   "source": [
    "df = pd.DataFrame(list(cursor))"
   ]
  },
  {
   "cell_type": "code",
   "execution_count": 5,
   "metadata": {
    "collapsed": false
   },
   "outputs": [
    {
     "name": "stdout",
     "output_type": "stream",
     "text": [
      "<class 'pandas.core.frame.DataFrame'>\n",
      "RangeIndex: 656 entries, 0 to 655\n",
      "Data columns (total 7 columns):\n",
      "_id                656 non-null object\n",
      "ban_status         656 non-null object\n",
      "friends            656 non-null object\n",
      "game_info          656 non-null object\n",
      "profile_summary    656 non-null object\n",
      "steamid            656 non-null object\n",
      "user_info          656 non-null object\n",
      "dtypes: object(7)\n",
      "memory usage: 35.9+ KB\n"
     ]
    }
   ],
   "source": [
    "df.info()"
   ]
  },
  {
   "cell_type": "code",
   "execution_count": 240,
   "metadata": {
    "collapsed": false
   },
   "outputs": [],
   "source": [
    "del df[\"_id\"]"
   ]
  },
  {
   "cell_type": "code",
   "execution_count": 261,
   "metadata": {
    "collapsed": false
   },
   "outputs": [],
   "source": [
    "df[\"num_friends\"] = map(lambda x: len(x), df[\"friends\"])"
   ]
  },
  {
   "cell_type": "code",
   "execution_count": 267,
   "metadata": {
    "collapsed": false
   },
   "outputs": [
    {
     "data": {
      "text/plain": [
       "Index([                 u'friends',                u'game_info',\n",
       "                u'profile_summary',                  u'steamid',\n",
       "                     u'avatarfull',        u'commentpermission',\n",
       "       u'communityvisibilitystate',            u'gameextrainfo',\n",
       "                         u'gameid',             u'gameserverip',\n",
       "              u'gameserversteamid',               u'lastlogoff',\n",
       "                      u'loccityid',           u'loccountrycode',\n",
       "                   u'locstatecode',              u'personaname',\n",
       "                   u'personastate',            u'primaryclanid',\n",
       "                   u'profilestate',                 u'realname',\n",
       "                    u'timecreated',          u'CommunityBanned',\n",
       "               u'DaysSinceLastBan',               u'EconomyBan',\n",
       "               u'NumberOfGameBans',          u'NumberOfVACBans',\n",
       "                      u'VACBanned',              u'num_friends'],\n",
       "      dtype='object')"
      ]
     },
     "execution_count": 267,
     "metadata": {},
     "output_type": "execute_result"
    }
   ],
   "source": [
    "df.columns"
   ]
  },
  {
   "cell_type": "code",
   "execution_count": 268,
   "metadata": {
    "collapsed": false
   },
   "outputs": [
    {
     "data": {
      "text/plain": [
       "0    540\n",
       "4     51\n",
       "1     35\n",
       "3     30\n",
       "Name: personastate, dtype: int64"
      ]
     },
     "execution_count": 268,
     "metadata": {},
     "output_type": "execute_result"
    }
   ],
   "source": [
    "df.personastate.value_counts()"
   ]
  },
  {
   "cell_type": "code",
   "execution_count": null,
   "metadata": {
    "collapsed": true
   },
   "outputs": [],
   "source": []
  },
  {
   "cell_type": "code",
   "execution_count": null,
   "metadata": {
    "collapsed": true
   },
   "outputs": [],
   "source": []
  },
  {
   "cell_type": "code",
   "execution_count": null,
   "metadata": {
    "collapsed": true
   },
   "outputs": [],
   "source": []
  },
  {
   "cell_type": "code",
   "execution_count": null,
   "metadata": {
    "collapsed": true
   },
   "outputs": [],
   "source": []
  },
  {
   "cell_type": "code",
   "execution_count": 7,
   "metadata": {
    "collapsed": true
   },
   "outputs": [],
   "source": [
    "games = df.copy()\n",
    "games = games[[\"steamid\", \"game_info\"]]"
   ]
  },
  {
   "cell_type": "code",
   "execution_count": 8,
   "metadata": {
    "collapsed": false
   },
   "outputs": [],
   "source": [
    "#df['user_info'][:10][\"personaname\"]"
   ]
  },
  {
   "cell_type": "code",
   "execution_count": 9,
   "metadata": {
    "collapsed": false
   },
   "outputs": [],
   "source": [
    "#for game in games[\"game_info\"][0]:\n",
    "#    print game[\"playtime_forever\"], game[\"name\"]"
   ]
  },
  {
   "cell_type": "markdown",
   "metadata": {},
   "source": [
    "# Unpack Columns Containing a Single Dictionary"
   ]
  },
  {
   "cell_type": "code",
   "execution_count": 242,
   "metadata": {
    "collapsed": false
   },
   "outputs": [],
   "source": [
    "def unpack(df, column, fillna=None):\n",
    "    new_df = None\n",
    "    if fillna is None:\n",
    "        new_df = pd.concat([df, pd.DataFrame((d for idx, d in df[column].iteritems()))], axis=1)\n",
    "        del new_df[column]\n",
    "    else:\n",
    "        new_df = pd.concat([df, pd.DataFrame((d for idx, d in df[column].iteritems())).fillna(fillna)], axis=1)\n",
    "        del new_df[column]\n",
    "    return new_df\n",
    "\n",
    "#unpack(tf, 'nested', 0)"
   ]
  },
  {
   "cell_type": "code",
   "execution_count": 243,
   "metadata": {
    "collapsed": false
   },
   "outputs": [],
   "source": [
    "df = unpack(df, \"user_info\", fillna=None)"
   ]
  },
  {
   "cell_type": "code",
   "execution_count": 244,
   "metadata": {
    "collapsed": false
   },
   "outputs": [],
   "source": [
    "df = unpack(df, \"ban_status\", fillna=None)"
   ]
  },
  {
   "cell_type": "code",
   "execution_count": 248,
   "metadata": {
    "collapsed": false
   },
   "outputs": [
    {
     "data": {
      "text/html": [
       "<div>\n",
       "<table border=\"1\" class=\"dataframe\">\n",
       "  <thead>\n",
       "    <tr style=\"text-align: right;\">\n",
       "      <th></th>\n",
       "      <th>friends</th>\n",
       "      <th>game_info</th>\n",
       "      <th>profile_summary</th>\n",
       "      <th>steamid</th>\n",
       "      <th>avatarfull</th>\n",
       "      <th>commentpermission</th>\n",
       "      <th>communityvisibilitystate</th>\n",
       "      <th>gameextrainfo</th>\n",
       "      <th>gameid</th>\n",
       "      <th>gameserverip</th>\n",
       "      <th>...</th>\n",
       "      <th>primaryclanid</th>\n",
       "      <th>profilestate</th>\n",
       "      <th>realname</th>\n",
       "      <th>timecreated</th>\n",
       "      <th>CommunityBanned</th>\n",
       "      <th>DaysSinceLastBan</th>\n",
       "      <th>EconomyBan</th>\n",
       "      <th>NumberOfGameBans</th>\n",
       "      <th>NumberOfVACBans</th>\n",
       "      <th>VACBanned</th>\n",
       "    </tr>\n",
       "  </thead>\n",
       "  <tbody>\n",
       "    <tr>\n",
       "      <th>0</th>\n",
       "      <td>[{u'steamid': u'76561197962935145', u'friend_s...</td>\n",
       "      <td>[{u'steamid': u'76561197981918203', u'playtime...</td>\n",
       "      <td>No information given.</td>\n",
       "      <td>76561197981918203</td>\n",
       "      <td>https://steamcdn-a.akamaihd.net/steamcommunity...</td>\n",
       "      <td>NaN</td>\n",
       "      <td>3</td>\n",
       "      <td>NaN</td>\n",
       "      <td>NaN</td>\n",
       "      <td>NaN</td>\n",
       "      <td>...</td>\n",
       "      <td>103582791429521408</td>\n",
       "      <td>1.0</td>\n",
       "      <td>NaN</td>\n",
       "      <td>1.144367e+09</td>\n",
       "      <td>False</td>\n",
       "      <td>0</td>\n",
       "      <td>none</td>\n",
       "      <td>0</td>\n",
       "      <td>0</td>\n",
       "      <td>False</td>\n",
       "    </tr>\n",
       "  </tbody>\n",
       "</table>\n",
       "<p>1 rows × 27 columns</p>\n",
       "</div>"
      ],
      "text/plain": [
       "                                             friends  \\\n",
       "0  [{u'steamid': u'76561197962935145', u'friend_s...   \n",
       "\n",
       "                                           game_info        profile_summary  \\\n",
       "0  [{u'steamid': u'76561197981918203', u'playtime...  No information given.   \n",
       "\n",
       "             steamid                                         avatarfull  \\\n",
       "0  76561197981918203  https://steamcdn-a.akamaihd.net/steamcommunity...   \n",
       "\n",
       "   commentpermission  communityvisibilitystate gameextrainfo gameid  \\\n",
       "0                NaN                         3           NaN    NaN   \n",
       "\n",
       "  gameserverip    ...          primaryclanid  profilestate  realname  \\\n",
       "0          NaN    ...     103582791429521408           1.0       NaN   \n",
       "\n",
       "    timecreated CommunityBanned DaysSinceLastBan  EconomyBan NumberOfGameBans  \\\n",
       "0  1.144367e+09           False                0        none                0   \n",
       "\n",
       "   NumberOfVACBans VACBanned  \n",
       "0                0     False  \n",
       "\n",
       "[1 rows x 27 columns]"
      ]
     },
     "execution_count": 248,
     "metadata": {},
     "output_type": "execute_result"
    }
   ],
   "source": [
    "df.head(1)"
   ]
  },
  {
   "cell_type": "code",
   "execution_count": null,
   "metadata": {
    "collapsed": true
   },
   "outputs": [],
   "source": []
  },
  {
   "cell_type": "code",
   "execution_count": null,
   "metadata": {
    "collapsed": true
   },
   "outputs": [],
   "source": []
  },
  {
   "cell_type": "code",
   "execution_count": null,
   "metadata": {
    "collapsed": true
   },
   "outputs": [],
   "source": []
  },
  {
   "cell_type": "code",
   "execution_count": null,
   "metadata": {
    "collapsed": true
   },
   "outputs": [],
   "source": []
  },
  {
   "cell_type": "code",
   "execution_count": null,
   "metadata": {
    "collapsed": true
   },
   "outputs": [],
   "source": []
  },
  {
   "cell_type": "code",
   "execution_count": null,
   "metadata": {
    "collapsed": true
   },
   "outputs": [],
   "source": []
  },
  {
   "cell_type": "code",
   "execution_count": 20,
   "metadata": {
    "collapsed": false
   },
   "outputs": [],
   "source": [
    "#for game in games[\"game_info\"][10]:\n",
    "#    print game[\"name\"], game[\"playtime_forever\"]"
   ]
  },
  {
   "cell_type": "code",
   "execution_count": 72,
   "metadata": {
    "collapsed": false
   },
   "outputs": [],
   "source": [
    "few_games = df[[\"game_info\", \"steamid\"]]"
   ]
  },
  {
   "cell_type": "code",
   "execution_count": 94,
   "metadata": {
    "collapsed": true
   },
   "outputs": [],
   "source": [
    "IdSeries = few_games[\"steamid\"]"
   ]
  },
  {
   "cell_type": "code",
   "execution_count": 138,
   "metadata": {
    "collapsed": false
   },
   "outputs": [],
   "source": [
    "pub_games = games.copy()\n",
    "pub_games = games[games[\"game_info\"]!=\"private\"].copy()"
   ]
  },
  {
   "cell_type": "code",
   "execution_count": 61,
   "metadata": {
    "collapsed": false
   },
   "outputs": [],
   "source": [
    "pub_games = pub_games.set_index(\"steamid\")"
   ]
  },
  {
   "cell_type": "code",
   "execution_count": 96,
   "metadata": {
    "collapsed": false
   },
   "outputs": [
    {
     "data": {
      "text/plain": [
       "array([ [{u'playtime_forever': 84, u'playtime_2weeks': 81, u'name': u'Path of Exile', u'appid': 238960}, {u'playtime_forever': 9, u'playtime_2weeks': 9, u'name': u'Unturned', u'appid': 304930}]], dtype=object)"
      ]
     },
     "execution_count": 96,
     "metadata": {},
     "output_type": "execute_result"
    }
   ],
   "source": [
    "pub_games.iloc[2].values"
   ]
  },
  {
   "cell_type": "code",
   "execution_count": 26,
   "metadata": {
    "collapsed": true
   },
   "outputs": [],
   "source": [
    "import numpy as np"
   ]
  },
  {
   "cell_type": "code",
   "execution_count": 142,
   "metadata": {
    "collapsed": false
   },
   "outputs": [
    {
     "data": {
      "text/html": [
       "<div>\n",
       "<table border=\"1\" class=\"dataframe\">\n",
       "  <thead>\n",
       "    <tr style=\"text-align: right;\">\n",
       "      <th></th>\n",
       "      <th>steamid</th>\n",
       "      <th>game_info</th>\n",
       "    </tr>\n",
       "  </thead>\n",
       "  <tbody>\n",
       "    <tr>\n",
       "      <th>0</th>\n",
       "      <td>76561197981918203</td>\n",
       "      <td>[{u'uid': u'76561197981918203', u'playtime_for...</td>\n",
       "    </tr>\n",
       "    <tr>\n",
       "      <th>1</th>\n",
       "      <td>76561197993408842</td>\n",
       "      <td>[{u'uid': u'76561197993408842', u'playtime_for...</td>\n",
       "    </tr>\n",
       "    <tr>\n",
       "      <th>2</th>\n",
       "      <td>76561198042305043</td>\n",
       "      <td>[{u'uid': u'76561198042305043', u'playtime_for...</td>\n",
       "    </tr>\n",
       "    <tr>\n",
       "      <th>4</th>\n",
       "      <td>76561197980092471</td>\n",
       "      <td>[{u'uid': u'76561197980092471', u'playtime_for...</td>\n",
       "    </tr>\n",
       "    <tr>\n",
       "      <th>5</th>\n",
       "      <td>76561198202663196</td>\n",
       "      <td>[{u'uid': u'76561198202663196', u'playtime_for...</td>\n",
       "    </tr>\n",
       "    <tr>\n",
       "      <th>6</th>\n",
       "      <td>76561198129757415</td>\n",
       "      <td>[{u'uid': u'76561198129757415', u'playtime_for...</td>\n",
       "    </tr>\n",
       "    <tr>\n",
       "      <th>7</th>\n",
       "      <td>76561198050035478</td>\n",
       "      <td>[{u'uid': u'76561198050035478', u'playtime_for...</td>\n",
       "    </tr>\n",
       "    <tr>\n",
       "      <th>8</th>\n",
       "      <td>76561197976676146</td>\n",
       "      <td>[{u'uid': u'76561197976676146', u'playtime_for...</td>\n",
       "    </tr>\n",
       "    <tr>\n",
       "      <th>9</th>\n",
       "      <td>76561197995295208</td>\n",
       "      <td>[{u'uid': u'76561197995295208', u'playtime_for...</td>\n",
       "    </tr>\n",
       "    <tr>\n",
       "      <th>10</th>\n",
       "      <td>76561198068277537</td>\n",
       "      <td>[{u'uid': u'76561198068277537', u'playtime_for...</td>\n",
       "    </tr>\n",
       "  </tbody>\n",
       "</table>\n",
       "</div>"
      ],
      "text/plain": [
       "              steamid                                          game_info\n",
       "0   76561197981918203  [{u'uid': u'76561197981918203', u'playtime_for...\n",
       "1   76561197993408842  [{u'uid': u'76561197993408842', u'playtime_for...\n",
       "2   76561198042305043  [{u'uid': u'76561198042305043', u'playtime_for...\n",
       "4   76561197980092471  [{u'uid': u'76561197980092471', u'playtime_for...\n",
       "5   76561198202663196  [{u'uid': u'76561198202663196', u'playtime_for...\n",
       "6   76561198129757415  [{u'uid': u'76561198129757415', u'playtime_for...\n",
       "7   76561198050035478  [{u'uid': u'76561198050035478', u'playtime_for...\n",
       "8   76561197976676146  [{u'uid': u'76561197976676146', u'playtime_for...\n",
       "9   76561197995295208  [{u'uid': u'76561197995295208', u'playtime_for...\n",
       "10  76561198068277537  [{u'uid': u'76561198068277537', u'playtime_for..."
      ]
     },
     "execution_count": 142,
     "metadata": {},
     "output_type": "execute_result"
    }
   ],
   "source": [
    "pub_games.head(10)"
   ]
  },
  {
   "cell_type": "code",
   "execution_count": 140,
   "metadata": {
    "collapsed": false
   },
   "outputs": [],
   "source": [
    "pub_games = pub_games[pd.notnull(pub_games[\"steamid\"])]"
   ]
  },
  {
   "cell_type": "code",
   "execution_count": 40,
   "metadata": {
    "collapsed": false
   },
   "outputs": [],
   "source": [
    "game_names = list(map(lambda x: x[\"name\"], pub_games[\"game_info\"][0]))"
   ]
  },
  {
   "cell_type": "code",
   "execution_count": 204,
   "metadata": {
    "collapsed": true
   },
   "outputs": [],
   "source": [
    "import os"
   ]
  },
  {
   "cell_type": "code",
   "execution_count": 205,
   "metadata": {
    "collapsed": false
   },
   "outputs": [
    {
     "data": {
      "text/plain": [
       "'76561197967398882'"
      ]
     },
     "execution_count": 205,
     "metadata": {},
     "output_type": "execute_result"
    }
   ],
   "source": [
    "os.environ[\"MY_STEAM\"]"
   ]
  },
  {
   "cell_type": "code",
   "execution_count": 32,
   "metadata": {
    "collapsed": false
   },
   "outputs": [
    {
     "data": {
      "text/html": [
       "<div>\n",
       "<table border=\"1\" class=\"dataframe\">\n",
       "  <thead>\n",
       "    <tr style=\"text-align: right;\">\n",
       "      <th></th>\n",
       "      <th>steamid</th>\n",
       "      <th>game_info</th>\n",
       "    </tr>\n",
       "  </thead>\n",
       "  <tbody>\n",
       "    <tr>\n",
       "      <th>55</th>\n",
       "      <td>76561198047666691</td>\n",
       "      <td>[{u'playtime_forever': 2241, u'playtime_2weeks...</td>\n",
       "    </tr>\n",
       "    <tr>\n",
       "      <th>110</th>\n",
       "      <td>76561197998721109</td>\n",
       "      <td>[{u'playtime_forever': 244, u'playtime_2weeks'...</td>\n",
       "    </tr>\n",
       "    <tr>\n",
       "      <th>137</th>\n",
       "      <td>76561198010718118</td>\n",
       "      <td>[{u'playtime_forever': 74, u'playtime_2weeks':...</td>\n",
       "    </tr>\n",
       "    <tr>\n",
       "      <th>158</th>\n",
       "      <td>76561198200656075</td>\n",
       "      <td>[{u'playtime_forever': 380, u'playtime_2weeks'...</td>\n",
       "    </tr>\n",
       "    <tr>\n",
       "      <th>183</th>\n",
       "      <td>76561198001352634</td>\n",
       "      <td>[{u'playtime_forever': 440, u'playtime_2weeks'...</td>\n",
       "    </tr>\n",
       "    <tr>\n",
       "      <th>216</th>\n",
       "      <td>76561198082073715</td>\n",
       "      <td>[{u'playtime_forever': 9317, u'playtime_2weeks...</td>\n",
       "    </tr>\n",
       "    <tr>\n",
       "      <th>221</th>\n",
       "      <td>76561198178311941</td>\n",
       "      <td>[{u'playtime_forever': 0, u'playtime_2weeks': ...</td>\n",
       "    </tr>\n",
       "    <tr>\n",
       "      <th>223</th>\n",
       "      <td>76561198290216463</td>\n",
       "      <td>[{u'playtime_forever': 2, u'playtime_2weeks': ...</td>\n",
       "    </tr>\n",
       "    <tr>\n",
       "      <th>270</th>\n",
       "      <td>76561198134958228</td>\n",
       "      <td>[{u'playtime_forever': 49, u'playtime_2weeks':...</td>\n",
       "    </tr>\n",
       "    <tr>\n",
       "      <th>370</th>\n",
       "      <td>76561198042114259</td>\n",
       "      <td>[{u'playtime_forever': 109, u'playtime_2weeks'...</td>\n",
       "    </tr>\n",
       "    <tr>\n",
       "      <th>455</th>\n",
       "      <td>76561198180184902</td>\n",
       "      <td>[{u'playtime_forever': 514604, u'playtime_2wee...</td>\n",
       "    </tr>\n",
       "  </tbody>\n",
       "</table>\n",
       "</div>"
      ],
      "text/plain": [
       "               steamid                                          game_info\n",
       "55   76561198047666691  [{u'playtime_forever': 2241, u'playtime_2weeks...\n",
       "110  76561197998721109  [{u'playtime_forever': 244, u'playtime_2weeks'...\n",
       "137  76561198010718118  [{u'playtime_forever': 74, u'playtime_2weeks':...\n",
       "158  76561198200656075  [{u'playtime_forever': 380, u'playtime_2weeks'...\n",
       "183  76561198001352634  [{u'playtime_forever': 440, u'playtime_2weeks'...\n",
       "216  76561198082073715  [{u'playtime_forever': 9317, u'playtime_2weeks...\n",
       "221  76561198178311941  [{u'playtime_forever': 0, u'playtime_2weeks': ...\n",
       "223  76561198290216463  [{u'playtime_forever': 2, u'playtime_2weeks': ...\n",
       "270  76561198134958228  [{u'playtime_forever': 49, u'playtime_2weeks':...\n",
       "370  76561198042114259  [{u'playtime_forever': 109, u'playtime_2weeks'...\n",
       "455  76561198180184902  [{u'playtime_forever': 514604, u'playtime_2wee..."
      ]
     },
     "execution_count": 32,
     "metadata": {},
     "output_type": "execute_result"
    }
   ],
   "source": [
    "pub_games[np.array(map(lambda x: len(x), pub_games[\"game_info\"])) == 1]"
   ]
  },
  {
   "cell_type": "markdown",
   "metadata": {},
   "source": [
    "# Pivot Table"
   ]
  },
  {
   "cell_type": "code",
   "execution_count": 344,
   "metadata": {
    "collapsed": true
   },
   "outputs": [],
   "source": [
    "def sparse_games(df, vals=\"playtime_forever\"):\n",
    "    \"\"\"\n",
    "    Assumes a df with public non-null values in the form:\n",
    "    |   |steamid          |game_info        |\n",
    "    +---+-----------------+-----------------+\n",
    "    |0  |76561197967398882|[{u'playt...},{}]|\n",
    "    \n",
    "    Returns a pivoted data fram where each row is\n",
    "    'steamid', the columns are game names, and the \n",
    "    values are 'playtime_forever' (default) or \n",
    "    'playtime_2weeks'\n",
    "    \"\"\"\n",
    "    df = df.set_index(\"steamid\")\n",
    "    for i in xrange(len(df)):\n",
    "        for game in df.iloc[i][\"game_info\"]:\n",
    "            game[\"uid\"] = df.iloc[i].name\n",
    "    \n",
    "    sparsegames = pd.DataFrame()\n",
    "    for user in df[\"game_info\"]:\n",
    "        gamedf = pd.DataFrame(user)\n",
    "        sparsegames = sparsegames.append(gamedf)\n",
    "    \n",
    "    \n",
    "    pivoted = pd.pivot_table(SparseGames, index=\"uid\", columns=[\"appid\"], values=[vals], fill_value=0)\n",
    "    return pivoted.playtime_forever \n",
    "    \n",
    "    "
   ]
  },
  {
   "cell_type": "code",
   "execution_count": 345,
   "metadata": {
    "collapsed": false
   },
   "outputs": [],
   "source": [
    "pivoted = sparse_games(pub_games)"
   ]
  },
  {
   "cell_type": "code",
   "execution_count": 347,
   "metadata": {
    "collapsed": false
   },
   "outputs": [
    {
     "name": "stdout",
     "output_type": "stream",
     "text": [
      "<class 'pandas.core.frame.DataFrame'>\n",
      "Index: 10 entries, 76561197976676146 to 76561198202663196\n",
      "Columns: 518 entries, 10.0 to 433340.0\n",
      "dtypes: int64(518)\n",
      "memory usage: 40.5+ KB\n"
     ]
    }
   ],
   "source": []
  },
  {
   "cell_type": "code",
   "execution_count": null,
   "metadata": {
    "collapsed": true
   },
   "outputs": [],
   "source": []
  },
  {
   "cell_type": "code",
   "execution_count": 332,
   "metadata": {
    "collapsed": false
   },
   "outputs": [
    {
     "data": {
      "text/plain": [
       "1977.449806949807"
      ]
     },
     "execution_count": 332,
     "metadata": {},
     "output_type": "execute_result"
    }
   ],
   "source": [
    "game_times.mean()"
   ]
  },
  {
   "cell_type": "code",
   "execution_count": 346,
   "metadata": {
    "collapsed": false
   },
   "outputs": [
    {
     "name": "stdout",
     "output_type": "stream",
     "text": [
      "1977.44980695\n"
     ]
    }
   ],
   "source": [
    "game_times = np.array([])\n",
    "for game in pivoted:\n",
    "    #print Pivoted.playtime_2weeks[game].sum()\n",
    "    game_times = np.append(game_times, pivoted[game].sum())\n",
    "print game_times.mean()"
   ]
  },
  {
   "cell_type": "code",
   "execution_count": 280,
   "metadata": {
    "collapsed": false
   },
   "outputs": [
    {
     "data": {
      "text/plain": [
       "1031.1333333333334"
      ]
     },
     "execution_count": 280,
     "metadata": {},
     "output_type": "execute_result"
    }
   ],
   "source": [
    "Pivoted.playtime_2weeks[730].sum()/60."
   ]
  },
  {
   "cell_type": "code",
   "execution_count": 308,
   "metadata": {
    "collapsed": false
   },
   "outputs": [
    {
     "data": {
      "text/plain": [
       "15227.731133113311"
      ]
     },
     "execution_count": 308,
     "metadata": {},
     "output_type": "execute_result"
    }
   ],
   "source": [
    "game_times.mean()"
   ]
  },
  {
   "cell_type": "code",
   "execution_count": 311,
   "metadata": {
    "collapsed": false
   },
   "outputs": [
    {
     "data": {
      "text/plain": [
       "Int64Index([10, 20, 30, 40, 50, 60, 70, 80, 92, 100], dtype='int64', name=u'appid')"
      ]
     },
     "execution_count": 311,
     "metadata": {},
     "output_type": "execute_result"
    }
   ],
   "source": [
    "Pivoted.playtime_forever.columns[:10]"
   ]
  },
  {
   "cell_type": "markdown",
   "metadata": {},
   "source": [
    "# Drop columns with with total playtime below average"
   ]
  },
  {
   "cell_type": "code",
   "execution_count": 348,
   "metadata": {
    "collapsed": false
   },
   "outputs": [],
   "source": [
    "for col in pivoted.columns:\n",
    "    if pivoted[col].sum() <= 1977:\n",
    "        pivoted.drop(col, axis=1, inplace=True)"
   ]
  },
  {
   "cell_type": "code",
   "execution_count": 337,
   "metadata": {
    "collapsed": false
   },
   "outputs": [
    {
     "data": {
      "text/plain": [
       "uid\n",
       "76561197976676146    1588\n",
       "76561197980092471       0\n",
       "76561197981918203     234\n",
       "76561197993408842       0\n",
       "76561197995295208       0\n",
       "Name: 730.0, dtype: int64"
      ]
     },
     "execution_count": 337,
     "metadata": {},
     "output_type": "execute_result"
    }
   ],
   "source": [
    "#Pivoted.playtime_forever.drop(10, axis=1)\n",
    "pivoted.head()[730]"
   ]
  },
  {
   "cell_type": "code",
   "execution_count": null,
   "metadata": {
    "collapsed": true
   },
   "outputs": [],
   "source": []
  },
  {
   "cell_type": "code",
   "execution_count": null,
   "metadata": {
    "collapsed": true
   },
   "outputs": [],
   "source": []
  },
  {
   "cell_type": "code",
   "execution_count": 125,
   "metadata": {
    "collapsed": false
   },
   "outputs": [
    {
     "data": {
      "text/plain": [
       "u'76561198042305043'"
      ]
     },
     "execution_count": 125,
     "metadata": {},
     "output_type": "execute_result"
    }
   ],
   "source": [
    "sample.iloc[2].name"
   ]
  },
  {
   "cell_type": "code",
   "execution_count": 126,
   "metadata": {
    "collapsed": false
   },
   "outputs": [],
   "source": [
    "for i in xrange(len(sample)):\n",
    "    #print i\n",
    "    for g in sample.iloc[i][\"game_info\"]:\n",
    "        #print len(g)\n",
    "        #print g[\"name\"], g[\"playtime_forever\"], pub_games[\"steamid\"][i]\n",
    "        g[\"uid\"] = sample.iloc[i].name\n",
    "        #print pub_games[\"steamid\"][i]\n",
    "        #del g[\"appid\"]\n",
    "    #print game[0]"
   ]
  },
  {
   "cell_type": "code",
   "execution_count": 43,
   "metadata": {
    "collapsed": false
   },
   "outputs": [
    {
     "data": {
      "text/plain": [
       "[{u'name': u'Half-Life 2',\n",
       "  u'playtime_2weeks': 0,\n",
       "  u'playtime_forever': 63,\n",
       "  'steamid': u'76561197981918203',\n",
       "  'uid': u'76561197981918203'},\n",
       " {u'name': u'Counter-Strike: Source',\n",
       "  u'playtime_2weeks': 0,\n",
       "  u'playtime_forever': 72,\n",
       "  'steamid': u'76561197981918203',\n",
       "  'uid': u'76561197981918203'},\n",
       " {u'name': u'Half-Life: Source',\n",
       "  u'playtime_2weeks': 0,\n",
       "  u'playtime_forever': 0,\n",
       "  'steamid': u'76561197981918203',\n",
       "  'uid': u'76561197981918203'},\n",
       " {u'name': u'Half-Life 2: Deathmatch',\n",
       "  u'playtime_2weeks': 0,\n",
       "  u'playtime_forever': 0,\n",
       "  'steamid': u'76561197981918203',\n",
       "  'uid': u'76561197981918203'},\n",
       " {u'name': u'Half-Life 2: Lost Coast',\n",
       "  u'playtime_2weeks': 0,\n",
       "  u'playtime_forever': 25,\n",
       "  'steamid': u'76561197981918203',\n",
       "  'uid': u'76561197981918203'},\n",
       " {u'name': u'Half-Life Deathmatch: Source',\n",
       "  u'playtime_2weeks': 0,\n",
       "  u'playtime_forever': 0,\n",
       "  'steamid': u'76561197981918203',\n",
       "  'uid': u'76561197981918203'},\n",
       " {u'name': u'Half-Life 2: Episode One',\n",
       "  u'playtime_2weeks': 0,\n",
       "  u'playtime_forever': 0,\n",
       "  'steamid': u'76561197981918203',\n",
       "  'uid': u'76561197981918203'},\n",
       " {u'name': u'Deus Ex: Game of the Year Edition',\n",
       "  u'playtime_2weeks': 0,\n",
       "  u'playtime_forever': 5,\n",
       "  'steamid': u'76561197981918203',\n",
       "  'uid': u'76561197981918203'},\n",
       " {u'name': u'Deus Ex: Invisible War',\n",
       "  u'playtime_2weeks': 0,\n",
       "  u'playtime_forever': 0,\n",
       "  'steamid': u'76561197981918203',\n",
       "  'uid': u'76561197981918203'},\n",
       " {u'name': u\"Sid Meier's Civilization IV\",\n",
       "  u'playtime_2weeks': 0,\n",
       "  u'playtime_forever': 0,\n",
       "  'steamid': u'76561197981918203',\n",
       "  'uid': u'76561197981918203'},\n",
       " {u'name': u\"Sid Meier's Civilization IV: Warlords\",\n",
       "  u'playtime_2weeks': 0,\n",
       "  u'playtime_forever': 0,\n",
       "  'steamid': u'76561197981918203',\n",
       "  'uid': u'76561197981918203'},\n",
       " {u'name': u\"Sid Meier's Civilization IV: Beyond the Sword\",\n",
       "  u'playtime_2weeks': 0,\n",
       "  u'playtime_forever': 0,\n",
       "  'steamid': u'76561197981918203',\n",
       "  'uid': u'76561197981918203'},\n",
       " {u'name': u\"Sid Meier's Civilization IV: Colonization\",\n",
       "  u'playtime_2weeks': 0,\n",
       "  u'playtime_forever': 0,\n",
       "  'steamid': u'76561197981918203',\n",
       "  'uid': u'76561197981918203'},\n",
       " {u'name': u\"Sid Meier's Civilization IV\",\n",
       "  u'playtime_2weeks': 0,\n",
       "  u'playtime_forever': 0,\n",
       "  'steamid': u'76561197981918203',\n",
       "  'uid': u'76561197981918203'},\n",
       " {u'name': u\"Sid Meier's Civilization IV: Warlords\",\n",
       "  u'playtime_2weeks': 0,\n",
       "  u'playtime_forever': 0,\n",
       "  'steamid': u'76561197981918203',\n",
       "  'uid': u'76561197981918203'},\n",
       " {u'name': u\"Sid Meier's Civilization IV: Beyond the Sword\",\n",
       "  u'playtime_2weeks': 0,\n",
       "  u'playtime_forever': 0,\n",
       "  'steamid': u'76561197981918203',\n",
       "  'uid': u'76561197981918203'},\n",
       " {u'name': u'Arma 2: Operation Arrowhead',\n",
       "  u'playtime_2weeks': 0,\n",
       "  u'playtime_forever': 0,\n",
       "  'steamid': u'76561197981918203',\n",
       "  'uid': u'76561197981918203'},\n",
       " {u'name': u'Arma 2: Operation Arrowhead Beta (Obsolete)',\n",
       "  u'playtime_2weeks': 0,\n",
       "  u'playtime_forever': 0,\n",
       "  'steamid': u'76561197981918203',\n",
       "  'uid': u'76561197981918203'},\n",
       " {u'name': u\"Sid Meier's Civilization V\",\n",
       "  u'playtime_2weeks': 0,\n",
       "  u'playtime_forever': 496,\n",
       "  'steamid': u'76561197981918203',\n",
       "  'uid': u'76561197981918203'},\n",
       " {u'name': u'Terraria',\n",
       "  u'playtime_2weeks': 0,\n",
       "  u'playtime_forever': 4492,\n",
       "  'steamid': u'76561197981918203',\n",
       "  'uid': u'76561197981918203'},\n",
       " {u'name': u'Supreme Commander',\n",
       "  u'playtime_2weeks': 0,\n",
       "  u'playtime_forever': 130,\n",
       "  'steamid': u'76561197981918203',\n",
       "  'uid': u'76561197981918203'},\n",
       " {u'name': u'Saints Row: The Third',\n",
       "  u'playtime_2weeks': 0,\n",
       "  u'playtime_forever': 0,\n",
       "  'steamid': u'76561197981918203',\n",
       "  'uid': u'76561197981918203'},\n",
       " {u'name': u'Sins of a Solar Empire: Trinity',\n",
       "  u'playtime_2weeks': 0,\n",
       "  u'playtime_forever': 251,\n",
       "  'steamid': u'76561197981918203',\n",
       "  'uid': u'76561197981918203'},\n",
       " {u'name': u'Serious Sam 3: BFE',\n",
       "  u'playtime_2weeks': 0,\n",
       "  u'playtime_forever': 10,\n",
       "  'steamid': u'76561197981918203',\n",
       "  'uid': u'76561197981918203'},\n",
       " {u'name': u'FTL: Faster Than Light',\n",
       "  u'playtime_2weeks': 0,\n",
       "  u'playtime_forever': 9,\n",
       "  'steamid': u'76561197981918203',\n",
       "  'uid': u'76561197981918203'},\n",
       " {u'name': u'DOOM 3: BFG Edition',\n",
       "  u'playtime_2weeks': 0,\n",
       "  u'playtime_forever': 113,\n",
       "  'steamid': u'76561197981918203',\n",
       "  'uid': u'76561197981918203'},\n",
       " {u'name': u'Hacker Evolution',\n",
       "  u'playtime_2weeks': 0,\n",
       "  u'playtime_forever': 25,\n",
       "  'steamid': u'76561197981918203',\n",
       "  'uid': u'76561197981918203'},\n",
       " {u'name': u'Hacker Evolution - Untold',\n",
       "  u'playtime_2weeks': 0,\n",
       "  u'playtime_forever': 0,\n",
       "  'steamid': u'76561197981918203',\n",
       "  'uid': u'76561197981918203'},\n",
       " {u'name': u'Hacker Evolution Duality',\n",
       "  u'playtime_2weeks': 0,\n",
       "  u'playtime_forever': 0,\n",
       "  'steamid': u'76561197981918203',\n",
       "  'uid': u'76561197981918203'},\n",
       " {u'name': u'Company of Heroes',\n",
       "  u'playtime_2weeks': 0,\n",
       "  u'playtime_forever': 0,\n",
       "  'steamid': u'76561197981918203',\n",
       "  'uid': u'76561197981918203'},\n",
       " {u'name': u'Company of Heroes: Opposing Fronts',\n",
       "  u'playtime_2weeks': 0,\n",
       "  u'playtime_forever': 0,\n",
       "  'steamid': u'76561197981918203',\n",
       "  'uid': u'76561197981918203'},\n",
       " {u'name': u'Company of Heroes: Tales of Valor',\n",
       "  u'playtime_2weeks': 0,\n",
       "  u'playtime_forever': 0,\n",
       "  'steamid': u'76561197981918203',\n",
       "  'uid': u'76561197981918203'},\n",
       " {u'name': u'Metro 2033',\n",
       "  u'playtime_2weeks': 0,\n",
       "  u'playtime_forever': 0,\n",
       "  'steamid': u'76561197981918203',\n",
       "  'uid': u'76561197981918203'},\n",
       " {u'name': u'Darksiders',\n",
       "  u'playtime_2weeks': 0,\n",
       "  u'playtime_forever': 0,\n",
       "  'steamid': u'76561197981918203',\n",
       "  'uid': u'76561197981918203'},\n",
       " {u'name': u'Red Faction: Armageddon',\n",
       "  u'playtime_2weeks': 0,\n",
       "  u'playtime_forever': 0,\n",
       "  'steamid': u'76561197981918203',\n",
       "  'uid': u'76561197981918203'},\n",
       " {u'name': u'Company of Heroes (New Steam Version)',\n",
       "  u'playtime_2weeks': 0,\n",
       "  u'playtime_forever': 0,\n",
       "  'steamid': u'76561197981918203',\n",
       "  'uid': u'76561197981918203'},\n",
       " {u'name': u'The Cave',\n",
       "  u'playtime_2weeks': 0,\n",
       "  u'playtime_forever': 0,\n",
       "  'steamid': u'76561197981918203',\n",
       "  'uid': u'76561197981918203'},\n",
       " {u'name': u'Tribes: Ascend',\n",
       "  u'playtime_2weeks': 0,\n",
       "  u'playtime_forever': 0,\n",
       "  'steamid': u'76561197981918203',\n",
       "  'uid': u'76561197981918203'},\n",
       " {u'name': u'Arma 2: DayZ Mod',\n",
       "  u'playtime_2weeks': 0,\n",
       "  u'playtime_forever': 4,\n",
       "  'steamid': u'76561197981918203',\n",
       "  'uid': u'76561197981918203'},\n",
       " {u'name': u'Age of Empires II: HD Edition',\n",
       "  u'playtime_2weeks': 0,\n",
       "  u'playtime_forever': 256,\n",
       "  'steamid': u'76561197981918203',\n",
       "  'uid': u'76561197981918203'},\n",
       " {u'name': u'Far Cry\\xae 3 Blood Dragon',\n",
       "  u'playtime_2weeks': 0,\n",
       "  u'playtime_forever': 0,\n",
       "  'steamid': u'76561197981918203',\n",
       "  'uid': u'76561197981918203'},\n",
       " {u'name': u'Arma 2',\n",
       "  u'playtime_2weeks': 0,\n",
       "  u'playtime_forever': 12,\n",
       "  'steamid': u'76561197981918203',\n",
       "  'uid': u'76561197981918203'},\n",
       " {u'name': u'Space Engineers',\n",
       "  u'playtime_2weeks': 0,\n",
       "  u'playtime_forever': 45,\n",
       "  'steamid': u'76561197981918203',\n",
       "  'uid': u'76561197981918203'},\n",
       " {u'name': u'Left 4 Dead 2',\n",
       "  u'playtime_2weeks': 0,\n",
       "  u'playtime_forever': 60,\n",
       "  'steamid': u'76561197981918203',\n",
       "  'uid': u'76561197981918203'},\n",
       " {u'name': u'Halo: Spartan Assault',\n",
       "  u'playtime_2weeks': 0,\n",
       "  u'playtime_forever': 5,\n",
       "  'steamid': u'76561197981918203',\n",
       "  'uid': u'76561197981918203'},\n",
       " {u'name': u'Child of Light',\n",
       "  u'playtime_2weeks': 0,\n",
       "  u'playtime_forever': 0,\n",
       "  'steamid': u'76561197981918203',\n",
       "  'uid': u'76561197981918203'},\n",
       " {u'name': u'Never Alone (Kisima Ingitchuna)',\n",
       "  u'playtime_2weeks': 0,\n",
       "  u'playtime_forever': 0,\n",
       "  'steamid': u'76561197981918203',\n",
       "  'uid': u'76561197981918203'},\n",
       " {u'name': u'BattleBlock Theater',\n",
       "  u'playtime_2weeks': 0,\n",
       "  u'playtime_forever': 0,\n",
       "  'steamid': u'76561197981918203',\n",
       "  'uid': u'76561197981918203'},\n",
       " {u'name': u'Microsoft Flight Simulator X: Steam Edition',\n",
       "  u'playtime_2weeks': 0,\n",
       "  u'playtime_forever': 2974,\n",
       "  'steamid': u'76561197981918203',\n",
       "  'uid': u'76561197981918203'},\n",
       " {u'name': u'Alien: Isolation',\n",
       "  u'playtime_2weeks': 0,\n",
       "  u'playtime_forever': 384,\n",
       "  'steamid': u'76561197981918203',\n",
       "  'uid': u'76561197981918203'},\n",
       " {u'name': u'Space Run',\n",
       "  u'playtime_2weeks': 0,\n",
       "  u'playtime_forever': 3,\n",
       "  'steamid': u'76561197981918203',\n",
       "  'uid': u'76561197981918203'},\n",
       " {u'name': u\"Sid Meier's Civilization: Beyond Earth\",\n",
       "  u'playtime_2weeks': 0,\n",
       "  u'playtime_forever': 81,\n",
       "  'steamid': u'76561197981918203',\n",
       "  'uid': u'76561197981918203'},\n",
       " {u'name': u\"Sid Meier's Starships\",\n",
       "  u'playtime_2weeks': 0,\n",
       "  u'playtime_forever': 0,\n",
       "  'steamid': u'76561197981918203',\n",
       "  'uid': u'76561197981918203'},\n",
       " {u'name': u'Counter-Strike: Global Offensive',\n",
       "  u'playtime_2weeks': 0,\n",
       "  u'playtime_forever': 234,\n",
       "  'steamid': u'76561197981918203',\n",
       "  'uid': u'76561197981918203'},\n",
       " {u'name': u\"Don't Starve Together Beta\",\n",
       "  u'playtime_2weeks': 0,\n",
       "  u'playtime_forever': 76,\n",
       "  'steamid': u'76561197981918203',\n",
       "  'uid': u'76561197981918203'},\n",
       " {u'name': u'Team Fortress 2',\n",
       "  u'playtime_2weeks': 0,\n",
       "  u'playtime_forever': 31,\n",
       "  'steamid': u'76561197981918203',\n",
       "  'uid': u'76561197981918203'}]"
      ]
     },
     "execution_count": 43,
     "metadata": {},
     "output_type": "execute_result"
    }
   ],
   "source": [
    "#few_games[\"game_info\"][0]"
   ]
  },
  {
   "cell_type": "code",
   "execution_count": 135,
   "metadata": {
    "collapsed": true
   },
   "outputs": [],
   "source": [
    "GameSeries = few_games[\"game_info\"][1]\n",
    "GameSeries2 = pd.DataFrame(few_games[\"game_info\"][2])"
   ]
  },
  {
   "cell_type": "code",
   "execution_count": 115,
   "metadata": {
    "collapsed": false
   },
   "outputs": [],
   "source": [
    "SparseGames = pd.DataFrame(GameSeries)"
   ]
  },
  {
   "cell_type": "code",
   "execution_count": 177,
   "metadata": {
    "collapsed": false
   },
   "outputs": [
    {
     "data": {
      "text/html": [
       "<div>\n",
       "<table border=\"1\" class=\"dataframe\">\n",
       "  <thead>\n",
       "    <tr style=\"text-align: right;\">\n",
       "      <th></th>\n",
       "      <th>appid</th>\n",
       "      <th>name</th>\n",
       "      <th>playtime_2weeks</th>\n",
       "      <th>playtime_forever</th>\n",
       "      <th>uid</th>\n",
       "    </tr>\n",
       "  </thead>\n",
       "  <tbody>\n",
       "    <tr>\n",
       "      <th>0</th>\n",
       "      <td>NaN</td>\n",
       "      <td>Half-Life 2</td>\n",
       "      <td>0.0</td>\n",
       "      <td>2893.0</td>\n",
       "      <td>76561197971340950</td>\n",
       "    </tr>\n",
       "    <tr>\n",
       "      <th>1</th>\n",
       "      <td>NaN</td>\n",
       "      <td>Counter-Strike: Source</td>\n",
       "      <td>0.0</td>\n",
       "      <td>1711.0</td>\n",
       "      <td>76561197971340950</td>\n",
       "    </tr>\n",
       "    <tr>\n",
       "      <th>2</th>\n",
       "      <td>NaN</td>\n",
       "      <td>Half-Life 2: Deathmatch</td>\n",
       "      <td>0.0</td>\n",
       "      <td>2090.0</td>\n",
       "      <td>76561197971340950</td>\n",
       "    </tr>\n",
       "    <tr>\n",
       "      <th>3</th>\n",
       "      <td>NaN</td>\n",
       "      <td>Half-Life 2: Lost Coast</td>\n",
       "      <td>0.0</td>\n",
       "      <td>52.0</td>\n",
       "      <td>76561197971340950</td>\n",
       "    </tr>\n",
       "    <tr>\n",
       "      <th>4</th>\n",
       "      <td>NaN</td>\n",
       "      <td>Garry's Mod</td>\n",
       "      <td>43.0</td>\n",
       "      <td>26780.0</td>\n",
       "      <td>76561197971340950</td>\n",
       "    </tr>\n",
       "  </tbody>\n",
       "</table>\n",
       "</div>"
      ],
      "text/plain": [
       "   appid                     name  playtime_2weeks  playtime_forever  \\\n",
       "0    NaN              Half-Life 2              0.0            2893.0   \n",
       "1    NaN   Counter-Strike: Source              0.0            1711.0   \n",
       "2    NaN  Half-Life 2: Deathmatch              0.0            2090.0   \n",
       "3    NaN  Half-Life 2: Lost Coast              0.0              52.0   \n",
       "4    NaN              Garry's Mod             43.0           26780.0   \n",
       "\n",
       "                 uid  \n",
       "0  76561197971340950  \n",
       "1  76561197971340950  \n",
       "2  76561197971340950  \n",
       "3  76561197971340950  \n",
       "4  76561197971340950  "
      ]
     },
     "execution_count": 177,
     "metadata": {},
     "output_type": "execute_result"
    }
   ],
   "source": [
    "SparseGames.head()"
   ]
  },
  {
   "cell_type": "code",
   "execution_count": 125,
   "metadata": {
    "collapsed": false
   },
   "outputs": [],
   "source": [
    "for u in few_games[\"game_info\"]:\n",
    "    user_df = pd.DataFrame(u)\n",
    "    SparseGames.append(user_df)"
   ]
  },
  {
   "cell_type": "code",
   "execution_count": 128,
   "metadata": {
    "collapsed": true
   },
   "outputs": [],
   "source": [
    "SparseGames = pd.DataFrame(columns=[\"name\", \"playtime_2weeks\", \"playtime_forever\", \"uid\"])"
   ]
  },
  {
   "cell_type": "code",
   "execution_count": 129,
   "metadata": {
    "collapsed": false
   },
   "outputs": [],
   "source": [
    "#SparseGames = pd.D\n",
    "for u in sample[\"game_info\"]:\n",
    "    Gamedf = pd.DataFrame(u)\n",
    "    SparseGames = SparseGames.append(Gamedf)"
   ]
  },
  {
   "cell_type": "code",
   "execution_count": 131,
   "metadata": {
    "collapsed": false
   },
   "outputs": [
    {
     "data": {
      "text/html": [
       "<div>\n",
       "<table border=\"1\" class=\"dataframe\">\n",
       "  <thead>\n",
       "    <tr style=\"text-align: right;\">\n",
       "      <th></th>\n",
       "      <th>appid</th>\n",
       "      <th>name</th>\n",
       "      <th>playtime_2weeks</th>\n",
       "      <th>playtime_forever</th>\n",
       "      <th>uid</th>\n",
       "    </tr>\n",
       "  </thead>\n",
       "  <tbody>\n",
       "    <tr>\n",
       "      <th>0</th>\n",
       "      <td>220.0</td>\n",
       "      <td>Half-Life 2</td>\n",
       "      <td>0.0</td>\n",
       "      <td>63.0</td>\n",
       "      <td>76561197981918203</td>\n",
       "    </tr>\n",
       "    <tr>\n",
       "      <th>1</th>\n",
       "      <td>240.0</td>\n",
       "      <td>Counter-Strike: Source</td>\n",
       "      <td>0.0</td>\n",
       "      <td>72.0</td>\n",
       "      <td>76561197981918203</td>\n",
       "    </tr>\n",
       "    <tr>\n",
       "      <th>2</th>\n",
       "      <td>280.0</td>\n",
       "      <td>Half-Life: Source</td>\n",
       "      <td>0.0</td>\n",
       "      <td>0.0</td>\n",
       "      <td>76561197981918203</td>\n",
       "    </tr>\n",
       "    <tr>\n",
       "      <th>3</th>\n",
       "      <td>320.0</td>\n",
       "      <td>Half-Life 2: Deathmatch</td>\n",
       "      <td>0.0</td>\n",
       "      <td>0.0</td>\n",
       "      <td>76561197981918203</td>\n",
       "    </tr>\n",
       "    <tr>\n",
       "      <th>4</th>\n",
       "      <td>340.0</td>\n",
       "      <td>Half-Life 2: Lost Coast</td>\n",
       "      <td>0.0</td>\n",
       "      <td>25.0</td>\n",
       "      <td>76561197981918203</td>\n",
       "    </tr>\n",
       "  </tbody>\n",
       "</table>\n",
       "</div>"
      ],
      "text/plain": [
       "   appid                     name  playtime_2weeks  playtime_forever  \\\n",
       "0  220.0              Half-Life 2              0.0              63.0   \n",
       "1  240.0   Counter-Strike: Source              0.0              72.0   \n",
       "2  280.0        Half-Life: Source              0.0               0.0   \n",
       "3  320.0  Half-Life 2: Deathmatch              0.0               0.0   \n",
       "4  340.0  Half-Life 2: Lost Coast              0.0              25.0   \n",
       "\n",
       "                 uid  \n",
       "0  76561197981918203  \n",
       "1  76561197981918203  \n",
       "2  76561197981918203  \n",
       "3  76561197981918203  \n",
       "4  76561197981918203  "
      ]
     },
     "execution_count": 131,
     "metadata": {},
     "output_type": "execute_result"
    }
   ],
   "source": []
  },
  {
   "cell_type": "code",
   "execution_count": 169,
   "metadata": {
    "collapsed": false
   },
   "outputs": [],
   "source": [
    "#SparseGames = pd.DataFrame(columns=[\"name\", \"playtime_2weeks\", \"playtime_forever\", \"uid\"])"
   ]
  },
  {
   "cell_type": "code",
   "execution_count": 52,
   "metadata": {
    "collapsed": true
   },
   "outputs": [],
   "source": [
    "del SparseGames[\"appid\"]\n",
    "del SparseGames[\"steamid\"]"
   ]
  },
  {
   "cell_type": "code",
   "execution_count": 53,
   "metadata": {
    "collapsed": false
   },
   "outputs": [
    {
     "data": {
      "text/html": [
       "<div>\n",
       "<table border=\"1\" class=\"dataframe\">\n",
       "  <thead>\n",
       "    <tr style=\"text-align: right;\">\n",
       "      <th></th>\n",
       "      <th>name</th>\n",
       "      <th>playtime_2weeks</th>\n",
       "      <th>playtime_forever</th>\n",
       "      <th>uid</th>\n",
       "    </tr>\n",
       "  </thead>\n",
       "  <tbody>\n",
       "    <tr>\n",
       "      <th>0</th>\n",
       "      <td>Half-Life 2</td>\n",
       "      <td>0.0</td>\n",
       "      <td>63.0</td>\n",
       "      <td>76561197981918203</td>\n",
       "    </tr>\n",
       "    <tr>\n",
       "      <th>1</th>\n",
       "      <td>Counter-Strike: Source</td>\n",
       "      <td>0.0</td>\n",
       "      <td>72.0</td>\n",
       "      <td>76561197981918203</td>\n",
       "    </tr>\n",
       "    <tr>\n",
       "      <th>2</th>\n",
       "      <td>Half-Life: Source</td>\n",
       "      <td>0.0</td>\n",
       "      <td>0.0</td>\n",
       "      <td>76561197981918203</td>\n",
       "    </tr>\n",
       "    <tr>\n",
       "      <th>3</th>\n",
       "      <td>Half-Life 2: Deathmatch</td>\n",
       "      <td>0.0</td>\n",
       "      <td>0.0</td>\n",
       "      <td>76561197981918203</td>\n",
       "    </tr>\n",
       "    <tr>\n",
       "      <th>4</th>\n",
       "      <td>Half-Life 2: Lost Coast</td>\n",
       "      <td>0.0</td>\n",
       "      <td>25.0</td>\n",
       "      <td>76561197981918203</td>\n",
       "    </tr>\n",
       "  </tbody>\n",
       "</table>\n",
       "</div>"
      ],
      "text/plain": [
       "                      name  playtime_2weeks  playtime_forever  \\\n",
       "0              Half-Life 2              0.0              63.0   \n",
       "1   Counter-Strike: Source              0.0              72.0   \n",
       "2        Half-Life: Source              0.0               0.0   \n",
       "3  Half-Life 2: Deathmatch              0.0               0.0   \n",
       "4  Half-Life 2: Lost Coast              0.0              25.0   \n",
       "\n",
       "                 uid  \n",
       "0  76561197981918203  \n",
       "1  76561197981918203  \n",
       "2  76561197981918203  \n",
       "3  76561197981918203  \n",
       "4  76561197981918203  "
      ]
     },
     "execution_count": 53,
     "metadata": {},
     "output_type": "execute_result"
    }
   ],
   "source": [
    "SparseGames.head()"
   ]
  },
  {
   "cell_type": "code",
   "execution_count": 132,
   "metadata": {
    "collapsed": false
   },
   "outputs": [],
   "source": [
    "# df.pivot(index='date', columns='variable', values='value')\n",
    "Pivoted = pd.pivot_table(SparseGames, index=uid, columns=[\"name\"], values=[\"playtime_forever\"], fill_value=0)"
   ]
  },
  {
   "cell_type": "code",
   "execution_count": 135,
   "metadata": {
    "collapsed": false
   },
   "outputs": [
    {
     "data": {
      "text/html": [
       "<div>\n",
       "<table border=\"1\" class=\"dataframe\">\n",
       "  <thead>\n",
       "    <tr>\n",
       "      <th></th>\n",
       "      <th colspan=\"21\" halign=\"left\">playtime_forever</th>\n",
       "    </tr>\n",
       "    <tr>\n",
       "      <th>name</th>\n",
       "      <th>A Virus Named TOM</th>\n",
       "      <th>Ace of Spades</th>\n",
       "      <th>Age of Empires II: HD Edition</th>\n",
       "      <th>Age of Empires® III: Complete Collection</th>\n",
       "      <th>Alan Wake</th>\n",
       "      <th>Alan Wake's American Nightmare</th>\n",
       "      <th>Alien Swarm</th>\n",
       "      <th>Alien: Isolation</th>\n",
       "      <th>Alpha Protocol</th>\n",
       "      <th>Amazing Adventures Around the World</th>\n",
       "      <th>...</th>\n",
       "      <th>X Rebirth</th>\n",
       "      <th>X3: Albion Prelude</th>\n",
       "      <th>X3: Reunion</th>\n",
       "      <th>X3: Terran Conflict</th>\n",
       "      <th>XCOM 2</th>\n",
       "      <th>XCOM: Enemy Unknown</th>\n",
       "      <th>Ys I</th>\n",
       "      <th>Ys II</th>\n",
       "      <th>Zuma Deluxe</th>\n",
       "      <th>realMyst</th>\n",
       "    </tr>\n",
       "    <tr>\n",
       "      <th>uid</th>\n",
       "      <th></th>\n",
       "      <th></th>\n",
       "      <th></th>\n",
       "      <th></th>\n",
       "      <th></th>\n",
       "      <th></th>\n",
       "      <th></th>\n",
       "      <th></th>\n",
       "      <th></th>\n",
       "      <th></th>\n",
       "      <th></th>\n",
       "      <th></th>\n",
       "      <th></th>\n",
       "      <th></th>\n",
       "      <th></th>\n",
       "      <th></th>\n",
       "      <th></th>\n",
       "      <th></th>\n",
       "      <th></th>\n",
       "      <th></th>\n",
       "      <th></th>\n",
       "    </tr>\n",
       "  </thead>\n",
       "  <tbody>\n",
       "    <tr>\n",
       "      <th>76561197976676146</th>\n",
       "      <td>0</td>\n",
       "      <td>0</td>\n",
       "      <td>33</td>\n",
       "      <td>8</td>\n",
       "      <td>0</td>\n",
       "      <td>0</td>\n",
       "      <td>1810</td>\n",
       "      <td>0</td>\n",
       "      <td>0</td>\n",
       "      <td>0</td>\n",
       "      <td>...</td>\n",
       "      <td>27</td>\n",
       "      <td>379</td>\n",
       "      <td>0</td>\n",
       "      <td>2640</td>\n",
       "      <td>2385</td>\n",
       "      <td>1643</td>\n",
       "      <td>149</td>\n",
       "      <td>0</td>\n",
       "      <td>0</td>\n",
       "      <td>0</td>\n",
       "    </tr>\n",
       "    <tr>\n",
       "      <th>76561197980092471</th>\n",
       "      <td>0</td>\n",
       "      <td>0</td>\n",
       "      <td>0</td>\n",
       "      <td>0</td>\n",
       "      <td>27</td>\n",
       "      <td>0</td>\n",
       "      <td>421</td>\n",
       "      <td>0</td>\n",
       "      <td>141</td>\n",
       "      <td>0</td>\n",
       "      <td>...</td>\n",
       "      <td>0</td>\n",
       "      <td>0</td>\n",
       "      <td>0</td>\n",
       "      <td>0</td>\n",
       "      <td>0</td>\n",
       "      <td>0</td>\n",
       "      <td>0</td>\n",
       "      <td>0</td>\n",
       "      <td>0</td>\n",
       "      <td>0</td>\n",
       "    </tr>\n",
       "    <tr>\n",
       "      <th>76561197981918203</th>\n",
       "      <td>0</td>\n",
       "      <td>0</td>\n",
       "      <td>256</td>\n",
       "      <td>0</td>\n",
       "      <td>0</td>\n",
       "      <td>0</td>\n",
       "      <td>0</td>\n",
       "      <td>384</td>\n",
       "      <td>0</td>\n",
       "      <td>0</td>\n",
       "      <td>...</td>\n",
       "      <td>0</td>\n",
       "      <td>0</td>\n",
       "      <td>0</td>\n",
       "      <td>0</td>\n",
       "      <td>0</td>\n",
       "      <td>0</td>\n",
       "      <td>0</td>\n",
       "      <td>0</td>\n",
       "      <td>0</td>\n",
       "      <td>0</td>\n",
       "    </tr>\n",
       "    <tr>\n",
       "      <th>76561197993408842</th>\n",
       "      <td>0</td>\n",
       "      <td>104</td>\n",
       "      <td>0</td>\n",
       "      <td>0</td>\n",
       "      <td>0</td>\n",
       "      <td>0</td>\n",
       "      <td>0</td>\n",
       "      <td>0</td>\n",
       "      <td>0</td>\n",
       "      <td>0</td>\n",
       "      <td>...</td>\n",
       "      <td>0</td>\n",
       "      <td>0</td>\n",
       "      <td>0</td>\n",
       "      <td>0</td>\n",
       "      <td>0</td>\n",
       "      <td>0</td>\n",
       "      <td>0</td>\n",
       "      <td>0</td>\n",
       "      <td>0</td>\n",
       "      <td>0</td>\n",
       "    </tr>\n",
       "    <tr>\n",
       "      <th>76561197995295208</th>\n",
       "      <td>0</td>\n",
       "      <td>0</td>\n",
       "      <td>0</td>\n",
       "      <td>0</td>\n",
       "      <td>0</td>\n",
       "      <td>0</td>\n",
       "      <td>0</td>\n",
       "      <td>0</td>\n",
       "      <td>0</td>\n",
       "      <td>0</td>\n",
       "      <td>...</td>\n",
       "      <td>0</td>\n",
       "      <td>0</td>\n",
       "      <td>0</td>\n",
       "      <td>0</td>\n",
       "      <td>0</td>\n",
       "      <td>0</td>\n",
       "      <td>0</td>\n",
       "      <td>0</td>\n",
       "      <td>0</td>\n",
       "      <td>0</td>\n",
       "    </tr>\n",
       "    <tr>\n",
       "      <th>76561198042305043</th>\n",
       "      <td>0</td>\n",
       "      <td>0</td>\n",
       "      <td>0</td>\n",
       "      <td>0</td>\n",
       "      <td>0</td>\n",
       "      <td>0</td>\n",
       "      <td>0</td>\n",
       "      <td>0</td>\n",
       "      <td>0</td>\n",
       "      <td>0</td>\n",
       "      <td>...</td>\n",
       "      <td>0</td>\n",
       "      <td>0</td>\n",
       "      <td>0</td>\n",
       "      <td>0</td>\n",
       "      <td>0</td>\n",
       "      <td>0</td>\n",
       "      <td>0</td>\n",
       "      <td>0</td>\n",
       "      <td>0</td>\n",
       "      <td>0</td>\n",
       "    </tr>\n",
       "    <tr>\n",
       "      <th>76561198050035478</th>\n",
       "      <td>0</td>\n",
       "      <td>0</td>\n",
       "      <td>0</td>\n",
       "      <td>0</td>\n",
       "      <td>0</td>\n",
       "      <td>0</td>\n",
       "      <td>0</td>\n",
       "      <td>0</td>\n",
       "      <td>0</td>\n",
       "      <td>0</td>\n",
       "      <td>...</td>\n",
       "      <td>0</td>\n",
       "      <td>0</td>\n",
       "      <td>0</td>\n",
       "      <td>0</td>\n",
       "      <td>0</td>\n",
       "      <td>0</td>\n",
       "      <td>0</td>\n",
       "      <td>0</td>\n",
       "      <td>0</td>\n",
       "      <td>0</td>\n",
       "    </tr>\n",
       "    <tr>\n",
       "      <th>76561198068277537</th>\n",
       "      <td>0</td>\n",
       "      <td>0</td>\n",
       "      <td>0</td>\n",
       "      <td>0</td>\n",
       "      <td>0</td>\n",
       "      <td>0</td>\n",
       "      <td>0</td>\n",
       "      <td>0</td>\n",
       "      <td>0</td>\n",
       "      <td>0</td>\n",
       "      <td>...</td>\n",
       "      <td>0</td>\n",
       "      <td>0</td>\n",
       "      <td>0</td>\n",
       "      <td>0</td>\n",
       "      <td>0</td>\n",
       "      <td>0</td>\n",
       "      <td>0</td>\n",
       "      <td>0</td>\n",
       "      <td>0</td>\n",
       "      <td>0</td>\n",
       "    </tr>\n",
       "    <tr>\n",
       "      <th>76561198129757415</th>\n",
       "      <td>0</td>\n",
       "      <td>0</td>\n",
       "      <td>0</td>\n",
       "      <td>0</td>\n",
       "      <td>0</td>\n",
       "      <td>0</td>\n",
       "      <td>0</td>\n",
       "      <td>0</td>\n",
       "      <td>0</td>\n",
       "      <td>0</td>\n",
       "      <td>...</td>\n",
       "      <td>0</td>\n",
       "      <td>0</td>\n",
       "      <td>0</td>\n",
       "      <td>0</td>\n",
       "      <td>0</td>\n",
       "      <td>0</td>\n",
       "      <td>0</td>\n",
       "      <td>0</td>\n",
       "      <td>0</td>\n",
       "      <td>0</td>\n",
       "    </tr>\n",
       "    <tr>\n",
       "      <th>76561198202663196</th>\n",
       "      <td>0</td>\n",
       "      <td>0</td>\n",
       "      <td>0</td>\n",
       "      <td>0</td>\n",
       "      <td>0</td>\n",
       "      <td>0</td>\n",
       "      <td>0</td>\n",
       "      <td>0</td>\n",
       "      <td>0</td>\n",
       "      <td>0</td>\n",
       "      <td>...</td>\n",
       "      <td>0</td>\n",
       "      <td>0</td>\n",
       "      <td>0</td>\n",
       "      <td>0</td>\n",
       "      <td>0</td>\n",
       "      <td>0</td>\n",
       "      <td>0</td>\n",
       "      <td>0</td>\n",
       "      <td>0</td>\n",
       "      <td>0</td>\n",
       "    </tr>\n",
       "  </tbody>\n",
       "</table>\n",
       "<p>10 rows × 511 columns</p>\n",
       "</div>"
      ],
      "text/plain": [
       "                   playtime_forever                \\\n",
       "name              A Virus Named TOM Ace of Spades   \n",
       "uid                                                 \n",
       "76561197976676146                 0             0   \n",
       "76561197980092471                 0             0   \n",
       "76561197981918203                 0             0   \n",
       "76561197993408842                 0           104   \n",
       "76561197995295208                 0             0   \n",
       "76561198042305043                 0             0   \n",
       "76561198050035478                 0             0   \n",
       "76561198068277537                 0             0   \n",
       "76561198129757415                 0             0   \n",
       "76561198202663196                 0             0   \n",
       "\n",
       "                                                 \\\n",
       "name              Age of Empires II: HD Edition   \n",
       "uid                                               \n",
       "76561197976676146                            33   \n",
       "76561197980092471                             0   \n",
       "76561197981918203                           256   \n",
       "76561197993408842                             0   \n",
       "76561197995295208                             0   \n",
       "76561198042305043                             0   \n",
       "76561198050035478                             0   \n",
       "76561198068277537                             0   \n",
       "76561198129757415                             0   \n",
       "76561198202663196                             0   \n",
       "\n",
       "                                                                      \\\n",
       "name              Age of Empires® III: Complete Collection Alan Wake   \n",
       "uid                                                                    \n",
       "76561197976676146                                        8         0   \n",
       "76561197980092471                                        0        27   \n",
       "76561197981918203                                        0         0   \n",
       "76561197993408842                                        0         0   \n",
       "76561197995295208                                        0         0   \n",
       "76561198042305043                                        0         0   \n",
       "76561198050035478                                        0         0   \n",
       "76561198068277537                                        0         0   \n",
       "76561198129757415                                        0         0   \n",
       "76561198202663196                                        0         0   \n",
       "\n",
       "                                                                               \\\n",
       "name              Alan Wake's American Nightmare Alien Swarm Alien: Isolation   \n",
       "uid                                                                             \n",
       "76561197976676146                              0        1810                0   \n",
       "76561197980092471                              0         421                0   \n",
       "76561197981918203                              0           0              384   \n",
       "76561197993408842                              0           0                0   \n",
       "76561197995295208                              0           0                0   \n",
       "76561198042305043                              0           0                0   \n",
       "76561198050035478                              0           0                0   \n",
       "76561198068277537                              0           0                0   \n",
       "76561198129757415                              0           0                0   \n",
       "76561198202663196                              0           0                0   \n",
       "\n",
       "                                                                       ...     \\\n",
       "name              Alpha Protocol Amazing Adventures Around the World   ...      \n",
       "uid                                                                    ...      \n",
       "76561197976676146              0                                   0   ...      \n",
       "76561197980092471            141                                   0   ...      \n",
       "76561197981918203              0                                   0   ...      \n",
       "76561197993408842              0                                   0   ...      \n",
       "76561197995295208              0                                   0   ...      \n",
       "76561198042305043              0                                   0   ...      \n",
       "76561198050035478              0                                   0   ...      \n",
       "76561198068277537              0                                   0   ...      \n",
       "76561198129757415              0                                   0   ...      \n",
       "76561198202663196              0                                   0   ...      \n",
       "\n",
       "                                                            \\\n",
       "name              X Rebirth X3: Albion Prelude X3: Reunion   \n",
       "uid                                                          \n",
       "76561197976676146        27                379           0   \n",
       "76561197980092471         0                  0           0   \n",
       "76561197981918203         0                  0           0   \n",
       "76561197993408842         0                  0           0   \n",
       "76561197995295208         0                  0           0   \n",
       "76561198042305043         0                  0           0   \n",
       "76561198050035478         0                  0           0   \n",
       "76561198068277537         0                  0           0   \n",
       "76561198129757415         0                  0           0   \n",
       "76561198202663196         0                  0           0   \n",
       "\n",
       "                                                                             \\\n",
       "name              X3: Terran Conflict XCOM 2 XCOM: Enemy Unknown Ys I Ys II   \n",
       "uid                                                                           \n",
       "76561197976676146                2640   2385                1643  149     0   \n",
       "76561197980092471                   0      0                   0    0     0   \n",
       "76561197981918203                   0      0                   0    0     0   \n",
       "76561197993408842                   0      0                   0    0     0   \n",
       "76561197995295208                   0      0                   0    0     0   \n",
       "76561198042305043                   0      0                   0    0     0   \n",
       "76561198050035478                   0      0                   0    0     0   \n",
       "76561198068277537                   0      0                   0    0     0   \n",
       "76561198129757415                   0      0                   0    0     0   \n",
       "76561198202663196                   0      0                   0    0     0   \n",
       "\n",
       "                                        \n",
       "name              Zuma Deluxe realMyst  \n",
       "uid                                     \n",
       "76561197976676146           0        0  \n",
       "76561197980092471           0        0  \n",
       "76561197981918203           0        0  \n",
       "76561197993408842           0        0  \n",
       "76561197995295208           0        0  \n",
       "76561198042305043           0        0  \n",
       "76561198050035478           0        0  \n",
       "76561198068277537           0        0  \n",
       "76561198129757415           0        0  \n",
       "76561198202663196           0        0  \n",
       "\n",
       "[10 rows x 511 columns]"
      ]
     },
     "execution_count": 135,
     "metadata": {},
     "output_type": "execute_result"
    }
   ],
   "source": [
    "Pivoted"
   ]
  },
  {
   "cell_type": "code",
   "execution_count": null,
   "metadata": {
    "collapsed": true
   },
   "outputs": [],
   "source": []
  }
 ],
 "metadata": {
  "kernelspec": {
   "display_name": "Python 2",
   "language": "python",
   "name": "python2"
  },
  "language_info": {
   "codemirror_mode": {
    "name": "ipython",
    "version": 2
   },
   "file_extension": ".py",
   "mimetype": "text/x-python",
   "name": "python",
   "nbconvert_exporter": "python",
   "pygments_lexer": "ipython2",
   "version": "2.7.11"
  }
 },
 "nbformat": 4,
 "nbformat_minor": 0
}
