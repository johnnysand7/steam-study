{
 "cells": [
  {
   "cell_type": "code",
   "execution_count": 501,
   "metadata": {
    "collapsed": false
   },
   "outputs": [
    {
     "name": "stderr",
     "output_type": "stream",
     "text": [
      "A newer version of GraphLab Create (v1.8.5) is available! Your current version is v1.8.4.\n",
      "\n",
      "You can use pip to upgrade the graphlab-create package. For more information see https://dato.com/products/create/upgrade.\n"
     ]
    }
   ],
   "source": [
    "import pymongo\n",
    "import pandas as pd\n",
    "import matplotlib.pyplot as plt\n",
    "import numpy as np\n",
    "from collections import Counter\n",
    "import time, calendar\n",
    "import graphlab as gl\n",
    "%matplotlib inline"
   ]
  },
  {
   "cell_type": "markdown",
   "metadata": {},
   "source": [
    "# Connect to MongoDB"
   ]
  },
  {
   "cell_type": "code",
   "execution_count": 307,
   "metadata": {
    "collapsed": false
   },
   "outputs": [],
   "source": [
    "conn = pymongo.MongoClient()['steam']\n",
    "cursor = conn['test'].find({})"
   ]
  },
  {
   "cell_type": "code",
   "execution_count": 308,
   "metadata": {
    "collapsed": false
   },
   "outputs": [
    {
     "name": "stdout",
     "output_type": "stream",
     "text": [
      "<class 'pandas.core.frame.DataFrame'>\n",
      "RangeIndex: 656 entries, 0 to 655\n",
      "Data columns (total 7 columns):\n",
      "_id                656 non-null object\n",
      "ban_status         656 non-null object\n",
      "friends            656 non-null object\n",
      "game_info          656 non-null object\n",
      "profile_summary    656 non-null object\n",
      "steamid            656 non-null object\n",
      "user_info          656 non-null object\n",
      "dtypes: object(7)\n",
      "memory usage: 35.9+ KB\n"
     ]
    }
   ],
   "source": [
    "df = pd.DataFrame(list(cursor))\n",
    "df.info()"
   ]
  },
  {
   "cell_type": "code",
   "execution_count": 39,
   "metadata": {
    "collapsed": true
   },
   "outputs": [],
   "source": [
    "#games = df.copy()\n",
    "#games = games[[\"steamid\", \"game_info\"]]"
   ]
  },
  {
   "cell_type": "markdown",
   "metadata": {},
   "source": [
    "# Unpack Columns Containing a Single Dictionary"
   ]
  },
  {
   "cell_type": "code",
   "execution_count": 12,
   "metadata": {
    "collapsed": false
   },
   "outputs": [],
   "source": [
    "def unpack(df, column, fillna=None):\n",
    "    new_df = None\n",
    "    if fillna is None:\n",
    "        new_df = pd.concat([df, pd.DataFrame((d for idx, d in df[column].iteritems()))], axis=1)\n",
    "        del new_df[column]\n",
    "    else:\n",
    "        new_df = pd.concat([df, pd.DataFrame((d for idx, d in df[column].iteritems())).fillna(fillna)], axis=1)\n",
    "        del new_df[column]\n",
    "    return new_df\n",
    "\n",
    "#unpack(tf, 'nested', 0)"
   ]
  },
  {
   "cell_type": "code",
   "execution_count": 309,
   "metadata": {
    "collapsed": false
   },
   "outputs": [],
   "source": [
    "df = unpack(df, \"user_info\", fillna=None)"
   ]
  },
  {
   "cell_type": "code",
   "execution_count": 310,
   "metadata": {
    "collapsed": false
   },
   "outputs": [],
   "source": [
    "df = unpack(df, \"ban_status\", fillna=None)"
   ]
  },
  {
   "cell_type": "code",
   "execution_count": 259,
   "metadata": {
    "collapsed": false
   },
   "outputs": [
    {
     "data": {
      "text/html": [
       "<div>\n",
       "<table border=\"1\" class=\"dataframe\">\n",
       "  <thead>\n",
       "    <tr style=\"text-align: right;\">\n",
       "      <th></th>\n",
       "      <th>_id</th>\n",
       "      <th>friends</th>\n",
       "      <th>game_info</th>\n",
       "      <th>profile_summary</th>\n",
       "      <th>steamid</th>\n",
       "      <th>avatarfull</th>\n",
       "      <th>commentpermission</th>\n",
       "      <th>communityvisibilitystate</th>\n",
       "      <th>gameextrainfo</th>\n",
       "      <th>gameid</th>\n",
       "      <th>...</th>\n",
       "      <th>primaryclanid</th>\n",
       "      <th>profilestate</th>\n",
       "      <th>realname</th>\n",
       "      <th>timecreated</th>\n",
       "      <th>CommunityBanned</th>\n",
       "      <th>DaysSinceLastBan</th>\n",
       "      <th>EconomyBan</th>\n",
       "      <th>NumberOfGameBans</th>\n",
       "      <th>NumberOfVACBans</th>\n",
       "      <th>VACBanned</th>\n",
       "    </tr>\n",
       "  </thead>\n",
       "  <tbody>\n",
       "    <tr>\n",
       "      <th>0</th>\n",
       "      <td>570fc54763210f0e63d825fc</td>\n",
       "      <td>[{u'steamid': u'76561197962935145', u'friend_s...</td>\n",
       "      <td>[{u'playtime_forever': 63, u'playtime_2weeks':...</td>\n",
       "      <td>No information given.</td>\n",
       "      <td>76561197981918203</td>\n",
       "      <td>https://steamcdn-a.akamaihd.net/steamcommunity...</td>\n",
       "      <td>NaN</td>\n",
       "      <td>3</td>\n",
       "      <td>NaN</td>\n",
       "      <td>NaN</td>\n",
       "      <td>...</td>\n",
       "      <td>103582791429521408</td>\n",
       "      <td>1.0</td>\n",
       "      <td>NaN</td>\n",
       "      <td>1.144367e+09</td>\n",
       "      <td>False</td>\n",
       "      <td>0</td>\n",
       "      <td>none</td>\n",
       "      <td>0</td>\n",
       "      <td>0</td>\n",
       "      <td>False</td>\n",
       "    </tr>\n",
       "  </tbody>\n",
       "</table>\n",
       "<p>1 rows × 28 columns</p>\n",
       "</div>"
      ],
      "text/plain": [
       "                        _id  \\\n",
       "0  570fc54763210f0e63d825fc   \n",
       "\n",
       "                                             friends  \\\n",
       "0  [{u'steamid': u'76561197962935145', u'friend_s...   \n",
       "\n",
       "                                           game_info        profile_summary  \\\n",
       "0  [{u'playtime_forever': 63, u'playtime_2weeks':...  No information given.   \n",
       "\n",
       "             steamid                                         avatarfull  \\\n",
       "0  76561197981918203  https://steamcdn-a.akamaihd.net/steamcommunity...   \n",
       "\n",
       "   commentpermission  communityvisibilitystate gameextrainfo gameid  \\\n",
       "0                NaN                         3           NaN    NaN   \n",
       "\n",
       "     ...           primaryclanid profilestate  realname   timecreated  \\\n",
       "0    ...      103582791429521408          1.0       NaN  1.144367e+09   \n",
       "\n",
       "  CommunityBanned DaysSinceLastBan EconomyBan  NumberOfGameBans  \\\n",
       "0           False                0       none                 0   \n",
       "\n",
       "  NumberOfVACBans  VACBanned  \n",
       "0               0      False  \n",
       "\n",
       "[1 rows x 28 columns]"
      ]
     },
     "execution_count": 259,
     "metadata": {},
     "output_type": "execute_result"
    }
   ],
   "source": [
    "df.head(1)"
   ]
  },
  {
   "cell_type": "markdown",
   "metadata": {},
   "source": [
    "# Split up users based on public or private profiles"
   ]
  },
  {
   "cell_type": "code",
   "execution_count": 311,
   "metadata": {
    "collapsed": true
   },
   "outputs": [],
   "source": [
    "df2 = df.copy()\n",
    "private_df = df2[df2[\"profile_summary\"] == \"private\"]\n",
    "public_df = df2[df2[\"profile_summary\"] != \"private\"]"
   ]
  },
  {
   "cell_type": "code",
   "execution_count": 312,
   "metadata": {
    "collapsed": false
   },
   "outputs": [
    {
     "name": "stdout",
     "output_type": "stream",
     "text": [
      "<class 'pandas.core.frame.DataFrame'>\n",
      "Int64Index: 110 entries, 3 to 654\n",
      "Data columns (total 28 columns):\n",
      "_id                         110 non-null object\n",
      "friends                     110 non-null object\n",
      "game_info                   110 non-null object\n",
      "profile_summary             110 non-null object\n",
      "steamid                     110 non-null object\n",
      "avatarfull                  110 non-null object\n",
      "commentpermission           21 non-null float64\n",
      "communityvisibilitystate    110 non-null int64\n",
      "gameextrainfo               0 non-null object\n",
      "gameid                      0 non-null object\n",
      "gameserverip                0 non-null object\n",
      "gameserversteamid           0 non-null object\n",
      "lastlogoff                  110 non-null int64\n",
      "loccityid                   0 non-null float64\n",
      "loccountrycode              0 non-null object\n",
      "locstatecode                0 non-null object\n",
      "personaname                 110 non-null object\n",
      "personastate                110 non-null int64\n",
      "primaryclanid               0 non-null object\n",
      "profilestate                110 non-null float64\n",
      "realname                    0 non-null object\n",
      "timecreated                 0 non-null float64\n",
      "CommunityBanned             110 non-null bool\n",
      "DaysSinceLastBan            110 non-null int64\n",
      "EconomyBan                  110 non-null object\n",
      "NumberOfGameBans            110 non-null int64\n",
      "NumberOfVACBans             110 non-null int64\n",
      "VACBanned                   110 non-null bool\n",
      "dtypes: bool(2), float64(4), int64(6), object(16)\n",
      "memory usage: 23.4+ KB\n"
     ]
    }
   ],
   "source": [
    "private_df.info()"
   ]
  },
  {
   "cell_type": "code",
   "execution_count": 58,
   "metadata": {
    "collapsed": false
   },
   "outputs": [
    {
     "data": {
      "text/plain": [
       "False    107\n",
       "True       3\n",
       "Name: VACBanned, dtype: int64"
      ]
     },
     "execution_count": 58,
     "metadata": {},
     "output_type": "execute_result"
    }
   ],
   "source": [
    "private_df[\"VACBanned\"].value_counts()#`.replace([\"none\"], 0).value_counts()"
   ]
  },
  {
   "cell_type": "markdown",
   "metadata": {},
   "source": [
    "# Who needs these columns?"
   ]
  },
  {
   "cell_type": "code",
   "execution_count": 313,
   "metadata": {
    "collapsed": false
   },
   "outputs": [],
   "source": [
    "del public_df[\"_id\"]\n",
    "del public_df[\"gameid\"]\n",
    "del public_df[\"commentpermission\"]\n",
    "del public_df[\"gameserverip\"]\n",
    "del public_df[\"gameserversteamid\"]\n",
    "del public_df[\"gameextrainfo\"]"
   ]
  },
  {
   "cell_type": "code",
   "execution_count": 741,
   "metadata": {
    "collapsed": false
   },
   "outputs": [
    {
     "data": {
      "text/html": [
       "<div>\n",
       "<table border=\"1\" class=\"dataframe\">\n",
       "  <thead>\n",
       "    <tr style=\"text-align: right;\">\n",
       "      <th></th>\n",
       "      <th>friends</th>\n",
       "      <th>game_info</th>\n",
       "      <th>profile_summary</th>\n",
       "      <th>steamid</th>\n",
       "      <th>avatarfull</th>\n",
       "      <th>communityvisibilitystate</th>\n",
       "      <th>lastlogoff</th>\n",
       "      <th>loccityid</th>\n",
       "      <th>loccountrycode</th>\n",
       "      <th>locstatecode</th>\n",
       "      <th>...</th>\n",
       "      <th>primaryclanid</th>\n",
       "      <th>profilestate</th>\n",
       "      <th>realname</th>\n",
       "      <th>timecreated</th>\n",
       "      <th>CommunityBanned</th>\n",
       "      <th>DaysSinceLastBan</th>\n",
       "      <th>EconomyBan</th>\n",
       "      <th>NumberOfGameBans</th>\n",
       "      <th>NumberOfVACBans</th>\n",
       "      <th>VACBanned</th>\n",
       "    </tr>\n",
       "  </thead>\n",
       "  <tbody>\n",
       "    <tr>\n",
       "      <th>0</th>\n",
       "      <td>[{u'steamid': u'76561197962935145', u'friend_s...</td>\n",
       "      <td>[{u'steamid': u'76561197981918203', u'playtime...</td>\n",
       "      <td>No information given.</td>\n",
       "      <td>76561197981918203</td>\n",
       "      <td>https://steamcdn-a.akamaihd.net/steamcommunity...</td>\n",
       "      <td>3</td>\n",
       "      <td>1460650784</td>\n",
       "      <td>NaN</td>\n",
       "      <td>NaN</td>\n",
       "      <td>NaN</td>\n",
       "      <td>...</td>\n",
       "      <td>103582791429521408</td>\n",
       "      <td>1.0</td>\n",
       "      <td>NaN</td>\n",
       "      <td>1.144367e+09</td>\n",
       "      <td>False</td>\n",
       "      <td>0</td>\n",
       "      <td>none</td>\n",
       "      <td>0</td>\n",
       "      <td>0</td>\n",
       "      <td>False</td>\n",
       "    </tr>\n",
       "    <tr>\n",
       "      <th>1</th>\n",
       "      <td>[{u'steamid': u'76561197960384644', u'friend_s...</td>\n",
       "      <td>[{u'steamid': u'76561197993408842', u'playtime...</td>\n",
       "      <td>No information given.</td>\n",
       "      <td>76561197993408842</td>\n",
       "      <td>https://steamcdn-a.akamaihd.net/steamcommunity...</td>\n",
       "      <td>3</td>\n",
       "      <td>1460141117</td>\n",
       "      <td>NaN</td>\n",
       "      <td>NaN</td>\n",
       "      <td>NaN</td>\n",
       "      <td>...</td>\n",
       "      <td>103582791434327939</td>\n",
       "      <td>1.0</td>\n",
       "      <td>Kyle Wayman</td>\n",
       "      <td>1.192434e+09</td>\n",
       "      <td>False</td>\n",
       "      <td>0</td>\n",
       "      <td>none</td>\n",
       "      <td>0</td>\n",
       "      <td>0</td>\n",
       "      <td>False</td>\n",
       "    </tr>\n",
       "    <tr>\n",
       "      <th>2</th>\n",
       "      <td>[{u'steamid': u'76561197965354025', u'friend_s...</td>\n",
       "      <td>[{u'steamid': u'76561198042305043', u'playtime...</td>\n",
       "      <td>Trying out more options on the PC. Hope to fin...</td>\n",
       "      <td>76561198042305043</td>\n",
       "      <td>https://steamcdn-a.akamaihd.net/steamcommunity...</td>\n",
       "      <td>3</td>\n",
       "      <td>1460619106</td>\n",
       "      <td>1581.0</td>\n",
       "      <td>US</td>\n",
       "      <td>KY</td>\n",
       "      <td>...</td>\n",
       "      <td>103582791429521408</td>\n",
       "      <td>1.0</td>\n",
       "      <td>Russ</td>\n",
       "      <td>1.306214e+09</td>\n",
       "      <td>False</td>\n",
       "      <td>0</td>\n",
       "      <td>none</td>\n",
       "      <td>0</td>\n",
       "      <td>0</td>\n",
       "      <td>False</td>\n",
       "    </tr>\n",
       "    <tr>\n",
       "      <th>4</th>\n",
       "      <td>[{u'steamid': u'76561197961563067', u'friend_s...</td>\n",
       "      <td>[{u'steamid': u'76561197980092471', u'playtime...</td>\n",
       "      <td>I come from a time and place you wouldn't unde...</td>\n",
       "      <td>76561197980092471</td>\n",
       "      <td>https://steamcdn-a.akamaihd.net/steamcommunity...</td>\n",
       "      <td>3</td>\n",
       "      <td>1459313201</td>\n",
       "      <td>669.0</td>\n",
       "      <td>US</td>\n",
       "      <td>CO</td>\n",
       "      <td>...</td>\n",
       "      <td>103582791434535150</td>\n",
       "      <td>1.0</td>\n",
       "      <td>Alan</td>\n",
       "      <td>1.136080e+09</td>\n",
       "      <td>False</td>\n",
       "      <td>0</td>\n",
       "      <td>none</td>\n",
       "      <td>0</td>\n",
       "      <td>0</td>\n",
       "      <td>False</td>\n",
       "    </tr>\n",
       "    <tr>\n",
       "      <th>5</th>\n",
       "      <td>[{u'steamid': u'76561197966730410', u'friend_s...</td>\n",
       "      <td>[{u'steamid': u'76561198202663196', u'playtime...</td>\n",
       "      <td>No information given.</td>\n",
       "      <td>76561198202663196</td>\n",
       "      <td>https://steamcdn-a.akamaihd.net/steamcommunity...</td>\n",
       "      <td>3</td>\n",
       "      <td>1460633747</td>\n",
       "      <td>NaN</td>\n",
       "      <td>NaN</td>\n",
       "      <td>NaN</td>\n",
       "      <td>...</td>\n",
       "      <td>103582791429521408</td>\n",
       "      <td>1.0</td>\n",
       "      <td>NaN</td>\n",
       "      <td>1.419689e+09</td>\n",
       "      <td>False</td>\n",
       "      <td>0</td>\n",
       "      <td>none</td>\n",
       "      <td>0</td>\n",
       "      <td>0</td>\n",
       "      <td>False</td>\n",
       "    </tr>\n",
       "  </tbody>\n",
       "</table>\n",
       "<p>5 rows × 22 columns</p>\n",
       "</div>"
      ],
      "text/plain": [
       "                                             friends  \\\n",
       "0  [{u'steamid': u'76561197962935145', u'friend_s...   \n",
       "1  [{u'steamid': u'76561197960384644', u'friend_s...   \n",
       "2  [{u'steamid': u'76561197965354025', u'friend_s...   \n",
       "4  [{u'steamid': u'76561197961563067', u'friend_s...   \n",
       "5  [{u'steamid': u'76561197966730410', u'friend_s...   \n",
       "\n",
       "                                           game_info  \\\n",
       "0  [{u'steamid': u'76561197981918203', u'playtime...   \n",
       "1  [{u'steamid': u'76561197993408842', u'playtime...   \n",
       "2  [{u'steamid': u'76561198042305043', u'playtime...   \n",
       "4  [{u'steamid': u'76561197980092471', u'playtime...   \n",
       "5  [{u'steamid': u'76561198202663196', u'playtime...   \n",
       "\n",
       "                                     profile_summary            steamid  \\\n",
       "0                              No information given.  76561197981918203   \n",
       "1                              No information given.  76561197993408842   \n",
       "2  Trying out more options on the PC. Hope to fin...  76561198042305043   \n",
       "4  I come from a time and place you wouldn't unde...  76561197980092471   \n",
       "5                              No information given.  76561198202663196   \n",
       "\n",
       "                                          avatarfull  \\\n",
       "0  https://steamcdn-a.akamaihd.net/steamcommunity...   \n",
       "1  https://steamcdn-a.akamaihd.net/steamcommunity...   \n",
       "2  https://steamcdn-a.akamaihd.net/steamcommunity...   \n",
       "4  https://steamcdn-a.akamaihd.net/steamcommunity...   \n",
       "5  https://steamcdn-a.akamaihd.net/steamcommunity...   \n",
       "\n",
       "   communityvisibilitystate  lastlogoff  loccityid loccountrycode  \\\n",
       "0                         3  1460650784        NaN            NaN   \n",
       "1                         3  1460141117        NaN            NaN   \n",
       "2                         3  1460619106     1581.0             US   \n",
       "4                         3  1459313201      669.0             US   \n",
       "5                         3  1460633747        NaN            NaN   \n",
       "\n",
       "  locstatecode    ...           primaryclanid  profilestate     realname  \\\n",
       "0          NaN    ...      103582791429521408           1.0          NaN   \n",
       "1          NaN    ...      103582791434327939           1.0  Kyle Wayman   \n",
       "2           KY    ...      103582791429521408           1.0         Russ   \n",
       "4           CO    ...      103582791434535150           1.0         Alan   \n",
       "5          NaN    ...      103582791429521408           1.0          NaN   \n",
       "\n",
       "    timecreated CommunityBanned  DaysSinceLastBan EconomyBan  \\\n",
       "0  1.144367e+09           False                 0       none   \n",
       "1  1.192434e+09           False                 0       none   \n",
       "2  1.306214e+09           False                 0       none   \n",
       "4  1.136080e+09           False                 0       none   \n",
       "5  1.419689e+09           False                 0       none   \n",
       "\n",
       "   NumberOfGameBans NumberOfVACBans  VACBanned  \n",
       "0                 0               0      False  \n",
       "1                 0               0      False  \n",
       "2                 0               0      False  \n",
       "4                 0               0      False  \n",
       "5                 0               0      False  \n",
       "\n",
       "[5 rows x 22 columns]"
      ]
     },
     "execution_count": 741,
     "metadata": {},
     "output_type": "execute_result"
    }
   ],
   "source": [
    "public_df.head()"
   ]
  },
  {
   "cell_type": "markdown",
   "metadata": {},
   "source": [
    "# Some Friend Exploration"
   ]
  },
  {
   "cell_type": "code",
   "execution_count": 742,
   "metadata": {
    "collapsed": true
   },
   "outputs": [],
   "source": [
    "friends = public_df.copy()\n",
    "friends = friends[[\"steamid\", \"friends\"]]"
   ]
  },
  {
   "cell_type": "code",
   "execution_count": 743,
   "metadata": {
    "collapsed": false
   },
   "outputs": [
    {
     "data": {
      "text/html": [
       "<div>\n",
       "<table border=\"1\" class=\"dataframe\">\n",
       "  <thead>\n",
       "    <tr style=\"text-align: right;\">\n",
       "      <th></th>\n",
       "      <th>steamid</th>\n",
       "      <th>friends</th>\n",
       "    </tr>\n",
       "  </thead>\n",
       "  <tbody>\n",
       "    <tr>\n",
       "      <th>0</th>\n",
       "      <td>76561197981918203</td>\n",
       "      <td>[{u'steamid': u'76561197962935145', u'friend_s...</td>\n",
       "    </tr>\n",
       "    <tr>\n",
       "      <th>1</th>\n",
       "      <td>76561197993408842</td>\n",
       "      <td>[{u'steamid': u'76561197960384644', u'friend_s...</td>\n",
       "    </tr>\n",
       "    <tr>\n",
       "      <th>2</th>\n",
       "      <td>76561198042305043</td>\n",
       "      <td>[{u'steamid': u'76561197965354025', u'friend_s...</td>\n",
       "    </tr>\n",
       "    <tr>\n",
       "      <th>4</th>\n",
       "      <td>76561197980092471</td>\n",
       "      <td>[{u'steamid': u'76561197961563067', u'friend_s...</td>\n",
       "    </tr>\n",
       "    <tr>\n",
       "      <th>5</th>\n",
       "      <td>76561198202663196</td>\n",
       "      <td>[{u'steamid': u'76561197966730410', u'friend_s...</td>\n",
       "    </tr>\n",
       "  </tbody>\n",
       "</table>\n",
       "</div>"
      ],
      "text/plain": [
       "             steamid                                            friends\n",
       "0  76561197981918203  [{u'steamid': u'76561197962935145', u'friend_s...\n",
       "1  76561197993408842  [{u'steamid': u'76561197960384644', u'friend_s...\n",
       "2  76561198042305043  [{u'steamid': u'76561197965354025', u'friend_s...\n",
       "4  76561197980092471  [{u'steamid': u'76561197961563067', u'friend_s...\n",
       "5  76561198202663196  [{u'steamid': u'76561197966730410', u'friend_s..."
      ]
     },
     "execution_count": 743,
     "metadata": {},
     "output_type": "execute_result"
    }
   ],
   "source": [
    "friends.head()"
   ]
  },
  {
   "cell_type": "code",
   "execution_count": 745,
   "metadata": {
    "collapsed": false
   },
   "outputs": [
    {
     "name": "stdout",
     "output_type": "stream",
     "text": [
      "{u'steamid': u'76561197962935145', u'friend_since': 1432449524}\n",
      "{u'steamid': u'76561197976676146', u'friend_since': 0}\n",
      "{u'steamid': u'76561198015033918', u'friend_since': 1357182390}\n",
      "{u'steamid': u'76561198028166561', u'friend_since': 1432450611}\n",
      "{u'steamid': u'76561198041265016', u'friend_since': 1436389663}\n",
      "{u'steamid': u'76561198071700397', u'friend_since': 1357546821}\n",
      "{u'steamid': u'76561198100020251', u'friend_since': 1435389806}\n",
      "{u'steamid': u'76561198117260979', u'friend_since': 1435391977}\n",
      "{u'steamid': u'76561198202327956', u'friend_since': 1419568101}\n"
     ]
    }
   ],
   "source": [
    "for friend in friends[\"friends\"][0]:\n",
    "    print friend"
   ]
  },
  {
   "cell_type": "code",
   "execution_count": 756,
   "metadata": {
    "collapsed": true
   },
   "outputs": [],
   "source": [
    "def friends_users_list(df, pivot=False):\n",
    "    \"\"\"\n",
    "    Assumes a df with public non-null values in the form:\n",
    "    |   |steamid          |friends          |\n",
    "    +---+-----------------+-----------------+\n",
    "    |0  |76561197967398882|[{u'frien...},{}]|\n",
    "    \n",
    "    Returns a pivoted data fram where each row is\n",
    "    'steamid', the columns are game names, and the \n",
    "    values are 'playtime_forever' (default) or \n",
    "    'playtime_2weeks'\n",
    "    \"\"\"\n",
    "    df = df.set_index(\"steamid\")\n",
    "    for i in xrange(len(df)):\n",
    "        \n",
    "        #[game.update({\"steamid\":df.iloc[i].name})\\\n",
    "        #           for game in df.iloc[i][\"game_info\"]\\\n",
    "        #           if str(game[\"appid\"]) in game_id_set]\n",
    "        \n",
    "        for friend in df.iloc[i][\"friends\"]:\n",
    "            #if str(friend[\"appid\"]) in game_id_set:\n",
    "            #    game.update({\"steamid\":df.iloc[i].name})\n",
    "            #else:\n",
    "                #df.iloc[i][\"game_info\"].remove(game)\n",
    "            friend.update({\"uid\":df.iloc[i].name})\n",
    "    \n",
    "    full_friend_df = pd.DataFrame()\n",
    "    for user in df[\"friends\"]:\n",
    "        frienddf = pd.DataFrame(user)\n",
    "        full_friend_df = full_friend_df.append(frienddf)\n",
    "    \n",
    "    #if pivot:\n",
    "    #    full_gamedf = pd.pivot_table(full_gamedf, index=\"steamid\", columns=[\"appid\"], values=\"playtime_forever\", fill_value=0)\n",
    "    return full_friend_df"
   ]
  },
  {
   "cell_type": "code",
   "execution_count": 757,
   "metadata": {
    "collapsed": false
   },
   "outputs": [],
   "source": [
    "large_friends = friends_users_list(friends)"
   ]
  },
  {
   "cell_type": "code",
   "execution_count": 775,
   "metadata": {
    "collapsed": false
   },
   "outputs": [
    {
     "data": {
      "text/plain": [
       "237"
      ]
     },
     "execution_count": 775,
     "metadata": {},
     "output_type": "execute_result"
    }
   ],
   "source": [
    "len(large_friends[large_friends[\"friend_since\"] == 0][\"steamid\"].unique())"
   ]
  },
  {
   "cell_type": "code",
   "execution_count": null,
   "metadata": {
    "collapsed": true
   },
   "outputs": [],
   "source": []
  },
  {
   "cell_type": "code",
   "execution_count": 767,
   "metadata": {
    "collapsed": true
   },
   "outputs": [],
   "source": [
    "friendship_length = (calendar.timegm(time.gmtime()) - longest_frienship)/(3600*24*360.)"
   ]
  },
  {
   "cell_type": "code",
   "execution_count": 768,
   "metadata": {
    "collapsed": false
   },
   "outputs": [
    {
     "data": {
      "text/plain": [
       "7.7078130787037038"
      ]
     },
     "execution_count": 768,
     "metadata": {},
     "output_type": "execute_result"
    }
   ],
   "source": [
    "friendship_length"
   ]
  },
  {
   "cell_type": "code",
   "execution_count": null,
   "metadata": {
    "collapsed": true
   },
   "outputs": [],
   "source": []
  },
  {
   "cell_type": "code",
   "execution_count": 755,
   "metadata": {
    "collapsed": false
   },
   "outputs": [
    {
     "data": {
      "text/plain": [
       "[{u'friend_since': 1432449524, u'steamid': u'76561197981918203'},\n",
       " {u'friend_since': 0, u'steamid': u'76561197981918203'},\n",
       " {u'friend_since': 1357182390, u'steamid': u'76561197981918203'},\n",
       " {u'friend_since': 1432450611, u'steamid': u'76561197981918203'},\n",
       " {u'friend_since': 1436389663, u'steamid': u'76561197981918203'},\n",
       " {u'friend_since': 1357546821, u'steamid': u'76561197981918203'},\n",
       " {u'friend_since': 1435389806, u'steamid': u'76561197981918203'},\n",
       " {u'friend_since': 1435391977, u'steamid': u'76561197981918203'},\n",
       " {u'friend_since': 1419568101, u'steamid': u'76561197981918203'}]"
      ]
     },
     "execution_count": 755,
     "metadata": {},
     "output_type": "execute_result"
    }
   ],
   "source": [
    "[friend for friend in friends.iloc[0][\"friends\"]]"
   ]
  },
  {
   "cell_type": "code",
   "execution_count": 208,
   "metadata": {
    "collapsed": false
   },
   "outputs": [],
   "source": [
    "def popular_game_set(df):\n",
    "    \"\"\"\n",
    "    Pull out only game appids from 'game_info' whose global \n",
    "    forever_playtime is above the average glabal playtime, \n",
    "    reducing the number of apps about 90%\n",
    "    \n",
    "    Parameters\n",
    "    ----------\n",
    "    df : Pandas DataFrame\n",
    "        DataFrame with column 'game_info', containing\n",
    "        a list of dictionaries\n",
    "         \n",
    "    Returns\n",
    "    -------\n",
    "    popular_games : set\n",
    "        Set of game appids whose global playtime is \n",
    "        above the average global playtime\n",
    "    \"\"\"\n",
    "    # Collect the appid and global playtime for each game\n",
    "    # That all users have played\n",
    "    \n",
    "    summed = Counter({})\n",
    "    for user in df[\"game_info\"]:\n",
    "        gametime = Counter({})\n",
    "        for game in user:\n",
    "            gametime[str(game[\"appid\"])] = game[\"playtime_forever\"]\n",
    "            if game[\"appid\"] not in summed.keys():\n",
    "                summed.update(gametime)\n",
    "        summed += gametime\n",
    "        \n",
    "    global_averages = int(np.mean(summed.values()))\n",
    "    \n",
    "    # Condense into a set of popular appids\n",
    "    \n",
    "    popular_games = set()\n",
    "    for k, v in summed.iteritems():\n",
    "        if v >= global_averages:\n",
    "            popular_games.add(k)\n",
    "    \n",
    "    return popular_games"
   ]
  },
  {
   "cell_type": "code",
   "execution_count": 220,
   "metadata": {
    "collapsed": false
   },
   "outputs": [],
   "source": [
    "popular_games = popular_game_set(public_df)"
   ]
  },
  {
   "cell_type": "code",
   "execution_count": 328,
   "metadata": {
    "collapsed": false
   },
   "outputs": [
    {
     "data": {
      "text/html": [
       "<div>\n",
       "<table border=\"1\" class=\"dataframe\">\n",
       "  <thead>\n",
       "    <tr style=\"text-align: right;\">\n",
       "      <th></th>\n",
       "      <th>steamid</th>\n",
       "      <th>game_info</th>\n",
       "    </tr>\n",
       "  </thead>\n",
       "  <tbody>\n",
       "    <tr>\n",
       "      <th>0</th>\n",
       "      <td>76561197981918203</td>\n",
       "      <td>[{u'steamid': u'76561197981918203', u'playtime...</td>\n",
       "    </tr>\n",
       "    <tr>\n",
       "      <th>1</th>\n",
       "      <td>76561197993408842</td>\n",
       "      <td>[{u'steamid': u'76561197993408842', u'playtime...</td>\n",
       "    </tr>\n",
       "    <tr>\n",
       "      <th>2</th>\n",
       "      <td>76561198042305043</td>\n",
       "      <td>[{u'playtime_forever': 84, u'playtime_2weeks':...</td>\n",
       "    </tr>\n",
       "    <tr>\n",
       "      <th>4</th>\n",
       "      <td>76561197980092471</td>\n",
       "      <td>[{u'playtime_forever': 246, u'playtime_2weeks'...</td>\n",
       "    </tr>\n",
       "    <tr>\n",
       "      <th>5</th>\n",
       "      <td>76561198202663196</td>\n",
       "      <td>[{u'playtime_forever': 1, u'playtime_2weeks': ...</td>\n",
       "    </tr>\n",
       "  </tbody>\n",
       "</table>\n",
       "</div>"
      ],
      "text/plain": [
       "             steamid                                          game_info\n",
       "0  76561197981918203  [{u'steamid': u'76561197981918203', u'playtime...\n",
       "1  76561197993408842  [{u'steamid': u'76561197993408842', u'playtime...\n",
       "2  76561198042305043  [{u'playtime_forever': 84, u'playtime_2weeks':...\n",
       "4  76561197980092471  [{u'playtime_forever': 246, u'playtime_2weeks'...\n",
       "5  76561198202663196  [{u'playtime_forever': 1, u'playtime_2weeks': ..."
      ]
     },
     "execution_count": 328,
     "metadata": {},
     "output_type": "execute_result"
    }
   ],
   "source": [
    "games = public_df.copy()\n",
    "games = games[[\"steamid\", \"game_info\"]]\n",
    "#games = games.set_index(\"steamid\")\n",
    "games.head()"
   ]
  },
  {
   "cell_type": "markdown",
   "metadata": {},
   "source": [
    "# Pivot Table"
   ]
  },
  {
   "cell_type": "code",
   "execution_count": 628,
   "metadata": {
    "collapsed": false
   },
   "outputs": [],
   "source": [
    "def games_users_list(df, game_id_set, pivot=False):\n",
    "    \"\"\"\n",
    "    Assumes a df with public non-null values in the form:\n",
    "    |   |steamid          |game_info        |\n",
    "    +---+-----------------+-----------------+\n",
    "    |0  |76561197967398882|[{u'playt...},{}]|\n",
    "    \n",
    "    Returns a pivoted data fram where each row is\n",
    "    'steamid', the columns are game names, and the \n",
    "    values are 'playtime_forever' (default) or \n",
    "    'playtime_2weeks'\n",
    "    \"\"\"\n",
    "    df = df.set_index(\"steamid\")\n",
    "    for i in xrange(len(df)):\n",
    "        \n",
    "        #[game.update({\"steamid\":df.iloc[i].name})\\\n",
    "        #           for game in df.iloc[i][\"game_info\"]\\\n",
    "        #           if str(game[\"appid\"]) in game_id_set]\n",
    "        \n",
    "        for game in df.iloc[i][\"game_info\"]:\n",
    "            if str(game[\"appid\"]) in game_id_set:\n",
    "                game.update({\"steamid\":df.iloc[i].name})\n",
    "            else:\n",
    "                df.iloc[i][\"game_info\"].remove(game)\n",
    "    \n",
    "    full_gamedf = pd.DataFrame()\n",
    "    for user in df[\"game_info\"]:\n",
    "        gamedf = pd.DataFrame(user)\n",
    "        full_gamedf = full_gamedf.append(gamedf)\n",
    "    \n",
    "    if pivot:\n",
    "        full_gamedf = pd.pivot_table(full_gamedf, index=\"steamid\", columns=[\"appid\"], values=\"playtime_forever\", fill_value=0)\n",
    "    return full_gamedf"
   ]
  },
  {
   "cell_type": "code",
   "execution_count": 352,
   "metadata": {
    "collapsed": false
   },
   "outputs": [
    {
     "data": {
      "text/html": [
       "<div>\n",
       "<table border=\"1\" class=\"dataframe\">\n",
       "  <thead>\n",
       "    <tr>\n",
       "      <th></th>\n",
       "      <th colspan=\"21\" halign=\"left\">playtime_forever</th>\n",
       "    </tr>\n",
       "    <tr>\n",
       "      <th>appid</th>\n",
       "      <th>10</th>\n",
       "      <th>70</th>\n",
       "      <th>220</th>\n",
       "      <th>240</th>\n",
       "      <th>280</th>\n",
       "      <th>300</th>\n",
       "      <th>380</th>\n",
       "      <th>400</th>\n",
       "      <th>420</th>\n",
       "      <th>440</th>\n",
       "      <th>...</th>\n",
       "      <th>300550</th>\n",
       "      <th>301520</th>\n",
       "      <th>304030</th>\n",
       "      <th>304930</th>\n",
       "      <th>322330</th>\n",
       "      <th>346110</th>\n",
       "      <th>346900</th>\n",
       "      <th>359320</th>\n",
       "      <th>363970</th>\n",
       "      <th>377160</th>\n",
       "    </tr>\n",
       "    <tr>\n",
       "      <th>steamid</th>\n",
       "      <th></th>\n",
       "      <th></th>\n",
       "      <th></th>\n",
       "      <th></th>\n",
       "      <th></th>\n",
       "      <th></th>\n",
       "      <th></th>\n",
       "      <th></th>\n",
       "      <th></th>\n",
       "      <th></th>\n",
       "      <th></th>\n",
       "      <th></th>\n",
       "      <th></th>\n",
       "      <th></th>\n",
       "      <th></th>\n",
       "      <th></th>\n",
       "      <th></th>\n",
       "      <th></th>\n",
       "      <th></th>\n",
       "      <th></th>\n",
       "      <th></th>\n",
       "    </tr>\n",
       "  </thead>\n",
       "  <tbody>\n",
       "    <tr>\n",
       "      <th>76561197960273048</th>\n",
       "      <td>2337</td>\n",
       "      <td>0</td>\n",
       "      <td>0</td>\n",
       "      <td>1076</td>\n",
       "      <td>0</td>\n",
       "      <td>0</td>\n",
       "      <td>0</td>\n",
       "      <td>38</td>\n",
       "      <td>265</td>\n",
       "      <td>3873</td>\n",
       "      <td>...</td>\n",
       "      <td>0</td>\n",
       "      <td>0</td>\n",
       "      <td>0</td>\n",
       "      <td>211</td>\n",
       "      <td>0</td>\n",
       "      <td>0</td>\n",
       "      <td>0</td>\n",
       "      <td>0</td>\n",
       "      <td>0</td>\n",
       "      <td>0</td>\n",
       "    </tr>\n",
       "    <tr>\n",
       "      <th>76561197960277603</th>\n",
       "      <td>230</td>\n",
       "      <td>0</td>\n",
       "      <td>0</td>\n",
       "      <td>809</td>\n",
       "      <td>0</td>\n",
       "      <td>151</td>\n",
       "      <td>0</td>\n",
       "      <td>7</td>\n",
       "      <td>0</td>\n",
       "      <td>326971</td>\n",
       "      <td>...</td>\n",
       "      <td>0</td>\n",
       "      <td>0</td>\n",
       "      <td>0</td>\n",
       "      <td>0</td>\n",
       "      <td>0</td>\n",
       "      <td>0</td>\n",
       "      <td>0</td>\n",
       "      <td>0</td>\n",
       "      <td>0</td>\n",
       "      <td>0</td>\n",
       "    </tr>\n",
       "    <tr>\n",
       "      <th>76561197960281410</th>\n",
       "      <td>0</td>\n",
       "      <td>0</td>\n",
       "      <td>0</td>\n",
       "      <td>0</td>\n",
       "      <td>0</td>\n",
       "      <td>82</td>\n",
       "      <td>259</td>\n",
       "      <td>5</td>\n",
       "      <td>395</td>\n",
       "      <td>0</td>\n",
       "      <td>...</td>\n",
       "      <td>0</td>\n",
       "      <td>5183</td>\n",
       "      <td>0</td>\n",
       "      <td>42</td>\n",
       "      <td>0</td>\n",
       "      <td>0</td>\n",
       "      <td>0</td>\n",
       "      <td>0</td>\n",
       "      <td>0</td>\n",
       "      <td>0</td>\n",
       "    </tr>\n",
       "    <tr>\n",
       "      <th>76561197960282871</th>\n",
       "      <td>46</td>\n",
       "      <td>0</td>\n",
       "      <td>0</td>\n",
       "      <td>1815</td>\n",
       "      <td>0</td>\n",
       "      <td>62</td>\n",
       "      <td>0</td>\n",
       "      <td>66</td>\n",
       "      <td>385</td>\n",
       "      <td>166</td>\n",
       "      <td>...</td>\n",
       "      <td>54</td>\n",
       "      <td>0</td>\n",
       "      <td>0</td>\n",
       "      <td>0</td>\n",
       "      <td>0</td>\n",
       "      <td>372</td>\n",
       "      <td>0</td>\n",
       "      <td>27</td>\n",
       "      <td>29</td>\n",
       "      <td>0</td>\n",
       "    </tr>\n",
       "    <tr>\n",
       "      <th>76561197960303286</th>\n",
       "      <td>126</td>\n",
       "      <td>0</td>\n",
       "      <td>22</td>\n",
       "      <td>60</td>\n",
       "      <td>0</td>\n",
       "      <td>0</td>\n",
       "      <td>0</td>\n",
       "      <td>119</td>\n",
       "      <td>0</td>\n",
       "      <td>4452</td>\n",
       "      <td>...</td>\n",
       "      <td>0</td>\n",
       "      <td>0</td>\n",
       "      <td>0</td>\n",
       "      <td>0</td>\n",
       "      <td>0</td>\n",
       "      <td>0</td>\n",
       "      <td>83</td>\n",
       "      <td>198</td>\n",
       "      <td>0</td>\n",
       "      <td>0</td>\n",
       "    </tr>\n",
       "  </tbody>\n",
       "</table>\n",
       "<p>5 rows × 378 columns</p>\n",
       "</div>"
      ],
      "text/plain": [
       "                  playtime_forever                                            \\\n",
       "appid                       10     70     220    240    280    300    380      \n",
       "steamid                                                                        \n",
       "76561197960273048             2337      0      0   1076      0      0      0   \n",
       "76561197960277603              230      0      0    809      0    151      0   \n",
       "76561197960281410                0      0      0      0      0     82    259   \n",
       "76561197960282871               46      0      0   1815      0     62      0   \n",
       "76561197960303286              126      0     22     60      0      0      0   \n",
       "\n",
       "                                         ...                                \\\n",
       "appid             400    420     440     ...   300550 301520 304030 304930   \n",
       "steamid                                  ...                                 \n",
       "76561197960273048     38    265    3873  ...        0      0      0    211   \n",
       "76561197960277603      7      0  326971  ...        0      0      0      0   \n",
       "76561197960281410      5    395       0  ...        0   5183      0     42   \n",
       "76561197960282871     66    385     166  ...       54      0      0      0   \n",
       "76561197960303286    119      0    4452  ...        0      0      0      0   \n",
       "\n",
       "                                                             \n",
       "appid             322330 346110 346900 359320 363970 377160  \n",
       "steamid                                                      \n",
       "76561197960273048      0      0      0      0      0      0  \n",
       "76561197960277603      0      0      0      0      0      0  \n",
       "76561197960281410      0      0      0      0      0      0  \n",
       "76561197960282871      0    372      0     27     29      0  \n",
       "76561197960303286      0      0     83    198      0      0  \n",
       "\n",
       "[5 rows x 378 columns]"
      ]
     },
     "execution_count": 352,
     "metadata": {},
     "output_type": "execute_result"
    }
   ],
   "source": [
    "games_matrix = sparse_games(games, popular_games)\n",
    "games_matrix.head()"
   ]
  },
  {
   "cell_type": "markdown",
   "metadata": {},
   "source": [
    "# Bin columns based on playtime\n",
    "* ### Add a weight for profile age?\n",
    "\n",
    "\n",
    "|playtime [min]|     rating     |\n",
    "|--------------|----------------|\n",
    "|    0         |      0         |\n",
    "|    1-60      |      1         |\n",
    "|    61-120    |      2         |\n",
    "|    121-600   |      3         |\n",
    "|    601-1200  |      4         |\n",
    "|    1201 +    |      5         |\n",
    "`pandas.cut(x, bins, right=True, labels=None, retbins=False, precision=3, include_lowest=False)`"
   ]
  },
  {
   "cell_type": "code",
   "execution_count": 475,
   "metadata": {
    "collapsed": false
   },
   "outputs": [],
   "source": [
    "profile_length = (calendar.timegm(time.gmtime()) - public_df[\"timecreated\"])/(3600*24*365) # In years"
   ]
  },
  {
   "cell_type": "code",
   "execution_count": 500,
   "metadata": {
    "collapsed": false
   },
   "outputs": [
    {
     "data": {
      "image/png": "[encoded data removed]",
      "text/plain": [
       "<matplotlib.figure.Figure at 0x126df1f50>"
      ]
     },
     "metadata": {},
     "output_type": "display_data"
    }
   ],
   "source": [
    "plt.figure(figsize=(9,7))\n",
    "plt.hist(profile_length, bins=15, color='c')\n",
    "plt.ylabel(\"Frequency\", fontsize=15)\n",
    "plt.vlines(profile_length.mean(), 0, 70, lw=2, alpha=0.5,\\\n",
    "           label=\"Average: {} years\".format(round(profile_length.mean(),1)))\n",
    "plt.xlabel(\"Time [years]\", fontsize=15)\n",
    "plt.title(\"Profile Length of 550 Users\", fontsize=20)\n",
    "plt.legend(loc=\"upper left\", prop={\"size\":12})\n",
    "plt.show()"
   ]
  },
  {
   "cell_type": "code",
   "execution_count": 455,
   "metadata": {
    "collapsed": false
   },
   "outputs": [],
   "source": [
    "dota2 = games_matrix.playtime_forever[570]\n",
    "csgo = games_matrix.playtime_forever[730]\n",
    "skyrim = games_matrix.playtime_forever[72850]\n",
    "tf2 = games_matrix.playtime_forever[440]"
   ]
  },
  {
   "cell_type": "code",
   "execution_count": 456,
   "metadata": {
    "collapsed": false
   },
   "outputs": [],
   "source": [
    "dota2_vals = pd.cut(dota2, bins=[-1, 0, 60, 120, 600, 1200, 10e10], labels=[0,1,2,3,4,5]).value_counts()\n",
    "csgo_vals = pd.cut(csgo, bins=[-1, 0, 60, 120, 600, 1200, 10e10], labels=[0,1,2,3,4,5]).value_counts()\n",
    "skyrim_vals = pd.cut(skyrim, bins=[-1, 0, 60, 120, 600, 1200, 10e10], labels=[0,1,2,3,4,5]).value_counts()\n",
    "tf2_vals = pd.cut(tf2, bins=[-1, 0, 60, 120, 600, 1200, 10e10], labels=[0,1,2,3,4,5]).value_counts()#, labels=[0,1,2,3,4,5]"
   ]
  },
  {
   "cell_type": "code",
   "execution_count": 502,
   "metadata": {
    "collapsed": false,
    "scrolled": true
   },
   "outputs": [
    {
     "data": {
      "image/png": "[encoded data removed]",
      "text/plain": [
       "<matplotlib.figure.Figure at 0x120bc3950>"
      ]
     },
     "metadata": {},
     "output_type": "display_data"
    }
   ],
   "source": [
    "plt.figure(figsize=(9,7))\n",
    "ax = plt.subplot(111)\n",
    "ax.bar(np.array(dota2_vals.index)-0.3, dota2_vals.values, width=0.2, align=\"center\", alpha=0.7, color='b', label=\"Dota 2\")\n",
    "ax.bar(np.array(skyrim_vals.index)+0.3, skyrim_vals.values, width=0.2, align=\"center\", alpha=0.7, color='g', label=\"Skyrim\")\n",
    "ax.bar(np.array(csgo_vals.index)-0.1, csgo_vals.values, width=0.2, align=\"center\", alpha=0.7, color='r', label=\"CS:GO\")\n",
    "ax.bar(np.array(tf2_vals.index)+0.1, tf2_vals.values, width=0.2, align=\"center\", alpha=0.7, color='c', label=\"TF2 (free)\")\n",
    "ax.legend(loc=\"upper right\", prop={'size':20})\n",
    "plt.ylabel(\"Frequency\", fontsize=15)\n",
    "plt.xlabel(\"Rating\", fontsize=15)\n",
    "plt.title(\"Playtime to Rating Conversion\", fontsize=20)\n",
    "plt.show()"
   ]
  },
  {
   "cell_type": "code",
   "execution_count": 522,
   "metadata": {
    "collapsed": false
   },
   "outputs": [],
   "source": [
    "adjusted_games = games_matrix.copy()"
   ]
  },
  {
   "cell_type": "code",
   "execution_count": null,
   "metadata": {
    "collapsed": true
   },
   "outputs": [],
   "source": []
  },
  {
   "cell_type": "code",
   "execution_count": 578,
   "metadata": {
    "collapsed": false
   },
   "outputs": [],
   "source": [
    "game_ratings = pd.DataFrame()\n",
    "for col in adjusted_games[\"playtime_forever\"]:\n",
    "    adjusted_column = pd.cut(adjusted_games[\"playtime_forever\"][col],\\\n",
    "                                              bins=[-1, 0, 60, 120, 600, 1200, 10e10],\\\n",
    "                                              labels=[0,1,2,3,4,5])\n",
    "    game_ratings[col] = adjusted_column"
   ]
  },
  {
   "cell_type": "code",
   "execution_count": 585,
   "metadata": {
    "collapsed": false
   },
   "outputs": [
    {
     "data": {
      "text/html": [
       "<div>\n",
       "<table border=\"1\" class=\"dataframe\">\n",
       "  <thead>\n",
       "    <tr style=\"text-align: right;\">\n",
       "      <th></th>\n",
       "      <th>10</th>\n",
       "      <th>70</th>\n",
       "      <th>220</th>\n",
       "      <th>240</th>\n",
       "      <th>280</th>\n",
       "      <th>300</th>\n",
       "      <th>380</th>\n",
       "      <th>400</th>\n",
       "      <th>420</th>\n",
       "      <th>440</th>\n",
       "      <th>...</th>\n",
       "      <th>300550</th>\n",
       "      <th>301520</th>\n",
       "      <th>304030</th>\n",
       "      <th>304930</th>\n",
       "      <th>322330</th>\n",
       "      <th>346110</th>\n",
       "      <th>346900</th>\n",
       "      <th>359320</th>\n",
       "      <th>363970</th>\n",
       "      <th>377160</th>\n",
       "    </tr>\n",
       "    <tr>\n",
       "      <th>steamid</th>\n",
       "      <th></th>\n",
       "      <th></th>\n",
       "      <th></th>\n",
       "      <th></th>\n",
       "      <th></th>\n",
       "      <th></th>\n",
       "      <th></th>\n",
       "      <th></th>\n",
       "      <th></th>\n",
       "      <th></th>\n",
       "      <th></th>\n",
       "      <th></th>\n",
       "      <th></th>\n",
       "      <th></th>\n",
       "      <th></th>\n",
       "      <th></th>\n",
       "      <th></th>\n",
       "      <th></th>\n",
       "      <th></th>\n",
       "      <th></th>\n",
       "      <th></th>\n",
       "    </tr>\n",
       "  </thead>\n",
       "  <tbody>\n",
       "    <tr>\n",
       "      <th>76561197960273048</th>\n",
       "      <td>5</td>\n",
       "      <td>0</td>\n",
       "      <td>0</td>\n",
       "      <td>4</td>\n",
       "      <td>0</td>\n",
       "      <td>0</td>\n",
       "      <td>0</td>\n",
       "      <td>1</td>\n",
       "      <td>3</td>\n",
       "      <td>5</td>\n",
       "      <td>...</td>\n",
       "      <td>0</td>\n",
       "      <td>0</td>\n",
       "      <td>0</td>\n",
       "      <td>3</td>\n",
       "      <td>0</td>\n",
       "      <td>0</td>\n",
       "      <td>0</td>\n",
       "      <td>0</td>\n",
       "      <td>0</td>\n",
       "      <td>0</td>\n",
       "    </tr>\n",
       "    <tr>\n",
       "      <th>76561197960277603</th>\n",
       "      <td>3</td>\n",
       "      <td>0</td>\n",
       "      <td>0</td>\n",
       "      <td>4</td>\n",
       "      <td>0</td>\n",
       "      <td>3</td>\n",
       "      <td>0</td>\n",
       "      <td>1</td>\n",
       "      <td>0</td>\n",
       "      <td>5</td>\n",
       "      <td>...</td>\n",
       "      <td>0</td>\n",
       "      <td>0</td>\n",
       "      <td>0</td>\n",
       "      <td>0</td>\n",
       "      <td>0</td>\n",
       "      <td>0</td>\n",
       "      <td>0</td>\n",
       "      <td>0</td>\n",
       "      <td>0</td>\n",
       "      <td>0</td>\n",
       "    </tr>\n",
       "    <tr>\n",
       "      <th>76561197960281410</th>\n",
       "      <td>0</td>\n",
       "      <td>0</td>\n",
       "      <td>0</td>\n",
       "      <td>0</td>\n",
       "      <td>0</td>\n",
       "      <td>2</td>\n",
       "      <td>3</td>\n",
       "      <td>1</td>\n",
       "      <td>3</td>\n",
       "      <td>0</td>\n",
       "      <td>...</td>\n",
       "      <td>0</td>\n",
       "      <td>5</td>\n",
       "      <td>0</td>\n",
       "      <td>1</td>\n",
       "      <td>0</td>\n",
       "      <td>0</td>\n",
       "      <td>0</td>\n",
       "      <td>0</td>\n",
       "      <td>0</td>\n",
       "      <td>0</td>\n",
       "    </tr>\n",
       "    <tr>\n",
       "      <th>76561197960282871</th>\n",
       "      <td>1</td>\n",
       "      <td>0</td>\n",
       "      <td>0</td>\n",
       "      <td>5</td>\n",
       "      <td>0</td>\n",
       "      <td>2</td>\n",
       "      <td>0</td>\n",
       "      <td>2</td>\n",
       "      <td>3</td>\n",
       "      <td>3</td>\n",
       "      <td>...</td>\n",
       "      <td>1</td>\n",
       "      <td>0</td>\n",
       "      <td>0</td>\n",
       "      <td>0</td>\n",
       "      <td>0</td>\n",
       "      <td>3</td>\n",
       "      <td>0</td>\n",
       "      <td>1</td>\n",
       "      <td>1</td>\n",
       "      <td>0</td>\n",
       "    </tr>\n",
       "    <tr>\n",
       "      <th>76561197960303286</th>\n",
       "      <td>3</td>\n",
       "      <td>0</td>\n",
       "      <td>1</td>\n",
       "      <td>1</td>\n",
       "      <td>0</td>\n",
       "      <td>0</td>\n",
       "      <td>0</td>\n",
       "      <td>2</td>\n",
       "      <td>0</td>\n",
       "      <td>5</td>\n",
       "      <td>...</td>\n",
       "      <td>0</td>\n",
       "      <td>0</td>\n",
       "      <td>0</td>\n",
       "      <td>0</td>\n",
       "      <td>0</td>\n",
       "      <td>0</td>\n",
       "      <td>2</td>\n",
       "      <td>3</td>\n",
       "      <td>0</td>\n",
       "      <td>0</td>\n",
       "    </tr>\n",
       "  </tbody>\n",
       "</table>\n",
       "<p>5 rows × 378 columns</p>\n",
       "</div>"
      ],
      "text/plain": [
       "                  10     70     220    240    280    300    380    400     \\\n",
       "steamid                                                                     \n",
       "76561197960273048      5      0      0      4      0      0      0      1   \n",
       "76561197960277603      3      0      0      4      0      3      0      1   \n",
       "76561197960281410      0      0      0      0      0      2      3      1   \n",
       "76561197960282871      1      0      0      5      0      2      0      2   \n",
       "76561197960303286      3      0      1      1      0      0      0      2   \n",
       "\n",
       "                  420    440     ...   300550 301520 304030 304930 322330  \\\n",
       "steamid                          ...                                        \n",
       "76561197960273048      3      5  ...        0      0      0      3      0   \n",
       "76561197960277603      0      5  ...        0      0      0      0      0   \n",
       "76561197960281410      3      0  ...        0      5      0      1      0   \n",
       "76561197960282871      3      3  ...        1      0      0      0      0   \n",
       "76561197960303286      0      5  ...        0      0      0      0      0   \n",
       "\n",
       "                  346110 346900 359320 363970 377160  \n",
       "steamid                                               \n",
       "76561197960273048      0      0      0      0      0  \n",
       "76561197960277603      0      0      0      0      0  \n",
       "76561197960281410      0      0      0      0      0  \n",
       "76561197960282871      3      0      1      1      0  \n",
       "76561197960303286      0      2      3      0      0  \n",
       "\n",
       "[5 rows x 378 columns]"
      ]
     },
     "execution_count": 585,
     "metadata": {},
     "output_type": "execute_result"
    }
   ],
   "source": [
    "game_ratings.head()"
   ]
  },
  {
   "cell_type": "markdown",
   "metadata": {},
   "source": [
    "# Attempted Modeling?\n",
    "```python\n",
    "item_similarity_recommender\n",
    "factorization_recommender\n",
    "item_similarity_recommender\n",
    "ranking_factorization_recommender\n",
    "\n",
    "data = graphlab.SFrame({'user_id': [\"Ann\", \"Ann\", \"Ann\", \"Brian\", \"Brian\", \"Brian\"],\n",
    "                          'item_id': [\"Item1\", \"Item2\", \"Item4\", \"Item2\", \"Item3\", \"Item5\"],\n",
    "                          'rating': [1, 3, 2, 5, 4, 2]})\n",
    "m = graphlab.factorization_recommender.create(data, target='rating')\n",
    "\n",
    "recommendations = m.recommend()\n",
    "```\n",
    "### [GraphLab - Choosing a model](https://dato.com/learn/userguide/recommender/choosing-a-model.html)"
   ]
  },
  {
   "cell_type": "code",
   "execution_count": 695,
   "metadata": {
    "collapsed": false
   },
   "outputs": [
    {
     "data": {
      "text/html": [
       "<div>\n",
       "<table border=\"1\" class=\"dataframe\">\n",
       "  <thead>\n",
       "    <tr style=\"text-align: right;\">\n",
       "      <th></th>\n",
       "      <th>appid</th>\n",
       "      <th>name</th>\n",
       "      <th>playtime_2weeks</th>\n",
       "      <th>playtime_forever</th>\n",
       "      <th>steamid</th>\n",
       "      <th>ratings_forever</th>\n",
       "      <th>ratings_2weeks</th>\n",
       "    </tr>\n",
       "  </thead>\n",
       "  <tbody>\n",
       "    <tr>\n",
       "      <th>10</th>\n",
       "      <td>295110</td>\n",
       "      <td>H1Z1: Just Survive</td>\n",
       "      <td>0</td>\n",
       "      <td>973</td>\n",
       "      <td>76561198129253664</td>\n",
       "      <td>4</td>\n",
       "      <td>0</td>\n",
       "    </tr>\n",
       "    <tr>\n",
       "      <th>11</th>\n",
       "      <td>304930</td>\n",
       "      <td>Unturned</td>\n",
       "      <td>0</td>\n",
       "      <td>586</td>\n",
       "      <td>76561198129253664</td>\n",
       "      <td>3</td>\n",
       "      <td>0</td>\n",
       "    </tr>\n",
       "    <tr>\n",
       "      <th>12</th>\n",
       "      <td>730</td>\n",
       "      <td>Counter-Strike: Global Offensive</td>\n",
       "      <td>0</td>\n",
       "      <td>12696</td>\n",
       "      <td>76561198129253664</td>\n",
       "      <td>5</td>\n",
       "      <td>0</td>\n",
       "    </tr>\n",
       "    <tr>\n",
       "      <th>13</th>\n",
       "      <td>346110</td>\n",
       "      <td>ARK: Survival Evolved</td>\n",
       "      <td>0</td>\n",
       "      <td>502</td>\n",
       "      <td>76561198129253664</td>\n",
       "      <td>3</td>\n",
       "      <td>0</td>\n",
       "    </tr>\n",
       "    <tr>\n",
       "      <th>14</th>\n",
       "      <td>570</td>\n",
       "      <td>Dota 2</td>\n",
       "      <td>0</td>\n",
       "      <td>11</td>\n",
       "      <td>76561198129253664</td>\n",
       "      <td>1</td>\n",
       "      <td>0</td>\n",
       "    </tr>\n",
       "  </tbody>\n",
       "</table>\n",
       "</div>"
      ],
      "text/plain": [
       "     appid                              name  playtime_2weeks  \\\n",
       "10  295110                H1Z1: Just Survive                0   \n",
       "11  304930                          Unturned                0   \n",
       "12     730  Counter-Strike: Global Offensive                0   \n",
       "13  346110             ARK: Survival Evolved                0   \n",
       "14     570                            Dota 2                0   \n",
       "\n",
       "    playtime_forever            steamid ratings_forever ratings_2weeks  \n",
       "10               973  76561198129253664               4              0  \n",
       "11               586  76561198129253664               3              0  \n",
       "12             12696  76561198129253664               5              0  \n",
       "13               502  76561198129253664               3              0  \n",
       "14                11  76561198129253664               1              0  "
      ]
     },
     "execution_count": 695,
     "metadata": {},
     "output_type": "execute_result"
    }
   ],
   "source": [
    "games_users_ratings.tail()"
   ]
  },
  {
   "cell_type": "code",
   "execution_count": 696,
   "metadata": {
    "collapsed": true
   },
   "outputs": [],
   "source": [
    "gl_data = gl.SFrame({'user_id': games_users_ratings[\"steamid\"],\n",
    "                          'item_id': games_users_ratings[\"appid\"],\n",
    "                          'rating': games_users_ratings[\"ratings_forever\"]})"
   ]
  },
  {
   "cell_type": "code",
   "execution_count": 697,
   "metadata": {
    "collapsed": false
   },
   "outputs": [
    {
     "data": {
      "text/html": [
       "<pre>Recsys training: model = factorization_recommender</pre>"
      ],
      "text/plain": [
       "Recsys training: model = factorization_recommender"
      ]
     },
     "metadata": {},
     "output_type": "display_data"
    },
    {
     "data": {
      "text/html": [
       "<pre>Preparing data set.</pre>"
      ],
      "text/plain": [
       "Preparing data set."
      ]
     },
     "metadata": {},
     "output_type": "display_data"
    },
    {
     "data": {
      "text/html": [
       "<pre>    Data has 29288 observations with 543 users and 378 items.</pre>"
      ],
      "text/plain": [
       "    Data has 29288 observations with 543 users and 378 items."
      ]
     },
     "metadata": {},
     "output_type": "display_data"
    },
    {
     "data": {
      "text/html": [
       "<pre>    Data prepared in: 0.131871s</pre>"
      ],
      "text/plain": [
       "    Data prepared in: 0.131871s"
      ]
     },
     "metadata": {},
     "output_type": "display_data"
    },
    {
     "data": {
      "text/html": [
       "<pre>Training factorization_recommender for recommendations.</pre>"
      ],
      "text/plain": [
       "Training factorization_recommender for recommendations."
      ]
     },
     "metadata": {},
     "output_type": "display_data"
    },
    {
     "data": {
      "text/html": [
       "<pre>+--------------------------------+--------------------------------------------------+----------+</pre>"
      ],
      "text/plain": [
       "+--------------------------------+--------------------------------------------------+----------+"
      ]
     },
     "metadata": {},
     "output_type": "display_data"
    },
    {
     "data": {
      "text/html": [
       "<pre>| Parameter                      | Description                                      | Value    |</pre>"
      ],
      "text/plain": [
       "| Parameter                      | Description                                      | Value    |"
      ]
     },
     "metadata": {},
     "output_type": "display_data"
    },
    {
     "data": {
      "text/html": [
       "<pre>+--------------------------------+--------------------------------------------------+----------+</pre>"
      ],
      "text/plain": [
       "+--------------------------------+--------------------------------------------------+----------+"
      ]
     },
     "metadata": {},
     "output_type": "display_data"
    },
    {
     "data": {
      "text/html": [
       "<pre>| num_factors                    | Factor Dimension                                 | 8        |</pre>"
      ],
      "text/plain": [
       "| num_factors                    | Factor Dimension                                 | 8        |"
      ]
     },
     "metadata": {},
     "output_type": "display_data"
    },
    {
     "data": {
      "text/html": [
       "<pre>| regularization                 | L2 Regularization on Factors                     | 1e-08    |</pre>"
      ],
      "text/plain": [
       "| regularization                 | L2 Regularization on Factors                     | 1e-08    |"
      ]
     },
     "metadata": {},
     "output_type": "display_data"
    },
    {
     "data": {
      "text/html": [
       "<pre>| solver                         | Solver used for training                         | sgd      |</pre>"
      ],
      "text/plain": [
       "| solver                         | Solver used for training                         | sgd      |"
      ]
     },
     "metadata": {},
     "output_type": "display_data"
    },
    {
     "data": {
      "text/html": [
       "<pre>| linear_regularization          | L2 Regularization on Linear Coefficients         | 1e-10    |</pre>"
      ],
      "text/plain": [
       "| linear_regularization          | L2 Regularization on Linear Coefficients         | 1e-10    |"
      ]
     },
     "metadata": {},
     "output_type": "display_data"
    },
    {
     "data": {
      "text/html": [
       "<pre>| max_iterations                 | Maximum Number of Iterations                     | 50       |</pre>"
      ],
      "text/plain": [
       "| max_iterations                 | Maximum Number of Iterations                     | 50       |"
      ]
     },
     "metadata": {},
     "output_type": "display_data"
    },
    {
     "data": {
      "text/html": [
       "<pre>+--------------------------------+--------------------------------------------------+----------+</pre>"
      ],
      "text/plain": [
       "+--------------------------------+--------------------------------------------------+----------+"
      ]
     },
     "metadata": {},
     "output_type": "display_data"
    },
    {
     "data": {
      "text/html": [
       "<pre>  Optimizing model using SGD; tuning step size.</pre>"
      ],
      "text/plain": [
       "  Optimizing model using SGD; tuning step size."
      ]
     },
     "metadata": {},
     "output_type": "display_data"
    },
    {
     "data": {
      "text/html": [
       "<pre>  Using 10000 / 29288 points for tuning the step size.</pre>"
      ],
      "text/plain": [
       "  Using 10000 / 29288 points for tuning the step size."
      ]
     },
     "metadata": {},
     "output_type": "display_data"
    },
    {
     "data": {
      "text/html": [
       "<pre>+---------+-------------------+------------------------------------------+</pre>"
      ],
      "text/plain": [
       "+---------+-------------------+------------------------------------------+"
      ]
     },
     "metadata": {},
     "output_type": "display_data"
    },
    {
     "data": {
      "text/html": [
       "<pre>| Attempt | Initial Step Size | Estimated Objective Value                |</pre>"
      ],
      "text/plain": [
       "| Attempt | Initial Step Size | Estimated Objective Value                |"
      ]
     },
     "metadata": {},
     "output_type": "display_data"
    },
    {
     "data": {
      "text/html": [
       "<pre>+---------+-------------------+------------------------------------------+</pre>"
      ],
      "text/plain": [
       "+---------+-------------------+------------------------------------------+"
      ]
     },
     "metadata": {},
     "output_type": "display_data"
    },
    {
     "data": {
      "text/html": [
       "<pre>| 0       | 25                | Not Viable                               |</pre>"
      ],
      "text/plain": [
       "| 0       | 25                | Not Viable                               |"
      ]
     },
     "metadata": {},
     "output_type": "display_data"
    },
    {
     "data": {
      "text/html": [
       "<pre>| 1       | 6.25              | Not Viable                               |</pre>"
      ],
      "text/plain": [
       "| 1       | 6.25              | Not Viable                               |"
      ]
     },
     "metadata": {},
     "output_type": "display_data"
    },
    {
     "data": {
      "text/html": [
       "<pre>| 2       | 1.5625            | Not Viable                               |</pre>"
      ],
      "text/plain": [
       "| 2       | 1.5625            | Not Viable                               |"
      ]
     },
     "metadata": {},
     "output_type": "display_data"
    },
    {
     "data": {
      "text/html": [
       "<pre>| 3       | 0.390625          | Not Viable                               |</pre>"
      ],
      "text/plain": [
       "| 3       | 0.390625          | Not Viable                               |"
      ]
     },
     "metadata": {},
     "output_type": "display_data"
    },
    {
     "data": {
      "text/html": [
       "<pre>| 4       | 0.0976562         | 1.91625                                  |</pre>"
      ],
      "text/plain": [
       "| 4       | 0.0976562         | 1.91625                                  |"
      ]
     },
     "metadata": {},
     "output_type": "display_data"
    },
    {
     "data": {
      "text/html": [
       "<pre>| 5       | 0.0488281         | 2.27235                                  |</pre>"
      ],
      "text/plain": [
       "| 5       | 0.0488281         | 2.27235                                  |"
      ]
     },
     "metadata": {},
     "output_type": "display_data"
    },
    {
     "data": {
      "text/html": [
       "<pre>| 6       | 0.0244141         | 2.29189                                  |</pre>"
      ],
      "text/plain": [
       "| 6       | 0.0244141         | 2.29189                                  |"
      ]
     },
     "metadata": {},
     "output_type": "display_data"
    },
    {
     "data": {
      "text/html": [
       "<pre>| 7       | 0.012207          | 2.35426                                  |</pre>"
      ],
      "text/plain": [
       "| 7       | 0.012207          | 2.35426                                  |"
      ]
     },
     "metadata": {},
     "output_type": "display_data"
    },
    {
     "data": {
      "text/html": [
       "<pre>+---------+-------------------+------------------------------------------+</pre>"
      ],
      "text/plain": [
       "+---------+-------------------+------------------------------------------+"
      ]
     },
     "metadata": {},
     "output_type": "display_data"
    },
    {
     "data": {
      "text/html": [
       "<pre>| Final   | 0.0976562         | 1.91625                                  |</pre>"
      ],
      "text/plain": [
       "| Final   | 0.0976562         | 1.91625                                  |"
      ]
     },
     "metadata": {},
     "output_type": "display_data"
    },
    {
     "data": {
      "text/html": [
       "<pre>+---------+-------------------+------------------------------------------+</pre>"
      ],
      "text/plain": [
       "+---------+-------------------+------------------------------------------+"
      ]
     },
     "metadata": {},
     "output_type": "display_data"
    },
    {
     "data": {
      "text/html": [
       "<pre>Starting Optimization.</pre>"
      ],
      "text/plain": [
       "Starting Optimization."
      ]
     },
     "metadata": {},
     "output_type": "display_data"
    },
    {
     "data": {
      "text/html": [
       "<pre>+---------+--------------+-------------------+-----------------------+-------------+</pre>"
      ],
      "text/plain": [
       "+---------+--------------+-------------------+-----------------------+-------------+"
      ]
     },
     "metadata": {},
     "output_type": "display_data"
    },
    {
     "data": {
      "text/html": [
       "<pre>| Iter.   | Elapsed Time | Approx. Objective | Approx. Training RMSE | Step Size   |</pre>"
      ],
      "text/plain": [
       "| Iter.   | Elapsed Time | Approx. Objective | Approx. Training RMSE | Step Size   |"
      ]
     },
     "metadata": {},
     "output_type": "display_data"
    },
    {
     "data": {
      "text/html": [
       "<pre>+---------+--------------+-------------------+-----------------------+-------------+</pre>"
      ],
      "text/plain": [
       "+---------+--------------+-------------------+-----------------------+-------------+"
      ]
     },
     "metadata": {},
     "output_type": "display_data"
    },
    {
     "data": {
      "text/html": [
       "<pre>| Initial | 113us        | 3.76108           | 1.93935               |             |</pre>"
      ],
      "text/plain": [
       "| Initial | 113us        | 3.76108           | 1.93935               |             |"
      ]
     },
     "metadata": {},
     "output_type": "display_data"
    },
    {
     "data": {
      "text/html": [
       "<pre>+---------+--------------+-------------------+-----------------------+-------------+</pre>"
      ],
      "text/plain": [
       "+---------+--------------+-------------------+-----------------------+-------------+"
      ]
     },
     "metadata": {},
     "output_type": "display_data"
    },
    {
     "data": {
      "text/html": [
       "<pre>| 1       | 104.561ms    | 3.9505            | 1.98758               | 0.0976562   |</pre>"
      ],
      "text/plain": [
       "| 1       | 104.561ms    | 3.9505            | 1.98758               | 0.0976562   |"
      ]
     },
     "metadata": {},
     "output_type": "display_data"
    },
    {
     "data": {
      "text/html": [
       "<pre>| 2       | 179.466ms    | 3.36024           | 1.83309               | 0.0580668   |</pre>"
      ],
      "text/plain": [
       "| 2       | 179.466ms    | 3.36024           | 1.83309               | 0.0580668   |"
      ]
     },
     "metadata": {},
     "output_type": "display_data"
    },
    {
     "data": {
      "text/html": [
       "<pre>| 3       | 249.363ms    | 2.69741           | 1.64237               | 0.042841    |</pre>"
      ],
      "text/plain": [
       "| 3       | 249.363ms    | 2.69741           | 1.64237               | 0.042841    |"
      ]
     },
     "metadata": {},
     "output_type": "display_data"
    },
    {
     "data": {
      "text/html": [
       "<pre>| 4       | 388.629ms    | 2.30476           | 1.51814               | 0.0290334   |</pre>"
      ],
      "text/plain": [
       "| 4       | 388.629ms    | 2.30476           | 1.51814               | 0.0290334   |"
      ]
     },
     "metadata": {},
     "output_type": "display_data"
    },
    {
     "data": {
      "text/html": [
       "<pre>| 5       | 528.228ms    | 2.1072            | 1.45161               | 0.0245592   |</pre>"
      ],
      "text/plain": [
       "| 5       | 528.228ms    | 2.1072            | 1.45161               | 0.0245592   |"
      ]
     },
     "metadata": {},
     "output_type": "display_data"
    },
    {
     "data": {
      "text/html": [
       "<pre>| 6       | 582.419ms    | 1.99783           | 1.41344               | 0.0214205   |</pre>"
      ],
      "text/plain": [
       "| 6       | 582.419ms    | 1.99783           | 1.41344               | 0.0214205   |"
      ]
     },
     "metadata": {},
     "output_type": "display_data"
    },
    {
     "data": {
      "text/html": [
       "<pre>| 10      | 1.08s        | 1.78404           | 1.33567               | 0.014603    |</pre>"
      ],
      "text/plain": [
       "| 10      | 1.08s        | 1.78404           | 1.33567               | 0.014603    |"
      ]
     },
     "metadata": {},
     "output_type": "display_data"
    },
    {
     "data": {
      "text/html": [
       "<pre>| 11      | 1.16s        | 1.75395           | 1.32436               | 0.0135956   |</pre>"
      ],
      "text/plain": [
       "| 11      | 1.16s        | 1.75395           | 1.32436               | 0.0135956   |"
      ]
     },
     "metadata": {},
     "output_type": "display_data"
    },
    {
     "data": {
      "text/html": [
       "<pre>| 20      | 1.53s        | 1.61171           | 1.26952               | 0.008683    |</pre>"
      ],
      "text/plain": [
       "| 20      | 1.53s        | 1.61171           | 1.26952               | 0.008683    |"
      ]
     },
     "metadata": {},
     "output_type": "display_data"
    },
    {
     "data": {
      "text/html": [
       "<pre>| 30      | 2.28s        | 1.54567           | 1.24324               | 0.00640622  |</pre>"
      ],
      "text/plain": [
       "| 30      | 2.28s        | 1.54567           | 1.24324               | 0.00640622  |"
      ]
     },
     "metadata": {},
     "output_type": "display_data"
    },
    {
     "data": {
      "text/html": [
       "<pre>| 40      | 2.82s        | 1.50881           | 1.22832               | 0.00516295  |</pre>"
      ],
      "text/plain": [
       "| 40      | 2.82s        | 1.50881           | 1.22832               | 0.00516295  |"
      ]
     },
     "metadata": {},
     "output_type": "display_data"
    },
    {
     "data": {
      "text/html": [
       "<pre>| 50      | 3.31s        | 1.48493           | 1.21856               | 0.00436732  |</pre>"
      ],
      "text/plain": [
       "| 50      | 3.31s        | 1.48493           | 1.21856               | 0.00436732  |"
      ]
     },
     "metadata": {},
     "output_type": "display_data"
    },
    {
     "data": {
      "text/html": [
       "<pre>+---------+--------------+-------------------+-----------------------+-------------+</pre>"
      ],
      "text/plain": [
       "+---------+--------------+-------------------+-----------------------+-------------+"
      ]
     },
     "metadata": {},
     "output_type": "display_data"
    },
    {
     "data": {
      "text/html": [
       "<pre>Optimization Complete: Maximum number of passes through the data reached.</pre>"
      ],
      "text/plain": [
       "Optimization Complete: Maximum number of passes through the data reached."
      ]
     },
     "metadata": {},
     "output_type": "display_data"
    },
    {
     "data": {
      "text/html": [
       "<pre>Computing final objective value and training RMSE.</pre>"
      ],
      "text/plain": [
       "Computing final objective value and training RMSE."
      ]
     },
     "metadata": {},
     "output_type": "display_data"
    },
    {
     "data": {
      "text/html": [
       "<pre>       Final objective value: 1.39469</pre>"
      ],
      "text/plain": [
       "       Final objective value: 1.39469"
      ]
     },
     "metadata": {},
     "output_type": "display_data"
    },
    {
     "data": {
      "text/html": [
       "<pre>       Final training RMSE: 1.18095</pre>"
      ],
      "text/plain": [
       "       Final training RMSE: 1.18095"
      ]
     },
     "metadata": {},
     "output_type": "display_data"
    }
   ],
   "source": [
    "model = gl.factorization_recommender.create(gl_data, target='rating')"
   ]
  },
  {
   "cell_type": "code",
   "execution_count": 737,
   "metadata": {
    "collapsed": false
   },
   "outputs": [
    {
     "data": {
      "text/html": [
       "<pre>Getting similar users completed in 0.000749</pre>"
      ],
      "text/plain": [
       "Getting similar users completed in 0.000749"
      ]
     },
     "metadata": {},
     "output_type": "display_data"
    },
    {
     "data": {
      "text/html": [
       "<div style=\"max-height:1000px;max-width:1500px;overflow:auto;\"><table frame=\"box\" rules=\"cols\">\n",
       "    <tr>\n",
       "        <th style=\"padding-left: 1em; padding-right: 1em; text-align: center\">user_id</th>\n",
       "        <th style=\"padding-left: 1em; padding-right: 1em; text-align: center\">similar</th>\n",
       "        <th style=\"padding-left: 1em; padding-right: 1em; text-align: center\">score</th>\n",
       "        <th style=\"padding-left: 1em; padding-right: 1em; text-align: center\">rank</th>\n",
       "    </tr>\n",
       "    <tr>\n",
       "        <td style=\"padding-left: 1em; padding-right: 1em; text-align: center; vertical-align: top\">76561198046747311</td>\n",
       "        <td style=\"padding-left: 1em; padding-right: 1em; text-align: center; vertical-align: top\">76561198046215093</td>\n",
       "        <td style=\"padding-left: 1em; padding-right: 1em; text-align: center; vertical-align: top\">0.855458080769</td>\n",
       "        <td style=\"padding-left: 1em; padding-right: 1em; text-align: center; vertical-align: top\">1</td>\n",
       "    </tr>\n",
       "    <tr>\n",
       "        <td style=\"padding-left: 1em; padding-right: 1em; text-align: center; vertical-align: top\">76561198046747311</td>\n",
       "        <td style=\"padding-left: 1em; padding-right: 1em; text-align: center; vertical-align: top\">76561197981918203</td>\n",
       "        <td style=\"padding-left: 1em; padding-right: 1em; text-align: center; vertical-align: top\">0.837264835835</td>\n",
       "        <td style=\"padding-left: 1em; padding-right: 1em; text-align: center; vertical-align: top\">2</td>\n",
       "    </tr>\n",
       "    <tr>\n",
       "        <td style=\"padding-left: 1em; padding-right: 1em; text-align: center; vertical-align: top\">76561198046747311</td>\n",
       "        <td style=\"padding-left: 1em; padding-right: 1em; text-align: center; vertical-align: top\">76561198023511329</td>\n",
       "        <td style=\"padding-left: 1em; padding-right: 1em; text-align: center; vertical-align: top\">0.802134335041</td>\n",
       "        <td style=\"padding-left: 1em; padding-right: 1em; text-align: center; vertical-align: top\">3</td>\n",
       "    </tr>\n",
       "    <tr>\n",
       "        <td style=\"padding-left: 1em; padding-right: 1em; text-align: center; vertical-align: top\">76561198046747311</td>\n",
       "        <td style=\"padding-left: 1em; padding-right: 1em; text-align: center; vertical-align: top\">76561198089389797</td>\n",
       "        <td style=\"padding-left: 1em; padding-right: 1em; text-align: center; vertical-align: top\">0.800871193409</td>\n",
       "        <td style=\"padding-left: 1em; padding-right: 1em; text-align: center; vertical-align: top\">4</td>\n",
       "    </tr>\n",
       "    <tr>\n",
       "        <td style=\"padding-left: 1em; padding-right: 1em; text-align: center; vertical-align: top\">76561198046747311</td>\n",
       "        <td style=\"padding-left: 1em; padding-right: 1em; text-align: center; vertical-align: top\">76561198068456702</td>\n",
       "        <td style=\"padding-left: 1em; padding-right: 1em; text-align: center; vertical-align: top\">0.775933504105</td>\n",
       "        <td style=\"padding-left: 1em; padding-right: 1em; text-align: center; vertical-align: top\">5</td>\n",
       "    </tr>\n",
       "</table>\n",
       "[5 rows x 4 columns]<br/>\n",
       "</div>"
      ],
      "text/plain": [
       "Columns:\n",
       "\tuser_id\tstr\n",
       "\tsimilar\tstr\n",
       "\tscore\tfloat\n",
       "\trank\tint\n",
       "\n",
       "Rows: 5\n",
       "\n",
       "Data:\n",
       "+-------------------+-------------------+----------------+------+\n",
       "|      user_id      |      similar      |     score      | rank |\n",
       "+-------------------+-------------------+----------------+------+\n",
       "| 76561198046747311 | 76561198046215093 | 0.855458080769 |  1   |\n",
       "| 76561198046747311 | 76561197981918203 | 0.837264835835 |  2   |\n",
       "| 76561198046747311 | 76561198023511329 | 0.802134335041 |  3   |\n",
       "| 76561198046747311 | 76561198089389797 | 0.800871193409 |  4   |\n",
       "| 76561198046747311 | 76561198068456702 | 0.775933504105 |  5   |\n",
       "+-------------------+-------------------+----------------+------+\n",
       "[5 rows x 4 columns]"
      ]
     },
     "execution_count": 737,
     "metadata": {},
     "output_type": "execute_result"
    }
   ],
   "source": [
    "similar_users = model.get_similar_users([\"76561198046747311\"], k=5)\n",
    "similar_users"
   ]
  },
  {
   "cell_type": "code",
   "execution_count": 740,
   "metadata": {
    "collapsed": false
   },
   "outputs": [
    {
     "data": {
      "text/html": [
       "<div>\n",
       "<table border=\"1\" class=\"dataframe\">\n",
       "  <thead>\n",
       "    <tr style=\"text-align: right;\">\n",
       "      <th></th>\n",
       "      <th>appid</th>\n",
       "      <th>name</th>\n",
       "      <th>playtime_2weeks</th>\n",
       "      <th>playtime_forever</th>\n",
       "      <th>steamid</th>\n",
       "      <th>ratings_forever</th>\n",
       "      <th>ratings_2weeks</th>\n",
       "    </tr>\n",
       "  </thead>\n",
       "  <tbody>\n",
       "    <tr>\n",
       "      <th>4</th>\n",
       "      <td>236390</td>\n",
       "      <td>War Thunder</td>\n",
       "      <td>0</td>\n",
       "      <td>11249</td>\n",
       "      <td>76561198089389797</td>\n",
       "      <td>5</td>\n",
       "      <td>0</td>\n",
       "    </tr>\n",
       "    <tr>\n",
       "      <th>2</th>\n",
       "      <td>113400</td>\n",
       "      <td>APB Reloaded</td>\n",
       "      <td>0</td>\n",
       "      <td>2628</td>\n",
       "      <td>76561198089389797</td>\n",
       "      <td>5</td>\n",
       "      <td>0</td>\n",
       "    </tr>\n",
       "    <tr>\n",
       "      <th>12</th>\n",
       "      <td>440</td>\n",
       "      <td>Team Fortress 2</td>\n",
       "      <td>0</td>\n",
       "      <td>1868</td>\n",
       "      <td>76561198089389797</td>\n",
       "      <td>5</td>\n",
       "      <td>0</td>\n",
       "    </tr>\n",
       "    <tr>\n",
       "      <th>0</th>\n",
       "      <td>4000</td>\n",
       "      <td>Garry's Mod</td>\n",
       "      <td>125</td>\n",
       "      <td>1696</td>\n",
       "      <td>76561198089389797</td>\n",
       "      <td>5</td>\n",
       "      <td>3</td>\n",
       "    </tr>\n",
       "    <tr>\n",
       "      <th>10</th>\n",
       "      <td>730</td>\n",
       "      <td>Counter-Strike: Global Offensive</td>\n",
       "      <td>92</td>\n",
       "      <td>1597</td>\n",
       "      <td>76561198089389797</td>\n",
       "      <td>5</td>\n",
       "      <td>2</td>\n",
       "    </tr>\n",
       "    <tr>\n",
       "      <th>8</th>\n",
       "      <td>200110</td>\n",
       "      <td>Nosgoth</td>\n",
       "      <td>0</td>\n",
       "      <td>947</td>\n",
       "      <td>76561198089389797</td>\n",
       "      <td>4</td>\n",
       "      <td>0</td>\n",
       "    </tr>\n",
       "    <tr>\n",
       "      <th>6</th>\n",
       "      <td>304930</td>\n",
       "      <td>Unturned</td>\n",
       "      <td>0</td>\n",
       "      <td>909</td>\n",
       "      <td>76561198089389797</td>\n",
       "      <td>4</td>\n",
       "      <td>0</td>\n",
       "    </tr>\n",
       "    <tr>\n",
       "      <th>1</th>\n",
       "      <td>20900</td>\n",
       "      <td>The Witcher: Enhanced Edition</td>\n",
       "      <td>0</td>\n",
       "      <td>815</td>\n",
       "      <td>76561198089389797</td>\n",
       "      <td>4</td>\n",
       "      <td>0</td>\n",
       "    </tr>\n",
       "    <tr>\n",
       "      <th>7</th>\n",
       "      <td>224600</td>\n",
       "      <td>Defiance</td>\n",
       "      <td>0</td>\n",
       "      <td>776</td>\n",
       "      <td>76561198089389797</td>\n",
       "      <td>4</td>\n",
       "      <td>0</td>\n",
       "    </tr>\n",
       "    <tr>\n",
       "      <th>3</th>\n",
       "      <td>230410</td>\n",
       "      <td>Warframe</td>\n",
       "      <td>0</td>\n",
       "      <td>599</td>\n",
       "      <td>76561198089389797</td>\n",
       "      <td>3</td>\n",
       "      <td>0</td>\n",
       "    </tr>\n",
       "  </tbody>\n",
       "</table>\n",
       "</div>"
      ],
      "text/plain": [
       "     appid                              name  playtime_2weeks  \\\n",
       "4   236390                       War Thunder                0   \n",
       "2   113400                      APB Reloaded                0   \n",
       "12     440                   Team Fortress 2                0   \n",
       "0     4000                       Garry's Mod              125   \n",
       "10     730  Counter-Strike: Global Offensive               92   \n",
       "8   200110                           Nosgoth                0   \n",
       "6   304930                          Unturned                0   \n",
       "1    20900     The Witcher: Enhanced Edition                0   \n",
       "7   224600                          Defiance                0   \n",
       "3   230410                          Warframe                0   \n",
       "\n",
       "    playtime_forever            steamid ratings_forever ratings_2weeks  \n",
       "4              11249  76561198089389797               5              0  \n",
       "2               2628  76561198089389797               5              0  \n",
       "12              1868  76561198089389797               5              0  \n",
       "0               1696  76561198089389797               5              3  \n",
       "10              1597  76561198089389797               5              2  \n",
       "8                947  76561198089389797               4              0  \n",
       "6                909  76561198089389797               4              0  \n",
       "1                815  76561198089389797               4              0  \n",
       "7                776  76561198089389797               4              0  \n",
       "3                599  76561198089389797               3              0  "
      ]
     },
     "execution_count": 740,
     "metadata": {},
     "output_type": "execute_result"
    }
   ],
   "source": [
    "games_users_ratings[games_users_ratings[\"steamid\"]==\"76561198089389797\"].sort_values(by=\"playtime_forever\", ascending=False).head(10)"
   ]
  },
  {
   "cell_type": "code",
   "execution_count": 739,
   "metadata": {
    "collapsed": false
   },
   "outputs": [
    {
     "data": {
      "text/html": [
       "<div>\n",
       "<table border=\"1\" class=\"dataframe\">\n",
       "  <thead>\n",
       "    <tr style=\"text-align: right;\">\n",
       "      <th></th>\n",
       "      <th>appid</th>\n",
       "      <th>name</th>\n",
       "      <th>playtime_2weeks</th>\n",
       "      <th>playtime_forever</th>\n",
       "      <th>steamid</th>\n",
       "      <th>ratings_forever</th>\n",
       "      <th>ratings_2weeks</th>\n",
       "    </tr>\n",
       "  </thead>\n",
       "  <tbody>\n",
       "    <tr>\n",
       "      <th>36</th>\n",
       "      <td>730</td>\n",
       "      <td>Counter-Strike: Global Offensive</td>\n",
       "      <td>2181</td>\n",
       "      <td>28268</td>\n",
       "      <td>76561198046747311</td>\n",
       "      <td>5</td>\n",
       "      <td>5</td>\n",
       "    </tr>\n",
       "    <tr>\n",
       "      <th>59</th>\n",
       "      <td>218620</td>\n",
       "      <td>PAYDAY 2</td>\n",
       "      <td>143</td>\n",
       "      <td>26100</td>\n",
       "      <td>76561198046747311</td>\n",
       "      <td>5</td>\n",
       "      <td>3</td>\n",
       "    </tr>\n",
       "    <tr>\n",
       "      <th>0</th>\n",
       "      <td>4000</td>\n",
       "      <td>Garry's Mod</td>\n",
       "      <td>2</td>\n",
       "      <td>18123</td>\n",
       "      <td>76561198046747311</td>\n",
       "      <td>5</td>\n",
       "      <td>1</td>\n",
       "    </tr>\n",
       "    <tr>\n",
       "      <th>81</th>\n",
       "      <td>440</td>\n",
       "      <td>Team Fortress 2</td>\n",
       "      <td>0</td>\n",
       "      <td>14241</td>\n",
       "      <td>76561198046747311</td>\n",
       "      <td>5</td>\n",
       "      <td>0</td>\n",
       "    </tr>\n",
       "    <tr>\n",
       "      <th>15</th>\n",
       "      <td>10</td>\n",
       "      <td>Counter-Strike</td>\n",
       "      <td>0</td>\n",
       "      <td>11862</td>\n",
       "      <td>76561198046747311</td>\n",
       "      <td>5</td>\n",
       "      <td>0</td>\n",
       "    </tr>\n",
       "    <tr>\n",
       "      <th>55</th>\n",
       "      <td>233450</td>\n",
       "      <td>Prison Architect</td>\n",
       "      <td>0</td>\n",
       "      <td>4146</td>\n",
       "      <td>76561198046747311</td>\n",
       "      <td>5</td>\n",
       "      <td>0</td>\n",
       "    </tr>\n",
       "    <tr>\n",
       "      <th>25</th>\n",
       "      <td>550</td>\n",
       "      <td>Left 4 Dead 2</td>\n",
       "      <td>0</td>\n",
       "      <td>4113</td>\n",
       "      <td>76561198046747311</td>\n",
       "      <td>5</td>\n",
       "      <td>0</td>\n",
       "    </tr>\n",
       "    <tr>\n",
       "      <th>62</th>\n",
       "      <td>252490</td>\n",
       "      <td>Rust</td>\n",
       "      <td>0</td>\n",
       "      <td>3343</td>\n",
       "      <td>76561198046747311</td>\n",
       "      <td>5</td>\n",
       "      <td>0</td>\n",
       "    </tr>\n",
       "    <tr>\n",
       "      <th>67</th>\n",
       "      <td>244850</td>\n",
       "      <td>Space Engineers</td>\n",
       "      <td>3</td>\n",
       "      <td>3333</td>\n",
       "      <td>76561198046747311</td>\n",
       "      <td>5</td>\n",
       "      <td>1</td>\n",
       "    </tr>\n",
       "    <tr>\n",
       "      <th>18</th>\n",
       "      <td>240</td>\n",
       "      <td>Counter-Strike: Source</td>\n",
       "      <td>0</td>\n",
       "      <td>3138</td>\n",
       "      <td>76561198046747311</td>\n",
       "      <td>5</td>\n",
       "      <td>0</td>\n",
       "    </tr>\n",
       "  </tbody>\n",
       "</table>\n",
       "</div>"
      ],
      "text/plain": [
       "     appid                              name  playtime_2weeks  \\\n",
       "36     730  Counter-Strike: Global Offensive             2181   \n",
       "59  218620                          PAYDAY 2              143   \n",
       "0     4000                       Garry's Mod                2   \n",
       "81     440                   Team Fortress 2                0   \n",
       "15      10                    Counter-Strike                0   \n",
       "55  233450                  Prison Architect                0   \n",
       "25     550                     Left 4 Dead 2                0   \n",
       "62  252490                              Rust                0   \n",
       "67  244850                   Space Engineers                3   \n",
       "18     240            Counter-Strike: Source                0   \n",
       "\n",
       "    playtime_forever            steamid ratings_forever ratings_2weeks  \n",
       "36             28268  76561198046747311               5              5  \n",
       "59             26100  76561198046747311               5              3  \n",
       "0              18123  76561198046747311               5              1  \n",
       "81             14241  76561198046747311               5              0  \n",
       "15             11862  76561198046747311               5              0  \n",
       "55              4146  76561198046747311               5              0  \n",
       "25              4113  76561198046747311               5              0  \n",
       "62              3343  76561198046747311               5              0  \n",
       "67              3333  76561198046747311               5              1  \n",
       "18              3138  76561198046747311               5              0  "
      ]
     },
     "execution_count": 739,
     "metadata": {},
     "output_type": "execute_result"
    }
   ],
   "source": [
    "games_users_ratings[games_users_ratings[\"steamid\"]==\"76561198046747311\"].sort_values(by=\"playtime_forever\", ascending=False).head(10)"
   ]
  },
  {
   "cell_type": "code",
   "execution_count": 690,
   "metadata": {
    "collapsed": false
   },
   "outputs": [],
   "source": [
    "games_users_ratings = games_users_list(games, popular_games)"
   ]
  },
  {
   "cell_type": "code",
   "execution_count": 693,
   "metadata": {
    "collapsed": false
   },
   "outputs": [
    {
     "data": {
      "text/html": [
       "<div>\n",
       "<table border=\"1\" class=\"dataframe\">\n",
       "  <thead>\n",
       "    <tr style=\"text-align: right;\">\n",
       "      <th></th>\n",
       "      <th>appid</th>\n",
       "      <th>name</th>\n",
       "      <th>playtime_2weeks</th>\n",
       "      <th>playtime_forever</th>\n",
       "      <th>steamid</th>\n",
       "      <th>ratings_forever</th>\n",
       "      <th>ratings_2weeks</th>\n",
       "    </tr>\n",
       "  </thead>\n",
       "  <tbody>\n",
       "    <tr>\n",
       "      <th>10</th>\n",
       "      <td>295110</td>\n",
       "      <td>H1Z1: Just Survive</td>\n",
       "      <td>0</td>\n",
       "      <td>973</td>\n",
       "      <td>76561198129253664</td>\n",
       "      <td>4</td>\n",
       "      <td>0</td>\n",
       "    </tr>\n",
       "    <tr>\n",
       "      <th>11</th>\n",
       "      <td>304930</td>\n",
       "      <td>Unturned</td>\n",
       "      <td>0</td>\n",
       "      <td>586</td>\n",
       "      <td>76561198129253664</td>\n",
       "      <td>3</td>\n",
       "      <td>0</td>\n",
       "    </tr>\n",
       "    <tr>\n",
       "      <th>12</th>\n",
       "      <td>730</td>\n",
       "      <td>Counter-Strike: Global Offensive</td>\n",
       "      <td>0</td>\n",
       "      <td>12696</td>\n",
       "      <td>76561198129253664</td>\n",
       "      <td>5</td>\n",
       "      <td>0</td>\n",
       "    </tr>\n",
       "    <tr>\n",
       "      <th>13</th>\n",
       "      <td>346110</td>\n",
       "      <td>ARK: Survival Evolved</td>\n",
       "      <td>0</td>\n",
       "      <td>502</td>\n",
       "      <td>76561198129253664</td>\n",
       "      <td>3</td>\n",
       "      <td>0</td>\n",
       "    </tr>\n",
       "    <tr>\n",
       "      <th>14</th>\n",
       "      <td>570</td>\n",
       "      <td>Dota 2</td>\n",
       "      <td>0</td>\n",
       "      <td>11</td>\n",
       "      <td>76561198129253664</td>\n",
       "      <td>1</td>\n",
       "      <td>0</td>\n",
       "    </tr>\n",
       "  </tbody>\n",
       "</table>\n",
       "</div>"
      ],
      "text/plain": [
       "     appid                              name  playtime_2weeks  \\\n",
       "10  295110                H1Z1: Just Survive                0   \n",
       "11  304930                          Unturned                0   \n",
       "12     730  Counter-Strike: Global Offensive                0   \n",
       "13  346110             ARK: Survival Evolved                0   \n",
       "14     570                            Dota 2                0   \n",
       "\n",
       "    playtime_forever            steamid ratings_forever ratings_2weeks  \n",
       "10               973  76561198129253664               4              0  \n",
       "11               586  76561198129253664               3              0  \n",
       "12             12696  76561198129253664               5              0  \n",
       "13               502  76561198129253664               3              0  \n",
       "14                11  76561198129253664               1              0  "
      ]
     },
     "execution_count": 693,
     "metadata": {},
     "output_type": "execute_result"
    }
   ],
   "source": [
    "games_users_ratings[\"ratings_forever\"] = pd.cut(games_users_ratings[\"playtime_forever\"],\\\n",
    "                                          bins=[-1, 0, 60, 120, 600, 1200, 10e10], \\\n",
    "                                          labels=[0,1,2,3,4,5])\n",
    "games_users_ratings[\"ratings_2weeks\"] = pd.cut(games_users_ratings[\"playtime_2weeks\"],\\\n",
    "                                          bins=[-1, 0, 60, 120, 600, 1200, 10e10], \\\n",
    "                                          labels=[0,1,2,3,4,5])\n",
    "games_users_ratings.tail()"
   ]
  },
  {
   "cell_type": "code",
   "execution_count": 718,
   "metadata": {
    "collapsed": false
   },
   "outputs": [
    {
     "data": {
      "text/html": [
       "<div>\n",
       "<table border=\"1\" class=\"dataframe\">\n",
       "  <thead>\n",
       "    <tr style=\"text-align: right;\">\n",
       "      <th></th>\n",
       "      <th>appid</th>\n",
       "      <th>name</th>\n",
       "      <th>playtime_2weeks</th>\n",
       "      <th>playtime_forever</th>\n",
       "      <th>steamid</th>\n",
       "      <th>ratings_forever</th>\n",
       "      <th>ratings_2weeks</th>\n",
       "    </tr>\n",
       "  </thead>\n",
       "  <tbody>\n",
       "    <tr>\n",
       "      <th>0</th>\n",
       "      <td>220</td>\n",
       "      <td>Half-Life 2</td>\n",
       "      <td>0</td>\n",
       "      <td>0</td>\n",
       "      <td>76561197974981757</td>\n",
       "      <td>0</td>\n",
       "      <td>0</td>\n",
       "    </tr>\n",
       "    <tr>\n",
       "      <th>1</th>\n",
       "      <td>220</td>\n",
       "      <td>Half-Life 2</td>\n",
       "      <td>0</td>\n",
       "      <td>0</td>\n",
       "      <td>76561197970109671</td>\n",
       "      <td>0</td>\n",
       "      <td>0</td>\n",
       "    </tr>\n",
       "    <tr>\n",
       "      <th>7</th>\n",
       "      <td>220</td>\n",
       "      <td>Half-Life 2</td>\n",
       "      <td>0</td>\n",
       "      <td>0</td>\n",
       "      <td>76561197962265797</td>\n",
       "      <td>0</td>\n",
       "      <td>0</td>\n",
       "    </tr>\n",
       "    <tr>\n",
       "      <th>2</th>\n",
       "      <td>220</td>\n",
       "      <td>Half-Life 2</td>\n",
       "      <td>0</td>\n",
       "      <td>0</td>\n",
       "      <td>76561197960798610</td>\n",
       "      <td>0</td>\n",
       "      <td>0</td>\n",
       "    </tr>\n",
       "    <tr>\n",
       "      <th>0</th>\n",
       "      <td>220</td>\n",
       "      <td>Half-Life 2</td>\n",
       "      <td>0</td>\n",
       "      <td>0</td>\n",
       "      <td>76561197973549873</td>\n",
       "      <td>0</td>\n",
       "      <td>0</td>\n",
       "    </tr>\n",
       "    <tr>\n",
       "      <th>2</th>\n",
       "      <td>220</td>\n",
       "      <td>Half-Life 2</td>\n",
       "      <td>0</td>\n",
       "      <td>0</td>\n",
       "      <td>76561197960416122</td>\n",
       "      <td>0</td>\n",
       "      <td>0</td>\n",
       "    </tr>\n",
       "    <tr>\n",
       "      <th>1</th>\n",
       "      <td>220</td>\n",
       "      <td>Half-Life 2</td>\n",
       "      <td>0</td>\n",
       "      <td>0</td>\n",
       "      <td>76561198080506584</td>\n",
       "      <td>0</td>\n",
       "      <td>0</td>\n",
       "    </tr>\n",
       "    <tr>\n",
       "      <th>2</th>\n",
       "      <td>220</td>\n",
       "      <td>Half-Life 2</td>\n",
       "      <td>0</td>\n",
       "      <td>0</td>\n",
       "      <td>76561197999167393</td>\n",
       "      <td>0</td>\n",
       "      <td>0</td>\n",
       "    </tr>\n",
       "    <tr>\n",
       "      <th>2</th>\n",
       "      <td>220</td>\n",
       "      <td>Half-Life 2</td>\n",
       "      <td>0</td>\n",
       "      <td>0</td>\n",
       "      <td>76561197969381714</td>\n",
       "      <td>0</td>\n",
       "      <td>0</td>\n",
       "    </tr>\n",
       "    <tr>\n",
       "      <th>1</th>\n",
       "      <td>220</td>\n",
       "      <td>Half-Life 2</td>\n",
       "      <td>0</td>\n",
       "      <td>0</td>\n",
       "      <td>76561197969108243</td>\n",
       "      <td>0</td>\n",
       "      <td>0</td>\n",
       "    </tr>\n",
       "    <tr>\n",
       "      <th>9</th>\n",
       "      <td>220</td>\n",
       "      <td>Half-Life 2</td>\n",
       "      <td>0</td>\n",
       "      <td>0</td>\n",
       "      <td>76561198000684653</td>\n",
       "      <td>0</td>\n",
       "      <td>0</td>\n",
       "    </tr>\n",
       "    <tr>\n",
       "      <th>0</th>\n",
       "      <td>220</td>\n",
       "      <td>Half-Life 2</td>\n",
       "      <td>0</td>\n",
       "      <td>0</td>\n",
       "      <td>76561198004477054</td>\n",
       "      <td>0</td>\n",
       "      <td>0</td>\n",
       "    </tr>\n",
       "    <tr>\n",
       "      <th>2</th>\n",
       "      <td>220</td>\n",
       "      <td>Half-Life 2</td>\n",
       "      <td>0</td>\n",
       "      <td>0</td>\n",
       "      <td>76561197960510604</td>\n",
       "      <td>0</td>\n",
       "      <td>0</td>\n",
       "    </tr>\n",
       "    <tr>\n",
       "      <th>0</th>\n",
       "      <td>220</td>\n",
       "      <td>Half-Life 2</td>\n",
       "      <td>0</td>\n",
       "      <td>0</td>\n",
       "      <td>76561197970530770</td>\n",
       "      <td>0</td>\n",
       "      <td>0</td>\n",
       "    </tr>\n",
       "    <tr>\n",
       "      <th>0</th>\n",
       "      <td>220</td>\n",
       "      <td>Half-Life 2</td>\n",
       "      <td>0</td>\n",
       "      <td>0</td>\n",
       "      <td>76561198004473020</td>\n",
       "      <td>0</td>\n",
       "      <td>0</td>\n",
       "    </tr>\n",
       "    <tr>\n",
       "      <th>3</th>\n",
       "      <td>220</td>\n",
       "      <td>Half-Life 2</td>\n",
       "      <td>0</td>\n",
       "      <td>0</td>\n",
       "      <td>76561197999435466</td>\n",
       "      <td>0</td>\n",
       "      <td>0</td>\n",
       "    </tr>\n",
       "    <tr>\n",
       "      <th>0</th>\n",
       "      <td>220</td>\n",
       "      <td>Half-Life 2</td>\n",
       "      <td>0</td>\n",
       "      <td>0</td>\n",
       "      <td>76561197993652932</td>\n",
       "      <td>0</td>\n",
       "      <td>0</td>\n",
       "    </tr>\n",
       "    <tr>\n",
       "      <th>0</th>\n",
       "      <td>220</td>\n",
       "      <td>Half-Life 2</td>\n",
       "      <td>0</td>\n",
       "      <td>0</td>\n",
       "      <td>76561197978486568</td>\n",
       "      <td>0</td>\n",
       "      <td>0</td>\n",
       "    </tr>\n",
       "    <tr>\n",
       "      <th>2</th>\n",
       "      <td>220</td>\n",
       "      <td>Half-Life 2</td>\n",
       "      <td>0</td>\n",
       "      <td>0</td>\n",
       "      <td>76561198044279236</td>\n",
       "      <td>0</td>\n",
       "      <td>0</td>\n",
       "    </tr>\n",
       "    <tr>\n",
       "      <th>2</th>\n",
       "      <td>220</td>\n",
       "      <td>Half-Life 2</td>\n",
       "      <td>0</td>\n",
       "      <td>0</td>\n",
       "      <td>76561197963635176</td>\n",
       "      <td>0</td>\n",
       "      <td>0</td>\n",
       "    </tr>\n",
       "    <tr>\n",
       "      <th>2</th>\n",
       "      <td>220</td>\n",
       "      <td>Half-Life 2</td>\n",
       "      <td>0</td>\n",
       "      <td>0</td>\n",
       "      <td>76561197979378676</td>\n",
       "      <td>0</td>\n",
       "      <td>0</td>\n",
       "    </tr>\n",
       "    <tr>\n",
       "      <th>2</th>\n",
       "      <td>220</td>\n",
       "      <td>Half-Life 2</td>\n",
       "      <td>0</td>\n",
       "      <td>0</td>\n",
       "      <td>76561198089631381</td>\n",
       "      <td>0</td>\n",
       "      <td>0</td>\n",
       "    </tr>\n",
       "    <tr>\n",
       "      <th>0</th>\n",
       "      <td>220</td>\n",
       "      <td>Half-Life 2</td>\n",
       "      <td>0</td>\n",
       "      <td>0</td>\n",
       "      <td>76561197978613875</td>\n",
       "      <td>0</td>\n",
       "      <td>0</td>\n",
       "    </tr>\n",
       "    <tr>\n",
       "      <th>0</th>\n",
       "      <td>220</td>\n",
       "      <td>Half-Life 2</td>\n",
       "      <td>0</td>\n",
       "      <td>0</td>\n",
       "      <td>76561197970982165</td>\n",
       "      <td>0</td>\n",
       "      <td>0</td>\n",
       "    </tr>\n",
       "    <tr>\n",
       "      <th>2</th>\n",
       "      <td>220</td>\n",
       "      <td>Half-Life 2</td>\n",
       "      <td>0</td>\n",
       "      <td>0</td>\n",
       "      <td>76561197960879907</td>\n",
       "      <td>0</td>\n",
       "      <td>0</td>\n",
       "    </tr>\n",
       "    <tr>\n",
       "      <th>6</th>\n",
       "      <td>220</td>\n",
       "      <td>Half-Life 2</td>\n",
       "      <td>0</td>\n",
       "      <td>0</td>\n",
       "      <td>76561197992614493</td>\n",
       "      <td>0</td>\n",
       "      <td>0</td>\n",
       "    </tr>\n",
       "    <tr>\n",
       "      <th>0</th>\n",
       "      <td>220</td>\n",
       "      <td>Half-Life 2</td>\n",
       "      <td>0</td>\n",
       "      <td>0</td>\n",
       "      <td>76561197994915776</td>\n",
       "      <td>0</td>\n",
       "      <td>0</td>\n",
       "    </tr>\n",
       "    <tr>\n",
       "      <th>2</th>\n",
       "      <td>220</td>\n",
       "      <td>Half-Life 2</td>\n",
       "      <td>0</td>\n",
       "      <td>0</td>\n",
       "      <td>76561197960390481</td>\n",
       "      <td>0</td>\n",
       "      <td>0</td>\n",
       "    </tr>\n",
       "    <tr>\n",
       "      <th>2</th>\n",
       "      <td>220</td>\n",
       "      <td>Half-Life 2</td>\n",
       "      <td>0</td>\n",
       "      <td>0</td>\n",
       "      <td>76561197960414216</td>\n",
       "      <td>0</td>\n",
       "      <td>0</td>\n",
       "    </tr>\n",
       "    <tr>\n",
       "      <th>3</th>\n",
       "      <td>220</td>\n",
       "      <td>Half-Life 2</td>\n",
       "      <td>0</td>\n",
       "      <td>0</td>\n",
       "      <td>76561197993426378</td>\n",
       "      <td>0</td>\n",
       "      <td>0</td>\n",
       "    </tr>\n",
       "    <tr>\n",
       "      <th>...</th>\n",
       "      <td>...</td>\n",
       "      <td>...</td>\n",
       "      <td>...</td>\n",
       "      <td>...</td>\n",
       "      <td>...</td>\n",
       "      <td>...</td>\n",
       "      <td>...</td>\n",
       "    </tr>\n",
       "    <tr>\n",
       "      <th>47</th>\n",
       "      <td>220</td>\n",
       "      <td>Half-Life 2</td>\n",
       "      <td>0</td>\n",
       "      <td>1028</td>\n",
       "      <td>76561197980172662</td>\n",
       "      <td>4</td>\n",
       "      <td>0</td>\n",
       "    </tr>\n",
       "    <tr>\n",
       "      <th>0</th>\n",
       "      <td>220</td>\n",
       "      <td>Half-Life 2</td>\n",
       "      <td>0</td>\n",
       "      <td>1044</td>\n",
       "      <td>76561197973690119</td>\n",
       "      <td>4</td>\n",
       "      <td>0</td>\n",
       "    </tr>\n",
       "    <tr>\n",
       "      <th>0</th>\n",
       "      <td>220</td>\n",
       "      <td>Half-Life 2</td>\n",
       "      <td>0</td>\n",
       "      <td>1052</td>\n",
       "      <td>76561198005659710</td>\n",
       "      <td>4</td>\n",
       "      <td>0</td>\n",
       "    </tr>\n",
       "    <tr>\n",
       "      <th>17</th>\n",
       "      <td>220</td>\n",
       "      <td>Half-Life 2</td>\n",
       "      <td>0</td>\n",
       "      <td>1090</td>\n",
       "      <td>76561198046747311</td>\n",
       "      <td>4</td>\n",
       "      <td>0</td>\n",
       "    </tr>\n",
       "    <tr>\n",
       "      <th>5</th>\n",
       "      <td>220</td>\n",
       "      <td>Half-Life 2</td>\n",
       "      <td>0</td>\n",
       "      <td>1125</td>\n",
       "      <td>76561197992202511</td>\n",
       "      <td>4</td>\n",
       "      <td>0</td>\n",
       "    </tr>\n",
       "    <tr>\n",
       "      <th>1</th>\n",
       "      <td>220</td>\n",
       "      <td>Half-Life 2</td>\n",
       "      <td>0</td>\n",
       "      <td>1134</td>\n",
       "      <td>76561198031209109</td>\n",
       "      <td>4</td>\n",
       "      <td>0</td>\n",
       "    </tr>\n",
       "    <tr>\n",
       "      <th>3</th>\n",
       "      <td>220</td>\n",
       "      <td>Half-Life 2</td>\n",
       "      <td>0</td>\n",
       "      <td>1140</td>\n",
       "      <td>76561197984610727</td>\n",
       "      <td>4</td>\n",
       "      <td>0</td>\n",
       "    </tr>\n",
       "    <tr>\n",
       "      <th>9</th>\n",
       "      <td>220</td>\n",
       "      <td>Half-Life 2</td>\n",
       "      <td>0</td>\n",
       "      <td>1167</td>\n",
       "      <td>76561197993565949</td>\n",
       "      <td>4</td>\n",
       "      <td>0</td>\n",
       "    </tr>\n",
       "    <tr>\n",
       "      <th>4</th>\n",
       "      <td>220</td>\n",
       "      <td>Half-Life 2</td>\n",
       "      <td>0</td>\n",
       "      <td>1200</td>\n",
       "      <td>76561197960955889</td>\n",
       "      <td>4</td>\n",
       "      <td>0</td>\n",
       "    </tr>\n",
       "    <tr>\n",
       "      <th>3</th>\n",
       "      <td>220</td>\n",
       "      <td>Half-Life 2</td>\n",
       "      <td>0</td>\n",
       "      <td>1214</td>\n",
       "      <td>76561198000718607</td>\n",
       "      <td>5</td>\n",
       "      <td>0</td>\n",
       "    </tr>\n",
       "    <tr>\n",
       "      <th>0</th>\n",
       "      <td>220</td>\n",
       "      <td>Half-Life 2</td>\n",
       "      <td>0</td>\n",
       "      <td>1229</td>\n",
       "      <td>76561197978313011</td>\n",
       "      <td>5</td>\n",
       "      <td>0</td>\n",
       "    </tr>\n",
       "    <tr>\n",
       "      <th>2</th>\n",
       "      <td>220</td>\n",
       "      <td>Half-Life 2</td>\n",
       "      <td>0</td>\n",
       "      <td>1260</td>\n",
       "      <td>76561198012660920</td>\n",
       "      <td>5</td>\n",
       "      <td>0</td>\n",
       "    </tr>\n",
       "    <tr>\n",
       "      <th>1</th>\n",
       "      <td>220</td>\n",
       "      <td>Half-Life 2</td>\n",
       "      <td>0</td>\n",
       "      <td>1269</td>\n",
       "      <td>76561197992726281</td>\n",
       "      <td>5</td>\n",
       "      <td>0</td>\n",
       "    </tr>\n",
       "    <tr>\n",
       "      <th>0</th>\n",
       "      <td>220</td>\n",
       "      <td>Half-Life 2</td>\n",
       "      <td>0</td>\n",
       "      <td>1290</td>\n",
       "      <td>76561197986638399</td>\n",
       "      <td>5</td>\n",
       "      <td>0</td>\n",
       "    </tr>\n",
       "    <tr>\n",
       "      <th>6</th>\n",
       "      <td>220</td>\n",
       "      <td>Half-Life 2</td>\n",
       "      <td>0</td>\n",
       "      <td>1291</td>\n",
       "      <td>76561198013713790</td>\n",
       "      <td>5</td>\n",
       "      <td>0</td>\n",
       "    </tr>\n",
       "    <tr>\n",
       "      <th>0</th>\n",
       "      <td>220</td>\n",
       "      <td>Half-Life 2</td>\n",
       "      <td>0</td>\n",
       "      <td>1299</td>\n",
       "      <td>76561197979960903</td>\n",
       "      <td>5</td>\n",
       "      <td>0</td>\n",
       "    </tr>\n",
       "    <tr>\n",
       "      <th>0</th>\n",
       "      <td>220</td>\n",
       "      <td>Half-Life 2</td>\n",
       "      <td>0</td>\n",
       "      <td>1370</td>\n",
       "      <td>76561198036506841</td>\n",
       "      <td>5</td>\n",
       "      <td>0</td>\n",
       "    </tr>\n",
       "    <tr>\n",
       "      <th>2</th>\n",
       "      <td>220</td>\n",
       "      <td>Half-Life 2</td>\n",
       "      <td>0</td>\n",
       "      <td>1401</td>\n",
       "      <td>76561197981698222</td>\n",
       "      <td>5</td>\n",
       "      <td>0</td>\n",
       "    </tr>\n",
       "    <tr>\n",
       "      <th>2</th>\n",
       "      <td>220</td>\n",
       "      <td>Half-Life 2</td>\n",
       "      <td>0</td>\n",
       "      <td>1434</td>\n",
       "      <td>76561197977064910</td>\n",
       "      <td>5</td>\n",
       "      <td>0</td>\n",
       "    </tr>\n",
       "    <tr>\n",
       "      <th>2</th>\n",
       "      <td>220</td>\n",
       "      <td>Half-Life 2</td>\n",
       "      <td>0</td>\n",
       "      <td>1460</td>\n",
       "      <td>76561197963157430</td>\n",
       "      <td>5</td>\n",
       "      <td>0</td>\n",
       "    </tr>\n",
       "    <tr>\n",
       "      <th>2</th>\n",
       "      <td>220</td>\n",
       "      <td>Half-Life 2</td>\n",
       "      <td>0</td>\n",
       "      <td>1513</td>\n",
       "      <td>76561197960362198</td>\n",
       "      <td>5</td>\n",
       "      <td>0</td>\n",
       "    </tr>\n",
       "    <tr>\n",
       "      <th>3</th>\n",
       "      <td>220</td>\n",
       "      <td>Half-Life 2</td>\n",
       "      <td>0</td>\n",
       "      <td>1513</td>\n",
       "      <td>76561197977401135</td>\n",
       "      <td>5</td>\n",
       "      <td>0</td>\n",
       "    </tr>\n",
       "    <tr>\n",
       "      <th>5</th>\n",
       "      <td>220</td>\n",
       "      <td>Half-Life 2</td>\n",
       "      <td>0</td>\n",
       "      <td>1520</td>\n",
       "      <td>76561197986252705</td>\n",
       "      <td>5</td>\n",
       "      <td>0</td>\n",
       "    </tr>\n",
       "    <tr>\n",
       "      <th>2</th>\n",
       "      <td>220</td>\n",
       "      <td>Half-Life 2</td>\n",
       "      <td>0</td>\n",
       "      <td>1902</td>\n",
       "      <td>76561197963195032</td>\n",
       "      <td>5</td>\n",
       "      <td>0</td>\n",
       "    </tr>\n",
       "    <tr>\n",
       "      <th>2</th>\n",
       "      <td>220</td>\n",
       "      <td>Half-Life 2</td>\n",
       "      <td>0</td>\n",
       "      <td>1919</td>\n",
       "      <td>76561197965354025</td>\n",
       "      <td>5</td>\n",
       "      <td>0</td>\n",
       "    </tr>\n",
       "    <tr>\n",
       "      <th>2</th>\n",
       "      <td>220</td>\n",
       "      <td>Half-Life 2</td>\n",
       "      <td>0</td>\n",
       "      <td>2222</td>\n",
       "      <td>76561197965198948</td>\n",
       "      <td>5</td>\n",
       "      <td>0</td>\n",
       "    </tr>\n",
       "    <tr>\n",
       "      <th>0</th>\n",
       "      <td>220</td>\n",
       "      <td>Half-Life 2</td>\n",
       "      <td>0</td>\n",
       "      <td>2283</td>\n",
       "      <td>76561197975908819</td>\n",
       "      <td>5</td>\n",
       "      <td>0</td>\n",
       "    </tr>\n",
       "    <tr>\n",
       "      <th>10</th>\n",
       "      <td>220</td>\n",
       "      <td>Half-Life 2</td>\n",
       "      <td>0</td>\n",
       "      <td>2384</td>\n",
       "      <td>76561197984716615</td>\n",
       "      <td>5</td>\n",
       "      <td>0</td>\n",
       "    </tr>\n",
       "    <tr>\n",
       "      <th>1</th>\n",
       "      <td>220</td>\n",
       "      <td>Half-Life 2</td>\n",
       "      <td>0</td>\n",
       "      <td>2518</td>\n",
       "      <td>76561197983546432</td>\n",
       "      <td>5</td>\n",
       "      <td>0</td>\n",
       "    </tr>\n",
       "    <tr>\n",
       "      <th>5</th>\n",
       "      <td>220</td>\n",
       "      <td>Half-Life 2</td>\n",
       "      <td>0</td>\n",
       "      <td>2886</td>\n",
       "      <td>76561197993484284</td>\n",
       "      <td>5</td>\n",
       "      <td>0</td>\n",
       "    </tr>\n",
       "  </tbody>\n",
       "</table>\n",
       "<p>306 rows × 7 columns</p>\n",
       "</div>"
      ],
      "text/plain": [
       "    appid         name  playtime_2weeks  playtime_forever            steamid  \\\n",
       "0     220  Half-Life 2                0                 0  76561197974981757   \n",
       "1     220  Half-Life 2                0                 0  76561197970109671   \n",
       "7     220  Half-Life 2                0                 0  76561197962265797   \n",
       "2     220  Half-Life 2                0                 0  76561197960798610   \n",
       "0     220  Half-Life 2                0                 0  76561197973549873   \n",
       "2     220  Half-Life 2                0                 0  76561197960416122   \n",
       "1     220  Half-Life 2                0                 0  76561198080506584   \n",
       "2     220  Half-Life 2                0                 0  76561197999167393   \n",
       "2     220  Half-Life 2                0                 0  76561197969381714   \n",
       "1     220  Half-Life 2                0                 0  76561197969108243   \n",
       "9     220  Half-Life 2                0                 0  76561198000684653   \n",
       "0     220  Half-Life 2                0                 0  76561198004477054   \n",
       "2     220  Half-Life 2                0                 0  76561197960510604   \n",
       "0     220  Half-Life 2                0                 0  76561197970530770   \n",
       "0     220  Half-Life 2                0                 0  76561198004473020   \n",
       "3     220  Half-Life 2                0                 0  76561197999435466   \n",
       "0     220  Half-Life 2                0                 0  76561197993652932   \n",
       "0     220  Half-Life 2                0                 0  76561197978486568   \n",
       "2     220  Half-Life 2                0                 0  76561198044279236   \n",
       "2     220  Half-Life 2                0                 0  76561197963635176   \n",
       "2     220  Half-Life 2                0                 0  76561197979378676   \n",
       "2     220  Half-Life 2                0                 0  76561198089631381   \n",
       "0     220  Half-Life 2                0                 0  76561197978613875   \n",
       "0     220  Half-Life 2                0                 0  76561197970982165   \n",
       "2     220  Half-Life 2                0                 0  76561197960879907   \n",
       "6     220  Half-Life 2                0                 0  76561197992614493   \n",
       "0     220  Half-Life 2                0                 0  76561197994915776   \n",
       "2     220  Half-Life 2                0                 0  76561197960390481   \n",
       "2     220  Half-Life 2                0                 0  76561197960414216   \n",
       "3     220  Half-Life 2                0                 0  76561197993426378   \n",
       "..    ...          ...              ...               ...                ...   \n",
       "47    220  Half-Life 2                0              1028  76561197980172662   \n",
       "0     220  Half-Life 2                0              1044  76561197973690119   \n",
       "0     220  Half-Life 2                0              1052  76561198005659710   \n",
       "17    220  Half-Life 2                0              1090  76561198046747311   \n",
       "5     220  Half-Life 2                0              1125  76561197992202511   \n",
       "1     220  Half-Life 2                0              1134  76561198031209109   \n",
       "3     220  Half-Life 2                0              1140  76561197984610727   \n",
       "9     220  Half-Life 2                0              1167  76561197993565949   \n",
       "4     220  Half-Life 2                0              1200  76561197960955889   \n",
       "3     220  Half-Life 2                0              1214  76561198000718607   \n",
       "0     220  Half-Life 2                0              1229  76561197978313011   \n",
       "2     220  Half-Life 2                0              1260  76561198012660920   \n",
       "1     220  Half-Life 2                0              1269  76561197992726281   \n",
       "0     220  Half-Life 2                0              1290  76561197986638399   \n",
       "6     220  Half-Life 2                0              1291  76561198013713790   \n",
       "0     220  Half-Life 2                0              1299  76561197979960903   \n",
       "0     220  Half-Life 2                0              1370  76561198036506841   \n",
       "2     220  Half-Life 2                0              1401  76561197981698222   \n",
       "2     220  Half-Life 2                0              1434  76561197977064910   \n",
       "2     220  Half-Life 2                0              1460  76561197963157430   \n",
       "2     220  Half-Life 2                0              1513  76561197960362198   \n",
       "3     220  Half-Life 2                0              1513  76561197977401135   \n",
       "5     220  Half-Life 2                0              1520  76561197986252705   \n",
       "2     220  Half-Life 2                0              1902  76561197963195032   \n",
       "2     220  Half-Life 2                0              1919  76561197965354025   \n",
       "2     220  Half-Life 2                0              2222  76561197965198948   \n",
       "0     220  Half-Life 2                0              2283  76561197975908819   \n",
       "10    220  Half-Life 2                0              2384  76561197984716615   \n",
       "1     220  Half-Life 2                0              2518  76561197983546432   \n",
       "5     220  Half-Life 2                0              2886  76561197993484284   \n",
       "\n",
       "   ratings_forever ratings_2weeks  \n",
       "0                0              0  \n",
       "1                0              0  \n",
       "7                0              0  \n",
       "2                0              0  \n",
       "0                0              0  \n",
       "2                0              0  \n",
       "1                0              0  \n",
       "2                0              0  \n",
       "2                0              0  \n",
       "1                0              0  \n",
       "9                0              0  \n",
       "0                0              0  \n",
       "2                0              0  \n",
       "0                0              0  \n",
       "0                0              0  \n",
       "3                0              0  \n",
       "0                0              0  \n",
       "0                0              0  \n",
       "2                0              0  \n",
       "2                0              0  \n",
       "2                0              0  \n",
       "2                0              0  \n",
       "0                0              0  \n",
       "0                0              0  \n",
       "2                0              0  \n",
       "6                0              0  \n",
       "0                0              0  \n",
       "2                0              0  \n",
       "2                0              0  \n",
       "3                0              0  \n",
       "..             ...            ...  \n",
       "47               4              0  \n",
       "0                4              0  \n",
       "0                4              0  \n",
       "17               4              0  \n",
       "5                4              0  \n",
       "1                4              0  \n",
       "3                4              0  \n",
       "9                4              0  \n",
       "4                4              0  \n",
       "3                5              0  \n",
       "0                5              0  \n",
       "2                5              0  \n",
       "1                5              0  \n",
       "0                5              0  \n",
       "6                5              0  \n",
       "0                5              0  \n",
       "0                5              0  \n",
       "2                5              0  \n",
       "2                5              0  \n",
       "2                5              0  \n",
       "2                5              0  \n",
       "3                5              0  \n",
       "5                5              0  \n",
       "2                5              0  \n",
       "2                5              0  \n",
       "2                5              0  \n",
       "0                5              0  \n",
       "10               5              0  \n",
       "1                5              0  \n",
       "5                5              0  \n",
       "\n",
       "[306 rows x 7 columns]"
      ]
     },
     "execution_count": 718,
     "metadata": {},
     "output_type": "execute_result"
    }
   ],
   "source": [
    "games_users_ratings[games_users_ratings[\"name\"]==\"Half-Life 2\"].sort_values(by=\"playtime_forever\")"
   ]
  },
  {
   "cell_type": "code",
   "execution_count": null,
   "metadata": {
    "collapsed": true
   },
   "outputs": [],
   "source": []
  }
 ],
 "metadata": {
  "kernelspec": {
   "display_name": "Python 2",
   "language": "python",
   "name": "python2"
  },
  "language_info": {
   "codemirror_mode": {
    "name": "ipython",
    "version": 2
   },
   "file_extension": ".py",
   "mimetype": "text/x-python",
   "name": "python",
   "nbconvert_exporter": "python",
   "pygments_lexer": "ipython2",
   "version": "2.7.11"
  }
 },
 "nbformat": 4,
 "nbformat_minor": 0
}
