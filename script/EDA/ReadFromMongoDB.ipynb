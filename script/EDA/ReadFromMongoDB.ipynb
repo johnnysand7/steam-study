{
 "cells": [
  {
   "cell_type": "code",
   "execution_count": 61,
   "metadata": {
    "collapsed": true
   },
   "outputs": [],
   "source": [
    "import pymongo\n",
    "import pandas as pd\n",
    "import matplotlib.pyplot as plt\n",
    "import numpy as np\n",
    "from collections import Counter\n",
    "%matplotlib inline"
   ]
  },
  {
   "cell_type": "markdown",
   "metadata": {},
   "source": [
    "# Connect to MongoDB"
   ]
  },
  {
   "cell_type": "code",
   "execution_count": 307,
   "metadata": {
    "collapsed": false
   },
   "outputs": [],
   "source": [
    "conn = pymongo.MongoClient()['steam']\n",
    "cursor = conn['test'].find({})"
   ]
  },
  {
   "cell_type": "code",
   "execution_count": 308,
   "metadata": {
    "collapsed": false
   },
   "outputs": [
    {
     "name": "stdout",
     "output_type": "stream",
     "text": [
      "<class 'pandas.core.frame.DataFrame'>\n",
      "RangeIndex: 656 entries, 0 to 655\n",
      "Data columns (total 7 columns):\n",
      "_id                656 non-null object\n",
      "ban_status         656 non-null object\n",
      "friends            656 non-null object\n",
      "game_info          656 non-null object\n",
      "profile_summary    656 non-null object\n",
      "steamid            656 non-null object\n",
      "user_info          656 non-null object\n",
      "dtypes: object(7)\n",
      "memory usage: 35.9+ KB\n"
     ]
    }
   ],
   "source": [
    "df = pd.DataFrame(list(cursor))\n",
    "df.info()"
   ]
  },
  {
   "cell_type": "code",
   "execution_count": 39,
   "metadata": {
    "collapsed": true
   },
   "outputs": [],
   "source": [
    "#games = df.copy()\n",
    "#games = games[[\"steamid\", \"game_info\"]]"
   ]
  },
  {
   "cell_type": "markdown",
   "metadata": {},
   "source": [
    "# Unpack Columns Containing a Single Dictionary"
   ]
  },
  {
   "cell_type": "code",
   "execution_count": 12,
   "metadata": {
    "collapsed": false
   },
   "outputs": [],
   "source": [
    "def unpack(df, column, fillna=None):\n",
    "    new_df = None\n",
    "    if fillna is None:\n",
    "        new_df = pd.concat([df, pd.DataFrame((d for idx, d in df[column].iteritems()))], axis=1)\n",
    "        del new_df[column]\n",
    "    else:\n",
    "        new_df = pd.concat([df, pd.DataFrame((d for idx, d in df[column].iteritems())).fillna(fillna)], axis=1)\n",
    "        del new_df[column]\n",
    "    return new_df\n",
    "\n",
    "#unpack(tf, 'nested', 0)"
   ]
  },
  {
   "cell_type": "code",
   "execution_count": 309,
   "metadata": {
    "collapsed": false
   },
   "outputs": [],
   "source": [
    "df = unpack(df, \"user_info\", fillna=None)"
   ]
  },
  {
   "cell_type": "code",
   "execution_count": 310,
   "metadata": {
    "collapsed": false
   },
   "outputs": [],
   "source": [
    "df = unpack(df, \"ban_status\", fillna=None)"
   ]
  },
  {
   "cell_type": "code",
   "execution_count": 259,
   "metadata": {
    "collapsed": false
   },
   "outputs": [
    {
     "data": {
      "text/html": [
       "<div>\n",
       "<table border=\"1\" class=\"dataframe\">\n",
       "  <thead>\n",
       "    <tr style=\"text-align: right;\">\n",
       "      <th></th>\n",
       "      <th>_id</th>\n",
       "      <th>friends</th>\n",
       "      <th>game_info</th>\n",
       "      <th>profile_summary</th>\n",
       "      <th>steamid</th>\n",
       "      <th>avatarfull</th>\n",
       "      <th>commentpermission</th>\n",
       "      <th>communityvisibilitystate</th>\n",
       "      <th>gameextrainfo</th>\n",
       "      <th>gameid</th>\n",
       "      <th>...</th>\n",
       "      <th>primaryclanid</th>\n",
       "      <th>profilestate</th>\n",
       "      <th>realname</th>\n",
       "      <th>timecreated</th>\n",
       "      <th>CommunityBanned</th>\n",
       "      <th>DaysSinceLastBan</th>\n",
       "      <th>EconomyBan</th>\n",
       "      <th>NumberOfGameBans</th>\n",
       "      <th>NumberOfVACBans</th>\n",
       "      <th>VACBanned</th>\n",
       "    </tr>\n",
       "  </thead>\n",
       "  <tbody>\n",
       "    <tr>\n",
       "      <th>0</th>\n",
       "      <td>570fc54763210f0e63d825fc</td>\n",
       "      <td>[{u'steamid': u'76561197962935145', u'friend_s...</td>\n",
       "      <td>[{u'playtime_forever': 63, u'playtime_2weeks':...</td>\n",
       "      <td>No information given.</td>\n",
       "      <td>76561197981918203</td>\n",
       "      <td>https://steamcdn-a.akamaihd.net/steamcommunity...</td>\n",
       "      <td>NaN</td>\n",
       "      <td>3</td>\n",
       "      <td>NaN</td>\n",
       "      <td>NaN</td>\n",
       "      <td>...</td>\n",
       "      <td>103582791429521408</td>\n",
       "      <td>1.0</td>\n",
       "      <td>NaN</td>\n",
       "      <td>1.144367e+09</td>\n",
       "      <td>False</td>\n",
       "      <td>0</td>\n",
       "      <td>none</td>\n",
       "      <td>0</td>\n",
       "      <td>0</td>\n",
       "      <td>False</td>\n",
       "    </tr>\n",
       "  </tbody>\n",
       "</table>\n",
       "<p>1 rows × 28 columns</p>\n",
       "</div>"
      ],
      "text/plain": [
       "                        _id  \\\n",
       "0  570fc54763210f0e63d825fc   \n",
       "\n",
       "                                             friends  \\\n",
       "0  [{u'steamid': u'76561197962935145', u'friend_s...   \n",
       "\n",
       "                                           game_info        profile_summary  \\\n",
       "0  [{u'playtime_forever': 63, u'playtime_2weeks':...  No information given.   \n",
       "\n",
       "             steamid                                         avatarfull  \\\n",
       "0  76561197981918203  https://steamcdn-a.akamaihd.net/steamcommunity...   \n",
       "\n",
       "   commentpermission  communityvisibilitystate gameextrainfo gameid  \\\n",
       "0                NaN                         3           NaN    NaN   \n",
       "\n",
       "     ...           primaryclanid profilestate  realname   timecreated  \\\n",
       "0    ...      103582791429521408          1.0       NaN  1.144367e+09   \n",
       "\n",
       "  CommunityBanned DaysSinceLastBan EconomyBan  NumberOfGameBans  \\\n",
       "0           False                0       none                 0   \n",
       "\n",
       "  NumberOfVACBans  VACBanned  \n",
       "0               0      False  \n",
       "\n",
       "[1 rows x 28 columns]"
      ]
     },
     "execution_count": 259,
     "metadata": {},
     "output_type": "execute_result"
    }
   ],
   "source": [
    "df.head(1)"
   ]
  },
  {
   "cell_type": "markdown",
   "metadata": {},
   "source": [
    "# Split up users based on public or private profiles"
   ]
  },
  {
   "cell_type": "code",
   "execution_count": 311,
   "metadata": {
    "collapsed": true
   },
   "outputs": [],
   "source": [
    "df2 = df.copy()\n",
    "private_df = df2[df2[\"profile_summary\"] == \"private\"]\n",
    "public_df = df2[df2[\"profile_summary\"] != \"private\"]"
   ]
  },
  {
   "cell_type": "code",
   "execution_count": 312,
   "metadata": {
    "collapsed": false
   },
   "outputs": [
    {
     "name": "stdout",
     "output_type": "stream",
     "text": [
      "<class 'pandas.core.frame.DataFrame'>\n",
      "Int64Index: 110 entries, 3 to 654\n",
      "Data columns (total 28 columns):\n",
      "_id                         110 non-null object\n",
      "friends                     110 non-null object\n",
      "game_info                   110 non-null object\n",
      "profile_summary             110 non-null object\n",
      "steamid                     110 non-null object\n",
      "avatarfull                  110 non-null object\n",
      "commentpermission           21 non-null float64\n",
      "communityvisibilitystate    110 non-null int64\n",
      "gameextrainfo               0 non-null object\n",
      "gameid                      0 non-null object\n",
      "gameserverip                0 non-null object\n",
      "gameserversteamid           0 non-null object\n",
      "lastlogoff                  110 non-null int64\n",
      "loccityid                   0 non-null float64\n",
      "loccountrycode              0 non-null object\n",
      "locstatecode                0 non-null object\n",
      "personaname                 110 non-null object\n",
      "personastate                110 non-null int64\n",
      "primaryclanid               0 non-null object\n",
      "profilestate                110 non-null float64\n",
      "realname                    0 non-null object\n",
      "timecreated                 0 non-null float64\n",
      "CommunityBanned             110 non-null bool\n",
      "DaysSinceLastBan            110 non-null int64\n",
      "EconomyBan                  110 non-null object\n",
      "NumberOfGameBans            110 non-null int64\n",
      "NumberOfVACBans             110 non-null int64\n",
      "VACBanned                   110 non-null bool\n",
      "dtypes: bool(2), float64(4), int64(6), object(16)\n",
      "memory usage: 23.4+ KB\n"
     ]
    }
   ],
   "source": [
    "private_df.info()"
   ]
  },
  {
   "cell_type": "code",
   "execution_count": 58,
   "metadata": {
    "collapsed": false
   },
   "outputs": [
    {
     "data": {
      "text/plain": [
       "False    107\n",
       "True       3\n",
       "Name: VACBanned, dtype: int64"
      ]
     },
     "execution_count": 58,
     "metadata": {},
     "output_type": "execute_result"
    }
   ],
   "source": [
    "private_df[\"VACBanned\"].value_counts()#`.replace([\"none\"], 0).value_counts()"
   ]
  },
  {
   "cell_type": "markdown",
   "metadata": {},
   "source": [
    "# Who needs these columns?"
   ]
  },
  {
   "cell_type": "code",
   "execution_count": 313,
   "metadata": {
    "collapsed": false
   },
   "outputs": [],
   "source": [
    "del public_df[\"_id\"]\n",
    "del public_df[\"gameid\"]\n",
    "del public_df[\"commentpermission\"]\n",
    "del public_df[\"gameserverip\"]\n",
    "del public_df[\"gameserversteamid\"]\n",
    "del public_df[\"gameextrainfo\"]"
   ]
  },
  {
   "cell_type": "code",
   "execution_count": 263,
   "metadata": {
    "collapsed": false
   },
   "outputs": [
    {
     "name": "stdout",
     "output_type": "stream",
     "text": [
      "<class 'pandas.core.frame.DataFrame'>\n",
      "Int64Index: 546 entries, 0 to 655\n",
      "Data columns (total 22 columns):\n",
      "friends                     546 non-null object\n",
      "game_info                   546 non-null object\n",
      "profile_summary             546 non-null object\n",
      "steamid                     546 non-null object\n",
      "avatarfull                  546 non-null object\n",
      "communityvisibilitystate    546 non-null int64\n",
      "lastlogoff                  546 non-null int64\n",
      "loccityid                   171 non-null float64\n",
      "loccountrycode              359 non-null object\n",
      "locstatecode                269 non-null object\n",
      "personaname                 546 non-null object\n",
      "personastate                546 non-null int64\n",
      "primaryclanid               546 non-null object\n",
      "profilestate                532 non-null float64\n",
      "realname                    344 non-null object\n",
      "timecreated                 546 non-null float64\n",
      "CommunityBanned             546 non-null bool\n",
      "DaysSinceLastBan            546 non-null int64\n",
      "EconomyBan                  546 non-null object\n",
      "NumberOfGameBans            546 non-null int64\n",
      "NumberOfVACBans             546 non-null int64\n",
      "VACBanned                   546 non-null bool\n",
      "dtypes: bool(2), float64(3), int64(6), object(11)\n",
      "memory usage: 90.6+ KB\n"
     ]
    }
   ],
   "source": [
    "public_df.info()"
   ]
  },
  {
   "cell_type": "code",
   "execution_count": 205,
   "metadata": {
    "collapsed": false
   },
   "outputs": [
    {
     "data": {
      "text/plain": [
       "1695903"
      ]
     },
     "execution_count": 205,
     "metadata": {},
     "output_type": "execute_result"
    }
   ],
   "source": [
    "int(np.mean(summed.values()))"
   ]
  },
  {
   "cell_type": "code",
   "execution_count": 197,
   "metadata": {
    "collapsed": false
   },
   "outputs": [],
   "source": [
    "popular_games = set()\n",
    "for k, v in summed.iteritems():\n",
    "    if v >= 1695903:\n",
    "        popular_games.add(k)"
   ]
  },
  {
   "cell_type": "code",
   "execution_count": 208,
   "metadata": {
    "collapsed": false
   },
   "outputs": [],
   "source": [
    "def popular_game_set(df):\n",
    "    \"\"\"\n",
    "    Pull out only game appids from 'game_info' whose global \n",
    "    forever_playtime is above the average glabal playtime, \n",
    "    reducing the number of apps about 90%\n",
    "    \n",
    "    Parameters\n",
    "    ----------\n",
    "    df : Pandas DataFrame\n",
    "        DataFrame with column 'game_info', containing\n",
    "        a list of dictionaries\n",
    "         \n",
    "    Returns\n",
    "    -------\n",
    "    popular_games : set\n",
    "        Set of game appids whose global playtime is \n",
    "        above the average global playtime\n",
    "    \"\"\"\n",
    "    # Collect the appid and global playtime for each game\n",
    "    # That all users have played\n",
    "    \n",
    "    summed = Counter({})\n",
    "    for user in df[\"game_info\"]:\n",
    "        gametime = Counter({})\n",
    "        for game in user:\n",
    "            gametime[str(game[\"appid\"])] = game[\"playtime_forever\"]\n",
    "            if game[\"appid\"] not in summed.keys():\n",
    "                summed.update(gametime)\n",
    "        summed += gametime\n",
    "        \n",
    "    global_averages = int(np.mean(summed.values()))\n",
    "    \n",
    "    # Condense into a set of popular appids\n",
    "    \n",
    "    popular_games = set()\n",
    "    for k, v in summed.iteritems():\n",
    "        if v >= global_averages:\n",
    "            popular_games.add(k)\n",
    "    \n",
    "    return popular_games"
   ]
  },
  {
   "cell_type": "code",
   "execution_count": 220,
   "metadata": {
    "collapsed": false
   },
   "outputs": [],
   "source": [
    "popular_games = popular_game_set(public_df)"
   ]
  },
  {
   "cell_type": "code",
   "execution_count": 328,
   "metadata": {
    "collapsed": false
   },
   "outputs": [
    {
     "data": {
      "text/html": [
       "<div>\n",
       "<table border=\"1\" class=\"dataframe\">\n",
       "  <thead>\n",
       "    <tr style=\"text-align: right;\">\n",
       "      <th></th>\n",
       "      <th>steamid</th>\n",
       "      <th>game_info</th>\n",
       "    </tr>\n",
       "  </thead>\n",
       "  <tbody>\n",
       "    <tr>\n",
       "      <th>0</th>\n",
       "      <td>76561197981918203</td>\n",
       "      <td>[{u'steamid': u'76561197981918203', u'playtime...</td>\n",
       "    </tr>\n",
       "    <tr>\n",
       "      <th>1</th>\n",
       "      <td>76561197993408842</td>\n",
       "      <td>[{u'steamid': u'76561197993408842', u'playtime...</td>\n",
       "    </tr>\n",
       "    <tr>\n",
       "      <th>2</th>\n",
       "      <td>76561198042305043</td>\n",
       "      <td>[{u'playtime_forever': 84, u'playtime_2weeks':...</td>\n",
       "    </tr>\n",
       "    <tr>\n",
       "      <th>4</th>\n",
       "      <td>76561197980092471</td>\n",
       "      <td>[{u'playtime_forever': 246, u'playtime_2weeks'...</td>\n",
       "    </tr>\n",
       "    <tr>\n",
       "      <th>5</th>\n",
       "      <td>76561198202663196</td>\n",
       "      <td>[{u'playtime_forever': 1, u'playtime_2weeks': ...</td>\n",
       "    </tr>\n",
       "  </tbody>\n",
       "</table>\n",
       "</div>"
      ],
      "text/plain": [
       "             steamid                                          game_info\n",
       "0  76561197981918203  [{u'steamid': u'76561197981918203', u'playtime...\n",
       "1  76561197993408842  [{u'steamid': u'76561197993408842', u'playtime...\n",
       "2  76561198042305043  [{u'playtime_forever': 84, u'playtime_2weeks':...\n",
       "4  76561197980092471  [{u'playtime_forever': 246, u'playtime_2weeks'...\n",
       "5  76561198202663196  [{u'playtime_forever': 1, u'playtime_2weeks': ..."
      ]
     },
     "execution_count": 328,
     "metadata": {},
     "output_type": "execute_result"
    }
   ],
   "source": [
    "games = public_df.copy()\n",
    "games = games[[\"steamid\", \"game_info\"]]\n",
    "#games = games.set_index(\"steamid\")\n",
    "games.head()"
   ]
  },
  {
   "cell_type": "markdown",
   "metadata": {},
   "source": [
    "```python\n",
    "\"\"\"\n",
    "Return the coordinates of a stadium\n",
    "\n",
    "Paramteters\n",
    "-----------\n",
    "name : string\n",
    "    Name of statium (MUST match Wikipedia)\n",
    "\n",
    "Returns\n",
    "-------\n",
    "lat, lon: float\n",
    "    Latitude and Longitude in decimal degrees\n",
    "\n",
    "Examples\n",
    "--------\n",
    ">>> get_stadium_coordinates(\"CenturyLink Field\")\n",
    "(47.5952, -122.3316)\n",
    "\"\"\"\n",
    "```"
   ]
  },
  {
   "cell_type": "markdown",
   "metadata": {},
   "source": [
    "# Pivot Table"
   ]
  },
  {
   "cell_type": "code",
   "execution_count": 351,
   "metadata": {
    "collapsed": false
   },
   "outputs": [],
   "source": [
    "def sparse_games(df, game_id_set, vals=\"playtime_forever\"):\n",
    "    \"\"\"\n",
    "    Assumes a df with public non-null values in the form:\n",
    "    |   |steamid          |game_info        |\n",
    "    +---+-----------------+-----------------+\n",
    "    |0  |76561197967398882|[{u'playt...},{}]|\n",
    "    \n",
    "    Returns a pivoted data fram where each row is\n",
    "    'steamid', the columns are game names, and the \n",
    "    values are 'playtime_forever' (default) or \n",
    "    'playtime_2weeks'\n",
    "    \"\"\"\n",
    "    df = df.set_index(\"steamid\")\n",
    "    for i in xrange(len(df)):\n",
    "        \n",
    "        #[game.update({\"steamid\":df.iloc[i].name})\\\n",
    "        #           for game in df.iloc[i][\"game_info\"]\\\n",
    "        #           if str(game[\"appid\"]) in game_id_set]\n",
    "        \n",
    "        for game in df.iloc[i][\"game_info\"]:\n",
    "            if str(game[\"appid\"]) in game_id_set:\n",
    "                game.update({\"steamid\":df.iloc[i].name})\n",
    "            else:\n",
    "                df.iloc[i][\"game_info\"].remove(game)\n",
    "    \n",
    "    sparsegames = pd.DataFrame()\n",
    "    for user in df[\"game_info\"]:\n",
    "        gamedf = pd.DataFrame(user)\n",
    "        sparsegames = sparsegames.append(gamedf)\n",
    "    \n",
    "    \n",
    "    pivoted = pd.pivot_table(sparsegames, index=\"steamid\", columns=[\"appid\"], values=[vals], fill_value=0)\n",
    "    return pivoted"
   ]
  },
  {
   "cell_type": "code",
   "execution_count": 352,
   "metadata": {
    "collapsed": false
   },
   "outputs": [
    {
     "data": {
      "text/html": [
       "<div>\n",
       "<table border=\"1\" class=\"dataframe\">\n",
       "  <thead>\n",
       "    <tr>\n",
       "      <th></th>\n",
       "      <th colspan=\"21\" halign=\"left\">playtime_forever</th>\n",
       "    </tr>\n",
       "    <tr>\n",
       "      <th>appid</th>\n",
       "      <th>10</th>\n",
       "      <th>70</th>\n",
       "      <th>220</th>\n",
       "      <th>240</th>\n",
       "      <th>280</th>\n",
       "      <th>300</th>\n",
       "      <th>380</th>\n",
       "      <th>400</th>\n",
       "      <th>420</th>\n",
       "      <th>440</th>\n",
       "      <th>...</th>\n",
       "      <th>300550</th>\n",
       "      <th>301520</th>\n",
       "      <th>304030</th>\n",
       "      <th>304930</th>\n",
       "      <th>322330</th>\n",
       "      <th>346110</th>\n",
       "      <th>346900</th>\n",
       "      <th>359320</th>\n",
       "      <th>363970</th>\n",
       "      <th>377160</th>\n",
       "    </tr>\n",
       "    <tr>\n",
       "      <th>steamid</th>\n",
       "      <th></th>\n",
       "      <th></th>\n",
       "      <th></th>\n",
       "      <th></th>\n",
       "      <th></th>\n",
       "      <th></th>\n",
       "      <th></th>\n",
       "      <th></th>\n",
       "      <th></th>\n",
       "      <th></th>\n",
       "      <th></th>\n",
       "      <th></th>\n",
       "      <th></th>\n",
       "      <th></th>\n",
       "      <th></th>\n",
       "      <th></th>\n",
       "      <th></th>\n",
       "      <th></th>\n",
       "      <th></th>\n",
       "      <th></th>\n",
       "      <th></th>\n",
       "    </tr>\n",
       "  </thead>\n",
       "  <tbody>\n",
       "    <tr>\n",
       "      <th>76561197960273048</th>\n",
       "      <td>2337</td>\n",
       "      <td>0</td>\n",
       "      <td>0</td>\n",
       "      <td>1076</td>\n",
       "      <td>0</td>\n",
       "      <td>0</td>\n",
       "      <td>0</td>\n",
       "      <td>38</td>\n",
       "      <td>265</td>\n",
       "      <td>3873</td>\n",
       "      <td>...</td>\n",
       "      <td>0</td>\n",
       "      <td>0</td>\n",
       "      <td>0</td>\n",
       "      <td>211</td>\n",
       "      <td>0</td>\n",
       "      <td>0</td>\n",
       "      <td>0</td>\n",
       "      <td>0</td>\n",
       "      <td>0</td>\n",
       "      <td>0</td>\n",
       "    </tr>\n",
       "    <tr>\n",
       "      <th>76561197960277603</th>\n",
       "      <td>230</td>\n",
       "      <td>0</td>\n",
       "      <td>0</td>\n",
       "      <td>809</td>\n",
       "      <td>0</td>\n",
       "      <td>151</td>\n",
       "      <td>0</td>\n",
       "      <td>7</td>\n",
       "      <td>0</td>\n",
       "      <td>326971</td>\n",
       "      <td>...</td>\n",
       "      <td>0</td>\n",
       "      <td>0</td>\n",
       "      <td>0</td>\n",
       "      <td>0</td>\n",
       "      <td>0</td>\n",
       "      <td>0</td>\n",
       "      <td>0</td>\n",
       "      <td>0</td>\n",
       "      <td>0</td>\n",
       "      <td>0</td>\n",
       "    </tr>\n",
       "    <tr>\n",
       "      <th>76561197960281410</th>\n",
       "      <td>0</td>\n",
       "      <td>0</td>\n",
       "      <td>0</td>\n",
       "      <td>0</td>\n",
       "      <td>0</td>\n",
       "      <td>82</td>\n",
       "      <td>259</td>\n",
       "      <td>5</td>\n",
       "      <td>395</td>\n",
       "      <td>0</td>\n",
       "      <td>...</td>\n",
       "      <td>0</td>\n",
       "      <td>5183</td>\n",
       "      <td>0</td>\n",
       "      <td>42</td>\n",
       "      <td>0</td>\n",
       "      <td>0</td>\n",
       "      <td>0</td>\n",
       "      <td>0</td>\n",
       "      <td>0</td>\n",
       "      <td>0</td>\n",
       "    </tr>\n",
       "    <tr>\n",
       "      <th>76561197960282871</th>\n",
       "      <td>46</td>\n",
       "      <td>0</td>\n",
       "      <td>0</td>\n",
       "      <td>1815</td>\n",
       "      <td>0</td>\n",
       "      <td>62</td>\n",
       "      <td>0</td>\n",
       "      <td>66</td>\n",
       "      <td>385</td>\n",
       "      <td>166</td>\n",
       "      <td>...</td>\n",
       "      <td>54</td>\n",
       "      <td>0</td>\n",
       "      <td>0</td>\n",
       "      <td>0</td>\n",
       "      <td>0</td>\n",
       "      <td>372</td>\n",
       "      <td>0</td>\n",
       "      <td>27</td>\n",
       "      <td>29</td>\n",
       "      <td>0</td>\n",
       "    </tr>\n",
       "    <tr>\n",
       "      <th>76561197960303286</th>\n",
       "      <td>126</td>\n",
       "      <td>0</td>\n",
       "      <td>22</td>\n",
       "      <td>60</td>\n",
       "      <td>0</td>\n",
       "      <td>0</td>\n",
       "      <td>0</td>\n",
       "      <td>119</td>\n",
       "      <td>0</td>\n",
       "      <td>4452</td>\n",
       "      <td>...</td>\n",
       "      <td>0</td>\n",
       "      <td>0</td>\n",
       "      <td>0</td>\n",
       "      <td>0</td>\n",
       "      <td>0</td>\n",
       "      <td>0</td>\n",
       "      <td>83</td>\n",
       "      <td>198</td>\n",
       "      <td>0</td>\n",
       "      <td>0</td>\n",
       "    </tr>\n",
       "  </tbody>\n",
       "</table>\n",
       "<p>5 rows × 378 columns</p>\n",
       "</div>"
      ],
      "text/plain": [
       "                  playtime_forever                                            \\\n",
       "appid                       10     70     220    240    280    300    380      \n",
       "steamid                                                                        \n",
       "76561197960273048             2337      0      0   1076      0      0      0   \n",
       "76561197960277603              230      0      0    809      0    151      0   \n",
       "76561197960281410                0      0      0      0      0     82    259   \n",
       "76561197960282871               46      0      0   1815      0     62      0   \n",
       "76561197960303286              126      0     22     60      0      0      0   \n",
       "\n",
       "                                         ...                                \\\n",
       "appid             400    420     440     ...   300550 301520 304030 304930   \n",
       "steamid                                  ...                                 \n",
       "76561197960273048     38    265    3873  ...        0      0      0    211   \n",
       "76561197960277603      7      0  326971  ...        0      0      0      0   \n",
       "76561197960281410      5    395       0  ...        0   5183      0     42   \n",
       "76561197960282871     66    385     166  ...       54      0      0      0   \n",
       "76561197960303286    119      0    4452  ...        0      0      0      0   \n",
       "\n",
       "                                                             \n",
       "appid             322330 346110 346900 359320 363970 377160  \n",
       "steamid                                                      \n",
       "76561197960273048      0      0      0      0      0      0  \n",
       "76561197960277603      0      0      0      0      0      0  \n",
       "76561197960281410      0      0      0      0      0      0  \n",
       "76561197960282871      0    372      0     27     29      0  \n",
       "76561197960303286      0      0     83    198      0      0  \n",
       "\n",
       "[5 rows x 378 columns]"
      ]
     },
     "execution_count": 352,
     "metadata": {},
     "output_type": "execute_result"
    }
   ],
   "source": [
    "games_matrix = sparse_games(games, popular_games)\n",
    "games_matrix.head()"
   ]
  },
  {
   "cell_type": "markdown",
   "metadata": {},
   "source": [
    "# Bin columns based on playtime\n",
    "\n",
    "\n",
    "|playtime [min]|     rating     |\n",
    "|--------------|----------------|\n",
    "|    0         |      0         |\n",
    "|    1-60      |      1         |\n",
    "|    61-120    |      2         |\n",
    "|    121-600   |      3         |\n",
    "|    601-1200  |      4         |\n",
    "|    1201 +    |      5         |\n",
    "`pandas.cut(x, bins, right=True, labels=None, retbins=False, precision=3, include_lowest=False)`"
   ]
  },
  {
   "cell_type": "code",
   "execution_count": 267,
   "metadata": {
    "collapsed": false
   },
   "outputs": [],
   "source": [
    "#[game.update({\"steamid\":\"bird\"}) for game in public_df.iloc[3][\"game_info\"]]"
   ]
  },
  {
   "cell_type": "code",
   "execution_count": 409,
   "metadata": {
    "collapsed": false
   },
   "outputs": [],
   "source": [
    "dota2 = games_matrix.playtime_forever[570]\n",
    "csgo = games_matrix.playtime_forever[730]\n",
    "skyrim = games_matrix.playtime_forever[72850]"
   ]
  },
  {
   "cell_type": "code",
   "execution_count": 412,
   "metadata": {
    "collapsed": false
   },
   "outputs": [],
   "source": [
    "dota2_vals = pd.cut(dota2, bins=[-1, 0, 60, 120, 600, 1200, 10e10], labels=[0,1,2,3,4,5]).value_counts()\n",
    "csgo_vals = pd.cut(csgo, bins=[-1, 0, 60, 120, 600, 1200, 10e10], labels=[0,1,2,3,4,5]).value_counts()\n",
    "skyrim_vals = pd.cut(skyrim, bins=[-1, 0, 60, 120, 600, 1200, 10e10], labels=[0,1,2,3,4,5]).value_counts()#, labels=[0,1,2,3,4,5]"
   ]
  },
  {
   "cell_type": "code",
   "execution_count": 435,
   "metadata": {
    "collapsed": false
   },
   "outputs": [
    {
     "data": {
      "text/plain": [
       "array([0, 5, 1, 3, 4, 2])"
      ]
     },
     "execution_count": 435,
     "metadata": {},
     "output_type": "execute_result"
    }
   ],
   "source": [
    "np.array(dota2_vals.index)"
   ]
  },
  {
   "cell_type": "code",
   "execution_count": 452,
   "metadata": {
    "collapsed": false
   },
   "outputs": [
    {
     "data": {
      "image/png": "[encoded data removed]",
      "text/plain": [
       "<matplotlib.figure.Figure at 0x133285790>"
      ]
     },
     "metadata": {},
     "output_type": "display_data"
    }
   ],
   "source": [
    "plt.figure(figsize=(9,7))\n",
    "ax = plt.subplot(111)\n",
    "ax.bar(np.array(dota2_vals.index)-0.3, dota2_vals.values, width=0.3, align=\"center\", alpha=0.7, color='b', label=\"Dota 2\")\n",
    "ax.bar(np.array(skyrim_vals.index)+0.3, skyrim_vals.values, width=0.3, align=\"center\", alpha=0.7, color='g', label=\"Skyrim\")\n",
    "ax.bar(csgo_vals.index, csgo_vals.values, width=0.3, align=\"center\", alpha=0.7, color='r', label=\"CS:GO\")\n",
    "ax.legend(loc=\"upper right\", prop={'size':20})\n",
    "plt.ylabel(\"Frequency\", fontsize=15)\n",
    "plt.xlabel(\"Rating\", fontsize=15)\n",
    "plt.title(\"Playtime to Rating Conversion\", fontsize=20)\n",
    "plt.show()"
   ]
  },
  {
   "cell_type": "markdown",
   "metadata": {},
   "source": [
    "# Attempted "
   ]
  },
  {
   "cell_type": "code",
   "execution_count": null,
   "metadata": {
    "collapsed": true
   },
   "outputs": [],
   "source": []
  },
  {
   "cell_type": "code",
   "execution_count": null,
   "metadata": {
    "collapsed": true
   },
   "outputs": [],
   "source": []
  },
  {
   "cell_type": "code",
   "execution_count": null,
   "metadata": {
    "collapsed": true
   },
   "outputs": [],
   "source": []
  },
  {
   "cell_type": "code",
   "execution_count": null,
   "metadata": {
    "collapsed": true
   },
   "outputs": [],
   "source": []
  },
  {
   "cell_type": "code",
   "execution_count": 332,
   "metadata": {
    "collapsed": false
   },
   "outputs": [
    {
     "data": {
      "text/plain": [
       "1977.449806949807"
      ]
     },
     "execution_count": 332,
     "metadata": {},
     "output_type": "execute_result"
    }
   ],
   "source": [
    "game_times.mean()"
   ]
  },
  {
   "cell_type": "code",
   "execution_count": 346,
   "metadata": {
    "collapsed": false
   },
   "outputs": [
    {
     "name": "stdout",
     "output_type": "stream",
     "text": [
      "1977.44980695\n"
     ]
    }
   ],
   "source": [
    "game_times = np.array([])\n",
    "for game in pivoted:\n",
    "    #print Pivoted.playtime_2weeks[game].sum()\n",
    "    game_times = np.append(game_times, pivoted[game].sum())\n",
    "print game_times.mean()"
   ]
  },
  {
   "cell_type": "code",
   "execution_count": 280,
   "metadata": {
    "collapsed": false
   },
   "outputs": [
    {
     "data": {
      "text/plain": [
       "1031.1333333333334"
      ]
     },
     "execution_count": 280,
     "metadata": {},
     "output_type": "execute_result"
    }
   ],
   "source": [
    "Pivoted.playtime_2weeks[730].sum()/60."
   ]
  },
  {
   "cell_type": "code",
   "execution_count": 308,
   "metadata": {
    "collapsed": false
   },
   "outputs": [
    {
     "data": {
      "text/plain": [
       "15227.731133113311"
      ]
     },
     "execution_count": 308,
     "metadata": {},
     "output_type": "execute_result"
    }
   ],
   "source": [
    "game_times.mean()"
   ]
  },
  {
   "cell_type": "code",
   "execution_count": 311,
   "metadata": {
    "collapsed": false
   },
   "outputs": [
    {
     "data": {
      "text/plain": [
       "Int64Index([10, 20, 30, 40, 50, 60, 70, 80, 92, 100], dtype='int64', name=u'appid')"
      ]
     },
     "execution_count": 311,
     "metadata": {},
     "output_type": "execute_result"
    }
   ],
   "source": [
    "Pivoted.playtime_forever.columns[:10]"
   ]
  },
  {
   "cell_type": "markdown",
   "metadata": {},
   "source": [
    "# Drop columns with with total playtime below average"
   ]
  },
  {
   "cell_type": "code",
   "execution_count": 348,
   "metadata": {
    "collapsed": false
   },
   "outputs": [],
   "source": [
    "for col in pivoted.columns:\n",
    "    if pivoted[col].sum() <= 1977:\n",
    "        pivoted.drop(col, axis=1, inplace=True)"
   ]
  },
  {
   "cell_type": "code",
   "execution_count": 337,
   "metadata": {
    "collapsed": false
   },
   "outputs": [
    {
     "data": {
      "text/plain": [
       "uid\n",
       "76561197976676146    1588\n",
       "76561197980092471       0\n",
       "76561197981918203     234\n",
       "76561197993408842       0\n",
       "76561197995295208       0\n",
       "Name: 730.0, dtype: int64"
      ]
     },
     "execution_count": 337,
     "metadata": {},
     "output_type": "execute_result"
    }
   ],
   "source": [
    "#Pivoted.playtime_forever.drop(10, axis=1)\n",
    "pivoted.head()[730]"
   ]
  },
  {
   "cell_type": "code",
   "execution_count": null,
   "metadata": {
    "collapsed": true
   },
   "outputs": [],
   "source": []
  },
  {
   "cell_type": "code",
   "execution_count": null,
   "metadata": {
    "collapsed": true
   },
   "outputs": [],
   "source": []
  },
  {
   "cell_type": "code",
   "execution_count": 125,
   "metadata": {
    "collapsed": false
   },
   "outputs": [
    {
     "data": {
      "text/plain": [
       "u'76561198042305043'"
      ]
     },
     "execution_count": 125,
     "metadata": {},
     "output_type": "execute_result"
    }
   ],
   "source": [
    "sample.iloc[2].name"
   ]
  },
  {
   "cell_type": "code",
   "execution_count": 126,
   "metadata": {
    "collapsed": false
   },
   "outputs": [],
   "source": [
    "for i in xrange(len(sample)):\n",
    "    #print i\n",
    "    for g in sample.iloc[i][\"game_info\"]:\n",
    "        #print len(g)\n",
    "        #print g[\"name\"], g[\"playtime_forever\"], pub_games[\"steamid\"][i]\n",
    "        g[\"uid\"] = sample.iloc[i].name\n",
    "        #print pub_games[\"steamid\"][i]\n",
    "        #del g[\"appid\"]\n",
    "    #print game[0]"
   ]
  },
  {
   "cell_type": "code",
   "execution_count": 43,
   "metadata": {
    "collapsed": false
   },
   "outputs": [
    {
     "data": {
      "text/plain": [
       "[{u'name': u'Half-Life 2',\n",
       "  u'playtime_2weeks': 0,\n",
       "  u'playtime_forever': 63,\n",
       "  'steamid': u'76561197981918203',\n",
       "  'uid': u'76561197981918203'},\n",
       " {u'name': u'Counter-Strike: Source',\n",
       "  u'playtime_2weeks': 0,\n",
       "  u'playtime_forever': 72,\n",
       "  'steamid': u'76561197981918203',\n",
       "  'uid': u'76561197981918203'},\n",
       " {u'name': u'Half-Life: Source',\n",
       "  u'playtime_2weeks': 0,\n",
       "  u'playtime_forever': 0,\n",
       "  'steamid': u'76561197981918203',\n",
       "  'uid': u'76561197981918203'},\n",
       " {u'name': u'Half-Life 2: Deathmatch',\n",
       "  u'playtime_2weeks': 0,\n",
       "  u'playtime_forever': 0,\n",
       "  'steamid': u'76561197981918203',\n",
       "  'uid': u'76561197981918203'},\n",
       " {u'name': u'Half-Life 2: Lost Coast',\n",
       "  u'playtime_2weeks': 0,\n",
       "  u'playtime_forever': 25,\n",
       "  'steamid': u'76561197981918203',\n",
       "  'uid': u'76561197981918203'},\n",
       " {u'name': u'Half-Life Deathmatch: Source',\n",
       "  u'playtime_2weeks': 0,\n",
       "  u'playtime_forever': 0,\n",
       "  'steamid': u'76561197981918203',\n",
       "  'uid': u'76561197981918203'},\n",
       " {u'name': u'Half-Life 2: Episode One',\n",
       "  u'playtime_2weeks': 0,\n",
       "  u'playtime_forever': 0,\n",
       "  'steamid': u'76561197981918203',\n",
       "  'uid': u'76561197981918203'},\n",
       " {u'name': u'Deus Ex: Game of the Year Edition',\n",
       "  u'playtime_2weeks': 0,\n",
       "  u'playtime_forever': 5,\n",
       "  'steamid': u'76561197981918203',\n",
       "  'uid': u'76561197981918203'},\n",
       " {u'name': u'Deus Ex: Invisible War',\n",
       "  u'playtime_2weeks': 0,\n",
       "  u'playtime_forever': 0,\n",
       "  'steamid': u'76561197981918203',\n",
       "  'uid': u'76561197981918203'},\n",
       " {u'name': u\"Sid Meier's Civilization IV\",\n",
       "  u'playtime_2weeks': 0,\n",
       "  u'playtime_forever': 0,\n",
       "  'steamid': u'76561197981918203',\n",
       "  'uid': u'76561197981918203'},\n",
       " {u'name': u\"Sid Meier's Civilization IV: Warlords\",\n",
       "  u'playtime_2weeks': 0,\n",
       "  u'playtime_forever': 0,\n",
       "  'steamid': u'76561197981918203',\n",
       "  'uid': u'76561197981918203'},\n",
       " {u'name': u\"Sid Meier's Civilization IV: Beyond the Sword\",\n",
       "  u'playtime_2weeks': 0,\n",
       "  u'playtime_forever': 0,\n",
       "  'steamid': u'76561197981918203',\n",
       "  'uid': u'76561197981918203'},\n",
       " {u'name': u\"Sid Meier's Civilization IV: Colonization\",\n",
       "  u'playtime_2weeks': 0,\n",
       "  u'playtime_forever': 0,\n",
       "  'steamid': u'76561197981918203',\n",
       "  'uid': u'76561197981918203'},\n",
       " {u'name': u\"Sid Meier's Civilization IV\",\n",
       "  u'playtime_2weeks': 0,\n",
       "  u'playtime_forever': 0,\n",
       "  'steamid': u'76561197981918203',\n",
       "  'uid': u'76561197981918203'},\n",
       " {u'name': u\"Sid Meier's Civilization IV: Warlords\",\n",
       "  u'playtime_2weeks': 0,\n",
       "  u'playtime_forever': 0,\n",
       "  'steamid': u'76561197981918203',\n",
       "  'uid': u'76561197981918203'},\n",
       " {u'name': u\"Sid Meier's Civilization IV: Beyond the Sword\",\n",
       "  u'playtime_2weeks': 0,\n",
       "  u'playtime_forever': 0,\n",
       "  'steamid': u'76561197981918203',\n",
       "  'uid': u'76561197981918203'},\n",
       " {u'name': u'Arma 2: Operation Arrowhead',\n",
       "  u'playtime_2weeks': 0,\n",
       "  u'playtime_forever': 0,\n",
       "  'steamid': u'76561197981918203',\n",
       "  'uid': u'76561197981918203'},\n",
       " {u'name': u'Arma 2: Operation Arrowhead Beta (Obsolete)',\n",
       "  u'playtime_2weeks': 0,\n",
       "  u'playtime_forever': 0,\n",
       "  'steamid': u'76561197981918203',\n",
       "  'uid': u'76561197981918203'},\n",
       " {u'name': u\"Sid Meier's Civilization V\",\n",
       "  u'playtime_2weeks': 0,\n",
       "  u'playtime_forever': 496,\n",
       "  'steamid': u'76561197981918203',\n",
       "  'uid': u'76561197981918203'},\n",
       " {u'name': u'Terraria',\n",
       "  u'playtime_2weeks': 0,\n",
       "  u'playtime_forever': 4492,\n",
       "  'steamid': u'76561197981918203',\n",
       "  'uid': u'76561197981918203'},\n",
       " {u'name': u'Supreme Commander',\n",
       "  u'playtime_2weeks': 0,\n",
       "  u'playtime_forever': 130,\n",
       "  'steamid': u'76561197981918203',\n",
       "  'uid': u'76561197981918203'},\n",
       " {u'name': u'Saints Row: The Third',\n",
       "  u'playtime_2weeks': 0,\n",
       "  u'playtime_forever': 0,\n",
       "  'steamid': u'76561197981918203',\n",
       "  'uid': u'76561197981918203'},\n",
       " {u'name': u'Sins of a Solar Empire: Trinity',\n",
       "  u'playtime_2weeks': 0,\n",
       "  u'playtime_forever': 251,\n",
       "  'steamid': u'76561197981918203',\n",
       "  'uid': u'76561197981918203'},\n",
       " {u'name': u'Serious Sam 3: BFE',\n",
       "  u'playtime_2weeks': 0,\n",
       "  u'playtime_forever': 10,\n",
       "  'steamid': u'76561197981918203',\n",
       "  'uid': u'76561197981918203'},\n",
       " {u'name': u'FTL: Faster Than Light',\n",
       "  u'playtime_2weeks': 0,\n",
       "  u'playtime_forever': 9,\n",
       "  'steamid': u'76561197981918203',\n",
       "  'uid': u'76561197981918203'},\n",
       " {u'name': u'DOOM 3: BFG Edition',\n",
       "  u'playtime_2weeks': 0,\n",
       "  u'playtime_forever': 113,\n",
       "  'steamid': u'76561197981918203',\n",
       "  'uid': u'76561197981918203'},\n",
       " {u'name': u'Hacker Evolution',\n",
       "  u'playtime_2weeks': 0,\n",
       "  u'playtime_forever': 25,\n",
       "  'steamid': u'76561197981918203',\n",
       "  'uid': u'76561197981918203'},\n",
       " {u'name': u'Hacker Evolution - Untold',\n",
       "  u'playtime_2weeks': 0,\n",
       "  u'playtime_forever': 0,\n",
       "  'steamid': u'76561197981918203',\n",
       "  'uid': u'76561197981918203'},\n",
       " {u'name': u'Hacker Evolution Duality',\n",
       "  u'playtime_2weeks': 0,\n",
       "  u'playtime_forever': 0,\n",
       "  'steamid': u'76561197981918203',\n",
       "  'uid': u'76561197981918203'},\n",
       " {u'name': u'Company of Heroes',\n",
       "  u'playtime_2weeks': 0,\n",
       "  u'playtime_forever': 0,\n",
       "  'steamid': u'76561197981918203',\n",
       "  'uid': u'76561197981918203'},\n",
       " {u'name': u'Company of Heroes: Opposing Fronts',\n",
       "  u'playtime_2weeks': 0,\n",
       "  u'playtime_forever': 0,\n",
       "  'steamid': u'76561197981918203',\n",
       "  'uid': u'76561197981918203'},\n",
       " {u'name': u'Company of Heroes: Tales of Valor',\n",
       "  u'playtime_2weeks': 0,\n",
       "  u'playtime_forever': 0,\n",
       "  'steamid': u'76561197981918203',\n",
       "  'uid': u'76561197981918203'},\n",
       " {u'name': u'Metro 2033',\n",
       "  u'playtime_2weeks': 0,\n",
       "  u'playtime_forever': 0,\n",
       "  'steamid': u'76561197981918203',\n",
       "  'uid': u'76561197981918203'},\n",
       " {u'name': u'Darksiders',\n",
       "  u'playtime_2weeks': 0,\n",
       "  u'playtime_forever': 0,\n",
       "  'steamid': u'76561197981918203',\n",
       "  'uid': u'76561197981918203'},\n",
       " {u'name': u'Red Faction: Armageddon',\n",
       "  u'playtime_2weeks': 0,\n",
       "  u'playtime_forever': 0,\n",
       "  'steamid': u'76561197981918203',\n",
       "  'uid': u'76561197981918203'},\n",
       " {u'name': u'Company of Heroes (New Steam Version)',\n",
       "  u'playtime_2weeks': 0,\n",
       "  u'playtime_forever': 0,\n",
       "  'steamid': u'76561197981918203',\n",
       "  'uid': u'76561197981918203'},\n",
       " {u'name': u'The Cave',\n",
       "  u'playtime_2weeks': 0,\n",
       "  u'playtime_forever': 0,\n",
       "  'steamid': u'76561197981918203',\n",
       "  'uid': u'76561197981918203'},\n",
       " {u'name': u'Tribes: Ascend',\n",
       "  u'playtime_2weeks': 0,\n",
       "  u'playtime_forever': 0,\n",
       "  'steamid': u'76561197981918203',\n",
       "  'uid': u'76561197981918203'},\n",
       " {u'name': u'Arma 2: DayZ Mod',\n",
       "  u'playtime_2weeks': 0,\n",
       "  u'playtime_forever': 4,\n",
       "  'steamid': u'76561197981918203',\n",
       "  'uid': u'76561197981918203'},\n",
       " {u'name': u'Age of Empires II: HD Edition',\n",
       "  u'playtime_2weeks': 0,\n",
       "  u'playtime_forever': 256,\n",
       "  'steamid': u'76561197981918203',\n",
       "  'uid': u'76561197981918203'},\n",
       " {u'name': u'Far Cry\\xae 3 Blood Dragon',\n",
       "  u'playtime_2weeks': 0,\n",
       "  u'playtime_forever': 0,\n",
       "  'steamid': u'76561197981918203',\n",
       "  'uid': u'76561197981918203'},\n",
       " {u'name': u'Arma 2',\n",
       "  u'playtime_2weeks': 0,\n",
       "  u'playtime_forever': 12,\n",
       "  'steamid': u'76561197981918203',\n",
       "  'uid': u'76561197981918203'},\n",
       " {u'name': u'Space Engineers',\n",
       "  u'playtime_2weeks': 0,\n",
       "  u'playtime_forever': 45,\n",
       "  'steamid': u'76561197981918203',\n",
       "  'uid': u'76561197981918203'},\n",
       " {u'name': u'Left 4 Dead 2',\n",
       "  u'playtime_2weeks': 0,\n",
       "  u'playtime_forever': 60,\n",
       "  'steamid': u'76561197981918203',\n",
       "  'uid': u'76561197981918203'},\n",
       " {u'name': u'Halo: Spartan Assault',\n",
       "  u'playtime_2weeks': 0,\n",
       "  u'playtime_forever': 5,\n",
       "  'steamid': u'76561197981918203',\n",
       "  'uid': u'76561197981918203'},\n",
       " {u'name': u'Child of Light',\n",
       "  u'playtime_2weeks': 0,\n",
       "  u'playtime_forever': 0,\n",
       "  'steamid': u'76561197981918203',\n",
       "  'uid': u'76561197981918203'},\n",
       " {u'name': u'Never Alone (Kisima Ingitchuna)',\n",
       "  u'playtime_2weeks': 0,\n",
       "  u'playtime_forever': 0,\n",
       "  'steamid': u'76561197981918203',\n",
       "  'uid': u'76561197981918203'},\n",
       " {u'name': u'BattleBlock Theater',\n",
       "  u'playtime_2weeks': 0,\n",
       "  u'playtime_forever': 0,\n",
       "  'steamid': u'76561197981918203',\n",
       "  'uid': u'76561197981918203'},\n",
       " {u'name': u'Microsoft Flight Simulator X: Steam Edition',\n",
       "  u'playtime_2weeks': 0,\n",
       "  u'playtime_forever': 2974,\n",
       "  'steamid': u'76561197981918203',\n",
       "  'uid': u'76561197981918203'},\n",
       " {u'name': u'Alien: Isolation',\n",
       "  u'playtime_2weeks': 0,\n",
       "  u'playtime_forever': 384,\n",
       "  'steamid': u'76561197981918203',\n",
       "  'uid': u'76561197981918203'},\n",
       " {u'name': u'Space Run',\n",
       "  u'playtime_2weeks': 0,\n",
       "  u'playtime_forever': 3,\n",
       "  'steamid': u'76561197981918203',\n",
       "  'uid': u'76561197981918203'},\n",
       " {u'name': u\"Sid Meier's Civilization: Beyond Earth\",\n",
       "  u'playtime_2weeks': 0,\n",
       "  u'playtime_forever': 81,\n",
       "  'steamid': u'76561197981918203',\n",
       "  'uid': u'76561197981918203'},\n",
       " {u'name': u\"Sid Meier's Starships\",\n",
       "  u'playtime_2weeks': 0,\n",
       "  u'playtime_forever': 0,\n",
       "  'steamid': u'76561197981918203',\n",
       "  'uid': u'76561197981918203'},\n",
       " {u'name': u'Counter-Strike: Global Offensive',\n",
       "  u'playtime_2weeks': 0,\n",
       "  u'playtime_forever': 234,\n",
       "  'steamid': u'76561197981918203',\n",
       "  'uid': u'76561197981918203'},\n",
       " {u'name': u\"Don't Starve Together Beta\",\n",
       "  u'playtime_2weeks': 0,\n",
       "  u'playtime_forever': 76,\n",
       "  'steamid': u'76561197981918203',\n",
       "  'uid': u'76561197981918203'},\n",
       " {u'name': u'Team Fortress 2',\n",
       "  u'playtime_2weeks': 0,\n",
       "  u'playtime_forever': 31,\n",
       "  'steamid': u'76561197981918203',\n",
       "  'uid': u'76561197981918203'}]"
      ]
     },
     "execution_count": 43,
     "metadata": {},
     "output_type": "execute_result"
    }
   ],
   "source": [
    "#few_games[\"game_info\"][0]"
   ]
  },
  {
   "cell_type": "code",
   "execution_count": 135,
   "metadata": {
    "collapsed": true
   },
   "outputs": [],
   "source": [
    "GameSeries = few_games[\"game_info\"][1]\n",
    "GameSeries2 = pd.DataFrame(few_games[\"game_info\"][2])"
   ]
  },
  {
   "cell_type": "code",
   "execution_count": 115,
   "metadata": {
    "collapsed": false
   },
   "outputs": [],
   "source": [
    "SparseGames = pd.DataFrame(GameSeries)"
   ]
  },
  {
   "cell_type": "code",
   "execution_count": 177,
   "metadata": {
    "collapsed": false
   },
   "outputs": [
    {
     "data": {
      "text/html": [
       "<div>\n",
       "<table border=\"1\" class=\"dataframe\">\n",
       "  <thead>\n",
       "    <tr style=\"text-align: right;\">\n",
       "      <th></th>\n",
       "      <th>appid</th>\n",
       "      <th>name</th>\n",
       "      <th>playtime_2weeks</th>\n",
       "      <th>playtime_forever</th>\n",
       "      <th>uid</th>\n",
       "    </tr>\n",
       "  </thead>\n",
       "  <tbody>\n",
       "    <tr>\n",
       "      <th>0</th>\n",
       "      <td>NaN</td>\n",
       "      <td>Half-Life 2</td>\n",
       "      <td>0.0</td>\n",
       "      <td>2893.0</td>\n",
       "      <td>76561197971340950</td>\n",
       "    </tr>\n",
       "    <tr>\n",
       "      <th>1</th>\n",
       "      <td>NaN</td>\n",
       "      <td>Counter-Strike: Source</td>\n",
       "      <td>0.0</td>\n",
       "      <td>1711.0</td>\n",
       "      <td>76561197971340950</td>\n",
       "    </tr>\n",
       "    <tr>\n",
       "      <th>2</th>\n",
       "      <td>NaN</td>\n",
       "      <td>Half-Life 2: Deathmatch</td>\n",
       "      <td>0.0</td>\n",
       "      <td>2090.0</td>\n",
       "      <td>76561197971340950</td>\n",
       "    </tr>\n",
       "    <tr>\n",
       "      <th>3</th>\n",
       "      <td>NaN</td>\n",
       "      <td>Half-Life 2: Lost Coast</td>\n",
       "      <td>0.0</td>\n",
       "      <td>52.0</td>\n",
       "      <td>76561197971340950</td>\n",
       "    </tr>\n",
       "    <tr>\n",
       "      <th>4</th>\n",
       "      <td>NaN</td>\n",
       "      <td>Garry's Mod</td>\n",
       "      <td>43.0</td>\n",
       "      <td>26780.0</td>\n",
       "      <td>76561197971340950</td>\n",
       "    </tr>\n",
       "  </tbody>\n",
       "</table>\n",
       "</div>"
      ],
      "text/plain": [
       "   appid                     name  playtime_2weeks  playtime_forever  \\\n",
       "0    NaN              Half-Life 2              0.0            2893.0   \n",
       "1    NaN   Counter-Strike: Source              0.0            1711.0   \n",
       "2    NaN  Half-Life 2: Deathmatch              0.0            2090.0   \n",
       "3    NaN  Half-Life 2: Lost Coast              0.0              52.0   \n",
       "4    NaN              Garry's Mod             43.0           26780.0   \n",
       "\n",
       "                 uid  \n",
       "0  76561197971340950  \n",
       "1  76561197971340950  \n",
       "2  76561197971340950  \n",
       "3  76561197971340950  \n",
       "4  76561197971340950  "
      ]
     },
     "execution_count": 177,
     "metadata": {},
     "output_type": "execute_result"
    }
   ],
   "source": [
    "SparseGames.head()"
   ]
  },
  {
   "cell_type": "code",
   "execution_count": 125,
   "metadata": {
    "collapsed": false
   },
   "outputs": [],
   "source": [
    "for u in few_games[\"game_info\"]:\n",
    "    user_df = pd.DataFrame(u)\n",
    "    SparseGames.append(user_df)"
   ]
  },
  {
   "cell_type": "code",
   "execution_count": 128,
   "metadata": {
    "collapsed": true
   },
   "outputs": [],
   "source": [
    "SparseGames = pd.DataFrame(columns=[\"name\", \"playtime_2weeks\", \"playtime_forever\", \"uid\"])"
   ]
  },
  {
   "cell_type": "code",
   "execution_count": 129,
   "metadata": {
    "collapsed": false
   },
   "outputs": [],
   "source": [
    "#SparseGames = pd.D\n",
    "for u in sample[\"game_info\"]:\n",
    "    Gamedf = pd.DataFrame(u)\n",
    "    SparseGames = SparseGames.append(Gamedf)"
   ]
  },
  {
   "cell_type": "code",
   "execution_count": 131,
   "metadata": {
    "collapsed": false
   },
   "outputs": [
    {
     "data": {
      "text/html": [
       "<div>\n",
       "<table border=\"1\" class=\"dataframe\">\n",
       "  <thead>\n",
       "    <tr style=\"text-align: right;\">\n",
       "      <th></th>\n",
       "      <th>appid</th>\n",
       "      <th>name</th>\n",
       "      <th>playtime_2weeks</th>\n",
       "      <th>playtime_forever</th>\n",
       "      <th>uid</th>\n",
       "    </tr>\n",
       "  </thead>\n",
       "  <tbody>\n",
       "    <tr>\n",
       "      <th>0</th>\n",
       "      <td>220.0</td>\n",
       "      <td>Half-Life 2</td>\n",
       "      <td>0.0</td>\n",
       "      <td>63.0</td>\n",
       "      <td>76561197981918203</td>\n",
       "    </tr>\n",
       "    <tr>\n",
       "      <th>1</th>\n",
       "      <td>240.0</td>\n",
       "      <td>Counter-Strike: Source</td>\n",
       "      <td>0.0</td>\n",
       "      <td>72.0</td>\n",
       "      <td>76561197981918203</td>\n",
       "    </tr>\n",
       "    <tr>\n",
       "      <th>2</th>\n",
       "      <td>280.0</td>\n",
       "      <td>Half-Life: Source</td>\n",
       "      <td>0.0</td>\n",
       "      <td>0.0</td>\n",
       "      <td>76561197981918203</td>\n",
       "    </tr>\n",
       "    <tr>\n",
       "      <th>3</th>\n",
       "      <td>320.0</td>\n",
       "      <td>Half-Life 2: Deathmatch</td>\n",
       "      <td>0.0</td>\n",
       "      <td>0.0</td>\n",
       "      <td>76561197981918203</td>\n",
       "    </tr>\n",
       "    <tr>\n",
       "      <th>4</th>\n",
       "      <td>340.0</td>\n",
       "      <td>Half-Life 2: Lost Coast</td>\n",
       "      <td>0.0</td>\n",
       "      <td>25.0</td>\n",
       "      <td>76561197981918203</td>\n",
       "    </tr>\n",
       "  </tbody>\n",
       "</table>\n",
       "</div>"
      ],
      "text/plain": [
       "   appid                     name  playtime_2weeks  playtime_forever  \\\n",
       "0  220.0              Half-Life 2              0.0              63.0   \n",
       "1  240.0   Counter-Strike: Source              0.0              72.0   \n",
       "2  280.0        Half-Life: Source              0.0               0.0   \n",
       "3  320.0  Half-Life 2: Deathmatch              0.0               0.0   \n",
       "4  340.0  Half-Life 2: Lost Coast              0.0              25.0   \n",
       "\n",
       "                 uid  \n",
       "0  76561197981918203  \n",
       "1  76561197981918203  \n",
       "2  76561197981918203  \n",
       "3  76561197981918203  \n",
       "4  76561197981918203  "
      ]
     },
     "execution_count": 131,
     "metadata": {},
     "output_type": "execute_result"
    }
   ],
   "source": []
  },
  {
   "cell_type": "code",
   "execution_count": 169,
   "metadata": {
    "collapsed": false
   },
   "outputs": [],
   "source": [
    "#SparseGames = pd.DataFrame(columns=[\"name\", \"playtime_2weeks\", \"playtime_forever\", \"uid\"])"
   ]
  },
  {
   "cell_type": "code",
   "execution_count": 52,
   "metadata": {
    "collapsed": true
   },
   "outputs": [],
   "source": [
    "del SparseGames[\"appid\"]\n",
    "del SparseGames[\"steamid\"]"
   ]
  },
  {
   "cell_type": "code",
   "execution_count": 53,
   "metadata": {
    "collapsed": false
   },
   "outputs": [
    {
     "data": {
      "text/html": [
       "<div>\n",
       "<table border=\"1\" class=\"dataframe\">\n",
       "  <thead>\n",
       "    <tr style=\"text-align: right;\">\n",
       "      <th></th>\n",
       "      <th>name</th>\n",
       "      <th>playtime_2weeks</th>\n",
       "      <th>playtime_forever</th>\n",
       "      <th>uid</th>\n",
       "    </tr>\n",
       "  </thead>\n",
       "  <tbody>\n",
       "    <tr>\n",
       "      <th>0</th>\n",
       "      <td>Half-Life 2</td>\n",
       "      <td>0.0</td>\n",
       "      <td>63.0</td>\n",
       "      <td>76561197981918203</td>\n",
       "    </tr>\n",
       "    <tr>\n",
       "      <th>1</th>\n",
       "      <td>Counter-Strike: Source</td>\n",
       "      <td>0.0</td>\n",
       "      <td>72.0</td>\n",
       "      <td>76561197981918203</td>\n",
       "    </tr>\n",
       "    <tr>\n",
       "      <th>2</th>\n",
       "      <td>Half-Life: Source</td>\n",
       "      <td>0.0</td>\n",
       "      <td>0.0</td>\n",
       "      <td>76561197981918203</td>\n",
       "    </tr>\n",
       "    <tr>\n",
       "      <th>3</th>\n",
       "      <td>Half-Life 2: Deathmatch</td>\n",
       "      <td>0.0</td>\n",
       "      <td>0.0</td>\n",
       "      <td>76561197981918203</td>\n",
       "    </tr>\n",
       "    <tr>\n",
       "      <th>4</th>\n",
       "      <td>Half-Life 2: Lost Coast</td>\n",
       "      <td>0.0</td>\n",
       "      <td>25.0</td>\n",
       "      <td>76561197981918203</td>\n",
       "    </tr>\n",
       "  </tbody>\n",
       "</table>\n",
       "</div>"
      ],
      "text/plain": [
       "                      name  playtime_2weeks  playtime_forever  \\\n",
       "0              Half-Life 2              0.0              63.0   \n",
       "1   Counter-Strike: Source              0.0              72.0   \n",
       "2        Half-Life: Source              0.0               0.0   \n",
       "3  Half-Life 2: Deathmatch              0.0               0.0   \n",
       "4  Half-Life 2: Lost Coast              0.0              25.0   \n",
       "\n",
       "                 uid  \n",
       "0  76561197981918203  \n",
       "1  76561197981918203  \n",
       "2  76561197981918203  \n",
       "3  76561197981918203  \n",
       "4  76561197981918203  "
      ]
     },
     "execution_count": 53,
     "metadata": {},
     "output_type": "execute_result"
    }
   ],
   "source": [
    "SparseGames.head()"
   ]
  },
  {
   "cell_type": "code",
   "execution_count": 132,
   "metadata": {
    "collapsed": false
   },
   "outputs": [],
   "source": [
    "# df.pivot(index='date', columns='variable', values='value')\n",
    "Pivoted = pd.pivot_table(SparseGames, index=uid, columns=[\"name\"], values=[\"playtime_forever\"], fill_value=0)"
   ]
  },
  {
   "cell_type": "code",
   "execution_count": 135,
   "metadata": {
    "collapsed": false
   },
   "outputs": [
    {
     "data": {
      "text/html": [
       "<div>\n",
       "<table border=\"1\" class=\"dataframe\">\n",
       "  <thead>\n",
       "    <tr>\n",
       "      <th></th>\n",
       "      <th colspan=\"21\" halign=\"left\">playtime_forever</th>\n",
       "    </tr>\n",
       "    <tr>\n",
       "      <th>name</th>\n",
       "      <th>A Virus Named TOM</th>\n",
       "      <th>Ace of Spades</th>\n",
       "      <th>Age of Empires II: HD Edition</th>\n",
       "      <th>Age of Empires® III: Complete Collection</th>\n",
       "      <th>Alan Wake</th>\n",
       "      <th>Alan Wake's American Nightmare</th>\n",
       "      <th>Alien Swarm</th>\n",
       "      <th>Alien: Isolation</th>\n",
       "      <th>Alpha Protocol</th>\n",
       "      <th>Amazing Adventures Around the World</th>\n",
       "      <th>...</th>\n",
       "      <th>X Rebirth</th>\n",
       "      <th>X3: Albion Prelude</th>\n",
       "      <th>X3: Reunion</th>\n",
       "      <th>X3: Terran Conflict</th>\n",
       "      <th>XCOM 2</th>\n",
       "      <th>XCOM: Enemy Unknown</th>\n",
       "      <th>Ys I</th>\n",
       "      <th>Ys II</th>\n",
       "      <th>Zuma Deluxe</th>\n",
       "      <th>realMyst</th>\n",
       "    </tr>\n",
       "    <tr>\n",
       "      <th>uid</th>\n",
       "      <th></th>\n",
       "      <th></th>\n",
       "      <th></th>\n",
       "      <th></th>\n",
       "      <th></th>\n",
       "      <th></th>\n",
       "      <th></th>\n",
       "      <th></th>\n",
       "      <th></th>\n",
       "      <th></th>\n",
       "      <th></th>\n",
       "      <th></th>\n",
       "      <th></th>\n",
       "      <th></th>\n",
       "      <th></th>\n",
       "      <th></th>\n",
       "      <th></th>\n",
       "      <th></th>\n",
       "      <th></th>\n",
       "      <th></th>\n",
       "      <th></th>\n",
       "    </tr>\n",
       "  </thead>\n",
       "  <tbody>\n",
       "    <tr>\n",
       "      <th>76561197976676146</th>\n",
       "      <td>0</td>\n",
       "      <td>0</td>\n",
       "      <td>33</td>\n",
       "      <td>8</td>\n",
       "      <td>0</td>\n",
       "      <td>0</td>\n",
       "      <td>1810</td>\n",
       "      <td>0</td>\n",
       "      <td>0</td>\n",
       "      <td>0</td>\n",
       "      <td>...</td>\n",
       "      <td>27</td>\n",
       "      <td>379</td>\n",
       "      <td>0</td>\n",
       "      <td>2640</td>\n",
       "      <td>2385</td>\n",
       "      <td>1643</td>\n",
       "      <td>149</td>\n",
       "      <td>0</td>\n",
       "      <td>0</td>\n",
       "      <td>0</td>\n",
       "    </tr>\n",
       "    <tr>\n",
       "      <th>76561197980092471</th>\n",
       "      <td>0</td>\n",
       "      <td>0</td>\n",
       "      <td>0</td>\n",
       "      <td>0</td>\n",
       "      <td>27</td>\n",
       "      <td>0</td>\n",
       "      <td>421</td>\n",
       "      <td>0</td>\n",
       "      <td>141</td>\n",
       "      <td>0</td>\n",
       "      <td>...</td>\n",
       "      <td>0</td>\n",
       "      <td>0</td>\n",
       "      <td>0</td>\n",
       "      <td>0</td>\n",
       "      <td>0</td>\n",
       "      <td>0</td>\n",
       "      <td>0</td>\n",
       "      <td>0</td>\n",
       "      <td>0</td>\n",
       "      <td>0</td>\n",
       "    </tr>\n",
       "    <tr>\n",
       "      <th>76561197981918203</th>\n",
       "      <td>0</td>\n",
       "      <td>0</td>\n",
       "      <td>256</td>\n",
       "      <td>0</td>\n",
       "      <td>0</td>\n",
       "      <td>0</td>\n",
       "      <td>0</td>\n",
       "      <td>384</td>\n",
       "      <td>0</td>\n",
       "      <td>0</td>\n",
       "      <td>...</td>\n",
       "      <td>0</td>\n",
       "      <td>0</td>\n",
       "      <td>0</td>\n",
       "      <td>0</td>\n",
       "      <td>0</td>\n",
       "      <td>0</td>\n",
       "      <td>0</td>\n",
       "      <td>0</td>\n",
       "      <td>0</td>\n",
       "      <td>0</td>\n",
       "    </tr>\n",
       "    <tr>\n",
       "      <th>76561197993408842</th>\n",
       "      <td>0</td>\n",
       "      <td>104</td>\n",
       "      <td>0</td>\n",
       "      <td>0</td>\n",
       "      <td>0</td>\n",
       "      <td>0</td>\n",
       "      <td>0</td>\n",
       "      <td>0</td>\n",
       "      <td>0</td>\n",
       "      <td>0</td>\n",
       "      <td>...</td>\n",
       "      <td>0</td>\n",
       "      <td>0</td>\n",
       "      <td>0</td>\n",
       "      <td>0</td>\n",
       "      <td>0</td>\n",
       "      <td>0</td>\n",
       "      <td>0</td>\n",
       "      <td>0</td>\n",
       "      <td>0</td>\n",
       "      <td>0</td>\n",
       "    </tr>\n",
       "    <tr>\n",
       "      <th>76561197995295208</th>\n",
       "      <td>0</td>\n",
       "      <td>0</td>\n",
       "      <td>0</td>\n",
       "      <td>0</td>\n",
       "      <td>0</td>\n",
       "      <td>0</td>\n",
       "      <td>0</td>\n",
       "      <td>0</td>\n",
       "      <td>0</td>\n",
       "      <td>0</td>\n",
       "      <td>...</td>\n",
       "      <td>0</td>\n",
       "      <td>0</td>\n",
       "      <td>0</td>\n",
       "      <td>0</td>\n",
       "      <td>0</td>\n",
       "      <td>0</td>\n",
       "      <td>0</td>\n",
       "      <td>0</td>\n",
       "      <td>0</td>\n",
       "      <td>0</td>\n",
       "    </tr>\n",
       "    <tr>\n",
       "      <th>76561198042305043</th>\n",
       "      <td>0</td>\n",
       "      <td>0</td>\n",
       "      <td>0</td>\n",
       "      <td>0</td>\n",
       "      <td>0</td>\n",
       "      <td>0</td>\n",
       "      <td>0</td>\n",
       "      <td>0</td>\n",
       "      <td>0</td>\n",
       "      <td>0</td>\n",
       "      <td>...</td>\n",
       "      <td>0</td>\n",
       "      <td>0</td>\n",
       "      <td>0</td>\n",
       "      <td>0</td>\n",
       "      <td>0</td>\n",
       "      <td>0</td>\n",
       "      <td>0</td>\n",
       "      <td>0</td>\n",
       "      <td>0</td>\n",
       "      <td>0</td>\n",
       "    </tr>\n",
       "    <tr>\n",
       "      <th>76561198050035478</th>\n",
       "      <td>0</td>\n",
       "      <td>0</td>\n",
       "      <td>0</td>\n",
       "      <td>0</td>\n",
       "      <td>0</td>\n",
       "      <td>0</td>\n",
       "      <td>0</td>\n",
       "      <td>0</td>\n",
       "      <td>0</td>\n",
       "      <td>0</td>\n",
       "      <td>...</td>\n",
       "      <td>0</td>\n",
       "      <td>0</td>\n",
       "      <td>0</td>\n",
       "      <td>0</td>\n",
       "      <td>0</td>\n",
       "      <td>0</td>\n",
       "      <td>0</td>\n",
       "      <td>0</td>\n",
       "      <td>0</td>\n",
       "      <td>0</td>\n",
       "    </tr>\n",
       "    <tr>\n",
       "      <th>76561198068277537</th>\n",
       "      <td>0</td>\n",
       "      <td>0</td>\n",
       "      <td>0</td>\n",
       "      <td>0</td>\n",
       "      <td>0</td>\n",
       "      <td>0</td>\n",
       "      <td>0</td>\n",
       "      <td>0</td>\n",
       "      <td>0</td>\n",
       "      <td>0</td>\n",
       "      <td>...</td>\n",
       "      <td>0</td>\n",
       "      <td>0</td>\n",
       "      <td>0</td>\n",
       "      <td>0</td>\n",
       "      <td>0</td>\n",
       "      <td>0</td>\n",
       "      <td>0</td>\n",
       "      <td>0</td>\n",
       "      <td>0</td>\n",
       "      <td>0</td>\n",
       "    </tr>\n",
       "    <tr>\n",
       "      <th>76561198129757415</th>\n",
       "      <td>0</td>\n",
       "      <td>0</td>\n",
       "      <td>0</td>\n",
       "      <td>0</td>\n",
       "      <td>0</td>\n",
       "      <td>0</td>\n",
       "      <td>0</td>\n",
       "      <td>0</td>\n",
       "      <td>0</td>\n",
       "      <td>0</td>\n",
       "      <td>...</td>\n",
       "      <td>0</td>\n",
       "      <td>0</td>\n",
       "      <td>0</td>\n",
       "      <td>0</td>\n",
       "      <td>0</td>\n",
       "      <td>0</td>\n",
       "      <td>0</td>\n",
       "      <td>0</td>\n",
       "      <td>0</td>\n",
       "      <td>0</td>\n",
       "    </tr>\n",
       "    <tr>\n",
       "      <th>76561198202663196</th>\n",
       "      <td>0</td>\n",
       "      <td>0</td>\n",
       "      <td>0</td>\n",
       "      <td>0</td>\n",
       "      <td>0</td>\n",
       "      <td>0</td>\n",
       "      <td>0</td>\n",
       "      <td>0</td>\n",
       "      <td>0</td>\n",
       "      <td>0</td>\n",
       "      <td>...</td>\n",
       "      <td>0</td>\n",
       "      <td>0</td>\n",
       "      <td>0</td>\n",
       "      <td>0</td>\n",
       "      <td>0</td>\n",
       "      <td>0</td>\n",
       "      <td>0</td>\n",
       "      <td>0</td>\n",
       "      <td>0</td>\n",
       "      <td>0</td>\n",
       "    </tr>\n",
       "  </tbody>\n",
       "</table>\n",
       "<p>10 rows × 511 columns</p>\n",
       "</div>"
      ],
      "text/plain": [
       "                   playtime_forever                \\\n",
       "name              A Virus Named TOM Ace of Spades   \n",
       "uid                                                 \n",
       "76561197976676146                 0             0   \n",
       "76561197980092471                 0             0   \n",
       "76561197981918203                 0             0   \n",
       "76561197993408842                 0           104   \n",
       "76561197995295208                 0             0   \n",
       "76561198042305043                 0             0   \n",
       "76561198050035478                 0             0   \n",
       "76561198068277537                 0             0   \n",
       "76561198129757415                 0             0   \n",
       "76561198202663196                 0             0   \n",
       "\n",
       "                                                 \\\n",
       "name              Age of Empires II: HD Edition   \n",
       "uid                                               \n",
       "76561197976676146                            33   \n",
       "76561197980092471                             0   \n",
       "76561197981918203                           256   \n",
       "76561197993408842                             0   \n",
       "76561197995295208                             0   \n",
       "76561198042305043                             0   \n",
       "76561198050035478                             0   \n",
       "76561198068277537                             0   \n",
       "76561198129757415                             0   \n",
       "76561198202663196                             0   \n",
       "\n",
       "                                                                      \\\n",
       "name              Age of Empires® III: Complete Collection Alan Wake   \n",
       "uid                                                                    \n",
       "76561197976676146                                        8         0   \n",
       "76561197980092471                                        0        27   \n",
       "76561197981918203                                        0         0   \n",
       "76561197993408842                                        0         0   \n",
       "76561197995295208                                        0         0   \n",
       "76561198042305043                                        0         0   \n",
       "76561198050035478                                        0         0   \n",
       "76561198068277537                                        0         0   \n",
       "76561198129757415                                        0         0   \n",
       "76561198202663196                                        0         0   \n",
       "\n",
       "                                                                               \\\n",
       "name              Alan Wake's American Nightmare Alien Swarm Alien: Isolation   \n",
       "uid                                                                             \n",
       "76561197976676146                              0        1810                0   \n",
       "76561197980092471                              0         421                0   \n",
       "76561197981918203                              0           0              384   \n",
       "76561197993408842                              0           0                0   \n",
       "76561197995295208                              0           0                0   \n",
       "76561198042305043                              0           0                0   \n",
       "76561198050035478                              0           0                0   \n",
       "76561198068277537                              0           0                0   \n",
       "76561198129757415                              0           0                0   \n",
       "76561198202663196                              0           0                0   \n",
       "\n",
       "                                                                       ...     \\\n",
       "name              Alpha Protocol Amazing Adventures Around the World   ...      \n",
       "uid                                                                    ...      \n",
       "76561197976676146              0                                   0   ...      \n",
       "76561197980092471            141                                   0   ...      \n",
       "76561197981918203              0                                   0   ...      \n",
       "76561197993408842              0                                   0   ...      \n",
       "76561197995295208              0                                   0   ...      \n",
       "76561198042305043              0                                   0   ...      \n",
       "76561198050035478              0                                   0   ...      \n",
       "76561198068277537              0                                   0   ...      \n",
       "76561198129757415              0                                   0   ...      \n",
       "76561198202663196              0                                   0   ...      \n",
       "\n",
       "                                                            \\\n",
       "name              X Rebirth X3: Albion Prelude X3: Reunion   \n",
       "uid                                                          \n",
       "76561197976676146        27                379           0   \n",
       "76561197980092471         0                  0           0   \n",
       "76561197981918203         0                  0           0   \n",
       "76561197993408842         0                  0           0   \n",
       "76561197995295208         0                  0           0   \n",
       "76561198042305043         0                  0           0   \n",
       "76561198050035478         0                  0           0   \n",
       "76561198068277537         0                  0           0   \n",
       "76561198129757415         0                  0           0   \n",
       "76561198202663196         0                  0           0   \n",
       "\n",
       "                                                                             \\\n",
       "name              X3: Terran Conflict XCOM 2 XCOM: Enemy Unknown Ys I Ys II   \n",
       "uid                                                                           \n",
       "76561197976676146                2640   2385                1643  149     0   \n",
       "76561197980092471                   0      0                   0    0     0   \n",
       "76561197981918203                   0      0                   0    0     0   \n",
       "76561197993408842                   0      0                   0    0     0   \n",
       "76561197995295208                   0      0                   0    0     0   \n",
       "76561198042305043                   0      0                   0    0     0   \n",
       "76561198050035478                   0      0                   0    0     0   \n",
       "76561198068277537                   0      0                   0    0     0   \n",
       "76561198129757415                   0      0                   0    0     0   \n",
       "76561198202663196                   0      0                   0    0     0   \n",
       "\n",
       "                                        \n",
       "name              Zuma Deluxe realMyst  \n",
       "uid                                     \n",
       "76561197976676146           0        0  \n",
       "76561197980092471           0        0  \n",
       "76561197981918203           0        0  \n",
       "76561197993408842           0        0  \n",
       "76561197995295208           0        0  \n",
       "76561198042305043           0        0  \n",
       "76561198050035478           0        0  \n",
       "76561198068277537           0        0  \n",
       "76561198129757415           0        0  \n",
       "76561198202663196           0        0  \n",
       "\n",
       "[10 rows x 511 columns]"
      ]
     },
     "execution_count": 135,
     "metadata": {},
     "output_type": "execute_result"
    }
   ],
   "source": [
    "Pivoted"
   ]
  },
  {
   "cell_type": "code",
   "execution_count": null,
   "metadata": {
    "collapsed": true
   },
   "outputs": [],
   "source": []
  }
 ],
 "metadata": {
  "kernelspec": {
   "display_name": "Python 2",
   "language": "python",
   "name": "python2"
  },
  "language_info": {
   "codemirror_mode": {
    "name": "ipython",
    "version": 2
   },
   "file_extension": ".py",
   "mimetype": "text/x-python",
   "name": "python",
   "nbconvert_exporter": "python",
   "pygments_lexer": "ipython2",
   "version": "2.7.11"
  }
 },
 "nbformat": 4,
 "nbformat_minor": 0
}
