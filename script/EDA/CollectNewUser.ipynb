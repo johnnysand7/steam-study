{
 "cells": [
  {
   "cell_type": "code",
   "execution_count": 1,
   "metadata": {
    "collapsed": false
   },
   "outputs": [
    {
     "name": "stderr",
     "output_type": "stream",
     "text": [
      "A newer version of GraphLab Create (v1.8.5) is available! Your current version is v1.8.4.\n",
      "\n",
      "You can use pip to upgrade the graphlab-create package. For more information see https://dato.com/products/create/upgrade.\n"
     ]
    }
   ],
   "source": [
    "import time\n",
    "#from datetime import datetime\n",
    "from bs4 import BeautifulSoup\n",
    "import re, os, time\n",
    "#import json\n",
    "#from lxml import etree, html\n",
    "import requests\n",
    "import pandas as pd\n",
    "import numpy as np\n",
    "#import cPickle\n",
    "#from pymongo import MongoClient\n",
    "#from lxml import html\n",
    "import graphlab"
   ]
  },
  {
   "cell_type": "markdown",
   "metadata": {},
   "source": [
    "# Take in the user input, determine if it works or not."
   ]
  },
  {
   "cell_type": "code",
   "execution_count": 3,
   "metadata": {
    "collapsed": true
   },
   "outputs": [],
   "source": [
    "my_url = \"http://steamcommunity.com/id/deckgumby/?xml=0\""
   ]
  },
  {
   "cell_type": "markdown",
   "metadata": {},
   "source": [
    "### You can still retrieve the IDs of private users, so the next check is when you access the UserInfo API"
   ]
  },
  {
   "cell_type": "code",
   "execution_count": 107,
   "metadata": {
    "collapsed": false
   },
   "outputs": [
    {
     "name": "stdout",
     "output_type": "stream",
     "text": [
      "Paste your Community Prolile URL or 17-digit Steam ID:http://steamcommunity.com/profiles/76561197982823731/\n"
     ]
    },
    {
     "data": {
      "text/plain": [
       "'76561197982823731'"
      ]
     },
     "execution_count": 107,
     "metadata": {},
     "output_type": "execute_result"
    }
   ],
   "source": [
    "user_input = raw_input(\"Paste your Community Prolile URL or 17-digit Steam ID:\")\n",
    "response = requests.get(user_input)\n",
    "str(re.findall(r\"[0-9]{17}\", response.text)[0])"
   ]
  },
  {
   "cell_type": "code",
   "execution_count": 31,
   "metadata": {
    "collapsed": true
   },
   "outputs": [],
   "source": [
    "def get_user_info(uid):\n",
    "        url = 'http://api.steampowered.com/ISteamUser/GetPlayerSummaries/v0002/?key='\\\n",
    "               +os.environ[\"ACCESS_STEAM\"]+'&steamids='+uid\n",
    "        \n",
    "        user = requests.get(url).json()[\"response\"][\"players\"][0]\n",
    "        #desired_keys = set(user.keys()) - set([\"steamid\", \"profileurl\", \"personastateflags\", \"avatar\", \"avatarmedium\", \"steamid\"])\n",
    "        return user"
   ]
  },
  {
   "cell_type": "code",
   "execution_count": 65,
   "metadata": {
    "collapsed": false
   },
   "outputs": [
    {
     "data": {
      "text/plain": [
       "{u'avatar': u'https://steamcdn-a.akamaihd.net/steamcommunity/public/images/avatars/48/48b5e573f07f7d9ae497915d79ea2a77c07de5f9.jpg',\n",
       " u'avatarfull': u'https://steamcdn-a.akamaihd.net/steamcommunity/public/images/avatars/48/48b5e573f07f7d9ae497915d79ea2a77c07de5f9_full.jpg',\n",
       " u'avatarmedium': u'https://steamcdn-a.akamaihd.net/steamcommunity/public/images/avatars/48/48b5e573f07f7d9ae497915d79ea2a77c07de5f9_medium.jpg',\n",
       " u'commentpermission': 1,\n",
       " u'communityvisibilitystate': 3,\n",
       " u'lastlogoff': 1461593048,\n",
       " u'loccountrycode': u'GB',\n",
       " u'personaname': u'silky',\n",
       " u'personastate': 0,\n",
       " u'personastateflags': 0,\n",
       " u'primaryclanid': u'103582791453877291',\n",
       " u'profilestate': 1,\n",
       " u'profileurl': u'http://steamcommunity.com/id/topkaka/',\n",
       " u'realname': u'\\u2665\\U0001f495\\u2665\\u2192',\n",
       " u'steamid': u'76561198114793191',\n",
       " u'timecreated': 1384542348}"
      ]
     },
     "execution_count": 65,
     "metadata": {},
     "output_type": "execute_result"
    }
   ],
   "source": [
    "get_user_info(\"76561198114793191\")"
   ]
  },
  {
   "cell_type": "code",
   "execution_count": 95,
   "metadata": {
    "collapsed": false
   },
   "outputs": [
    {
     "name": "stdout",
     "output_type": "stream",
     "text": [
      "Your profile is set to private. We cannot access your gaming preferences!                    \n",
      "Change your profile settings by going to 'edit > settings > Profile Status and                    \n",
      "selecting 'Public' if you would like find similar gamers.\n"
     ]
    }
   ],
   "source": [
    "if get_user_info(os.environ[\"MY_STEAM\"])[\"communityvisibilitystate\"] == 1:\n",
    "    print \"Your profile is set to private; we cannot access your gaming preferences!\\\n",
    "                    \\nChange your profile settings by going to 'edit > settings > Profile Status and\\\n",
    "                    \\nselecting 'Public' if you would like find similar gamers.\""
   ]
  },
  {
   "cell_type": "code",
   "execution_count": 24,
   "metadata": {
    "collapsed": false
   },
   "outputs": [],
   "source": [
    "class CollectNewUser():\n",
    "    \n",
    "    def __init__(self, popular_games):\n",
    "        self.popular_games = popular_games\n",
    "        self.uid = self.determine_user_input()\n",
    "        self.key = os.environ[\"ACCESS_STEAM\"]\n",
    "        self.bans = None\n",
    "        self.user = None\n",
    "        self.friends = None\n",
    "    \n",
    "    \n",
    "    def determine_user_input(self):\n",
    "        user_input = raw_input(\"Paste your Steam community profile url here: \")\n",
    "        if len(user_input) == 17:\n",
    "            if user_input.isdigit():\n",
    "                return user_input\n",
    "            else:\n",
    "                return \"Maybe you tried your 17-digt Steam ID, which was not recognized\"\n",
    "\n",
    "        elif \"steamcommunity.com\" not in user_input:\n",
    "            return \"Must be a Steam Community URL!\"\n",
    "\n",
    "        else:    \n",
    "            try:\n",
    "                response = requests.get(user_input)\n",
    "                uid = re.findall(r\"[0-9]{17}\", response.text)[0]\n",
    "                if len(uid) != 17:\n",
    "                    return \"Url did not work\"\n",
    "                return uid\n",
    "\n",
    "            except IndexError:\n",
    "                return \"Could not find your profile.\"\n",
    "\n",
    "            except requests.ConnectionError:\n",
    "                return \"Could not find your profile.\"\n",
    "            \n",
    "            \n",
    "    def get_user_info(self):\n",
    "        \"\"\"\n",
    "        For my model, I need the new user's:\n",
    "          personastate\n",
    "          location (eventually)\n",
    "          profile avatar url (eventually)\n",
    "          other things?\n",
    "        \"\"\"\n",
    "        url = \"http://api.steampowered.com/ISteamUser/GetPlayerSummaries\"\\\n",
    "              +\"/v0002/?key=\"+self.key+\"&steamids=\"+self.uid\n",
    "        user = requests.get(url).json()[\"response\"][\"players\"][0]\n",
    "        if user[\"communityvisibilitystate\"] == 1:\n",
    "            return None\n",
    "        #desired_keys = set(user.keys()) - set([\"profileurl\", \"personastateflags\", \"avatar\", \"avatarmedium\", \"steamid\"])\n",
    "        self.user = {k: user[k] for k in (\"personastate\", \"timecreated\", \"steamid\")}\n",
    "    \n",
    "    \n",
    "    def get_bans(self):\n",
    "        url = \"http://api.steampowered.com/ISteamUser/GetPlayerBans\"\\\n",
    "              +\"/v1/?key=\"+self.key+\"&steamids=\"+self.uid\n",
    "        response = requests.get(url)\n",
    "        self.s_code = str(response.status_code).startswith(\"2\")\n",
    "        ban = response.json()[\"players\"][0]\n",
    "        desired_keys = set(ban.keys()) - set([\"SteamId\", \"DaysSinceLastBan\", \"EconomyBan\",\\\n",
    "                                             \"NumberOfGameBans\", \"NumberOfVACBans\"])\n",
    "        self.bans = {k: ban[k] for k in desired_keys}\n",
    "    \n",
    "    \n",
    "    def get_friends(self):\n",
    "        url = 'http://api.steampowered.com/ISteamUser/GetFriendList/v0001/?key='\\\n",
    "               +self.key+'&steamid='+self.uid+'&relationship=all'\n",
    "        response = requests.get(url)\n",
    "        if str(response.status_code).startswith(\"2\"):\n",
    "            friends = response.json()[\"friendslist\"][\"friends\"]\n",
    "            excluding = set([\"relationship\"])\n",
    "            #return [{k: friend[k] for k in (set(friend.keys()) - excluding)} for friend in friends]\n",
    "            self.friends = len(friends)\n",
    "        else:\n",
    "            return None\n",
    "        \n",
    "        \n",
    "    def get_game_info(self):\n",
    "        url =  \"http://api.steampowered.com/IPlayerService/GetOwnedGames/v0001/?key=\"\\\n",
    "                +self.key+\"&steamid=\"+self.uid+\"&include_appinfo=1\\\n",
    "                &include_played_free_games=1&format=json\"\n",
    "        response = requests.get(url)\n",
    "        if str(response.status_code).startswith(\"2\"):\n",
    "            try:\n",
    "                games = response.json()[\"response\"][\"games\"]\n",
    "                for i, game in enumerate(games):\n",
    "                    desired_keys = set(game.keys()) - set([\"has_community_visible_stats\",\\\n",
    "                                                           \"img_icon_url\", \"img_logo_url\"])\n",
    "                    if \"playtime_2weeks\" in desired_keys:\n",
    "                        game = {k: game[k] for k in desired_keys}\n",
    "                        games[i] = game\n",
    "                    else:\n",
    "                        game = {k: game[k] for k in desired_keys}\n",
    "                        game[u\"playtime_2weeks\"] = 0\n",
    "                        games[i] = game\n",
    "                return games\n",
    "            except KeyError:\n",
    "                return None\n",
    "        else:\n",
    "            return None\n",
    "        \n",
    "        \n",
    "    def game_user_frames(self):\n",
    "        game_df = pd.DataFrame(self.get_game_info())\n",
    "        owned, played = len(game_df), len(game_df[game_df[\"playtime_forever\"]!=0])\n",
    "        game_df = game_df[game_df[\"appid\"].isin(self.popular_games)]\n",
    "        game_df[\"rating\"] = pd.cut(game_df[\"playtime_forever\"],\\\n",
    "                                          bins=[-1, 60, 120, 180, 240, 300, 10e10], \\\n",
    "                                          labels=[0,1,2,3,4,5]).astype(int)\n",
    "        game_df[\"user_id\"] = ((self.uid+\" \") * len(game_df)).split()\n",
    "        game_df[\"item_id\"] = game_df[\"appid\"].astype(int)\n",
    "        game_df = game_df[[\"item_id\", \"rating\", \"user_id\"]]\n",
    "        game_df = graphlab.SFrame(game_df)\n",
    "        user_dict = dict(self.bans.items()\n",
    "                        + self.user.items()\n",
    "                        + [(\"num_friends\", self.friends),\n",
    "                           (\"num_played\", played),\n",
    "                           (\"num_games\", owned)])\n",
    "        user_df = pd.DataFrame([user_dict])\n",
    "        user_df[\"timecreated\"] = int(round((time.time() - user_df[\"timecreated\"]) / (3600 * 24 * 365), 2))\n",
    "        user_df.rename(columns={\"steamid\":\"user_id\"}, inplace=True)\n",
    "        user_df = graphlab.SFrame(user_df)\n",
    "        return user_df, game_df\n",
    "    \n",
    "    \n",
    "\n",
    "    \n",
    "        \n",
    "        \n",
    "    "
   ]
  },
  {
   "cell_type": "code",
   "execution_count": 9,
   "metadata": {
    "collapsed": false
   },
   "outputs": [],
   "source": [
    "game_list = pd.read_csv(\"/Users/johnnysand/GalvanizeDS/final_project/game_data.csv\")"
   ]
  },
  {
   "cell_type": "code",
   "execution_count": 10,
   "metadata": {
    "collapsed": false
   },
   "outputs": [],
   "source": [
    "game_list = game_list[\"appid\"].unique()"
   ]
  },
  {
   "cell_type": "code",
   "execution_count": 246,
   "metadata": {
    "collapsed": false
   },
   "outputs": [
    {
     "data": {
      "text/plain": [
       "{'CommunityBanned': False, 'VACBanned': False}"
      ]
     },
     "execution_count": 246,
     "metadata": {},
     "output_type": "execute_result"
    }
   ],
   "source": [
    "{\"CommunityBanned\":new_user.get_bans()[\"CommunityBanned\"],\"VACBanned\":new_user.get_bans()[\"CommunityBanned\"]}"
   ]
  },
  {
   "cell_type": "code",
   "execution_count": 25,
   "metadata": {
    "collapsed": false
   },
   "outputs": [
    {
     "name": "stdout",
     "output_type": "stream",
     "text": [
      "Paste your Steam community profile url here: http://steamcommunity.com/id/pocklet/?xml=1\n"
     ]
    }
   ],
   "source": [
    "new_user = CollectNewUser(game_list)"
   ]
  },
  {
   "cell_type": "code",
   "execution_count": 26,
   "metadata": {
    "collapsed": false
   },
   "outputs": [
    {
     "data": {
      "text/plain": [
       "u'76561198098846168'"
      ]
     },
     "execution_count": 26,
     "metadata": {},
     "output_type": "execute_result"
    }
   ],
   "source": [
    "new_user.uid"
   ]
  },
  {
   "cell_type": "code",
   "execution_count": 27,
   "metadata": {
    "collapsed": true
   },
   "outputs": [],
   "source": [
    "new_user.get_bans()\n",
    "new_user.get_friends()\n",
    "new_user.get_user_info()"
   ]
  },
  {
   "cell_type": "code",
   "execution_count": 28,
   "metadata": {
    "collapsed": false
   },
   "outputs": [
    {
     "name": "stderr",
     "output_type": "stream",
     "text": [
      "2016-04-24 09:19:50,399 [INFO] graphlab.cython.cy_server, 176: GraphLab Create v1.8.4 started. Logging: /tmp/graphlab_server_1461514788.log\n"
     ]
    },
    {
     "name": "stdout",
     "output_type": "stream",
     "text": [
      "This non-commercial license of GraphLab Create is assigned to johnnysand7@gmail.com and will expire on March 17, 2017. For commercial licensing options, visit https://dato.com/buy/.\n"
     ]
    }
   ],
   "source": [
    "users, games = new_user.game_user_frames()"
   ]
  },
  {
   "cell_type": "code",
   "execution_count": 29,
   "metadata": {
    "collapsed": false
   },
   "outputs": [
    {
     "data": {
      "text/html": [
       "<div style=\"max-height:1000px;max-width:1500px;overflow:auto;\"><table frame=\"box\" rules=\"cols\">\n",
       "    <tr>\n",
       "        <th style=\"padding-left: 1em; padding-right: 1em; text-align: center\">item_id</th>\n",
       "        <th style=\"padding-left: 1em; padding-right: 1em; text-align: center\">rating</th>\n",
       "        <th style=\"padding-left: 1em; padding-right: 1em; text-align: center\">user_id</th>\n",
       "    </tr>\n",
       "    <tr>\n",
       "        <td style=\"padding-left: 1em; padding-right: 1em; text-align: center; vertical-align: top\">240</td>\n",
       "        <td style=\"padding-left: 1em; padding-right: 1em; text-align: center; vertical-align: top\">5</td>\n",
       "        <td style=\"padding-left: 1em; padding-right: 1em; text-align: center; vertical-align: top\">76561198098846168</td>\n",
       "    </tr>\n",
       "    <tr>\n",
       "        <td style=\"padding-left: 1em; padding-right: 1em; text-align: center; vertical-align: top\">4000</td>\n",
       "        <td style=\"padding-left: 1em; padding-right: 1em; text-align: center; vertical-align: top\">5</td>\n",
       "        <td style=\"padding-left: 1em; padding-right: 1em; text-align: center; vertical-align: top\">76561198098846168</td>\n",
       "    </tr>\n",
       "    <tr>\n",
       "        <td style=\"padding-left: 1em; padding-right: 1em; text-align: center; vertical-align: top\">400</td>\n",
       "        <td style=\"padding-left: 1em; padding-right: 1em; text-align: center; vertical-align: top\">2</td>\n",
       "        <td style=\"padding-left: 1em; padding-right: 1em; text-align: center; vertical-align: top\">76561198098846168</td>\n",
       "    </tr>\n",
       "    <tr>\n",
       "        <td style=\"padding-left: 1em; padding-right: 1em; text-align: center; vertical-align: top\">8190</td>\n",
       "        <td style=\"padding-left: 1em; padding-right: 1em; text-align: center; vertical-align: top\">5</td>\n",
       "        <td style=\"padding-left: 1em; padding-right: 1em; text-align: center; vertical-align: top\">76561198098846168</td>\n",
       "    </tr>\n",
       "    <tr>\n",
       "        <td style=\"padding-left: 1em; padding-right: 1em; text-align: center; vertical-align: top\">33910</td>\n",
       "        <td style=\"padding-left: 1em; padding-right: 1em; text-align: center; vertical-align: top\">0</td>\n",
       "        <td style=\"padding-left: 1em; padding-right: 1em; text-align: center; vertical-align: top\">76561198098846168</td>\n",
       "    </tr>\n",
       "    <tr>\n",
       "        <td style=\"padding-left: 1em; padding-right: 1em; text-align: center; vertical-align: top\">33930</td>\n",
       "        <td style=\"padding-left: 1em; padding-right: 1em; text-align: center; vertical-align: top\">5</td>\n",
       "        <td style=\"padding-left: 1em; padding-right: 1em; text-align: center; vertical-align: top\">76561198098846168</td>\n",
       "    </tr>\n",
       "    <tr>\n",
       "        <td style=\"padding-left: 1em; padding-right: 1em; text-align: center; vertical-align: top\">24780</td>\n",
       "        <td style=\"padding-left: 1em; padding-right: 1em; text-align: center; vertical-align: top\">2</td>\n",
       "        <td style=\"padding-left: 1em; padding-right: 1em; text-align: center; vertical-align: top\">76561198098846168</td>\n",
       "    </tr>\n",
       "    <tr>\n",
       "        <td style=\"padding-left: 1em; padding-right: 1em; text-align: center; vertical-align: top\">31280</td>\n",
       "        <td style=\"padding-left: 1em; padding-right: 1em; text-align: center; vertical-align: top\">3</td>\n",
       "        <td style=\"padding-left: 1em; padding-right: 1em; text-align: center; vertical-align: top\">76561198098846168</td>\n",
       "    </tr>\n",
       "    <tr>\n",
       "        <td style=\"padding-left: 1em; padding-right: 1em; text-align: center; vertical-align: top\">620</td>\n",
       "        <td style=\"padding-left: 1em; padding-right: 1em; text-align: center; vertical-align: top\">5</td>\n",
       "        <td style=\"padding-left: 1em; padding-right: 1em; text-align: center; vertical-align: top\">76561198098846168</td>\n",
       "    </tr>\n",
       "    <tr>\n",
       "        <td style=\"padding-left: 1em; padding-right: 1em; text-align: center; vertical-align: top\">105600</td>\n",
       "        <td style=\"padding-left: 1em; padding-right: 1em; text-align: center; vertical-align: top\">5</td>\n",
       "        <td style=\"padding-left: 1em; padding-right: 1em; text-align: center; vertical-align: top\">76561198098846168</td>\n",
       "    </tr>\n",
       "</table>\n",
       "[47 rows x 3 columns]<br/>Note: Only the head of the SFrame is printed.<br/>You can use print_rows(num_rows=m, num_columns=n) to print more rows and columns.\n",
       "</div>"
      ],
      "text/plain": [
       "Columns:\n",
       "\titem_id\tint\n",
       "\trating\tint\n",
       "\tuser_id\tstr\n",
       "\n",
       "Rows: 47\n",
       "\n",
       "Data:\n",
       "+---------+--------+-------------------+\n",
       "| item_id | rating |      user_id      |\n",
       "+---------+--------+-------------------+\n",
       "|   240   |   5    | 76561198098846168 |\n",
       "|   4000  |   5    | 76561198098846168 |\n",
       "|   400   |   2    | 76561198098846168 |\n",
       "|   8190  |   5    | 76561198098846168 |\n",
       "|  33910  |   0    | 76561198098846168 |\n",
       "|  33930  |   5    | 76561198098846168 |\n",
       "|  24780  |   2    | 76561198098846168 |\n",
       "|  31280  |   3    | 76561198098846168 |\n",
       "|   620   |   5    | 76561198098846168 |\n",
       "|  105600 |   5    | 76561198098846168 |\n",
       "+---------+--------+-------------------+\n",
       "[47 rows x 3 columns]\n",
       "Note: Only the head of the SFrame is printed.\n",
       "You can use print_rows(num_rows=m, num_columns=n) to print more rows and columns."
      ]
     },
     "execution_count": 29,
     "metadata": {},
     "output_type": "execute_result"
    }
   ],
   "source": [
    "games"
   ]
  },
  {
   "cell_type": "code",
   "execution_count": 30,
   "metadata": {
    "collapsed": false
   },
   "outputs": [
    {
     "data": {
      "text/html": [
       "<div style=\"max-height:1000px;max-width:1500px;overflow:auto;\"><table frame=\"box\" rules=\"cols\">\n",
       "    <tr>\n",
       "        <th style=\"padding-left: 1em; padding-right: 1em; text-align: center\">CommunityBanned</th>\n",
       "        <th style=\"padding-left: 1em; padding-right: 1em; text-align: center\">VACBanned</th>\n",
       "        <th style=\"padding-left: 1em; padding-right: 1em; text-align: center\">num_friends</th>\n",
       "        <th style=\"padding-left: 1em; padding-right: 1em; text-align: center\">num_games</th>\n",
       "        <th style=\"padding-left: 1em; padding-right: 1em; text-align: center\">num_played</th>\n",
       "        <th style=\"padding-left: 1em; padding-right: 1em; text-align: center\">personastate</th>\n",
       "        <th style=\"padding-left: 1em; padding-right: 1em; text-align: center\">user_id</th>\n",
       "        <th style=\"padding-left: 1em; padding-right: 1em; text-align: center\">timecreated</th>\n",
       "    </tr>\n",
       "    <tr>\n",
       "        <td style=\"padding-left: 1em; padding-right: 1em; text-align: center; vertical-align: top\">0</td>\n",
       "        <td style=\"padding-left: 1em; padding-right: 1em; text-align: center; vertical-align: top\">0</td>\n",
       "        <td style=\"padding-left: 1em; padding-right: 1em; text-align: center; vertical-align: top\">84</td>\n",
       "        <td style=\"padding-left: 1em; padding-right: 1em; text-align: center; vertical-align: top\">167</td>\n",
       "        <td style=\"padding-left: 1em; padding-right: 1em; text-align: center; vertical-align: top\">138</td>\n",
       "        <td style=\"padding-left: 1em; padding-right: 1em; text-align: center; vertical-align: top\">0</td>\n",
       "        <td style=\"padding-left: 1em; padding-right: 1em; text-align: center; vertical-align: top\">76561198098846168</td>\n",
       "        <td style=\"padding-left: 1em; padding-right: 1em; text-align: center; vertical-align: top\">2</td>\n",
       "    </tr>\n",
       "</table>\n",
       "[1 rows x 8 columns]<br/>\n",
       "</div>"
      ],
      "text/plain": [
       "Columns:\n",
       "\tCommunityBanned\tint\n",
       "\tVACBanned\tint\n",
       "\tnum_friends\tint\n",
       "\tnum_games\tint\n",
       "\tnum_played\tint\n",
       "\tpersonastate\tint\n",
       "\tuser_id\tstr\n",
       "\ttimecreated\tint\n",
       "\n",
       "Rows: 1\n",
       "\n",
       "Data:\n",
       "+-----------------+-----------+-------------+-----------+------------+--------------+\n",
       "| CommunityBanned | VACBanned | num_friends | num_games | num_played | personastate |\n",
       "+-----------------+-----------+-------------+-----------+------------+--------------+\n",
       "|        0        |     0     |      84     |    167    |    138     |      0       |\n",
       "+-----------------+-----------+-------------+-----------+------------+--------------+\n",
       "+-------------------+-------------+\n",
       "|      user_id      | timecreated |\n",
       "+-------------------+-------------+\n",
       "| 76561198098846168 |      2      |\n",
       "+-------------------+-------------+\n",
       "[1 rows x 8 columns]"
      ]
     },
     "execution_count": 30,
     "metadata": {},
     "output_type": "execute_result"
    }
   ],
   "source": [
    "users"
   ]
  },
  {
   "cell_type": "code",
   "execution_count": null,
   "metadata": {
    "collapsed": true
   },
   "outputs": [],
   "source": []
  },
  {
   "cell_type": "code",
   "execution_count": 415,
   "metadata": {
    "collapsed": false
   },
   "outputs": [],
   "source": [
    "my_games.rename(columns={\"steamid\":\"user_id\"}, inplace=True)"
   ]
  },
  {
   "cell_type": "code",
   "execution_count": 418,
   "metadata": {
    "collapsed": false
   },
   "outputs": [
    {
     "data": {
      "text/html": [
       "<div style=\"max-height:1000px;max-width:1500px;overflow:auto;\"><table frame=\"box\" rules=\"cols\">\n",
       "    <tr>\n",
       "        <th style=\"padding-left: 1em; padding-right: 1em; text-align: center\">CommunityBanned</th>\n",
       "        <th style=\"padding-left: 1em; padding-right: 1em; text-align: center\">VACBanned</th>\n",
       "        <th style=\"padding-left: 1em; padding-right: 1em; text-align: center\">num_friends</th>\n",
       "        <th style=\"padding-left: 1em; padding-right: 1em; text-align: center\">num_games</th>\n",
       "        <th style=\"padding-left: 1em; padding-right: 1em; text-align: center\">num_played</th>\n",
       "        <th style=\"padding-left: 1em; padding-right: 1em; text-align: center\">personastate</th>\n",
       "        <th style=\"padding-left: 1em; padding-right: 1em; text-align: center\">user_id</th>\n",
       "        <th style=\"padding-left: 1em; padding-right: 1em; text-align: center\">timecreated</th>\n",
       "    </tr>\n",
       "    <tr>\n",
       "        <td style=\"padding-left: 1em; padding-right: 1em; text-align: center; vertical-align: top\">0</td>\n",
       "        <td style=\"padding-left: 1em; padding-right: 1em; text-align: center; vertical-align: top\">0</td>\n",
       "        <td style=\"padding-left: 1em; padding-right: 1em; text-align: center; vertical-align: top\">7</td>\n",
       "        <td style=\"padding-left: 1em; padding-right: 1em; text-align: center; vertical-align: top\">59</td>\n",
       "        <td style=\"padding-left: 1em; padding-right: 1em; text-align: center; vertical-align: top\">34</td>\n",
       "        <td style=\"padding-left: 1em; padding-right: 1em; text-align: center; vertical-align: top\">0</td>\n",
       "        <td style=\"padding-left: 1em; padding-right: 1em; text-align: center; vertical-align: top\">76561197967398882</td>\n",
       "        <td style=\"padding-left: 1em; padding-right: 1em; text-align: center; vertical-align: top\">11</td>\n",
       "    </tr>\n",
       "</table>\n",
       "[1 rows x 8 columns]<br/>\n",
       "</div>"
      ],
      "text/plain": [
       "Columns:\n",
       "\tCommunityBanned\tint\n",
       "\tVACBanned\tint\n",
       "\tnum_friends\tint\n",
       "\tnum_games\tint\n",
       "\tnum_played\tint\n",
       "\tpersonastate\tint\n",
       "\tuser_id\tstr\n",
       "\ttimecreated\tint\n",
       "\n",
       "Rows: 1\n",
       "\n",
       "Data:\n",
       "+-----------------+-----------+-------------+-----------+------------+--------------+\n",
       "| CommunityBanned | VACBanned | num_friends | num_games | num_played | personastate |\n",
       "+-----------------+-----------+-------------+-----------+------------+--------------+\n",
       "|        0        |     0     |      7      |     59    |     34     |      0       |\n",
       "+-----------------+-----------+-------------+-----------+------------+--------------+\n",
       "+-------------------+-------------+\n",
       "|      user_id      | timecreated |\n",
       "+-------------------+-------------+\n",
       "| 76561197967398882 |      11     |\n",
       "+-------------------+-------------+\n",
       "[1 rows x 8 columns]"
      ]
     },
     "execution_count": 418,
     "metadata": {},
     "output_type": "execute_result"
    }
   ],
   "source": [
    "graphlab.SFrame(my_games)"
   ]
  },
  {
   "cell_type": "code",
   "execution_count": null,
   "metadata": {
    "collapsed": true
   },
   "outputs": [],
   "source": [
    "user_id\tCommunityBanned\tVACBanned\tpersonastate\ttimecreated\tnum_friends\tnum_games\tnum_played"
   ]
  },
  {
   "cell_type": "code",
   "execution_count": 311,
   "metadata": {
    "collapsed": false
   },
   "outputs": [
    {
     "data": {
      "text/html": [
       "<div style=\"max-height:1000px;max-width:1500px;overflow:auto;\"><table frame=\"box\" rules=\"cols\">\n",
       "    <tr>\n",
       "        <th style=\"padding-left: 1em; padding-right: 1em; text-align: center\">item_id</th>\n",
       "        <th style=\"padding-left: 1em; padding-right: 1em; text-align: center\">rating</th>\n",
       "        <th style=\"padding-left: 1em; padding-right: 1em; text-align: center\">user_id</th>\n",
       "    </tr>\n",
       "    <tr>\n",
       "        <td style=\"padding-left: 1em; padding-right: 1em; text-align: center; vertical-align: top\">10</td>\n",
       "        <td style=\"padding-left: 1em; padding-right: 1em; text-align: center; vertical-align: top\">0</td>\n",
       "        <td style=\"padding-left: 1em; padding-right: 1em; text-align: center; vertical-align: top\">76561197967398882</td>\n",
       "    </tr>\n",
       "    <tr>\n",
       "        <td style=\"padding-left: 1em; padding-right: 1em; text-align: center; vertical-align: top\">20</td>\n",
       "        <td style=\"padding-left: 1em; padding-right: 1em; text-align: center; vertical-align: top\">0</td>\n",
       "        <td style=\"padding-left: 1em; padding-right: 1em; text-align: center; vertical-align: top\">76561197967398882</td>\n",
       "    </tr>\n",
       "    <tr>\n",
       "        <td style=\"padding-left: 1em; padding-right: 1em; text-align: center; vertical-align: top\">30</td>\n",
       "        <td style=\"padding-left: 1em; padding-right: 1em; text-align: center; vertical-align: top\">0</td>\n",
       "        <td style=\"padding-left: 1em; padding-right: 1em; text-align: center; vertical-align: top\">76561197967398882</td>\n",
       "    </tr>\n",
       "    <tr>\n",
       "        <td style=\"padding-left: 1em; padding-right: 1em; text-align: center; vertical-align: top\">50</td>\n",
       "        <td style=\"padding-left: 1em; padding-right: 1em; text-align: center; vertical-align: top\">4</td>\n",
       "        <td style=\"padding-left: 1em; padding-right: 1em; text-align: center; vertical-align: top\">76561197967398882</td>\n",
       "    </tr>\n",
       "    <tr>\n",
       "        <td style=\"padding-left: 1em; padding-right: 1em; text-align: center; vertical-align: top\">70</td>\n",
       "        <td style=\"padding-left: 1em; padding-right: 1em; text-align: center; vertical-align: top\">0</td>\n",
       "        <td style=\"padding-left: 1em; padding-right: 1em; text-align: center; vertical-align: top\">76561197967398882</td>\n",
       "    </tr>\n",
       "    <tr>\n",
       "        <td style=\"padding-left: 1em; padding-right: 1em; text-align: center; vertical-align: top\">80</td>\n",
       "        <td style=\"padding-left: 1em; padding-right: 1em; text-align: center; vertical-align: top\">0</td>\n",
       "        <td style=\"padding-left: 1em; padding-right: 1em; text-align: center; vertical-align: top\">76561197967398882</td>\n",
       "    </tr>\n",
       "    <tr>\n",
       "        <td style=\"padding-left: 1em; padding-right: 1em; text-align: center; vertical-align: top\">220</td>\n",
       "        <td style=\"padding-left: 1em; padding-right: 1em; text-align: center; vertical-align: top\">5</td>\n",
       "        <td style=\"padding-left: 1em; padding-right: 1em; text-align: center; vertical-align: top\">76561197967398882</td>\n",
       "    </tr>\n",
       "    <tr>\n",
       "        <td style=\"padding-left: 1em; padding-right: 1em; text-align: center; vertical-align: top\">240</td>\n",
       "        <td style=\"padding-left: 1em; padding-right: 1em; text-align: center; vertical-align: top\">5</td>\n",
       "        <td style=\"padding-left: 1em; padding-right: 1em; text-align: center; vertical-align: top\">76561197967398882</td>\n",
       "    </tr>\n",
       "    <tr>\n",
       "        <td style=\"padding-left: 1em; padding-right: 1em; text-align: center; vertical-align: top\">300</td>\n",
       "        <td style=\"padding-left: 1em; padding-right: 1em; text-align: center; vertical-align: top\">0</td>\n",
       "        <td style=\"padding-left: 1em; padding-right: 1em; text-align: center; vertical-align: top\">76561197967398882</td>\n",
       "    </tr>\n",
       "    <tr>\n",
       "        <td style=\"padding-left: 1em; padding-right: 1em; text-align: center; vertical-align: top\">320</td>\n",
       "        <td style=\"padding-left: 1em; padding-right: 1em; text-align: center; vertical-align: top\">0</td>\n",
       "        <td style=\"padding-left: 1em; padding-right: 1em; text-align: center; vertical-align: top\">76561197967398882</td>\n",
       "    </tr>\n",
       "</table>\n",
       "[37 rows x 3 columns]<br/>Note: Only the head of the SFrame is printed.<br/>You can use print_rows(num_rows=m, num_columns=n) to print more rows and columns.\n",
       "</div>"
      ],
      "text/plain": [
       "Columns:\n",
       "\titem_id\tint\n",
       "\trating\tint\n",
       "\tuser_id\tstr\n",
       "\n",
       "Rows: 37\n",
       "\n",
       "Data:\n",
       "+---------+--------+-------------------+\n",
       "| item_id | rating |      user_id      |\n",
       "+---------+--------+-------------------+\n",
       "|    10   |   0    | 76561197967398882 |\n",
       "|    20   |   0    | 76561197967398882 |\n",
       "|    30   |   0    | 76561197967398882 |\n",
       "|    50   |   4    | 76561197967398882 |\n",
       "|    70   |   0    | 76561197967398882 |\n",
       "|    80   |   0    | 76561197967398882 |\n",
       "|   220   |   5    | 76561197967398882 |\n",
       "|   240   |   5    | 76561197967398882 |\n",
       "|   300   |   0    | 76561197967398882 |\n",
       "|   320   |   0    | 76561197967398882 |\n",
       "+---------+--------+-------------------+\n",
       "[37 rows x 3 columns]\n",
       "Note: Only the head of the SFrame is printed.\n",
       "You can use print_rows(num_rows=m, num_columns=n) to print more rows and columns."
      ]
     },
     "execution_count": 311,
     "metadata": {},
     "output_type": "execute_result"
    }
   ],
   "source": [
    "new_user.game_frame(my_games, game_list, new_user.uid)"
   ]
  },
  {
   "cell_type": "code",
   "execution_count": 357,
   "metadata": {
    "collapsed": true
   },
   "outputs": [],
   "source": [
    "x = {'a': 1, 'b': 2}\n",
    "y = {'b': 3, 'c': 4}"
   ]
  },
  {
   "cell_type": "code",
   "execution_count": 362,
   "metadata": {
    "collapsed": false
   },
   "outputs": [
    {
     "data": {
      "text/plain": [
       "{'a': 1, 'b': 3, 'c': 4}"
      ]
     },
     "execution_count": 362,
     "metadata": {},
     "output_type": "execute_result"
    }
   ],
   "source": [
    "dict(x.items() + y.items())"
   ]
  },
  {
   "cell_type": "code",
   "execution_count": 367,
   "metadata": {
    "collapsed": false
   },
   "outputs": [
    {
     "data": {
      "text/plain": [
       "[('a', 1), ('b', 2)]"
      ]
     },
     "execution_count": 367,
     "metadata": {},
     "output_type": "execute_result"
    }
   ],
   "source": [
    "x.items()"
   ]
  },
  {
   "cell_type": "code",
   "execution_count": 307,
   "metadata": {
    "collapsed": false
   },
   "outputs": [
    {
     "data": {
      "text/html": [
       "<div style=\"max-height:1000px;max-width:1500px;overflow:auto;\"><table frame=\"box\" rules=\"cols\">\n",
       "    <tr>\n",
       "        <th style=\"padding-left: 1em; padding-right: 1em; text-align: center\">item_id</th>\n",
       "        <th style=\"padding-left: 1em; padding-right: 1em; text-align: center\">rating</th>\n",
       "        <th style=\"padding-left: 1em; padding-right: 1em; text-align: center\">user_id</th>\n",
       "    </tr>\n",
       "    <tr>\n",
       "        <td style=\"padding-left: 1em; padding-right: 1em; text-align: center; vertical-align: top\">10</td>\n",
       "        <td style=\"padding-left: 1em; padding-right: 1em; text-align: center; vertical-align: top\">0</td>\n",
       "        <td style=\"padding-left: 1em; padding-right: 1em; text-align: center; vertical-align: top\">76561197967398882</td>\n",
       "    </tr>\n",
       "    <tr>\n",
       "        <td style=\"padding-left: 1em; padding-right: 1em; text-align: center; vertical-align: top\">20</td>\n",
       "        <td style=\"padding-left: 1em; padding-right: 1em; text-align: center; vertical-align: top\">0</td>\n",
       "        <td style=\"padding-left: 1em; padding-right: 1em; text-align: center; vertical-align: top\">76561197967398882</td>\n",
       "    </tr>\n",
       "    <tr>\n",
       "        <td style=\"padding-left: 1em; padding-right: 1em; text-align: center; vertical-align: top\">30</td>\n",
       "        <td style=\"padding-left: 1em; padding-right: 1em; text-align: center; vertical-align: top\">0</td>\n",
       "        <td style=\"padding-left: 1em; padding-right: 1em; text-align: center; vertical-align: top\">76561197967398882</td>\n",
       "    </tr>\n",
       "    <tr>\n",
       "        <td style=\"padding-left: 1em; padding-right: 1em; text-align: center; vertical-align: top\">50</td>\n",
       "        <td style=\"padding-left: 1em; padding-right: 1em; text-align: center; vertical-align: top\">4</td>\n",
       "        <td style=\"padding-left: 1em; padding-right: 1em; text-align: center; vertical-align: top\">76561197967398882</td>\n",
       "    </tr>\n",
       "    <tr>\n",
       "        <td style=\"padding-left: 1em; padding-right: 1em; text-align: center; vertical-align: top\">70</td>\n",
       "        <td style=\"padding-left: 1em; padding-right: 1em; text-align: center; vertical-align: top\">0</td>\n",
       "        <td style=\"padding-left: 1em; padding-right: 1em; text-align: center; vertical-align: top\">76561197967398882</td>\n",
       "    </tr>\n",
       "    <tr>\n",
       "        <td style=\"padding-left: 1em; padding-right: 1em; text-align: center; vertical-align: top\">80</td>\n",
       "        <td style=\"padding-left: 1em; padding-right: 1em; text-align: center; vertical-align: top\">0</td>\n",
       "        <td style=\"padding-left: 1em; padding-right: 1em; text-align: center; vertical-align: top\">76561197967398882</td>\n",
       "    </tr>\n",
       "    <tr>\n",
       "        <td style=\"padding-left: 1em; padding-right: 1em; text-align: center; vertical-align: top\">220</td>\n",
       "        <td style=\"padding-left: 1em; padding-right: 1em; text-align: center; vertical-align: top\">5</td>\n",
       "        <td style=\"padding-left: 1em; padding-right: 1em; text-align: center; vertical-align: top\">76561197967398882</td>\n",
       "    </tr>\n",
       "    <tr>\n",
       "        <td style=\"padding-left: 1em; padding-right: 1em; text-align: center; vertical-align: top\">240</td>\n",
       "        <td style=\"padding-left: 1em; padding-right: 1em; text-align: center; vertical-align: top\">5</td>\n",
       "        <td style=\"padding-left: 1em; padding-right: 1em; text-align: center; vertical-align: top\">76561197967398882</td>\n",
       "    </tr>\n",
       "    <tr>\n",
       "        <td style=\"padding-left: 1em; padding-right: 1em; text-align: center; vertical-align: top\">300</td>\n",
       "        <td style=\"padding-left: 1em; padding-right: 1em; text-align: center; vertical-align: top\">0</td>\n",
       "        <td style=\"padding-left: 1em; padding-right: 1em; text-align: center; vertical-align: top\">76561197967398882</td>\n",
       "    </tr>\n",
       "    <tr>\n",
       "        <td style=\"padding-left: 1em; padding-right: 1em; text-align: center; vertical-align: top\">320</td>\n",
       "        <td style=\"padding-left: 1em; padding-right: 1em; text-align: center; vertical-align: top\">0</td>\n",
       "        <td style=\"padding-left: 1em; padding-right: 1em; text-align: center; vertical-align: top\">76561197967398882</td>\n",
       "    </tr>\n",
       "</table>\n",
       "[37 rows x 3 columns]<br/>Note: Only the head of the SFrame is printed.<br/>You can use print_rows(num_rows=m, num_columns=n) to print more rows and columns.\n",
       "</div>"
      ],
      "text/plain": [
       "Columns:\n",
       "\titem_id\tint\n",
       "\trating\tint\n",
       "\tuser_id\tstr\n",
       "\n",
       "Rows: 37\n",
       "\n",
       "Data:\n",
       "+---------+--------+-------------------+\n",
       "| item_id | rating |      user_id      |\n",
       "+---------+--------+-------------------+\n",
       "|    10   |   0    | 76561197967398882 |\n",
       "|    20   |   0    | 76561197967398882 |\n",
       "|    30   |   0    | 76561197967398882 |\n",
       "|    50   |   4    | 76561197967398882 |\n",
       "|    70   |   0    | 76561197967398882 |\n",
       "|    80   |   0    | 76561197967398882 |\n",
       "|   220   |   5    | 76561197967398882 |\n",
       "|   240   |   5    | 76561197967398882 |\n",
       "|   300   |   0    | 76561197967398882 |\n",
       "|   320   |   0    | 76561197967398882 |\n",
       "+---------+--------+-------------------+\n",
       "[37 rows x 3 columns]\n",
       "Note: Only the head of the SFrame is printed.\n",
       "You can use print_rows(num_rows=m, num_columns=n) to print more rows and columns."
      ]
     },
     "execution_count": 307,
     "metadata": {},
     "output_type": "execute_result"
    }
   ],
   "source": [
    "graphlab.SFrame(my_games)"
   ]
  },
  {
   "cell_type": "code",
   "execution_count": null,
   "metadata": {
    "collapsed": true
   },
   "outputs": [],
   "source": []
  },
  {
   "cell_type": "code",
   "execution_count": 273,
   "metadata": {
    "collapsed": false
   },
   "outputs": [],
   "source": [
    "user_games[\"user_id\"] = ((new_user.uid+\" \") * len(user_games)).split()"
   ]
  },
  {
   "cell_type": "code",
   "execution_count": 274,
   "metadata": {
    "collapsed": false
   },
   "outputs": [
    {
     "data": {
      "text/html": [
       "<div>\n",
       "<table border=\"1\" class=\"dataframe\">\n",
       "  <thead>\n",
       "    <tr style=\"text-align: right;\">\n",
       "      <th></th>\n",
       "      <th>appid</th>\n",
       "      <th>name</th>\n",
       "      <th>playtime_2weeks</th>\n",
       "      <th>playtime_forever</th>\n",
       "      <th>user_id</th>\n",
       "    </tr>\n",
       "  </thead>\n",
       "  <tbody>\n",
       "    <tr>\n",
       "      <th>0</th>\n",
       "      <td>10</td>\n",
       "      <td>Counter-Strike</td>\n",
       "      <td>0</td>\n",
       "      <td>0</td>\n",
       "      <td>76561197967398882</td>\n",
       "    </tr>\n",
       "    <tr>\n",
       "      <th>1</th>\n",
       "      <td>20</td>\n",
       "      <td>Team Fortress Classic</td>\n",
       "      <td>0</td>\n",
       "      <td>0</td>\n",
       "      <td>76561197967398882</td>\n",
       "    </tr>\n",
       "    <tr>\n",
       "      <th>2</th>\n",
       "      <td>30</td>\n",
       "      <td>Day of Defeat</td>\n",
       "      <td>0</td>\n",
       "      <td>0</td>\n",
       "      <td>76561197967398882</td>\n",
       "    </tr>\n",
       "    <tr>\n",
       "      <th>3</th>\n",
       "      <td>40</td>\n",
       "      <td>Deathmatch Classic</td>\n",
       "      <td>0</td>\n",
       "      <td>0</td>\n",
       "      <td>76561197967398882</td>\n",
       "    </tr>\n",
       "    <tr>\n",
       "      <th>4</th>\n",
       "      <td>50</td>\n",
       "      <td>Half-Life: Opposing Force</td>\n",
       "      <td>0</td>\n",
       "      <td>248</td>\n",
       "      <td>76561197967398882</td>\n",
       "    </tr>\n",
       "    <tr>\n",
       "      <th>5</th>\n",
       "      <td>60</td>\n",
       "      <td>Ricochet</td>\n",
       "      <td>0</td>\n",
       "      <td>0</td>\n",
       "      <td>76561197967398882</td>\n",
       "    </tr>\n",
       "    <tr>\n",
       "      <th>6</th>\n",
       "      <td>70</td>\n",
       "      <td>Half-Life</td>\n",
       "      <td>0</td>\n",
       "      <td>2</td>\n",
       "      <td>76561197967398882</td>\n",
       "    </tr>\n",
       "    <tr>\n",
       "      <th>7</th>\n",
       "      <td>130</td>\n",
       "      <td>Half-Life: Blue Shift</td>\n",
       "      <td>0</td>\n",
       "      <td>0</td>\n",
       "      <td>76561197967398882</td>\n",
       "    </tr>\n",
       "    <tr>\n",
       "      <th>8</th>\n",
       "      <td>80</td>\n",
       "      <td>Counter-Strike: Condition Zero</td>\n",
       "      <td>0</td>\n",
       "      <td>0</td>\n",
       "      <td>76561197967398882</td>\n",
       "    </tr>\n",
       "    <tr>\n",
       "      <th>9</th>\n",
       "      <td>100</td>\n",
       "      <td>Counter-Strike: Condition Zero Deleted Scenes</td>\n",
       "      <td>0</td>\n",
       "      <td>0</td>\n",
       "      <td>76561197967398882</td>\n",
       "    </tr>\n",
       "    <tr>\n",
       "      <th>10</th>\n",
       "      <td>220</td>\n",
       "      <td>Half-Life 2</td>\n",
       "      <td>0</td>\n",
       "      <td>367</td>\n",
       "      <td>76561197967398882</td>\n",
       "    </tr>\n",
       "    <tr>\n",
       "      <th>11</th>\n",
       "      <td>240</td>\n",
       "      <td>Counter-Strike: Source</td>\n",
       "      <td>0</td>\n",
       "      <td>711</td>\n",
       "      <td>76561197967398882</td>\n",
       "    </tr>\n",
       "    <tr>\n",
       "      <th>12</th>\n",
       "      <td>280</td>\n",
       "      <td>Half-Life: Source</td>\n",
       "      <td>0</td>\n",
       "      <td>23</td>\n",
       "      <td>76561197967398882</td>\n",
       "    </tr>\n",
       "    <tr>\n",
       "      <th>13</th>\n",
       "      <td>300</td>\n",
       "      <td>Day of Defeat: Source</td>\n",
       "      <td>0</td>\n",
       "      <td>0</td>\n",
       "      <td>76561197967398882</td>\n",
       "    </tr>\n",
       "    <tr>\n",
       "      <th>14</th>\n",
       "      <td>320</td>\n",
       "      <td>Half-Life 2: Deathmatch</td>\n",
       "      <td>0</td>\n",
       "      <td>0</td>\n",
       "      <td>76561197967398882</td>\n",
       "    </tr>\n",
       "    <tr>\n",
       "      <th>15</th>\n",
       "      <td>340</td>\n",
       "      <td>Half-Life 2: Lost Coast</td>\n",
       "      <td>0</td>\n",
       "      <td>0</td>\n",
       "      <td>76561197967398882</td>\n",
       "    </tr>\n",
       "    <tr>\n",
       "      <th>16</th>\n",
       "      <td>360</td>\n",
       "      <td>Half-Life Deathmatch: Source</td>\n",
       "      <td>0</td>\n",
       "      <td>0</td>\n",
       "      <td>76561197967398882</td>\n",
       "    </tr>\n",
       "    <tr>\n",
       "      <th>17</th>\n",
       "      <td>1200</td>\n",
       "      <td>Red Orchestra: Ostfront 41-45</td>\n",
       "      <td>0</td>\n",
       "      <td>0</td>\n",
       "      <td>76561197967398882</td>\n",
       "    </tr>\n",
       "    <tr>\n",
       "      <th>18</th>\n",
       "      <td>1230</td>\n",
       "      <td>Mare Nostrum</td>\n",
       "      <td>0</td>\n",
       "      <td>0</td>\n",
       "      <td>76561197967398882</td>\n",
       "    </tr>\n",
       "    <tr>\n",
       "      <th>19</th>\n",
       "      <td>1280</td>\n",
       "      <td>Darkest Hour: Europe '44-'45</td>\n",
       "      <td>0</td>\n",
       "      <td>0</td>\n",
       "      <td>76561197967398882</td>\n",
       "    </tr>\n",
       "    <tr>\n",
       "      <th>20</th>\n",
       "      <td>1300</td>\n",
       "      <td>SiN Episodes: Emergence</td>\n",
       "      <td>0</td>\n",
       "      <td>0</td>\n",
       "      <td>76561197967398882</td>\n",
       "    </tr>\n",
       "    <tr>\n",
       "      <th>21</th>\n",
       "      <td>1309</td>\n",
       "      <td>SiN Multiplayer</td>\n",
       "      <td>0</td>\n",
       "      <td>0</td>\n",
       "      <td>76561197967398882</td>\n",
       "    </tr>\n",
       "    <tr>\n",
       "      <th>22</th>\n",
       "      <td>1313</td>\n",
       "      <td>SiN</td>\n",
       "      <td>0</td>\n",
       "      <td>0</td>\n",
       "      <td>76561197967398882</td>\n",
       "    </tr>\n",
       "    <tr>\n",
       "      <th>23</th>\n",
       "      <td>380</td>\n",
       "      <td>Half-Life 2: Episode One</td>\n",
       "      <td>0</td>\n",
       "      <td>22</td>\n",
       "      <td>76561197967398882</td>\n",
       "    </tr>\n",
       "    <tr>\n",
       "      <th>24</th>\n",
       "      <td>2100</td>\n",
       "      <td>Dark Messiah of Might &amp; Magic Single Player</td>\n",
       "      <td>0</td>\n",
       "      <td>2</td>\n",
       "      <td>76561197967398882</td>\n",
       "    </tr>\n",
       "    <tr>\n",
       "      <th>25</th>\n",
       "      <td>2130</td>\n",
       "      <td>Dark Messiah of Might &amp; Magic Multi-Player</td>\n",
       "      <td>0</td>\n",
       "      <td>0</td>\n",
       "      <td>76561197967398882</td>\n",
       "    </tr>\n",
       "    <tr>\n",
       "      <th>26</th>\n",
       "      <td>4000</td>\n",
       "      <td>Garry's Mod</td>\n",
       "      <td>0</td>\n",
       "      <td>1139</td>\n",
       "      <td>76561197967398882</td>\n",
       "    </tr>\n",
       "    <tr>\n",
       "      <th>27</th>\n",
       "      <td>400</td>\n",
       "      <td>Portal</td>\n",
       "      <td>0</td>\n",
       "      <td>35</td>\n",
       "      <td>76561197967398882</td>\n",
       "    </tr>\n",
       "    <tr>\n",
       "      <th>28</th>\n",
       "      <td>420</td>\n",
       "      <td>Half-Life 2: Episode Two</td>\n",
       "      <td>0</td>\n",
       "      <td>3</td>\n",
       "      <td>76561197967398882</td>\n",
       "    </tr>\n",
       "    <tr>\n",
       "      <th>29</th>\n",
       "      <td>12900</td>\n",
       "      <td>Audiosurf</td>\n",
       "      <td>0</td>\n",
       "      <td>6</td>\n",
       "      <td>76561197967398882</td>\n",
       "    </tr>\n",
       "    <tr>\n",
       "      <th>30</th>\n",
       "      <td>17300</td>\n",
       "      <td>Crysis</td>\n",
       "      <td>0</td>\n",
       "      <td>187</td>\n",
       "      <td>76561197967398882</td>\n",
       "    </tr>\n",
       "    <tr>\n",
       "      <th>31</th>\n",
       "      <td>20900</td>\n",
       "      <td>The Witcher: Enhanced Edition</td>\n",
       "      <td>0</td>\n",
       "      <td>2310</td>\n",
       "      <td>76561197967398882</td>\n",
       "    </tr>\n",
       "    <tr>\n",
       "      <th>32</th>\n",
       "      <td>500</td>\n",
       "      <td>Left 4 Dead</td>\n",
       "      <td>0</td>\n",
       "      <td>286</td>\n",
       "      <td>76561197967398882</td>\n",
       "    </tr>\n",
       "    <tr>\n",
       "      <th>33</th>\n",
       "      <td>22300</td>\n",
       "      <td>Fallout 3</td>\n",
       "      <td>0</td>\n",
       "      <td>66</td>\n",
       "      <td>76561197967398882</td>\n",
       "    </tr>\n",
       "    <tr>\n",
       "      <th>34</th>\n",
       "      <td>22200</td>\n",
       "      <td>Zeno Clash</td>\n",
       "      <td>0</td>\n",
       "      <td>0</td>\n",
       "      <td>76561197967398882</td>\n",
       "    </tr>\n",
       "    <tr>\n",
       "      <th>35</th>\n",
       "      <td>10180</td>\n",
       "      <td>Call of Duty: Modern Warfare 2</td>\n",
       "      <td>0</td>\n",
       "      <td>0</td>\n",
       "      <td>76561197967398882</td>\n",
       "    </tr>\n",
       "    <tr>\n",
       "      <th>36</th>\n",
       "      <td>10190</td>\n",
       "      <td>Call of Duty: Modern Warfare 2 - Multiplayer</td>\n",
       "      <td>0</td>\n",
       "      <td>343</td>\n",
       "      <td>76561197967398882</td>\n",
       "    </tr>\n",
       "    <tr>\n",
       "      <th>37</th>\n",
       "      <td>550</td>\n",
       "      <td>Left 4 Dead 2</td>\n",
       "      <td>0</td>\n",
       "      <td>130</td>\n",
       "      <td>76561197967398882</td>\n",
       "    </tr>\n",
       "    <tr>\n",
       "      <th>38</th>\n",
       "      <td>223530</td>\n",
       "      <td>Left 4 Dead 2 Beta</td>\n",
       "      <td>0</td>\n",
       "      <td>0</td>\n",
       "      <td>76561197967398882</td>\n",
       "    </tr>\n",
       "    <tr>\n",
       "      <th>39</th>\n",
       "      <td>48900</td>\n",
       "      <td>Saira</td>\n",
       "      <td>0</td>\n",
       "      <td>390</td>\n",
       "      <td>76561197967398882</td>\n",
       "    </tr>\n",
       "    <tr>\n",
       "      <th>40</th>\n",
       "      <td>47810</td>\n",
       "      <td>Dragon Age: Origins - Ultimate Edition</td>\n",
       "      <td>0</td>\n",
       "      <td>0</td>\n",
       "      <td>76561197967398882</td>\n",
       "    </tr>\n",
       "    <tr>\n",
       "      <th>41</th>\n",
       "      <td>99700</td>\n",
       "      <td>NightSky</td>\n",
       "      <td>0</td>\n",
       "      <td>105</td>\n",
       "      <td>76561197967398882</td>\n",
       "    </tr>\n",
       "    <tr>\n",
       "      <th>42</th>\n",
       "      <td>620</td>\n",
       "      <td>Portal 2</td>\n",
       "      <td>0</td>\n",
       "      <td>318</td>\n",
       "      <td>76561197967398882</td>\n",
       "    </tr>\n",
       "    <tr>\n",
       "      <th>43</th>\n",
       "      <td>105600</td>\n",
       "      <td>Terraria</td>\n",
       "      <td>0</td>\n",
       "      <td>645</td>\n",
       "      <td>76561197967398882</td>\n",
       "    </tr>\n",
       "    <tr>\n",
       "      <th>44</th>\n",
       "      <td>20920</td>\n",
       "      <td>The Witcher 2: Assassins of Kings Enhanced Edi...</td>\n",
       "      <td>0</td>\n",
       "      <td>31</td>\n",
       "      <td>76561197967398882</td>\n",
       "    </tr>\n",
       "    <tr>\n",
       "      <th>45</th>\n",
       "      <td>43110</td>\n",
       "      <td>Metro 2033</td>\n",
       "      <td>0</td>\n",
       "      <td>48</td>\n",
       "      <td>76561197967398882</td>\n",
       "    </tr>\n",
       "    <tr>\n",
       "      <th>46</th>\n",
       "      <td>72850</td>\n",
       "      <td>The Elder Scrolls V: Skyrim</td>\n",
       "      <td>0</td>\n",
       "      <td>1890</td>\n",
       "      <td>76561197967398882</td>\n",
       "    </tr>\n",
       "    <tr>\n",
       "      <th>47</th>\n",
       "      <td>42910</td>\n",
       "      <td>Magicka</td>\n",
       "      <td>0</td>\n",
       "      <td>81</td>\n",
       "      <td>76561197967398882</td>\n",
       "    </tr>\n",
       "    <tr>\n",
       "      <th>48</th>\n",
       "      <td>261570</td>\n",
       "      <td>Ori and the Blind Forest</td>\n",
       "      <td>0</td>\n",
       "      <td>42</td>\n",
       "      <td>76561197967398882</td>\n",
       "    </tr>\n",
       "    <tr>\n",
       "      <th>49</th>\n",
       "      <td>268850</td>\n",
       "      <td>EVGA PrecisionX 16</td>\n",
       "      <td>0</td>\n",
       "      <td>3590</td>\n",
       "      <td>76561197967398882</td>\n",
       "    </tr>\n",
       "    <tr>\n",
       "      <th>50</th>\n",
       "      <td>290930</td>\n",
       "      <td>Half-Life 2: Update</td>\n",
       "      <td>0</td>\n",
       "      <td>117</td>\n",
       "      <td>76561197967398882</td>\n",
       "    </tr>\n",
       "    <tr>\n",
       "      <th>51</th>\n",
       "      <td>238460</td>\n",
       "      <td>BattleBlock Theater</td>\n",
       "      <td>0</td>\n",
       "      <td>226</td>\n",
       "      <td>76561197967398882</td>\n",
       "    </tr>\n",
       "    <tr>\n",
       "      <th>52</th>\n",
       "      <td>304930</td>\n",
       "      <td>Unturned</td>\n",
       "      <td>0</td>\n",
       "      <td>1</td>\n",
       "      <td>76561197967398882</td>\n",
       "    </tr>\n",
       "    <tr>\n",
       "      <th>53</th>\n",
       "      <td>63380</td>\n",
       "      <td>Sniper Elite V2</td>\n",
       "      <td>0</td>\n",
       "      <td>0</td>\n",
       "      <td>76561197967398882</td>\n",
       "    </tr>\n",
       "    <tr>\n",
       "      <th>54</th>\n",
       "      <td>365720</td>\n",
       "      <td>Skyrim Script Extender (SKSE)</td>\n",
       "      <td>0</td>\n",
       "      <td>0</td>\n",
       "      <td>76561197967398882</td>\n",
       "    </tr>\n",
       "    <tr>\n",
       "      <th>55</th>\n",
       "      <td>295790</td>\n",
       "      <td>Never Alone (Kisima Ingitchuna)</td>\n",
       "      <td>0</td>\n",
       "      <td>74</td>\n",
       "      <td>76561197967398882</td>\n",
       "    </tr>\n",
       "    <tr>\n",
       "      <th>56</th>\n",
       "      <td>244930</td>\n",
       "      <td>SNOW</td>\n",
       "      <td>0</td>\n",
       "      <td>63</td>\n",
       "      <td>76561197967398882</td>\n",
       "    </tr>\n",
       "    <tr>\n",
       "      <th>57</th>\n",
       "      <td>211</td>\n",
       "      <td>Source SDK</td>\n",
       "      <td>0</td>\n",
       "      <td>9</td>\n",
       "      <td>76561197967398882</td>\n",
       "    </tr>\n",
       "    <tr>\n",
       "      <th>58</th>\n",
       "      <td>440</td>\n",
       "      <td>Team Fortress 2</td>\n",
       "      <td>0</td>\n",
       "      <td>505</td>\n",
       "      <td>76561197967398882</td>\n",
       "    </tr>\n",
       "  </tbody>\n",
       "</table>\n",
       "</div>"
      ],
      "text/plain": [
       "     appid                                               name  \\\n",
       "0       10                                     Counter-Strike   \n",
       "1       20                              Team Fortress Classic   \n",
       "2       30                                      Day of Defeat   \n",
       "3       40                                 Deathmatch Classic   \n",
       "4       50                          Half-Life: Opposing Force   \n",
       "5       60                                           Ricochet   \n",
       "6       70                                          Half-Life   \n",
       "7      130                              Half-Life: Blue Shift   \n",
       "8       80                     Counter-Strike: Condition Zero   \n",
       "9      100      Counter-Strike: Condition Zero Deleted Scenes   \n",
       "10     220                                        Half-Life 2   \n",
       "11     240                             Counter-Strike: Source   \n",
       "12     280                                  Half-Life: Source   \n",
       "13     300                              Day of Defeat: Source   \n",
       "14     320                            Half-Life 2: Deathmatch   \n",
       "15     340                            Half-Life 2: Lost Coast   \n",
       "16     360                       Half-Life Deathmatch: Source   \n",
       "17    1200                      Red Orchestra: Ostfront 41-45   \n",
       "18    1230                                       Mare Nostrum   \n",
       "19    1280                       Darkest Hour: Europe '44-'45   \n",
       "20    1300                            SiN Episodes: Emergence   \n",
       "21    1309                                    SiN Multiplayer   \n",
       "22    1313                                                SiN   \n",
       "23     380                           Half-Life 2: Episode One   \n",
       "24    2100        Dark Messiah of Might & Magic Single Player   \n",
       "25    2130         Dark Messiah of Might & Magic Multi-Player   \n",
       "26    4000                                        Garry's Mod   \n",
       "27     400                                             Portal   \n",
       "28     420                           Half-Life 2: Episode Two   \n",
       "29   12900                                          Audiosurf   \n",
       "30   17300                                             Crysis   \n",
       "31   20900                      The Witcher: Enhanced Edition   \n",
       "32     500                                        Left 4 Dead   \n",
       "33   22300                                          Fallout 3   \n",
       "34   22200                                         Zeno Clash   \n",
       "35   10180                     Call of Duty: Modern Warfare 2   \n",
       "36   10190       Call of Duty: Modern Warfare 2 - Multiplayer   \n",
       "37     550                                      Left 4 Dead 2   \n",
       "38  223530                                 Left 4 Dead 2 Beta   \n",
       "39   48900                                              Saira   \n",
       "40   47810             Dragon Age: Origins - Ultimate Edition   \n",
       "41   99700                                           NightSky   \n",
       "42     620                                           Portal 2   \n",
       "43  105600                                           Terraria   \n",
       "44   20920  The Witcher 2: Assassins of Kings Enhanced Edi...   \n",
       "45   43110                                         Metro 2033   \n",
       "46   72850                        The Elder Scrolls V: Skyrim   \n",
       "47   42910                                            Magicka   \n",
       "48  261570                           Ori and the Blind Forest   \n",
       "49  268850                                 EVGA PrecisionX 16   \n",
       "50  290930                                Half-Life 2: Update   \n",
       "51  238460                                BattleBlock Theater   \n",
       "52  304930                                           Unturned   \n",
       "53   63380                                    Sniper Elite V2   \n",
       "54  365720                      Skyrim Script Extender (SKSE)   \n",
       "55  295790                    Never Alone (Kisima Ingitchuna)   \n",
       "56  244930                                               SNOW   \n",
       "57     211                                         Source SDK   \n",
       "58     440                                    Team Fortress 2   \n",
       "\n",
       "    playtime_2weeks  playtime_forever            user_id  \n",
       "0                 0                 0  76561197967398882  \n",
       "1                 0                 0  76561197967398882  \n",
       "2                 0                 0  76561197967398882  \n",
       "3                 0                 0  76561197967398882  \n",
       "4                 0               248  76561197967398882  \n",
       "5                 0                 0  76561197967398882  \n",
       "6                 0                 2  76561197967398882  \n",
       "7                 0                 0  76561197967398882  \n",
       "8                 0                 0  76561197967398882  \n",
       "9                 0                 0  76561197967398882  \n",
       "10                0               367  76561197967398882  \n",
       "11                0               711  76561197967398882  \n",
       "12                0                23  76561197967398882  \n",
       "13                0                 0  76561197967398882  \n",
       "14                0                 0  76561197967398882  \n",
       "15                0                 0  76561197967398882  \n",
       "16                0                 0  76561197967398882  \n",
       "17                0                 0  76561197967398882  \n",
       "18                0                 0  76561197967398882  \n",
       "19                0                 0  76561197967398882  \n",
       "20                0                 0  76561197967398882  \n",
       "21                0                 0  76561197967398882  \n",
       "22                0                 0  76561197967398882  \n",
       "23                0                22  76561197967398882  \n",
       "24                0                 2  76561197967398882  \n",
       "25                0                 0  76561197967398882  \n",
       "26                0              1139  76561197967398882  \n",
       "27                0                35  76561197967398882  \n",
       "28                0                 3  76561197967398882  \n",
       "29                0                 6  76561197967398882  \n",
       "30                0               187  76561197967398882  \n",
       "31                0              2310  76561197967398882  \n",
       "32                0               286  76561197967398882  \n",
       "33                0                66  76561197967398882  \n",
       "34                0                 0  76561197967398882  \n",
       "35                0                 0  76561197967398882  \n",
       "36                0               343  76561197967398882  \n",
       "37                0               130  76561197967398882  \n",
       "38                0                 0  76561197967398882  \n",
       "39                0               390  76561197967398882  \n",
       "40                0                 0  76561197967398882  \n",
       "41                0               105  76561197967398882  \n",
       "42                0               318  76561197967398882  \n",
       "43                0               645  76561197967398882  \n",
       "44                0                31  76561197967398882  \n",
       "45                0                48  76561197967398882  \n",
       "46                0              1890  76561197967398882  \n",
       "47                0                81  76561197967398882  \n",
       "48                0                42  76561197967398882  \n",
       "49                0              3590  76561197967398882  \n",
       "50                0               117  76561197967398882  \n",
       "51                0               226  76561197967398882  \n",
       "52                0                 1  76561197967398882  \n",
       "53                0                 0  76561197967398882  \n",
       "54                0                 0  76561197967398882  \n",
       "55                0                74  76561197967398882  \n",
       "56                0                63  76561197967398882  \n",
       "57                0                 9  76561197967398882  \n",
       "58                0               505  76561197967398882  "
      ]
     },
     "execution_count": 274,
     "metadata": {},
     "output_type": "execute_result"
    }
   ],
   "source": [
    "user_games"
   ]
  },
  {
   "cell_type": "markdown",
   "metadata": {},
   "source": [
    "```python\n",
    "user_id\tCommunityBanned\tVACBanned\tpersonastate\ttimecreated\tnum_friends\tnum_games\tnum_played\n",
    "```"
   ]
  },
  {
   "cell_type": "markdown",
   "metadata": {},
   "source": [
    "## For the user I need:\n",
    "profilestate  \n",
    "banstatus  \n",
    "numberoffriends  \n",
    "numberofgames  \n",
    "numberofplayedgames  "
   ]
  },
  {
   "cell_type": "code",
   "execution_count": 145,
   "metadata": {
    "collapsed": false
   },
   "outputs": [
    {
     "name": "stdout",
     "output_type": "stream",
     "text": [
      "Paste your Steam community profile url here: http://steamcommunity.com/storebirds\n"
     ]
    },
    {
     "data": {
      "text/plain": [
       "'Could not find your profile.'"
      ]
     },
     "execution_count": 145,
     "metadata": {},
     "output_type": "execute_result"
    }
   ],
   "source": [
    "determine_user_input()"
   ]
  },
  {
   "cell_type": "code",
   "execution_count": null,
   "metadata": {
    "collapsed": true
   },
   "outputs": [],
   "source": []
  },
  {
   "cell_type": "code",
   "execution_count": null,
   "metadata": {
    "collapsed": true
   },
   "outputs": [],
   "source": []
  },
  {
   "cell_type": "code",
   "execution_count": null,
   "metadata": {
    "collapsed": true
   },
   "outputs": [],
   "source": []
  },
  {
   "cell_type": "code",
   "execution_count": null,
   "metadata": {
    "collapsed": true
   },
   "outputs": [],
   "source": [
    "class NewUser(object):\n",
    "\n",
    "    def __init__(self, uid):\n",
    "        \"\"\"\n",
    "        Initialize with the Steam API key and Game ID (if needed)\n",
    "        \"\"\"\n",
    "        self.key = os.environ[\"ACCESS_STEAM\"]\n",
    "        self.uid = None\n",
    "        self.player_dict = {}\n",
    "        self.db = None\n",
    "        self.s_code = None\n",
    "        self.friend_response = None\n",
    "        \n",
    "    \n",
    "    def user_id(self, uid):\n",
    "        \"\"\"\n",
    "        Resets self.uid to a new 17-digit user ID\n",
    "        Also checks the GetFriendList API for a status code of 200 (public user)\n",
    "        or 401 (private user)\n",
    "        \"\"\"\n",
    "        self.uid = uid\n",
    "        url = 'http://api.steampowered.com/ISteamUser/GetFriendList/v0001/?key='\\\n",
    "               +self.key+'&steamid='+self.uid+'&relationship=all'\n",
    "        #friends = json.loads(urllib2.urlopen(url).read())['friendslist']['friends']\n",
    "        response = requests.get(url)\n",
    "        self.s_code = str(response.status_code).startswith(\"2\")\n",
    "        self.friend_response = response\n",
    "    \n",
    "    \n",
    "    def mongodb_connection(self):\n",
    "        \"\"\"\n",
    "        Connect to MongoDB 'steam'\n",
    "        \"\"\"\n",
    "        client = MongoClient()\n",
    "        self.db = client.steam\n",
    "        \n",
    "        \n",
    "    def insert_document(self, collection_name=\"users\"):\n",
    "        \"\"\"\n",
    "        Insert a player dictionary document in db_name of MongoDB\n",
    "        \"\"\"\n",
    "        #name = collection_name\n",
    "        self.db.test.insert_one(self.player_dict)\n",
    "        \n",
    "        \n",
    "    def get_bans(self):\n",
    "        \"\"\"\n",
    "        INPUTS:\n",
    "          self - .key: API key\n",
    "                 .uid: 17-digit Steam ID string, up to 100 comma-delimited\n",
    "        OUTPUTS:\n",
    "          Dictionary:\n",
    "            {u'CommunityBanned': False,\n",
    "             u'DaysSinceLastBan': 0,\n",
    "             u'EconomyBan': u'none',\n",
    "             u'NumberOfGameBans': 0, \n",
    "             u'NumberOfVACBans': 0,\n",
    "             u'SteamId': u'76561197967398882', UPDATE - removed\n",
    "             u'VACBanned': False} VAC is for online gaming\n",
    "             \n",
    "        Looks at the 17-digit ID's ban history (up to 100 comma-delimited IDs)\n",
    "        \"\"\"\n",
    "        url = 'http://api.steampowered.com/ISteamUser/GetPlayerBans/v1/?key='+self.key+'&steamids='+self.uid\n",
    "        #ban = json.loads(urllib2.urlopen(url).read())['players'][0]\n",
    "        response = requests.get(url)\n",
    "        self.s_code = str(response.status_code).startswith(\"2\")\n",
    "        ban = response.json()[\"players\"][0]\n",
    "        desired_keys = set(ban.keys()) - set([\"SteamId\"])\n",
    "        return {k: ban[k] for k in desired_keys}\n",
    "    \n",
    "    \n",
    "    def get_user_info(self):\n",
    "        \"\"\"\n",
    "        INPUTS:\n",
    "          self - .key: API key\n",
    "                 .uid: 17-digit Steam ID string, up to 100 comma-delimited \n",
    "        OUTPUTS:\n",
    "          Dictionary:\n",
    "          {u'avatar': u'https://steamcdn-a.akamaihd.net/.../jpg', # REMOVED\n",
    "           u'avatarfull': u'https://steamcdn-a.akamaihd.net/.../full.jpg',\n",
    "           u'avatarmedium': u'https://steamcdn-a.akamaihd.net/.../medium.jpg', # REMOVED\n",
    "           u'communityvisibilitystate': 3,   # 1 - private profile, 3 - public profile\n",
    "           u'lastlogoff': 1460189153,  # epoch time\n",
    "           u'loccountrycode': u'VA',    # May need to look into how to pull that out. Some also have \"locstatecode\"\n",
    "           u'personaname': u'Deck Gumby',\n",
    "           u'personastate': 0,      # 0 - Offline, 1 - Online, 2 - Busy, 3 - Away, 4 - Snooze, 5 - looking to trade, 6 - looking to play.\n",
    "           u'personastateflags': 0, #\n",
    "           u'primaryclanid': u'103582791432291036',\n",
    "           u'profilestate': 1,      # If set, indicates the user has a community profile configured (will be set to '1')\n",
    "           u'profileurl': u'http://steamcommunity.com/id/deckgumby/',\n",
    "           u'realname': u'Ken Tucky',\n",
    "           u'steamid': u'76561197967398882',\n",
    "           u'timecreated': 1089486992}    # epoch time\n",
    "        For a user or users (up to 100 comma-delimited),\n",
    "        return some basic user information\n",
    "        \"\"\"\n",
    "        url = 'http://api.steampowered.com/ISteamUser/GetPlayerSummaries/v0002/?key='\\\n",
    "               +self.key+'&steamids='+self.uid\n",
    "        #user = json.loads(urllib2.urlopen(url).read())['response']['players'][0]\n",
    "        user = requests.get(url).json()[\"response\"][\"players\"][0]\n",
    "        desired_keys = set(user.keys()) - set([\"steamid\", \"profileurl\", \"personastateflags\", \"avatar\", \"avatarmedium\", \"steamid\"])\n",
    "        return {k: user[k] for k in desired_keys}\n",
    "    \n",
    "    \n",
    "    def get_friends(self):\n",
    "        \"\"\"\n",
    "        INPUTS:\n",
    "          self - .key: API key\n",
    "                 .uid: 17-digit Steam ID\n",
    "        OUTPUT:\n",
    "          List of dictionaries, e.g.,\n",
    "            {u'friend_since': 0,\n",
    "             u'relationship': u'friend', UPDATE - now removes this field\n",
    "             u'steamid': u'76561197960559382'}\n",
    "        Starting with a single user ID, return their friends\n",
    "        If public, only return users who have public profiles\n",
    "        \"\"\"\n",
    "        #url = 'http://api.steampowered.com/ISteamUser/GetFriendList/v0001/?key='\\\n",
    "        #       +self.key+'&steamid='+self.uid+'&relationship=all'\n",
    "        #friends = json.loads(urllib2.urlopen(url).read())['friendslist']['friends']\n",
    "        #response = requests.get(url)\n",
    "        #self.s_code = str(response.status_code).startswith(\"2\")\n",
    "        friends = self.friend_response.json()[\"friendslist\"][\"friends\"]\n",
    "        excluding = set([\"relationship\"])\n",
    "        return [{k: friend[k] for k in (set(friend.keys()) - excluding)} for friend in friends]\n",
    "    \n",
    "    \n",
    "    def get_game_info(self):\n",
    "        \"\"\"\n",
    "        INPUTS:\n",
    "          self - .key: API key\n",
    "                 .uid: 17-digit Steam ID\n",
    "        OUTPUT:\n",
    "          List of dictionaries, e.g.,\n",
    "            {u'appid': 10,\n",
    "             u'has_community_visible_stats': True,\n",
    "             u'img_icon_url': u'6b0312cda02f5f777efa2f3318c307ff9acafbb5', UPDATE - removed\n",
    "             u'img_logo_url': u'af890f848dd606ac2fd4415de3c3f5e7a66fcb9f', UPDATE - removed\n",
    "             u'name': u'Counter-Strike',\n",
    "             u'playtime_forever': 0, in minutes\n",
    "             u'playtime_2weeks': 0} in minutes UPDATE - added whether played in two weeks or not\n",
    "             \n",
    "        Get owned game information for a give user\n",
    "        Returns a list of dictionaries\n",
    "        \"\"\"\n",
    "        url =  \"http://api.steampowered.com/IPlayerService/GetOwnedGames/v0001/?key=\"\\\n",
    "                +self.key+\"&steamid=\"+self.uid+\"&include_appinfo=1\\\n",
    "                &include_played_free_games=1&format=json\"\n",
    "        #games = json.loads(urllib2.urlopen(url).read())[\"response\"][\"games\"]\n",
    "        games = requests.get(url).json()[\"response\"]\n",
    "        if \"games\" in games.keys():\n",
    "            for i, game in enumerate(games):\n",
    "                desired_keys = set(game.keys()) - set([\"has_community_visible_stats\", \"img_icon_url\", \"img_logo_url\"])\n",
    "                if \"playtime_2weeks\" in desired_keys:\n",
    "                    game = {k: game[k] for k in desired_keys}\n",
    "                    games[i] = game\n",
    "                else:\n",
    "                    game = {k: game[k] for k in desired_keys}\n",
    "                    game[u\"playtime_2weeks\"] = 0\n",
    "                    games[i] = game\n",
    "            return games\n",
    "        else:\n",
    "            return \"none\"\n",
    "    \n",
    "    \n",
    "    def get_player_achievments(self, appid):\n",
    "        \"\"\"\n",
    "        Given a player ID and appid, return a list of achievments\n",
    "        \"\"\"\n",
    "        url = \"http://api.steampowered.com/ISteamUserStats/GetPlayerAchievements/v0001/?appid=\"+appid+\"&key=\"+self.key+\"&steamid=\"+self.uid\n",
    "        playerstats = json.loads(urllib2.urlopen(url).read())[\"playerstats\"]\n",
    "        return {k: playerstats[k] for k in (\"achievements\", \"gameName\")}\n",
    "    \n",
    "    \n",
    "    def scrape_profile(self):\n",
    "        \"\"\"\n",
    "        Look at a user's community profile\n",
    "        Maybe include '?xml=1' at the end of the url?\n",
    "        \"\"\"\n",
    "        url = \"http://steamcommunity.com/profiles/\"+self.uid\n",
    "        text = requests.get(url).text\n",
    "        rm_delims = re.sub(r\"[\\t\\r\\n]+\", r\" \", text)\n",
    "        rm_breaks = re.sub(r\"\\<br\\>+\", r\" \", rm_delims).strip()\n",
    "        soup = BeautifulSoup(rm_breaks, \"lxml\")\n",
    "        ### profile summary statement\n",
    "        profile_summary = \" \".join(re.findall(r\"[0-9a-zA-Z\\.\\,\\!\\?\\'\\\"\\$]+\", \" \".join(\\\n",
    "                                              [list(link.stripped_strings) for link in soup.find_all(\\\n",
    "                                              \"div\", \"profile_header_summary\")][0][:-2])))\n",
    "        \n",
    "     \n",
    "        \n",
    "        \n",
    "        \n",
    "        return profile_summary#, profile_items\n",
    "        \n",
    "        \n",
    "        \n",
    "\n",
    "    \n",
    "\n",
    "    \n",
    "    \n",
    "    def build_dict(self):\n",
    "        \"\"\"\n",
    "        Reference above functions to build a player info dictionary\n",
    "        Eventually do a self.id kinda thang, naw mean?\n",
    "        \"\"\"\n",
    "        self.player_dict = None\n",
    "        self.player_dict = {}\n",
    "        if self.s_code:\n",
    "            self.player_dict[\"ban_status\"] = self.get_bans()\n",
    "            self.player_dict[\"friends\"] = self.get_friends()\n",
    "            self.player_dict[\"game_info\"] = self.get_game_info()\n",
    "            self.player_dict[\"user_info\"] = self.get_user_info()\n",
    "            self.player_dict[\"profile_summary\"] = self.scrape_profile()\n",
    "            self.player_dict[\"steamid\"] = self.uid\n",
    "        else:\n",
    "            self.player_dict[\"ban_status\"] = self.get_bans()\n",
    "            self.player_dict[\"friends\"] = \"private\"\n",
    "            self.player_dict[\"game_info\"] = \"private\"\n",
    "            self.player_dict[\"user_info\"] = self.get_user_info()\n",
    "            self.player_dict[\"profile_summary\"] = \"private\"\n",
    "            self.player_dict[\"steamid\"] = self.uid\n",
    "        #self.player_dict[\"achievments\"] = self.get_player_achievments() needs a specific game\n",
    "    \n",
    "    \n",
    "    def check_out(self):\n",
    "        \"\"\"\n",
    "        Returns a built-up dictionary\n",
    "        \"\"\"\n",
    "        return self.player_dict"
   ]
  },
  {
   "cell_type": "code",
   "execution_count": null,
   "metadata": {
    "collapsed": true
   },
   "outputs": [],
   "source": []
  },
  {
   "cell_type": "code",
   "execution_count": null,
   "metadata": {
    "collapsed": true
   },
   "outputs": [],
   "source": []
  },
  {
   "cell_type": "code",
   "execution_count": null,
   "metadata": {
    "collapsed": true
   },
   "outputs": [],
   "source": []
  },
  {
   "cell_type": "code",
   "execution_count": 58,
   "metadata": {
    "collapsed": true
   },
   "outputs": [],
   "source": [
    "response = requests.get(\"http://steamcommunity.com/id/topkaka\")\n",
    "soup = BeautifulSoup(response.content, \"lxml\")"
   ]
  },
  {
   "cell_type": "code",
   "execution_count": 64,
   "metadata": {
    "collapsed": false
   },
   "outputs": [
    {
     "data": {
      "text/plain": [
       "u'76561198114793191'"
      ]
     },
     "execution_count": 64,
     "metadata": {},
     "output_type": "execute_result"
    }
   ],
   "source": [
    "re.search(r\"([0-9]{17})\", response.text).group()"
   ]
  },
  {
   "cell_type": "code",
   "execution_count": 63,
   "metadata": {
    "collapsed": false
   },
   "outputs": [
    {
     "data": {
      "text/plain": [
       "'<!DOCTYPE html>\\r\\n<html class=\" responsive\">\\r\\n<head>\\r\\n\\t<meta http-equiv=\"Content-Type\" content=\"text/html; charset=UTF-8\">\\r\\n\\t\\t\\t<meta name=\"viewport\" content=\"width=device-width,initial-scale=1\">\\r\\n\\t\\t<meta name=\"theme-color\" content=\"#171a21\">\\r\\n\\t\\t<title>Steam Community :: silky</title>\\r\\n\\t<link rel=\"shortcut icon\" href=\"/favicon.ico\" type=\"image/x-icon\">\\r\\n\\r\\n\\t<link href=\"http://steamcommunity-a.akamaihd.net/public/shared/css/motiva_sans.css?v=F3z3QpekjE2f\" rel=\"stylesheet\" type=\"text/css\" >\\n<link href=\"http://steamcommunity-a.akamaihd.net/public/shared/css/buttons.css?v=LNGz0aQrH--g\" rel=\"stylesheet\" type=\"text/css\" >\\n<link href=\"http://steamcommunity-a.akamaihd.net/public/shared/css/shared_global.css?v=2NieaU9F1tKB\" rel=\"stylesheet\" type=\"text/css\" >\\n<link href=\"http://steamcommunity-a.akamaihd.net/public/css/globalv2.css?v=RLlF4NbPEL4H\" rel=\"stylesheet\" type=\"text/css\" >\\n<link href=\"http://steamcommunity-a.akamaihd.net/public/css/skin_1/modalContent.css?v=.vXD4gU69vdZP\" rel=\"stylesheet\" type=\"text/css\" >\\n<link href=\"http://steamcommunity-a.akamaihd.net/public/css/skin_1/profilev2.css?v=n3KAe4gveb8s\" rel=\"stylesheet\" type=\"text/css\" >\\n<link href=\"http://steamcommunity-a.akamaihd.net/public/shared/css/motiva_sans.css?v=F3z3QpekjE2f\" rel=\"stylesheet\" type=\"text/css\" >\\n<link href=\"http://steamcommunity-a.akamaihd.net/public/shared/css/shared_responsive.css?v=vIqQrwCTpih8\" rel=\"stylesheet\" type=\"text/css\" >\\n<link href=\"http://steamcommunity-a.akamaihd.net/public/css/skin_1/header.css?v=z3WBKGTLlnCN\" rel=\"stylesheet\" type=\"text/css\" >\\n<script type=\"text/javascript\" src=\"http://steamcommunity-a.akamaihd.net/public/javascript/prototype-1.7.js?v=.55t44gwuwgvw\"></script>\\n<script type=\"text/javascript\" src=\"http://steamcommunity-a.akamaihd.net/public/javascript/scriptaculous/_combined.js?v=9XVsa_Ni33oN&amp;l=english&amp;load=effects,controls,slider,dragdrop\"></script>\\n<script type=\"text/javascript\" src=\"http://steamcommunity-a.akamaihd.net/public/javascript/global.js?v=eq-0kbl3CRRa&amp;l=english\"></script>\\n<script type=\"text/javascript\" src=\"http://steamcommunity-a.akamaihd.net/public/javascript/jquery-1.11.1.min.js?v=.isFTSRckeNhC\"></script>\\n<script type=\"text/javascript\" src=\"http://steamcommunity-a.akamaihd.net/public/shared/javascript/tooltip.js?v=.MkQ-ab-cxeF7\"></script>\\n<script type=\"text/javascript\" src=\"http://steamcommunity-a.akamaihd.net/public/shared/javascript/shared_global.js?v=i6JD3RsYo4O_&amp;l=english\"></script>\\n<script type=\"text/javascript\">$J = jQuery.noConflict();\\nif ( typeof JSON != \\'object\\' || !JSON.stringify || !JSON.parse ) { document.write( \"<scr\" + \"ipt type=\\\\\"text\\\\/javascript\\\\\" src=\\\\\"http:\\\\/\\\\/steamcommunity-a.akamaihd.net\\\\/public\\\\/javascript\\\\/json2.js?v=pmScf4470EZP&amp;l=english\\\\\"><\\\\/script>\\\\n\" ); };\\n</script><script type=\"text/javascript\" src=\"http://steamcommunity-a.akamaihd.net/public/javascript/modalContent.js?v=8HIdb_WSYKYA&amp;l=english\"></script>\\n<script type=\"text/javascript\" src=\"http://steamcommunity-a.akamaihd.net/public/javascript/modalv2.js?v=dfMhuy-Lrpyo&amp;l=english\"></script>\\n<script type=\"text/javascript\" src=\"http://steamcommunity-a.akamaihd.net/public/javascript/profile.js?v=ow6GcfdATO8l&amp;l=english\"></script>\\n<script type=\"text/javascript\" src=\"http://steamcommunity-a.akamaihd.net/public/shared/javascript/shared_responsive_adapter.js?v=WeLSMzFqMp1e&amp;l=english\"></script>\\n<script type=\"text/javascript\">\\n  var _gaq = _gaq || [];\\n  _gaq.push([\\'_setAccount\\', \\'UA-33779068-1\\']);\\n  _gaq.push([\\'_setSampleRate\\', \\'0.4\\']);\\n  _gaq.push([\\'_setCustomVar\\', 1, \\'Logged In\\', \\'false\\', 2]);\\n  _gaq.push([\\'_setCustomVar\\', 2, \\'Client Type\\', \\'External\\', 2]);\\n  _gaq.push([\\'_setCustomVar\\', 3, \\'Cntrlr\\', \\'profiles\\', 3]);\\n  _gaq.push([\\'_setCustomVar\\', 4, \\'Method\\', \"profiles\\\\/DefaultAction\", 3]);\\n  _gaq.push([\\'_trackPageview\\']);\\n  _gaq.push([\\'_setSessionCookieTimeout\\', 900000]);\\n  (function() {\\n    var ga = document.createElement(\\'script\\'); ga.type = \\'text/javascript\\'; ga.async = true;\\n    ga.src = (\\'https:\\' == document.location.protocol ? \\'https://ssl\\' : \\'http://www\\') + \\'.google-analytics.com/ga.js\\';\\n    var s = document.getElementsByTagName(\\'script\\')[0]; s.parentNode.insertBefore(ga, s);\\n  })();\\n</script>\\n\\r\\n\\t\\t\\t\\t\\t\\t<meta name=\"Description\" content=\"\\xf0\\x9f\\x94\\x92 \\xcb\\xa1\\xe1\\xb5\\x92\\xe1\\xb6\\x9c\\xe1\\xb5\\x8f\\xe1\\xb5\\x89\\xe1\\xb5\\x88\">\\r\\n\\t\\t\\t\\r\\n\\t\\r\\n\\t\\t\\t<link rel=\"image_src\" href=\"http://cdn.akamai.steamstatic.com/steamcommunity/public/images/avatars/48/48b5e573f07f7d9ae497915d79ea2a77c07de5f9_full.jpg\">\\r\\n\\t\\r\\n\\t\\r\\n\\t</head>\\r\\n<body class=\"flat_page profile_page responsive_page\">\\r\\n\\r\\n<div class=\"responsive_page_frame with_header\">\\r\\n\\r\\n\\t\\t\\t\\t\\t\\t<div class=\"responsive_page_menu_ctn mainmenu\">\\r\\n\\t\\t\\t\\t<div class=\"responsive_page_menu\"  id=\"responsive_page_menu\">\\r\\n\\t\\t\\t\\t\\t\\t\\t\\t\\t\\t<div class=\"mainmenu_contents\">\\r\\n\\t\\t\\t\\t\\t\\t<div class=\"mainmenu_contents_items\">\\r\\n\\t\\t\\t\\t\\t\\t\\t\\t\\t\\t\\t\\t\\t\\t\\t<a class=\"menuitem\" href=\"https://steamcommunity.com/login/home/?goto=id%2Ftopkaka\">\\r\\n\\t\\t\\t\\t\\t\\t\\t\\t\\tLogin\\t\\t\\t\\t\\t\\t\\t\\t</a>\\r\\n\\t\\t\\t\\t\\t\\t\\t\\r\\n\\t\\t\\t\\t\\t\\t\\t\\t<a class=\"menuitem supernav\" href=\"http://store.steampowered.com/\" data-tooltip-type=\"selector\" data-tooltip-content=\".submenu_store\">\\r\\n\\t\\tStore\\t</a>\\r\\n\\t<div class=\"submenu_store\" style=\"display: none;\" data-submenuid=\"store\">\\r\\n\\t\\t<a class=\"submenuitem\" href=\"http://store.steampowered.com/\">Featured</a>\\r\\n\\t\\t<a class=\"submenuitem\" href=\"http://store.steampowered.com/explore/\">Explore</a>\\r\\n\\t\\t<a class=\"submenuitem\" href=\"http://store.steampowered.com/curators/\">Curators</a>\\r\\n\\t\\t<a class=\"submenuitem\" href=\"http://steamcommunity.com/my/wishlist/\">Wishlist</a>\\r\\n\\t\\t<a class=\"submenuitem\" href=\"http://store.steampowered.com/news/\">News</a>\\r\\n\\t\\t<a class=\"submenuitem\" href=\"http://store.steampowered.com/stats/\">Stats</a>\\r\\n\\t</div>\\r\\n\\r\\n\\r\\n\\t<a class=\"menuitem supernav\" style=\"display: block\" href=\"http://steamcommunity.com/\" data-tooltip-type=\"selector\" data-tooltip-content=\".submenu_community\">\\r\\n\\t\\tCommunity\\t</a>\\r\\n\\t<div class=\"submenu_community\" style=\"display: none;\" data-submenuid=\"community\">\\r\\n\\t\\t<a class=\"submenuitem\" href=\"http://steamcommunity.com/\">Home</a>\\r\\n\\t\\t<a class=\"submenuitem\" href=\"http://steamcommunity.com/discussions/\">Discussions</a>\\r\\n\\t\\t<a class=\"submenuitem\" href=\"http://steamcommunity.com/workshop/\">Workshop</a>\\r\\n\\t\\t<a class=\"submenuitem\" href=\"http://steamcommunity.com/greenlight/\">Greenlight</a>\\r\\n\\t\\t<a class=\"submenuitem\" href=\"http://steamcommunity.com/market/\">Market</a>\\r\\n\\t\\t<a class=\"submenuitem\" href=\"http://steamcommunity.com/?subsection=broadcasts\">Broadcasts</a>\\r\\n\\t\\t\\t\\t\\t</div>\\r\\n\\r\\n\\t\\r\\n\\r\\n\\t\\r\\n\\t\\r\\n\\t<a class=\"menuitem\" href=\"https://help.steampowered.com/\">\\r\\n\\t\\tSupport\\t</a>\\r\\n\\r\\n\\t\\t\\t\\t\\t\\t\\t<div class=\"minor_menu_items\">\\r\\n\\t\\t\\t\\t\\t\\t\\t\\t\\t\\t\\t\\t\\t\\t\\t\\t<div class=\"menuitem change_language_action\">\\r\\n\\t\\t\\t\\t\\t\\t\\t\\t\\tChange language\\t\\t\\t\\t\\t\\t\\t\\t</div>\\r\\n\\t\\t\\t\\t\\t\\t\\t\\t\\t\\t\\t\\t\\t\\t\\t\\t\\t\\t\\t\\t\\t\\t\\t\\t\\t<div class=\"menuitem\" onclick=\"Responsive_RequestDesktopView();\">\\r\\n\\t\\t\\t\\t\\t\\t\\t\\t\\t\\tView desktop website\\t\\t\\t\\t\\t\\t\\t\\t\\t</div>\\r\\n\\t\\t\\t\\t\\t\\t\\t\\t\\t\\t\\t\\t\\t\\t\\t</div>\\r\\n\\t\\t\\t\\t\\t\\t</div>\\r\\n\\t\\t\\t\\t\\t\\t<div class=\"mainmenu_footer_spacer\"></div>\\r\\n\\t\\t\\t\\t\\t\\t<div class=\"mainmenu_footer\">\\r\\n\\t\\t\\t\\t\\t\\t\\t<div class=\"mainmenu_footer_logo\"><img src=\"http://steamcommunity-a.akamaihd.net/public/shared/images/responsive/logo_valve_footer.png\"></div>\\r\\n\\t\\t\\t\\t\\t\\t\\t\\xc2\\xa9 Valve Corporation. All rights reserved. All trademarks are property of their respective owners in the US and other countries.\\t\\t\\t\\t\\t\\t\\t<span class=\"mainmenu_valve_links\">\\r\\n\\t\\t\\t\\t\\t\\t\\t\\t<a href=\"http://store.steampowered.com/privacy_agreement/\" target=\"_blank\">Privacy Policy</a>\\r\\n\\t\\t\\t\\t\\t\\t\\t\\t&nbsp;| &nbsp;<a href=\"http://www.valvesoftware.com/legal.htm\" target=\"_blank\">Legal</a>\\r\\n\\t\\t\\t\\t\\t\\t\\t\\t&nbsp;| &nbsp;<a href=\"http://store.steampowered.com/subscriber_agreement/\" target=\"_blank\">Steam Subscriber Agreement</a>\\r\\n\\t\\t\\t\\t\\t\\t\\t\\t&nbsp;| &nbsp;<a href=\"http://store.steampowered.com/steam_refunds/\" target=\"_blank\">Refunds</a>\\r\\n\\t\\t\\t\\t\\t\\t\\t</span>\\r\\n\\t\\t\\t\\t\\t\\t</div>\\r\\n\\t\\t\\t\\t\\t</div>\\r\\n\\t\\t\\t\\t\\t\\t\\t\\t\\t</div>\\r\\n\\t\\t\\t</div>\\r\\n\\t\\t\\r\\n\\t\\t<div class=\"responsive_local_menu_tab\" style=\"display: none;\">\\r\\n\\r\\n\\t\\t</div>\\r\\n\\r\\n\\t\\t<div class=\"responsive_page_menu_ctn localmenu\">\\r\\n\\t\\t\\t<div class=\"responsive_page_menu\"  id=\"responsive_page_local_menu\">\\r\\n\\t\\t\\t\\t<div class=\"localmenu_content\">\\r\\n\\t\\t\\t\\t</div>\\r\\n\\t\\t\\t</div>\\r\\n\\t\\t</div>\\r\\n\\r\\n\\r\\n\\r\\n\\t\\t\\t\\t\\t<div class=\"responsive_header\">\\r\\n\\t\\t\\t\\t<div class=\"responsive_header_content\">\\r\\n\\t\\t\\t\\t\\t<div id=\"responsive_menu_logo\">\\r\\n\\t\\t\\t\\t\\t\\t<img src=\"http://steamcommunity-a.akamaihd.net/public/shared/images/responsive/header_menu_hamburger.png\" height=\"100%\">\\r\\n\\t\\t\\t\\t\\t\\t\\t\\t\\t\\t\\t</div>\\r\\n\\t\\t\\t\\t\\t<div class=\"responsive_header_logo\">\\r\\n\\t\\t\\t\\t\\t\\t<img src=\"http://steamcommunity-a.akamaihd.net/public/shared/images/responsive/header_logo.png\" height=\"36\" border=\"0\" alt=\"STEAM\">\\r\\n\\t\\t\\t\\t\\t</div>\\r\\n\\t\\t\\t\\t</div>\\r\\n\\t\\t\\t</div>\\r\\n\\t\\t\\r\\n\\t\\t<div class=\"responsive_page_content_overlay\">\\r\\n\\r\\n\\t\\t</div>\\r\\n\\r\\n\\t\\t<div class=\"responsive_fixonscroll_ctn nonresponsive_hidden \">\\r\\n\\t\\t</div>\\r\\n\\t\\r\\n\\t<div class=\"responsive_page_content\">\\r\\n\\r\\n\\t\\t<div id=\"global_header\">\\r\\n\\t<div class=\"content\">\\r\\n\\r\\n\\t\\t<div class=\"logo\">\\r\\n\\t\\t\\t<span id=\"logo_holder\">\\r\\n\\t\\t\\t\\t<a href=\"http://store.steampowered.com/\">\\r\\n\\t\\t\\t\\t\\t<img src=\"http://steamcommunity-a.akamaihd.net/public/shared/images/header/globalheader_logo.png\" width=\"176\" height=\"44\">\\r\\n\\t\\t\\t\\t</a>\\r\\n\\t\\t\\t</span>\\r\\n\\t\\t\\t<!--[if lt IE 7]>\\r\\n\\t\\t\\t<style type=\"text/css\">\\r\\n\\t\\t\\t\\t#logo_holder img { filter:progid:DXImageTransform.Microsoft.Alpha(opacity=0); }\\r\\n\\t\\t\\t\\t#logo_holder { display: inline-block; width: 176px; height: 44px; filter:progid:DXImageTransform.Microsoft.AlphaImageLoader(src=\\'http://steamcommunity-a.akamaihd.net/public/images/v5/globalheader_logo.png\\'); }\\r\\n\\t\\t\\t</style>\\r\\n\\t\\t\\t<![endif]-->\\r\\n\\t\\t</div>\\r\\n\\r\\n\\t\\t\\t<div class=\"supernav_container\">\\r\\n\\t<a class=\"menuitem supernav\" href=\"http://store.steampowered.com/\" data-tooltip-type=\"selector\" data-tooltip-content=\".submenu_store\">\\r\\n\\t\\tSTORE\\t</a>\\r\\n\\t<div class=\"submenu_store\" style=\"display: none;\" data-submenuid=\"store\">\\r\\n\\t\\t<a class=\"submenuitem\" href=\"http://store.steampowered.com/\">Featured</a>\\r\\n\\t\\t<a class=\"submenuitem\" href=\"http://store.steampowered.com/explore/\">Explore</a>\\r\\n\\t\\t<a class=\"submenuitem\" href=\"http://store.steampowered.com/curators/\">Curators</a>\\r\\n\\t\\t<a class=\"submenuitem\" href=\"http://steamcommunity.com/my/wishlist/\">Wishlist</a>\\r\\n\\t\\t<'"
      ]
     },
     "execution_count": 63,
     "metadata": {},
     "output_type": "execute_result"
    }
   ],
   "source": [
    "response.content[:10000]"
   ]
  },
  {
   "cell_type": "code",
   "execution_count": null,
   "metadata": {
    "collapsed": true
   },
   "outputs": [],
   "source": []
  }
 ],
 "metadata": {
  "kernelspec": {
   "display_name": "Python 2",
   "language": "python",
   "name": "python2"
  },
  "language_info": {
   "codemirror_mode": {
    "name": "ipython",
    "version": 2
   },
   "file_extension": ".py",
   "mimetype": "text/x-python",
   "name": "python",
   "nbconvert_exporter": "python",
   "pygments_lexer": "ipython2",
   "version": "2.7.11"
  }
 },
 "nbformat": 4,
 "nbformat_minor": 0
}
