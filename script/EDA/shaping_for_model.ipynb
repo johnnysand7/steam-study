{
 "cells": [
  {
   "cell_type": "code",
   "execution_count": 2,
   "metadata": {
    "collapsed": true
   },
   "outputs": [],
   "source": [
    "import pandas as pd\n",
    "import numpy as np\n",
    "from collections import Counter\n",
    "import time\n",
    "import graphlab as gl\n",
    "import cPickle"
   ]
  },
  {
   "cell_type": "markdown",
   "metadata": {},
   "source": [
    "# Building a user-item-rating sframe for the recommender model"
   ]
  },
  {
   "cell_type": "markdown",
   "metadata": {},
   "source": [
    "Dataframe of steam IDs and lists of dictionaries containing all the games they have played and owned"
   ]
  },
  {
   "cell_type": "code",
   "execution_count": 40,
   "metadata": {
    "collapsed": false
   },
   "outputs": [],
   "source": [
    "with open(\"/home/ubuntu/games_steamids.p\", \"rb\") as df:\n",
    "    games_df = cPickle.load(df)"
   ]
  },
  {
   "cell_type": "markdown",
   "metadata": {},
   "source": [
    "Function that will return the games with above average playtime, reducing the number from 8,100 to 561"
   ]
  },
  {
   "cell_type": "code",
   "execution_count": 43,
   "metadata": {
    "collapsed": false
   },
   "outputs": [],
   "source": [
    "def most_played_games(df):\n",
    "    \"\"\"\n",
    "    Return games with above-average playtime\n",
    "    Takes in a df with steamids and game_info, \n",
    "    or lists of dictionaries for each steamid\n",
    "    \"\"\"\n",
    "    count_games = Counter({})\n",
    "    for user in df.game_info:\n",
    "        game_dict = {}\n",
    "        for game in user:\n",
    "            game_dict[str(game[\"appid\"])] = game[\"playtime_forever\"]\n",
    "        count_games.update(game_dict)\n",
    "\n",
    "    avg_playtime = sum(count_games.values()) / float(len(count_games))\n",
    "    top_games = {}\n",
    "    for k, v in count_games.iteritems():\n",
    "        if v >= avg_playtime:\n",
    "            top_games[int(k)] = v\n",
    "    \n",
    "    return top_games"
   ]
  },
  {
   "cell_type": "markdown",
   "metadata": {},
   "source": [
    "After scraping the store with the returned appids, some fields for smaller games (or other non-game apps) were not  \n",
    "recognized, reducing my reduced list from 561 to 526. Below is the list of 526 appids"
   ]
  },
  {
   "cell_type": "code",
   "execution_count": 45,
   "metadata": {
    "collapsed": false
   },
   "outputs": [],
   "source": [
    "with open(\"top_appids.csv\", \"rb\") as f:\n",
    "    top_games = f.read().split(\",\")\n",
    "    top_games = set(map(lambda x: int(x), top_games))"
   ]
  },
  {
   "cell_type": "code",
   "execution_count": 49,
   "metadata": {
    "collapsed": false
   },
   "outputs": [
    {
     "data": {
      "text/plain": [
       "526"
      ]
     },
     "execution_count": 49,
     "metadata": {},
     "output_type": "execute_result"
    }
   ],
   "source": [
    "len(top_games)"
   ]
  },
  {
   "cell_type": "markdown",
   "metadata": {},
   "source": [
    "Practicing getting DFs into a form usable for a Graphlab model  \n",
    "Unpacks the lists of dictionaries into a dataframe for each user  \n",
    "Takes quite a while for 150k users..."
   ]
  },
  {
   "cell_type": "code",
   "execution_count": 47,
   "metadata": {
    "collapsed": false
   },
   "outputs": [],
   "source": [
    "def many_games(df, game_id_set):\n",
    "    \"\"\"\n",
    "    Prepping for a graphlab model\n",
    "    \"\"\"\n",
    "    full_df = pd.DataFrame()\n",
    "    for i in xrange(len(df)):\n",
    "        user_df = pd.DataFrame(df.game_info[i]) \n",
    "        user_df[\"steamid\"] = ((str(df.steamid[i]) + \" \") * len(df.game_info[i])).split()\n",
    "        user_df = user_df[user_df[\"appid\"].isin(game_id_set)]\n",
    "        full_df = full_df.append(user_df)\n",
    "    return full_df"
   ]
  },
  {
   "cell_type": "code",
   "execution_count": 48,
   "metadata": {
    "collapsed": false
   },
   "outputs": [
    {
     "name": "stdout",
     "output_type": "stream",
     "text": [
      "6.36846208572 seconds\n"
     ]
    }
   ],
   "source": [
    "t0 = time.time()\n",
    "practice_test = many_games(games_df[:1000], top_games)\n",
    "print \"{} seconds\".format(time.time() - t0)"
   ]
  },
  {
   "cell_type": "markdown",
   "metadata": {},
   "source": [
    "6 seconds for 1000 users, and it does ***not*** scale linearly..."
   ]
  },
  {
   "cell_type": "markdown",
   "metadata": {},
   "source": [
    "Below is another method, which seems to take longer. Outputs graphlab SFrame"
   ]
  },
  {
   "cell_type": "code",
   "execution_count": 34,
   "metadata": {
    "collapsed": true
   },
   "outputs": [],
   "source": [
    "def games_users_sf(df, game_id_set):\n",
    "    \"\"\"\n",
    "    Assumes a df with public non-null values in the form:\n",
    "    |   |steamid          |game_info        |\n",
    "    +---+-----------------+-----------------+\n",
    "    |0  |76561197967398882|[{u'playt...},{}]|\n",
    "    \n",
    "    Returns a large sframe with columns of \n",
    "    appid, \n",
    "    \"\"\"\n",
    "\n",
    "    one_sframe = gl.SFrame()\n",
    "    df.reset_index(drop=True, inplace=True)\n",
    "    for i in xrange(df.game_info.count()):\n",
    "        game_dictionary = {}\n",
    "        for game in df.game_info[i]:\n",
    "            if game[\"appid\"] in game_id_set:\n",
    "                game[\"steamid\"] = df.steamid[i]\n",
    "                \n",
    "                if \"name\" in game.keys():\n",
    "                    del game[\"name\"]\n",
    "                \n",
    "                if \"playtime_2weeks\" not in game.keys():\n",
    "                    game[\"playtime_2weeks\"] = 0\n",
    "                \n",
    "                for k, v in game.items():\n",
    "                 \n",
    "                    try:\n",
    "                        game_dictionary[k].append(v)\n",
    "                    except KeyError:\n",
    "                        game_dictionary[k]=[v]\n",
    "                  \n",
    "        one_sframe = one_sframe.append(gl.SFrame(game_dictionary))\n",
    "\n",
    "    return one_sframe"
   ]
  },
  {
   "cell_type": "markdown",
   "metadata": {},
   "source": [
    "To save time, I did it in chunks of 10k users, rather than all 150k at once, taking ~15min"
   ]
  },
  {
   "cell_type": "code",
   "execution_count": 35,
   "metadata": {
    "collapsed": false
   },
   "outputs": [
    {
     "name": "stdout",
     "output_type": "stream",
     "text": [
      "61.5657908916 seconds\n"
     ]
    }
   ],
   "source": [
    "t0 = time.time()\n",
    "games_sf1 = games_users_sf(games_df[:10000], top_games)\n",
    "print \"{} seconds\".format(time.time() - t0)"
   ]
  },
  {
   "cell_type": "code",
   "execution_count": null,
   "metadata": {
    "collapsed": false
   },
   "outputs": [],
   "source": [
    "t0 = time.time()\n",
    "games_sf2 = games_users_sf(games_df[10000:20000], game_ids)\n",
    "print \"{} seconds\".format(time.time() - t0)"
   ]
  },
  {
   "cell_type": "code",
   "execution_count": null,
   "metadata": {
    "collapsed": false
   },
   "outputs": [],
   "source": [
    "t0 = time.time()\n",
    "games_sf3 = games_users_sf(games_df[20000:30000], game_ids)\n",
    "print \"{} seconds\".format(time.time() - t0)"
   ]
  },
  {
   "cell_type": "code",
   "execution_count": null,
   "metadata": {
    "collapsed": false
   },
   "outputs": [],
   "source": [
    "t0 = time.time()\n",
    "games_sf4 = games_users_sf(games_df[30000:40000], game_ids)\n",
    "print \"{} seconds\".format(time.time() - t0)"
   ]
  },
  {
   "cell_type": "code",
   "execution_count": null,
   "metadata": {
    "collapsed": false
   },
   "outputs": [],
   "source": [
    "t0 = time.time()\n",
    "games_sf5 = games_users_sf(games_df[40000:50000], game_ids)\n",
    "print \"{} seconds\".format(time.time() - t0)"
   ]
  },
  {
   "cell_type": "code",
   "execution_count": null,
   "metadata": {
    "collapsed": false
   },
   "outputs": [],
   "source": [
    "t0 = time.time()\n",
    "games_sf6 = games_users_sf(games_df[50000:60000], game_ids)\n",
    "print \"{} seconds\".format(time.time() - t0)"
   ]
  },
  {
   "cell_type": "code",
   "execution_count": null,
   "metadata": {
    "collapsed": false
   },
   "outputs": [],
   "source": [
    "t0 = time.time()\n",
    "games_sf7 = games_users_sf(games_df[60000:70000], game_ids)\n",
    "print \"{} seconds\".format(time.time() - t0)"
   ]
  },
  {
   "cell_type": "code",
   "execution_count": null,
   "metadata": {
    "collapsed": false
   },
   "outputs": [],
   "source": [
    "t0 = time.time()\n",
    "games_sf8 = games_users_sf(games_df[70000:80000], game_ids)\n",
    "print \"{} seconds\".format(time.time() - t0)"
   ]
  },
  {
   "cell_type": "code",
   "execution_count": null,
   "metadata": {
    "collapsed": false
   },
   "outputs": [],
   "source": [
    "t0 = time.time()\n",
    "games_sf9 = games_users_sf(games_df[80000:90000], game_ids)\n",
    "print \"{} seconds\".format(time.time() - t0)"
   ]
  },
  {
   "cell_type": "code",
   "execution_count": null,
   "metadata": {
    "collapsed": false
   },
   "outputs": [],
   "source": [
    "t0 = time.time()\n",
    "games_sf10 = games_users_sf(games_df[90000:100000], game_ids)\n",
    "print \"{} seconds\".format(time.time() - t0)"
   ]
  },
  {
   "cell_type": "code",
   "execution_count": null,
   "metadata": {
    "collapsed": false
   },
   "outputs": [],
   "source": [
    "t0 = time.time()\n",
    "games_sf11 = games_users_sf(games_df[100000:110000], game_ids)\n",
    "print \"{} seconds\".format(time.time() - t0)"
   ]
  },
  {
   "cell_type": "code",
   "execution_count": null,
   "metadata": {
    "collapsed": false
   },
   "outputs": [],
   "source": [
    "t0 = time.time()\n",
    "games_sf12 = games_users_sf(games_df[110000:120000], game_ids)\n",
    "print \"{} seconds\".format(time.time() - t0)"
   ]
  },
  {
   "cell_type": "code",
   "execution_count": null,
   "metadata": {
    "collapsed": false
   },
   "outputs": [],
   "source": [
    "t0 = time.time()\n",
    "games_sf13 = games_users_sf(games_df[120000:130000], game_ids)\n",
    "print \"{} seconds\".format(time.time() - t0)"
   ]
  },
  {
   "cell_type": "code",
   "execution_count": null,
   "metadata": {
    "collapsed": false
   },
   "outputs": [],
   "source": [
    "t0 = time.time()\n",
    "games_sf14 = games_users_sf(games_df[130000:140000], game_ids)\n",
    "print \"{} seconds\".format(time.time() - t0)"
   ]
  },
  {
   "cell_type": "code",
   "execution_count": null,
   "metadata": {
    "collapsed": false
   },
   "outputs": [],
   "source": [
    "t0 = time.time()\n",
    "games_sf15 = games_users_sf(games_df[140000:], game_ids)\n",
    "print \"{} seconds\".format(time.time() - t0)"
   ]
  },
  {
   "cell_type": "code",
   "execution_count": null,
   "metadata": {
    "collapsed": true
   },
   "outputs": [],
   "source": [
    "total_sf = gl.SFrame()\n",
    "total_sf = total_sf.append(games_sf1)\n",
    "total_sf = total_sf.append(games_sf2)\n",
    "total_sf = total_sf.append(games_sf3)"
   ]
  },
  {
   "cell_type": "code",
   "execution_count": null,
   "metadata": {
    "collapsed": true
   },
   "outputs": [],
   "source": [
    "total_sf = total_sf.append(games_sf4)\n",
    "total_sf = total_sf.append(games_sf5)\n",
    "total_sf = total_sf.append(games_sf6)"
   ]
  },
  {
   "cell_type": "code",
   "execution_count": null,
   "metadata": {
    "collapsed": true
   },
   "outputs": [],
   "source": [
    "total_sf = total_sf.append(games_sf7)\n",
    "total_sf = total_sf.append(games_sf8)\n",
    "total_sf = total_sf.append(games_sf9)"
   ]
  },
  {
   "cell_type": "code",
   "execution_count": null,
   "metadata": {
    "collapsed": true
   },
   "outputs": [],
   "source": [
    "total_sf = total_sf.append(games_sf10)\n",
    "total_sf = total_sf.append(games_sf11)\n",
    "total_sf = total_sf.append(games_sf12)"
   ]
  },
  {
   "cell_type": "code",
   "execution_count": null,
   "metadata": {
    "collapsed": true
   },
   "outputs": [],
   "source": [
    "total_sf = total_sf.append(games_sf13)\n",
    "total_sf = total_sf.append(games_sf14)\n",
    "total_sf = total_sf.append(games_sf15)"
   ]
  },
  {
   "cell_type": "code",
   "execution_count": null,
   "metadata": {
    "collapsed": true
   },
   "outputs": [],
   "source": [
    "total_sf.save(\"final_users_item_rating.csv\")"
   ]
  }
 ],
 "metadata": {
  "kernelspec": {
   "display_name": "Python 2",
   "language": "python",
   "name": "python2"
  },
  "language_info": {
   "codemirror_mode": {
    "name": "ipython",
    "version": 2
   },
   "file_extension": ".py",
   "mimetype": "text/x-python",
   "name": "python",
   "nbconvert_exporter": "python",
   "pygments_lexer": "ipython2",
   "version": "2.7.11"
  }
 },
 "nbformat": 4,
 "nbformat_minor": 0
}
