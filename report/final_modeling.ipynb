{
 "cells": [
  {
   "cell_type": "code",
   "execution_count": 1,
   "metadata": {
    "collapsed": true
   },
   "outputs": [],
   "source": [
    "import graphlab\n",
    "import cPickle, operator\n",
    "import os\n",
    "import re\n",
    "import requests\n",
    "import time\n",
    "import pandas as pd\n",
    "from bs4 import BeautifulSoup"
   ]
  },
  {
   "cell_type": "markdown",
   "metadata": {},
   "source": [
    "# Loading Data"
   ]
  },
  {
   "cell_type": "code",
   "execution_count": 2,
   "metadata": {
    "collapsed": false
   },
   "outputs": [
    {
     "name": "stderr",
     "output_type": "stream",
     "text": [
      "2016-04-27 04:24:37,356 [INFO] graphlab.cython.cy_server, 176: GraphLab Create v1.8.5 started. Logging: /tmp/graphlab_server_1461731076.log\n"
     ]
    },
    {
     "data": {
      "text/html": [
       "<pre>Finished parsing file /home/ubuntu/final_data_sets/item_data.csv</pre>"
      ],
      "text/plain": [
       "Finished parsing file /home/ubuntu/final_data_sets/item_data.csv"
      ]
     },
     "metadata": {},
     "output_type": "display_data"
    },
    {
     "data": {
      "text/html": [
       "<pre>Parsing completed. Parsed 100 lines in 0.020087 secs.</pre>"
      ],
      "text/plain": [
       "Parsing completed. Parsed 100 lines in 0.020087 secs."
      ]
     },
     "metadata": {},
     "output_type": "display_data"
    },
    {
     "name": "stdout",
     "output_type": "stream",
     "text": [
      "This non-commercial license of GraphLab Create is assigned to johnnysand7@gmail.com and will expire on March 17, 2017. For commercial licensing options, visit https://dato.com/buy/.\n",
      "------------------------------------------------------"
     ]
    },
    {
     "data": {
      "text/html": [
       "<pre>Finished parsing file /home/ubuntu/final_data_sets/item_data.csv</pre>"
      ],
      "text/plain": [
       "Finished parsing file /home/ubuntu/final_data_sets/item_data.csv"
      ]
     },
     "metadata": {},
     "output_type": "display_data"
    },
    {
     "data": {
      "text/html": [
       "<pre>Parsing completed. Parsed 526 lines in 0.015819 secs.</pre>"
      ],
      "text/plain": [
       "Parsing completed. Parsed 526 lines in 0.015819 secs."
      ]
     },
     "metadata": {},
     "output_type": "display_data"
    },
    {
     "data": {
      "text/html": [
       "<pre>Finished parsing file /home/ubuntu/final_data_sets/user_data.csv</pre>"
      ],
      "text/plain": [
       "Finished parsing file /home/ubuntu/final_data_sets/user_data.csv"
      ]
     },
     "metadata": {},
     "output_type": "display_data"
    },
    {
     "data": {
      "text/html": [
       "<pre>Parsing completed. Parsed 100 lines in 0.168558 secs.</pre>"
      ],
      "text/plain": [
       "Parsing completed. Parsed 100 lines in 0.168558 secs."
      ]
     },
     "metadata": {},
     "output_type": "display_data"
    },
    {
     "name": "stdout",
     "output_type": "stream",
     "text": [
      "\n",
      "Inferred types from first line of file as \n",
      "column_type_hints=[int,int,int,int,str]\n",
      "If parsing fails due to incorrect types, you can correct\n",
      "the inferred type list above and pass it to read_csv in\n",
      "the column_type_hints argument\n",
      "------------------------------------------------------\n",
      "------------------------------------------------------"
     ]
    },
    {
     "data": {
      "text/html": [
       "<pre>Finished parsing file /home/ubuntu/final_data_sets/user_data.csv</pre>"
      ],
      "text/plain": [
       "Finished parsing file /home/ubuntu/final_data_sets/user_data.csv"
      ]
     },
     "metadata": {},
     "output_type": "display_data"
    },
    {
     "data": {
      "text/html": [
       "<pre>Parsing completed. Parsed 151318 lines in 0.076286 secs.</pre>"
      ],
      "text/plain": [
       "Parsing completed. Parsed 151318 lines in 0.076286 secs."
      ]
     },
     "metadata": {},
     "output_type": "display_data"
    },
    {
     "data": {
      "text/html": [
       "<pre>Finished parsing file /home/ubuntu/final_data_sets/user_item.csv</pre>"
      ],
      "text/plain": [
       "Finished parsing file /home/ubuntu/final_data_sets/user_item.csv"
      ]
     },
     "metadata": {},
     "output_type": "display_data"
    },
    {
     "data": {
      "text/html": [
       "<pre>Parsing completed. Parsed 100 lines in 0.870442 secs.</pre>"
      ],
      "text/plain": [
       "Parsing completed. Parsed 100 lines in 0.870442 secs."
      ]
     },
     "metadata": {},
     "output_type": "display_data"
    },
    {
     "name": "stdout",
     "output_type": "stream",
     "text": [
      "\n",
      "Inferred types from first line of file as \n",
      "column_type_hints=[int,int,int,int,int,int,int,int]\n",
      "If parsing fails due to incorrect types, you can correct\n",
      "the inferred type list above and pass it to read_csv in\n",
      "the column_type_hints argument\n",
      "------------------------------------------------------\n",
      "------------------------------------------------------"
     ]
    },
    {
     "data": {
      "text/html": [
       "<pre>Read 2013178 lines. Lines per second: 2.01607e+06</pre>"
      ],
      "text/plain": [
       "Read 2013178 lines. Lines per second: 2.01607e+06"
      ]
     },
     "metadata": {},
     "output_type": "display_data"
    },
    {
     "data": {
      "text/html": [
       "<pre>Finished parsing file /home/ubuntu/final_data_sets/user_item.csv</pre>"
      ],
      "text/plain": [
       "Finished parsing file /home/ubuntu/final_data_sets/user_item.csv"
      ]
     },
     "metadata": {},
     "output_type": "display_data"
    },
    {
     "data": {
      "text/html": [
       "<pre>Parsing completed. Parsed 7092562 lines in 1.89881 secs.</pre>"
      ],
      "text/plain": [
       "Parsing completed. Parsed 7092562 lines in 1.89881 secs."
      ]
     },
     "metadata": {},
     "output_type": "display_data"
    },
    {
     "name": "stdout",
     "output_type": "stream",
     "text": [
      "\n",
      "Inferred types from first line of file as \n",
      "column_type_hints=[int,int,int]\n",
      "If parsing fails due to incorrect types, you can correct\n",
      "the inferred type list above and pass it to read_csv in\n",
      "the column_type_hints argument\n",
      "------------------------------------------------------\n"
     ]
    }
   ],
   "source": [
    "items = graphlab.load_sframe(\"item_data.csv\")\n",
    "users = graphlab.load_sframe(\"user_data.csv\")\n",
    "users_items = graphlab.load_sframe(\"user_item.csv\")"
   ]
  },
  {
   "cell_type": "code",
   "execution_count": 3,
   "metadata": {
    "collapsed": false
   },
   "outputs": [
    {
     "data": {
      "text/html": [
       "<div style=\"max-height:1000px;max-width:1500px;overflow:auto;\"><table frame=\"box\" rules=\"cols\">\n",
       "    <tr>\n",
       "        <th style=\"padding-left: 1em; padding-right: 1em; text-align: center\">user_id</th>\n",
       "        <th style=\"padding-left: 1em; padding-right: 1em; text-align: center\">CommunityBanned</th>\n",
       "        <th style=\"padding-left: 1em; padding-right: 1em; text-align: center\">VACBanned</th>\n",
       "        <th style=\"padding-left: 1em; padding-right: 1em; text-align: center\">personastate</th>\n",
       "        <th style=\"padding-left: 1em; padding-right: 1em; text-align: center\">timecreated</th>\n",
       "        <th style=\"padding-left: 1em; padding-right: 1em; text-align: center\">num_friends</th>\n",
       "        <th style=\"padding-left: 1em; padding-right: 1em; text-align: center\">num_games</th>\n",
       "        <th style=\"padding-left: 1em; padding-right: 1em; text-align: center\">num_played</th>\n",
       "    </tr>\n",
       "    <tr>\n",
       "        <td style=\"padding-left: 1em; padding-right: 1em; text-align: center; vertical-align: top\">76561197963057664</td>\n",
       "        <td style=\"padding-left: 1em; padding-right: 1em; text-align: center; vertical-align: top\">0</td>\n",
       "        <td style=\"padding-left: 1em; padding-right: 1em; text-align: center; vertical-align: top\">0</td>\n",
       "        <td style=\"padding-left: 1em; padding-right: 1em; text-align: center; vertical-align: top\">0</td>\n",
       "        <td style=\"padding-left: 1em; padding-right: 1em; text-align: center; vertical-align: top\">12</td>\n",
       "        <td style=\"padding-left: 1em; padding-right: 1em; text-align: center; vertical-align: top\">34</td>\n",
       "        <td style=\"padding-left: 1em; padding-right: 1em; text-align: center; vertical-align: top\">23</td>\n",
       "        <td style=\"padding-left: 1em; padding-right: 1em; text-align: center; vertical-align: top\">14</td>\n",
       "    </tr>\n",
       "    <tr>\n",
       "        <td style=\"padding-left: 1em; padding-right: 1em; text-align: center; vertical-align: top\">76561198257721264</td>\n",
       "        <td style=\"padding-left: 1em; padding-right: 1em; text-align: center; vertical-align: top\">0</td>\n",
       "        <td style=\"padding-left: 1em; padding-right: 1em; text-align: center; vertical-align: top\">0</td>\n",
       "        <td style=\"padding-left: 1em; padding-right: 1em; text-align: center; vertical-align: top\">3</td>\n",
       "        <td style=\"padding-left: 1em; padding-right: 1em; text-align: center; vertical-align: top\">0</td>\n",
       "        <td style=\"padding-left: 1em; padding-right: 1em; text-align: center; vertical-align: top\">41</td>\n",
       "        <td style=\"padding-left: 1em; padding-right: 1em; text-align: center; vertical-align: top\">2</td>\n",
       "        <td style=\"padding-left: 1em; padding-right: 1em; text-align: center; vertical-align: top\">2</td>\n",
       "    </tr>\n",
       "    <tr>\n",
       "        <td style=\"padding-left: 1em; padding-right: 1em; text-align: center; vertical-align: top\">76561198189880304</td>\n",
       "        <td style=\"padding-left: 1em; padding-right: 1em; text-align: center; vertical-align: top\">0</td>\n",
       "        <td style=\"padding-left: 1em; padding-right: 1em; text-align: center; vertical-align: top\">0</td>\n",
       "        <td style=\"padding-left: 1em; padding-right: 1em; text-align: center; vertical-align: top\">1</td>\n",
       "        <td style=\"padding-left: 1em; padding-right: 1em; text-align: center; vertical-align: top\">1</td>\n",
       "        <td style=\"padding-left: 1em; padding-right: 1em; text-align: center; vertical-align: top\">10</td>\n",
       "        <td style=\"padding-left: 1em; padding-right: 1em; text-align: center; vertical-align: top\">4</td>\n",
       "        <td style=\"padding-left: 1em; padding-right: 1em; text-align: center; vertical-align: top\">3</td>\n",
       "    </tr>\n",
       "    <tr>\n",
       "        <td style=\"padding-left: 1em; padding-right: 1em; text-align: center; vertical-align: top\">76561197997398304</td>\n",
       "        <td style=\"padding-left: 1em; padding-right: 1em; text-align: center; vertical-align: top\">0</td>\n",
       "        <td style=\"padding-left: 1em; padding-right: 1em; text-align: center; vertical-align: top\">0</td>\n",
       "        <td style=\"padding-left: 1em; padding-right: 1em; text-align: center; vertical-align: top\">1</td>\n",
       "        <td style=\"padding-left: 1em; padding-right: 1em; text-align: center; vertical-align: top\">8</td>\n",
       "        <td style=\"padding-left: 1em; padding-right: 1em; text-align: center; vertical-align: top\">131</td>\n",
       "        <td style=\"padding-left: 1em; padding-right: 1em; text-align: center; vertical-align: top\">98</td>\n",
       "        <td style=\"padding-left: 1em; padding-right: 1em; text-align: center; vertical-align: top\">36</td>\n",
       "    </tr>\n",
       "    <tr>\n",
       "        <td style=\"padding-left: 1em; padding-right: 1em; text-align: center; vertical-align: top\">76561198145038640</td>\n",
       "        <td style=\"padding-left: 1em; padding-right: 1em; text-align: center; vertical-align: top\">0</td>\n",
       "        <td style=\"padding-left: 1em; padding-right: 1em; text-align: center; vertical-align: top\">0</td>\n",
       "        <td style=\"padding-left: 1em; padding-right: 1em; text-align: center; vertical-align: top\">1</td>\n",
       "        <td style=\"padding-left: 1em; padding-right: 1em; text-align: center; vertical-align: top\">2</td>\n",
       "        <td style=\"padding-left: 1em; padding-right: 1em; text-align: center; vertical-align: top\">85</td>\n",
       "        <td style=\"padding-left: 1em; padding-right: 1em; text-align: center; vertical-align: top\">8</td>\n",
       "        <td style=\"padding-left: 1em; padding-right: 1em; text-align: center; vertical-align: top\">6</td>\n",
       "    </tr>\n",
       "</table>\n",
       "[5 rows x 8 columns]<br/>\n",
       "</div>"
      ],
      "text/plain": [
       "Columns:\n",
       "\tuser_id\tint\n",
       "\tCommunityBanned\tint\n",
       "\tVACBanned\tint\n",
       "\tpersonastate\tint\n",
       "\ttimecreated\tint\n",
       "\tnum_friends\tint\n",
       "\tnum_games\tint\n",
       "\tnum_played\tint\n",
       "\n",
       "Rows: 5\n",
       "\n",
       "Data:\n",
       "+-------------------+-----------------+-----------+--------------+-------------+\n",
       "|      user_id      | CommunityBanned | VACBanned | personastate | timecreated |\n",
       "+-------------------+-----------------+-----------+--------------+-------------+\n",
       "| 76561197963057664 |        0        |     0     |      0       |      12     |\n",
       "| 76561198257721264 |        0        |     0     |      3       |      0      |\n",
       "| 76561198189880304 |        0        |     0     |      1       |      1      |\n",
       "| 76561197997398304 |        0        |     0     |      1       |      8      |\n",
       "| 76561198145038640 |        0        |     0     |      1       |      2      |\n",
       "+-------------------+-----------------+-----------+--------------+-------------+\n",
       "+-------------+-----------+------------+\n",
       "| num_friends | num_games | num_played |\n",
       "+-------------+-----------+------------+\n",
       "|      34     |     23    |     14     |\n",
       "|      41     |     2     |     2      |\n",
       "|      10     |     4     |     3      |\n",
       "|     131     |     98    |     36     |\n",
       "|      85     |     8     |     6      |\n",
       "+-------------+-----------+------------+\n",
       "[5 rows x 8 columns]"
      ]
     },
     "execution_count": 3,
     "metadata": {},
     "output_type": "execute_result"
    }
   ],
   "source": [
    "users.head(5)"
   ]
  },
  {
   "cell_type": "code",
   "execution_count": 4,
   "metadata": {
    "collapsed": false
   },
   "outputs": [
    {
     "data": {
      "text/html": [
       "<div style=\"max-height:1000px;max-width:1500px;overflow:auto;\"><table frame=\"box\" rules=\"cols\">\n",
       "    <tr>\n",
       "        <th style=\"padding-left: 1em; padding-right: 1em; text-align: center\">item_id</th>\n",
       "        <th style=\"padding-left: 1em; padding-right: 1em; text-align: center\">price_int</th>\n",
       "        <th style=\"padding-left: 1em; padding-right: 1em; text-align: center\">game_age</th>\n",
       "        <th style=\"padding-left: 1em; padding-right: 1em; text-align: center\">review_nums</th>\n",
       "        <th style=\"padding-left: 1em; padding-right: 1em; text-align: center\">genre</th>\n",
       "    </tr>\n",
       "    <tr>\n",
       "        <td style=\"padding-left: 1em; padding-right: 1em; text-align: center; vertical-align: top\">7830</td>\n",
       "        <td style=\"padding-left: 1em; padding-right: 1em; text-align: center; vertical-align: top\">5</td>\n",
       "        <td style=\"padding-left: 1em; padding-right: 1em; text-align: center; vertical-align: top\">7</td>\n",
       "        <td style=\"padding-left: 1em; padding-right: 1em; text-align: center; vertical-align: top\">7</td>\n",
       "        <td style=\"padding-left: 1em; padding-right: 1em; text-align: center; vertical-align: top\">Strategy</td>\n",
       "    </tr>\n",
       "    <tr>\n",
       "        <td style=\"padding-left: 1em; padding-right: 1em; text-align: center; vertical-align: top\">97330</td>\n",
       "        <td style=\"padding-left: 1em; padding-right: 1em; text-align: center; vertical-align: top\">10</td>\n",
       "        <td style=\"padding-left: 1em; padding-right: 1em; text-align: center; vertical-align: top\">4</td>\n",
       "        <td style=\"padding-left: 1em; padding-right: 1em; text-align: center; vertical-align: top\">7</td>\n",
       "        <td style=\"padding-left: 1em; padding-right: 1em; text-align: center; vertical-align: top\">Strategy</td>\n",
       "    </tr>\n",
       "    <tr>\n",
       "        <td style=\"padding-left: 1em; padding-right: 1em; text-align: center; vertical-align: top\">108710</td>\n",
       "        <td style=\"padding-left: 1em; padding-right: 1em; text-align: center; vertical-align: top\">30</td>\n",
       "        <td style=\"padding-left: 1em; padding-right: 1em; text-align: center; vertical-align: top\">4</td>\n",
       "        <td style=\"padding-left: 1em; padding-right: 1em; text-align: center; vertical-align: top\">7</td>\n",
       "        <td style=\"padding-left: 1em; padding-right: 1em; text-align: center; vertical-align: top\">Action</td>\n",
       "    </tr>\n",
       "    <tr>\n",
       "        <td style=\"padding-left: 1em; padding-right: 1em; text-align: center; vertical-align: top\">209000</td>\n",
       "        <td style=\"padding-left: 1em; padding-right: 1em; text-align: center; vertical-align: top\">20</td>\n",
       "        <td style=\"padding-left: 1em; padding-right: 1em; text-align: center; vertical-align: top\">3</td>\n",
       "        <td style=\"padding-left: 1em; padding-right: 1em; text-align: center; vertical-align: top\">7</td>\n",
       "        <td style=\"padding-left: 1em; padding-right: 1em; text-align: center; vertical-align: top\">Action</td>\n",
       "    </tr>\n",
       "    <tr>\n",
       "        <td style=\"padding-left: 1em; padding-right: 1em; text-align: center; vertical-align: top\">72850</td>\n",
       "        <td style=\"padding-left: 1em; padding-right: 1em; text-align: center; vertical-align: top\">20</td>\n",
       "        <td style=\"padding-left: 1em; padding-right: 1em; text-align: center; vertical-align: top\">5</td>\n",
       "        <td style=\"padding-left: 1em; padding-right: 1em; text-align: center; vertical-align: top\">7</td>\n",
       "        <td style=\"padding-left: 1em; padding-right: 1em; text-align: center; vertical-align: top\">RPG</td>\n",
       "    </tr>\n",
       "</table>\n",
       "[5 rows x 5 columns]<br/>\n",
       "</div>"
      ],
      "text/plain": [
       "Columns:\n",
       "\titem_id\tint\n",
       "\tprice_int\tint\n",
       "\tgame_age\tint\n",
       "\treview_nums\tint\n",
       "\tgenre\tstr\n",
       "\n",
       "Rows: 5\n",
       "\n",
       "Data:\n",
       "+---------+-----------+----------+-------------+----------+\n",
       "| item_id | price_int | game_age | review_nums |  genre   |\n",
       "+---------+-----------+----------+-------------+----------+\n",
       "|   7830  |     5     |    7     |      7      | Strategy |\n",
       "|  97330  |     10    |    4     |      7      | Strategy |\n",
       "|  108710 |     30    |    4     |      7      |  Action  |\n",
       "|  209000 |     20    |    3     |      7      |  Action  |\n",
       "|  72850  |     20    |    5     |      7      |   RPG    |\n",
       "+---------+-----------+----------+-------------+----------+\n",
       "[5 rows x 5 columns]"
      ]
     },
     "execution_count": 4,
     "metadata": {},
     "output_type": "execute_result"
    }
   ],
   "source": [
    "items.head(5)"
   ]
  },
  {
   "cell_type": "code",
   "execution_count": 7,
   "metadata": {
    "collapsed": false
   },
   "outputs": [],
   "source": [
    "users_items[:10000].save(\"sample_users_items_ratings.csv\")"
   ]
  },
  {
   "cell_type": "code",
   "execution_count": 5,
   "metadata": {
    "collapsed": false
   },
   "outputs": [
    {
     "data": {
      "text/html": [
       "<div style=\"max-height:1000px;max-width:1500px;overflow:auto;\"><table frame=\"box\" rules=\"cols\">\n",
       "    <tr>\n",
       "        <th style=\"padding-left: 1em; padding-right: 1em; text-align: center\">item_id</th>\n",
       "        <th style=\"padding-left: 1em; padding-right: 1em; text-align: center\">rating</th>\n",
       "        <th style=\"padding-left: 1em; padding-right: 1em; text-align: center\">user_id</th>\n",
       "    </tr>\n",
       "    <tr>\n",
       "        <td style=\"padding-left: 1em; padding-right: 1em; text-align: center; vertical-align: top\">10</td>\n",
       "        <td style=\"padding-left: 1em; padding-right: 1em; text-align: center; vertical-align: top\">0</td>\n",
       "        <td style=\"padding-left: 1em; padding-right: 1em; text-align: center; vertical-align: top\">76561197963057664</td>\n",
       "    </tr>\n",
       "    <tr>\n",
       "        <td style=\"padding-left: 1em; padding-right: 1em; text-align: center; vertical-align: top\">20</td>\n",
       "        <td style=\"padding-left: 1em; padding-right: 1em; text-align: center; vertical-align: top\">0</td>\n",
       "        <td style=\"padding-left: 1em; padding-right: 1em; text-align: center; vertical-align: top\">76561197963057664</td>\n",
       "    </tr>\n",
       "    <tr>\n",
       "        <td style=\"padding-left: 1em; padding-right: 1em; text-align: center; vertical-align: top\">30</td>\n",
       "        <td style=\"padding-left: 1em; padding-right: 1em; text-align: center; vertical-align: top\">0</td>\n",
       "        <td style=\"padding-left: 1em; padding-right: 1em; text-align: center; vertical-align: top\">76561197963057664</td>\n",
       "    </tr>\n",
       "    <tr>\n",
       "        <td style=\"padding-left: 1em; padding-right: 1em; text-align: center; vertical-align: top\">50</td>\n",
       "        <td style=\"padding-left: 1em; padding-right: 1em; text-align: center; vertical-align: top\">0</td>\n",
       "        <td style=\"padding-left: 1em; padding-right: 1em; text-align: center; vertical-align: top\">76561197963057664</td>\n",
       "    </tr>\n",
       "    <tr>\n",
       "        <td style=\"padding-left: 1em; padding-right: 1em; text-align: center; vertical-align: top\">70</td>\n",
       "        <td style=\"padding-left: 1em; padding-right: 1em; text-align: center; vertical-align: top\">0</td>\n",
       "        <td style=\"padding-left: 1em; padding-right: 1em; text-align: center; vertical-align: top\">76561197963057664</td>\n",
       "    </tr>\n",
       "</table>\n",
       "[5 rows x 3 columns]<br/>\n",
       "</div>"
      ],
      "text/plain": [
       "Columns:\n",
       "\titem_id\tint\n",
       "\trating\tint\n",
       "\tuser_id\tint\n",
       "\n",
       "Rows: 5\n",
       "\n",
       "Data:\n",
       "+---------+--------+-------------------+\n",
       "| item_id | rating |      user_id      |\n",
       "+---------+--------+-------------------+\n",
       "|    10   |   0    | 76561197963057664 |\n",
       "|    20   |   0    | 76561197963057664 |\n",
       "|    30   |   0    | 76561197963057664 |\n",
       "|    50   |   0    | 76561197963057664 |\n",
       "|    70   |   0    | 76561197963057664 |\n",
       "+---------+--------+-------------------+\n",
       "[5 rows x 3 columns]"
      ]
     },
     "execution_count": 5,
     "metadata": {},
     "output_type": "execute_result"
    }
   ],
   "source": [
    "users_items.head(5)"
   ]
  },
  {
   "cell_type": "markdown",
   "metadata": {},
   "source": [
    "# Model"
   ]
  },
  {
   "cell_type": "markdown",
   "metadata": {},
   "source": [
    "### Training, Testing"
   ]
  },
  {
   "cell_type": "code",
   "execution_count": null,
   "metadata": {
    "collapsed": true
   },
   "outputs": [],
   "source": [
    "train, test = graphlab.recommender.util.random_split_by_user(users_items,\n",
    "                                                             user_id=\"user_id\", item_id=\"item_id\",\n",
    "                                                             max_num_users=100, item_test_proportion=0.3)"
   ]
  },
  {
   "cell_type": "code",
   "execution_count": null,
   "metadata": {
    "collapsed": false
   },
   "outputs": [],
   "source": [
    "model = graphlab.factorization_recommender.create(users_items,\n",
    "                                            user_id='user_id',\n",
    "                                            item_id='item_id',\n",
    "                                            target='rating',\n",
    "                                            user_data=users,\n",
    "                                            item_data=items,\n",
    "                                            random_seed=343,\n",
    "                                            solver=\"sgd\")"
   ]
  },
  {
   "cell_type": "code",
   "execution_count": null,
   "metadata": {
    "collapsed": true
   },
   "outputs": [],
   "source": []
  },
  {
   "cell_type": "markdown",
   "metadata": {},
   "source": [
    "# New User"
   ]
  },
  {
   "cell_type": "code",
   "execution_count": null,
   "metadata": {
    "collapsed": true
   },
   "outputs": [],
   "source": [
    "class CollectNewUser():\n",
    "    \n",
    "    def __init__(self, popular_games):\n",
    "        self.popular_games = popular_games\n",
    "        self.uid = self.determine_user_input()\n",
    "        self.key = os.environ[\"ACCESS_STEAM\"]\n",
    "        self.bans = None\n",
    "        self.user = None\n",
    "        self.friends = None\n",
    "    \n",
    "    \n",
    "    def determine_user_input(self):\n",
    "        user_input = raw_input(\"Paste your Steam community profile url here: \")\n",
    "        if len(user_input) == 17:\n",
    "            if user_input.isdigit():\n",
    "                return user_input\n",
    "            else:\n",
    "                return \"Maybe you tried your 17-digt Steam ID, which was not recognized\"\n",
    "\n",
    "        elif \"steamcommunity.com\" not in user_input:\n",
    "            return \"Must be a Steam Community URL!\"\n",
    "\n",
    "        else:    \n",
    "            try:\n",
    "                response = requests.get(user_input)\n",
    "                uid = re.findall(r\"[0-9]{17}\", response.text)[0]\n",
    "                if len(uid) != 17:\n",
    "                    return \"Url did not work\"\n",
    "                return uid\n",
    "\n",
    "            except IndexError:\n",
    "                return \"Could not find your profile.\"\n",
    "\n",
    "            except requests.ConnectionError:\n",
    "                return \"Could not find your profile.\"\n",
    "            \n",
    "            \n",
    "    def get_user_info(self):\n",
    "        \"\"\"\n",
    "        For my model, I need the new user's:\n",
    "          personastate\n",
    "          location (eventually)\n",
    "          profile avatar url (eventually)\n",
    "          other things?\n",
    "        \"\"\"\n",
    "        url = \"http://api.steampowered.com/ISteamUser/GetPlayerSummaries\"\\\n",
    "              +\"/v0002/?key=\"+self.key+\"&steamids=\"+self.uid\n",
    "        user = requests.get(url).json()[\"response\"][\"players\"][0]\n",
    "        if user[\"communityvisibilitystate\"] == 1:\n",
    "            return None\n",
    "        #desired_keys = set(user.keys()) - set([\"profileurl\", \"personastateflags\", \"avatar\", \"avatarmedium\", \"steamid\"])\n",
    "        self.user = {k: user[k] for k in (\"personastate\", \"timecreated\", \"steamid\")}\n",
    "    \n",
    "    \n",
    "    def get_bans(self):\n",
    "        url = \"http://api.steampowered.com/ISteamUser/GetPlayerBans\"\\\n",
    "              +\"/v1/?key=\"+self.key+\"&steamids=\"+self.uid\n",
    "        response = requests.get(url)\n",
    "        self.s_code = str(response.status_code).startswith(\"2\")\n",
    "        ban = response.json()[\"players\"][0]\n",
    "        desired_keys = set(ban.keys()) - set([\"SteamId\", \"DaysSinceLastBan\", \"EconomyBan\",\\\n",
    "                                             \"NumberOfGameBans\", \"NumberOfVACBans\"])\n",
    "        self.bans = {k: ban[k] for k in desired_keys}\n",
    "    \n",
    "    \n",
    "    def get_friends(self):\n",
    "        url = 'http://api.steampowered.com/ISteamUser/GetFriendList/v0001/?key='\\\n",
    "               +self.key+'&steamid='+self.uid+'&relationship=all'\n",
    "        response = requests.get(url)\n",
    "        if str(response.status_code).startswith(\"2\"):\n",
    "            friends = response.json()[\"friendslist\"][\"friends\"]\n",
    "            excluding = set([\"relationship\"])\n",
    "            #return [{k: friend[k] for k in (set(friend.keys()) - excluding)} for friend in friends]\n",
    "            self.friends = len(friends)\n",
    "        else:\n",
    "            return None\n",
    "        \n",
    "        \n",
    "    def get_game_info(self):\n",
    "        url =  \"http://api.steampowered.com/IPlayerService/GetOwnedGames/v0001/?key=\"\\\n",
    "                +self.key+\"&steamid=\"+self.uid+\"&include_appinfo=1\\\n",
    "                &include_played_free_games=1&format=json\"\n",
    "        response = requests.get(url)\n",
    "        if str(response.status_code).startswith(\"2\"):\n",
    "            try:\n",
    "                games = response.json()[\"response\"][\"games\"]\n",
    "                for i, game in enumerate(games):\n",
    "                    desired_keys = set(game.keys()) - set([\"has_community_visible_stats\",\\\n",
    "                                                           \"img_icon_url\", \"img_logo_url\"])\n",
    "                    if \"playtime_2weeks\" in desired_keys:\n",
    "                        game = {k: game[k] for k in desired_keys}\n",
    "                        games[i] = game\n",
    "                    else:\n",
    "                        game = {k: game[k] for k in desired_keys}\n",
    "                        game[u\"playtime_2weeks\"] = 0\n",
    "                        games[i] = game\n",
    "                return games\n",
    "            except KeyError:\n",
    "                return None\n",
    "        else:\n",
    "            return None\n",
    "        \n",
    "        \n",
    "    def game_user_frames(self):\n",
    "        game_df = pd.DataFrame(self.get_game_info())\n",
    "        owned, played = len(game_df), len(game_df[game_df[\"playtime_forever\"]!=0])\n",
    "        game_df = game_df[game_df[\"appid\"].isin(self.popular_games)]\n",
    "        game_df[\"rating\"] = pd.cut(game_df[\"playtime_forever\"],\\\n",
    "                                          bins=[-1, 60, 120, 180, 240, 300, 10e10], \\\n",
    "                                          labels=[0,1,2,3,4,5]).astype(int)\n",
    "        game_df[\"user_id\"] = ((self.uid+\" \") * len(game_df)).split()\n",
    "        game_df[\"item_id\"] = game_df[\"appid\"].astype(int)\n",
    "        game_df = game_df[[\"item_id\", \"rating\", \"user_id\"]]\n",
    "        game_df = graphlab.SFrame(game_df)\n",
    "        user_dict = dict(self.bans.items()\n",
    "                        + self.user.items()\n",
    "                        + [(\"num_friends\", self.friends),\n",
    "                           (\"num_played\", played),\n",
    "                           (\"num_games\", owned)])\n",
    "        user_df = pd.DataFrame([user_dict])\n",
    "        user_df[\"timecreated\"] = int(round((time.time() - user_df[\"timecreated\"]) / (3600 * 24 * 365), 2))\n",
    "        user_df.rename(columns={\"steamid\":\"user_id\"}, inplace=True)\n",
    "        user_df = graphlab.SFrame(user_df)\n",
    "        return user_df, game_df"
   ]
  },
  {
   "cell_type": "code",
   "execution_count": null,
   "metadata": {
    "collapsed": false
   },
   "outputs": [],
   "source": [
    "item_id_set = set(items[\"item_id\"])"
   ]
  },
  {
   "cell_type": "code",
   "execution_count": null,
   "metadata": {
    "collapsed": false
   },
   "outputs": [],
   "source": [
    "new_user = CollectNewUser(item_id_set)"
   ]
  },
  {
   "cell_type": "code",
   "execution_count": null,
   "metadata": {
    "collapsed": false
   },
   "outputs": [],
   "source": [
    "new_user.uid"
   ]
  },
  {
   "cell_type": "code",
   "execution_count": null,
   "metadata": {
    "collapsed": true
   },
   "outputs": [],
   "source": [
    "new_user.get_user_info()\n",
    "new_user.get_bans()\n",
    "new_user.get_friends()"
   ]
  },
  {
   "cell_type": "code",
   "execution_count": null,
   "metadata": {
    "collapsed": false
   },
   "outputs": [],
   "source": [
    "new_user_side, new_user_items = new_user.game_user_frames()"
   ]
  },
  {
   "cell_type": "code",
   "execution_count": null,
   "metadata": {
    "collapsed": false
   },
   "outputs": [],
   "source": [
    "model.recommend([int(new_user_items[\"user_id\"][0])], new_observation_data=new_user_items, new_user_data=new_user_side)"
   ]
  },
  {
   "cell_type": "code",
   "execution_count": null,
   "metadata": {
    "collapsed": false
   },
   "outputs": [],
   "source": [
    "similar_5 = model.get_similar_users([76561197990097040], k=5)[\"similar\"]"
   ]
  },
  {
   "cell_type": "code",
   "execution_count": null,
   "metadata": {
    "collapsed": false
   },
   "outputs": [],
   "source": [
    "number1 = similar_5[0]\n",
    "number2 = similar_5[1]\n",
    "number3 = similar_5[2]\n",
    "number4 = similar_5[3]\n",
    "number5 = similar_5[4]"
   ]
  },
  {
   "cell_type": "code",
   "execution_count": null,
   "metadata": {
    "collapsed": true
   },
   "outputs": [],
   "source": [
    "model2 = graphlab.load_model(\"first_model\")"
   ]
  },
  {
   "cell_type": "code",
   "execution_count": null,
   "metadata": {
    "collapsed": false
   },
   "outputs": [],
   "source": [
    "similar_5"
   ]
  },
  {
   "cell_type": "code",
   "execution_count": null,
   "metadata": {
    "collapsed": false
   },
   "outputs": [],
   "source": [
    "model2.get_similar_users([76561197990097040])"
   ]
  },
  {
   "cell_type": "code",
   "execution_count": null,
   "metadata": {
    "collapsed": true
   },
   "outputs": [],
   "source": [
    "76561198079183328"
   ]
  },
  {
   "cell_type": "code",
   "execution_count": null,
   "metadata": {
    "collapsed": true
   },
   "outputs": [],
   "source": []
  },
  {
   "cell_type": "code",
   "execution_count": null,
   "metadata": {
    "collapsed": true
   },
   "outputs": [],
   "source": []
  },
  {
   "cell_type": "code",
   "execution_count": null,
   "metadata": {
    "collapsed": false
   },
   "outputs": [],
   "source": [
    "76561197999882487 in users[\"user_id\"]"
   ]
  },
  {
   "cell_type": "code",
   "execution_count": null,
   "metadata": {
    "collapsed": true
   },
   "outputs": [],
   "source": [
    "model.save(\"first_model\")"
   ]
  },
  {
   "cell_type": "code",
   "execution_count": null,
   "metadata": {
    "collapsed": true
   },
   "outputs": [],
   "source": []
  },
  {
   "cell_type": "code",
   "execution_count": null,
   "metadata": {
    "collapsed": true
   },
   "outputs": [],
   "source": []
  },
  {
   "cell_type": "code",
   "execution_count": null,
   "metadata": {
    "collapsed": true
   },
   "outputs": [],
   "source": []
  },
  {
   "cell_type": "code",
   "execution_count": null,
   "metadata": {
    "collapsed": false
   },
   "outputs": [],
   "source": [
    "users_items_df = users_items.to_dataframe()"
   ]
  },
  {
   "cell_type": "code",
   "execution_count": null,
   "metadata": {
    "collapsed": false
   },
   "outputs": [],
   "source": [
    "users_items_df[users_items_df[\"rating\"]!=0].groupby(\"user_id\").count().sort_values(by=\"rating\", ascending=False)"
   ]
  },
  {
   "cell_type": "code",
   "execution_count": null,
   "metadata": {
    "collapsed": true
   },
   "outputs": [],
   "source": []
  },
  {
   "cell_type": "code",
   "execution_count": null,
   "metadata": {
    "collapsed": false
   },
   "outputs": [],
   "source": [
    "top_similar = model.get_similar_users([76561197997398304])[\"similar\"][0]"
   ]
  },
  {
   "cell_type": "code",
   "execution_count": null,
   "metadata": {
    "collapsed": false
   },
   "outputs": [],
   "source": [
    "model.get_similar_users([76561197997398304])"
   ]
  },
  {
   "cell_type": "code",
   "execution_count": null,
   "metadata": {
    "collapsed": true
   },
   "outputs": [],
   "source": [
    "with open(\"../banned_df.p\", \"rb\") as f:\n",
    "    games = cPickle.load(f)\n",
    "games_users = games[[\"steamid\", \"game_info\"]] "
   ]
  },
  {
   "cell_type": "code",
   "execution_count": null,
   "metadata": {
    "collapsed": true
   },
   "outputs": [],
   "source": [
    "def favorite_games_by_user(uid, df, model):\n",
    "    \"\"\"\n",
    "    Parameters\n",
    "    ----------\n",
    "    uid: 17-digit integer\n",
    "    df: df with columns \"steamid\" and \"game_info\"\n",
    "    model: factorization_recommender model\n",
    "    Outputs\n",
    "    -------\n",
    "    DataFrame with shared top games by users\n",
    "    \"\"\"\n",
    "    game_dict = {}\n",
    "    for games in df[df[\"steamid\"] == uid][\"game_info\"]:\n",
    "        for game in games:\n",
    "            game_dict[str(game[\"appid\"])] = game[\"playtime_forever\"]\n",
    "    sorted_games = sorted(game_dict.items(), key=operator.itemgetter(1))\n",
    "    top_games_user1 = pd.DataFrame(sorted_games, columns=[\"appid_user_1\", \"playtime_user_1\"])\\\n",
    "                    .sort_values(by=\"playtime_user_1\", ascending=False)\\\n",
    "                    .head(10).reset_index(drop=True)\n",
    "            \n",
    "    rec_uid = model.get_similar_users([uid])[\"similar\"][0]\n",
    "    \n",
    "    game_dict = {}\n",
    "    for games in df[df[\"steamid\"] == rec_uid][\"game_info\"]:\n",
    "        for game in games:\n",
    "            game_dict[str(game[\"appid\"])] = game[\"playtime_forever\"]\n",
    "    sorted_games = sorted(game_dict.items(), key=operator.itemgetter(1))\n",
    "    top_games_rec = pd.DataFrame(sorted_games, columns=[\"appid_rec\", \"playtime_rec\"])\\\n",
    "                      .sort_values(by=\"playtime_rec\", ascending=False)\\\n",
    "                      .head(10).reset_index(drop=True)\n",
    "    combined = pd.concat((top_games_user1, top_games_rec), axis=1)\n",
    "    return combined"
   ]
  },
  {
   "cell_type": "code",
   "execution_count": null,
   "metadata": {
    "collapsed": false
   },
   "outputs": [],
   "source": [
    "test_out = favorite_games_by_user(76561197997398304, games_users, model)"
   ]
  },
  {
   "cell_type": "code",
   "execution_count": null,
   "metadata": {
    "collapsed": false
   },
   "outputs": [],
   "source": [
    "item_genres = items[[\"item_id\", \"genre\"]]"
   ]
  },
  {
   "cell_type": "code",
   "execution_count": null,
   "metadata": {
    "collapsed": false
   },
   "outputs": [],
   "source": [
    "item_genres = item_genres.to_dataframe()#.rename(columns={\"item_id\":\"appid_user_1\"})"
   ]
  },
  {
   "cell_type": "code",
   "execution_count": null,
   "metadata": {
    "collapsed": true
   },
   "outputs": [],
   "source": []
  },
  {
   "cell_type": "code",
   "execution_count": null,
   "metadata": {
    "collapsed": false
   },
   "outputs": [],
   "source": [
    "item_genres[item_genres[\"item_id\"].isin(test_out[\"appid_user_1\"].values.astype(int))]"
   ]
  },
  {
   "cell_type": "code",
   "execution_count": null,
   "metadata": {
    "collapsed": false
   },
   "outputs": [],
   "source": [
    "item_genres[item_genres[\"item_id\"].isin(test_out[\"appid_rec\"].values.astype(int))]"
   ]
  },
  {
   "cell_type": "code",
   "execution_count": null,
   "metadata": {
    "collapsed": false
   },
   "outputs": [],
   "source": [
    "test_out_2 = favorite_games_by_user(76561198069263328, games_users, model)"
   ]
  },
  {
   "cell_type": "code",
   "execution_count": null,
   "metadata": {
    "collapsed": false
   },
   "outputs": [],
   "source": [
    "test_out_2"
   ]
  },
  {
   "cell_type": "code",
   "execution_count": null,
   "metadata": {
    "collapsed": false
   },
   "outputs": [],
   "source": [
    "original_user = item_genres[item_genres[\"item_id\"].isin(test_out_2[\"appid_user_1\"].values.astype(int))]"
   ]
  },
  {
   "cell_type": "code",
   "execution_count": null,
   "metadata": {
    "collapsed": false
   },
   "outputs": [],
   "source": [
    "original_user"
   ]
  },
  {
   "cell_type": "code",
   "execution_count": null,
   "metadata": {
    "collapsed": false
   },
   "outputs": [],
   "source": [
    "original_user[\"title\"] = [\"Fallout: New Vegas\", \"Garry's Mod\", \"Payday 2\", \"Dayz\", \"Team Fortress 2\",\\\n",
    "                         \"Blacklight: Retribution\", \"Planetside 2\", \"Warframe\", \"Unturned\", \"CS:GO\"]"
   ]
  },
  {
   "cell_type": "code",
   "execution_count": null,
   "metadata": {
    "collapsed": false
   },
   "outputs": [],
   "source": [
    "original_user"
   ]
  },
  {
   "cell_type": "code",
   "execution_count": null,
   "metadata": {
    "collapsed": false
   },
   "outputs": [],
   "source": [
    "rec_user = item_genres[item_genres[\"item_id\"].isin(test_out_2[\"appid_rec\"].values.astype(int))]"
   ]
  },
  {
   "cell_type": "code",
   "execution_count": null,
   "metadata": {
    "collapsed": false
   },
   "outputs": [],
   "source": [
    "rec_user[\"title\"] = [\"Skyrim\", \"Arma 2\", \"Terreria\", \"Dayz\", \"Civilization V\", \"Kerbal Space Program\",\\\n",
    "                    \"Team Fortress 2\", \"ARK: Survival Evolved\", \"Starbound\"]"
   ]
  },
  {
   "cell_type": "code",
   "execution_count": null,
   "metadata": {
    "collapsed": false
   },
   "outputs": [],
   "source": [
    "rec_user"
   ]
  },
  {
   "cell_type": "code",
   "execution_count": null,
   "metadata": {
    "collapsed": true
   },
   "outputs": [],
   "source": []
  },
  {
   "cell_type": "code",
   "execution_count": null,
   "metadata": {
    "collapsed": true
   },
   "outputs": [],
   "source": []
  },
  {
   "cell_type": "code",
   "execution_count": null,
   "metadata": {
    "collapsed": true
   },
   "outputs": [],
   "source": [
    "with open(\"../user_df.p\", \"rb\") as f:\n",
    "    users = cPickle.load(f)"
   ]
  },
  {
   "cell_type": "code",
   "execution_count": null,
   "metadata": {
    "collapsed": true
   },
   "outputs": [],
   "source": []
  },
  {
   "cell_type": "code",
   "execution_count": null,
   "metadata": {
    "collapsed": false
   },
   "outputs": [],
   "source": [
    "users[users[\"steamid\"]==76561198026695696]"
   ]
  },
  {
   "cell_type": "code",
   "execution_count": null,
   "metadata": {
    "collapsed": false
   },
   "outputs": [],
   "source": [
    "users[users[\"steamid\"]==76561198069263328]"
   ]
  },
  {
   "cell_type": "code",
   "execution_count": null,
   "metadata": {
    "collapsed": false
   },
   "outputs": [],
   "source": [
    "model.get_similar_users([76561198069263328])"
   ]
  },
  {
   "cell_type": "code",
   "execution_count": null,
   "metadata": {
    "collapsed": true
   },
   "outputs": [],
   "source": []
  },
  {
   "cell_type": "code",
   "execution_count": null,
   "metadata": {
    "collapsed": true
   },
   "outputs": [],
   "source": []
  },
  {
   "cell_type": "code",
   "execution_count": null,
   "metadata": {
    "collapsed": false
   },
   "outputs": [],
   "source": [
    "user_playtime[user_playtime[\"steamid\"]==76561198026695696].sort_values(by=\"playtime_forever\", ascending=False).head()"
   ]
  },
  {
   "cell_type": "code",
   "execution_count": null,
   "metadata": {
    "collapsed": false
   },
   "outputs": [],
   "source": [
    "user_playtime[user_playtime[\"steamid\"]==76561198069263328].sort_values(by=\"playtime_forever\", ascending=False).head()"
   ]
  },
  {
   "cell_type": "code",
   "execution_count": null,
   "metadata": {
    "collapsed": true
   },
   "outputs": [],
   "source": [
    "user_playtime = pd.read_csv(\"../final_sf.csv\")"
   ]
  },
  {
   "cell_type": "code",
   "execution_count": null,
   "metadata": {
    "collapsed": false
   },
   "outputs": [],
   "source": [
    "(user_playtime[user_playtime[\"appid\"]==72850][\"playtime_forever\"]!=0).sum()"
   ]
  },
  {
   "cell_type": "code",
   "execution_count": null,
   "metadata": {
    "collapsed": false
   },
   "outputs": [],
   "source": [
    "322209881 / (60. * 24) / 52000."
   ]
  },
  {
   "cell_type": "code",
   "execution_count": null,
   "metadata": {
    "collapsed": true
   },
   "outputs": [],
   "source": [
    "import matplotlib.pyplot as plt\n",
    "%matplotlib inline"
   ]
  },
  {
   "cell_type": "code",
   "execution_count": null,
   "metadata": {
    "collapsed": true
   },
   "outputs": [],
   "source": [
    "global_playtime = (user_playtime.groupby(\"steamid\").sum()[\"playtime_forever\"].values / (60. * 24)).astype(int)"
   ]
  },
  {
   "cell_type": "code",
   "execution_count": null,
   "metadata": {
    "collapsed": false
   },
   "outputs": [],
   "source": [
    "plt.figure(figsize=(9,7))\n",
    "plt.hist(global_playtime, bins=50)\n",
    "plt.show()"
   ]
  },
  {
   "cell_type": "code",
   "execution_count": null,
   "metadata": {
    "collapsed": false
   },
   "outputs": [],
   "source": [
    "global_playtime"
   ]
  },
  {
   "cell_type": "code",
   "execution_count": null,
   "metadata": {
    "collapsed": false
   },
   "outputs": [],
   "source": [
    "global_playtime[10::-1]"
   ]
  },
  {
   "cell_type": "code",
   "execution_count": null,
   "metadata": {
    "collapsed": false
   },
   "outputs": [],
   "source": [
    "plt.hist(user_playtime[user_playtime[\"appid\"]==72850][\"playtime_forever\"].values, bins=20)"
   ]
  },
  {
   "cell_type": "code",
   "execution_count": null,
   "metadata": {
    "collapsed": false
   },
   "outputs": [],
   "source": [
    "273414 / (60. * 24)"
   ]
  },
  {
   "cell_type": "code",
   "execution_count": null,
   "metadata": {
    "collapsed": false
   },
   "outputs": [],
   "source": [
    "with open(\"../user_df.p\") as f:\n",
    "    users_2 = cPickle.load(f)"
   ]
  },
  {
   "cell_type": "code",
   "execution_count": null,
   "metadata": {
    "collapsed": false
   },
   "outputs": [],
   "source": [
    "users_2[\"personaname\"][76561197997398304]"
   ]
  },
  {
   "cell_type": "code",
   "execution_count": null,
   "metadata": {
    "collapsed": false
   },
   "outputs": [],
   "source": [
    "users_2[[\"personaname\"]]\n",
    "[76561198004737472].encode('ascii', 'ignore')"
   ]
  },
  {
   "cell_type": "code",
   "execution_count": null,
   "metadata": {
    "collapsed": false
   },
   "outputs": [],
   "source": [
    "users_2[[\"personaname\", \"avatarfull\"]].to_pickle(\"user_names\")"
   ]
  },
  {
   "cell_type": "code",
   "execution_count": null,
   "metadata": {
    "collapsed": true
   },
   "outputs": [],
   "source": [
    "with open(\"user_names\") as f:\n",
    "    users_3 = cPickle.load(f)"
   ]
  },
  {
   "cell_type": "code",
   "execution_count": null,
   "metadata": {
    "collapsed": false
   },
   "outputs": [],
   "source": [
    "users_3[76561198004737472]"
   ]
  },
  {
   "cell_type": "code",
   "execution_count": null,
   "metadata": {
    "collapsed": false
   },
   "outputs": [],
   "source": [
    "users_2[\"avatarfull\"][76561198069263328]"
   ]
  },
  {
   "cell_type": "code",
   "execution_count": null,
   "metadata": {
    "collapsed": true
   },
   "outputs": [],
   "source": [
    "with open(\"../cleaned_dataframe.p\") as f:\n",
    "    users_2 = cPickle.load(f)"
   ]
  },
  {
   "cell_type": "code",
   "execution_count": null,
   "metadata": {
    "collapsed": false
   },
   "outputs": [],
   "source": [
    "users_2.head()"
   ]
  },
  {
   "cell_type": "code",
   "execution_count": null,
   "metadata": {
    "collapsed": true
   },
   "outputs": [],
   "source": []
  }
 ],
 "metadata": {
  "kernelspec": {
   "display_name": "Python 2",
   "language": "python",
   "name": "python2"
  },
  "language_info": {
   "codemirror_mode": {
    "name": "ipython",
    "version": 2
   },
   "file_extension": ".py",
   "mimetype": "text/x-python",
   "name": "python",
   "nbconvert_exporter": "python",
   "pygments_lexer": "ipython2",
   "version": "2.7.11"
  }
 },
 "nbformat": 4,
 "nbformat_minor": 0
}
