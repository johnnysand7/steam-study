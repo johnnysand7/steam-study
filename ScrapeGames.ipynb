{
 "cells": [
  {
   "cell_type": "code",
   "execution_count": 100,
   "metadata": {
    "collapsed": false
   },
   "outputs": [
    {
     "name": "stderr",
     "output_type": "stream",
     "text": [
      "2016-04-19 18:56:30,980 [WARNING] graphlab.product_key, 191: Unable to write current GraphLab Create license to /home/johnny/.graphlab/config. Ensure that this user account                         has write permission to /home/johnny/.graphlab/config to save the license for offline use.\n"
     ]
    },
    {
     "name": "stdout",
     "output_type": "stream",
     "text": [
      "This non-commercial license of GraphLab Create is assigned to johnnysand7@gmail.com and will expire on March 17, 2017. For commercial licensing options, visit https://dato.com/buy/.\n"
     ]
    },
    {
     "name": "stderr",
     "output_type": "stream",
     "text": [
      "2016-04-19 18:56:31,224 [INFO] graphlab.cython.cy_server, 176: GraphLab Create v1.8.5 started. Logging: /tmp/graphlab_server_1461117389.log\n",
      "2016-04-19 18:56:31,243 [WARNING] graphlab.deploy._session, 116: Unable to create session in specified location: '/home/johnny/.graphlab/artifacts'. Using: '/var/tmp/graphlab-johnny/19533/tmp_session_c117e91f-5e39-41d6-80a5-3b0f928f4f89'\n"
     ]
    }
   ],
   "source": [
    "import graphlab as gl"
   ]
  },
  {
   "cell_type": "code",
   "execution_count": 2,
   "metadata": {
    "collapsed": true
   },
   "outputs": [],
   "source": [
    "import requests\n",
    "from bs4 import BeautifulSoup\n",
    "import pymongo \n",
    "from collections import Counter\n",
    "import pandas as pd\n",
    "import numpy as np\n",
    "import re, time"
   ]
  },
  {
   "cell_type": "code",
   "execution_count": null,
   "metadata": {
    "collapsed": true
   },
   "outputs": [],
   "source": [
    "url = \"store.steampowered.com/app/730\""
   ]
  },
  {
   "cell_type": "code",
   "execution_count": 36,
   "metadata": {
    "collapsed": false
   },
   "outputs": [],
   "source": [
    "class ScrapeGameInfo(object):\n",
    "    \n",
    "    def __init__(self, appids):\n",
    "        \n",
    "        self.appids = appids\n",
    "        self.db = None\n",
    "        self.app = None\n",
    "    \n",
    "    \n",
    "    def mongodb_connection(self):\n",
    "        \"\"\"\n",
    "        Connect to MongoDB 'steam'\n",
    "        \"\"\"\n",
    "        client = pymongo.MongoClient()\n",
    "        self.db = client.steam\n",
    "    \n",
    "    \n",
    "    def insert_document(self, dct):\n",
    "        \"\"\"\n",
    "        Insert a player dictionary document in db_name of MongoDB\n",
    "        \"\"\"\n",
    "        self.db.games2.insert_one(dct)\n",
    "    \n",
    "    \n",
    "    def scrape_store(self):\n",
    "        cookies = {\"birthtime\" : \"226815406\"}\n",
    "\n",
    "        for app in self.appids:\n",
    "            game_info_dict = {}\n",
    "            self.app = app\n",
    "            url = \"https://store.steampowered.com/app/\" + str(app)\n",
    "            try:\n",
    "\n",
    "                response = requests.get(url, cookies=cookies)\n",
    "                soup = BeautifulSoup(response.text, \"html.parser\")\n",
    "                reviews = soup.find_all(\"div\", \"block responsive_apppage_reviewblock\")\n",
    "                try:\n",
    "                    release_date = re.findall(r\": ([a-zA-Z0-9, ]+)\\n\", soup.findAll(\"div\", \"release_date\")[0].text)[0]\n",
    "                except IndexError:\n",
    "                    release_date = re.findall(r\": ([a-zA-Z0-9, ]+)\\n\", soup.findAll(\"div\", \"release_date\")[0].text)\n",
    "                try:\n",
    "                    review_num = re.findall(r\"([0-9]+)\\/\", reviews[0].text)[0]\n",
    "                except IndexError:\n",
    "                    reviews = ''.join(list(soup.find_all(\"div\", \"user_reviews_summary_row\")[0].stripped_strings))\n",
    "                    review_num = re.findall(r\"([0-9]+)%\", reviews)[0]\n",
    "                \n",
    "                \n",
    "                \n",
    "                review_status = soup.find_all(\"span\", \"game_review_summary\")[0].text\n",
    "                genre = list(soup.find_all(\"div\", \"glance_tags popular_tags\")[0].stripped_strings)[:-1]\n",
    "                #re.findall(r\"Genre: ([a-zA-Z\\w]+)\", soup.find_all(\"div\", \"details_block\")[0].text)[-1]\n",
    "                try:\n",
    "                    price = re.findall(r\"[0-9\\.]+\", soup.find_all(\"div\", \"game_purchase_price price\")[0].text)[-1]\n",
    "                except IndexError:\n",
    "                    price = \"0\"\n",
    "                game_info_dict[\"appid\"] = app\n",
    "                game_info_dict[\"genre\"] = genre\n",
    "                game_info_dict[\"release_year\"] = release_date\n",
    "                game_info_dict[\"reviews\"] = review_status\n",
    "                game_info_dict[\"price\"] = price\n",
    "                self.insert_document(game_info_dict)\n",
    "                \n",
    "            except requests.ConnectionError:\n",
    "                time.sleep(10)\n",
    "                #print app\n",
    "                response = requests.get(url, cookies=cookies)\n",
    "                #response = re.sub(r\"[\\r\\t\\n]+\", r\" \", response.text)\n",
    "                soup = BeautifulSoup(response.text, \"html.parser\")\n",
    "                reviews = soup.find_all(\"div\", \"block responsive_apppage_reviewblock\")\n",
    "                try:\n",
    "                    release_date = re.findall(r\": ([a-zA-Z0-9, ]+)\\n\", soup.findAll(\"div\", \"release_date\")[0].text)[0]\n",
    "                except IndexError:\n",
    "                    release_date = re.findall(r\": ([a-zA-Z0-9, ]+)\\n\", soup.findAll(\"div\", \"release_date\")[0].text)\n",
    "                try:\n",
    "                    review_num = re.findall(r\"([0-9]+)\\/\", reviews[0].text)[0]\n",
    "                except IndexError:\n",
    "                    reviews = ''.join(list(soup.find_all(\"div\", \"user_reviews_summary_row\")[0].stripped_strings))\n",
    "                    review_num = re.findall(r\"([0-9]+)%\", reviews)[0]\n",
    "                \n",
    "                \n",
    "                \n",
    "                review_status = soup.find_all(\"span\", \"game_review_summary\")[0].text\n",
    "                genre = list(soup.find_all(\"div\", \"glance_tags popular_tags\")[0].stripped_strings)[:-1]\n",
    "                #re.findall(r\"Genre: ([a-zA-Z\\w]+)\", soup.find_all(\"div\", \"details_block\")[0].text)[-1]\n",
    "                try:\n",
    "                    price = re.findall(r\"[0-9\\.]+\", soup.find_all(\"div\", \"game_purchase_price price\")[0].text)[-1]\n",
    "                except IndexError:\n",
    "                    price = \"0\"\n",
    "                game_info_dict[\"appid\"] = app\n",
    "                game_info_dict[\"genre\"] = genre\n",
    "                game_info_dict[\"release_year\"] = release_date\n",
    "                game_info_dict[\"reviews\"] = review_status\n",
    "                game_info_dict[\"price\"] = price\n",
    "                self.insert_document(game_info_dict)\n",
    "                \n",
    "            except (ValueError, IndexError):\n",
    "                #print app\n",
    "                continue\n",
    "                "
   ]
  },
  {
   "cell_type": "code",
   "execution_count": 24,
   "metadata": {
    "collapsed": false
   },
   "outputs": [],
   "source": [
    "url = \"https://store.steampowered.com/app/730\" \n",
    "cookies = {\"birthtime\" : \"226815406\"}\n",
    "\n",
    "response = requests.get(url, cookies=cookies)\n",
    "#response = re.sub(r\"[\\r\\t\\n]+\", r\" \", response.text)\n",
    "soup = BeautifulSoup(response.text, \"html.parser\")\n",
    "\n",
    "release_date = re.findall(r\": ([a-zA-Z0-9, ]+)\\n\", soup.findAll(\"div\", \"release_date\")[0].text)[0]"
   ]
  },
  {
   "cell_type": "code",
   "execution_count": 26,
   "metadata": {
    "collapsed": false
   },
   "outputs": [],
   "source": [
    "review_status = soup.find_all(\"span\", \"game_review_summary\")[0].text\n",
    "genre = list(soup.find_all(\"div\", \"glance_tags popular_tags\")[0].stripped_strings)\n",
    "#re.findall(r\"Genre: ([a-zA-Z\\w]+)\", soup.find_all(\"div\", \"details_block\")[0].text)[-1]\n",
    "\n",
    "price = re.findall(r\"[0-9\\.]+\", soup.find_all(\"div\", \"game_purchase_price price\")[0].text)[-1]"
   ]
  },
  {
   "cell_type": "code",
   "execution_count": 27,
   "metadata": {
    "collapsed": false
   },
   "outputs": [
    {
     "data": {
      "text/plain": [
       "u'Very Positive'"
      ]
     },
     "execution_count": 27,
     "metadata": {},
     "output_type": "execute_result"
    }
   ],
   "source": [
    "review_status"
   ]
  },
  {
   "cell_type": "code",
   "execution_count": 30,
   "metadata": {
    "collapsed": false
   },
   "outputs": [
    {
     "data": {
      "text/plain": [
       "u'Aug 21, 2012'"
      ]
     },
     "execution_count": 30,
     "metadata": {},
     "output_type": "execute_result"
    }
   ],
   "source": [
    "release_date"
   ]
  },
  {
   "cell_type": "code",
   "execution_count": null,
   "metadata": {
    "collapsed": true
   },
   "outputs": [],
   "source": []
  },
  {
   "cell_type": "code",
   "execution_count": null,
   "metadata": {
    "collapsed": true
   },
   "outputs": [],
   "source": []
  },
  {
   "cell_type": "code",
   "execution_count": null,
   "metadata": {
    "collapsed": true
   },
   "outputs": [],
   "source": []
  },
  {
   "cell_type": "code",
   "execution_count": 37,
   "metadata": {
    "collapsed": true
   },
   "outputs": [],
   "source": [
    "scraping = ScrapeGameInfo(game_ids)"
   ]
  },
  {
   "cell_type": "code",
   "execution_count": 38,
   "metadata": {
    "collapsed": false
   },
   "outputs": [],
   "source": [
    "scraping.mongodb_connection()"
   ]
  },
  {
   "cell_type": "code",
   "execution_count": 39,
   "metadata": {
    "collapsed": false
   },
   "outputs": [],
   "source": [
    "scraping.scrape_store()"
   ]
  },
  {
   "cell_type": "code",
   "execution_count": null,
   "metadata": {
    "collapsed": true
   },
   "outputs": [],
   "source": []
  },
  {
   "cell_type": "code",
   "execution_count": null,
   "metadata": {
    "collapsed": true
   },
   "outputs": [],
   "source": []
  },
  {
   "cell_type": "code",
   "execution_count": null,
   "metadata": {
    "collapsed": true
   },
   "outputs": [],
   "source": []
  },
  {
   "cell_type": "code",
   "execution_count": null,
   "metadata": {
    "collapsed": true
   },
   "outputs": [],
   "source": []
  },
  {
   "cell_type": "code",
   "execution_count": null,
   "metadata": {
    "collapsed": true
   },
   "outputs": [],
   "source": []
  },
  {
   "cell_type": "code",
   "execution_count": null,
   "metadata": {
    "collapsed": true
   },
   "outputs": [],
   "source": []
  },
  {
   "cell_type": "code",
   "execution_count": null,
   "metadata": {
    "collapsed": true
   },
   "outputs": [],
   "source": [
    "def scrape_store(self):\n",
    "    cookies = {\"birthtime\" : \"226815406\"}\n",
    "\n",
    "    for app in self.appids:\n",
    "        game_info_dict = {}\n",
    "        self.app = app\n",
    "        url = \"https://store.steampowered.com/app/\" + str(app)\n",
    "        try:\n",
    "\n",
    "            response = requests.get(url, cookies=cookies)\n",
    "            response = re.sub(r\"[\\r\\t\\n]+\", r\" \", response.text)\n",
    "            soup = BeautifulSoup(response, \"html.parser\")\n",
    "            try:\n",
    "                release_date = re.findall(r\": ([a-zA-Z0-9, ]+)\\n\", soup.findAll(\"div\", \"release_date\")[0].text)[0]\n",
    "            except IndexError:\n",
    "                release_date = re.findall(r\"[0-9]{4}\", soup.findAll(\"div\", \"release_date\")[0].text)[0]\n",
    "            review_status = soup.find_all(\"span\", \"game_review_summary\")[0].text\n",
    "            genre = list(soup.find_all(\"div\", \"glance_tags popular_tags\")[0].stripped_strings)\n",
    "            #re.findall(r\"Genre: ([a-zA-Z\\w]+)\", soup.find_all(\"div\", \"details_block\")[0].text)[-1]\n",
    "            try:\n",
    "                price = re.findall(r\"[0-9\\.]+\", soup.find_all(\"div\", \"game_purchase_price price\")[0].text)[-1]\n",
    "            except IndexError:\n",
    "                price = \"0\"\n",
    "            game_info_dict[\"appid\"] = app\n",
    "            game_info_dict[\"genre\"] = genre\n",
    "            game_info_dict[\"release_year\"] = release_year\n",
    "            game_info_dict[\"reviews\"] = review_status\n",
    "            game_info_dict[\"price\"] = price\n"
   ]
  },
  {
   "cell_type": "code",
   "execution_count": 20,
   "metadata": {
    "collapsed": false
   },
   "outputs": [],
   "source": [
    "cookies = {\"birthtime\" : \"226815406\"}\n",
    "url = \"https://store.steampowered.com/app/72850\"\n",
    "response = requests.get(url, cookies=cookies)\n",
    "soup = BeautifulSoup(response.text, \"html.parser\")"
   ]
  },
  {
   "cell_type": "code",
   "execution_count": 18,
   "metadata": {
    "collapsed": false
   },
   "outputs": [
    {
     "data": {
      "text/plain": [
       "[u'FPS',\n",
       " u'Multiplayer',\n",
       " u'Shooter',\n",
       " u'Action',\n",
       " u'Team-Based',\n",
       " u'Competitive',\n",
       " u'Tactical',\n",
       " u'First-Person',\n",
       " u'e-sports',\n",
       " u'PvP',\n",
       " u'Online Co-Op',\n",
       " u'Military',\n",
       " u'Co-op',\n",
       " u'Strategy',\n",
       " u'War',\n",
       " u'Trading',\n",
       " u'Realistic',\n",
       " u'Difficult',\n",
       " u'Fast-Paced',\n",
       " u'Moddable',\n",
       " u'+']"
      ]
     },
     "execution_count": 18,
     "metadata": {},
     "output_type": "execute_result"
    }
   ],
   "source": [
    "list(soup.find_all(\"div\", \"glance_tags popular_tags\")[0].stripped_strings)"
   ]
  },
  {
   "cell_type": "code",
   "execution_count": 11,
   "metadata": {
    "collapsed": false
   },
   "outputs": [
    {
     "data": {
      "text/plain": [
       "526"
      ]
     },
     "execution_count": 11,
     "metadata": {},
     "output_type": "execute_result"
    }
   ],
   "source": [
    "len(game_ids)"
   ]
  },
  {
   "cell_type": "code",
   "execution_count": 16,
   "metadata": {
    "collapsed": false
   },
   "outputs": [
    {
     "ename": "TypeError",
     "evalue": "sequence item 0: expected string, numpy.int64 found",
     "output_type": "error",
     "traceback": [
      "\u001b[0;31m---------------------------------------------------------------------------\u001b[0m",
      "\u001b[0;31mTypeError\u001b[0m                                 Traceback (most recent call last)",
      "\u001b[0;32m<ipython-input-16-f2d907d48232>\u001b[0m in \u001b[0;36m<module>\u001b[0;34m()\u001b[0m\n\u001b[0;32m----> 1\u001b[0;31m \u001b[0;34m\",\"\u001b[0m\u001b[0;34m.\u001b[0m\u001b[0mjoin\u001b[0m\u001b[0;34m(\u001b[0m\u001b[0mgame_ids\u001b[0m\u001b[0;34m)\u001b[0m\u001b[0;34m\u001b[0m\u001b[0m\n\u001b[0m",
      "\u001b[0;31mTypeError\u001b[0m: sequence item 0: expected string, numpy.int64 found"
     ]
    }
   ],
   "source": [
    "\",\".join(game_ids)"
   ]
  },
  {
   "cell_type": "code",
   "execution_count": 38,
   "metadata": {
    "collapsed": false
   },
   "outputs": [],
   "source": [
    "with open(\"my_project/data/top_appids.csv\", \"wb\") as f:\n",
    "    f.write(\",\".join(game_ids))"
   ]
  },
  {
   "cell_type": "code",
   "execution_count": 21,
   "metadata": {
    "collapsed": false
   },
   "outputs": [
    {
     "data": {
      "text/plain": [
       "u'Nov 10, 2011'"
      ]
     },
     "execution_count": 21,
     "metadata": {},
     "output_type": "execute_result"
    }
   ],
   "source": [
    "re.findall(r\": ([a-zA-Z0-9, ]+)\\n\", soup.find_all(\"div\", \"release_date\")[0].text)[0]"
   ]
  },
  {
   "cell_type": "code",
   "execution_count": 46,
   "metadata": {
    "collapsed": false
   },
   "outputs": [
    {
     "ename": "SyntaxError",
     "evalue": "invalid syntax (<ipython-input-46-a79824992c47>, line 1)",
     "output_type": "error",
     "traceback": [
      "\u001b[0;36m  File \u001b[0;32m\"<ipython-input-46-a79824992c47>\"\u001b[0;36m, line \u001b[0;32m1\u001b[0m\n\u001b[0;31m    pd.read_csv(\"my_project/data/top_appids.csv\", delimiter=\",\" header=None)\u001b[0m\n\u001b[0m                                                                     ^\u001b[0m\n\u001b[0;31mSyntaxError\u001b[0m\u001b[0;31m:\u001b[0m invalid syntax\n"
     ]
    }
   ],
   "source": [
    "pd.read_csv(\"my_project/data/top_appids.csv\", delimiter=\",\" header=None)"
   ]
  },
  {
   "cell_type": "code",
   "execution_count": 54,
   "metadata": {
    "collapsed": false
   },
   "outputs": [
    {
     "data": {
      "text/plain": [
       "str"
      ]
     },
     "execution_count": 54,
     "metadata": {},
     "output_type": "execute_result"
    }
   ],
   "source": [
    "pd.DataFrame(game_ids)[0].tolist()[0]"
   ]
  },
  {
   "cell_type": "code",
   "execution_count": 18,
   "metadata": {
    "collapsed": false
   },
   "outputs": [],
   "source": [
    "conn = pymongo.MongoClient()['steam']\n",
    "cursor = conn['games'].find({},{\"_id\":0, \"appid\":1})"
   ]
  },
  {
   "cell_type": "code",
   "execution_count": 19,
   "metadata": {
    "collapsed": true
   },
   "outputs": [],
   "source": [
    "df = pd.DataFrame(list(cursor))"
   ]
  },
  {
   "cell_type": "code",
   "execution_count": 23,
   "metadata": {
    "collapsed": false
   },
   "outputs": [],
   "source": [
    "game_ids = df[\"appid\"].astype(int).tolist()"
   ]
  },
  {
   "cell_type": "code",
   "execution_count": 10,
   "metadata": {
    "collapsed": false
   },
   "outputs": [],
   "source": [
    "df.to_csv(\"my_project/data/top_appids.csv\")"
   ]
  },
  {
   "cell_type": "code",
   "execution_count": 34,
   "metadata": {
    "collapsed": false
   },
   "outputs": [],
   "source": [
    "game_ids = map(lambda x: str(x), game_ids)"
   ]
  },
  {
   "cell_type": "code",
   "execution_count": 48,
   "metadata": {
    "collapsed": false
   },
   "outputs": [
    {
     "data": {
      "text/plain": [
       "'200710\\n,71340\\n,10\\n,219150\\n,20\\n,30\\n,282660\\n,231430\\n,215080\\n,311340\\n,41010\\n,391220\\n,57400\\n,20540\\n,16450\\n,18500\\n,70\\n,22600\\n,235600\\n,344760\\n,20570\\n,102500\\n,43110\\n,209000\\n,333930\\n,41070\\n,20500\\n,268650\\n,107200\\n,268420\\n,365590\\n,319630\\n,243870\\n,24740\\n,108710\\n,26800\\n,20510\\n,209080\\n,391540\\n,9930\\n,242720\\n,221380\\n,295110\\n,102600\\n,239820\\n,110800\\n,268500\\n,202970\\n,220\\n,39140\\n,380\\n,223470\\n,240\\n,233720\\n,104700\\n,108800\\n,10500\\n,32470\\n,65800\\n,241930\\n,209170\\n,282900\\n,24860\\n,207140\\n,109600\\n,39210\\n,300\\n,50\\n,47410\\n,8500\\n,49470\\n,225600\\n,207170\\n,35140\\n,377160\\n,8930\\n,108600\\n,286160\\n,57690\\n,2400\\n,243470\\n,80\\n,289130\\n,49520\\n,227700\\n,201790\\n,209270\\n,4500\\n,113020\\n,24960\\n,242050\\n,203140\\n,293260\\n,400\\n,3480\\n,24980\\n,334230\\n,203160\\n,256410\\n,20900\\n,237990\\n,269210\\n,215470\\n,242760\\n,10680\\n,238010\\n,65980\\n,244160\\n,104900\\n,3830\\n,4550\\n,221640\\n,42160\\n,12750\\n,250320\\n,305620\\n,420\\n,211420\\n,207610\\n,220240\\n,4580\\n,209660\\n,98800\\n,244210\\n,500\\n,47870\\n,219640\\n,274940\\n,64000\\n,72200\\n,238090\\n,201230\\n,203290\\n,41500\\n,550\\n,2600\\n,17500\\n,57900\\n,31280\\n,268850\\n,236090\\n,307780\\n,248390\\n,113420\\n,252490\\n,236110\\n,440\\n,274190\\n,223830\\n,266840\\n,107100\\n,201310\\n,8800\\n,227940\\n,212070\\n,204880\\n,19900\\n,316010\\n,620\\n,383080\\n,630\\n,346900\\n,35450\\n,92800\\n,49600\\n,2700\\n,363970\\n,8850\\n,4760\\n,232090\\n,234140\\n,17520\\n,47780\\n,8870\\n,45740\\n,17080\\n,45760\\n,47810\\n,218230\\n,6860\\n,304930\\n,33230\\n,221910\\n,730\\n,291550\\n,4560\\n,244450\\n,41700\\n,9340\\n,385770\\n,238320\\n,219890\\n,298110\\n,113400\\n,248570\\n,15100\\n,6910\\n,70400\\n,2820\\n,48240\\n,11020\\n,23310\\n,15120\\n,47890\\n,8980\\n,322330\\n,1840\\n,325610\\n,301520\\n,239070\\n,4920\\n,255420\\n,291650\\n,13140\\n,230230\\n,250340\\n,234330\\n,246620\\n,22330\\n,238430\\n,236390\\n,55100\\n,211820\\n,203630\\n,289650\\n,35700\\n,238460\\n,48000\\n,35720\\n,367500\\n,236430\\n,107410\\n,17300\\n,258970\\n,304030\\n,221680\\n,261030\\n,13230\\n,282440\\n,304050\\n,228280\\n,271290\\n,273350\\n,209870\\n,50130\\n,287700\\n,12110\\n,393380\\n,437220\\n,105450\\n,17390\\n,9200\\n,259060\\n,242680\\n,203770\\n,220160\\n,212480\\n,17410\\n,224260\\n,219990\\n,259080\\n,230410\\n,242700\\n,226320\\n,339800\\n,250900\\n,252950\\n,213850\\n,7200\\n,282800\\n,3590\\n,220200\\n,17450\\n,97330\\n,17460\\n,205100\\n,17470\\n,17480\\n,56400\\n,342200\\n,201810\\n,216150\\n,330840\\n,48220\\n,220260\\n,17510\\n,33900\\n,263280\\n,244850\\n,33910\\n,240760\\n,50300\\n,359550\\n,105600\\n,33930\\n,201870\\n,72850\\n,58520\\n,200900\\n,234650\\n,4540\\n,21660\\n,17570\\n,40100\\n,242860\\n,234670\\n,1200\\n,202990\\n,251060\\n,21690\\n,292030\\n,212160\\n,25800\\n,24780\\n,9420\\n,234710\\n,249050\\n,39120\\n,1250\\n,271590\\n,242920\\n,9450\\n,34030\\n,58610\\n,224500\\n,1280\\n,15620\\n,9480\\n,208140\\n,394510\\n,220440\\n,6020\\n,224540\\n,208090\\n,310560\\n,113200\\n,25890\\n,17700\\n,247080\\n,249130\\n,48190\\n,290080\\n,250760\\n,236850\\n,386360\\n,44350\\n,224580\\n,257350\\n,265550\\n,239160\\n,224600\\n,11610\\n,570\\n,7520\\n,99900\\n,202090\\n,238960\\n,212200\\n,370240\\n,226700\\n,241560\\n,39150\\n,402840\\n,13210\\n,265630\\n,215280\\n,200110\\n,245170\\n,239030\\n,34010\\n,50620\\n,261570\\n,373420\\n,335300\\n,380360\\n,24010\\n,232910\\n,91600\\n,3540\\n,282070\\n,214490\\n,413150\\n,48720\\n,214950\\n,257510\\n,200170\\n,7670\\n,206420\\n,218620\\n,427520\\n,300550\\n,261640\\n,262060\\n,304650\\n,204300\\n,200210\\n,212500\\n,226840\\n,225540\\n,34330\\n,220700\\n,222750\\n,214560\\n,20920\\n,239140\\n,4700\\n,78000\\n,226860\\n,12210\\n,374320\\n,378120\\n,91700\\n,237110\\n,218680\\n,48700\\n,278080\\n,259680\\n,200260\\n,204360\\n,7760\\n,22100\\n,12900\\n,208480\\n,273110\\n,32370\\n,239220\\n,24200\\n,21100\\n,206480\\n,292120\\n,7830\\n,9880\\n,10180\\n,339610\\n,222880\\n,206500\\n,310950\\n,233130\\n,9900\\n,24240\\n,251570\\n,42680\\n,433850\\n,372000\\n,42690\\n,208580\\n,212680\\n,264140\\n,265930\\n,42700\\n,42710\\n,219600\\n,322170\\n,255710\\n,63200\\n,6060\\n,306130\\n,282350\\n,239350\\n,274170\\n,237310\\n,7940\\n,102700\\n,208650\\n,253710\\n,65300\\n,22300\\n,235540\\n,333600\\n,233250\\n,323370\\n,22320\\n,233270\\n,216890\\n,3900\\n,200510\\n,214850\\n,3910\\n,313160\\n,22350\\n,321360\\n,210770\\n,12120\\n,221020\\n,40800\\n,22370\\n,10090\\n,22380\\n,55150\\n,221040\\n,245620\\n,237930\\n,320\\n,241540\\n,323470\\n,291480\\n,63380\\n,98200\\n,204100\\n,346010\\n,42910\\n,4000\\n,10150\\n,12200\\n,311210\\n,221100\\n,247730\\n,248820\\n,12220\\n,55230\\n,241600\\n,235460\\n,294860\\n,10190\\n,42960\\n,57300\\n,22490\\n,272350\\n,227300\\n,213670\\n,233450\\n,225260\\n,393420\\n,346110\\n,227320\\n,8190'"
      ]
     },
     "execution_count": 48,
     "metadata": {},
     "output_type": "execute_result"
    }
   ],
   "source": [
    "\",\".join(game_ids)"
   ]
  },
  {
   "cell_type": "code",
   "execution_count": null,
   "metadata": {
    "collapsed": true
   },
   "outputs": [],
   "source": []
  },
  {
   "cell_type": "code",
   "execution_count": null,
   "metadata": {
    "collapsed": true
   },
   "outputs": [],
   "source": []
  },
  {
   "cell_type": "code",
   "execution_count": null,
   "metadata": {
    "collapsed": true
   },
   "outputs": [],
   "source": []
  },
  {
   "cell_type": "code",
   "execution_count": 471,
   "metadata": {
    "collapsed": false
   },
   "outputs": [],
   "source": [
    "to_go = all_games - set(df.appid.tolist())"
   ]
  },
  {
   "cell_type": "code",
   "execution_count": 472,
   "metadata": {
    "collapsed": false
   },
   "outputs": [
    {
     "data": {
      "text/plain": [
       "1698"
      ]
     },
     "execution_count": 472,
     "metadata": {},
     "output_type": "execute_result"
    }
   ],
   "source": [
    "len(to_go)"
   ]
  },
  {
   "cell_type": "code",
   "execution_count": 123,
   "metadata": {
    "collapsed": true
   },
   "outputs": [],
   "source": [
    "conn = pymongo.MongoClient()['steam']\n",
    "cursor = conn['games2'].find({})"
   ]
  },
  {
   "cell_type": "code",
   "execution_count": 124,
   "metadata": {
    "collapsed": false
   },
   "outputs": [],
   "source": [
    "df2 = pd.DataFrame(list(cursor))"
   ]
  },
  {
   "cell_type": "code",
   "execution_count": 125,
   "metadata": {
    "collapsed": false
   },
   "outputs": [],
   "source": [
    "del df2[\"_id\"]"
   ]
  },
  {
   "cell_type": "code",
   "execution_count": 129,
   "metadata": {
    "collapsed": false
   },
   "outputs": [],
   "source": [
    "df2[\"genre_sentence\"] = [\" \".join(genre)[:-1] for genre in df2[\"genre\"]]\n",
    "df2[\"num_tags\"] = [len(genres)-1 for genres in df2[\"genre\"]]"
   ]
  },
  {
   "cell_type": "code",
   "execution_count": 132,
   "metadata": {
    "collapsed": false
   },
   "outputs": [
    {
     "data": {
      "text/html": [
       "<div>\n",
       "<table border=\"1\" class=\"dataframe\">\n",
       "  <thead>\n",
       "    <tr style=\"text-align: right;\">\n",
       "      <th></th>\n",
       "      <th>appid</th>\n",
       "      <th>genre</th>\n",
       "      <th>price</th>\n",
       "      <th>release_year</th>\n",
       "      <th>reviews</th>\n",
       "      <th>genre_sentence</th>\n",
       "      <th>num_tags</th>\n",
       "    </tr>\n",
       "  </thead>\n",
       "  <tbody>\n",
       "    <tr>\n",
       "      <th>0</th>\n",
       "      <td>221540</td>\n",
       "      <td>[Tower Defense, Strategy, Indie, Sci-fi, Co-op...</td>\n",
       "      <td>14.99</td>\n",
       "      <td>2014</td>\n",
       "      <td>Very Positive</td>\n",
       "      <td>Tower Defense Strategy Indie Sci-fi Co-op Spac...</td>\n",
       "      <td>11</td>\n",
       "    </tr>\n",
       "    <tr>\n",
       "      <th>1</th>\n",
       "      <td>287140</td>\n",
       "      <td>[Indie, Simulation, Massively Multiplayer, Cas...</td>\n",
       "      <td>4.99</td>\n",
       "      <td>2015</td>\n",
       "      <td>Mixed</td>\n",
       "      <td>Indie Simulation Massively Multiplayer Casual ...</td>\n",
       "      <td>5</td>\n",
       "    </tr>\n",
       "    <tr>\n",
       "      <th>2</th>\n",
       "      <td>370920</td>\n",
       "      <td>[Action, Indie, Music, Fast-Paced, Difficult, +]</td>\n",
       "      <td>4.99</td>\n",
       "      <td>2015</td>\n",
       "      <td>Very Positive</td>\n",
       "      <td>Action Indie Music Fast-Paced Difficult</td>\n",
       "      <td>5</td>\n",
       "    </tr>\n",
       "    <tr>\n",
       "      <th>3</th>\n",
       "      <td>330100</td>\n",
       "      <td>[Early Access, Action, RPG, Indie, Simulation,...</td>\n",
       "      <td>14.99</td>\n",
       "      <td>2014</td>\n",
       "      <td>Very Positive</td>\n",
       "      <td>Early Access Action RPG Indie Simulation Space</td>\n",
       "      <td>6</td>\n",
       "    </tr>\n",
       "    <tr>\n",
       "      <th>4</th>\n",
       "      <td>425870</td>\n",
       "      <td>[Early Access, Sports, Action, Indie, +]</td>\n",
       "      <td>12.99</td>\n",
       "      <td>2016</td>\n",
       "      <td>Positive</td>\n",
       "      <td>Early Access Sports Action Indie</td>\n",
       "      <td>4</td>\n",
       "    </tr>\n",
       "  </tbody>\n",
       "</table>\n",
       "</div>"
      ],
      "text/plain": [
       "    appid                                              genre  price  \\\n",
       "0  221540  [Tower Defense, Strategy, Indie, Sci-fi, Co-op...  14.99   \n",
       "1  287140  [Indie, Simulation, Massively Multiplayer, Cas...   4.99   \n",
       "2  370920   [Action, Indie, Music, Fast-Paced, Difficult, +]   4.99   \n",
       "3  330100  [Early Access, Action, RPG, Indie, Simulation,...  14.99   \n",
       "4  425870           [Early Access, Sports, Action, Indie, +]  12.99   \n",
       "\n",
       "  release_year        reviews  \\\n",
       "0         2014  Very Positive   \n",
       "1         2015          Mixed   \n",
       "2         2015  Very Positive   \n",
       "3         2014  Very Positive   \n",
       "4         2016       Positive   \n",
       "\n",
       "                                      genre_sentence  num_tags  \n",
       "0  Tower Defense Strategy Indie Sci-fi Co-op Spac...        11  \n",
       "1  Indie Simulation Massively Multiplayer Casual ...         5  \n",
       "2           Action Indie Music Fast-Paced Difficult          5  \n",
       "3    Early Access Action RPG Indie Simulation Space          6  \n",
       "4                  Early Access Sports Action Indie          4  "
      ]
     },
     "execution_count": 132,
     "metadata": {},
     "output_type": "execute_result"
    }
   ],
   "source": [
    "df2.head()"
   ]
  },
  {
   "cell_type": "code",
   "execution_count": 131,
   "metadata": {
    "collapsed": true
   },
   "outputs": [],
   "source": [
    "df2[\"num_tags\"] = [len(genres)-1 for genres in df2[\"genre\"]]"
   ]
  },
  {
   "cell_type": "code",
   "execution_count": 133,
   "metadata": {
    "collapsed": true
   },
   "outputs": [],
   "source": [
    "import matplotlib.pyplot as plt\n",
    "%matplotlib inline"
   ]
  },
  {
   "cell_type": "code",
   "execution_count": 135,
   "metadata": {
    "collapsed": false
   },
   "outputs": [
    {
     "data": {
      "image/png": "[encoded data removed]",
      "text/plain": [
       "<matplotlib.figure.Figure at 0x7f93a53ce850>"
      ]
     },
     "metadata": {},
     "output_type": "display_data"
    }
   ],
   "source": [
    "plt.figure(figsize=(9,7))\n",
    "plt.hist(df2.num_tags, bins=20)\n",
    "plt.show()"
   ]
  },
  {
   "cell_type": "code",
   "execution_count": 147,
   "metadata": {
    "collapsed": true
   },
   "outputs": [],
   "source": [
    "from sklearn.feature_extraction.text import CountVectorizer, TfidfVectorizer\n",
    "from sklearn.cluster import KMeans"
   ]
  },
  {
   "cell_type": "code",
   "execution_count": 140,
   "metadata": {
    "collapsed": true
   },
   "outputs": [],
   "source": [
    "TagCounts = CountVectorizer(stop_words=\"english\")"
   ]
  },
  {
   "cell_type": "code",
   "execution_count": 141,
   "metadata": {
    "collapsed": false
   },
   "outputs": [
    {
     "data": {
      "text/plain": [
       "<8105x346 sparse matrix of type '<type 'numpy.int64'>'\n",
       "\twith 75199 stored elements in Compressed Sparse Row format>"
      ]
     },
     "execution_count": 141,
     "metadata": {},
     "output_type": "execute_result"
    }
   ],
   "source": [
    "TagCounts.fit_transform(df2.genre_sentence)"
   ]
  },
  {
   "cell_type": "code",
   "execution_count": 148,
   "metadata": {
    "collapsed": false
   },
   "outputs": [
    {
     "data": {
      "text/plain": [
       "346"
      ]
     },
     "execution_count": 148,
     "metadata": {},
     "output_type": "execute_result"
    }
   ],
   "source": [
    "len(TagCounts.vocabulary_)"
   ]
  },
  {
   "cell_type": "code",
   "execution_count": null,
   "metadata": {
    "collapsed": true
   },
   "outputs": [],
   "source": []
  },
  {
   "cell_type": "code",
   "execution_count": null,
   "metadata": {
    "collapsed": true
   },
   "outputs": [],
   "source": []
  },
  {
   "cell_type": "code",
   "execution_count": 318,
   "metadata": {
    "collapsed": true
   },
   "outputs": [],
   "source": [
    "all_games = set(total_games.keys())"
   ]
  },
  {
   "cell_type": "code",
   "execution_count": 6,
   "metadata": {
    "collapsed": false
   },
   "outputs": [
    {
     "data": {
      "text/plain": [
       "2268154062.0"
      ]
     },
     "execution_count": 6,
     "metadata": {},
     "output_type": "execute_result"
    }
   ],
   "source": []
  },
  {
   "cell_type": "code",
   "execution_count": 429,
   "metadata": {
    "collapsed": false
   },
   "outputs": [],
   "source": [
    "cookies = {\"birthtime\" : \"226815406\"}\n",
    "        \n",
    "url = \"https://store.steampowered.com/app/231060\"\n",
    "response = requests.get(url, cookies=cookies)\n",
    "response = re.sub(r\"[\\r\\t\\n]+\", r\" \", response.text)\n",
    "#response = re.sub(r\"\\<b\\>\", r\" \", response).strip()\n",
    "soup = BeautifulSoup(response, \"html.parser\")"
   ]
  },
  {
   "cell_type": "code",
   "execution_count": 430,
   "metadata": {
    "collapsed": false
   },
   "outputs": [
    {
     "data": {
      "text/plain": [
       "u'2013'"
      ]
     },
     "execution_count": 430,
     "metadata": {},
     "output_type": "execute_result"
    }
   ],
   "source": [
    "re.findall(r\"[0-9]{4}\", soup.findAll(\"div\", \"release_date\")[0].text)[0]"
   ]
  },
  {
   "cell_type": "code",
   "execution_count": 431,
   "metadata": {
    "collapsed": false
   },
   "outputs": [
    {
     "data": {
      "text/plain": [
       "u'Mixed'"
      ]
     },
     "execution_count": 431,
     "metadata": {},
     "output_type": "execute_result"
    }
   ],
   "source": [
    "soup.find_all(\"span\", \"game_review_summary\")[0].text"
   ]
  },
  {
   "cell_type": "code",
   "execution_count": 432,
   "metadata": {
    "collapsed": false
   },
   "outputs": [
    {
     "data": {
      "text/plain": [
       "u'Free'"
      ]
     },
     "execution_count": 432,
     "metadata": {},
     "output_type": "execute_result"
    }
   ],
   "source": [
    "re.findall(r\"Genre: ([a-zA-Z\\w]+)\", soup.find_all(\"div\", \"details_block\")[0].text)[-1]"
   ]
  },
  {
   "cell_type": "code",
   "execution_count": 433,
   "metadata": {
    "collapsed": false
   },
   "outputs": [
    {
     "ename": "IndexError",
     "evalue": "list index out of range",
     "output_type": "error",
     "traceback": [
      "\u001b[1;31m---------------------------------------------------------------------------\u001b[0m",
      "\u001b[1;31mIndexError\u001b[0m                                Traceback (most recent call last)",
      "\u001b[1;32m<ipython-input-433-db0acbdc3997>\u001b[0m in \u001b[0;36m<module>\u001b[1;34m()\u001b[0m\n\u001b[1;32m----> 1\u001b[1;33m \u001b[0mre\u001b[0m\u001b[1;33m.\u001b[0m\u001b[0mfindall\u001b[0m\u001b[1;33m(\u001b[0m\u001b[1;34mr\"[0-9\\.]+\"\u001b[0m\u001b[1;33m,\u001b[0m \u001b[0msoup\u001b[0m\u001b[1;33m.\u001b[0m\u001b[0mfind_all\u001b[0m\u001b[1;33m(\u001b[0m\u001b[1;34m\"div\"\u001b[0m\u001b[1;33m,\u001b[0m \u001b[1;34m\"game_purchase_price price\"\u001b[0m\u001b[1;33m)\u001b[0m\u001b[1;33m[\u001b[0m\u001b[1;36m0\u001b[0m\u001b[1;33m]\u001b[0m\u001b[1;33m.\u001b[0m\u001b[0mtext\u001b[0m\u001b[1;33m)\u001b[0m\u001b[1;33m[\u001b[0m\u001b[1;33m-\u001b[0m\u001b[1;36m1\u001b[0m\u001b[1;33m]\u001b[0m\u001b[1;33m\u001b[0m\u001b[0m\n\u001b[0m",
      "\u001b[1;31mIndexError\u001b[0m: list index out of range"
     ]
    }
   ],
   "source": [
    "re.findall(r\"[0-9\\.]+\", soup.find_all(\"div\", \"game_purchase_price price\")[0].text)[-1]"
   ]
  },
  {
   "cell_type": "code",
   "execution_count": 406,
   "metadata": {
    "collapsed": false
   },
   "outputs": [
    {
     "data": {
      "text/plain": [
       "'https://store.steampowered.com/app/65500'"
      ]
     },
     "execution_count": 406,
     "metadata": {},
     "output_type": "execute_result"
    }
   ],
   "source": [
    "url"
   ]
  },
  {
   "cell_type": "code",
   "execution_count": null,
   "metadata": {
    "collapsed": true
   },
   "outputs": [],
   "source": []
  },
  {
   "cell_type": "code",
   "execution_count": 226,
   "metadata": {
    "collapsed": false
   },
   "outputs": [],
   "source": [
    "conn = pymongo.MongoClient()['steam']\n",
    "cursor = conn['test'].find({}, {\"_id\":0, \"game_info\":1})"
   ]
  },
  {
   "cell_type": "code",
   "execution_count": 227,
   "metadata": {
    "collapsed": true
   },
   "outputs": [],
   "source": [
    "df = pd.DataFrame(list(cursor))"
   ]
  },
  {
   "cell_type": "code",
   "execution_count": 233,
   "metadata": {
    "collapsed": false
   },
   "outputs": [],
   "source": [
    "df = df[(df[\"game_info\"] != \"empty\") & (df[\"game_info\"] != \"private\")]"
   ]
  },
  {
   "cell_type": "code",
   "execution_count": 239,
   "metadata": {
    "collapsed": false
   },
   "outputs": [],
   "source": [
    "def game_counts(df):\n",
    "    total_games = Counter({})\n",
    "    for user in df[\"game_info\"]:\n",
    "        for game in user:\n",
    "            game_dict = {}\n",
    "            game_dict[str(game[\"appid\"])] = game[\"playtime_forever\"]\n",
    "            total_games.update(game_dict)\n",
    "    return total_games"
   ]
  },
  {
   "cell_type": "code",
   "execution_count": 242,
   "metadata": {
    "collapsed": false
   },
   "outputs": [],
   "source": [
    "total_games = game_counts(df)"
   ]
  },
  {
   "cell_type": "code",
   "execution_count": 244,
   "metadata": {
    "collapsed": false
   },
   "outputs": [],
   "source": [
    "appids = set(total_games.keys())"
   ]
  },
  {
   "cell_type": "code",
   "execution_count": 245,
   "metadata": {
    "collapsed": false
   },
   "outputs": [
    {
     "data": {
      "text/plain": [
       "9822"
      ]
     },
     "execution_count": 245,
     "metadata": {},
     "output_type": "execute_result"
    }
   ],
   "source": [
    "len(appids)"
   ]
  },
  {
   "cell_type": "code",
   "execution_count": 246,
   "metadata": {
    "collapsed": true
   },
   "outputs": [],
   "source": [
    "import matplotlib.pyplot as plt\n",
    "%matplotlib inline"
   ]
  },
  {
   "cell_type": "code",
   "execution_count": null,
   "metadata": {
    "collapsed": true
   },
   "outputs": [],
   "source": []
  },
  {
   "cell_type": "code",
   "execution_count": 297,
   "metadata": {
    "collapsed": false
   },
   "outputs": [
    {
     "data": {
      "text/plain": [
       "True"
      ]
     },
     "execution_count": 297,
     "metadata": {},
     "output_type": "execute_result"
    }
   ],
   "source": [
    "\"8930\" in appids"
   ]
  },
  {
   "cell_type": "code",
   "execution_count": null,
   "metadata": {
    "collapsed": true
   },
   "outputs": [],
   "source": []
  },
  {
   "cell_type": "code",
   "execution_count": null,
   "metadata": {
    "collapsed": true
   },
   "outputs": [],
   "source": []
  },
  {
   "cell_type": "code",
   "execution_count": null,
   "metadata": {
    "collapsed": true
   },
   "outputs": [],
   "source": []
  },
  {
   "cell_type": "code",
   "execution_count": 147,
   "metadata": {
    "collapsed": false
   },
   "outputs": [],
   "source": [
    "df = df[(df[\"game_info\"] != \"empty\") & (df[\"game_info\"] != \"private\")]"
   ]
  },
  {
   "cell_type": "code",
   "execution_count": 149,
   "metadata": {
    "collapsed": false
   },
   "outputs": [],
   "source": [
    "sf = gl.SFrame(df)"
   ]
  },
  {
   "cell_type": "code",
   "execution_count": 129,
   "metadata": {
    "collapsed": false
   },
   "outputs": [],
   "source": [
    "sums = 0\n",
    "for user in df.game_info:\n",
    "    if type(user) != list:\n",
    "        sums += 1"
   ]
  },
  {
   "cell_type": "code",
   "execution_count": 144,
   "metadata": {
    "collapsed": false
   },
   "outputs": [
    {
     "name": "stdout",
     "output_type": "stream",
     "text": [
      "150\n",
      "312\n",
      "338\n",
      "562\n",
      "745\n"
     ]
    }
   ],
   "source": [
    "for i, user in enumerate(df.game_info):\n",
    "    if type(user) != list:\n",
    "        print i"
   ]
  },
  {
   "cell_type": "code",
   "execution_count": 146,
   "metadata": {
    "collapsed": false
   },
   "outputs": [
    {
     "data": {
      "text/plain": [
       "u'empty'"
      ]
     },
     "execution_count": 146,
     "metadata": {},
     "output_type": "execute_result"
    }
   ],
   "source": [
    "df.game_info[312]"
   ]
  },
  {
   "cell_type": "code",
   "execution_count": 139,
   "metadata": {
    "collapsed": true
   },
   "outputs": [],
   "source": [
    "df.reset_bbbindex(drop=True, inplace=True)"
   ]
  },
  {
   "cell_type": "code",
   "execution_count": null,
   "metadata": {
    "collapsed": true
   },
   "outputs": [],
   "source": []
  },
  {
   "cell_type": "code",
   "execution_count": null,
   "metadata": {
    "collapsed": true
   },
   "outputs": [],
   "source": []
  },
  {
   "cell_type": "code",
   "execution_count": null,
   "metadata": {
    "collapsed": true
   },
   "outputs": [],
   "source": []
  },
  {
   "cell_type": "code",
   "execution_count": null,
   "metadata": {
    "collapsed": true
   },
   "outputs": [],
   "source": []
  },
  {
   "cell_type": "code",
   "execution_count": 191,
   "metadata": {
    "collapsed": false
   },
   "outputs": [],
   "source": [
    "def ban_status_sf(sf):   \n",
    "    new_sf = gl.SFrame()\n",
    "    for i in xrange(len(sf[\"steamid\"])):\n",
    "        ban_dict = sf[\"ban_status\"][i]\n",
    "        ban_dict[\"steamid\"] = sf[\"steamid\"][i]\n",
    "        for k, v in ban_dict.iteritems():\n",
    "            ban_dict[k] = [v]\n",
    "        user_sf = gl.SFrame(data=ban_dict, format=\"dict\")\n",
    "        new_sf = new_sf.append(user_sf)\n",
    "    return new_sf"
   ]
  },
  {
   "cell_type": "code",
   "execution_count": 189,
   "metadata": {
    "collapsed": false
   },
   "outputs": [
    {
     "data": {
      "text/html": [
       "<div style=\"max-height:1000px;max-width:1500px;overflow:auto;\"><table frame=\"box\" rules=\"cols\">\n",
       "    <tr>\n",
       "        <th style=\"padding-left: 1em; padding-right: 1em; text-align: center\">ban_status</th>\n",
       "        <th style=\"padding-left: 1em; padding-right: 1em; text-align: center\">friends</th>\n",
       "        <th style=\"padding-left: 1em; padding-right: 1em; text-align: center\">game_info</th>\n",
       "        <th style=\"padding-left: 1em; padding-right: 1em; text-align: center\">steamid</th>\n",
       "    </tr>\n",
       "    <tr>\n",
       "        <td style=\"padding-left: 1em; padding-right: 1em; text-align: center; vertical-align: top\">{'NumberOfGameBans': 0,<br>'NumberOfVACBans': 0, ...</td>\n",
       "        <td style=\"padding-left: 1em; padding-right: 1em; text-align: center; vertical-align: top\">[{'steamid':<br>'76561197960529470', ...</td>\n",
       "        <td style=\"padding-left: 1em; padding-right: 1em; text-align: center; vertical-align: top\">[{'playtime_forever': 30,<br>'playtime_2weeks': 0, ...</td>\n",
       "        <td style=\"padding-left: 1em; padding-right: 1em; text-align: center; vertical-align: top\">76561197963057660</td>\n",
       "    </tr>\n",
       "</table>\n",
       "<table frame=\"box\" rules=\"cols\">\n",
       "    <tr>\n",
       "        <th style=\"padding-left: 1em; padding-right: 1em; text-align: center\">user_info</th>\n",
       "    </tr>\n",
       "    <tr>\n",
       "        <td style=\"padding-left: 1em; padding-right: 1em; text-align: center; vertical-align: top\">{'timecreated':<br>1069996369, 'realname': ...</td>\n",
       "    </tr>\n",
       "</table>\n",
       "[1 rows x 5 columns]<br/>\n",
       "</div>"
      ],
      "text/plain": [
       "Columns:\n",
       "\tban_status\tdict\n",
       "\tfriends\tlist\n",
       "\tgame_info\tlist\n",
       "\tsteamid\tstr\n",
       "\tuser_info\tdict\n",
       "\n",
       "Rows: 1\n",
       "\n",
       "Data:\n",
       "+-------------------------------+-------------------------------+\n",
       "|           ban_status          |            friends            |\n",
       "+-------------------------------+-------------------------------+\n",
       "| {'NumberOfGameBans': 0, 'N... | [{'steamid': '765611979605... |\n",
       "+-------------------------------+-------------------------------+\n",
       "+-------------------------------+-------------------+\n",
       "|           game_info           |      steamid      |\n",
       "+-------------------------------+-------------------+\n",
       "| [{'playtime_forever': 30, ... | 76561197963057660 |\n",
       "+-------------------------------+-------------------+\n",
       "+-------------------------------+\n",
       "|           user_info           |\n",
       "+-------------------------------+\n",
       "| {'timecreated': 1069996369... |\n",
       "+-------------------------------+\n",
       "[1 rows x 5 columns]"
      ]
     },
     "execution_count": 189,
     "metadata": {},
     "output_type": "execute_result"
    }
   ],
   "source": [
    "sf.head(1)"
   ]
  },
  {
   "cell_type": "code",
   "execution_count": 192,
   "metadata": {
    "collapsed": false
   },
   "outputs": [],
   "source": [
    "bans_sf = ban_status_sf(sf)"
   ]
  },
  {
   "cell_type": "code",
   "execution_count": 213,
   "metadata": {
    "collapsed": false
   },
   "outputs": [],
   "source": [
    "def user_info_sf(sf):   \n",
    "    column_names = Counter(dict())\n",
    "    #new_sf = gl.SFrame()\n",
    "    for i in xrange(len(sf[\"steamid\"])):\n",
    "        user_dict = Counter(sf[\"user_info\"][i])\n",
    "        #user_dict[\"steamid\"] = sf[\"steamid\"][i]\n",
    "        #for k, v in user_dict.iteritems():\n",
    "           # user_dict[k] = [v]\n",
    "        column_names.update(user_dict)\n",
    "        \n",
    "        \n",
    "        #user_sf = gl.SFrame(data=user_dict, format=\"dict\")\n",
    "        #new_sf = new_sf.append(user_sf)\n",
    "    return columns"
   ]
  },
  {
   "cell_type": "code",
   "execution_count": 215,
   "metadata": {
    "collapsed": false
   },
   "outputs": [],
   "source": [
    "test1 = Counter({})"
   ]
  },
  {
   "cell_type": "code",
   "execution_count": 221,
   "metadata": {
    "collapsed": false
   },
   "outputs": [
    {
     "ename": "TypeError",
     "evalue": "cannot concatenate 'str' and 'int' objects",
     "output_type": "error",
     "traceback": [
      "\u001b[1;31m---------------------------------------------------------------------------\u001b[0m",
      "\u001b[1;31mTypeError\u001b[0m                                 Traceback (most recent call last)",
      "\u001b[1;32m<ipython-input-221-d8d78d12bce0>\u001b[0m in \u001b[0;36m<module>\u001b[1;34m()\u001b[0m\n\u001b[1;32m----> 1\u001b[1;33m \u001b[0mtest1\u001b[0m \u001b[1;33m+\u001b[0m \u001b[0mCounter\u001b[0m\u001b[1;33m(\u001b[0m\u001b[0msf\u001b[0m\u001b[1;33m[\u001b[0m\u001b[1;34m\"user_info\"\u001b[0m\u001b[1;33m]\u001b[0m\u001b[1;33m[\u001b[0m\u001b[1;36m11\u001b[0m\u001b[1;33m]\u001b[0m\u001b[1;33m)\u001b[0m\u001b[1;33m\u001b[0m\u001b[0m\n\u001b[0m",
      "\u001b[1;32m/home/johnny/anaconda/lib/python2.7/collections.pyc\u001b[0m in \u001b[0;36m__add__\u001b[1;34m(self, other)\u001b[0m\n\u001b[0;32m    630\u001b[0m         \u001b[0mresult\u001b[0m \u001b[1;33m=\u001b[0m \u001b[0mCounter\u001b[0m\u001b[1;33m(\u001b[0m\u001b[1;33m)\u001b[0m\u001b[1;33m\u001b[0m\u001b[0m\n\u001b[0;32m    631\u001b[0m         \u001b[1;32mfor\u001b[0m \u001b[0melem\u001b[0m\u001b[1;33m,\u001b[0m \u001b[0mcount\u001b[0m \u001b[1;32min\u001b[0m \u001b[0mself\u001b[0m\u001b[1;33m.\u001b[0m\u001b[0mitems\u001b[0m\u001b[1;33m(\u001b[0m\u001b[1;33m)\u001b[0m\u001b[1;33m:\u001b[0m\u001b[1;33m\u001b[0m\u001b[0m\n\u001b[1;32m--> 632\u001b[1;33m             \u001b[0mnewcount\u001b[0m \u001b[1;33m=\u001b[0m \u001b[0mcount\u001b[0m \u001b[1;33m+\u001b[0m \u001b[0mother\u001b[0m\u001b[1;33m[\u001b[0m\u001b[0melem\u001b[0m\u001b[1;33m]\u001b[0m\u001b[1;33m\u001b[0m\u001b[0m\n\u001b[0m\u001b[0;32m    633\u001b[0m             \u001b[1;32mif\u001b[0m \u001b[0mnewcount\u001b[0m \u001b[1;33m>\u001b[0m \u001b[1;36m0\u001b[0m\u001b[1;33m:\u001b[0m\u001b[1;33m\u001b[0m\u001b[0m\n\u001b[0;32m    634\u001b[0m                 \u001b[0mresult\u001b[0m\u001b[1;33m[\u001b[0m\u001b[0melem\u001b[0m\u001b[1;33m]\u001b[0m \u001b[1;33m=\u001b[0m \u001b[0mnewcount\u001b[0m\u001b[1;33m\u001b[0m\u001b[0m\n",
      "\u001b[1;31mTypeError\u001b[0m: cannot concatenate 'str' and 'int' objects"
     ]
    }
   ],
   "source": [
    "test1 + Counter(sf[\"user_info\"][11])"
   ]
  },
  {
   "cell_type": "code",
   "execution_count": 220,
   "metadata": {
    "collapsed": false
   },
   "outputs": [
    {
     "data": {
      "text/plain": [
       "Counter({'avatarfull': 'https://steamcdn-a.akamaihd.net/steamcommunity/public/images/avatars/13/137d7d178c8b18d77780354c9ba584ae3ce84ef9_full.jpg',\n",
       "         'commentpermission': 1,\n",
       "         'communityvisibilitystate': 3,\n",
       "         'lastlogoff': 1458949982,\n",
       "         'loccountrycode': 'DE',\n",
       "         'locstatecode': '06',\n",
       "         'personaname': 'Der King is Back !! 63',\n",
       "         'primaryclanid': '103582791429521408',\n",
       "         'profilestate': 1,\n",
       "         'timecreated': 1455801625})"
      ]
     },
     "execution_count": 220,
     "metadata": {},
     "output_type": "execute_result"
    }
   ],
   "source": [
    "test1"
   ]
  },
  {
   "cell_type": "code",
   "execution_count": null,
   "metadata": {
    "collapsed": true
   },
   "outputs": [],
   "source": [
    "p"
   ]
  },
  {
   "cell_type": "code",
   "execution_count": null,
   "metadata": {
    "collapsed": true
   },
   "outputs": [],
   "source": []
  },
  {
   "cell_type": "code",
   "execution_count": null,
   "metadata": {
    "collapsed": true
   },
   "outputs": [],
   "source": []
  },
  {
   "cell_type": "code",
   "execution_count": null,
   "metadata": {
    "collapsed": true
   },
   "outputs": [],
   "source": []
  },
  {
   "cell_type": "code",
   "execution_count": 193,
   "metadata": {
    "collapsed": false
   },
   "outputs": [
    {
     "ename": "RuntimeError",
     "evalue": "Two SFrames have to have the same number of columns",
     "output_type": "error",
     "traceback": [
      "\u001b[1;31m---------------------------------------------------------------------------\u001b[0m",
      "\u001b[1;31mRuntimeError\u001b[0m                              Traceback (most recent call last)",
      "\u001b[1;32m<ipython-input-193-e138aa11c9b8>\u001b[0m in \u001b[0;36m<module>\u001b[1;34m()\u001b[0m\n\u001b[1;32m----> 1\u001b[1;33m \u001b[0muser_sf\u001b[0m \u001b[1;33m=\u001b[0m \u001b[0muser_info_sf\u001b[0m\u001b[1;33m(\u001b[0m\u001b[0msf\u001b[0m\u001b[1;33m)\u001b[0m\u001b[1;33m\u001b[0m\u001b[0m\n\u001b[0m",
      "\u001b[1;32m<ipython-input-190-f9b3a7a00e25>\u001b[0m in \u001b[0;36muser_info_sf\u001b[1;34m(sf)\u001b[0m\n\u001b[0;32m      7\u001b[0m             \u001b[0muser_dict\u001b[0m\u001b[1;33m[\u001b[0m\u001b[0mk\u001b[0m\u001b[1;33m]\u001b[0m \u001b[1;33m=\u001b[0m \u001b[1;33m[\u001b[0m\u001b[0mv\u001b[0m\u001b[1;33m]\u001b[0m\u001b[1;33m\u001b[0m\u001b[0m\n\u001b[0;32m      8\u001b[0m         \u001b[0muser_sf\u001b[0m \u001b[1;33m=\u001b[0m \u001b[0mgl\u001b[0m\u001b[1;33m.\u001b[0m\u001b[0mSFrame\u001b[0m\u001b[1;33m(\u001b[0m\u001b[0mdata\u001b[0m\u001b[1;33m=\u001b[0m\u001b[0muser_dict\u001b[0m\u001b[1;33m,\u001b[0m \u001b[0mformat\u001b[0m\u001b[1;33m=\u001b[0m\u001b[1;34m\"dict\"\u001b[0m\u001b[1;33m)\u001b[0m\u001b[1;33m\u001b[0m\u001b[0m\n\u001b[1;32m----> 9\u001b[1;33m         \u001b[0mnew_sf\u001b[0m \u001b[1;33m=\u001b[0m \u001b[0mnew_sf\u001b[0m\u001b[1;33m.\u001b[0m\u001b[0mappend\u001b[0m\u001b[1;33m(\u001b[0m\u001b[0muser_sf\u001b[0m\u001b[1;33m)\u001b[0m\u001b[1;33m\u001b[0m\u001b[0m\n\u001b[0m\u001b[0;32m     10\u001b[0m     \u001b[1;32mreturn\u001b[0m \u001b[0mnew_sf\u001b[0m\u001b[1;33m\u001b[0m\u001b[0m\n",
      "\u001b[1;32m/home/johnny/anaconda/lib/python2.7/site-packages/graphlab/data_structures/sframe.pyc\u001b[0m in \u001b[0;36mappend\u001b[1;34m(self, other)\u001b[0m\n\u001b[0;32m   4202\u001b[0m         \u001b[0mother_column_names\u001b[0m \u001b[1;33m=\u001b[0m \u001b[0mother\u001b[0m\u001b[1;33m.\u001b[0m\u001b[0mcolumn_names\u001b[0m\u001b[1;33m(\u001b[0m\u001b[1;33m)\u001b[0m\u001b[1;33m\u001b[0m\u001b[0m\n\u001b[0;32m   4203\u001b[0m         \u001b[1;32mif\u001b[0m \u001b[1;33m(\u001b[0m\u001b[0mlen\u001b[0m\u001b[1;33m(\u001b[0m\u001b[0mmy_column_names\u001b[0m\u001b[1;33m)\u001b[0m \u001b[1;33m!=\u001b[0m \u001b[0mlen\u001b[0m\u001b[1;33m(\u001b[0m\u001b[0mother_column_names\u001b[0m\u001b[1;33m)\u001b[0m\u001b[1;33m)\u001b[0m\u001b[1;33m:\u001b[0m\u001b[1;33m\u001b[0m\u001b[0m\n\u001b[1;32m-> 4204\u001b[1;33m             \u001b[1;32mraise\u001b[0m \u001b[0mRuntimeError\u001b[0m\u001b[1;33m(\u001b[0m\u001b[1;34m\"Two SFrames have to have the same number of columns\"\u001b[0m\u001b[1;33m)\u001b[0m\u001b[1;33m\u001b[0m\u001b[0m\n\u001b[0m\u001b[0;32m   4205\u001b[0m \u001b[1;33m\u001b[0m\u001b[0m\n\u001b[0;32m   4206\u001b[0m         \u001b[1;31m# check if the order of column name is the same\u001b[0m\u001b[1;33m\u001b[0m\u001b[1;33m\u001b[0m\u001b[0m\n",
      "\u001b[1;31mRuntimeError\u001b[0m: Two SFrames have to have the same number of columns"
     ]
    }
   ],
   "source": [
    "user_sf = user_info_sf(sf)"
   ]
  },
  {
   "cell_type": "code",
   "execution_count": 182,
   "metadata": {
    "collapsed": true
   },
   "outputs": [],
   "source": [
    "test1 = sf[\"ban_status\"][0]"
   ]
  },
  {
   "cell_type": "code",
   "execution_count": 185,
   "metadata": {
    "collapsed": false
   },
   "outputs": [
    {
     "data": {
      "text/plain": [
       "{'CommunityBanned': [0],\n",
       " 'DaysSinceLastBan': [0],\n",
       " 'EconomyBan': ['none'],\n",
       " 'NumberOfGameBans': [0],\n",
       " 'NumberOfVACBans': [0],\n",
       " 'VACBanned': [0]}"
      ]
     },
     "execution_count": 185,
     "metadata": {},
     "output_type": "execute_result"
    }
   ],
   "source": [
    "test1"
   ]
  },
  {
   "cell_type": "code",
   "execution_count": 184,
   "metadata": {
    "collapsed": false
   },
   "outputs": [],
   "source": [
    "for k, v in test1.iteritems():\n",
    "    test1[k] = [v]"
   ]
  },
  {
   "cell_type": "code",
   "execution_count": 180,
   "metadata": {
    "collapsed": false
   },
   "outputs": [
    {
     "name": "stdout",
     "output_type": "stream",
     "text": [
      "NumberOfGameBans 0\n",
      "NumberOfVACBans 0\n",
      "DaysSinceLastBan 0\n",
      "EconomyBan none\n",
      "VACBanned 0\n",
      "CommunityBanned 0\n"
     ]
    }
   ],
   "source": [
    "for k, v in test1.iteritems():\n",
    "    print k, v"
   ]
  },
  {
   "cell_type": "code",
   "execution_count": 186,
   "metadata": {
    "collapsed": false
   },
   "outputs": [
    {
     "data": {
      "text/html": [
       "<div style=\"max-height:1000px;max-width:1500px;overflow:auto;\"><table frame=\"box\" rules=\"cols\">\n",
       "    <tr>\n",
       "        <th style=\"padding-left: 1em; padding-right: 1em; text-align: center\">CommunityBanned</th>\n",
       "        <th style=\"padding-left: 1em; padding-right: 1em; text-align: center\">DaysSinceLastBan</th>\n",
       "        <th style=\"padding-left: 1em; padding-right: 1em; text-align: center\">EconomyBan</th>\n",
       "        <th style=\"padding-left: 1em; padding-right: 1em; text-align: center\">NumberOfGameBans</th>\n",
       "        <th style=\"padding-left: 1em; padding-right: 1em; text-align: center\">NumberOfVACBans</th>\n",
       "        <th style=\"padding-left: 1em; padding-right: 1em; text-align: center\">VACBanned</th>\n",
       "    </tr>\n",
       "    <tr>\n",
       "        <td style=\"padding-left: 1em; padding-right: 1em; text-align: center; vertical-align: top\">0</td>\n",
       "        <td style=\"padding-left: 1em; padding-right: 1em; text-align: center; vertical-align: top\">0</td>\n",
       "        <td style=\"padding-left: 1em; padding-right: 1em; text-align: center; vertical-align: top\">none</td>\n",
       "        <td style=\"padding-left: 1em; padding-right: 1em; text-align: center; vertical-align: top\">0</td>\n",
       "        <td style=\"padding-left: 1em; padding-right: 1em; text-align: center; vertical-align: top\">0</td>\n",
       "        <td style=\"padding-left: 1em; padding-right: 1em; text-align: center; vertical-align: top\">0</td>\n",
       "    </tr>\n",
       "</table>\n",
       "[1 rows x 6 columns]<br/>\n",
       "</div>"
      ],
      "text/plain": [
       "Columns:\n",
       "\tCommunityBanned\tint\n",
       "\tDaysSinceLastBan\tint\n",
       "\tEconomyBan\tstr\n",
       "\tNumberOfGameBans\tint\n",
       "\tNumberOfVACBans\tint\n",
       "\tVACBanned\tint\n",
       "\n",
       "Rows: 1\n",
       "\n",
       "Data:\n",
       "+-----------------+------------------+------------+------------------+-----------------+\n",
       "| CommunityBanned | DaysSinceLastBan | EconomyBan | NumberOfGameBans | NumberOfVACBans |\n",
       "+-----------------+------------------+------------+------------------+-----------------+\n",
       "|        0        |        0         |    none    |        0         |        0        |\n",
       "+-----------------+------------------+------------+------------------+-----------------+\n",
       "+-----------+\n",
       "| VACBanned |\n",
       "+-----------+\n",
       "|     0     |\n",
       "+-----------+\n",
       "[1 rows x 6 columns]"
      ]
     },
     "execution_count": 186,
     "metadata": {},
     "output_type": "execute_result"
    }
   ],
   "source": [
    "gl.SFrame(data=test1, format=\"dict\")"
   ]
  },
  {
   "cell_type": "code",
   "execution_count": null,
   "metadata": {
    "collapsed": true
   },
   "outputs": [],
   "source": []
  }
 ],
 "metadata": {
  "kernelspec": {
   "display_name": "Python 2",
   "language": "python",
   "name": "python2"
  },
  "language_info": {
   "codemirror_mode": {
    "name": "ipython",
    "version": 2
   },
   "file_extension": ".py",
   "mimetype": "text/x-python",
   "name": "python",
   "nbconvert_exporter": "python",
   "pygments_lexer": "ipython2",
   "version": "2.7.11"
  }
 },
 "nbformat": 4,
 "nbformat_minor": 0
}
